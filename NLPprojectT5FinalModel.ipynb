{
  "cells": [
    {
      "cell_type": "markdown",
      "metadata": {
        "id": "view-in-github",
        "colab_type": "text"
      },
      "source": [
        "<a href=\"https://colab.research.google.com/github/mehakhafeez/NLPprojectweek6/blob/main/NLPprojectT5FinalModel.ipynb\" target=\"_parent\"><img src=\"https://colab.research.google.com/assets/colab-badge.svg\" alt=\"Open In Colab\"/></a>"
      ]
    },
    {
      "cell_type": "code",
      "execution_count": 1,
      "metadata": {
        "colab": {
          "base_uri": "https://localhost:8080/"
        },
        "id": "sVVIKqO254kR",
        "outputId": "f8b5eb20-dbbf-4d8f-ae63-febfbfcfd473"
      },
      "outputs": [
        {
          "output_type": "stream",
          "name": "stdout",
          "text": [
            "Requirement already satisfied: textblob in /usr/local/lib/python3.10/dist-packages (0.17.1)\n",
            "Requirement already satisfied: nltk in /usr/local/lib/python3.10/dist-packages (3.9.1)\n",
            "Collecting rouge-score\n",
            "  Downloading rouge_score-0.1.2.tar.gz (17 kB)\n",
            "  Preparing metadata (setup.py) ... \u001b[?25l\u001b[?25hdone\n",
            "Requirement already satisfied: click in /usr/local/lib/python3.10/dist-packages (from nltk) (8.1.8)\n",
            "Requirement already satisfied: joblib in /usr/local/lib/python3.10/dist-packages (from nltk) (1.4.2)\n",
            "Requirement already satisfied: regex>=2021.8.3 in /usr/local/lib/python3.10/dist-packages (from nltk) (2024.11.6)\n",
            "Requirement already satisfied: tqdm in /usr/local/lib/python3.10/dist-packages (from nltk) (4.67.1)\n",
            "Requirement already satisfied: absl-py in /usr/local/lib/python3.10/dist-packages (from rouge-score) (1.4.0)\n",
            "Requirement already satisfied: numpy in /usr/local/lib/python3.10/dist-packages (from rouge-score) (1.26.4)\n",
            "Requirement already satisfied: six>=1.14.0 in /usr/local/lib/python3.10/dist-packages (from rouge-score) (1.17.0)\n",
            "Building wheels for collected packages: rouge-score\n",
            "  Building wheel for rouge-score (setup.py) ... \u001b[?25l\u001b[?25hdone\n",
            "  Created wheel for rouge-score: filename=rouge_score-0.1.2-py3-none-any.whl size=24935 sha256=159cdad7e4a885e18893541f3f3a55432c4bc3e898a488986b9cabbd3c04be62\n",
            "  Stored in directory: /root/.cache/pip/wheels/5f/dd/89/461065a73be61a532ff8599a28e9beef17985c9e9c31e541b4\n",
            "Successfully built rouge-score\n",
            "Installing collected packages: rouge-score\n",
            "Successfully installed rouge-score-0.1.2\n"
          ]
        }
      ],
      "source": [
        "pip install textblob nltk rouge-score\n"
      ]
    },
    {
      "cell_type": "code",
      "execution_count": 2,
      "metadata": {
        "colab": {
          "base_uri": "https://localhost:8080/"
        },
        "id": "haKB7C9U54kW",
        "outputId": "6858bbcb-c845-40f4-e3f4-bff55c7bea57"
      },
      "outputs": [
        {
          "output_type": "stream",
          "name": "stdout",
          "text": [
            "Requirement already satisfied: rouge-score in /usr/local/lib/python3.10/dist-packages (0.1.2)\n",
            "Requirement already satisfied: absl-py in /usr/local/lib/python3.10/dist-packages (from rouge-score) (1.4.0)\n",
            "Requirement already satisfied: nltk in /usr/local/lib/python3.10/dist-packages (from rouge-score) (3.9.1)\n",
            "Requirement already satisfied: numpy in /usr/local/lib/python3.10/dist-packages (from rouge-score) (1.26.4)\n",
            "Requirement already satisfied: six>=1.14.0 in /usr/local/lib/python3.10/dist-packages (from rouge-score) (1.17.0)\n",
            "Requirement already satisfied: click in /usr/local/lib/python3.10/dist-packages (from nltk->rouge-score) (8.1.8)\n",
            "Requirement already satisfied: joblib in /usr/local/lib/python3.10/dist-packages (from nltk->rouge-score) (1.4.2)\n",
            "Requirement already satisfied: regex>=2021.8.3 in /usr/local/lib/python3.10/dist-packages (from nltk->rouge-score) (2024.11.6)\n",
            "Requirement already satisfied: tqdm in /usr/local/lib/python3.10/dist-packages (from nltk->rouge-score) (4.67.1)\n"
          ]
        }
      ],
      "source": [
        "pip install rouge-score"
      ]
    },
    {
      "cell_type": "code",
      "execution_count": 3,
      "metadata": {
        "colab": {
          "base_uri": "https://localhost:8080/"
        },
        "id": "7PmholTM54kX",
        "outputId": "4684faf0-14df-4c0c-f02a-3e38722d0a80"
      },
      "outputs": [
        {
          "output_type": "stream",
          "name": "stdout",
          "text": [
            "Collecting transformers==4.23.0\n",
            "  Downloading transformers-4.23.0-py3-none-any.whl.metadata (88 kB)\n",
            "\u001b[?25l     \u001b[90m━━━━━━━━━━━━━━━━━━━━━━━━━━━━━━━━━━━━━━━━\u001b[0m \u001b[32m0.0/88.7 kB\u001b[0m \u001b[31m?\u001b[0m eta \u001b[36m-:--:--\u001b[0m\r\u001b[2K     \u001b[90m━━━━━━━━━━━━━━━━━━━━━━━━━━━━━━━━━━━━━━━━\u001b[0m \u001b[32m88.7/88.7 kB\u001b[0m \u001b[31m3.9 MB/s\u001b[0m eta \u001b[36m0:00:00\u001b[0m\n",
            "\u001b[?25hRequirement already satisfied: filelock in /usr/local/lib/python3.10/dist-packages (from transformers==4.23.0) (3.16.1)\n",
            "Requirement already satisfied: huggingface-hub<1.0,>=0.10.0 in /usr/local/lib/python3.10/dist-packages (from transformers==4.23.0) (0.27.1)\n",
            "Requirement already satisfied: numpy>=1.17 in /usr/local/lib/python3.10/dist-packages (from transformers==4.23.0) (1.26.4)\n",
            "Requirement already satisfied: packaging>=20.0 in /usr/local/lib/python3.10/dist-packages (from transformers==4.23.0) (24.2)\n",
            "Requirement already satisfied: pyyaml>=5.1 in /usr/local/lib/python3.10/dist-packages (from transformers==4.23.0) (6.0.2)\n",
            "Requirement already satisfied: regex!=2019.12.17 in /usr/local/lib/python3.10/dist-packages (from transformers==4.23.0) (2024.11.6)\n",
            "Requirement already satisfied: requests in /usr/local/lib/python3.10/dist-packages (from transformers==4.23.0) (2.32.3)\n",
            "Collecting tokenizers!=0.11.3,<0.14,>=0.11.1 (from transformers==4.23.0)\n",
            "  Downloading tokenizers-0.13.3-cp310-cp310-manylinux_2_17_x86_64.manylinux2014_x86_64.whl.metadata (6.7 kB)\n",
            "Requirement already satisfied: tqdm>=4.27 in /usr/local/lib/python3.10/dist-packages (from transformers==4.23.0) (4.67.1)\n",
            "Requirement already satisfied: fsspec>=2023.5.0 in /usr/local/lib/python3.10/dist-packages (from huggingface-hub<1.0,>=0.10.0->transformers==4.23.0) (2024.10.0)\n",
            "Requirement already satisfied: typing-extensions>=3.7.4.3 in /usr/local/lib/python3.10/dist-packages (from huggingface-hub<1.0,>=0.10.0->transformers==4.23.0) (4.12.2)\n",
            "Requirement already satisfied: charset-normalizer<4,>=2 in /usr/local/lib/python3.10/dist-packages (from requests->transformers==4.23.0) (3.4.1)\n",
            "Requirement already satisfied: idna<4,>=2.5 in /usr/local/lib/python3.10/dist-packages (from requests->transformers==4.23.0) (3.10)\n",
            "Requirement already satisfied: urllib3<3,>=1.21.1 in /usr/local/lib/python3.10/dist-packages (from requests->transformers==4.23.0) (2.3.0)\n",
            "Requirement already satisfied: certifi>=2017.4.17 in /usr/local/lib/python3.10/dist-packages (from requests->transformers==4.23.0) (2024.12.14)\n",
            "Downloading transformers-4.23.0-py3-none-any.whl (5.3 MB)\n",
            "\u001b[2K   \u001b[90m━━━━━━━━━━━━━━━━━━━━━━━━━━━━━━━━━━━━━━━━\u001b[0m \u001b[32m5.3/5.3 MB\u001b[0m \u001b[31m22.1 MB/s\u001b[0m eta \u001b[36m0:00:00\u001b[0m\n",
            "\u001b[?25hDownloading tokenizers-0.13.3-cp310-cp310-manylinux_2_17_x86_64.manylinux2014_x86_64.whl (7.8 MB)\n",
            "\u001b[2K   \u001b[90m━━━━━━━━━━━━━━━━━━━━━━━━━━━━━━━━━━━━━━━━\u001b[0m \u001b[32m7.8/7.8 MB\u001b[0m \u001b[31m90.3 MB/s\u001b[0m eta \u001b[36m0:00:00\u001b[0m\n",
            "\u001b[?25hInstalling collected packages: tokenizers, transformers\n",
            "  Attempting uninstall: tokenizers\n",
            "    Found existing installation: tokenizers 0.21.0\n",
            "    Uninstalling tokenizers-0.21.0:\n",
            "      Successfully uninstalled tokenizers-0.21.0\n",
            "  Attempting uninstall: transformers\n",
            "    Found existing installation: transformers 4.47.1\n",
            "    Uninstalling transformers-4.47.1:\n",
            "      Successfully uninstalled transformers-4.47.1\n",
            "\u001b[31mERROR: pip's dependency resolver does not currently take into account all the packages that are installed. This behaviour is the source of the following dependency conflicts.\n",
            "sentence-transformers 3.3.1 requires transformers<5.0.0,>=4.41.0, but you have transformers 4.23.0 which is incompatible.\u001b[0m\u001b[31m\n",
            "\u001b[0mSuccessfully installed tokenizers-0.13.3 transformers-4.23.0\n"
          ]
        }
      ],
      "source": [
        "pip install transformers==4.23.0"
      ]
    },
    {
      "cell_type": "code",
      "execution_count": 4,
      "metadata": {
        "colab": {
          "base_uri": "https://localhost:8080/"
        },
        "id": "ZtOeYd-i54kY",
        "outputId": "16cdf443-0722-4727-d09f-b837529bf21a"
      },
      "outputs": [
        {
          "output_type": "stream",
          "name": "stdout",
          "text": [
            "Collecting sentencepiece==0.1.96\n",
            "  Downloading sentencepiece-0.1.96-cp310-cp310-manylinux_2_17_x86_64.manylinux2014_x86_64.whl.metadata (10 kB)\n",
            "Downloading sentencepiece-0.1.96-cp310-cp310-manylinux_2_17_x86_64.manylinux2014_x86_64.whl (1.2 MB)\n",
            "\u001b[2K   \u001b[90m━━━━━━━━━━━━━━━━━━━━━━━━━━━━━━━━━━━━━━━━\u001b[0m \u001b[32m1.2/1.2 MB\u001b[0m \u001b[31m16.5 MB/s\u001b[0m eta \u001b[36m0:00:00\u001b[0m\n",
            "\u001b[?25hInstalling collected packages: sentencepiece\n",
            "  Attempting uninstall: sentencepiece\n",
            "    Found existing installation: sentencepiece 0.2.0\n",
            "    Uninstalling sentencepiece-0.2.0:\n",
            "      Successfully uninstalled sentencepiece-0.2.0\n",
            "Successfully installed sentencepiece-0.1.96\n"
          ]
        }
      ],
      "source": [
        "pip install sentencepiece==0.1.96"
      ]
    },
    {
      "cell_type": "code",
      "source": [
        "!pip install datasets"
      ],
      "metadata": {
        "colab": {
          "base_uri": "https://localhost:8080/"
        },
        "id": "_Pxu_M7JI0v3",
        "outputId": "4c8e4204-c5c8-425d-b0dc-49f6854711bf"
      },
      "execution_count": 5,
      "outputs": [
        {
          "output_type": "stream",
          "name": "stdout",
          "text": [
            "Collecting datasets\n",
            "  Downloading datasets-3.2.0-py3-none-any.whl.metadata (20 kB)\n",
            "Requirement already satisfied: filelock in /usr/local/lib/python3.10/dist-packages (from datasets) (3.16.1)\n",
            "Requirement already satisfied: numpy>=1.17 in /usr/local/lib/python3.10/dist-packages (from datasets) (1.26.4)\n",
            "Requirement already satisfied: pyarrow>=15.0.0 in /usr/local/lib/python3.10/dist-packages (from datasets) (17.0.0)\n",
            "Collecting dill<0.3.9,>=0.3.0 (from datasets)\n",
            "  Downloading dill-0.3.8-py3-none-any.whl.metadata (10 kB)\n",
            "Requirement already satisfied: pandas in /usr/local/lib/python3.10/dist-packages (from datasets) (2.2.2)\n",
            "Requirement already satisfied: requests>=2.32.2 in /usr/local/lib/python3.10/dist-packages (from datasets) (2.32.3)\n",
            "Requirement already satisfied: tqdm>=4.66.3 in /usr/local/lib/python3.10/dist-packages (from datasets) (4.67.1)\n",
            "Collecting xxhash (from datasets)\n",
            "  Downloading xxhash-3.5.0-cp310-cp310-manylinux_2_17_x86_64.manylinux2014_x86_64.whl.metadata (12 kB)\n",
            "Collecting multiprocess<0.70.17 (from datasets)\n",
            "  Downloading multiprocess-0.70.16-py310-none-any.whl.metadata (7.2 kB)\n",
            "Collecting fsspec<=2024.9.0,>=2023.1.0 (from fsspec[http]<=2024.9.0,>=2023.1.0->datasets)\n",
            "  Downloading fsspec-2024.9.0-py3-none-any.whl.metadata (11 kB)\n",
            "Requirement already satisfied: aiohttp in /usr/local/lib/python3.10/dist-packages (from datasets) (3.11.11)\n",
            "Requirement already satisfied: huggingface-hub>=0.23.0 in /usr/local/lib/python3.10/dist-packages (from datasets) (0.27.1)\n",
            "Requirement already satisfied: packaging in /usr/local/lib/python3.10/dist-packages (from datasets) (24.2)\n",
            "Requirement already satisfied: pyyaml>=5.1 in /usr/local/lib/python3.10/dist-packages (from datasets) (6.0.2)\n",
            "Requirement already satisfied: aiohappyeyeballs>=2.3.0 in /usr/local/lib/python3.10/dist-packages (from aiohttp->datasets) (2.4.4)\n",
            "Requirement already satisfied: aiosignal>=1.1.2 in /usr/local/lib/python3.10/dist-packages (from aiohttp->datasets) (1.3.2)\n",
            "Requirement already satisfied: async-timeout<6.0,>=4.0 in /usr/local/lib/python3.10/dist-packages (from aiohttp->datasets) (4.0.3)\n",
            "Requirement already satisfied: attrs>=17.3.0 in /usr/local/lib/python3.10/dist-packages (from aiohttp->datasets) (24.3.0)\n",
            "Requirement already satisfied: frozenlist>=1.1.1 in /usr/local/lib/python3.10/dist-packages (from aiohttp->datasets) (1.5.0)\n",
            "Requirement already satisfied: multidict<7.0,>=4.5 in /usr/local/lib/python3.10/dist-packages (from aiohttp->datasets) (6.1.0)\n",
            "Requirement already satisfied: propcache>=0.2.0 in /usr/local/lib/python3.10/dist-packages (from aiohttp->datasets) (0.2.1)\n",
            "Requirement already satisfied: yarl<2.0,>=1.17.0 in /usr/local/lib/python3.10/dist-packages (from aiohttp->datasets) (1.18.3)\n",
            "Requirement already satisfied: typing-extensions>=3.7.4.3 in /usr/local/lib/python3.10/dist-packages (from huggingface-hub>=0.23.0->datasets) (4.12.2)\n",
            "Requirement already satisfied: charset-normalizer<4,>=2 in /usr/local/lib/python3.10/dist-packages (from requests>=2.32.2->datasets) (3.4.1)\n",
            "Requirement already satisfied: idna<4,>=2.5 in /usr/local/lib/python3.10/dist-packages (from requests>=2.32.2->datasets) (3.10)\n",
            "Requirement already satisfied: urllib3<3,>=1.21.1 in /usr/local/lib/python3.10/dist-packages (from requests>=2.32.2->datasets) (2.3.0)\n",
            "Requirement already satisfied: certifi>=2017.4.17 in /usr/local/lib/python3.10/dist-packages (from requests>=2.32.2->datasets) (2024.12.14)\n",
            "Requirement already satisfied: python-dateutil>=2.8.2 in /usr/local/lib/python3.10/dist-packages (from pandas->datasets) (2.8.2)\n",
            "Requirement already satisfied: pytz>=2020.1 in /usr/local/lib/python3.10/dist-packages (from pandas->datasets) (2024.2)\n",
            "Requirement already satisfied: tzdata>=2022.7 in /usr/local/lib/python3.10/dist-packages (from pandas->datasets) (2024.2)\n",
            "Requirement already satisfied: six>=1.5 in /usr/local/lib/python3.10/dist-packages (from python-dateutil>=2.8.2->pandas->datasets) (1.17.0)\n",
            "Downloading datasets-3.2.0-py3-none-any.whl (480 kB)\n",
            "\u001b[2K   \u001b[90m━━━━━━━━━━━━━━━━━━━━━━━━━━━━━━━━━━━━━━━━\u001b[0m \u001b[32m480.6/480.6 kB\u001b[0m \u001b[31m13.1 MB/s\u001b[0m eta \u001b[36m0:00:00\u001b[0m\n",
            "\u001b[?25hDownloading dill-0.3.8-py3-none-any.whl (116 kB)\n",
            "\u001b[2K   \u001b[90m━━━━━━━━━━━━━━━━━━━━━━━━━━━━━━━━━━━━━━━━\u001b[0m \u001b[32m116.3/116.3 kB\u001b[0m \u001b[31m11.7 MB/s\u001b[0m eta \u001b[36m0:00:00\u001b[0m\n",
            "\u001b[?25hDownloading fsspec-2024.9.0-py3-none-any.whl (179 kB)\n",
            "\u001b[2K   \u001b[90m━━━━━━━━━━━━━━━━━━━━━━━━━━━━━━━━━━━━━━━━\u001b[0m \u001b[32m179.3/179.3 kB\u001b[0m \u001b[31m15.4 MB/s\u001b[0m eta \u001b[36m0:00:00\u001b[0m\n",
            "\u001b[?25hDownloading multiprocess-0.70.16-py310-none-any.whl (134 kB)\n",
            "\u001b[2K   \u001b[90m━━━━━━━━━━━━━━━━━━━━━━━━━━━━━━━━━━━━━━━━\u001b[0m \u001b[32m134.8/134.8 kB\u001b[0m \u001b[31m13.6 MB/s\u001b[0m eta \u001b[36m0:00:00\u001b[0m\n",
            "\u001b[?25hDownloading xxhash-3.5.0-cp310-cp310-manylinux_2_17_x86_64.manylinux2014_x86_64.whl (194 kB)\n",
            "\u001b[2K   \u001b[90m━━━━━━━━━━━━━━━━━━━━━━━━━━━━━━━━━━━━━━━━\u001b[0m \u001b[32m194.1/194.1 kB\u001b[0m \u001b[31m18.6 MB/s\u001b[0m eta \u001b[36m0:00:00\u001b[0m\n",
            "\u001b[?25hInstalling collected packages: xxhash, fsspec, dill, multiprocess, datasets\n",
            "  Attempting uninstall: fsspec\n",
            "    Found existing installation: fsspec 2024.10.0\n",
            "    Uninstalling fsspec-2024.10.0:\n",
            "      Successfully uninstalled fsspec-2024.10.0\n",
            "\u001b[31mERROR: pip's dependency resolver does not currently take into account all the packages that are installed. This behaviour is the source of the following dependency conflicts.\n",
            "gcsfs 2024.10.0 requires fsspec==2024.10.0, but you have fsspec 2024.9.0 which is incompatible.\n",
            "sentence-transformers 3.3.1 requires transformers<5.0.0,>=4.41.0, but you have transformers 4.23.0 which is incompatible.\u001b[0m\u001b[31m\n",
            "\u001b[0mSuccessfully installed datasets-3.2.0 dill-0.3.8 fsspec-2024.9.0 multiprocess-0.70.16 xxhash-3.5.0\n"
          ]
        }
      ]
    },
    {
      "cell_type": "code",
      "source": [
        "!pip install datasets --upgrade\n",
        "!pip install evaluate"
      ],
      "metadata": {
        "id": "X2emT2ZsS2fT"
      },
      "execution_count": null,
      "outputs": []
    },
    {
      "cell_type": "code",
      "execution_count": 6,
      "metadata": {
        "colab": {
          "base_uri": "https://localhost:8080/"
        },
        "id": "Nyw9DLOu54kY",
        "outputId": "1b10f6e3-5552-4ec8-f676-f7170a7f2ab4"
      },
      "outputs": [
        {
          "output_type": "stream",
          "name": "stderr",
          "text": [
            "[nltk_data] Downloading package punkt to /root/nltk_data...\n",
            "[nltk_data]   Unzipping tokenizers/punkt.zip.\n"
          ]
        }
      ],
      "source": [
        "import pandas as pd\n",
        "import numpy as np\n",
        "from sklearn.feature_extraction.text import TfidfVectorizer\n",
        "from sklearn.cluster import KMeans\n",
        "from sklearn.metrics import accuracy_score, precision_score, recall_score, f1_score, confusion_matrix, classification_report\n",
        "from sklearn.model_selection import train_test_split\n",
        "from sklearn.linear_model import LogisticRegression\n",
        "from sklearn.pipeline import make_pipeline\n",
        "from sklearn.preprocessing import StandardScaler\n",
        "from sklearn.decomposition import PCA\n",
        "from sklearn.naive_bayes import MultinomialNB\n",
        "from textblob import TextBlob\n",
        "from nltk.translate.bleu_score import sentence_bleu\n",
        "from rouge_score import rouge_scorer\n",
        "import matplotlib.pyplot as plt\n",
        "import seaborn as sns\n",
        "from transformers import T5Tokenizer, T5ForConditionalGeneration, Trainer, TrainingArguments\n",
        "import torch\n",
        "import nltk\n",
        "nltk.download('punkt')\n",
        "import seaborn as sns\n",
        "from tqdm import tqdm\n",
        "from torch.utils.data import DataLoader\n",
        "from torch.optim import AdamW\n",
        "from textblob import TextBlob\n",
        "from rouge_score import rouge_scorer\n",
        "import re\n",
        "from nltk.translate.bleu_score import sentence_bleu\n",
        "# Preprocess the text (remove stopwords, special characters, etc.)\n",
        "from nltk.corpus import stopwords\n",
        "from nltk.stem import PorterStemmer"
      ]
    },
    {
      "cell_type": "code",
      "source": [
        "# Download NLTK resources\n",
        "nltk.download('stopwords')\n",
        "nltk.download('punkt')"
      ],
      "metadata": {
        "colab": {
          "base_uri": "https://localhost:8080/"
        },
        "id": "gxbW0mML-yj8",
        "outputId": "56ac99c2-3f3d-4c64-f6ec-e1ef6b84275d"
      },
      "execution_count": 7,
      "outputs": [
        {
          "output_type": "stream",
          "name": "stderr",
          "text": [
            "[nltk_data] Downloading package stopwords to /root/nltk_data...\n",
            "[nltk_data]   Unzipping corpora/stopwords.zip.\n",
            "[nltk_data] Downloading package punkt to /root/nltk_data...\n",
            "[nltk_data]   Package punkt is already up-to-date!\n"
          ]
        },
        {
          "output_type": "execute_result",
          "data": {
            "text/plain": [
              "True"
            ]
          },
          "metadata": {},
          "execution_count": 7
        }
      ]
    },
    {
      "cell_type": "code",
      "execution_count": 8,
      "metadata": {
        "id": "Tr72MGsi54kZ"
      },
      "outputs": [],
      "source": [
        "df1 = pd.read_csv('/content/1429_1.csv', quoting=3, on_bad_lines='skip')\n",
        "# quoting=3 tells pandas to use the QUOTE_NONE strategy. This means that pandas will not treat any character as a quote character. This way if there are unclosed quotes, it ignores them.\n",
        "# on_bad_lines='skip' replaces the deprecated 'error_bad_lines=False' to skip bad lines.\n",
        "df2 = pd.read_csv('/content/Datafiniti_Amazon_Consumer_Reviews_of_Amazon_Products.csv', quoting=3, on_bad_lines='skip')\n",
        "df3 = pd.read_csv('/content/Datafiniti_Amazon_Consumer_Reviews_of_Amazon_Products_May19.csv', quoting=3, on_bad_lines='skip')"
      ]
    },
    {
      "cell_type": "code",
      "execution_count": 9,
      "metadata": {
        "id": "GpAqPs0l54ka"
      },
      "outputs": [],
      "source": [
        "# Combine datasets into one\n",
        "df = pd.concat([df1, df2, df3], ignore_index=True)"
      ]
    },
    {
      "cell_type": "code",
      "source": [
        "# Preprocess the text (remove stopwords, special characters, etc.)\n",
        "\n",
        "def preprocess_text(text):\n",
        "    # Check if the text is a string before processing\n",
        "    if isinstance(text, str):\n",
        "        text = text.lower()\n",
        "        text = re.sub(r'\\d+', '', text)\n",
        "        text = re.sub(r'[^\\w\\s]', '', text)\n",
        "        text = ' '.join([word for word in text.split() if word not in stopwords.words('english')]) # Use stopwords\n",
        "        return text\n",
        "    # If not a string (e.g., float), return it as is or handle it differently\n",
        "    else:\n",
        "        return str(text)  # Or handle NaN values appropriately# --------------------------- Step 2: Data Preprocessing ---------------------------\n",
        "def clean_text(text):\n",
        "    \"\"\"Clean the review text by lowercasing, removing special characters, stopwords, and stemming.\"\"\"\n",
        "    # Check if the input is a string\n",
        "    if isinstance(text, str):\n",
        "        text = text.lower()\n",
        "        text = re.sub(r'[^a-zA-Z\\s]', '', text)  # Remove non-alphabetic characters\n",
        "        text = ' '.join(text.split())  # Remove extra spaces\n",
        "        stop_words = set(stopwords.words('english')) # Use stopwords\n",
        "        text = ' '.join([word for word in text.split() if word not in stop_words])  # Remove stopwords\n",
        "        stemmer = PorterStemmer() # Use PorterStemmer\n",
        "        text = ' '.join([stemmer.stem(word) for word in text.split()])  # Apply stemming\n",
        "        return text\n",
        "    # If not a string, convert it to an empty string or handle it as needed\n",
        "    else:\n",
        "        return ''  # or return str(text) or handle NaN values appropriately"
      ],
      "metadata": {
        "id": "9dqvG5M_AD5n"
      },
      "execution_count": 10,
      "outputs": []
    },
    {
      "cell_type": "code",
      "source": [
        "print(df.columns)"
      ],
      "metadata": {
        "colab": {
          "base_uri": "https://localhost:8080/"
        },
        "id": "RT9YGZ0C3T_i",
        "outputId": "9f5f78db-bcef-4abb-f050-ccb759f17a74"
      },
      "execution_count": 11,
      "outputs": [
        {
          "output_type": "stream",
          "name": "stdout",
          "text": [
            "Index(['id', 'name', 'asins', 'brand', 'categories', 'keys', 'manufacturer',\n",
            "       'reviews.date', 'reviews.dateAdded', 'reviews.dateSeen',\n",
            "       'reviews.didPurchase', 'reviews.doRecommend', 'reviews.id',\n",
            "       'reviews.numHelpful', 'reviews.rating', 'reviews.sourceURLs',\n",
            "       'reviews.text', 'reviews.title', 'reviews.userCity',\n",
            "       'reviews.userProvince', 'reviews.username', 'dateAdded', 'dateUpdated',\n",
            "       'primaryCategories', 'imageURLs', 'manufacturerNumber', 'sourceURLs'],\n",
            "      dtype='object')\n"
          ]
        }
      ]
    },
    {
      "cell_type": "code",
      "source": [
        "reviews_column = 'review'  # Default column name\n",
        "\n",
        "# Dynamically check for the correct review column name\n",
        "if 'reviewText' in df.columns:\n",
        "    reviews_column = 'reviewText'\n",
        "elif 'product_review' in df.columns:\n",
        "    reviews_column = 'product_review'\n",
        "elif 'reviews.text' in df.columns:  # Check if 'reviews.text' is present\n",
        "    reviews_column = 'reviews.text' # Assign 'reviews.text' if found\n",
        "# Add more elif conditions to check for other potential column names if needed\n",
        "\n",
        "\n",
        "# Now you can use reviews_column to access the correct column:\n",
        "df['cleaned_reviews'] = df[reviews_column].apply(clean_text)"
      ],
      "metadata": {
        "id": "tdu89KFu1FJ8"
      },
      "execution_count": 12,
      "outputs": []
    },
    {
      "cell_type": "code",
      "execution_count": 13,
      "metadata": {
        "id": "TO9zPD2a54ka"
      },
      "outputs": [],
      "source": [
        "# Data Cleaning\n",
        "df = df.drop_duplicates() # Changed 'data' to 'df'\n",
        "df = df.dropna(subset=['reviews.text']) # Changed 'data' to 'df'\n",
        "df['reviews.text'] = df['reviews.text'].str.strip() # Changed 'data' to 'df'\n",
        "df['reviews.text'] = df['reviews.text'].str.replace(r'[^a-zA-Z\\s]', '', regex=True) # Changed 'data' to 'df'"
      ]
    },
    {
      "cell_type": "code",
      "execution_count": 14,
      "metadata": {
        "id": "MsYDkHmW54kb"
      },
      "outputs": [],
      "source": [
        "# --------------------------- Step 3: Sentiment Classification with Logistic Regression and Naive Bayes ---------------------------\n",
        "def calculate_sentiment(text):\n",
        "    \"\"\"Calculate sentiment polarity using TextBlob.\"\"\"\n",
        "    sentiment = TextBlob(text).sentiment.polarity\n",
        "    return sentiment\n",
        "\n",
        "df['avg_sentiment'] = df['cleaned_reviews'].apply(calculate_sentiment)\n",
        "\n",
        "def classify_sentiment(score):\n",
        "    \"\"\"Classify sentiment as positive, neutral, or negative.\"\"\"\n",
        "    if score > 0.1:\n",
        "        return 'positive'\n",
        "    elif score < -0.1:\n",
        "        return 'negative'\n",
        "    else:\n",
        "        return 'neutral'\n",
        "\n",
        "df['sentiment'] = df['avg_sentiment'].apply(classify_sentiment)\n"
      ]
    },
    {
      "cell_type": "code",
      "execution_count": 15,
      "metadata": {
        "colab": {
          "base_uri": "https://localhost:8080/"
        },
        "id": "9SSL8lvC54kb",
        "outputId": "9a856e44-066f-4d38-9581-8a9ebad63d69"
      },
      "outputs": [
        {
          "output_type": "stream",
          "name": "stdout",
          "text": [
            "                                        reviews.text sentiment\n",
            "0  This product so far has not disappointed My ch...  positive\n",
            "1  great for beginner or experienced person Bough...  positive\n",
            "2  Ive had my Fire HD  two weeks now and I love i...  positive\n",
            "3  This amazon fire  inch tablet is the perfect s...  positive\n",
            "4  I love ordering books and reading them with th...  positive\n",
            "5  Not easy for elderly users cease of ads that p...   neutral\n",
            "6  Wanted my father to have his first tablet and ...  positive\n",
            "7  Simply does everything I need Thank youAnd sil...   neutral\n",
            "8  Got it as a present and love the size of the s...  positive\n",
            "9  nice reader almost perfect for what i wantneed...  positive\n"
          ]
        }
      ],
      "source": [
        "# Display the first few rows of the dataset with the new 'sentiment' column\n",
        "print(df[[reviews_column, 'sentiment']].head(10))"
      ]
    },
    {
      "cell_type": "code",
      "execution_count": 16,
      "metadata": {
        "id": "BgS2pg9G54kb"
      },
      "outputs": [],
      "source": [
        "# --------------------------- Step 4: Clustering with KMeans ---------------------------\n",
        "vectorizer = TfidfVectorizer(max_features=1000)\n",
        "X = vectorizer.fit_transform(df['cleaned_reviews'])\n",
        "\n",
        "kmeans = KMeans(n_clusters=5, random_state=42)\n",
        "df['cluster'] = kmeans.fit_predict(X)"
      ]
    },
    {
      "cell_type": "code",
      "execution_count": 17,
      "metadata": {
        "id": "fxe-EtH754kc",
        "colab": {
          "base_uri": "https://localhost:8080/",
          "height": 564
        },
        "outputId": "f176ec0e-00ed-473d-a923-6c6a61d04b1a"
      },
      "outputs": [
        {
          "output_type": "display_data",
          "data": {
            "text/plain": [
              "<Figure size 800x600 with 1 Axes>"
            ],
            "image/png": "[encoded data removed]"
          },
          "metadata": {}
        }
      ],
      "source": [
        "# --------------------------- Step 5: Visualizing Clusters ---------------------------\n",
        "# Visualizing the clusters using a scatter plot (2D for simplicity)\n",
        "plt.figure(figsize=(8, 6))\n",
        "sns.scatterplot(x=df['avg_sentiment'], y=df['avg_sentiment'], hue=df['cluster'], palette='viridis', style=df['sentiment'])\n",
        "plt.title(\"Review Clustering Visualization\")\n",
        "plt.xlabel(\"Sentiment Score\")\n",
        "plt.ylabel(\"Sentiment Score\")\n",
        "plt.show()"
      ]
    },
    {
      "cell_type": "code",
      "source": [
        "from sklearn.metrics import silhouette_score\n",
        "\n",
        "X_cluster = vectorizer.fit_transform(df['cleaned_reviews'])\n",
        "kmeans = KMeans(n_clusters=5, random_state=42)\n",
        "df['cluster'] = kmeans.fit_predict(X_cluster)\n",
        "\n",
        "# Evaluate clustering\n",
        "silhouette = silhouette_score(X_cluster, df['cluster'])\n",
        "inertia = kmeans.inertia_\n",
        "print(f\"Clustering Silhouette Score: {silhouette}\")\n",
        "print(f\"Clustering Inertia: {inertia}\")"
      ],
      "metadata": {
        "colab": {
          "base_uri": "https://localhost:8080/"
        },
        "id": "mhuXHJKX7RMN",
        "outputId": "da702f20-90a7-4f6e-c4e4-a24ccb26be3b"
      },
      "execution_count": 18,
      "outputs": [
        {
          "output_type": "stream",
          "name": "stdout",
          "text": [
            "Clustering Silhouette Score: 0.3074750686762235\n",
            "Clustering Inertia: 1255.9523804857838\n"
          ]
        }
      ]
    },
    {
      "cell_type": "code",
      "source": [
        "# Visualize clusters\n",
        "plt.figure(figsize=(10, 6))\n",
        "sns.countplot(x='cluster', data=df)\n",
        "plt.title('Cluster Distribution')\n",
        "plt.show()"
      ],
      "metadata": {
        "colab": {
          "base_uri": "https://localhost:8080/",
          "height": 564
        },
        "id": "_g4fC3qQ7SQw",
        "outputId": "ef3f537b-2eab-4bf3-e94a-96e115433f67"
      },
      "execution_count": 19,
      "outputs": [
        {
          "output_type": "display_data",
          "data": {
            "text/plain": [
              "<Figure size 1000x600 with 1 Axes>"
            ],
            "image/png": "[encoded data removed]"
          },
          "metadata": {}
        }
      ]
    },
    {
      "cell_type": "code",
      "source": [
        "# Check the column names in the dataframe\n",
        "print(df.columns)"
      ],
      "metadata": {
        "colab": {
          "base_uri": "https://localhost:8080/"
        },
        "id": "-Wn0gGj45PBE",
        "outputId": "445cf7fe-63f7-482d-c3b2-93398792136c"
      },
      "execution_count": 20,
      "outputs": [
        {
          "output_type": "stream",
          "name": "stdout",
          "text": [
            "Index(['id', 'name', 'asins', 'brand', 'categories', 'keys', 'manufacturer',\n",
            "       'reviews.date', 'reviews.dateAdded', 'reviews.dateSeen',\n",
            "       'reviews.didPurchase', 'reviews.doRecommend', 'reviews.id',\n",
            "       'reviews.numHelpful', 'reviews.rating', 'reviews.sourceURLs',\n",
            "       'reviews.text', 'reviews.title', 'reviews.userCity',\n",
            "       'reviews.userProvince', 'reviews.username', 'dateAdded', 'dateUpdated',\n",
            "       'primaryCategories', 'imageURLs', 'manufacturerNumber', 'sourceURLs',\n",
            "       'cleaned_reviews', 'avg_sentiment', 'sentiment', 'cluster'],\n",
            "      dtype='object')\n"
          ]
        }
      ]
    },
    {
      "cell_type": "code",
      "source": [
        "# Check the first few rows of the dataset\n",
        "print(df.head())"
      ],
      "metadata": {
        "colab": {
          "base_uri": "https://localhost:8080/"
        },
        "id": "vXCwUEhY4t1U",
        "outputId": "7d4a9951-7c03-451c-bfca-2e33dc0288db"
      },
      "execution_count": 21,
      "outputs": [
        {
          "output_type": "stream",
          "name": "stdout",
          "text": [
            "                  id          name  \\\n",
            "0  amazon/b01ahb9cn2  841667104676   \n",
            "1  amazon/b01ahb9cn2  841667104676   \n",
            "2  amazon/b01ahb9cn2  841667104676   \n",
            "3  amazon/b01ahb9cn2  841667104676   \n",
            "4  amazon/b01ahb9cn2  841667104676   \n",
            "\n",
            "                                               asins  \\\n",
            "0  allnewfirehd8tablet8hddisplaywifi16gbincludess...   \n",
            "1  allnewfirehd8tablet8hddisplaywifi16gbincludess...   \n",
            "2  allnewfirehd8tablet8hddisplaywifi16gbincludess...   \n",
            "3  allnewfirehd8tablet8hddisplaywifi16gbincludess...   \n",
            "4  allnewfirehd8tablet8hddisplaywifi16gbincludess...   \n",
            "\n",
            "                                               brand categories  \\\n",
            "0  allnewfirehd8tablet8hddisplaywifi16gbincludess...     Amazon   \n",
            "1  allnewfirehd8tablet8hddisplaywifi16gbincludess...     Amazon   \n",
            "2  allnewfirehd8tablet8hddisplaywifi16gbincludess...     Amazon   \n",
            "3  allnewfirehd8tablet8hddisplaywifi16gbincludess...     Amazon   \n",
            "4  allnewfirehd8tablet8hddisplaywifi16gbincludess...     Amazon   \n",
            "\n",
            "                       keys          manufacturer               reviews.date  \\\n",
            "0  2017-01-13T00:00:00.000Z  2017-07-03T23:33:15Z  \"2017-06-07T09:04:00.000Z   \n",
            "1  2017-01-13T00:00:00.000Z  2017-07-03T23:33:15Z  \"2017-06-07T09:04:00.000Z   \n",
            "2  2017-01-13T00:00:00.000Z  2017-07-03T23:33:15Z  \"2017-06-07T09:04:00.000Z   \n",
            "3  2017-01-12T00:00:00.000Z  2017-07-03T23:33:15Z  \"2017-06-07T09:04:00.000Z   \n",
            "4  2017-01-23T00:00:00.000Z  2017-07-03T23:28:24Z  \"2017-06-07T09:04:00.000Z   \n",
            "\n",
            "           reviews.dateAdded reviews.dateSeen  ... dateAdded dateUpdated  \\\n",
            "0  2017-04-30T00:45:00.000Z\"              NaN  ...       NaN         NaN   \n",
            "1  2017-04-30T00:45:00.000Z\"              NaN  ...       NaN         NaN   \n",
            "2  2017-04-30T00:45:00.000Z\"              NaN  ...       NaN         NaN   \n",
            "3  2017-04-30T00:45:00.000Z\"              NaN  ...       NaN         NaN   \n",
            "4  2017-04-30T00:44:00.000Z\"              NaN  ...       NaN         NaN   \n",
            "\n",
            "  primaryCategories imageURLs manufacturerNumber sourceURLs  \\\n",
            "0               NaN       NaN                NaN        NaN   \n",
            "1               NaN       NaN                NaN        NaN   \n",
            "2               NaN       NaN                NaN        NaN   \n",
            "3               NaN       NaN                NaN        NaN   \n",
            "4               NaN       NaN                NaN        NaN   \n",
            "\n",
            "                                     cleaned_reviews avg_sentiment  sentiment  \\\n",
            "0  product far disappoint children love use like ...      0.300000   positive   \n",
            "1     great beginn experienc person bought gift love      0.650000   positive   \n",
            "2  ive fire hd two week love tablet great valuew ...      0.295455   positive   \n",
            "3  amazon fire inch tablet perfect size purchas h...      0.566667   positive   \n",
            "4                        love order book read reader      0.500000   positive   \n",
            "\n",
            "  cluster  \n",
            "0       3  \n",
            "1       3  \n",
            "2       0  \n",
            "3       0  \n",
            "4       3  \n",
            "\n",
            "[5 rows x 31 columns]\n"
          ]
        }
      ]
    },
    {
      "cell_type": "code",
      "source": [
        "# Filter for tablets, ebooks, and other product types (replace these keywords as needed)\n",
        "products_of_interest = ['tablet', 'ebook', 'headphones']  # Example product types\n",
        "\n",
        "filtered_df = df[df['name'].str.contains('|'.join(products_of_interest), case=False, na=False)]\n",
        "\n",
        "# Aggregating reviews by product and cluster\n",
        "aggregated_reviews = filtered_df.groupby(['cluster', 'name'])['cleaned_reviews'].apply(lambda x: ' '.join(x)).reset_index()\n",
        "\n",
        "# Show aggregated reviews for these products\n",
        "print(aggregated_reviews.head())"
      ],
      "metadata": {
        "colab": {
          "base_uri": "https://localhost:8080/"
        },
        "id": "noljhdMG7zZJ",
        "outputId": "24fa9ff0-ba0a-4500-cede-fb47807abb5d"
      },
      "execution_count": 22,
      "outputs": [
        {
          "output_type": "stream",
          "name": "stdout",
          "text": [
            "Empty DataFrame\n",
            "Columns: [cluster, name, cleaned_reviews]\n",
            "Index: []\n"
          ]
        }
      ]
    },
    {
      "cell_type": "code",
      "execution_count": 23,
      "metadata": {
        "id": "wG_KBP3g54kc",
        "colab": {
          "base_uri": "https://localhost:8080/"
        },
        "outputId": "600963d9-071f-4917-eb09-0123902d546e"
      },
      "outputs": [
        {
          "output_type": "stream",
          "name": "stdout",
          "text": [
            "   cluster                                               name  \\\n",
            "0        0                                       841667104676   \n",
            "1        1                                       841710106442   \n",
            "2        2                                       841667104676   \n",
            "3        3                                       841667104676   \n",
            "4        3  http://reviews.bestbuy.com/3545/5442403/review...   \n",
            "\n",
            "                                     cleaned_reviews  \n",
            "0  ive fire hd two week love tablet great valuew ...  \n",
            "1  httpswwwamazoncomamazonbasicsperformancealkali...  \n",
            "2  easi elderli user ceas ad pop want father firs...  \n",
            "3  product far disappoint children love use like ...  \n",
            "4  httpreviewsbestbuycomreviewshtmfformatdembedde...  \n"
          ]
        }
      ],
      "source": [
        "# --------------------------- Step 6: Aggregating Reviews by Product and Cluster ---------------------------\n",
        "# Aggregating reviews by product and cluster using the correct column 'name' for the product identifier\n",
        "aggregated_reviews = df.groupby(['cluster', 'name'])['cleaned_reviews'].apply(lambda x: ' '.join(x)).reset_index()\n",
        "\n",
        "# Show the first few aggregated reviews to verify\n",
        "print(aggregated_reviews.head())\n"
      ]
    },
    {
      "cell_type": "code",
      "execution_count": 24,
      "metadata": {
        "id": "IkGsDggg54kc"
      },
      "outputs": [],
      "source": [
        "# --------------------------- Step 7: Ranking Products by Sentiment and Review Frequency ---------------------------\n",
        "aggregated_reviews['avg_sentiment'] = aggregated_reviews['cleaned_reviews'].apply(calculate_sentiment)\n"
      ]
    },
    {
      "cell_type": "code",
      "execution_count": 25,
      "metadata": {
        "id": "SMTw-Y9a54kc"
      },
      "outputs": [],
      "source": [
        "# Calculate average sentiment and review frequency per product\n",
        "ranked_products = aggregated_reviews.groupby(['cluster', 'name']).agg(\n",
        "    avg_sentiment=('cleaned_reviews', lambda x: df[df['name'] == x.name]['sentiment'].mean()),\n",
        "    review_count=('cleaned_reviews', 'count'),\n",
        "    cleaned_reviews=('cleaned_reviews', 'first') # Include 'cleaned_reviews' in agg\n",
        ").reset_index()"
      ]
    },
    {
      "cell_type": "code",
      "source": [
        "# Rank by average sentime# Rank by average sentiment and review count\n",
        "ranked_products = ranked_products.sort_values(by=['cluster', 'avg_sentiment', 'review_count'], ascending=[True, False, False])\n",
        "\n",
        "# Show top products\n",
        "print(ranked_products.head())\n",
        "\n",
        "# Assign the top-ranked products to the top_products variable\n",
        "# Include 'cleaned_reviews' column in the selection\n",
        "top_products = ranked_products[['cluster', 'name', 'cleaned_reviews', 'avg_sentiment', 'review_count']].head() # Assuming you want the top 5 products"
      ],
      "metadata": {
        "colab": {
          "base_uri": "https://localhost:8080/"
        },
        "id": "SZcTt6Tq6VXN",
        "outputId": "607023d8-403f-4b95-fabc-05ce1a973da9"
      },
      "execution_count": 26,
      "outputs": [
        {
          "output_type": "stream",
          "name": "stdout",
          "text": [
            "   cluster                                               name  avg_sentiment  \\\n",
            "0        0                                       841667104676            NaN   \n",
            "1        1                                       841710106442            NaN   \n",
            "2        2                                       841667104676            NaN   \n",
            "3        3                                       841667104676            NaN   \n",
            "4        3  http://reviews.bestbuy.com/3545/5442403/review...            NaN   \n",
            "\n",
            "   review_count                                    cleaned_reviews  \n",
            "0             1  ive fire hd two week love tablet great valuew ...  \n",
            "1             1  httpswwwamazoncomamazonbasicsperformancealkali...  \n",
            "2             1  easi elderli user ceas ad pop want father firs...  \n",
            "3             1  product far disappoint children love use like ...  \n",
            "4             1  httpreviewsbestbuycomreviewshtmfformatdembedde...  \n"
          ]
        }
      ]
    },
    {
      "cell_type": "code",
      "execution_count": 27,
      "metadata": {
        "colab": {
          "base_uri": "https://localhost:8080/",
          "height": 304,
          "referenced_widgets": [
            "5ac3559ef589439f82bbad669640b278",
            "f04b7b6f663f45acb5410422a3a97855",
            "2d292d2356bc4e1ab9ca6da6a062687b",
            "4a48fb0da8e5405f8455d43c34fe2a3c",
            "96bd8a0325bb41d9a8ac84e162f3774e",
            "9b624b3294fe451da24414f09a4bd50b",
            "6089e2ebe303402eb744e6487a6c7fb3",
            "2da30e9ba7334fa6b882732050f73d9a",
            "ce337576be37425c8cb48a5903d1896f",
            "1abb829fd5b8442aa5af26e30a060bb2",
            "06c9fc9f144c42a2aaf0bb0cdc9c1779",
            "426facf7f0984b4fa8825c84997c59ed",
            "5c7ffc0a45714efbacfd8a1d42844bcd",
            "7aee713563c74a18ab8d186613baf592",
            "3df3606eeb8640b68ee72ae3d0c2350e",
            "507a91814a394241a994828903bf872a",
            "abba6805aa1340f0aa7b497c990e61a5",
            "5db615dd35434884a8e4b68469cce753",
            "4617aae27e624a169f74136f1dd15fbe",
            "ba30839ca3e64e4aa70bc72a48d71c3d",
            "8974a0c1b73b4ff5b2344f4c2eae4fcf",
            "5b8bb15419034417af9ef16300c405e0",
            "9bc49716cb0d468aac99a25bef7af2b9",
            "c1e303fd226144dc918ef6654afda69a",
            "4a0f3717ec684223ae7498c8a897f55a",
            "92e10663fe0141839c4e6098b55359f9",
            "bda210f979ff410d9d029ebefcba05e5",
            "e172ca39da564759a96c737af221f11c",
            "ebb995025ace4f608fc6b1f5e33921bf",
            "e0b40a42acb543e38be2c1f37bb991e4",
            "9e763fbab6b14dde9c1ae8aac5b30af8",
            "c22be635fe1449a8abb0329f4249c52a",
            "61622cc9191d49a2a301bcd1935655cf",
            "a9eec6fb115c4f58b79797dd93892e49",
            "015ac18cc3134803bbeb43e55386eeca",
            "89f7ede4133c4c8aa5e3f3f9c51aa75a",
            "5face071bb804b269cd560ea3e8d17a8",
            "85e90b8c98944d7aa4becf060b04436d",
            "4d2da3ce15404b7182f42b49b0100771",
            "d8baf641783246109c0836b481851e22",
            "15482917a11a4914a62f0bdc28b59058",
            "e5ef98fe74e84efb86ac2c8561cdb8ab",
            "d2fa4662c5c7488fa333a0cd16048c47",
            "eb417a0c13944d4cb4a97302e60afaf0"
          ]
        },
        "id": "u7kkLwcB54kc",
        "outputId": "33a103db-0d35-406b-88f5-f0be47568b4e"
      },
      "outputs": [
        {
          "output_type": "stream",
          "name": "stderr",
          "text": [
            "/usr/local/lib/python3.10/dist-packages/huggingface_hub/file_download.py:795: FutureWarning: `resume_download` is deprecated and will be removed in version 1.0.0. Downloads always resume when possible. If you want to force a new download, use `force_download=True`.\n",
            "  warnings.warn(\n",
            "/usr/local/lib/python3.10/dist-packages/huggingface_hub/utils/_auth.py:94: UserWarning: \n",
            "The secret `HF_TOKEN` does not exist in your Colab secrets.\n",
            "To authenticate with the Hugging Face Hub, create a token in your settings tab (https://huggingface.co/settings/tokens), set it as secret in your Google Colab and restart your session.\n",
            "You will be able to reuse this secret in all of your notebooks.\n",
            "Please note that authentication is recommended but still optional to access public models or datasets.\n",
            "  warnings.warn(\n"
          ]
        },
        {
          "output_type": "display_data",
          "data": {
            "text/plain": [
              "spiece.model:   0%|          | 0.00/792k [00:00<?, ?B/s]"
            ],
            "application/vnd.jupyter.widget-view+json": {
              "version_major": 2,
              "version_minor": 0,
              "model_id": "5ac3559ef589439f82bbad669640b278"
            }
          },
          "metadata": {}
        },
        {
          "output_type": "display_data",
          "data": {
            "text/plain": [
              "tokenizer_config.json:   0%|          | 0.00/2.32k [00:00<?, ?B/s]"
            ],
            "application/vnd.jupyter.widget-view+json": {
              "version_major": 2,
              "version_minor": 0,
              "model_id": "426facf7f0984b4fa8825c84997c59ed"
            }
          },
          "metadata": {}
        },
        {
          "output_type": "display_data",
          "data": {
            "text/plain": [
              "config.json:   0%|          | 0.00/1.21k [00:00<?, ?B/s]"
            ],
            "application/vnd.jupyter.widget-view+json": {
              "version_major": 2,
              "version_minor": 0,
              "model_id": "9bc49716cb0d468aac99a25bef7af2b9"
            }
          },
          "metadata": {}
        },
        {
          "output_type": "display_data",
          "data": {
            "text/plain": [
              "model.safetensors:   0%|          | 0.00/242M [00:00<?, ?B/s]"
            ],
            "application/vnd.jupyter.widget-view+json": {
              "version_major": 2,
              "version_minor": 0,
              "model_id": "a9eec6fb115c4f58b79797dd93892e49"
            }
          },
          "metadata": {}
        }
      ],
      "source": [
        "# Load the pre-trained T5 model and tokenizer\n",
        "tokenizer = T5Tokenizer.from_pretrained(\"t5-small\")\n",
        "model = T5ForConditionalGeneration.from_pretrained(\"t5-small\")\n",
        "\n",
        "# Function to summarize reviews\n",
        "def summarize_reviews(reviews):\n",
        "    input_text = f\"summarize: {reviews}\"\n",
        "    inputs = tokenizer(input_text, return_tensors=\"pt\", max_length=512, truncation=True)\n",
        "    summary_ids = model.generate(inputs['input_ids'], max_length=150, num_beams=4, early_stopping=True)\n",
        "    summary = tokenizer.decode(summary_ids[0], skip_special_tokens=True)\n",
        "    return summary\n",
        "\n",
        "# Summarize the reviews for top products\n",
        "top_products['summary'] = top_products['cleaned_reviews'].apply(lambda x: summarize_reviews(x))"
      ]
    },
    {
      "cell_type": "code",
      "source": [
        "# Convert the 'name' column to string type before creating the Dataset\n",
        "top_products['name'] = top_products['name'].astype(str)\n",
        "\n",
        "# Import the Dataset class from the datasets library\n",
        "from datasets import Dataset\n",
        "\n",
        "# Now create the Hugging Face Dataset\n",
        "train_dataset = Dataset.from_pandas(top_products)"
      ],
      "metadata": {
        "id": "6HyiIi_pKt-D"
      },
      "execution_count": 29,
      "outputs": []
    },
    {
      "cell_type": "code",
      "source": [
        "# Convert to Hugging Face dataset format\n",
        "from datasets import Dataset # Import the Dataset class\n",
        "\n",
        "# Assuming top_products is your DataFrame for training\n",
        "train_dataset = Dataset.from_pandas(top_products) # Changed train_data to top_products\n",
        "\n",
        "# Tokenization Function for Fine-Tuning\n",
        "def tokenize_function(examples):\n",
        "    model_inputs = tokenizer(examples['cleaned_reviews'], max_length=512, truncation=True, padding='max_length')  # Changed 'input_text' to 'cleaned_reviews'\n",
        "    labels = tokenizer(examples['summary'], max_length=150, truncation=True, padding='max_length')  # Changed 'target_text' to 'summary'\n",
        "    model_inputs['labels'] = labels['input_ids']\n",
        "    return model_inputs\n",
        "\n",
        "# Tokenize the data\n",
        "tokenized_datasets = train_dataset.map(tokenize_function, batched=True)\n",
        "\n",
        "# Select only the required columns for training\n",
        "tokenized_datasets = tokenized_datasets.remove_columns(['cluster', 'name', 'cleaned_reviews', 'avg_sentiment', 'review_count']) # Remove unnecessary columns\n",
        "\n",
        "\n",
        "# Define the training arguments\n",
        "training_args = TrainingArguments(\n",
        "    output_dir=\"./results\",\n",
        "    evaluation_strategy=\"epoch\",\n",
        "    learning_rate=2e-5,\n",
        "    per_device_train_batch_size=8,\n",
        "    per_device_eval_batch_size=8,\n",
        "    num_train_epochs=3,\n",
        "    weight_decay=0.01,\n",
        "    save_total_limit=2,\n",
        "    remove_unused_columns=False,\n",
        "    logging_dir=\"./logs\",\n",
        "    push_to_hub=False,\n",
        ")\n",
        "\n",
        "# Initialize the Trainer\n",
        "trainer = Trainer(\n",
        "    model=model,\n",
        "    args=training_args,\n",
        "    train_dataset=tokenized_datasets,\n",
        "    eval_dataset=tokenized_datasets,\n",
        ")\n",
        "\n",
        "# Fine-tune the model\n",
        "trainer.train()"
      ],
      "metadata": {
        "colab": {
          "base_uri": "https://localhost:8080/",
          "height": 864,
          "referenced_widgets": [
            "516b9968f1784f049f948cd4ec180328",
            "0ca47bf1b56147a3be39a75db96f3eb4",
            "b9b9df5040474af3b77f732458a891f2",
            "b1c8df5f538f4151a0df542b4b461bb3",
            "72ac44520463466aa8feb6455a7735f2",
            "dee0b9b722b441e6bb0dc59cdef4c531",
            "df9727015c244c28bcb5bfe913bcd30f",
            "e5d47e4382334891a91acbb744fa8f7e",
            "1087f9ad8e1044c6a8864067cc9e4f9f",
            "f65d120bb43a464195bd93c319a07219",
            "5c30a2eb502e49da9991e942a1826f0d"
          ]
        },
        "id": "cf8OMvLmHZro",
        "outputId": "83dbee71-02c1-4a71-8027-a079a129e161"
      },
      "execution_count": 30,
      "outputs": [
        {
          "output_type": "display_data",
          "data": {
            "text/plain": [
              "Map:   0%|          | 0/5 [00:00<?, ? examples/s]"
            ],
            "application/vnd.jupyter.widget-view+json": {
              "version_major": 2,
              "version_minor": 0,
              "model_id": "516b9968f1784f049f948cd4ec180328"
            }
          },
          "metadata": {}
        },
        {
          "output_type": "stream",
          "name": "stderr",
          "text": [
            "/usr/local/lib/python3.10/dist-packages/transformers/optimization.py:306: FutureWarning: This implementation of AdamW is deprecated and will be removed in a future version. Use the PyTorch implementation torch.optim.AdamW instead, or set `no_deprecation_warning=True` to disable this warning\n",
            "  warnings.warn(\n",
            "***** Running training *****\n",
            "  Num examples = 5\n",
            "  Num Epochs = 3\n",
            "  Instantaneous batch size per device = 8\n",
            "  Total train batch size (w. parallel, distributed & accumulation) = 8\n",
            "  Gradient Accumulation steps = 1\n",
            "  Total optimization steps = 3\n",
            "Automatic Weights & Biases logging enabled, to disable set os.environ[\"WANDB_DISABLED\"] = \"true\"\n",
            "\u001b[34m\u001b[1mwandb\u001b[0m: Using wandb-core as the SDK backend.  Please refer to https://wandb.me/wandb-core for more information.\n"
          ]
        },
        {
          "output_type": "display_data",
          "data": {
            "text/plain": [
              "<IPython.core.display.Javascript object>"
            ],
            "application/javascript": [
              "\n",
              "        window._wandbApiKey = new Promise((resolve, reject) => {\n",
              "            function loadScript(url) {\n",
              "            return new Promise(function(resolve, reject) {\n",
              "                let newScript = document.createElement(\"script\");\n",
              "                newScript.onerror = reject;\n",
              "                newScript.onload = resolve;\n",
              "                document.body.appendChild(newScript);\n",
              "                newScript.src = url;\n",
              "            });\n",
              "            }\n",
              "            loadScript(\"https://cdn.jsdelivr.net/npm/postmate/build/postmate.min.js\").then(() => {\n",
              "            const iframe = document.createElement('iframe')\n",
              "            iframe.style.cssText = \"width:0;height:0;border:none\"\n",
              "            document.body.appendChild(iframe)\n",
              "            const handshake = new Postmate({\n",
              "                container: iframe,\n",
              "                url: 'https://wandb.ai/authorize'\n",
              "            });\n",
              "            const timeout = setTimeout(() => reject(\"Couldn't auto authenticate\"), 5000)\n",
              "            handshake.then(function(child) {\n",
              "                child.on('authorize', data => {\n",
              "                    clearTimeout(timeout)\n",
              "                    resolve(data)\n",
              "                });\n",
              "            });\n",
              "            })\n",
              "        });\n",
              "    "
            ]
          },
          "metadata": {}
        },
        {
          "output_type": "stream",
          "name": "stderr",
          "text": [
            "\u001b[34m\u001b[1mwandb\u001b[0m: Logging into wandb.ai. (Learn how to deploy a W&B server locally: https://wandb.me/wandb-server)\n",
            "\u001b[34m\u001b[1mwandb\u001b[0m: You can find your API key in your browser here: https://wandb.ai/authorize\n",
            "wandb: Paste an API key from your profile and hit enter, or press ctrl+c to quit:"
          ]
        },
        {
          "name": "stdout",
          "output_type": "stream",
          "text": [
            " ··········\n"
          ]
        },
        {
          "output_type": "stream",
          "name": "stderr",
          "text": [
            "\u001b[34m\u001b[1mwandb\u001b[0m: Appending key for api.wandb.ai to your netrc file: /root/.netrc\n"
          ]
        },
        {
          "output_type": "display_data",
          "data": {
            "text/plain": [
              "<IPython.core.display.HTML object>"
            ],
            "text/html": [
              "Tracking run with wandb version 0.19.1"
            ]
          },
          "metadata": {}
        },
        {
          "output_type": "display_data",
          "data": {
            "text/plain": [
              "<IPython.core.display.HTML object>"
            ],
            "text/html": [
              "Run data is saved locally in <code>/content/wandb/run-20250109_133900-9jbt9mr7</code>"
            ]
          },
          "metadata": {}
        },
        {
          "output_type": "display_data",
          "data": {
            "text/plain": [
              "<IPython.core.display.HTML object>"
            ],
            "text/html": [
              "Syncing run <strong><a href='https://wandb.ai/mehakgam-ironhack/huggingface/runs/9jbt9mr7' target=\"_blank\">./results</a></strong> to <a href='https://wandb.ai/mehakgam-ironhack/huggingface' target=\"_blank\">Weights & Biases</a> (<a href='https://wandb.me/developer-guide' target=\"_blank\">docs</a>)<br>"
            ]
          },
          "metadata": {}
        },
        {
          "output_type": "display_data",
          "data": {
            "text/plain": [
              "<IPython.core.display.HTML object>"
            ],
            "text/html": [
              " View project at <a href='https://wandb.ai/mehakgam-ironhack/huggingface' target=\"_blank\">https://wandb.ai/mehakgam-ironhack/huggingface</a>"
            ]
          },
          "metadata": {}
        },
        {
          "output_type": "display_data",
          "data": {
            "text/plain": [
              "<IPython.core.display.HTML object>"
            ],
            "text/html": [
              " View run at <a href='https://wandb.ai/mehakgam-ironhack/huggingface/runs/9jbt9mr7' target=\"_blank\">https://wandb.ai/mehakgam-ironhack/huggingface/runs/9jbt9mr7</a>"
            ]
          },
          "metadata": {}
        },
        {
          "output_type": "display_data",
          "data": {
            "text/plain": [
              "<IPython.core.display.HTML object>"
            ],
            "text/html": [
              "\n",
              "    <div>\n",
              "      \n",
              "      <progress value='3' max='3' style='width:300px; height:20px; vertical-align: middle;'></progress>\n",
              "      [3/3 00:01, Epoch 3/3]\n",
              "    </div>\n",
              "    <table border=\"1\" class=\"dataframe\">\n",
              "  <thead>\n",
              " <tr style=\"text-align: left;\">\n",
              "      <th>Epoch</th>\n",
              "      <th>Training Loss</th>\n",
              "      <th>Validation Loss</th>\n",
              "    </tr>\n",
              "  </thead>\n",
              "  <tbody>\n",
              "    <tr>\n",
              "      <td>1</td>\n",
              "      <td>No log</td>\n",
              "      <td>5.123756</td>\n",
              "    </tr>\n",
              "    <tr>\n",
              "      <td>2</td>\n",
              "      <td>No log</td>\n",
              "      <td>5.023389</td>\n",
              "    </tr>\n",
              "    <tr>\n",
              "      <td>3</td>\n",
              "      <td>No log</td>\n",
              "      <td>4.970945</td>\n",
              "    </tr>\n",
              "  </tbody>\n",
              "</table><p>"
            ]
          },
          "metadata": {}
        },
        {
          "output_type": "stream",
          "name": "stderr",
          "text": [
            "***** Running Evaluation *****\n",
            "  Num examples = 5\n",
            "  Batch size = 8\n",
            "***** Running Evaluation *****\n",
            "  Num examples = 5\n",
            "  Batch size = 8\n",
            "***** Running Evaluation *****\n",
            "  Num examples = 5\n",
            "  Batch size = 8\n",
            "\n",
            "\n",
            "Training completed. Do not forget to share your model on huggingface.co/models =)\n",
            "\n",
            "\n"
          ]
        },
        {
          "output_type": "execute_result",
          "data": {
            "text/plain": [
              "TrainOutput(global_step=3, training_loss=5.2241411209106445, metrics={'train_runtime': 26.9497, 'train_samples_per_second': 0.557, 'train_steps_per_second': 0.111, 'total_flos': 2030127022080.0, 'train_loss': 5.2241411209106445, 'epoch': 3.0})"
            ]
          },
          "metadata": {},
          "execution_count": 30
        }
      ]
    },
    {
      "cell_type": "code",
      "execution_count": 31,
      "metadata": {
        "colab": {
          "base_uri": "https://localhost:8080/",
          "height": 981
        },
        "id": "_i9eE-or54kd",
        "outputId": "154cabac-626c-48a2-eb8c-60a8eedd869b"
      },
      "outputs": [
        {
          "output_type": "stream",
          "name": "stdout",
          "text": [
            "Requirement already satisfied: datasets in /usr/local/lib/python3.10/dist-packages (3.2.0)\n",
            "Requirement already satisfied: filelock in /usr/local/lib/python3.10/dist-packages (from datasets) (3.16.1)\n",
            "Requirement already satisfied: numpy>=1.17 in /usr/local/lib/python3.10/dist-packages (from datasets) (1.26.4)\n",
            "Requirement already satisfied: pyarrow>=15.0.0 in /usr/local/lib/python3.10/dist-packages (from datasets) (17.0.0)\n",
            "Requirement already satisfied: dill<0.3.9,>=0.3.0 in /usr/local/lib/python3.10/dist-packages (from datasets) (0.3.8)\n",
            "Requirement already satisfied: pandas in /usr/local/lib/python3.10/dist-packages (from datasets) (2.2.2)\n",
            "Requirement already satisfied: requests>=2.32.2 in /usr/local/lib/python3.10/dist-packages (from datasets) (2.32.3)\n",
            "Requirement already satisfied: tqdm>=4.66.3 in /usr/local/lib/python3.10/dist-packages (from datasets) (4.67.1)\n",
            "Requirement already satisfied: xxhash in /usr/local/lib/python3.10/dist-packages (from datasets) (3.5.0)\n",
            "Requirement already satisfied: multiprocess<0.70.17 in /usr/local/lib/python3.10/dist-packages (from datasets) (0.70.16)\n",
            "Requirement already satisfied: fsspec<=2024.9.0,>=2023.1.0 in /usr/local/lib/python3.10/dist-packages (from fsspec[http]<=2024.9.0,>=2023.1.0->datasets) (2024.9.0)\n",
            "Requirement already satisfied: aiohttp in /usr/local/lib/python3.10/dist-packages (from datasets) (3.11.11)\n",
            "Requirement already satisfied: huggingface-hub>=0.23.0 in /usr/local/lib/python3.10/dist-packages (from datasets) (0.27.1)\n",
            "Requirement already satisfied: packaging in /usr/local/lib/python3.10/dist-packages (from datasets) (24.2)\n",
            "Requirement already satisfied: pyyaml>=5.1 in /usr/local/lib/python3.10/dist-packages (from datasets) (6.0.2)\n",
            "Requirement already satisfied: aiohappyeyeballs>=2.3.0 in /usr/local/lib/python3.10/dist-packages (from aiohttp->datasets) (2.4.4)\n",
            "Requirement already satisfied: aiosignal>=1.1.2 in /usr/local/lib/python3.10/dist-packages (from aiohttp->datasets) (1.3.2)\n",
            "Requirement already satisfied: async-timeout<6.0,>=4.0 in /usr/local/lib/python3.10/dist-packages (from aiohttp->datasets) (4.0.3)\n",
            "Requirement already satisfied: attrs>=17.3.0 in /usr/local/lib/python3.10/dist-packages (from aiohttp->datasets) (24.3.0)\n",
            "Requirement already satisfied: frozenlist>=1.1.1 in /usr/local/lib/python3.10/dist-packages (from aiohttp->datasets) (1.5.0)\n",
            "Requirement already satisfied: multidict<7.0,>=4.5 in /usr/local/lib/python3.10/dist-packages (from aiohttp->datasets) (6.1.0)\n",
            "Requirement already satisfied: propcache>=0.2.0 in /usr/local/lib/python3.10/dist-packages (from aiohttp->datasets) (0.2.1)\n",
            "Requirement already satisfied: yarl<2.0,>=1.17.0 in /usr/local/lib/python3.10/dist-packages (from aiohttp->datasets) (1.18.3)\n",
            "Requirement already satisfied: typing-extensions>=3.7.4.3 in /usr/local/lib/python3.10/dist-packages (from huggingface-hub>=0.23.0->datasets) (4.12.2)\n",
            "Requirement already satisfied: charset-normalizer<4,>=2 in /usr/local/lib/python3.10/dist-packages (from requests>=2.32.2->datasets) (3.4.1)\n",
            "Requirement already satisfied: idna<4,>=2.5 in /usr/local/lib/python3.10/dist-packages (from requests>=2.32.2->datasets) (3.10)\n",
            "Requirement already satisfied: urllib3<3,>=1.21.1 in /usr/local/lib/python3.10/dist-packages (from requests>=2.32.2->datasets) (2.3.0)\n",
            "Requirement already satisfied: certifi>=2017.4.17 in /usr/local/lib/python3.10/dist-packages (from requests>=2.32.2->datasets) (2024.12.14)\n",
            "Requirement already satisfied: python-dateutil>=2.8.2 in /usr/local/lib/python3.10/dist-packages (from pandas->datasets) (2.8.2)\n",
            "Requirement already satisfied: pytz>=2020.1 in /usr/local/lib/python3.10/dist-packages (from pandas->datasets) (2024.2)\n",
            "Requirement already satisfied: tzdata>=2022.7 in /usr/local/lib/python3.10/dist-packages (from pandas->datasets) (2024.2)\n",
            "Requirement already satisfied: six>=1.5 in /usr/local/lib/python3.10/dist-packages (from python-dateutil>=2.8.2->pandas->datasets) (1.17.0)\n"
          ]
        },
        {
          "output_type": "stream",
          "name": "stderr",
          "text": [
            "PyTorch: setting up devices\n",
            "The default value for the training argument `--report_to` will change in v5 (from all installed integrations to none). In v5, you will need to use `--report_to all` to get the same behavior as now. You should start updating your code and make this info disappear :-).\n",
            "/usr/local/lib/python3.10/dist-packages/transformers/optimization.py:306: FutureWarning: This implementation of AdamW is deprecated and will be removed in a future version. Use the PyTorch implementation torch.optim.AdamW instead, or set `no_deprecation_warning=True` to disable this warning\n",
            "  warnings.warn(\n",
            "***** Running training *****\n",
            "  Num examples = 5\n",
            "  Num Epochs = 3\n",
            "  Instantaneous batch size per device = 4\n",
            "  Total train batch size (w. parallel, distributed & accumulation) = 4\n",
            "  Gradient Accumulation steps = 1\n",
            "  Total optimization steps = 6\n",
            "Automatic Weights & Biases logging enabled, to disable set os.environ[\"WANDB_DISABLED\"] = \"true\"\n"
          ]
        },
        {
          "output_type": "display_data",
          "data": {
            "text/plain": [
              "<IPython.core.display.HTML object>"
            ],
            "text/html": [
              "\n",
              "    <div>\n",
              "      \n",
              "      <progress value='6' max='6' style='width:300px; height:20px; vertical-align: middle;'></progress>\n",
              "      [6/6 00:01, Epoch 3/3]\n",
              "    </div>\n",
              "    <table border=\"1\" class=\"dataframe\">\n",
              "  <thead>\n",
              " <tr style=\"text-align: left;\">\n",
              "      <th>Step</th>\n",
              "      <th>Training Loss</th>\n",
              "    </tr>\n",
              "  </thead>\n",
              "  <tbody>\n",
              "  </tbody>\n",
              "</table><p>"
            ]
          },
          "metadata": {}
        },
        {
          "output_type": "stream",
          "name": "stderr",
          "text": [
            "\n",
            "\n",
            "Training completed. Do not forget to share your model on huggingface.co/models =)\n",
            "\n",
            "\n"
          ]
        },
        {
          "output_type": "execute_result",
          "data": {
            "text/plain": [
              "TrainOutput(global_step=6, training_loss=1.5211520195007324, metrics={'train_runtime': 1.35, 'train_samples_per_second': 11.111, 'train_steps_per_second': 4.445, 'total_flos': 2030127022080.0, 'train_loss': 1.5211520195007324, 'epoch': 3.0})"
            ]
          },
          "metadata": {},
          "execution_count": 31
        }
      ],
      "source": [
        "from transformers import Trainer, TrainingArguments, T5Tokenizer, T5ForConditionalGeneration\n",
        "!pip install datasets\n",
        "from datasets import Dataset\n",
        "\n",
        "# Fine-tuning T5 on your dataset\n",
        "train_dataset = [\n",
        "    {\"input_text\": row['cleaned_reviews'], \"output_text\": row['summary']}\n",
        "    for _, row in top_products.iterrows()\n",
        "]\n",
        "\n",
        "# Prepare the dataset\n",
        "train_encodings = tokenizer([example['input_text'] for example in train_dataset], truncation=True, padding=True)\n",
        "train_labels = tokenizer([example['output_text'] for example in train_dataset], truncation=True, padding=True)\n",
        "\n",
        "\n",
        "# Create a Hugging Face Dataset from your encodings and labels\n",
        "train_dataset = Dataset.from_dict({\n",
        "    'input_ids': train_encodings['input_ids'],\n",
        "    'attention_mask': train_encodings['attention_mask'],\n",
        "    'labels': train_labels['input_ids']  # Assuming 'labels' is the key for target encodings\n",
        "})\n",
        "\n",
        "# Train the T5 model\n",
        "training_args = TrainingArguments(\n",
        "    output_dir='./results',\n",
        "    num_train_epochs=3,\n",
        "    per_device_train_batch_size=4,\n",
        "    logging_dir='./logs',\n",
        ")\n",
        "\n",
        "trainer = Trainer(\n",
        "    model=model,\n",
        "    args=training_args,\n",
        "    train_dataset=train_dataset,     # Pass the Hugging Face Dataset here\n",
        ")\n",
        "\n",
        "trainer.train()"
      ]
    },
    {
      "cell_type": "code",
      "execution_count": 32,
      "metadata": {
        "id": "V3O3S5u_54kd"
      },
      "outputs": [],
      "source": [
        "# --------------------------- Step 10: Model Training and Evaluation ---------------------------\n",
        "X_train, X_test, y_train, y_test = train_test_split(df['cleaned_reviews'], df['sentiment'], test_size=0.2, random_state=42)\n",
        "vectorizer = TfidfVectorizer(max_features=1000)\n",
        "X_train_vec = vectorizer.fit_transform(X_train)\n",
        "X_test_vec = vectorizer.transform(X_test)"
      ]
    },
    {
      "cell_type": "code",
      "execution_count": 33,
      "metadata": {
        "id": "JGAnnZMo54kd"
      },
      "outputs": [],
      "source": [
        "# Logistic Regression Model\n",
        "log_reg_model = LogisticRegression(max_iter=1000)\n",
        "log_reg_model.fit(X_train_vec, y_train)\n",
        "y_pred_log_reg = log_reg_model.predict(X_test_vec)"
      ]
    },
    {
      "cell_type": "code",
      "execution_count": 34,
      "metadata": {
        "colab": {
          "base_uri": "https://localhost:8080/"
        },
        "id": "yUjEcbyC54ke",
        "outputId": "15da9208-f981-4e97-ca42-a4a8612cdbd4"
      },
      "outputs": [
        {
          "output_type": "stream",
          "name": "stdout",
          "text": [
            "Logistic Regression Classification Report\n",
            "              precision    recall  f1-score   support\n",
            "\n",
            "    negative       0.00      0.00      0.00         9\n",
            "     neutral       0.96      0.80      0.87       173\n",
            "    positive       0.83      0.99      0.91       204\n",
            "\n",
            "    accuracy                           0.88       386\n",
            "   macro avg       0.60      0.60      0.59       386\n",
            "weighted avg       0.87      0.88      0.87       386\n",
            "\n"
          ]
        },
        {
          "output_type": "stream",
          "name": "stderr",
          "text": [
            "/usr/local/lib/python3.10/dist-packages/sklearn/metrics/_classification.py:1565: UndefinedMetricWarning: Precision is ill-defined and being set to 0.0 in labels with no predicted samples. Use `zero_division` parameter to control this behavior.\n",
            "  _warn_prf(average, modifier, f\"{metric.capitalize()} is\", len(result))\n",
            "/usr/local/lib/python3.10/dist-packages/sklearn/metrics/_classification.py:1565: UndefinedMetricWarning: Precision is ill-defined and being set to 0.0 in labels with no predicted samples. Use `zero_division` parameter to control this behavior.\n",
            "  _warn_prf(average, modifier, f\"{metric.capitalize()} is\", len(result))\n",
            "/usr/local/lib/python3.10/dist-packages/sklearn/metrics/_classification.py:1565: UndefinedMetricWarning: Precision is ill-defined and being set to 0.0 in labels with no predicted samples. Use `zero_division` parameter to control this behavior.\n",
            "  _warn_prf(average, modifier, f\"{metric.capitalize()} is\", len(result))\n"
          ]
        }
      ],
      "source": [
        "# Classification Evaluation\n",
        "print(\"Logistic Regression Classification Report\")\n",
        "print(classification_report(y_test, y_pred_log_reg))"
      ]
    },
    {
      "cell_type": "code",
      "source": [
        "# Confusion Matrix for Logistic Regression\n",
        "conf_matrix_log_reg = confusion_matrix(y_test, y_pred_log_reg)\n",
        "\n",
        "# Calculate y_pred_nb before using it in the confusion matrix calculation\n",
        "# Naive Bayes Model\n",
        "nb_model = MultinomialNB()\n",
        "nb_model.fit(X_train_vec, y_train)\n",
        "y_pred_nb = nb_model.predict(X_test_vec)\n",
        "\n",
        "# Now calculate the confusion matrix for Naive Bayes\n",
        "conf_matrix_nb = confusion_matrix(y_test, y_pred_nb)\n",
        "\n",
        "# Plot Confusion Matrix\n",
        "plt.figure(figsize=(6, 4))\n",
        "sns.heatmap(conf_matrix_log_reg, annot=True, fmt='d', cmap='Blues', xticklabels=['Negative', 'Neutral', 'Positive'], yticklabels=['Negative', 'Neutral', 'Positive'])\n",
        "plt.title(\"Confusion Matrix: Logistic Regression\")\n",
        "plt.xlabel(\"Predicted\")\n",
        "plt.ylabel(\"Actual\")\n",
        "plt.show()"
      ],
      "metadata": {
        "id": "GO5zWlQOAQZx",
        "colab": {
          "base_uri": "https://localhost:8080/",
          "height": 410
        },
        "outputId": "e8288d51-7efb-4ee5-a415-6cc5a46ba9a4"
      },
      "execution_count": 35,
      "outputs": [
        {
          "output_type": "display_data",
          "data": {
            "text/plain": [
              "<Figure size 600x400 with 2 Axes>"
            ],
            "image/png": "[encoded data removed]"
          },
          "metadata": {}
        }
      ]
    },
    {
      "cell_type": "code",
      "execution_count": 36,
      "metadata": {
        "id": "fjhRxG8U54ke"
      },
      "outputs": [],
      "source": [
        "# Naive Bayes Model\n",
        "nb_model = MultinomialNB()\n",
        "nb_model.fit(X_train_vec, y_train)\n",
        "y_pred_nb = nb_model.predict(X_test_vec)"
      ]
    },
    {
      "cell_type": "code",
      "execution_count": 37,
      "metadata": {
        "id": "OG23dfWn54kf",
        "colab": {
          "base_uri": "https://localhost:8080/"
        },
        "outputId": "36599f91-036f-48ad-d7ae-ae588865e572"
      },
      "outputs": [
        {
          "output_type": "stream",
          "name": "stdout",
          "text": [
            "Naive Bayes Classification Report\n",
            "              precision    recall  f1-score   support\n",
            "\n",
            "    negative       0.00      0.00      0.00         9\n",
            "     neutral       0.98      0.73      0.84       173\n",
            "    positive       0.79      1.00      0.89       204\n",
            "\n",
            "    accuracy                           0.86       386\n",
            "   macro avg       0.59      0.58      0.58       386\n",
            "weighted avg       0.86      0.86      0.84       386\n",
            "\n"
          ]
        },
        {
          "output_type": "stream",
          "name": "stderr",
          "text": [
            "/usr/local/lib/python3.10/dist-packages/sklearn/metrics/_classification.py:1565: UndefinedMetricWarning: Precision is ill-defined and being set to 0.0 in labels with no predicted samples. Use `zero_division` parameter to control this behavior.\n",
            "  _warn_prf(average, modifier, f\"{metric.capitalize()} is\", len(result))\n",
            "/usr/local/lib/python3.10/dist-packages/sklearn/metrics/_classification.py:1565: UndefinedMetricWarning: Precision is ill-defined and being set to 0.0 in labels with no predicted samples. Use `zero_division` parameter to control this behavior.\n",
            "  _warn_prf(average, modifier, f\"{metric.capitalize()} is\", len(result))\n",
            "/usr/local/lib/python3.10/dist-packages/sklearn/metrics/_classification.py:1565: UndefinedMetricWarning: Precision is ill-defined and being set to 0.0 in labels with no predicted samples. Use `zero_division` parameter to control this behavior.\n",
            "  _warn_prf(average, modifier, f\"{metric.capitalize()} is\", len(result))\n"
          ]
        }
      ],
      "source": [
        "print(\"Naive Bayes Classification Report\")\n",
        "print(classification_report(y_test, y_pred_nb))"
      ]
    },
    {
      "cell_type": "code",
      "source": [
        "# Confusion Matrix\n",
        "conf_matrix_log_reg = confusion_matrix(y_test, y_pred_log_reg)\n",
        "conf_matrix_nb = confusion_matrix(y_test, y_pred_nb)\n",
        "\n",
        "# Plot Confusion Matrix\n",
        "plt.figure(figsize=(6, 4))\n",
        "sns.heatmap(conf_matrix_log_reg, annot=True, fmt='d', cmap='Blues', xticklabels=['Negative', 'Neutral', 'Positive'], yticklabels=['Negative', 'Neutral', 'Positive'])\n",
        "plt.title(\"Confusion Matrix:Naive Bayes\")\n",
        "plt.xlabel(\"Predicted\")\n",
        "plt.ylabel(\"Actual\")\n",
        "plt.show()"
      ],
      "metadata": {
        "colab": {
          "base_uri": "https://localhost:8080/",
          "height": 410
        },
        "id": "JJzrIl3n1hz8",
        "outputId": "25559e17-c086-4ff2-eca3-a0f11132b079"
      },
      "execution_count": 38,
      "outputs": [
        {
          "output_type": "display_data",
          "data": {
            "text/plain": [
              "<Figure size 600x400 with 2 Axes>"
            ],
            "image/png": "[encoded data removed]"
          },
          "metadata": {}
        }
      ]
    },
    {
      "cell_type": "code",
      "execution_count": 39,
      "metadata": {
        "colab": {
          "base_uri": "https://localhost:8080/"
        },
        "id": "OfFd8FUF54kf",
        "outputId": "0477166f-f071-4623-87cc-f3c770b716b8"
      },
      "outputs": [
        {
          "output_type": "stream",
          "name": "stdout",
          "text": [
            "Silhouette Score: 0.31\n",
            "Inertia: 1255.95\n"
          ]
        }
      ],
      "source": [
        "# --------------------------- Step 11: Clustering Evaluation ---------------------------\n",
        "sil_score = silhouette_score(X, kmeans.labels_)\n",
        "inertia = kmeans.inertia_\n",
        "\n",
        "print(f\"Silhouette Score: {sil_score:.2f}\")\n",
        "print(f\"Inertia: {inertia:.2f}\")"
      ]
    },
    {
      "cell_type": "code",
      "source": [
        "!pip install datasets --upgrade\n",
        "!pip install evaluate"
      ],
      "metadata": {
        "colab": {
          "base_uri": "https://localhost:8080/"
        },
        "id": "ymHJSqs3AhTi",
        "outputId": "bb6ab0a9-e5a5-4d7e-f6fd-2d2e24ecf4b1"
      },
      "execution_count": 40,
      "outputs": [
        {
          "output_type": "stream",
          "name": "stdout",
          "text": [
            "Requirement already satisfied: datasets in /usr/local/lib/python3.10/dist-packages (3.2.0)\n",
            "Requirement already satisfied: filelock in /usr/local/lib/python3.10/dist-packages (from datasets) (3.16.1)\n",
            "Requirement already satisfied: numpy>=1.17 in /usr/local/lib/python3.10/dist-packages (from datasets) (1.26.4)\n",
            "Requirement already satisfied: pyarrow>=15.0.0 in /usr/local/lib/python3.10/dist-packages (from datasets) (17.0.0)\n",
            "Requirement already satisfied: dill<0.3.9,>=0.3.0 in /usr/local/lib/python3.10/dist-packages (from datasets) (0.3.8)\n",
            "Requirement already satisfied: pandas in /usr/local/lib/python3.10/dist-packages (from datasets) (2.2.2)\n",
            "Requirement already satisfied: requests>=2.32.2 in /usr/local/lib/python3.10/dist-packages (from datasets) (2.32.3)\n",
            "Requirement already satisfied: tqdm>=4.66.3 in /usr/local/lib/python3.10/dist-packages (from datasets) (4.67.1)\n",
            "Requirement already satisfied: xxhash in /usr/local/lib/python3.10/dist-packages (from datasets) (3.5.0)\n",
            "Requirement already satisfied: multiprocess<0.70.17 in /usr/local/lib/python3.10/dist-packages (from datasets) (0.70.16)\n",
            "Requirement already satisfied: fsspec<=2024.9.0,>=2023.1.0 in /usr/local/lib/python3.10/dist-packages (from fsspec[http]<=2024.9.0,>=2023.1.0->datasets) (2024.9.0)\n",
            "Requirement already satisfied: aiohttp in /usr/local/lib/python3.10/dist-packages (from datasets) (3.11.11)\n",
            "Requirement already satisfied: huggingface-hub>=0.23.0 in /usr/local/lib/python3.10/dist-packages (from datasets) (0.27.1)\n",
            "Requirement already satisfied: packaging in /usr/local/lib/python3.10/dist-packages (from datasets) (24.2)\n",
            "Requirement already satisfied: pyyaml>=5.1 in /usr/local/lib/python3.10/dist-packages (from datasets) (6.0.2)\n",
            "Requirement already satisfied: aiohappyeyeballs>=2.3.0 in /usr/local/lib/python3.10/dist-packages (from aiohttp->datasets) (2.4.4)\n",
            "Requirement already satisfied: aiosignal>=1.1.2 in /usr/local/lib/python3.10/dist-packages (from aiohttp->datasets) (1.3.2)\n",
            "Requirement already satisfied: async-timeout<6.0,>=4.0 in /usr/local/lib/python3.10/dist-packages (from aiohttp->datasets) (4.0.3)\n",
            "Requirement already satisfied: attrs>=17.3.0 in /usr/local/lib/python3.10/dist-packages (from aiohttp->datasets) (24.3.0)\n",
            "Requirement already satisfied: frozenlist>=1.1.1 in /usr/local/lib/python3.10/dist-packages (from aiohttp->datasets) (1.5.0)\n",
            "Requirement already satisfied: multidict<7.0,>=4.5 in /usr/local/lib/python3.10/dist-packages (from aiohttp->datasets) (6.1.0)\n",
            "Requirement already satisfied: propcache>=0.2.0 in /usr/local/lib/python3.10/dist-packages (from aiohttp->datasets) (0.2.1)\n",
            "Requirement already satisfied: yarl<2.0,>=1.17.0 in /usr/local/lib/python3.10/dist-packages (from aiohttp->datasets) (1.18.3)\n",
            "Requirement already satisfied: typing-extensions>=3.7.4.3 in /usr/local/lib/python3.10/dist-packages (from huggingface-hub>=0.23.0->datasets) (4.12.2)\n",
            "Requirement already satisfied: charset-normalizer<4,>=2 in /usr/local/lib/python3.10/dist-packages (from requests>=2.32.2->datasets) (3.4.1)\n",
            "Requirement already satisfied: idna<4,>=2.5 in /usr/local/lib/python3.10/dist-packages (from requests>=2.32.2->datasets) (3.10)\n",
            "Requirement already satisfied: urllib3<3,>=1.21.1 in /usr/local/lib/python3.10/dist-packages (from requests>=2.32.2->datasets) (2.3.0)\n",
            "Requirement already satisfied: certifi>=2017.4.17 in /usr/local/lib/python3.10/dist-packages (from requests>=2.32.2->datasets) (2024.12.14)\n",
            "Requirement already satisfied: python-dateutil>=2.8.2 in /usr/local/lib/python3.10/dist-packages (from pandas->datasets) (2.8.2)\n",
            "Requirement already satisfied: pytz>=2020.1 in /usr/local/lib/python3.10/dist-packages (from pandas->datasets) (2024.2)\n",
            "Requirement already satisfied: tzdata>=2022.7 in /usr/local/lib/python3.10/dist-packages (from pandas->datasets) (2024.2)\n",
            "Requirement already satisfied: six>=1.5 in /usr/local/lib/python3.10/dist-packages (from python-dateutil>=2.8.2->pandas->datasets) (1.17.0)\n",
            "Collecting evaluate\n",
            "  Downloading evaluate-0.4.3-py3-none-any.whl.metadata (9.2 kB)\n",
            "Requirement already satisfied: datasets>=2.0.0 in /usr/local/lib/python3.10/dist-packages (from evaluate) (3.2.0)\n",
            "Requirement already satisfied: numpy>=1.17 in /usr/local/lib/python3.10/dist-packages (from evaluate) (1.26.4)\n",
            "Requirement already satisfied: dill in /usr/local/lib/python3.10/dist-packages (from evaluate) (0.3.8)\n",
            "Requirement already satisfied: pandas in /usr/local/lib/python3.10/dist-packages (from evaluate) (2.2.2)\n",
            "Requirement already satisfied: requests>=2.19.0 in /usr/local/lib/python3.10/dist-packages (from evaluate) (2.32.3)\n",
            "Requirement already satisfied: tqdm>=4.62.1 in /usr/local/lib/python3.10/dist-packages (from evaluate) (4.67.1)\n",
            "Requirement already satisfied: xxhash in /usr/local/lib/python3.10/dist-packages (from evaluate) (3.5.0)\n",
            "Requirement already satisfied: multiprocess in /usr/local/lib/python3.10/dist-packages (from evaluate) (0.70.16)\n",
            "Requirement already satisfied: fsspec>=2021.05.0 in /usr/local/lib/python3.10/dist-packages (from fsspec[http]>=2021.05.0->evaluate) (2024.9.0)\n",
            "Requirement already satisfied: huggingface-hub>=0.7.0 in /usr/local/lib/python3.10/dist-packages (from evaluate) (0.27.1)\n",
            "Requirement already satisfied: packaging in /usr/local/lib/python3.10/dist-packages (from evaluate) (24.2)\n",
            "Requirement already satisfied: filelock in /usr/local/lib/python3.10/dist-packages (from datasets>=2.0.0->evaluate) (3.16.1)\n",
            "Requirement already satisfied: pyarrow>=15.0.0 in /usr/local/lib/python3.10/dist-packages (from datasets>=2.0.0->evaluate) (17.0.0)\n",
            "Requirement already satisfied: aiohttp in /usr/local/lib/python3.10/dist-packages (from datasets>=2.0.0->evaluate) (3.11.11)\n",
            "Requirement already satisfied: pyyaml>=5.1 in /usr/local/lib/python3.10/dist-packages (from datasets>=2.0.0->evaluate) (6.0.2)\n",
            "Requirement already satisfied: typing-extensions>=3.7.4.3 in /usr/local/lib/python3.10/dist-packages (from huggingface-hub>=0.7.0->evaluate) (4.12.2)\n",
            "Requirement already satisfied: charset-normalizer<4,>=2 in /usr/local/lib/python3.10/dist-packages (from requests>=2.19.0->evaluate) (3.4.1)\n",
            "Requirement already satisfied: idna<4,>=2.5 in /usr/local/lib/python3.10/dist-packages (from requests>=2.19.0->evaluate) (3.10)\n",
            "Requirement already satisfied: urllib3<3,>=1.21.1 in /usr/local/lib/python3.10/dist-packages (from requests>=2.19.0->evaluate) (2.3.0)\n",
            "Requirement already satisfied: certifi>=2017.4.17 in /usr/local/lib/python3.10/dist-packages (from requests>=2.19.0->evaluate) (2024.12.14)\n",
            "Requirement already satisfied: python-dateutil>=2.8.2 in /usr/local/lib/python3.10/dist-packages (from pandas->evaluate) (2.8.2)\n",
            "Requirement already satisfied: pytz>=2020.1 in /usr/local/lib/python3.10/dist-packages (from pandas->evaluate) (2024.2)\n",
            "Requirement already satisfied: tzdata>=2022.7 in /usr/local/lib/python3.10/dist-packages (from pandas->evaluate) (2024.2)\n",
            "Requirement already satisfied: aiohappyeyeballs>=2.3.0 in /usr/local/lib/python3.10/dist-packages (from aiohttp->datasets>=2.0.0->evaluate) (2.4.4)\n",
            "Requirement already satisfied: aiosignal>=1.1.2 in /usr/local/lib/python3.10/dist-packages (from aiohttp->datasets>=2.0.0->evaluate) (1.3.2)\n",
            "Requirement already satisfied: async-timeout<6.0,>=4.0 in /usr/local/lib/python3.10/dist-packages (from aiohttp->datasets>=2.0.0->evaluate) (4.0.3)\n",
            "Requirement already satisfied: attrs>=17.3.0 in /usr/local/lib/python3.10/dist-packages (from aiohttp->datasets>=2.0.0->evaluate) (24.3.0)\n",
            "Requirement already satisfied: frozenlist>=1.1.1 in /usr/local/lib/python3.10/dist-packages (from aiohttp->datasets>=2.0.0->evaluate) (1.5.0)\n",
            "Requirement already satisfied: multidict<7.0,>=4.5 in /usr/local/lib/python3.10/dist-packages (from aiohttp->datasets>=2.0.0->evaluate) (6.1.0)\n",
            "Requirement already satisfied: propcache>=0.2.0 in /usr/local/lib/python3.10/dist-packages (from aiohttp->datasets>=2.0.0->evaluate) (0.2.1)\n",
            "Requirement already satisfied: yarl<2.0,>=1.17.0 in /usr/local/lib/python3.10/dist-packages (from aiohttp->datasets>=2.0.0->evaluate) (1.18.3)\n",
            "Requirement already satisfied: six>=1.5 in /usr/local/lib/python3.10/dist-packages (from python-dateutil>=2.8.2->pandas->evaluate) (1.17.0)\n",
            "Downloading evaluate-0.4.3-py3-none-any.whl (84 kB)\n",
            "\u001b[2K   \u001b[90m━━━━━━━━━━━━━━━━━━━━━━━━━━━━━━━━━━━━━━━━\u001b[0m \u001b[32m84.0/84.0 kB\u001b[0m \u001b[31m4.0 MB/s\u001b[0m eta \u001b[36m0:00:00\u001b[0m\n",
            "\u001b[?25hInstalling collected packages: evaluate\n",
            "Successfully installed evaluate-0.4.3\n"
          ]
        }
      ]
    },
    {
      "cell_type": "code",
      "source": [
        "# --------------------------- Step 11: Evaluation of Summarization ---------------------------\n",
        "# Load evaluation metrics\n",
        "import evaluate # Import the evaluate module\n",
        "rouge = evaluate.load(\"rouge\")\n",
        "bleu = evaluate.load(\"bleu\")\n",
        "\n",
        "# Evaluate summarization using ROUGE and BLEU\n",
        "rouge_scores = []\n",
        "bleu_scores = []\n",
        "\n",
        "for idx, row in top_products.iterrows():\n",
        "    predictions = row['summary']\n",
        "    references = [row['cleaned_reviews']]\n",
        "    rouge_score = rouge.compute(predictions=[predictions], references=[references])\n",
        "    bleu_score = bleu.compute(predictions=[predictions], references=[references])\n",
        "    rouge_scores.append(rouge_score)\n",
        "    # Print results in percentage (indented to be part of the loop)\n",
        "    print(f\"Product: {row['name']}, ROUGE: {rouge_score['rouge1']*100:.2f}%, BLEU: {bleu_score['bleu']*100:.2f}%\")"
      ],
      "metadata": {
        "colab": {
          "base_uri": "https://localhost:8080/",
          "height": 232,
          "referenced_widgets": [
            "97ffeb311aee4594bb2b21618b27a41c",
            "d838ce4aa0fd4e3da4dba469023c20ae",
            "ff3373524a1e4bafa56125d55057a406",
            "9e34041335044e74a0aec7c3eb08498b",
            "c4be3a2730e74801b2e64578fb94ffa7",
            "85440a3ad594482887e0564a309cc4a9",
            "2219e6701ee340cbad45c88add045b69",
            "a597e9afd7834bcfad0cd56b52db7686",
            "29a576cfcad34c67a847c937eb5929ce",
            "cb66621e36b845d5851f0ddb95291542",
            "8459b4d98a704e8783755a653698abce",
            "032d2bfea1de4350824ba853936a7dc5",
            "348cbd8830494faca1cb30685ef9c1ff",
            "94127fe1cb214bf78be677b4a6a368f6",
            "6b299ea4a4d84017a251e4f8fc0d407c",
            "84a8bf6a070542cea740de5037396fd8",
            "504969409d2841d6a1262aa59ae9327f",
            "6ee95929d57c4ae7be59c82855148c25",
            "f50bcb3a1c6049b3b09b03b1197457a6",
            "ac0df60e8918477b9689e30353de34b2",
            "d2fc08752af74574a34f92d42bd06550",
            "ce2f419a87354872bed08dd054fb901a",
            "48c3683494e24a169954f7f3956eaf0a",
            "6d979c882345466f8e54d07fb529eadd",
            "44e52f8a364541b8a2ea36de9154e6c0",
            "d0afe288d1a749c0b320858df314ddd8",
            "7fb70ce0dcc345f0996d5fdcc0cfc19c",
            "5632fefd5de945438c4dff10c14ea421",
            "623a69d644ee46d38783a5b4559fcdb4",
            "8a6c898035e649eaafd031800f4481f3",
            "f38b23e16ff84171b5e606431281217e",
            "18ec6224902c4b42a5b835acf90be087",
            "7baa3195f1e44338a587f82523d45da3",
            "d8f3217c33154452b7bfe87231a76960",
            "8fe58243f6464287a871e2d3e423df6c",
            "4f1f63e7f80743ab857903d55f9965f0",
            "9153118195fe4cc5b88ff462f9d6050c",
            "ee674d33d6554988b36fa8394a086a89",
            "bb6c6306595e48c3b442a69ecb15043b",
            "3deac349f190447c95287a0bd0cc8cb3",
            "ecf4efbcb3db449e965cbf7ba30c8d66",
            "3d258ba517324e70b080a4e85c83da15",
            "46b9192824ab4f1fa014b3e849a1dcad",
            "1e661d063d094ec18e3a1a90dd5c799d"
          ]
        },
        "id": "fh57M6OSCbVt",
        "outputId": "e2849354-3bdb-4912-bab2-80bf76df38d6"
      },
      "execution_count": 41,
      "outputs": [
        {
          "output_type": "display_data",
          "data": {
            "text/plain": [
              "Downloading builder script:   0%|          | 0.00/6.27k [00:00<?, ?B/s]"
            ],
            "application/vnd.jupyter.widget-view+json": {
              "version_major": 2,
              "version_minor": 0,
              "model_id": "97ffeb311aee4594bb2b21618b27a41c"
            }
          },
          "metadata": {}
        },
        {
          "output_type": "display_data",
          "data": {
            "text/plain": [
              "Downloading builder script:   0%|          | 0.00/5.94k [00:00<?, ?B/s]"
            ],
            "application/vnd.jupyter.widget-view+json": {
              "version_major": 2,
              "version_minor": 0,
              "model_id": "032d2bfea1de4350824ba853936a7dc5"
            }
          },
          "metadata": {}
        },
        {
          "output_type": "display_data",
          "data": {
            "text/plain": [
              "Downloading extra modules:   0%|          | 0.00/1.55k [00:00<?, ?B/s]"
            ],
            "application/vnd.jupyter.widget-view+json": {
              "version_major": 2,
              "version_minor": 0,
              "model_id": "48c3683494e24a169954f7f3956eaf0a"
            }
          },
          "metadata": {}
        },
        {
          "output_type": "display_data",
          "data": {
            "text/plain": [
              "Downloading extra modules:   0%|          | 0.00/3.34k [00:00<?, ?B/s]"
            ],
            "application/vnd.jupyter.widget-view+json": {
              "version_major": 2,
              "version_minor": 0,
              "model_id": "d8f3217c33154452b7bfe87231a76960"
            }
          },
          "metadata": {}
        },
        {
          "output_type": "stream",
          "name": "stdout",
          "text": [
            "Product: 841667104676, ROUGE: 2.87%, BLEU: 0.00%\n",
            "Product: 841710106442, ROUGE: 1.38%, BLEU: 0.00%\n",
            "Product: 841667104676, ROUGE: 6.63%, BLEU: 0.00%\n",
            "Product: 841667104676, ROUGE: 3.02%, BLEU: 0.00%\n",
            "Product: http://reviews.bestbuy.com/3545/5442403/reviews.htm%25252525253Fformat%25252525253Dembedded%252525252526page%25252525253D21, ROUGE: 100.00%, BLEU: 0.00%\n"
          ]
        }
      ]
    },
    {
      "cell_type": "code",
      "source": [
        "# Print ROUGE and BLEU scores\n",
        "for idx, (rouge_score, bleu_score) in enumerate(zip(rouge_scores, bleu_scores)):\n",
        "    print(f\"Product {top_products.iloc[idx]['product_name']}: ROUGE: {rouge_score}, BLEU: {bleu_score}\")"
      ],
      "metadata": {
        "id": "6w5UN8HmEfnd"
      },
      "execution_count": 42,
      "outputs": []
    },
    {
      "cell_type": "code",
      "source": [
        "# --------------------------- Step 12: Show the Results ---------------------------\n",
        "# Print summarized top products with recommendations\n",
        "# Changed 'product_name' to 'name'\n",
        "print(top_products[['cluster', 'name', 'summary']])\n",
        "\n",
        "# Calculate accuracy and print results\n",
        "accuracy_log_reg = accuracy_score(y_test, y_pred_log_reg)\n",
        "accuracy_nb = accuracy_score(y_test, y_pred_nb)\n",
        "\n",
        "print(f\"Logistic Regression Accuracy: {accuracy_log_reg * 100:.2f}%\")\n",
        "print(f\"Naive Bayes Accuracy: {accuracy_nb * 100:.2f}%\")"
      ],
      "metadata": {
        "colab": {
          "base_uri": "https://localhost:8080/"
        },
        "id": "HD8g5IarBUkj",
        "outputId": "edf262f3-756d-4543-ed2e-5bb28536f774"
      },
      "execution_count": 43,
      "outputs": [
        {
          "output_type": "stream",
          "name": "stdout",
          "text": [
            "   cluster                                               name  \\\n",
            "0        0                                       841667104676   \n",
            "1        1                                       841710106442   \n",
            "2        2                                       841667104676   \n",
            "3        3                                       841667104676   \n",
            "4        3  http://reviews.bestbuy.com/3545/5442403/review...   \n",
            "\n",
            "                                             summary  \n",
            "0  ive fire hd two week love tablet great valuew ...  \n",
            "1  httpswwwamazoncomamazonbasicsperformancealkali...  \n",
            "2  easi elderli user ceas ad pop want father firs...  \n",
            "3  product far disappoint children love use like ...  \n",
            "4  httpreviewsbestbuycomreviewshtmfformatdembedde...  \n",
            "Logistic Regression Accuracy: 88.08%\n",
            "Naive Bayes Accuracy: 85.75%\n"
          ]
        }
      ]
    },
    {
      "cell_type": "code",
      "source": [
        "# --------------------------- Step 1: Extract and Summarize Top 6 Products ---------------------------\n",
        "top_5_products = top_products.head(5)\n",
        "\n",
        "# Function to extract key differences between products (based on sentiment and clusters)\n",
        "def key_differences(products):\n",
        "    differences = []\n",
        "    for i in range(len(products) - 1):\n",
        "        product_1 = products.iloc[i]\n",
        "        product_2 = products.iloc[i + 1]\n",
        "        differences.append({\n",
        "            'product_1': product_1['name'],\n",
        "            'product_2': product_2['name'],\n",
        "            'sentiment_diff': abs(product_1['avg_sentiment'] - product_2['avg_sentiment']),\n",
        "            'cluster_diff': product_1['cluster'] != product_2['cluster']\n",
        "        })\n",
        "    return differences\n",
        "\n",
        "# Key differences between the top 5 products\n",
        "differences = key_differences(top_5_products)\n",
        "\n",
        "# Function to summarize reviews\n",
        "def summarize_reviews(reviews):\n",
        "    input_text = f\"summarize: {reviews}\"\n",
        "    inputs = tokenizer(input_text, return_tensors=\"pt\", max_length=512, truncation=True)\n",
        "\n",
        "    # Move inputs to the same device as the model\n",
        "    device = next(model.parameters()).device  # Get the model's device\n",
        "    inputs = {k: v.to(device) for k, v in inputs.items()}  # Move inputs to the device\n",
        "\n",
        "    summary_ids = model.generate(inputs['input_ids'], max_length=150, num_beams=4, early_stopping=True)\n",
        "    summary = tokenizer.decode(summary_ids[0], skip_special_tokens=True)\n",
        "    return summary\n",
        "\n",
        "# --------------------------- Step 2: Extract Top Complaints ---------------------------\n",
        "def extract_complaints(reviews):\n",
        "    complaints = []\n",
        "    for review in reviews:\n",
        "        if 'bad' in review or 'worst' in review or 'not good' in review or 'disappointed' in review:\n",
        "            complaints.append(review)\n",
        "    return complaints\n",
        "\n",
        "# Get complaints for each of the top 5 products\n",
        "top_5_products['complaints'] = top_5_products['cleaned_reviews'].apply(lambda x: extract_complaints([x]))\n",
        "\n",
        "# --------------------------- Step 3: Worst Product ---------------------------\n",
        "# Calculate the product with the worst sentiment (lowest average sentiment score)\n",
        "# Changed 'product_name' to 'name'\n",
        "worst_product = df.groupby('name').agg({'avg_sentiment': 'mean'}).idxmin()\n",
        "worst_product_reviews = df[df['name'] == worst_product[0]] # Select the first element of the idxmin result\n",
        "\n",
        "# Get the worst product's summary\n",
        "worst_product_summary = summarize_reviews(' '.join(worst_product_reviews['cleaned_reviews']))\n",
        "\n",
        "# --------------------------- Step 4: Display the Results ---------------------------\n",
        "# Output: Top 5 Products, Key Differences, Complaints, and Worst Product\n",
        "\n",
        "# Top 5 products with summary\n",
        "print(\"Top 5 Products and Their Summaries:\")\n",
        "for idx, row in top_6_products.iterrows():\n",
        "    print(f\"Product: {row['name']}\")\n",
        "    print(f\"Summary: {row['summary']}\")\n",
        "    print(f\"Complaints: {row['complaints']}\")\n",
        "    print()\n",
        "# Key Differences Between Top 6 Products\n",
        "print(\"Key Differences Between Top 3 Products:\")\n",
        "for diff in differences:\n",
        "    print(f\"Difference between {diff['product_1']} and {diff['product_2']}:\")\n",
        "    print(f\"Sentiment Difference: {diff['sentiment_diff']}\")\n",
        "    print(f\"Cluster Difference: {diff['cluster_diff']}\")\n",
        "    print()\n",
        "\n",
        "# Worst Product\n",
        "print(f\"Worst Product: {worst_product}\")\n",
        "print(f\"Summary of Worst Product: {worst_product_summary}\")"
      ],
      "metadata": {
        "colab": {
          "base_uri": "https://localhost:8080/"
        },
        "id": "btXYAhpHRo4v",
        "outputId": "fe08da62-09a0-45ef-d085-7238b56691c8"
      },
      "execution_count": 54,
      "outputs": [
        {
          "output_type": "stream",
          "name": "stderr",
          "text": [
            "<ipython-input-54-dadedbc1e657>:43: SettingWithCopyWarning: \n",
            "A value is trying to be set on a copy of a slice from a DataFrame.\n",
            "Try using .loc[row_indexer,col_indexer] = value instead\n",
            "\n",
            "See the caveats in the documentation: https://pandas.pydata.org/pandas-docs/stable/user_guide/indexing.html#returning-a-view-versus-a-copy\n",
            "  top_5_products['complaints'] = top_5_products['cleaned_reviews'].apply(lambda x: extract_complaints([x]))\n",
            "<ipython-input-54-dadedbc1e657>:49: FutureWarning: Series.__getitem__ treating keys as positions is deprecated. In a future version, integer keys will always be treated as labels (consistent with DataFrame behavior). To access a value by position, use `ser.iloc[pos]`\n",
            "  worst_product_reviews = df[df['name'] == worst_product[0]] # Select the first element of the idxmin result\n"
          ]
        },
        {
          "output_type": "stream",
          "name": "stdout",
          "text": [
            "Top 5 Products and Their Summaries:\n",
            "Product: 841667104676\n",
            "Summary: ive fire hd two week love tablet great valuew prime member tablet shine love abl easili access prime content well movi download watch laterthi screen realli nice look nice crisp bright infact brighter ipad pro cost base model build fire insan awesom run mm thick smooth glossi feel back realli amaz hold like tablet would give star sometim push start sever time unlock screen littl annoy purchas last tablet die meet basic need price great work\n",
            "Complaints: ['ive fire hd two week love tablet great valuew prime member tablet shine love abl easili access prime content well movi download watch laterthi screen realli nice look nice crisp bright infact brighter ipad pro cost base model build fire insan awesom run mm thick smooth glossi feel back realli amaz hold like futurist tab ur hand amazon fire inch tablet perfect size purchas husband bigger screen phone gotten one year ago knew would good purchas nice reader almost perfect wantne good bargain realli like tablet would given star sometim push start sever time unlock screen littl annoy purchas last tablet die meet basic need price great work great love portabl book overal great product overal nice product travel purpos valu money bought tablet famili disappoint great tablet fast screen good size never give problem basic function tablet hardcor user may want ipad fire tablet long batteri life reason fast realli hope would faster inexspens tablet ive mainli use email though job realli enjoy price valu tablet versu ipad amaz tablet fast processor look great got good deal got year old realli great price work like charm nice smaller tablet good internet surf great product im satisfi recommend peopl great tablet app limit comparison tablet work thought problem good buy experi love tablet work well unlik bargain tablet tri use previous cost like sound also enjoy free game download navig wev easili tablet great kid adult littl knowledg comput handl easili plenti storag good tablet wife love would recommend great tablet price order onlin easi happi took long receiv though amazon fire amaz pictur clariti sound excel highli recommend tablet love great tablet everyon plenti memori download great featur around good tablet kid start awesom good size larg enough game photo great budget tablet web brows also use mp player ebook reader superb tablet price doesnt come android oper system amazon oper system batteri last good long time app run fast would recommend anyon want tablet may cheap great tablet work awesom bought black friday valu money tablet lag heavi task also app reload app open time price expect go budget overal good tablet best prime amazon abil watch amazon video good price good tablet limit base oper system video watch basic use good choic nice tablet couldnt beat black friday price good tablet basic need screen resolut pretti good mostli use read sometim watch moviesshow great featur possibl use card expand memori good product great price great inch tablet amaz storag app good devic entertain entri level task think lot price also great listen music also movi screen pictur crisp bright use tablet mani thing screen clear batteri last long time good substitut afford ipad great valu money save instead ipad appl perfect tablet take anywher go lighter ipad tablet need tablet reason rd one great gift younger person want tablet fire great size realli nice big clariti realli good tablet great love color featur buy daughter great purchas excel tablet kid download game watch cartoon look good tablet deliveredget use amazon app lol long review decid buy fire tablet gift great frienday love perfect size featur look tablet happi birthday thought tablet junk surpass expect good want someth inexpens minimum well ipad killer fierc tablet convini price bought display echo turn voicecast rout inform tablet voic reapons exactli hope would price right work great fast great read internet use love fire tablet use everyday home work break realli beauti display great watch movi play game power price play lot game amazon free even remov microtransact lot gamesonli downsid need amazon prime get tablet graphic great price would highli recommend pad work thought screen wasnt vibrant ipad still great deal price tablet perfect surf internet follow social media good price product purchas middl school son tablet work good want previou version tablet look upgrad got sale pleas salesman good point us right direct tablet perfect triplet grandson love tablet excel qualiti speaker screen lot storag space worth money tablet good beginn like read want tablet use daili basi facebook onlin purchas couldnt ask better tablet much harder work android none wallpap app download kindl store work devic mani app look cheap display wise prettier respons cheaper tablet make look like android tablet googl play everyth harder work regular android tablet exce expect respons model fire fastest boot tablet come across speed access site realli amaz great product great pricei like builtin filter easi youreyesprob best reader dollar good product super qualiti best buy store rep explain product excel good ipad fraction price great price dollar great tablet fast everyth accept game play exampl play asphalt game bare playabl graphic struggl tablet higher graphic game also amazon tablet googl play store load googl play great tube video put googl play amazon tablet screen good long sun isnt hit stereo speaker sound great loud realli like tablet price realli like play game good graphic qualiti said return tablet order nvidia shield inch tablet best buy dollar got shield week ago wow differ graphic game qualiti thing good xbox ps nvidia shield tablet simpli unbeliev price consid appl samsung tablet fast tablet least twice cost plu dubbl game consol xbox pc game k tv amazon tablet also great tablet normal usag gamer like nvidia tablet tablet choic hand period dont know bbuy kind hide nvidia tab websit doesnt sell store display store would outsel appl samsung tablet hope help thank great littl tablet great price keep work listen music lunchtim read great tablet teen love price cant beat good perform highli recommend amazon user mother need someth sinc tablet die lot easier learn old tabl lot kindl tablet cheap tablet option come amazon latest model satisfi need bad product amazon offer great product tablet miss featur even basic tablet lack googl chrome compat made tablet right good tablet bad wifi connect first tablet pleas amazon name good valu good product price mani thing done fire dream sever kindl latest version pack amazon market stuff fine use take space us new version come gb allow expand memori sd card great one problem kindl link account differ famili memberskid may end stuff kid mainli use game app youtub video seem work great sound good hd video nice overal happi price good type tablet went best buy anoth reader end buy fire good valu thing need reader awesom tablet perfectli watch tv littl nephew purchas tablet autist child love tablet quick good ipad use tablet specif one aspect life perform great pleasantli surpris perform tablet good especi consid price also memori slot increas storag bought tablet holiday sale great tablet batteri life great new model also play game everyth move smoothli sinc ram durabl tablet great thing wont break drop thing dont like fire os cant get everyth get googl store app avail purchas tablet christma sale tablet good tablet beginn easi use show movi video well great tablet go good size screen watch movi read book cant beat price tablet great stream casual game great read netflix fit nice purs good price good valu afford price cant beat work great preti fast oper system dosent heat great tablet use read email great price issu tablet love itti love tablet power last long short charg time hd screen realli clear con app avail like googl play satifi gb card mine plenti space download camera flash best didnt buy tablet high recommend hd tablet gb amazon fire want go wrong tablet thing realli need thought buy use featur expens computertablet happi purchas work great everyth want daughter great littl devic almost everyth tablet use comput travel well reader meet need plu recommend buy good stylu pen time tablet best one price purchas tab kid broke ran super slow love would definit recommend anyon want save buck want qualiti would recommend product good tablet use problem price tablet beat use ipad noth cant tablet recent upgrad tablet everyth want highli recommend good buy tri day fast experi good great tablet price bought replac ipad mini great eread gener brows got son play game soi could get ipad back person think great littl tablet kid read high power game play tablet anyth keep lot storag work intend andi problem love read tablet work great need averag tablet bit slow good option peopl budget tablet stop work own two week came back hour great devic work well use throughout daykeep inform great look thing stay contact never thought tablet price could good total recommend love app everyth els think perfect tablet beginn app need fantast tablet price great altern ipad purchas tablet year old son love nice bright screen two speaker pretti good sound tablet great game watch video purchas black friday impuls buy absolut love great price size tablet perfect work great great littl tablet someon alway go love tablet regret pic great recommend nice look great memori camera much money everyth good good tablet price nice display good perform complet satisfi product qualiti graphic great download breez would definit recommend product kid enjoy tablet one inexpens ipad avail app limit great around tablet color resolut nice best price nice product nice readi amazon app built great buy good valu tablet everyth pretti well bright isnt great batteri take charg last forev decent buy would recommend realli like feel eas use great tablet price far extrem satisfi purchas great product great price love great gift awesom dont tablet never use one work great amazon prime account brows internet play game cheap tablet well wife mom want tablet great way get technolog love ipad galaxi good start reliabl brand good product price great budget tablet great price long batteri life high qualiti display great tablet great peopl dont need lot apt store lot doesnt heat light weight go get samsung tablet everyth better amazon tablet great googl bloatwar everyth amazon one thing didnt like ad lock screen way turn bought daughter replac worn ipad happier size resolut nice great buy price tablet could much better app actual work decent built amazon piec prime member great work flawlessli enough overcom terribl app behavior countless freez need take lesson two appl nice littl tablet money ad deal great light weight charg quickli great featur perform bigger name brand tablet look good video somewhat customiz tablet great price pass inexpens tablet satisfi read view pleasur fast good qualiti product recommend bought tablet kid actual good order coupl famili member say work great everyth suppos highli recommend better expect price work good would fulli recommend good tablet price econom abil carri backpack like speed inch screen great work well great experi best buy rep great job smooth tablet lag also good batteri tablet great price exactli need quick internet access download book pro hd qualiti low price work realli well amazon account access multipl amazon featur extrem eas couldnt happier ipad extrem versatil came big price tablet love great tablet kid enjoy much would buy nice littl tablet great kid great littl tablet add googl play store take research awesom tablet great valu money son enjoy lot got cheap tablet great watch video tablet sound good also dont like amazon ecosystem app store wish would sell android tablet app like phone good tablet like featur decid buy instead tradit kindl regret decis allth con evalu tablet amazon app store mani app googleplayappstor simpli avail great valu tablet great everyth power ipad price cant beat got tablet caus want start read graphic novel manga impress run smooth even use hulu netflix flaw ad lock screen though take grade littl tablet pleas purchas tablet great project product versatil competit price unit work well like color size wonder littl buy tire bulki tablet one stay charg lot longer alway want tablet final decid amazon fire awesom love iti download game enjoy great internet definit worth price get lot money lot option good ipod would recommend great product great price love would recommend anyon look tablet good price didnt depth research particular tablet price speed good want con abl clear home screen app reloc see person home screen pictur tablet work great price cant beat get sale incred valu tablet perfect anyon want screen without pay premium price build qualiti fine screen isnt best definit usabl screen clear tablet faster expect great color also power tablet flawless util amazon program serv need economi tablet would reccomend good product best price avail market place tablet great tool use world wide web check email quirk disconcert bur overal great product pick tablet year old grandchild way learn use tablet work fine love tablet big enough see work prime watch movi stream music gift love tablet great price work awesom amazon fire tablet quit good provid suffici content abil basic one requir tablet inch screen bright provid variou set tablet light weight make portabl need buy tablet mother christma gift function great use onlin need good qualiti android tablet also make nice gift thank perfect littl kid love tablet good qualiti fast enough one best inexpens tablet market great casual user tablet afford pretti decent function great although wish came color decent tablet skeptic first perform surpris batteri last decent amount time connect beauti amazon ecosystem alreadi would recommend anyon like watch videosbrows web go children best buy help tablet good read book basic serf far love tablet especi read batteri life also good everyth expect none drawback found tablet work well probabl best android tablet get money great tablet problem excel price downsid cant googl playstor tablet still instal manual sinc base android os great love read tablet alway readi go trip great tablet love featur resolut super fast lot storag great tablet anyon nice tablet low price shell feel littl cheap side ad cover finti feel much sturdi great read watch netflix amazon video tablet excel fast well worth money display great great tablet childthi tablet everyth need child got father amazon fire he never use tablet let alon comput challeng pretti good hard time see screen good buy enjoy new tablet great buy tablet great price good connect wi kindl store breez pictur qualiti good seem perfect size nice altern compar expens tablet much better qualiti less expens tablet would recommend weve three kindl well built cant get qualiti tablet manufactur amazon great support find anoth tablet like afford price tablet small enough pack screen perfect size watch movi plane travel good product money basic job great tablet famili love lot featur faster thought would nice tablet speedi thing dont like cant add googleplay app guess that expect decent tablet price kid love purchas watch movi qualiti great sound tablet need work earphon usual use least recommend person use bought tablet sale look thing interest great tablet well worth price deal black friday trick good tablet price tablet simpl set worth price perfect beginn great tablet easi oper great upgrad famili member would recommend right person want low cost tablet butend return item heavi wide hand hold big hold hand small use like larger tablet end use lenovo yoga sinc flexibl lb heavier perfect price great bring go like said cant beat price con plastic back care batteri great would absolut recommend product good valu money fire good tablet portabl size bought coupl gift well great tablet money perfect someon want shell hundr ipad problem fire work well need case size conveni far tablet work great got daughter christma download game problem gb great im glad purchas larger storag capac look cheap tablet son use saw unit sale black friday good unit pull trigger fire tablet know would instal googl play store separ work could bang buck android tablet best tablet money buy happi perform respons extern speaker much better expens samsung tab e tablet got tablet sale best buy got webroot internet secur free purchas high end tablet work realli great mani thing price cant beat amazon tablet link amazon prime account watch movi listen music great tablet children entertain great tablet price offer great amazon prime member nice size good processor speed happi cannot geti googl music think amazon tablet need dohandi travelingeasi oper tablet doesnt screen resolut im use nice beginn tablet faster old fire hd tablet purchas year ago wonder valu moneyclear display great color tablet wonder young kid there way switch kid friendli christma present hasnt lot use yet far tablet work well straightforward set perfect size work great advertis long batteri life look tablet read book perfect gave gift pleas great product great price bought tablet mom struggl technolog fire hd easi setup mani great featur catch well learn new applic daili great valu would definit recommend other sinc good valu money product nice easytous tablet got far good tablet far one best purchas weve made son kid featur extra nice everyth kid need without pay ridicul price realli crisp pictur fast good amout storag expect kind qualiti price paid surpris nice product first cant get much like one batteri life great screen nice clear bright would buy anyth ever happen great compact tablet great coclor resolutiondec batteri life good wi fi connect love tablet perfect size everyth afford great price good tablet especi black friday hd great tablet purchas two daughter tablet feel durabl touch screen pictur crisp clear gave husband tablet christma pleas product like much better last tablet purchas year ago highli recommend product great tablet love pictur everyth amaz im glad chose one great deal got black friday previous nook die tri fire hook great price lot thing pick tablet black friday great deal work awesom amazon app bought orang fire hd black friday great price husband like lot purchas replac previou fire tablet charg issu ive heard sever other similar issu hope model last longer improv charg port work well cheaper ipad work great app video found great tablet ageseasi usegreat content cannot get better tablet price best buy sale version realli good upgrad older fire tablet happi one best tablet market valu love tablet awesom way cool highli recommend anyon great price great valu pricingblack friday special bought black friday actual thursday ok price cool buy extra storag great price great altern expens ipad prefer paper white read great everyth els everyth need screen nice enough price right pictur great quick respons go site site sound good expect tablet pleas tablet love hd user friendli key own tablet amazon prime account best deal seen onlin check amazon good amazon fire hd great tablet bargain price purchas christma time even better valu amazon prime account downsid use amazon appstor instead googl play store varieti greatest small tablet want someth conveni alway good price good meant daughter smaller eight gb tablet nice step better graphic extend memori sd card photo tablet work great daughter love reason star cant access googl play without root tablet way ruin android amazon reason price great grandkid purchas cheaper tablet last year none last far look better purchas inch fire tablet black friday use sinc great deal doesnt disappoint nice featur own two prior one nice tablet first tablet im excit learn use great yr old grown nabi like take pictur trick memori extend hold pictur great tablet black friday deal great altern ipad great valu well made tablet everyth need low price purchas tablet happi great price good qualiti screen imag nice format instal gb microsd card problem impress qualiti devic fit gener tablet cover big gener tablet previous purchas wish gotten black friday sale came charger cabl great tableteread lot bad boy great around tablet littl bit everyth along best eread around great qualiti decent price love featur fact mirror tablet tv firestick tablet well worth money descent perform good screen resolut definit great tablet beginn one dont want spend tablet realli great product pretti good need love tablet pretti much everi thing ipad work well need purchas great price black friday fire tablet everyth nexu tablet also ad benefit expand storag great budget tablet need good size microsd card nice tablet media consumpt price amazon user sure tablet everyth said would work great purchas kindl black friday work well reader tablet good batteri life silk decent option browser also side load nook apponto kindl work well nookeread function expens ipad work great fraction cost great tablet price fast snappi kid like much price low tablet light weight great tablet kid use play game read book isnt slow perfect price tablet recommend kid dont take care electron purchas ipad kid broke break tablet purchas anoth low cost best buy pick black friday price great starter tablet kid tablet fast work well pleas amount app amazon offer amazon tablet line possibl one best function android window eas use equal ipad tmti second tablet purchas kid perfect thing kid wife love read tablet also great surf web nice great price love bose product highli recommend look replac tablet exactli need tablet great jacket much doesnt stand hate realli nice great clariti like outstand replac tablet outdat overpr ipad great good altern got kid great cheap tablet camera arent good usabl app load quick great tablet son live endless librari download book great beginn intermedi highli satisfi amazon fire hd super fast tablet money combin amazon prime account true valu releas purchas tablet nearli everi famili member link one amazon account becom unbeliev valu bought black friday use month faster fire like due gb vs gb ram screen resolut fine though best price complain amazon add nice featur well advertis discreet fire turn problem even full price good deal perfect stream eread great price pretti reliabl tablet especi price best tablet buy price add memori card everyth tablet like share across platform read onlin review compar product price amazon great product inexpens great gift children replac nook fire tablet disappoint cannot use chromecast realiz would tie amazon good tablet far good speed compar model size weigh littl larg view area tablet hd work great pricebut shove amazon stuff hroat like fire tvand link amazon click buy haveit set way pleas aspect fire hd good perform low price nice tablet price wish bluetooth cant beat price fire tablet hd good display exactli look old tablet stop work valu amazon fire best buy much pass tablet troubl beg kept restart reboot return got black friday also inch fire tablet buck tablet way better inch non hd fire got black friday earli christma gift good buy pretti good tablet best tablet price three children one worth bought mine black friday awesom first tablet great amazon featur kid work okay thing like youtub netflix app take longer load mani game get ipad arent avail fire tablet still say go mac christma gift granddaught purchas one heard lot good thing price great black friday got great deal black friday best afford tablet abl get advertis amazon instal playstor wife bought cheaper cover tablet love amazon environ want buy anoth one come price whole famili use tablet love prime awesom great altern ipad mini great amazon prime member work well user friendli would buy great price well great tablet money thought beat screen resolut lot good featur amazon member tablet nice fast great tablet hd qualiti work good tablet like tablet thing im fan amazon app store wish googl play part like tablet got mother con use amazon app like low light mode extra memori great price compar other nice tablet usual item instruct get start good product recommend buy excel pick black friday sale big small tablet bundl amazon prime servic great combo inexpens entertain work well light tablet use great read work great first tablet grandson love definit amaz deal amaz price black friday weekend good product would recommend everyon thank thought would great gift kid price right bought black friday buck wasnt expect much price point isnt good ipad price pretti close worth everi penni product sale black friday serv purpos qualiti good use chromecast excel tablet price wonderful great perform good product price rang afford good tablet work fine speaker great want good cheap tablet work price guy cannot beat great watch video stream televis love light weight size fun tablet realli want give devic chanc end return huge upgrad though cheaper version honestli dont think anyon purchas budget handl get version heavili invest amazon ecosystem ie prime member make great tablet think intend kid though adult ipad hous tri toddler cheaper tablet interfac quirk amazon os worth hassl end seek use ipad mini instead inexpens tablet funtion great read blue screen make great read great graphic price compar brand great tablet great price size would highli recommend unsur get tablet purchas amazon fire convinc made right choic happi ever sinc concern lot learn came quickli realli like screen size great buy realli pleas tablet color great price point good use ipad display doesnt look sharp amazon app store lack content overal good yr old great tablet absolut would recommend friend would buy tablet work good good price point would buy work great need check email littl space outer edg would great use game real problem time kick game popular game ew otherwis great need secur overal good purchas less like batteri endur new screen great great tablet kid adult alik tablet work great far parent featur nice also bought daughter love great product great price like tablet lot read normal disspoin tv automat chromecast cannot cast toshiba tv work other tv like purchas tablet reason price end good tablet great product devic perform describ great review like would buy againstil learn featur good valu tablet great bought sister christma love great surf web watch video good cheap tablet great netflix youtub screen decent size bigger phone smaller laptop also hd plu love tablet wait recommend friend think amazon fire offer includ standcov standard enjoy mine lot sinc forc purchas standcov hold tablet would prefer instruct sheet grt everyth set use total appl famili littl hesit purchas ipad stop work glad perfect cant beat price great option first tablet lightweight user friendli awesom tablet price featur got everyth need person use great valu cheap price tablet sturdi great kid game learn good number basic task amazon underground featur realli cool feel like android limit got gift mom read ton love read great portabl great tablet price great media consumpt screen seem sharp enough unless get unbear close wifi connect good speaker sound poor didnt expect better tablet tablet sinc novemb still go strong complaint slow charg isnt bad great resolut camera qualiti good tho gave one less star camera overal great tablet look tablet expand memori reliabl amazon tablet best choic cannot beat valu featur product offer low price point tablet absolut surpris screen awesom batteri life great ive multipl amazon fire tablet great bargain love eas use function downfal realli slow charg got mom decent tablet heavi good pirc love great tablet lag free run app good batteri life downsid lack abil screen mirror avail older version longer great product price got great first tablet purchas husband prior long train trip download movi internet great travel work flawlessli good contend brother ipad much cheaper price win bought year old great buy price afford compar tablet market e screen perfect anoth great buy best tablet hand bigger screen great new featur alexi also lot storag well satisfi product look weekli good deal look forward deal grandson love tablet alot great game learn activ smoke fire pick last year power great screen streamingcannot go wrong price would recommend anytim great product got tablet mom isnt tech savvi love cant beat price got sale good pay instead pay lot money ipad good job perform basic function provid good amount entertain good watch movi play simpl game perform simpl task look good seem like well made good qualiti materi problem batteri life great price amazon sell qualiti product look great tablet without high price tablet work great excel screen size cannot go wrong price unless need instal googl app amazon block although heard work around nice tablet howev could better get pay first experi tablet husband like use time like love inch hd tablet great color screen cheapli built like one best tablet good watch youtub read well use tablet eread listen prime music time great thisstil lean featur great product price work great come ampl storag tablet excel use couch inth bedroom car simplti love seem work well screen qualiti good like size size price make best buy im pleas tablet tablet work well better ipad quicker simpler use better speed reaction prosgreat valu moneyenough power handl lot android gamesdec batteri lifeconsfeel slow use weekslowresolut screen camera almost good ipad mini love appl ipad howev great backup tablet great everythimg great entri level tablet look purchas tablet kid could work homework need term capabl size great tablet price good tablet valu downsid there googl play store access your limit app amazon app store first android tablet use numer appl ipad thoughth thing dissatisfi isnt instagram app avail doesnt anyth amazon kindl middl move didnt want get new labtop found amazon fire good price ive happi look cheap easi use tablet look good product kid homework best budget tablet hasnt everyth need someon use tablet tablet replac older model updat wonder handl media tablet resolut great like chang camera back kindl instead front screen see im aim easi use cant beat price great entri level tabletread hold lot expand gb amazon fire tablet get everyth would expect highend tablet less that hard beat love tablet daughter use mainli realli like good read game well web surf meet need got year old grandson realli like lot good kid learn respons use tablet great starter tablet without big cost everyth need cant beat qualiti perform tablet bought main link amazon prime use last week instead download direct tv app could use watch fb championship game work great couldnt help bama team win overal great product sometim freez game app work great alexa great addit simpl object tablet excel choic adult children intermedi size tablet work well design purpos price good plenti acc good tablet lot tablet money great kid upgrad st gener fire tablet decid go gb tablet none store order free deliveri store arriv day promis easi sync new tablet older tablet nice pictur video great valu screen size good hd pictur clear also like camera photo better cell phone camera size pictur great would recommend fire hd eas use great tablet lot money expens tablet less bought tablet caus super cheap decemb good tablet someon doesnt need powerhous good tablet basic use ene return go ipad met need tablet would good someon limit comput knowledgeus bought everyth advertis work great especi amazon prime member bought tablet black friday dollar well worth price definit upgrad first gen tablet amazon great tablet price excel great youngest daughter pleas tablet great product usual great custom servic help amazon prime member download lot thing tablet great altern expens tablet batteri last quit great read book everyth ipad tablet lot cheaper tablet function need excel tablet brows internet read ebook price cant beat amount paid tablet worth sale tablet work well surf internet play music husband total enjoy own amazon fire tablet much easier eye iphon th amazon product great budget tablet price tablet absolut steal ive never ipad compar that ive never want spend hundr dollar tablet tablet good gift christma bought black friday cheap price tablet much better older tablet faster camera great improv older version great size work app issu yet would buy']\n",
            "\n",
            "Product: 841710106442\n",
            "Summary: httpswwwamazoncomamazonbasicsperformancealkalinebatteriescountdpblhdmuo httpswwwamazoncomamazonbasicsperformancealkalinebatteriescountdpblhdmuo httpswwwamazoncomamazonbasicsperformancealkalinebatteriescountdpblhdmuo httpswwwamazoncomamazonbasicsperformancealkalinebatteriescountdpblhdmuo https\n",
            "Complaints: []\n",
            "\n",
            "Product: 841667104676\n",
            "Summary: easi elderli user ceas ad pop want father first tablet good valu watch movi play game easi enough use fast easi use second kindl fire sleek packag easi set great anyon want e reader offer easi use beginn found pad good enjoy kindl app great tablet price easi navig believ use husband recoveri foot surgeri easi setup connect wifi great view area ea\n",
            "Complaints: []\n",
            "\n",
            "Product: 841667104676\n",
            "Summary: product far disappoint children love use like abil monitor control content see eas great beginn experienc person bought gift love love order book read reader simpli everyth need thank youand silk work wonder got present love size screen great video qualiti lot fun app fun whole famili grandchildren home school util tabl mani learn app love use make feel grown tablet great lean tool receiv mani benefit surpris learn capabl devic husband access desktop thing couldnt devic got son user friendli durabl\n",
            "Complaints: ['product far disappoint children love use like abil monitor control content see eas great beginn experienc person bought gift love love order book read reader simpli everyth need thank youand silk work wonder got present love size screen great video qualiti lot fun app fun whole famili grandchildren home school util tabl mani learn app love use make feel grown tablet great lean tool receiv mani benefit surpris learn capabl devic husband access desktop thing couldnt devic got son user friendli durabl look afford gift right size read book play game love everyth tablet imag sharp clear fast light weight love exactli person want gift enjoy use got wife love previou gener one giant keep forward purchas daughter read much option want bought christma gift someon bought ipad well updat use someth use look someth take along trip wonder devic love extra capabl app happi tablet worst thing steal time lol look tablet highli portabl could run directtv app stream video electron much older version salesman recommend model base person experi still learn function far seem easi use promis wife bought birthday enjoy read biographi usual color photo regular kindl make pic black white theyr arent allow see color photo also love night featur im bed read longer need light read need hold larg book bought yr old granddaught everyth want tablet great product kid game app parent control make sure monitor kid prevent unwant app purchas purchas tablet year old black friday special perfect app game want great product love amazon ecosystem freetim subscript must grandsonlov game book purchas tablet niec christma love didnt featur look return next day may good other bought daughter love speedi load book enjoy learn use your never old learn new thing birthday present ideal travel read ebook rood teenag daughter enjoy three year old kindl recreat want larger screen word process pair bluetooth keyboard thrill peopl purchas christma holiday love bought two tablet niec christma origin bought amazon fire inch viru day purchas unabl work good thing play prior give gift said surpris well tablet held care year old play daili problem screen big enough littl hand maneuv see highlight christma still would definit recommend realli like updat product comparison first one tablet purchas grandmoth could play game read book fourth kindleupgrad time mine goe everywher use throughout day wouldnt without bought son went colleg abl upload book document purchas motherinlaw love easier use understand like great bought friend pleas abount bought tablet year old daughter mani advertis would rather pay singl ad purchas store credit like lot compar well expens tabletsrecommend great gift age wish bought two everyth ipad got yr old twin yr old one one better perfect way get read wife absolut love tablet wad earli christma present bought year old son absolut love product handi go check email find work truck love size portabl keep touch fun bought gift yr old mom stalk kid grandkid fb master fewminut minim instruct watch post smaller version love bigger screen use product comput bought kindl grandson love charg set right away issu point santa drop th grader along expand memori use netflix youtub well minecraft app spend hundr someth basic kid need im sure last year well worth price got tablet year old son put much mani learn game love product small power great adult toy reader hope use googl launcher tablet realli lock cannot chang launcher lock screen still cheap fine watch movi got tablet sale wife love bought three daughter got kid proof case ad free time low monthli fee couldnt happier much better worri break phone ipad bought one replac smaller non hd version lot faster pictur notic better would recommend anyon want spend extra big name perfect gift godson love definit would recommend product excel resourc children video stream wifi use mobil hotspot kid best choic marketamazon best realli didnt expect go workbut goodgift friend request yr old granddaugt alway ask older sister could share due bought tablets yr earlier love securityparent control optionsstarfal favorit educ app told must realli enjoy picsvib due differ state also game time limit size resolut perfect tick box look price happi pay one caveat best buy geek squad crew unawar glitch keyboard prevent work properli kindleamazon awar glitch download thirdparti keyboard fix replac keyboard that built unit abl fix problem made geek squad awar know amazon mayday function avail unexpect servic function expect bought gift parent arent tech savi abl use eas fire excel tabl mani basic task good product short batteri life use minut found versatil enjoy benefit touch screen perfect thing need read book play game price amongst other felt deal perfect size respons think great product parent christma gift tablet good one everyday use small clear imag sure realli want one small ok like portabl take babysit granddaught bought gift love great amazon prime bought husband love perfect want work realli well dont issu improv hd thing set differ hard learn also bit heavier read bed littl harder devic price right give gift year old hard time tablet year old load app sinc around year age far tablet surviv everyth except constant drain batteri use cant beat valu star even though less app play store disappoint inabl download app use phone love im comput savi abl figur thing without help love tablet purchas gift glad issu purchas found great cover line amazon use everi night thank servic like hard time figur thing outdo get talk geek squad free come store get someon help questionswil fee servic husband love tablet screen big enough view read excel price point basic requir featur need comfort read onlin novel articl perfect niec love go get anoth one son perform much faster old one graphic much better expect happi serv purpos got husband birthday love got tablet grandson he happi use speak bought earlier line anoth vendor never deliv best buy great great buy bought year old niec love lock card let kid go crazi bought wife techi word like suggest buy protect screen pad case wife want ipad bought cheaper good read play game use io product compat hardli ever use next time ill get want wast money year old boy year old girl year old boy crack broken yet ye drop case crack yet pretti amaz drop hard wood floor still broke new sound faster speed plu improv great perfect see tv seri dont tv around good resolut qualiti bought replac old love bigger screen freez frequent way troubl shoot repair got tablet far love way work enlarg print chang light make easier read thing must amazon account use bought gift mother love bought friend like itwould recommend love much home bought super tough case let two six year old use love watch movi play differ app realli good valu daughter love tablet make sure brought case thin problem see everyth download perfect need go mini comput eread awesomeand repeat time blah price bargain perfect solut reader simpl brows use night bed first tablet experi awesom love abl stream movi numer app fingertip bought wife love third kindl period mani yearscant go wrong price got wife birthday older model want upgrad seem happi use everi day user friendlylong last batteryveri clear display love like one better sinc alreadi kindl knew want need second one littl bigger alway love servic help get bb knew would purchas found salesman knowledg help thank much help servic fit right hand light weight love extrem happi purchas like screen littl bigger much faster birthday gift husband realli like need realli enjoy new tablet like travel famili use play game watch movi right size purchas inch devic also purchas black coveri play ask could get set told would dollar dollar left store kindl someon els set free disappoint get someon els set kindl present year old grandson pleas bought wife anniversari love nice read watch video strong wi fi must slipperi hold buy cover done like time dont send ahsn get aggrav love size hd qualiti look fordownload app realli fast sixth unit featur mani newer model didnt thank love tablet gb memori expans slot bought gb micro sd card love featur thing last even month went dead go tri take back year old love much enjoy read play game surpris open bright color bought niec christma mostli use eread check email im happi purchas say complaint mm jack right next volum button get way think best product ive bought alreadi eight ive purchas year famili seem get better less expens price dad first time user anyth techi realli enjoy enjoy read find better devic excel price product qualiti bought christma gift year old son love great price fantast gift would recommend gift age bought christma present wife read time bought son birthday gift way wear laptop work great especi video gener onlin use use time much better bring laptop bought tablet wife absolut love also use school work great write note directli powerpoint bought husband realli enjoy great son monitor school work app download bought christma husbandand month still happi purchas nice screen easi see view buy anoth one soon purchas wife mother like play game read product ok best get sale item fine batteri life seem littl short bottom lineso sudden stope charg use time short time purchas get replac best help bought daughter work great store personnel excel job son live unit favorit game size tabl great im abl carri purs problem love best thing could ever brought bought comput love yearold dad check email chair rather go comput room got sale realli made worth get wife love tabletmuch easier use previou tablet purchas seem charg way th kindll perfect size read watch movi carri plane upgrad inch differ total satisfi would recommend everyon know like price right enjoy bought gift daughter diabet lose vision hope larg text easier see keep read nexu painstakingli slow want someth lag everytim tri use browser freez whilst play game get job done well batteri life also good highli recommend casual brows game satisfi product perform extrem well area oper bought one daughter help learn mani possibl way cheaper ipad basic thing bought friend sinc like mine muchit great way check email read kindl ebooksi keep sd card mine store book drop purs read go love custom servic knowledg help realli love product let read book surf net make sure buy micro sd card least gb memori constantli delet old item come new technolog help everyon enjoy life greatli devic realli good piec electron good reader also good year old granddaught use satisfi sale price way faster expect purchas product whim limit purpos studi exam middl seat long flight expect hand year old exam surpris realli enjoy devic particular like amazon account integr next flight delight find unit actual download video offlin view best part upgrad memori gb sd card avail content awesom truth first unit inexplic fail best buy replac unit right away expect great thing new devic son also use long trip abl download music movi free need comput savvi wound much help came simpl basic instruct gift son love help homework could also play game great mom isnt tech savvi luv bigger lighter weight old batteri life longer also storag camera love excel product would definit purchas birthday gift littl one love wife love gift made right purchas bought tablet son colleg love purchas gift receiv love said work nice love sent one famili mexico love got husband birthday like light weight speaker power one best purchas invest could make technolog huge fan product arent appl one good havent problem bought sister gift need use laptop basic internet surf watch movi travel devic speed decent although cannot compar perform laptop want avoid carri bulki laptop travel want budget make devic laptop choos amazon fire tablet pay best get best thank best buy provid product perfect tablet husband want size big small carri without clumsi drop love kindleit user friendli there much thought first work fine three week stop took back got replac one last almost month took back told deal amazonfound thru amazon webpag unit simpli froze reset upset store associ knew noth product research everyth wife want got total happi love size read onlin book realli like build qualiti lacklust perform minuscul batteri life didnt make keeper like download movi watch offlin netflix bought tablet mom birthday recent love use time ok price littl slow doesnt mani app googl play wife love said open much faster like auto updat app would recommend friend shop amazon mani preload game mani app gave gift friend senior citizen amazon paperwhit thought would love upgrad love great devic function love recommend cant say enough good year old love gift friend far love bought year old place nabi didnt work packag great basic tablet excel productrelablemaximum speedfast download purchas kindl year ago love flexibl give brows internet without move desk get person comput love fact continu read book travel doctor offic visit seem roll calmli ignor offic chatter tv select rather watch encourag other make purchas sever done second purchas love fire hd perfect size eread big enough see text small enough hold comfort gave daughter christma love use everi day good buy purchas year old great price point like parent control featur multipl profil allow control access plu gift famili member realli enjoy option get book best b help learn read follow direct best buy product provid great custom servic grandson enjoy product use bought gift love great price great read product love light adjust low light area adjust font size read comfort thing like download app watch movi realli love love whole lotthank guy gb minicomput camera perfect trip enjoy read via devic lot option also plu littl heavi hold reclin bought year old mother love bought two day went sale christma best buy excel price match asesom perform design got sale dollar couldnt recommend kid price featur awesom along parent control didnt actual use bought gift grandson alreadi one return pair goggl kid love batteri life longer other word relationship interrupt electron devic well girl take reader everywher go use tell talk much hardli get word edgewis bought mom move assist live place abl use littl show mom happi seem fast easi usei like better phone didnt get chanc see camera yet bought gift christma love gift mom first tablet issu far good product bought christma gift purchas anoth one soon want one play bejewel blitz one gift year old grandson great graphic sound got kid gift could read book easier help ton bought four kid love would recommend eread other high qualiti divers eread web browser travel lot perfect watch movi read flight granddaught love fire al game also download music app happi mani thing learn tablet gift grandpa internet search chair play game love simpl use inexpens highli recommend kindl wouldnt anyth els love read best devic yet read wifi capabl would highli recommend item great product got gift famili member love bought gift senior setup process could easier great inform servic guy help us friendli better older model bigger better realli enjoy amazon get easyer use find new app everi day extrem pleas fast effici reliabl bought someon tech savvi he done great great product second one purchas recomend love alexa featur love listen music read ebook bought grandchildren love user friendli great valu best buy bought christma sale bought yr old son perfect mixtur game kid friendli readalong book make perfect kid cours there much adult well great buy bought niec realli enjoy abl watch netflix play game could surf internet need went bigger gb sinc wasnt much gave door prize offic parti love price get alot valuegreat watch movi amazon shop youtub product met need would recommend other bought use recent travel abl download sever movi tv show netflix seem decent storag video playback fine purchas amazon fire gb model far perform expect drawback screen somewhat reflect light sourc need constant clean smudg normal use perfect gift offic cowork close friend surpris buy light compact still strong enough need help friendli didnt much select look found need great afford tablet year old grandson keep higher speed internet basic internet plu ton amazon app standard one want use amazon excel tool purchas niec christma gift love complaint purchas devic son take full benefit prime account decent devic reason featur low cost bought year old son navig app site easili built wifi help car ride parent control block buy everi download find attract still tri figur get alexa audio respond bought christma gift wife avid reader previous bn nook stop work much nicer love would recommend someon like read travel simpli home gift granddaught seem happi far gave gift christma still cant get set go geek squad help grandson use borrow one school bring back exchang differ make beauti pictur enjoy differ app look forward hour fun brought tablet black friday sale fast forward christma year open happi set two day later crash never came back blank screen disappoint purchas mom show app took without direct much easier travel lap top took coupl pictur camera went view cant seem find pictur bought tablet transfer app didnt transfer ill come explainedoth pleas bought gf sinc phone play game etc ive use time like got yr old main concern parent control parent control awesom featur easi set amazon plenti free app kid didnt need purchas extra thank im happi purchas purchas realli like price also bought protect case antiviru program devic good item realli recommend everyon amazon fire tab work realli wellth sync aspect nice abl pair devicesi wish googl play realli good gadget love everyth bought son read book search stuff line watch youtub said didnt hurt eye like ipad product quit durabl user friendli mani aspect year old enjoy play great select app game work well lack forward control screen right left movement keyboard good foor short note could never substanti type without extern keyboard good basic websurf email version much better older version better graphic faster processor havent use product like man tell u better appl product great size storag read onlin book grandson love smaller one want larger one receiv gift one best ive ever receiv bought year old love alway great starter tablet year old got christma abl use well gift daughter love open far know great purchas use watch youtub phone wife decid need someth bigger seem like much buy micro sd card bought dad love tech life easier alexa integr fantast purchas gift father he love bought two famili connect easili work surprisingli fast small price bought replac children age ipad theyr happi enjoy pad option great starter pad kid easi set print easili adjust extra larg year old dad realli happi first experi technolog surf net read news onlin highli recommend horriblejust like own due warranti got year old daughter love love abl make specif profil children awesom play pokemon clash use silk awesom great present bought christma gift year old love work great packag arriv earli issu bought six year old son christma present love couldnt happier keep entertain tablet good deal definit complaint best buy greatest deal love store want realli like way perform let connect librari diapoint purchas wife option phone laptop brows internet bought wife fire recharg often paper white like far want happi price perfect wife colleg daughter easyto learn reader purchas gift im tablet far exce expect thought twice get peopl say limit app limit happi abl get googl youtub netflix main app actual care price cannot better love much end get kid one good read long hour sinc batteri last hour recommend rel frienda bought two kid christma love level control give supervis monitor usag bought gift someon travel often love said qualiti expect bought three boy christma gift great littl tablet perfect everyth want use excel keep coffe tabl take along trip cant beat price definit worth investmenti may get coupl bought son enjoy play he abl download app want camera awesom use hd person entertain system christma gift granddaught love first one time updat peopl go bigger sofist ipad samsung good product child pass time someon want bell whistl perfect cheap devic kid grandkid nice sit around use ton yet happi experi far great stuff good tool help kid go find knowledg help want knowledg still encourag first time user pleas great book download big small bought fire hd replac older model kid love eas use integr amazon prime make product worth everi moment mostli use watch movi play game work well need great price need option far product goe may want stick ipad galaxi tab user friendli straight forward instruct great age realli afford present kid around pick doorbust fatherinlaw amazon account watch movi like love kendal cannot find case screen saver got thing around black friday paid someth buck awesom equip actual stream web glad bought cant believ inexpens good kid learn play game research school work purchas grandkidsand absolut love play play game heart content ar ed realli fast pretti happi far like fact add memori great tabl pay cheap price gift son son happi glad made choic kid love gadget thing learn play great thing custom content children love keep social media watch movi onlin fantast bought year old christma look like he go love bought niec christma im sure love happi product nice fanci hd cool abl see read book full format thank pretti impress littl devic easi setup work rather well also bought ipad air gb bf play around hd fire return air met need much lower price ad gb sd card download movi netflix hd display clear batteri life could littl better overal im satisfi free stuff get amazon prime account ice cake dig brought grandmoth realli love want someth game read thought great deal enjoy much pass lot time easi download gift mom absolut love exactli want perfect gift holiday saw review immedi get need away comput go work like read amd play game itbett bulki comput need inexpens portabl alexa devic work perfectli like download book fast still learn featur explor posit featur item budget friendli gift reader internet browser gift great sinc knew good present deserv person best gift begin less price enough speed memori kid like lot nephew year old great starter tablet gonna excit christma morn excel valu small laptop lenovo screen flash memori microsoft word year gift wife love use everyday hold great charg bought gift daughter love alreadi one bought anoth sister law christma realli enjoy far perfect mean certainli worth price work better expect abl surf net watch movi batteri life screen awesom bought buck look buy give gift truli enjoy product older one superb area entertain bought one last year one cousin continu anoth year great buy imo small enough carri purs open whole new world wait appoint look pretti solid updat review soon gift open one children bought one mother amaz tablet especi price purchas mainli use travel havent realli opportun give fair road test point advertis capabl download movi book watchread travel without burn data hit data roam fee purchas wifi flight gift mom problem learn use purchas gift nephew he happi item complaint bought colleg student substitut text book work great two oldest almost love tablet love freetim subscript amazon work right husband love well kid got everyth gotten primarili watch movi run basic internet program pleas date speed processor pictur qualiti great devic son game sinc alway use iphon told sale person could come back week receipt get black friday price custom servic ladi said dont misl item okay purchas tablet thanksgiv day alreadi store buy new cell phone sale pleas purchas alreadi amazon prime member link account happi purchas recommend brother bought day great gift year old nephew enjoy hour item perfect onlin read internet brows con amazon doesnt app googl play purchas daughter christma one well love know granddaught love older one given best bang buck small nano need space song come far love didnt realli need bigger one phone thing bought item nephew love old version fire hd love well way cheaper buy appl tablet havent problem well worth money bought daughter cant put great nextflix amaz product amazon within budget get best outcom far best deal money happi bought daughter inexpens user friendli use time she school bought christma gift heard good thing recommend buy awesom low price high qualiti daughter like much bought year old great parent control allow keep track monitor use would recommend other get children make great gift children love never put purchas nephew christma know enjoy read review varieti thing year old bought two grandson grand daughter love like parent control app love fire need howev four star cant get rid ad lock screen unless pay lot glare dont mind glare much speed great lot storag brought son exactli want love got kid durabl appl tabl wifi would drop often could listen spotifi servic without buffer got year old year old love educ app book read read along would recommend get case littl one keep protect suit exact need mobil way watch netflix one best purchas ever simpl use suggest sale associ im glad took suggest got wife use daili read realli loke great tablet price one purchas year ago use much laptop recent purchas two gift job travel would recommend friend perfect tablet year old without spend fortun love parent control limit time play bought mom scare even use laptop thought look user friendli sinc know year old nephew use ipad bought husband christma love fit need perfectli would recommend product perfect gift perfect price wife bring technilog modern world live instal driver googl play store also pay amazon get rid lock screen ad worth use thing alot sound screen qualiti great like blue light cutoff featurei found toggl back forth onlin clumsi compar tabletit lightweight easier handl long period time bought dad food christma love happi recommend good thank best buy number one year old use school scan qr code onlin math batteri last long time actual like old fire love read magazin check email granddaught love tablet learn play educ recreat game help futur purchas yr old granddaught primarili use netflix work great great item teen live item offer read amazonfir inexpens wifi devic use answer messag quickli shift person person well move room room gecksqd help understand differ thing purchas mom christma love bought christma gift year old big hit love screen price perfect budget purchas gift research word mouth led us purchas one user friendli purchas christma gift girlfriend absolut love use everi day she picki electron love tablet must good gift individu thoroughli enjoy love read book search internet abl sign set make devic super user friendli year old curiou adult materi tablet control much content see even control much learn watch video game love tablet size fit perfectli one hand display wonder load app read absolut best bought tabl year old christma love bought yr old qualiti product afford price bought sale son love lot kid friendli app avail left airlin flight bought replac love love speed video glad bought worth download speed improv much pricequilti thing brainer awesom portal amazon world wife use play line game love bought updat old one far good buy bought christma year old love impress tablet faster ipad use gave gift motherinlaw love thank cheaper paper white abil got gift mother she satisfi happi get product would also recommend friend dont use much applic work thing need alright brows internet watch video bought son first tablet impress builtin parent app good level control feel comfort son like kindl think like get use get educ featur play admittedli need explor tablet enabl custom set app bought niec christma giftsh year old love old kindl work good anymor bought one black friday deal best buy price great problem time seem charg well fast took back best buy would replac would lost progress game play person tech support suggest chang plug brick said problem use plug use iphon charg fine glad easi fix batteri life greatlast bu trip kept quiet got wife love great speed display gift son realli enjoy read well play game got mainli watch tvmovi batteri life best devic use date realli nice item work wonder cost bargain good pictur even take pictur awwsom even get free month amazon prime came handi around christma time thrill purchas afford high qualiti gave year old christma perfect gift great price point compar ipad function exactli need screen good lack googl play kinda hurt surviv issu back button multifunct button sometim dont appear need part screen kinda summon pain daughter get great use tablet love read get best world get book surf web fsntastic buy bought mom love convinc read book got yr old daughter perfect hasnt issu game educ app use bought year old daughter use daili enjoy watch movi play learn game far durabl batteri life great bought husband christma happi keep hair bought one young son breath lol weve issu met expect well worth money good deal regret price went week purchas much easier use phone screen size capabl bought son absolut love got kid xmaswa best gift year old daughter receiv christma seem love fay enough keep entertain love fact easili access book want bought father law tech savvi free may day featur best part dont get call tech support time got sale last year love iti use primarili read get email surf work flawlessli applic nice tab worth moneygot best buy thank give gift friend bought son wouldnt carri book back deploy bought one one daughter like got kindl christma present mother absolut love enjoy read night hate dim light read book perfect compromis brought gift wife love niec want christma enjoy everi minut use mani app look hard put everythig reach figertip love oneit third kindlemi last one bit larger bit heavylov one read play gamesi check email shop line well take store photosi also listen music want someth small perfect size keep get better great beginn pro wife love make life better els need know past bought wife absolut love devic got last black friday look cheap decent tab couldv better mirror capabl best thing read special go want one older son want one keep good work second amazon fire purchas want one home one keep travel work negoti fit basic daili need purchas christma gift adopt famili teenag absolut love friend enjoy get acquaint first ever electron devic need get digit age older woman excit kindlefir gift wife truli enjoy differ light read help user friendli price best deal bought wife read lot book love user friendli overal great product camera qualiti greatest intend use camera cant complain bought read tool daughter enjoy also fact download app great tool school fun bought husband replac old one use time would recommend daughter love use everi day like everyth purchas gift avid reader stream media devic look bigger kindl one right compromis size portabl plan use happi purcas gift mother law ok like product much thank ok nd would way rather fire day ipad love product first disappoint could download googl store app quick googl search fix issu download googl store app batteri life amaz abl watch around full movi singl charg perform great game like marvel champion modern strike onlin issu abl add sd card perfect dont worri storag download movi app speaker better samsung galaxi price point tablet singl thing complain bright screen better grandson love happi got year old son great read book play game cant beat price bought wife love took get use though well bought gift mother instead feel lock comput access web anywher hous perfect item need compact go anywher say best gift ever receiv kid got replac ipad havent miss beat bought aunt christma want book reader decid want someth could play game she happi bought daughter christma seem work great recent upgrad inch kindl must say huge improv say speed processor next year ram might compet ipad put memori card put play store googl use mini offic bluetooth keyboard love gift yr old grandson easi maneuv around great charg life forcethem take break']\n",
            "\n",
            "Product: http://reviews.bestbuy.com/3545/5442403/reviews.htm%25252525253Fformat%25252525253Dembedded%252525252526page%25252525253D21\n",
            "Summary: httpreviewsbestbuycomreviewshtmfformatdembeddedpag.\n",
            "Complaints: []\n",
            "\n",
            "Key Differences Between Top 3 Products:\n",
            "Difference between 841667104676 and 841710106442:\n",
            "Sentiment Difference: nan\n",
            "Cluster Difference: True\n",
            "\n",
            "Difference between 841710106442 and 841667104676:\n",
            "Sentiment Difference: nan\n",
            "Cluster Difference: True\n",
            "\n",
            "Difference between 841667104676 and 841667104676:\n",
            "Sentiment Difference: nan\n",
            "Cluster Difference: True\n",
            "\n",
            "Difference between 841667104676 and http://reviews.bestbuy.com/3545/5442403/reviews.htm%25252525253Fformat%25252525253Dembedded%252525252526page%25252525253D21:\n",
            "Sentiment Difference: nan\n",
            "Cluster Difference: False\n",
            "\n",
            "Worst Product: avg_sentiment    841710106442\n",
            "dtype: object\n",
            "Summary of Worst Product: https://amazoncomamazonbasicsperformancealkalinebatteriescountdpblhdmuo httpswwwamazoncomamazonbasicsperformancealkalinebatteriescountdpblhdmuo httpswwwamazoncomamazonbasicsperformancealkalinebatteriescountdpblhdmuo httpswwwamazoncomamazonbasicsperformancealkalinebatteriescountdpblhdmuo https\n"
          ]
        }
      ]
    }
  ],
  "metadata": {
    "kernelspec": {
      "display_name": "Python 3",
      "name": "python3"
    },
    "language_info": {
      "codemirror_mode": {
        "name": "ipython",
        "version": 3
      },
      "file_extension": ".py",
      "mimetype": "text/x-python",
      "name": "python",
      "nbconvert_exporter": "python",
      "pygments_lexer": "ipython3",
      "version": "3.12.7"
    },
    "colab": {
      "provenance": [],
      "gpuType": "T4",
      "include_colab_link": true
    },
    "accelerator": "GPU",
    "widgets": {
      "application/vnd.jupyter.widget-state+json": {
        "5ac3559ef589439f82bbad669640b278": {
          "model_module": "@jupyter-widgets/controls",
          "model_name": "HBoxModel",
          "model_module_version": "1.5.0",
          "state": {
            "_dom_classes": [],
            "_model_module": "@jupyter-widgets/controls",
            "_model_module_version": "1.5.0",
            "_model_name": "HBoxModel",
            "_view_count": null,
            "_view_module": "@jupyter-widgets/controls",
            "_view_module_version": "1.5.0",
            "_view_name": "HBoxView",
            "box_style": "",
            "children": [
              "IPY_MODEL_f04b7b6f663f45acb5410422a3a97855",
              "IPY_MODEL_2d292d2356bc4e1ab9ca6da6a062687b",
              "IPY_MODEL_4a48fb0da8e5405f8455d43c34fe2a3c"
            ],
            "layout": "IPY_MODEL_96bd8a0325bb41d9a8ac84e162f3774e"
          }
        },
        "f04b7b6f663f45acb5410422a3a97855": {
          "model_module": "@jupyter-widgets/controls",
          "model_name": "HTMLModel",
          "model_module_version": "1.5.0",
          "state": {
            "_dom_classes": [],
            "_model_module": "@jupyter-widgets/controls",
            "_model_module_version": "1.5.0",
            "_model_name": "HTMLModel",
            "_view_count": null,
            "_view_module": "@jupyter-widgets/controls",
            "_view_module_version": "1.5.0",
            "_view_name": "HTMLView",
            "description": "",
            "description_tooltip": null,
            "layout": "IPY_MODEL_9b624b3294fe451da24414f09a4bd50b",
            "placeholder": "​",
            "style": "IPY_MODEL_6089e2ebe303402eb744e6487a6c7fb3",
            "value": "spiece.model: 100%"
          }
        },
        "2d292d2356bc4e1ab9ca6da6a062687b": {
          "model_module": "@jupyter-widgets/controls",
          "model_name": "FloatProgressModel",
          "model_module_version": "1.5.0",
          "state": {
            "_dom_classes": [],
            "_model_module": "@jupyter-widgets/controls",
            "_model_module_version": "1.5.0",
            "_model_name": "FloatProgressModel",
            "_view_count": null,
            "_view_module": "@jupyter-widgets/controls",
            "_view_module_version": "1.5.0",
            "_view_name": "ProgressView",
            "bar_style": "success",
            "description": "",
            "description_tooltip": null,
            "layout": "IPY_MODEL_2da30e9ba7334fa6b882732050f73d9a",
            "max": 791656,
            "min": 0,
            "orientation": "horizontal",
            "style": "IPY_MODEL_ce337576be37425c8cb48a5903d1896f",
            "value": 791656
          }
        },
        "4a48fb0da8e5405f8455d43c34fe2a3c": {
          "model_module": "@jupyter-widgets/controls",
          "model_name": "HTMLModel",
          "model_module_version": "1.5.0",
          "state": {
            "_dom_classes": [],
            "_model_module": "@jupyter-widgets/controls",
            "_model_module_version": "1.5.0",
            "_model_name": "HTMLModel",
            "_view_count": null,
            "_view_module": "@jupyter-widgets/controls",
            "_view_module_version": "1.5.0",
            "_view_name": "HTMLView",
            "description": "",
            "description_tooltip": null,
            "layout": "IPY_MODEL_1abb829fd5b8442aa5af26e30a060bb2",
            "placeholder": "​",
            "style": "IPY_MODEL_06c9fc9f144c42a2aaf0bb0cdc9c1779",
            "value": " 792k/792k [00:00&lt;00:00, 5.75MB/s]"
          }
        },
        "96bd8a0325bb41d9a8ac84e162f3774e": {
          "model_module": "@jupyter-widgets/base",
          "model_name": "LayoutModel",
          "model_module_version": "1.2.0",
          "state": {
            "_model_module": "@jupyter-widgets/base",
            "_model_module_version": "1.2.0",
            "_model_name": "LayoutModel",
            "_view_count": null,
            "_view_module": "@jupyter-widgets/base",
            "_view_module_version": "1.2.0",
            "_view_name": "LayoutView",
            "align_content": null,
            "align_items": null,
            "align_self": null,
            "border": null,
            "bottom": null,
            "display": null,
            "flex": null,
            "flex_flow": null,
            "grid_area": null,
            "grid_auto_columns": null,
            "grid_auto_flow": null,
            "grid_auto_rows": null,
            "grid_column": null,
            "grid_gap": null,
            "grid_row": null,
            "grid_template_areas": null,
            "grid_template_columns": null,
            "grid_template_rows": null,
            "height": null,
            "justify_content": null,
            "justify_items": null,
            "left": null,
            "margin": null,
            "max_height": null,
            "max_width": null,
            "min_height": null,
            "min_width": null,
            "object_fit": null,
            "object_position": null,
            "order": null,
            "overflow": null,
            "overflow_x": null,
            "overflow_y": null,
            "padding": null,
            "right": null,
            "top": null,
            "visibility": null,
            "width": null
          }
        },
        "9b624b3294fe451da24414f09a4bd50b": {
          "model_module": "@jupyter-widgets/base",
          "model_name": "LayoutModel",
          "model_module_version": "1.2.0",
          "state": {
            "_model_module": "@jupyter-widgets/base",
            "_model_module_version": "1.2.0",
            "_model_name": "LayoutModel",
            "_view_count": null,
            "_view_module": "@jupyter-widgets/base",
            "_view_module_version": "1.2.0",
            "_view_name": "LayoutView",
            "align_content": null,
            "align_items": null,
            "align_self": null,
            "border": null,
            "bottom": null,
            "display": null,
            "flex": null,
            "flex_flow": null,
            "grid_area": null,
            "grid_auto_columns": null,
            "grid_auto_flow": null,
            "grid_auto_rows": null,
            "grid_column": null,
            "grid_gap": null,
            "grid_row": null,
            "grid_template_areas": null,
            "grid_template_columns": null,
            "grid_template_rows": null,
            "height": null,
            "justify_content": null,
            "justify_items": null,
            "left": null,
            "margin": null,
            "max_height": null,
            "max_width": null,
            "min_height": null,
            "min_width": null,
            "object_fit": null,
            "object_position": null,
            "order": null,
            "overflow": null,
            "overflow_x": null,
            "overflow_y": null,
            "padding": null,
            "right": null,
            "top": null,
            "visibility": null,
            "width": null
          }
        },
        "6089e2ebe303402eb744e6487a6c7fb3": {
          "model_module": "@jupyter-widgets/controls",
          "model_name": "DescriptionStyleModel",
          "model_module_version": "1.5.0",
          "state": {
            "_model_module": "@jupyter-widgets/controls",
            "_model_module_version": "1.5.0",
            "_model_name": "DescriptionStyleModel",
            "_view_count": null,
            "_view_module": "@jupyter-widgets/base",
            "_view_module_version": "1.2.0",
            "_view_name": "StyleView",
            "description_width": ""
          }
        },
        "2da30e9ba7334fa6b882732050f73d9a": {
          "model_module": "@jupyter-widgets/base",
          "model_name": "LayoutModel",
          "model_module_version": "1.2.0",
          "state": {
            "_model_module": "@jupyter-widgets/base",
            "_model_module_version": "1.2.0",
            "_model_name": "LayoutModel",
            "_view_count": null,
            "_view_module": "@jupyter-widgets/base",
            "_view_module_version": "1.2.0",
            "_view_name": "LayoutView",
            "align_content": null,
            "align_items": null,
            "align_self": null,
            "border": null,
            "bottom": null,
            "display": null,
            "flex": null,
            "flex_flow": null,
            "grid_area": null,
            "grid_auto_columns": null,
            "grid_auto_flow": null,
            "grid_auto_rows": null,
            "grid_column": null,
            "grid_gap": null,
            "grid_row": null,
            "grid_template_areas": null,
            "grid_template_columns": null,
            "grid_template_rows": null,
            "height": null,
            "justify_content": null,
            "justify_items": null,
            "left": null,
            "margin": null,
            "max_height": null,
            "max_width": null,
            "min_height": null,
            "min_width": null,
            "object_fit": null,
            "object_position": null,
            "order": null,
            "overflow": null,
            "overflow_x": null,
            "overflow_y": null,
            "padding": null,
            "right": null,
            "top": null,
            "visibility": null,
            "width": null
          }
        },
        "ce337576be37425c8cb48a5903d1896f": {
          "model_module": "@jupyter-widgets/controls",
          "model_name": "ProgressStyleModel",
          "model_module_version": "1.5.0",
          "state": {
            "_model_module": "@jupyter-widgets/controls",
            "_model_module_version": "1.5.0",
            "_model_name": "ProgressStyleModel",
            "_view_count": null,
            "_view_module": "@jupyter-widgets/base",
            "_view_module_version": "1.2.0",
            "_view_name": "StyleView",
            "bar_color": null,
            "description_width": ""
          }
        },
        "1abb829fd5b8442aa5af26e30a060bb2": {
          "model_module": "@jupyter-widgets/base",
          "model_name": "LayoutModel",
          "model_module_version": "1.2.0",
          "state": {
            "_model_module": "@jupyter-widgets/base",
            "_model_module_version": "1.2.0",
            "_model_name": "LayoutModel",
            "_view_count": null,
            "_view_module": "@jupyter-widgets/base",
            "_view_module_version": "1.2.0",
            "_view_name": "LayoutView",
            "align_content": null,
            "align_items": null,
            "align_self": null,
            "border": null,
            "bottom": null,
            "display": null,
            "flex": null,
            "flex_flow": null,
            "grid_area": null,
            "grid_auto_columns": null,
            "grid_auto_flow": null,
            "grid_auto_rows": null,
            "grid_column": null,
            "grid_gap": null,
            "grid_row": null,
            "grid_template_areas": null,
            "grid_template_columns": null,
            "grid_template_rows": null,
            "height": null,
            "justify_content": null,
            "justify_items": null,
            "left": null,
            "margin": null,
            "max_height": null,
            "max_width": null,
            "min_height": null,
            "min_width": null,
            "object_fit": null,
            "object_position": null,
            "order": null,
            "overflow": null,
            "overflow_x": null,
            "overflow_y": null,
            "padding": null,
            "right": null,
            "top": null,
            "visibility": null,
            "width": null
          }
        },
        "06c9fc9f144c42a2aaf0bb0cdc9c1779": {
          "model_module": "@jupyter-widgets/controls",
          "model_name": "DescriptionStyleModel",
          "model_module_version": "1.5.0",
          "state": {
            "_model_module": "@jupyter-widgets/controls",
            "_model_module_version": "1.5.0",
            "_model_name": "DescriptionStyleModel",
            "_view_count": null,
            "_view_module": "@jupyter-widgets/base",
            "_view_module_version": "1.2.0",
            "_view_name": "StyleView",
            "description_width": ""
          }
        },
        "426facf7f0984b4fa8825c84997c59ed": {
          "model_module": "@jupyter-widgets/controls",
          "model_name": "HBoxModel",
          "model_module_version": "1.5.0",
          "state": {
            "_dom_classes": [],
            "_model_module": "@jupyter-widgets/controls",
            "_model_module_version": "1.5.0",
            "_model_name": "HBoxModel",
            "_view_count": null,
            "_view_module": "@jupyter-widgets/controls",
            "_view_module_version": "1.5.0",
            "_view_name": "HBoxView",
            "box_style": "",
            "children": [
              "IPY_MODEL_5c7ffc0a45714efbacfd8a1d42844bcd",
              "IPY_MODEL_7aee713563c74a18ab8d186613baf592",
              "IPY_MODEL_3df3606eeb8640b68ee72ae3d0c2350e"
            ],
            "layout": "IPY_MODEL_507a91814a394241a994828903bf872a"
          }
        },
        "5c7ffc0a45714efbacfd8a1d42844bcd": {
          "model_module": "@jupyter-widgets/controls",
          "model_name": "HTMLModel",
          "model_module_version": "1.5.0",
          "state": {
            "_dom_classes": [],
            "_model_module": "@jupyter-widgets/controls",
            "_model_module_version": "1.5.0",
            "_model_name": "HTMLModel",
            "_view_count": null,
            "_view_module": "@jupyter-widgets/controls",
            "_view_module_version": "1.5.0",
            "_view_name": "HTMLView",
            "description": "",
            "description_tooltip": null,
            "layout": "IPY_MODEL_abba6805aa1340f0aa7b497c990e61a5",
            "placeholder": "​",
            "style": "IPY_MODEL_5db615dd35434884a8e4b68469cce753",
            "value": "tokenizer_config.json: 100%"
          }
        },
        "7aee713563c74a18ab8d186613baf592": {
          "model_module": "@jupyter-widgets/controls",
          "model_name": "FloatProgressModel",
          "model_module_version": "1.5.0",
          "state": {
            "_dom_classes": [],
            "_model_module": "@jupyter-widgets/controls",
            "_model_module_version": "1.5.0",
            "_model_name": "FloatProgressModel",
            "_view_count": null,
            "_view_module": "@jupyter-widgets/controls",
            "_view_module_version": "1.5.0",
            "_view_name": "ProgressView",
            "bar_style": "success",
            "description": "",
            "description_tooltip": null,
            "layout": "IPY_MODEL_4617aae27e624a169f74136f1dd15fbe",
            "max": 2324,
            "min": 0,
            "orientation": "horizontal",
            "style": "IPY_MODEL_ba30839ca3e64e4aa70bc72a48d71c3d",
            "value": 2324
          }
        },
        "3df3606eeb8640b68ee72ae3d0c2350e": {
          "model_module": "@jupyter-widgets/controls",
          "model_name": "HTMLModel",
          "model_module_version": "1.5.0",
          "state": {
            "_dom_classes": [],
            "_model_module": "@jupyter-widgets/controls",
            "_model_module_version": "1.5.0",
            "_model_name": "HTMLModel",
            "_view_count": null,
            "_view_module": "@jupyter-widgets/controls",
            "_view_module_version": "1.5.0",
            "_view_name": "HTMLView",
            "description": "",
            "description_tooltip": null,
            "layout": "IPY_MODEL_8974a0c1b73b4ff5b2344f4c2eae4fcf",
            "placeholder": "​",
            "style": "IPY_MODEL_5b8bb15419034417af9ef16300c405e0",
            "value": " 2.32k/2.32k [00:00&lt;00:00, 41.2kB/s]"
          }
        },
        "507a91814a394241a994828903bf872a": {
          "model_module": "@jupyter-widgets/base",
          "model_name": "LayoutModel",
          "model_module_version": "1.2.0",
          "state": {
            "_model_module": "@jupyter-widgets/base",
            "_model_module_version": "1.2.0",
            "_model_name": "LayoutModel",
            "_view_count": null,
            "_view_module": "@jupyter-widgets/base",
            "_view_module_version": "1.2.0",
            "_view_name": "LayoutView",
            "align_content": null,
            "align_items": null,
            "align_self": null,
            "border": null,
            "bottom": null,
            "display": null,
            "flex": null,
            "flex_flow": null,
            "grid_area": null,
            "grid_auto_columns": null,
            "grid_auto_flow": null,
            "grid_auto_rows": null,
            "grid_column": null,
            "grid_gap": null,
            "grid_row": null,
            "grid_template_areas": null,
            "grid_template_columns": null,
            "grid_template_rows": null,
            "height": null,
            "justify_content": null,
            "justify_items": null,
            "left": null,
            "margin": null,
            "max_height": null,
            "max_width": null,
            "min_height": null,
            "min_width": null,
            "object_fit": null,
            "object_position": null,
            "order": null,
            "overflow": null,
            "overflow_x": null,
            "overflow_y": null,
            "padding": null,
            "right": null,
            "top": null,
            "visibility": null,
            "width": null
          }
        },
        "abba6805aa1340f0aa7b497c990e61a5": {
          "model_module": "@jupyter-widgets/base",
          "model_name": "LayoutModel",
          "model_module_version": "1.2.0",
          "state": {
            "_model_module": "@jupyter-widgets/base",
            "_model_module_version": "1.2.0",
            "_model_name": "LayoutModel",
            "_view_count": null,
            "_view_module": "@jupyter-widgets/base",
            "_view_module_version": "1.2.0",
            "_view_name": "LayoutView",
            "align_content": null,
            "align_items": null,
            "align_self": null,
            "border": null,
            "bottom": null,
            "display": null,
            "flex": null,
            "flex_flow": null,
            "grid_area": null,
            "grid_auto_columns": null,
            "grid_auto_flow": null,
            "grid_auto_rows": null,
            "grid_column": null,
            "grid_gap": null,
            "grid_row": null,
            "grid_template_areas": null,
            "grid_template_columns": null,
            "grid_template_rows": null,
            "height": null,
            "justify_content": null,
            "justify_items": null,
            "left": null,
            "margin": null,
            "max_height": null,
            "max_width": null,
            "min_height": null,
            "min_width": null,
            "object_fit": null,
            "object_position": null,
            "order": null,
            "overflow": null,
            "overflow_x": null,
            "overflow_y": null,
            "padding": null,
            "right": null,
            "top": null,
            "visibility": null,
            "width": null
          }
        },
        "5db615dd35434884a8e4b68469cce753": {
          "model_module": "@jupyter-widgets/controls",
          "model_name": "DescriptionStyleModel",
          "model_module_version": "1.5.0",
          "state": {
            "_model_module": "@jupyter-widgets/controls",
            "_model_module_version": "1.5.0",
            "_model_name": "DescriptionStyleModel",
            "_view_count": null,
            "_view_module": "@jupyter-widgets/base",
            "_view_module_version": "1.2.0",
            "_view_name": "StyleView",
            "description_width": ""
          }
        },
        "4617aae27e624a169f74136f1dd15fbe": {
          "model_module": "@jupyter-widgets/base",
          "model_name": "LayoutModel",
          "model_module_version": "1.2.0",
          "state": {
            "_model_module": "@jupyter-widgets/base",
            "_model_module_version": "1.2.0",
            "_model_name": "LayoutModel",
            "_view_count": null,
            "_view_module": "@jupyter-widgets/base",
            "_view_module_version": "1.2.0",
            "_view_name": "LayoutView",
            "align_content": null,
            "align_items": null,
            "align_self": null,
            "border": null,
            "bottom": null,
            "display": null,
            "flex": null,
            "flex_flow": null,
            "grid_area": null,
            "grid_auto_columns": null,
            "grid_auto_flow": null,
            "grid_auto_rows": null,
            "grid_column": null,
            "grid_gap": null,
            "grid_row": null,
            "grid_template_areas": null,
            "grid_template_columns": null,
            "grid_template_rows": null,
            "height": null,
            "justify_content": null,
            "justify_items": null,
            "left": null,
            "margin": null,
            "max_height": null,
            "max_width": null,
            "min_height": null,
            "min_width": null,
            "object_fit": null,
            "object_position": null,
            "order": null,
            "overflow": null,
            "overflow_x": null,
            "overflow_y": null,
            "padding": null,
            "right": null,
            "top": null,
            "visibility": null,
            "width": null
          }
        },
        "ba30839ca3e64e4aa70bc72a48d71c3d": {
          "model_module": "@jupyter-widgets/controls",
          "model_name": "ProgressStyleModel",
          "model_module_version": "1.5.0",
          "state": {
            "_model_module": "@jupyter-widgets/controls",
            "_model_module_version": "1.5.0",
            "_model_name": "ProgressStyleModel",
            "_view_count": null,
            "_view_module": "@jupyter-widgets/base",
            "_view_module_version": "1.2.0",
            "_view_name": "StyleView",
            "bar_color": null,
            "description_width": ""
          }
        },
        "8974a0c1b73b4ff5b2344f4c2eae4fcf": {
          "model_module": "@jupyter-widgets/base",
          "model_name": "LayoutModel",
          "model_module_version": "1.2.0",
          "state": {
            "_model_module": "@jupyter-widgets/base",
            "_model_module_version": "1.2.0",
            "_model_name": "LayoutModel",
            "_view_count": null,
            "_view_module": "@jupyter-widgets/base",
            "_view_module_version": "1.2.0",
            "_view_name": "LayoutView",
            "align_content": null,
            "align_items": null,
            "align_self": null,
            "border": null,
            "bottom": null,
            "display": null,
            "flex": null,
            "flex_flow": null,
            "grid_area": null,
            "grid_auto_columns": null,
            "grid_auto_flow": null,
            "grid_auto_rows": null,
            "grid_column": null,
            "grid_gap": null,
            "grid_row": null,
            "grid_template_areas": null,
            "grid_template_columns": null,
            "grid_template_rows": null,
            "height": null,
            "justify_content": null,
            "justify_items": null,
            "left": null,
            "margin": null,
            "max_height": null,
            "max_width": null,
            "min_height": null,
            "min_width": null,
            "object_fit": null,
            "object_position": null,
            "order": null,
            "overflow": null,
            "overflow_x": null,
            "overflow_y": null,
            "padding": null,
            "right": null,
            "top": null,
            "visibility": null,
            "width": null
          }
        },
        "5b8bb15419034417af9ef16300c405e0": {
          "model_module": "@jupyter-widgets/controls",
          "model_name": "DescriptionStyleModel",
          "model_module_version": "1.5.0",
          "state": {
            "_model_module": "@jupyter-widgets/controls",
            "_model_module_version": "1.5.0",
            "_model_name": "DescriptionStyleModel",
            "_view_count": null,
            "_view_module": "@jupyter-widgets/base",
            "_view_module_version": "1.2.0",
            "_view_name": "StyleView",
            "description_width": ""
          }
        },
        "9bc49716cb0d468aac99a25bef7af2b9": {
          "model_module": "@jupyter-widgets/controls",
          "model_name": "HBoxModel",
          "model_module_version": "1.5.0",
          "state": {
            "_dom_classes": [],
            "_model_module": "@jupyter-widgets/controls",
            "_model_module_version": "1.5.0",
            "_model_name": "HBoxModel",
            "_view_count": null,
            "_view_module": "@jupyter-widgets/controls",
            "_view_module_version": "1.5.0",
            "_view_name": "HBoxView",
            "box_style": "",
            "children": [
              "IPY_MODEL_c1e303fd226144dc918ef6654afda69a",
              "IPY_MODEL_4a0f3717ec684223ae7498c8a897f55a",
              "IPY_MODEL_92e10663fe0141839c4e6098b55359f9"
            ],
            "layout": "IPY_MODEL_bda210f979ff410d9d029ebefcba05e5"
          }
        },
        "c1e303fd226144dc918ef6654afda69a": {
          "model_module": "@jupyter-widgets/controls",
          "model_name": "HTMLModel",
          "model_module_version": "1.5.0",
          "state": {
            "_dom_classes": [],
            "_model_module": "@jupyter-widgets/controls",
            "_model_module_version": "1.5.0",
            "_model_name": "HTMLModel",
            "_view_count": null,
            "_view_module": "@jupyter-widgets/controls",
            "_view_module_version": "1.5.0",
            "_view_name": "HTMLView",
            "description": "",
            "description_tooltip": null,
            "layout": "IPY_MODEL_e172ca39da564759a96c737af221f11c",
            "placeholder": "​",
            "style": "IPY_MODEL_ebb995025ace4f608fc6b1f5e33921bf",
            "value": "config.json: 100%"
          }
        },
        "4a0f3717ec684223ae7498c8a897f55a": {
          "model_module": "@jupyter-widgets/controls",
          "model_name": "FloatProgressModel",
          "model_module_version": "1.5.0",
          "state": {
            "_dom_classes": [],
            "_model_module": "@jupyter-widgets/controls",
            "_model_module_version": "1.5.0",
            "_model_name": "FloatProgressModel",
            "_view_count": null,
            "_view_module": "@jupyter-widgets/controls",
            "_view_module_version": "1.5.0",
            "_view_name": "ProgressView",
            "bar_style": "success",
            "description": "",
            "description_tooltip": null,
            "layout": "IPY_MODEL_e0b40a42acb543e38be2c1f37bb991e4",
            "max": 1206,
            "min": 0,
            "orientation": "horizontal",
            "style": "IPY_MODEL_9e763fbab6b14dde9c1ae8aac5b30af8",
            "value": 1206
          }
        },
        "92e10663fe0141839c4e6098b55359f9": {
          "model_module": "@jupyter-widgets/controls",
          "model_name": "HTMLModel",
          "model_module_version": "1.5.0",
          "state": {
            "_dom_classes": [],
            "_model_module": "@jupyter-widgets/controls",
            "_model_module_version": "1.5.0",
            "_model_name": "HTMLModel",
            "_view_count": null,
            "_view_module": "@jupyter-widgets/controls",
            "_view_module_version": "1.5.0",
            "_view_name": "HTMLView",
            "description": "",
            "description_tooltip": null,
            "layout": "IPY_MODEL_c22be635fe1449a8abb0329f4249c52a",
            "placeholder": "​",
            "style": "IPY_MODEL_61622cc9191d49a2a301bcd1935655cf",
            "value": " 1.21k/1.21k [00:00&lt;00:00, 37.9kB/s]"
          }
        },
        "bda210f979ff410d9d029ebefcba05e5": {
          "model_module": "@jupyter-widgets/base",
          "model_name": "LayoutModel",
          "model_module_version": "1.2.0",
          "state": {
            "_model_module": "@jupyter-widgets/base",
            "_model_module_version": "1.2.0",
            "_model_name": "LayoutModel",
            "_view_count": null,
            "_view_module": "@jupyter-widgets/base",
            "_view_module_version": "1.2.0",
            "_view_name": "LayoutView",
            "align_content": null,
            "align_items": null,
            "align_self": null,
            "border": null,
            "bottom": null,
            "display": null,
            "flex": null,
            "flex_flow": null,
            "grid_area": null,
            "grid_auto_columns": null,
            "grid_auto_flow": null,
            "grid_auto_rows": null,
            "grid_column": null,
            "grid_gap": null,
            "grid_row": null,
            "grid_template_areas": null,
            "grid_template_columns": null,
            "grid_template_rows": null,
            "height": null,
            "justify_content": null,
            "justify_items": null,
            "left": null,
            "margin": null,
            "max_height": null,
            "max_width": null,
            "min_height": null,
            "min_width": null,
            "object_fit": null,
            "object_position": null,
            "order": null,
            "overflow": null,
            "overflow_x": null,
            "overflow_y": null,
            "padding": null,
            "right": null,
            "top": null,
            "visibility": null,
            "width": null
          }
        },
        "e172ca39da564759a96c737af221f11c": {
          "model_module": "@jupyter-widgets/base",
          "model_name": "LayoutModel",
          "model_module_version": "1.2.0",
          "state": {
            "_model_module": "@jupyter-widgets/base",
            "_model_module_version": "1.2.0",
            "_model_name": "LayoutModel",
            "_view_count": null,
            "_view_module": "@jupyter-widgets/base",
            "_view_module_version": "1.2.0",
            "_view_name": "LayoutView",
            "align_content": null,
            "align_items": null,
            "align_self": null,
            "border": null,
            "bottom": null,
            "display": null,
            "flex": null,
            "flex_flow": null,
            "grid_area": null,
            "grid_auto_columns": null,
            "grid_auto_flow": null,
            "grid_auto_rows": null,
            "grid_column": null,
            "grid_gap": null,
            "grid_row": null,
            "grid_template_areas": null,
            "grid_template_columns": null,
            "grid_template_rows": null,
            "height": null,
            "justify_content": null,
            "justify_items": null,
            "left": null,
            "margin": null,
            "max_height": null,
            "max_width": null,
            "min_height": null,
            "min_width": null,
            "object_fit": null,
            "object_position": null,
            "order": null,
            "overflow": null,
            "overflow_x": null,
            "overflow_y": null,
            "padding": null,
            "right": null,
            "top": null,
            "visibility": null,
            "width": null
          }
        },
        "ebb995025ace4f608fc6b1f5e33921bf": {
          "model_module": "@jupyter-widgets/controls",
          "model_name": "DescriptionStyleModel",
          "model_module_version": "1.5.0",
          "state": {
            "_model_module": "@jupyter-widgets/controls",
            "_model_module_version": "1.5.0",
            "_model_name": "DescriptionStyleModel",
            "_view_count": null,
            "_view_module": "@jupyter-widgets/base",
            "_view_module_version": "1.2.0",
            "_view_name": "StyleView",
            "description_width": ""
          }
        },
        "e0b40a42acb543e38be2c1f37bb991e4": {
          "model_module": "@jupyter-widgets/base",
          "model_name": "LayoutModel",
          "model_module_version": "1.2.0",
          "state": {
            "_model_module": "@jupyter-widgets/base",
            "_model_module_version": "1.2.0",
            "_model_name": "LayoutModel",
            "_view_count": null,
            "_view_module": "@jupyter-widgets/base",
            "_view_module_version": "1.2.0",
            "_view_name": "LayoutView",
            "align_content": null,
            "align_items": null,
            "align_self": null,
            "border": null,
            "bottom": null,
            "display": null,
            "flex": null,
            "flex_flow": null,
            "grid_area": null,
            "grid_auto_columns": null,
            "grid_auto_flow": null,
            "grid_auto_rows": null,
            "grid_column": null,
            "grid_gap": null,
            "grid_row": null,
            "grid_template_areas": null,
            "grid_template_columns": null,
            "grid_template_rows": null,
            "height": null,
            "justify_content": null,
            "justify_items": null,
            "left": null,
            "margin": null,
            "max_height": null,
            "max_width": null,
            "min_height": null,
            "min_width": null,
            "object_fit": null,
            "object_position": null,
            "order": null,
            "overflow": null,
            "overflow_x": null,
            "overflow_y": null,
            "padding": null,
            "right": null,
            "top": null,
            "visibility": null,
            "width": null
          }
        },
        "9e763fbab6b14dde9c1ae8aac5b30af8": {
          "model_module": "@jupyter-widgets/controls",
          "model_name": "ProgressStyleModel",
          "model_module_version": "1.5.0",
          "state": {
            "_model_module": "@jupyter-widgets/controls",
            "_model_module_version": "1.5.0",
            "_model_name": "ProgressStyleModel",
            "_view_count": null,
            "_view_module": "@jupyter-widgets/base",
            "_view_module_version": "1.2.0",
            "_view_name": "StyleView",
            "bar_color": null,
            "description_width": ""
          }
        },
        "c22be635fe1449a8abb0329f4249c52a": {
          "model_module": "@jupyter-widgets/base",
          "model_name": "LayoutModel",
          "model_module_version": "1.2.0",
          "state": {
            "_model_module": "@jupyter-widgets/base",
            "_model_module_version": "1.2.0",
            "_model_name": "LayoutModel",
            "_view_count": null,
            "_view_module": "@jupyter-widgets/base",
            "_view_module_version": "1.2.0",
            "_view_name": "LayoutView",
            "align_content": null,
            "align_items": null,
            "align_self": null,
            "border": null,
            "bottom": null,
            "display": null,
            "flex": null,
            "flex_flow": null,
            "grid_area": null,
            "grid_auto_columns": null,
            "grid_auto_flow": null,
            "grid_auto_rows": null,
            "grid_column": null,
            "grid_gap": null,
            "grid_row": null,
            "grid_template_areas": null,
            "grid_template_columns": null,
            "grid_template_rows": null,
            "height": null,
            "justify_content": null,
            "justify_items": null,
            "left": null,
            "margin": null,
            "max_height": null,
            "max_width": null,
            "min_height": null,
            "min_width": null,
            "object_fit": null,
            "object_position": null,
            "order": null,
            "overflow": null,
            "overflow_x": null,
            "overflow_y": null,
            "padding": null,
            "right": null,
            "top": null,
            "visibility": null,
            "width": null
          }
        },
        "61622cc9191d49a2a301bcd1935655cf": {
          "model_module": "@jupyter-widgets/controls",
          "model_name": "DescriptionStyleModel",
          "model_module_version": "1.5.0",
          "state": {
            "_model_module": "@jupyter-widgets/controls",
            "_model_module_version": "1.5.0",
            "_model_name": "DescriptionStyleModel",
            "_view_count": null,
            "_view_module": "@jupyter-widgets/base",
            "_view_module_version": "1.2.0",
            "_view_name": "StyleView",
            "description_width": ""
          }
        },
        "a9eec6fb115c4f58b79797dd93892e49": {
          "model_module": "@jupyter-widgets/controls",
          "model_name": "HBoxModel",
          "model_module_version": "1.5.0",
          "state": {
            "_dom_classes": [],
            "_model_module": "@jupyter-widgets/controls",
            "_model_module_version": "1.5.0",
            "_model_name": "HBoxModel",
            "_view_count": null,
            "_view_module": "@jupyter-widgets/controls",
            "_view_module_version": "1.5.0",
            "_view_name": "HBoxView",
            "box_style": "",
            "children": [
              "IPY_MODEL_015ac18cc3134803bbeb43e55386eeca",
              "IPY_MODEL_89f7ede4133c4c8aa5e3f3f9c51aa75a",
              "IPY_MODEL_5face071bb804b269cd560ea3e8d17a8"
            ],
            "layout": "IPY_MODEL_85e90b8c98944d7aa4becf060b04436d"
          }
        },
        "015ac18cc3134803bbeb43e55386eeca": {
          "model_module": "@jupyter-widgets/controls",
          "model_name": "HTMLModel",
          "model_module_version": "1.5.0",
          "state": {
            "_dom_classes": [],
            "_model_module": "@jupyter-widgets/controls",
            "_model_module_version": "1.5.0",
            "_model_name": "HTMLModel",
            "_view_count": null,
            "_view_module": "@jupyter-widgets/controls",
            "_view_module_version": "1.5.0",
            "_view_name": "HTMLView",
            "description": "",
            "description_tooltip": null,
            "layout": "IPY_MODEL_4d2da3ce15404b7182f42b49b0100771",
            "placeholder": "​",
            "style": "IPY_MODEL_d8baf641783246109c0836b481851e22",
            "value": "model.safetensors: 100%"
          }
        },
        "89f7ede4133c4c8aa5e3f3f9c51aa75a": {
          "model_module": "@jupyter-widgets/controls",
          "model_name": "FloatProgressModel",
          "model_module_version": "1.5.0",
          "state": {
            "_dom_classes": [],
            "_model_module": "@jupyter-widgets/controls",
            "_model_module_version": "1.5.0",
            "_model_name": "FloatProgressModel",
            "_view_count": null,
            "_view_module": "@jupyter-widgets/controls",
            "_view_module_version": "1.5.0",
            "_view_name": "ProgressView",
            "bar_style": "success",
            "description": "",
            "description_tooltip": null,
            "layout": "IPY_MODEL_15482917a11a4914a62f0bdc28b59058",
            "max": 242043056,
            "min": 0,
            "orientation": "horizontal",
            "style": "IPY_MODEL_e5ef98fe74e84efb86ac2c8561cdb8ab",
            "value": 242043056
          }
        },
        "5face071bb804b269cd560ea3e8d17a8": {
          "model_module": "@jupyter-widgets/controls",
          "model_name": "HTMLModel",
          "model_module_version": "1.5.0",
          "state": {
            "_dom_classes": [],
            "_model_module": "@jupyter-widgets/controls",
            "_model_module_version": "1.5.0",
            "_model_name": "HTMLModel",
            "_view_count": null,
            "_view_module": "@jupyter-widgets/controls",
            "_view_module_version": "1.5.0",
            "_view_name": "HTMLView",
            "description": "",
            "description_tooltip": null,
            "layout": "IPY_MODEL_d2fa4662c5c7488fa333a0cd16048c47",
            "placeholder": "​",
            "style": "IPY_MODEL_eb417a0c13944d4cb4a97302e60afaf0",
            "value": " 242M/242M [00:02&lt;00:00, 131MB/s]"
          }
        },
        "85e90b8c98944d7aa4becf060b04436d": {
          "model_module": "@jupyter-widgets/base",
          "model_name": "LayoutModel",
          "model_module_version": "1.2.0",
          "state": {
            "_model_module": "@jupyter-widgets/base",
            "_model_module_version": "1.2.0",
            "_model_name": "LayoutModel",
            "_view_count": null,
            "_view_module": "@jupyter-widgets/base",
            "_view_module_version": "1.2.0",
            "_view_name": "LayoutView",
            "align_content": null,
            "align_items": null,
            "align_self": null,
            "border": null,
            "bottom": null,
            "display": null,
            "flex": null,
            "flex_flow": null,
            "grid_area": null,
            "grid_auto_columns": null,
            "grid_auto_flow": null,
            "grid_auto_rows": null,
            "grid_column": null,
            "grid_gap": null,
            "grid_row": null,
            "grid_template_areas": null,
            "grid_template_columns": null,
            "grid_template_rows": null,
            "height": null,
            "justify_content": null,
            "justify_items": null,
            "left": null,
            "margin": null,
            "max_height": null,
            "max_width": null,
            "min_height": null,
            "min_width": null,
            "object_fit": null,
            "object_position": null,
            "order": null,
            "overflow": null,
            "overflow_x": null,
            "overflow_y": null,
            "padding": null,
            "right": null,
            "top": null,
            "visibility": null,
            "width": null
          }
        },
        "4d2da3ce15404b7182f42b49b0100771": {
          "model_module": "@jupyter-widgets/base",
          "model_name": "LayoutModel",
          "model_module_version": "1.2.0",
          "state": {
            "_model_module": "@jupyter-widgets/base",
            "_model_module_version": "1.2.0",
            "_model_name": "LayoutModel",
            "_view_count": null,
            "_view_module": "@jupyter-widgets/base",
            "_view_module_version": "1.2.0",
            "_view_name": "LayoutView",
            "align_content": null,
            "align_items": null,
            "align_self": null,
            "border": null,
            "bottom": null,
            "display": null,
            "flex": null,
            "flex_flow": null,
            "grid_area": null,
            "grid_auto_columns": null,
            "grid_auto_flow": null,
            "grid_auto_rows": null,
            "grid_column": null,
            "grid_gap": null,
            "grid_row": null,
            "grid_template_areas": null,
            "grid_template_columns": null,
            "grid_template_rows": null,
            "height": null,
            "justify_content": null,
            "justify_items": null,
            "left": null,
            "margin": null,
            "max_height": null,
            "max_width": null,
            "min_height": null,
            "min_width": null,
            "object_fit": null,
            "object_position": null,
            "order": null,
            "overflow": null,
            "overflow_x": null,
            "overflow_y": null,
            "padding": null,
            "right": null,
            "top": null,
            "visibility": null,
            "width": null
          }
        },
        "d8baf641783246109c0836b481851e22": {
          "model_module": "@jupyter-widgets/controls",
          "model_name": "DescriptionStyleModel",
          "model_module_version": "1.5.0",
          "state": {
            "_model_module": "@jupyter-widgets/controls",
            "_model_module_version": "1.5.0",
            "_model_name": "DescriptionStyleModel",
            "_view_count": null,
            "_view_module": "@jupyter-widgets/base",
            "_view_module_version": "1.2.0",
            "_view_name": "StyleView",
            "description_width": ""
          }
        },
        "15482917a11a4914a62f0bdc28b59058": {
          "model_module": "@jupyter-widgets/base",
          "model_name": "LayoutModel",
          "model_module_version": "1.2.0",
          "state": {
            "_model_module": "@jupyter-widgets/base",
            "_model_module_version": "1.2.0",
            "_model_name": "LayoutModel",
            "_view_count": null,
            "_view_module": "@jupyter-widgets/base",
            "_view_module_version": "1.2.0",
            "_view_name": "LayoutView",
            "align_content": null,
            "align_items": null,
            "align_self": null,
            "border": null,
            "bottom": null,
            "display": null,
            "flex": null,
            "flex_flow": null,
            "grid_area": null,
            "grid_auto_columns": null,
            "grid_auto_flow": null,
            "grid_auto_rows": null,
            "grid_column": null,
            "grid_gap": null,
            "grid_row": null,
            "grid_template_areas": null,
            "grid_template_columns": null,
            "grid_template_rows": null,
            "height": null,
            "justify_content": null,
            "justify_items": null,
            "left": null,
            "margin": null,
            "max_height": null,
            "max_width": null,
            "min_height": null,
            "min_width": null,
            "object_fit": null,
            "object_position": null,
            "order": null,
            "overflow": null,
            "overflow_x": null,
            "overflow_y": null,
            "padding": null,
            "right": null,
            "top": null,
            "visibility": null,
            "width": null
          }
        },
        "e5ef98fe74e84efb86ac2c8561cdb8ab": {
          "model_module": "@jupyter-widgets/controls",
          "model_name": "ProgressStyleModel",
          "model_module_version": "1.5.0",
          "state": {
            "_model_module": "@jupyter-widgets/controls",
            "_model_module_version": "1.5.0",
            "_model_name": "ProgressStyleModel",
            "_view_count": null,
            "_view_module": "@jupyter-widgets/base",
            "_view_module_version": "1.2.0",
            "_view_name": "StyleView",
            "bar_color": null,
            "description_width": ""
          }
        },
        "d2fa4662c5c7488fa333a0cd16048c47": {
          "model_module": "@jupyter-widgets/base",
          "model_name": "LayoutModel",
          "model_module_version": "1.2.0",
          "state": {
            "_model_module": "@jupyter-widgets/base",
            "_model_module_version": "1.2.0",
            "_model_name": "LayoutModel",
            "_view_count": null,
            "_view_module": "@jupyter-widgets/base",
            "_view_module_version": "1.2.0",
            "_view_name": "LayoutView",
            "align_content": null,
            "align_items": null,
            "align_self": null,
            "border": null,
            "bottom": null,
            "display": null,
            "flex": null,
            "flex_flow": null,
            "grid_area": null,
            "grid_auto_columns": null,
            "grid_auto_flow": null,
            "grid_auto_rows": null,
            "grid_column": null,
            "grid_gap": null,
            "grid_row": null,
            "grid_template_areas": null,
            "grid_template_columns": null,
            "grid_template_rows": null,
            "height": null,
            "justify_content": null,
            "justify_items": null,
            "left": null,
            "margin": null,
            "max_height": null,
            "max_width": null,
            "min_height": null,
            "min_width": null,
            "object_fit": null,
            "object_position": null,
            "order": null,
            "overflow": null,
            "overflow_x": null,
            "overflow_y": null,
            "padding": null,
            "right": null,
            "top": null,
            "visibility": null,
            "width": null
          }
        },
        "eb417a0c13944d4cb4a97302e60afaf0": {
          "model_module": "@jupyter-widgets/controls",
          "model_name": "DescriptionStyleModel",
          "model_module_version": "1.5.0",
          "state": {
            "_model_module": "@jupyter-widgets/controls",
            "_model_module_version": "1.5.0",
            "_model_name": "DescriptionStyleModel",
            "_view_count": null,
            "_view_module": "@jupyter-widgets/base",
            "_view_module_version": "1.2.0",
            "_view_name": "StyleView",
            "description_width": ""
          }
        },
        "516b9968f1784f049f948cd4ec180328": {
          "model_module": "@jupyter-widgets/controls",
          "model_name": "HBoxModel",
          "model_module_version": "1.5.0",
          "state": {
            "_dom_classes": [],
            "_model_module": "@jupyter-widgets/controls",
            "_model_module_version": "1.5.0",
            "_model_name": "HBoxModel",
            "_view_count": null,
            "_view_module": "@jupyter-widgets/controls",
            "_view_module_version": "1.5.0",
            "_view_name": "HBoxView",
            "box_style": "",
            "children": [
              "IPY_MODEL_0ca47bf1b56147a3be39a75db96f3eb4",
              "IPY_MODEL_b9b9df5040474af3b77f732458a891f2",
              "IPY_MODEL_b1c8df5f538f4151a0df542b4b461bb3"
            ],
            "layout": "IPY_MODEL_72ac44520463466aa8feb6455a7735f2"
          }
        },
        "0ca47bf1b56147a3be39a75db96f3eb4": {
          "model_module": "@jupyter-widgets/controls",
          "model_name": "HTMLModel",
          "model_module_version": "1.5.0",
          "state": {
            "_dom_classes": [],
            "_model_module": "@jupyter-widgets/controls",
            "_model_module_version": "1.5.0",
            "_model_name": "HTMLModel",
            "_view_count": null,
            "_view_module": "@jupyter-widgets/controls",
            "_view_module_version": "1.5.0",
            "_view_name": "HTMLView",
            "description": "",
            "description_tooltip": null,
            "layout": "IPY_MODEL_dee0b9b722b441e6bb0dc59cdef4c531",
            "placeholder": "​",
            "style": "IPY_MODEL_df9727015c244c28bcb5bfe913bcd30f",
            "value": "Map: 100%"
          }
        },
        "b9b9df5040474af3b77f732458a891f2": {
          "model_module": "@jupyter-widgets/controls",
          "model_name": "FloatProgressModel",
          "model_module_version": "1.5.0",
          "state": {
            "_dom_classes": [],
            "_model_module": "@jupyter-widgets/controls",
            "_model_module_version": "1.5.0",
            "_model_name": "FloatProgressModel",
            "_view_count": null,
            "_view_module": "@jupyter-widgets/controls",
            "_view_module_version": "1.5.0",
            "_view_name": "ProgressView",
            "bar_style": "success",
            "description": "",
            "description_tooltip": null,
            "layout": "IPY_MODEL_e5d47e4382334891a91acbb744fa8f7e",
            "max": 5,
            "min": 0,
            "orientation": "horizontal",
            "style": "IPY_MODEL_1087f9ad8e1044c6a8864067cc9e4f9f",
            "value": 5
          }
        },
        "b1c8df5f538f4151a0df542b4b461bb3": {
          "model_module": "@jupyter-widgets/controls",
          "model_name": "HTMLModel",
          "model_module_version": "1.5.0",
          "state": {
            "_dom_classes": [],
            "_model_module": "@jupyter-widgets/controls",
            "_model_module_version": "1.5.0",
            "_model_name": "HTMLModel",
            "_view_count": null,
            "_view_module": "@jupyter-widgets/controls",
            "_view_module_version": "1.5.0",
            "_view_name": "HTMLView",
            "description": "",
            "description_tooltip": null,
            "layout": "IPY_MODEL_f65d120bb43a464195bd93c319a07219",
            "placeholder": "​",
            "style": "IPY_MODEL_5c30a2eb502e49da9991e942a1826f0d",
            "value": " 5/5 [00:00&lt;00:00, 18.14 examples/s]"
          }
        },
        "72ac44520463466aa8feb6455a7735f2": {
          "model_module": "@jupyter-widgets/base",
          "model_name": "LayoutModel",
          "model_module_version": "1.2.0",
          "state": {
            "_model_module": "@jupyter-widgets/base",
            "_model_module_version": "1.2.0",
            "_model_name": "LayoutModel",
            "_view_count": null,
            "_view_module": "@jupyter-widgets/base",
            "_view_module_version": "1.2.0",
            "_view_name": "LayoutView",
            "align_content": null,
            "align_items": null,
            "align_self": null,
            "border": null,
            "bottom": null,
            "display": null,
            "flex": null,
            "flex_flow": null,
            "grid_area": null,
            "grid_auto_columns": null,
            "grid_auto_flow": null,
            "grid_auto_rows": null,
            "grid_column": null,
            "grid_gap": null,
            "grid_row": null,
            "grid_template_areas": null,
            "grid_template_columns": null,
            "grid_template_rows": null,
            "height": null,
            "justify_content": null,
            "justify_items": null,
            "left": null,
            "margin": null,
            "max_height": null,
            "max_width": null,
            "min_height": null,
            "min_width": null,
            "object_fit": null,
            "object_position": null,
            "order": null,
            "overflow": null,
            "overflow_x": null,
            "overflow_y": null,
            "padding": null,
            "right": null,
            "top": null,
            "visibility": null,
            "width": null
          }
        },
        "dee0b9b722b441e6bb0dc59cdef4c531": {
          "model_module": "@jupyter-widgets/base",
          "model_name": "LayoutModel",
          "model_module_version": "1.2.0",
          "state": {
            "_model_module": "@jupyter-widgets/base",
            "_model_module_version": "1.2.0",
            "_model_name": "LayoutModel",
            "_view_count": null,
            "_view_module": "@jupyter-widgets/base",
            "_view_module_version": "1.2.0",
            "_view_name": "LayoutView",
            "align_content": null,
            "align_items": null,
            "align_self": null,
            "border": null,
            "bottom": null,
            "display": null,
            "flex": null,
            "flex_flow": null,
            "grid_area": null,
            "grid_auto_columns": null,
            "grid_auto_flow": null,
            "grid_auto_rows": null,
            "grid_column": null,
            "grid_gap": null,
            "grid_row": null,
            "grid_template_areas": null,
            "grid_template_columns": null,
            "grid_template_rows": null,
            "height": null,
            "justify_content": null,
            "justify_items": null,
            "left": null,
            "margin": null,
            "max_height": null,
            "max_width": null,
            "min_height": null,
            "min_width": null,
            "object_fit": null,
            "object_position": null,
            "order": null,
            "overflow": null,
            "overflow_x": null,
            "overflow_y": null,
            "padding": null,
            "right": null,
            "top": null,
            "visibility": null,
            "width": null
          }
        },
        "df9727015c244c28bcb5bfe913bcd30f": {
          "model_module": "@jupyter-widgets/controls",
          "model_name": "DescriptionStyleModel",
          "model_module_version": "1.5.0",
          "state": {
            "_model_module": "@jupyter-widgets/controls",
            "_model_module_version": "1.5.0",
            "_model_name": "DescriptionStyleModel",
            "_view_count": null,
            "_view_module": "@jupyter-widgets/base",
            "_view_module_version": "1.2.0",
            "_view_name": "StyleView",
            "description_width": ""
          }
        },
        "e5d47e4382334891a91acbb744fa8f7e": {
          "model_module": "@jupyter-widgets/base",
          "model_name": "LayoutModel",
          "model_module_version": "1.2.0",
          "state": {
            "_model_module": "@jupyter-widgets/base",
            "_model_module_version": "1.2.0",
            "_model_name": "LayoutModel",
            "_view_count": null,
            "_view_module": "@jupyter-widgets/base",
            "_view_module_version": "1.2.0",
            "_view_name": "LayoutView",
            "align_content": null,
            "align_items": null,
            "align_self": null,
            "border": null,
            "bottom": null,
            "display": null,
            "flex": null,
            "flex_flow": null,
            "grid_area": null,
            "grid_auto_columns": null,
            "grid_auto_flow": null,
            "grid_auto_rows": null,
            "grid_column": null,
            "grid_gap": null,
            "grid_row": null,
            "grid_template_areas": null,
            "grid_template_columns": null,
            "grid_template_rows": null,
            "height": null,
            "justify_content": null,
            "justify_items": null,
            "left": null,
            "margin": null,
            "max_height": null,
            "max_width": null,
            "min_height": null,
            "min_width": null,
            "object_fit": null,
            "object_position": null,
            "order": null,
            "overflow": null,
            "overflow_x": null,
            "overflow_y": null,
            "padding": null,
            "right": null,
            "top": null,
            "visibility": null,
            "width": null
          }
        },
        "1087f9ad8e1044c6a8864067cc9e4f9f": {
          "model_module": "@jupyter-widgets/controls",
          "model_name": "ProgressStyleModel",
          "model_module_version": "1.5.0",
          "state": {
            "_model_module": "@jupyter-widgets/controls",
            "_model_module_version": "1.5.0",
            "_model_name": "ProgressStyleModel",
            "_view_count": null,
            "_view_module": "@jupyter-widgets/base",
            "_view_module_version": "1.2.0",
            "_view_name": "StyleView",
            "bar_color": null,
            "description_width": ""
          }
        },
        "f65d120bb43a464195bd93c319a07219": {
          "model_module": "@jupyter-widgets/base",
          "model_name": "LayoutModel",
          "model_module_version": "1.2.0",
          "state": {
            "_model_module": "@jupyter-widgets/base",
            "_model_module_version": "1.2.0",
            "_model_name": "LayoutModel",
            "_view_count": null,
            "_view_module": "@jupyter-widgets/base",
            "_view_module_version": "1.2.0",
            "_view_name": "LayoutView",
            "align_content": null,
            "align_items": null,
            "align_self": null,
            "border": null,
            "bottom": null,
            "display": null,
            "flex": null,
            "flex_flow": null,
            "grid_area": null,
            "grid_auto_columns": null,
            "grid_auto_flow": null,
            "grid_auto_rows": null,
            "grid_column": null,
            "grid_gap": null,
            "grid_row": null,
            "grid_template_areas": null,
            "grid_template_columns": null,
            "grid_template_rows": null,
            "height": null,
            "justify_content": null,
            "justify_items": null,
            "left": null,
            "margin": null,
            "max_height": null,
            "max_width": null,
            "min_height": null,
            "min_width": null,
            "object_fit": null,
            "object_position": null,
            "order": null,
            "overflow": null,
            "overflow_x": null,
            "overflow_y": null,
            "padding": null,
            "right": null,
            "top": null,
            "visibility": null,
            "width": null
          }
        },
        "5c30a2eb502e49da9991e942a1826f0d": {
          "model_module": "@jupyter-widgets/controls",
          "model_name": "DescriptionStyleModel",
          "model_module_version": "1.5.0",
          "state": {
            "_model_module": "@jupyter-widgets/controls",
            "_model_module_version": "1.5.0",
            "_model_name": "DescriptionStyleModel",
            "_view_count": null,
            "_view_module": "@jupyter-widgets/base",
            "_view_module_version": "1.2.0",
            "_view_name": "StyleView",
            "description_width": ""
          }
        },
        "97ffeb311aee4594bb2b21618b27a41c": {
          "model_module": "@jupyter-widgets/controls",
          "model_name": "HBoxModel",
          "model_module_version": "1.5.0",
          "state": {
            "_dom_classes": [],
            "_model_module": "@jupyter-widgets/controls",
            "_model_module_version": "1.5.0",
            "_model_name": "HBoxModel",
            "_view_count": null,
            "_view_module": "@jupyter-widgets/controls",
            "_view_module_version": "1.5.0",
            "_view_name": "HBoxView",
            "box_style": "",
            "children": [
              "IPY_MODEL_d838ce4aa0fd4e3da4dba469023c20ae",
              "IPY_MODEL_ff3373524a1e4bafa56125d55057a406",
              "IPY_MODEL_9e34041335044e74a0aec7c3eb08498b"
            ],
            "layout": "IPY_MODEL_c4be3a2730e74801b2e64578fb94ffa7"
          }
        },
        "d838ce4aa0fd4e3da4dba469023c20ae": {
          "model_module": "@jupyter-widgets/controls",
          "model_name": "HTMLModel",
          "model_module_version": "1.5.0",
          "state": {
            "_dom_classes": [],
            "_model_module": "@jupyter-widgets/controls",
            "_model_module_version": "1.5.0",
            "_model_name": "HTMLModel",
            "_view_count": null,
            "_view_module": "@jupyter-widgets/controls",
            "_view_module_version": "1.5.0",
            "_view_name": "HTMLView",
            "description": "",
            "description_tooltip": null,
            "layout": "IPY_MODEL_85440a3ad594482887e0564a309cc4a9",
            "placeholder": "​",
            "style": "IPY_MODEL_2219e6701ee340cbad45c88add045b69",
            "value": "Downloading builder script: 100%"
          }
        },
        "ff3373524a1e4bafa56125d55057a406": {
          "model_module": "@jupyter-widgets/controls",
          "model_name": "FloatProgressModel",
          "model_module_version": "1.5.0",
          "state": {
            "_dom_classes": [],
            "_model_module": "@jupyter-widgets/controls",
            "_model_module_version": "1.5.0",
            "_model_name": "FloatProgressModel",
            "_view_count": null,
            "_view_module": "@jupyter-widgets/controls",
            "_view_module_version": "1.5.0",
            "_view_name": "ProgressView",
            "bar_style": "success",
            "description": "",
            "description_tooltip": null,
            "layout": "IPY_MODEL_a597e9afd7834bcfad0cd56b52db7686",
            "max": 6270,
            "min": 0,
            "orientation": "horizontal",
            "style": "IPY_MODEL_29a576cfcad34c67a847c937eb5929ce",
            "value": 6270
          }
        },
        "9e34041335044e74a0aec7c3eb08498b": {
          "model_module": "@jupyter-widgets/controls",
          "model_name": "HTMLModel",
          "model_module_version": "1.5.0",
          "state": {
            "_dom_classes": [],
            "_model_module": "@jupyter-widgets/controls",
            "_model_module_version": "1.5.0",
            "_model_name": "HTMLModel",
            "_view_count": null,
            "_view_module": "@jupyter-widgets/controls",
            "_view_module_version": "1.5.0",
            "_view_name": "HTMLView",
            "description": "",
            "description_tooltip": null,
            "layout": "IPY_MODEL_cb66621e36b845d5851f0ddb95291542",
            "placeholder": "​",
            "style": "IPY_MODEL_8459b4d98a704e8783755a653698abce",
            "value": " 6.27k/6.27k [00:00&lt;00:00, 452kB/s]"
          }
        },
        "c4be3a2730e74801b2e64578fb94ffa7": {
          "model_module": "@jupyter-widgets/base",
          "model_name": "LayoutModel",
          "model_module_version": "1.2.0",
          "state": {
            "_model_module": "@jupyter-widgets/base",
            "_model_module_version": "1.2.0",
            "_model_name": "LayoutModel",
            "_view_count": null,
            "_view_module": "@jupyter-widgets/base",
            "_view_module_version": "1.2.0",
            "_view_name": "LayoutView",
            "align_content": null,
            "align_items": null,
            "align_self": null,
            "border": null,
            "bottom": null,
            "display": null,
            "flex": null,
            "flex_flow": null,
            "grid_area": null,
            "grid_auto_columns": null,
            "grid_auto_flow": null,
            "grid_auto_rows": null,
            "grid_column": null,
            "grid_gap": null,
            "grid_row": null,
            "grid_template_areas": null,
            "grid_template_columns": null,
            "grid_template_rows": null,
            "height": null,
            "justify_content": null,
            "justify_items": null,
            "left": null,
            "margin": null,
            "max_height": null,
            "max_width": null,
            "min_height": null,
            "min_width": null,
            "object_fit": null,
            "object_position": null,
            "order": null,
            "overflow": null,
            "overflow_x": null,
            "overflow_y": null,
            "padding": null,
            "right": null,
            "top": null,
            "visibility": null,
            "width": null
          }
        },
        "85440a3ad594482887e0564a309cc4a9": {
          "model_module": "@jupyter-widgets/base",
          "model_name": "LayoutModel",
          "model_module_version": "1.2.0",
          "state": {
            "_model_module": "@jupyter-widgets/base",
            "_model_module_version": "1.2.0",
            "_model_name": "LayoutModel",
            "_view_count": null,
            "_view_module": "@jupyter-widgets/base",
            "_view_module_version": "1.2.0",
            "_view_name": "LayoutView",
            "align_content": null,
            "align_items": null,
            "align_self": null,
            "border": null,
            "bottom": null,
            "display": null,
            "flex": null,
            "flex_flow": null,
            "grid_area": null,
            "grid_auto_columns": null,
            "grid_auto_flow": null,
            "grid_auto_rows": null,
            "grid_column": null,
            "grid_gap": null,
            "grid_row": null,
            "grid_template_areas": null,
            "grid_template_columns": null,
            "grid_template_rows": null,
            "height": null,
            "justify_content": null,
            "justify_items": null,
            "left": null,
            "margin": null,
            "max_height": null,
            "max_width": null,
            "min_height": null,
            "min_width": null,
            "object_fit": null,
            "object_position": null,
            "order": null,
            "overflow": null,
            "overflow_x": null,
            "overflow_y": null,
            "padding": null,
            "right": null,
            "top": null,
            "visibility": null,
            "width": null
          }
        },
        "2219e6701ee340cbad45c88add045b69": {
          "model_module": "@jupyter-widgets/controls",
          "model_name": "DescriptionStyleModel",
          "model_module_version": "1.5.0",
          "state": {
            "_model_module": "@jupyter-widgets/controls",
            "_model_module_version": "1.5.0",
            "_model_name": "DescriptionStyleModel",
            "_view_count": null,
            "_view_module": "@jupyter-widgets/base",
            "_view_module_version": "1.2.0",
            "_view_name": "StyleView",
            "description_width": ""
          }
        },
        "a597e9afd7834bcfad0cd56b52db7686": {
          "model_module": "@jupyter-widgets/base",
          "model_name": "LayoutModel",
          "model_module_version": "1.2.0",
          "state": {
            "_model_module": "@jupyter-widgets/base",
            "_model_module_version": "1.2.0",
            "_model_name": "LayoutModel",
            "_view_count": null,
            "_view_module": "@jupyter-widgets/base",
            "_view_module_version": "1.2.0",
            "_view_name": "LayoutView",
            "align_content": null,
            "align_items": null,
            "align_self": null,
            "border": null,
            "bottom": null,
            "display": null,
            "flex": null,
            "flex_flow": null,
            "grid_area": null,
            "grid_auto_columns": null,
            "grid_auto_flow": null,
            "grid_auto_rows": null,
            "grid_column": null,
            "grid_gap": null,
            "grid_row": null,
            "grid_template_areas": null,
            "grid_template_columns": null,
            "grid_template_rows": null,
            "height": null,
            "justify_content": null,
            "justify_items": null,
            "left": null,
            "margin": null,
            "max_height": null,
            "max_width": null,
            "min_height": null,
            "min_width": null,
            "object_fit": null,
            "object_position": null,
            "order": null,
            "overflow": null,
            "overflow_x": null,
            "overflow_y": null,
            "padding": null,
            "right": null,
            "top": null,
            "visibility": null,
            "width": null
          }
        },
        "29a576cfcad34c67a847c937eb5929ce": {
          "model_module": "@jupyter-widgets/controls",
          "model_name": "ProgressStyleModel",
          "model_module_version": "1.5.0",
          "state": {
            "_model_module": "@jupyter-widgets/controls",
            "_model_module_version": "1.5.0",
            "_model_name": "ProgressStyleModel",
            "_view_count": null,
            "_view_module": "@jupyter-widgets/base",
            "_view_module_version": "1.2.0",
            "_view_name": "StyleView",
            "bar_color": null,
            "description_width": ""
          }
        },
        "cb66621e36b845d5851f0ddb95291542": {
          "model_module": "@jupyter-widgets/base",
          "model_name": "LayoutModel",
          "model_module_version": "1.2.0",
          "state": {
            "_model_module": "@jupyter-widgets/base",
            "_model_module_version": "1.2.0",
            "_model_name": "LayoutModel",
            "_view_count": null,
            "_view_module": "@jupyter-widgets/base",
            "_view_module_version": "1.2.0",
            "_view_name": "LayoutView",
            "align_content": null,
            "align_items": null,
            "align_self": null,
            "border": null,
            "bottom": null,
            "display": null,
            "flex": null,
            "flex_flow": null,
            "grid_area": null,
            "grid_auto_columns": null,
            "grid_auto_flow": null,
            "grid_auto_rows": null,
            "grid_column": null,
            "grid_gap": null,
            "grid_row": null,
            "grid_template_areas": null,
            "grid_template_columns": null,
            "grid_template_rows": null,
            "height": null,
            "justify_content": null,
            "justify_items": null,
            "left": null,
            "margin": null,
            "max_height": null,
            "max_width": null,
            "min_height": null,
            "min_width": null,
            "object_fit": null,
            "object_position": null,
            "order": null,
            "overflow": null,
            "overflow_x": null,
            "overflow_y": null,
            "padding": null,
            "right": null,
            "top": null,
            "visibility": null,
            "width": null
          }
        },
        "8459b4d98a704e8783755a653698abce": {
          "model_module": "@jupyter-widgets/controls",
          "model_name": "DescriptionStyleModel",
          "model_module_version": "1.5.0",
          "state": {
            "_model_module": "@jupyter-widgets/controls",
            "_model_module_version": "1.5.0",
            "_model_name": "DescriptionStyleModel",
            "_view_count": null,
            "_view_module": "@jupyter-widgets/base",
            "_view_module_version": "1.2.0",
            "_view_name": "StyleView",
            "description_width": ""
          }
        },
        "032d2bfea1de4350824ba853936a7dc5": {
          "model_module": "@jupyter-widgets/controls",
          "model_name": "HBoxModel",
          "model_module_version": "1.5.0",
          "state": {
            "_dom_classes": [],
            "_model_module": "@jupyter-widgets/controls",
            "_model_module_version": "1.5.0",
            "_model_name": "HBoxModel",
            "_view_count": null,
            "_view_module": "@jupyter-widgets/controls",
            "_view_module_version": "1.5.0",
            "_view_name": "HBoxView",
            "box_style": "",
            "children": [
              "IPY_MODEL_348cbd8830494faca1cb30685ef9c1ff",
              "IPY_MODEL_94127fe1cb214bf78be677b4a6a368f6",
              "IPY_MODEL_6b299ea4a4d84017a251e4f8fc0d407c"
            ],
            "layout": "IPY_MODEL_84a8bf6a070542cea740de5037396fd8"
          }
        },
        "348cbd8830494faca1cb30685ef9c1ff": {
          "model_module": "@jupyter-widgets/controls",
          "model_name": "HTMLModel",
          "model_module_version": "1.5.0",
          "state": {
            "_dom_classes": [],
            "_model_module": "@jupyter-widgets/controls",
            "_model_module_version": "1.5.0",
            "_model_name": "HTMLModel",
            "_view_count": null,
            "_view_module": "@jupyter-widgets/controls",
            "_view_module_version": "1.5.0",
            "_view_name": "HTMLView",
            "description": "",
            "description_tooltip": null,
            "layout": "IPY_MODEL_504969409d2841d6a1262aa59ae9327f",
            "placeholder": "​",
            "style": "IPY_MODEL_6ee95929d57c4ae7be59c82855148c25",
            "value": "Downloading builder script: 100%"
          }
        },
        "94127fe1cb214bf78be677b4a6a368f6": {
          "model_module": "@jupyter-widgets/controls",
          "model_name": "FloatProgressModel",
          "model_module_version": "1.5.0",
          "state": {
            "_dom_classes": [],
            "_model_module": "@jupyter-widgets/controls",
            "_model_module_version": "1.5.0",
            "_model_name": "FloatProgressModel",
            "_view_count": null,
            "_view_module": "@jupyter-widgets/controls",
            "_view_module_version": "1.5.0",
            "_view_name": "ProgressView",
            "bar_style": "success",
            "description": "",
            "description_tooltip": null,
            "layout": "IPY_MODEL_f50bcb3a1c6049b3b09b03b1197457a6",
            "max": 5937,
            "min": 0,
            "orientation": "horizontal",
            "style": "IPY_MODEL_ac0df60e8918477b9689e30353de34b2",
            "value": 5937
          }
        },
        "6b299ea4a4d84017a251e4f8fc0d407c": {
          "model_module": "@jupyter-widgets/controls",
          "model_name": "HTMLModel",
          "model_module_version": "1.5.0",
          "state": {
            "_dom_classes": [],
            "_model_module": "@jupyter-widgets/controls",
            "_model_module_version": "1.5.0",
            "_model_name": "HTMLModel",
            "_view_count": null,
            "_view_module": "@jupyter-widgets/controls",
            "_view_module_version": "1.5.0",
            "_view_name": "HTMLView",
            "description": "",
            "description_tooltip": null,
            "layout": "IPY_MODEL_d2fc08752af74574a34f92d42bd06550",
            "placeholder": "​",
            "style": "IPY_MODEL_ce2f419a87354872bed08dd054fb901a",
            "value": " 5.94k/5.94k [00:00&lt;00:00, 95.3kB/s]"
          }
        },
        "84a8bf6a070542cea740de5037396fd8": {
          "model_module": "@jupyter-widgets/base",
          "model_name": "LayoutModel",
          "model_module_version": "1.2.0",
          "state": {
            "_model_module": "@jupyter-widgets/base",
            "_model_module_version": "1.2.0",
            "_model_name": "LayoutModel",
            "_view_count": null,
            "_view_module": "@jupyter-widgets/base",
            "_view_module_version": "1.2.0",
            "_view_name": "LayoutView",
            "align_content": null,
            "align_items": null,
            "align_self": null,
            "border": null,
            "bottom": null,
            "display": null,
            "flex": null,
            "flex_flow": null,
            "grid_area": null,
            "grid_auto_columns": null,
            "grid_auto_flow": null,
            "grid_auto_rows": null,
            "grid_column": null,
            "grid_gap": null,
            "grid_row": null,
            "grid_template_areas": null,
            "grid_template_columns": null,
            "grid_template_rows": null,
            "height": null,
            "justify_content": null,
            "justify_items": null,
            "left": null,
            "margin": null,
            "max_height": null,
            "max_width": null,
            "min_height": null,
            "min_width": null,
            "object_fit": null,
            "object_position": null,
            "order": null,
            "overflow": null,
            "overflow_x": null,
            "overflow_y": null,
            "padding": null,
            "right": null,
            "top": null,
            "visibility": null,
            "width": null
          }
        },
        "504969409d2841d6a1262aa59ae9327f": {
          "model_module": "@jupyter-widgets/base",
          "model_name": "LayoutModel",
          "model_module_version": "1.2.0",
          "state": {
            "_model_module": "@jupyter-widgets/base",
            "_model_module_version": "1.2.0",
            "_model_name": "LayoutModel",
            "_view_count": null,
            "_view_module": "@jupyter-widgets/base",
            "_view_module_version": "1.2.0",
            "_view_name": "LayoutView",
            "align_content": null,
            "align_items": null,
            "align_self": null,
            "border": null,
            "bottom": null,
            "display": null,
            "flex": null,
            "flex_flow": null,
            "grid_area": null,
            "grid_auto_columns": null,
            "grid_auto_flow": null,
            "grid_auto_rows": null,
            "grid_column": null,
            "grid_gap": null,
            "grid_row": null,
            "grid_template_areas": null,
            "grid_template_columns": null,
            "grid_template_rows": null,
            "height": null,
            "justify_content": null,
            "justify_items": null,
            "left": null,
            "margin": null,
            "max_height": null,
            "max_width": null,
            "min_height": null,
            "min_width": null,
            "object_fit": null,
            "object_position": null,
            "order": null,
            "overflow": null,
            "overflow_x": null,
            "overflow_y": null,
            "padding": null,
            "right": null,
            "top": null,
            "visibility": null,
            "width": null
          }
        },
        "6ee95929d57c4ae7be59c82855148c25": {
          "model_module": "@jupyter-widgets/controls",
          "model_name": "DescriptionStyleModel",
          "model_module_version": "1.5.0",
          "state": {
            "_model_module": "@jupyter-widgets/controls",
            "_model_module_version": "1.5.0",
            "_model_name": "DescriptionStyleModel",
            "_view_count": null,
            "_view_module": "@jupyter-widgets/base",
            "_view_module_version": "1.2.0",
            "_view_name": "StyleView",
            "description_width": ""
          }
        },
        "f50bcb3a1c6049b3b09b03b1197457a6": {
          "model_module": "@jupyter-widgets/base",
          "model_name": "LayoutModel",
          "model_module_version": "1.2.0",
          "state": {
            "_model_module": "@jupyter-widgets/base",
            "_model_module_version": "1.2.0",
            "_model_name": "LayoutModel",
            "_view_count": null,
            "_view_module": "@jupyter-widgets/base",
            "_view_module_version": "1.2.0",
            "_view_name": "LayoutView",
            "align_content": null,
            "align_items": null,
            "align_self": null,
            "border": null,
            "bottom": null,
            "display": null,
            "flex": null,
            "flex_flow": null,
            "grid_area": null,
            "grid_auto_columns": null,
            "grid_auto_flow": null,
            "grid_auto_rows": null,
            "grid_column": null,
            "grid_gap": null,
            "grid_row": null,
            "grid_template_areas": null,
            "grid_template_columns": null,
            "grid_template_rows": null,
            "height": null,
            "justify_content": null,
            "justify_items": null,
            "left": null,
            "margin": null,
            "max_height": null,
            "max_width": null,
            "min_height": null,
            "min_width": null,
            "object_fit": null,
            "object_position": null,
            "order": null,
            "overflow": null,
            "overflow_x": null,
            "overflow_y": null,
            "padding": null,
            "right": null,
            "top": null,
            "visibility": null,
            "width": null
          }
        },
        "ac0df60e8918477b9689e30353de34b2": {
          "model_module": "@jupyter-widgets/controls",
          "model_name": "ProgressStyleModel",
          "model_module_version": "1.5.0",
          "state": {
            "_model_module": "@jupyter-widgets/controls",
            "_model_module_version": "1.5.0",
            "_model_name": "ProgressStyleModel",
            "_view_count": null,
            "_view_module": "@jupyter-widgets/base",
            "_view_module_version": "1.2.0",
            "_view_name": "StyleView",
            "bar_color": null,
            "description_width": ""
          }
        },
        "d2fc08752af74574a34f92d42bd06550": {
          "model_module": "@jupyter-widgets/base",
          "model_name": "LayoutModel",
          "model_module_version": "1.2.0",
          "state": {
            "_model_module": "@jupyter-widgets/base",
            "_model_module_version": "1.2.0",
            "_model_name": "LayoutModel",
            "_view_count": null,
            "_view_module": "@jupyter-widgets/base",
            "_view_module_version": "1.2.0",
            "_view_name": "LayoutView",
            "align_content": null,
            "align_items": null,
            "align_self": null,
            "border": null,
            "bottom": null,
            "display": null,
            "flex": null,
            "flex_flow": null,
            "grid_area": null,
            "grid_auto_columns": null,
            "grid_auto_flow": null,
            "grid_auto_rows": null,
            "grid_column": null,
            "grid_gap": null,
            "grid_row": null,
            "grid_template_areas": null,
            "grid_template_columns": null,
            "grid_template_rows": null,
            "height": null,
            "justify_content": null,
            "justify_items": null,
            "left": null,
            "margin": null,
            "max_height": null,
            "max_width": null,
            "min_height": null,
            "min_width": null,
            "object_fit": null,
            "object_position": null,
            "order": null,
            "overflow": null,
            "overflow_x": null,
            "overflow_y": null,
            "padding": null,
            "right": null,
            "top": null,
            "visibility": null,
            "width": null
          }
        },
        "ce2f419a87354872bed08dd054fb901a": {
          "model_module": "@jupyter-widgets/controls",
          "model_name": "DescriptionStyleModel",
          "model_module_version": "1.5.0",
          "state": {
            "_model_module": "@jupyter-widgets/controls",
            "_model_module_version": "1.5.0",
            "_model_name": "DescriptionStyleModel",
            "_view_count": null,
            "_view_module": "@jupyter-widgets/base",
            "_view_module_version": "1.2.0",
            "_view_name": "StyleView",
            "description_width": ""
          }
        },
        "48c3683494e24a169954f7f3956eaf0a": {
          "model_module": "@jupyter-widgets/controls",
          "model_name": "HBoxModel",
          "model_module_version": "1.5.0",
          "state": {
            "_dom_classes": [],
            "_model_module": "@jupyter-widgets/controls",
            "_model_module_version": "1.5.0",
            "_model_name": "HBoxModel",
            "_view_count": null,
            "_view_module": "@jupyter-widgets/controls",
            "_view_module_version": "1.5.0",
            "_view_name": "HBoxView",
            "box_style": "",
            "children": [
              "IPY_MODEL_6d979c882345466f8e54d07fb529eadd",
              "IPY_MODEL_44e52f8a364541b8a2ea36de9154e6c0",
              "IPY_MODEL_d0afe288d1a749c0b320858df314ddd8"
            ],
            "layout": "IPY_MODEL_7fb70ce0dcc345f0996d5fdcc0cfc19c"
          }
        },
        "6d979c882345466f8e54d07fb529eadd": {
          "model_module": "@jupyter-widgets/controls",
          "model_name": "HTMLModel",
          "model_module_version": "1.5.0",
          "state": {
            "_dom_classes": [],
            "_model_module": "@jupyter-widgets/controls",
            "_model_module_version": "1.5.0",
            "_model_name": "HTMLModel",
            "_view_count": null,
            "_view_module": "@jupyter-widgets/controls",
            "_view_module_version": "1.5.0",
            "_view_name": "HTMLView",
            "description": "",
            "description_tooltip": null,
            "layout": "IPY_MODEL_5632fefd5de945438c4dff10c14ea421",
            "placeholder": "​",
            "style": "IPY_MODEL_623a69d644ee46d38783a5b4559fcdb4",
            "value": "Downloading extra modules: "
          }
        },
        "44e52f8a364541b8a2ea36de9154e6c0": {
          "model_module": "@jupyter-widgets/controls",
          "model_name": "FloatProgressModel",
          "model_module_version": "1.5.0",
          "state": {
            "_dom_classes": [],
            "_model_module": "@jupyter-widgets/controls",
            "_model_module_version": "1.5.0",
            "_model_name": "FloatProgressModel",
            "_view_count": null,
            "_view_module": "@jupyter-widgets/controls",
            "_view_module_version": "1.5.0",
            "_view_name": "ProgressView",
            "bar_style": "success",
            "description": "",
            "description_tooltip": null,
            "layout": "IPY_MODEL_8a6c898035e649eaafd031800f4481f3",
            "max": 1554,
            "min": 0,
            "orientation": "horizontal",
            "style": "IPY_MODEL_f38b23e16ff84171b5e606431281217e",
            "value": 1554
          }
        },
        "d0afe288d1a749c0b320858df314ddd8": {
          "model_module": "@jupyter-widgets/controls",
          "model_name": "HTMLModel",
          "model_module_version": "1.5.0",
          "state": {
            "_dom_classes": [],
            "_model_module": "@jupyter-widgets/controls",
            "_model_module_version": "1.5.0",
            "_model_name": "HTMLModel",
            "_view_count": null,
            "_view_module": "@jupyter-widgets/controls",
            "_view_module_version": "1.5.0",
            "_view_name": "HTMLView",
            "description": "",
            "description_tooltip": null,
            "layout": "IPY_MODEL_18ec6224902c4b42a5b835acf90be087",
            "placeholder": "​",
            "style": "IPY_MODEL_7baa3195f1e44338a587f82523d45da3",
            "value": " 4.07k/? [00:00&lt;00:00, 71.6kB/s]"
          }
        },
        "7fb70ce0dcc345f0996d5fdcc0cfc19c": {
          "model_module": "@jupyter-widgets/base",
          "model_name": "LayoutModel",
          "model_module_version": "1.2.0",
          "state": {
            "_model_module": "@jupyter-widgets/base",
            "_model_module_version": "1.2.0",
            "_model_name": "LayoutModel",
            "_view_count": null,
            "_view_module": "@jupyter-widgets/base",
            "_view_module_version": "1.2.0",
            "_view_name": "LayoutView",
            "align_content": null,
            "align_items": null,
            "align_self": null,
            "border": null,
            "bottom": null,
            "display": null,
            "flex": null,
            "flex_flow": null,
            "grid_area": null,
            "grid_auto_columns": null,
            "grid_auto_flow": null,
            "grid_auto_rows": null,
            "grid_column": null,
            "grid_gap": null,
            "grid_row": null,
            "grid_template_areas": null,
            "grid_template_columns": null,
            "grid_template_rows": null,
            "height": null,
            "justify_content": null,
            "justify_items": null,
            "left": null,
            "margin": null,
            "max_height": null,
            "max_width": null,
            "min_height": null,
            "min_width": null,
            "object_fit": null,
            "object_position": null,
            "order": null,
            "overflow": null,
            "overflow_x": null,
            "overflow_y": null,
            "padding": null,
            "right": null,
            "top": null,
            "visibility": null,
            "width": null
          }
        },
        "5632fefd5de945438c4dff10c14ea421": {
          "model_module": "@jupyter-widgets/base",
          "model_name": "LayoutModel",
          "model_module_version": "1.2.0",
          "state": {
            "_model_module": "@jupyter-widgets/base",
            "_model_module_version": "1.2.0",
            "_model_name": "LayoutModel",
            "_view_count": null,
            "_view_module": "@jupyter-widgets/base",
            "_view_module_version": "1.2.0",
            "_view_name": "LayoutView",
            "align_content": null,
            "align_items": null,
            "align_self": null,
            "border": null,
            "bottom": null,
            "display": null,
            "flex": null,
            "flex_flow": null,
            "grid_area": null,
            "grid_auto_columns": null,
            "grid_auto_flow": null,
            "grid_auto_rows": null,
            "grid_column": null,
            "grid_gap": null,
            "grid_row": null,
            "grid_template_areas": null,
            "grid_template_columns": null,
            "grid_template_rows": null,
            "height": null,
            "justify_content": null,
            "justify_items": null,
            "left": null,
            "margin": null,
            "max_height": null,
            "max_width": null,
            "min_height": null,
            "min_width": null,
            "object_fit": null,
            "object_position": null,
            "order": null,
            "overflow": null,
            "overflow_x": null,
            "overflow_y": null,
            "padding": null,
            "right": null,
            "top": null,
            "visibility": null,
            "width": null
          }
        },
        "623a69d644ee46d38783a5b4559fcdb4": {
          "model_module": "@jupyter-widgets/controls",
          "model_name": "DescriptionStyleModel",
          "model_module_version": "1.5.0",
          "state": {
            "_model_module": "@jupyter-widgets/controls",
            "_model_module_version": "1.5.0",
            "_model_name": "DescriptionStyleModel",
            "_view_count": null,
            "_view_module": "@jupyter-widgets/base",
            "_view_module_version": "1.2.0",
            "_view_name": "StyleView",
            "description_width": ""
          }
        },
        "8a6c898035e649eaafd031800f4481f3": {
          "model_module": "@jupyter-widgets/base",
          "model_name": "LayoutModel",
          "model_module_version": "1.2.0",
          "state": {
            "_model_module": "@jupyter-widgets/base",
            "_model_module_version": "1.2.0",
            "_model_name": "LayoutModel",
            "_view_count": null,
            "_view_module": "@jupyter-widgets/base",
            "_view_module_version": "1.2.0",
            "_view_name": "LayoutView",
            "align_content": null,
            "align_items": null,
            "align_self": null,
            "border": null,
            "bottom": null,
            "display": null,
            "flex": null,
            "flex_flow": null,
            "grid_area": null,
            "grid_auto_columns": null,
            "grid_auto_flow": null,
            "grid_auto_rows": null,
            "grid_column": null,
            "grid_gap": null,
            "grid_row": null,
            "grid_template_areas": null,
            "grid_template_columns": null,
            "grid_template_rows": null,
            "height": null,
            "justify_content": null,
            "justify_items": null,
            "left": null,
            "margin": null,
            "max_height": null,
            "max_width": null,
            "min_height": null,
            "min_width": null,
            "object_fit": null,
            "object_position": null,
            "order": null,
            "overflow": null,
            "overflow_x": null,
            "overflow_y": null,
            "padding": null,
            "right": null,
            "top": null,
            "visibility": null,
            "width": null
          }
        },
        "f38b23e16ff84171b5e606431281217e": {
          "model_module": "@jupyter-widgets/controls",
          "model_name": "ProgressStyleModel",
          "model_module_version": "1.5.0",
          "state": {
            "_model_module": "@jupyter-widgets/controls",
            "_model_module_version": "1.5.0",
            "_model_name": "ProgressStyleModel",
            "_view_count": null,
            "_view_module": "@jupyter-widgets/base",
            "_view_module_version": "1.2.0",
            "_view_name": "StyleView",
            "bar_color": null,
            "description_width": ""
          }
        },
        "18ec6224902c4b42a5b835acf90be087": {
          "model_module": "@jupyter-widgets/base",
          "model_name": "LayoutModel",
          "model_module_version": "1.2.0",
          "state": {
            "_model_module": "@jupyter-widgets/base",
            "_model_module_version": "1.2.0",
            "_model_name": "LayoutModel",
            "_view_count": null,
            "_view_module": "@jupyter-widgets/base",
            "_view_module_version": "1.2.0",
            "_view_name": "LayoutView",
            "align_content": null,
            "align_items": null,
            "align_self": null,
            "border": null,
            "bottom": null,
            "display": null,
            "flex": null,
            "flex_flow": null,
            "grid_area": null,
            "grid_auto_columns": null,
            "grid_auto_flow": null,
            "grid_auto_rows": null,
            "grid_column": null,
            "grid_gap": null,
            "grid_row": null,
            "grid_template_areas": null,
            "grid_template_columns": null,
            "grid_template_rows": null,
            "height": null,
            "justify_content": null,
            "justify_items": null,
            "left": null,
            "margin": null,
            "max_height": null,
            "max_width": null,
            "min_height": null,
            "min_width": null,
            "object_fit": null,
            "object_position": null,
            "order": null,
            "overflow": null,
            "overflow_x": null,
            "overflow_y": null,
            "padding": null,
            "right": null,
            "top": null,
            "visibility": null,
            "width": null
          }
        },
        "7baa3195f1e44338a587f82523d45da3": {
          "model_module": "@jupyter-widgets/controls",
          "model_name": "DescriptionStyleModel",
          "model_module_version": "1.5.0",
          "state": {
            "_model_module": "@jupyter-widgets/controls",
            "_model_module_version": "1.5.0",
            "_model_name": "DescriptionStyleModel",
            "_view_count": null,
            "_view_module": "@jupyter-widgets/base",
            "_view_module_version": "1.2.0",
            "_view_name": "StyleView",
            "description_width": ""
          }
        },
        "d8f3217c33154452b7bfe87231a76960": {
          "model_module": "@jupyter-widgets/controls",
          "model_name": "HBoxModel",
          "model_module_version": "1.5.0",
          "state": {
            "_dom_classes": [],
            "_model_module": "@jupyter-widgets/controls",
            "_model_module_version": "1.5.0",
            "_model_name": "HBoxModel",
            "_view_count": null,
            "_view_module": "@jupyter-widgets/controls",
            "_view_module_version": "1.5.0",
            "_view_name": "HBoxView",
            "box_style": "",
            "children": [
              "IPY_MODEL_8fe58243f6464287a871e2d3e423df6c",
              "IPY_MODEL_4f1f63e7f80743ab857903d55f9965f0",
              "IPY_MODEL_9153118195fe4cc5b88ff462f9d6050c"
            ],
            "layout": "IPY_MODEL_ee674d33d6554988b36fa8394a086a89"
          }
        },
        "8fe58243f6464287a871e2d3e423df6c": {
          "model_module": "@jupyter-widgets/controls",
          "model_name": "HTMLModel",
          "model_module_version": "1.5.0",
          "state": {
            "_dom_classes": [],
            "_model_module": "@jupyter-widgets/controls",
            "_model_module_version": "1.5.0",
            "_model_name": "HTMLModel",
            "_view_count": null,
            "_view_module": "@jupyter-widgets/controls",
            "_view_module_version": "1.5.0",
            "_view_name": "HTMLView",
            "description": "",
            "description_tooltip": null,
            "layout": "IPY_MODEL_bb6c6306595e48c3b442a69ecb15043b",
            "placeholder": "​",
            "style": "IPY_MODEL_3deac349f190447c95287a0bd0cc8cb3",
            "value": "Downloading extra modules: 100%"
          }
        },
        "4f1f63e7f80743ab857903d55f9965f0": {
          "model_module": "@jupyter-widgets/controls",
          "model_name": "FloatProgressModel",
          "model_module_version": "1.5.0",
          "state": {
            "_dom_classes": [],
            "_model_module": "@jupyter-widgets/controls",
            "_model_module_version": "1.5.0",
            "_model_name": "FloatProgressModel",
            "_view_count": null,
            "_view_module": "@jupyter-widgets/controls",
            "_view_module_version": "1.5.0",
            "_view_name": "ProgressView",
            "bar_style": "success",
            "description": "",
            "description_tooltip": null,
            "layout": "IPY_MODEL_ecf4efbcb3db449e965cbf7ba30c8d66",
            "max": 3344,
            "min": 0,
            "orientation": "horizontal",
            "style": "IPY_MODEL_3d258ba517324e70b080a4e85c83da15",
            "value": 3344
          }
        },
        "9153118195fe4cc5b88ff462f9d6050c": {
          "model_module": "@jupyter-widgets/controls",
          "model_name": "HTMLModel",
          "model_module_version": "1.5.0",
          "state": {
            "_dom_classes": [],
            "_model_module": "@jupyter-widgets/controls",
            "_model_module_version": "1.5.0",
            "_model_name": "HTMLModel",
            "_view_count": null,
            "_view_module": "@jupyter-widgets/controls",
            "_view_module_version": "1.5.0",
            "_view_name": "HTMLView",
            "description": "",
            "description_tooltip": null,
            "layout": "IPY_MODEL_46b9192824ab4f1fa014b3e849a1dcad",
            "placeholder": "​",
            "style": "IPY_MODEL_1e661d063d094ec18e3a1a90dd5c799d",
            "value": " 3.34k/3.34k [00:00&lt;00:00, 86.1kB/s]"
          }
        },
        "ee674d33d6554988b36fa8394a086a89": {
          "model_module": "@jupyter-widgets/base",
          "model_name": "LayoutModel",
          "model_module_version": "1.2.0",
          "state": {
            "_model_module": "@jupyter-widgets/base",
            "_model_module_version": "1.2.0",
            "_model_name": "LayoutModel",
            "_view_count": null,
            "_view_module": "@jupyter-widgets/base",
            "_view_module_version": "1.2.0",
            "_view_name": "LayoutView",
            "align_content": null,
            "align_items": null,
            "align_self": null,
            "border": null,
            "bottom": null,
            "display": null,
            "flex": null,
            "flex_flow": null,
            "grid_area": null,
            "grid_auto_columns": null,
            "grid_auto_flow": null,
            "grid_auto_rows": null,
            "grid_column": null,
            "grid_gap": null,
            "grid_row": null,
            "grid_template_areas": null,
            "grid_template_columns": null,
            "grid_template_rows": null,
            "height": null,
            "justify_content": null,
            "justify_items": null,
            "left": null,
            "margin": null,
            "max_height": null,
            "max_width": null,
            "min_height": null,
            "min_width": null,
            "object_fit": null,
            "object_position": null,
            "order": null,
            "overflow": null,
            "overflow_x": null,
            "overflow_y": null,
            "padding": null,
            "right": null,
            "top": null,
            "visibility": null,
            "width": null
          }
        },
        "bb6c6306595e48c3b442a69ecb15043b": {
          "model_module": "@jupyter-widgets/base",
          "model_name": "LayoutModel",
          "model_module_version": "1.2.0",
          "state": {
            "_model_module": "@jupyter-widgets/base",
            "_model_module_version": "1.2.0",
            "_model_name": "LayoutModel",
            "_view_count": null,
            "_view_module": "@jupyter-widgets/base",
            "_view_module_version": "1.2.0",
            "_view_name": "LayoutView",
            "align_content": null,
            "align_items": null,
            "align_self": null,
            "border": null,
            "bottom": null,
            "display": null,
            "flex": null,
            "flex_flow": null,
            "grid_area": null,
            "grid_auto_columns": null,
            "grid_auto_flow": null,
            "grid_auto_rows": null,
            "grid_column": null,
            "grid_gap": null,
            "grid_row": null,
            "grid_template_areas": null,
            "grid_template_columns": null,
            "grid_template_rows": null,
            "height": null,
            "justify_content": null,
            "justify_items": null,
            "left": null,
            "margin": null,
            "max_height": null,
            "max_width": null,
            "min_height": null,
            "min_width": null,
            "object_fit": null,
            "object_position": null,
            "order": null,
            "overflow": null,
            "overflow_x": null,
            "overflow_y": null,
            "padding": null,
            "right": null,
            "top": null,
            "visibility": null,
            "width": null
          }
        },
        "3deac349f190447c95287a0bd0cc8cb3": {
          "model_module": "@jupyter-widgets/controls",
          "model_name": "DescriptionStyleModel",
          "model_module_version": "1.5.0",
          "state": {
            "_model_module": "@jupyter-widgets/controls",
            "_model_module_version": "1.5.0",
            "_model_name": "DescriptionStyleModel",
            "_view_count": null,
            "_view_module": "@jupyter-widgets/base",
            "_view_module_version": "1.2.0",
            "_view_name": "StyleView",
            "description_width": ""
          }
        },
        "ecf4efbcb3db449e965cbf7ba30c8d66": {
          "model_module": "@jupyter-widgets/base",
          "model_name": "LayoutModel",
          "model_module_version": "1.2.0",
          "state": {
            "_model_module": "@jupyter-widgets/base",
            "_model_module_version": "1.2.0",
            "_model_name": "LayoutModel",
            "_view_count": null,
            "_view_module": "@jupyter-widgets/base",
            "_view_module_version": "1.2.0",
            "_view_name": "LayoutView",
            "align_content": null,
            "align_items": null,
            "align_self": null,
            "border": null,
            "bottom": null,
            "display": null,
            "flex": null,
            "flex_flow": null,
            "grid_area": null,
            "grid_auto_columns": null,
            "grid_auto_flow": null,
            "grid_auto_rows": null,
            "grid_column": null,
            "grid_gap": null,
            "grid_row": null,
            "grid_template_areas": null,
            "grid_template_columns": null,
            "grid_template_rows": null,
            "height": null,
            "justify_content": null,
            "justify_items": null,
            "left": null,
            "margin": null,
            "max_height": null,
            "max_width": null,
            "min_height": null,
            "min_width": null,
            "object_fit": null,
            "object_position": null,
            "order": null,
            "overflow": null,
            "overflow_x": null,
            "overflow_y": null,
            "padding": null,
            "right": null,
            "top": null,
            "visibility": null,
            "width": null
          }
        },
        "3d258ba517324e70b080a4e85c83da15": {
          "model_module": "@jupyter-widgets/controls",
          "model_name": "ProgressStyleModel",
          "model_module_version": "1.5.0",
          "state": {
            "_model_module": "@jupyter-widgets/controls",
            "_model_module_version": "1.5.0",
            "_model_name": "ProgressStyleModel",
            "_view_count": null,
            "_view_module": "@jupyter-widgets/base",
            "_view_module_version": "1.2.0",
            "_view_name": "StyleView",
            "bar_color": null,
            "description_width": ""
          }
        },
        "46b9192824ab4f1fa014b3e849a1dcad": {
          "model_module": "@jupyter-widgets/base",
          "model_name": "LayoutModel",
          "model_module_version": "1.2.0",
          "state": {
            "_model_module": "@jupyter-widgets/base",
            "_model_module_version": "1.2.0",
            "_model_name": "LayoutModel",
            "_view_count": null,
            "_view_module": "@jupyter-widgets/base",
            "_view_module_version": "1.2.0",
            "_view_name": "LayoutView",
            "align_content": null,
            "align_items": null,
            "align_self": null,
            "border": null,
            "bottom": null,
            "display": null,
            "flex": null,
            "flex_flow": null,
            "grid_area": null,
            "grid_auto_columns": null,
            "grid_auto_flow": null,
            "grid_auto_rows": null,
            "grid_column": null,
            "grid_gap": null,
            "grid_row": null,
            "grid_template_areas": null,
            "grid_template_columns": null,
            "grid_template_rows": null,
            "height": null,
            "justify_content": null,
            "justify_items": null,
            "left": null,
            "margin": null,
            "max_height": null,
            "max_width": null,
            "min_height": null,
            "min_width": null,
            "object_fit": null,
            "object_position": null,
            "order": null,
            "overflow": null,
            "overflow_x": null,
            "overflow_y": null,
            "padding": null,
            "right": null,
            "top": null,
            "visibility": null,
            "width": null
          }
        },
        "1e661d063d094ec18e3a1a90dd5c799d": {
          "model_module": "@jupyter-widgets/controls",
          "model_name": "DescriptionStyleModel",
          "model_module_version": "1.5.0",
          "state": {
            "_model_module": "@jupyter-widgets/controls",
            "_model_module_version": "1.5.0",
            "_model_name": "DescriptionStyleModel",
            "_view_count": null,
            "_view_module": "@jupyter-widgets/base",
            "_view_module_version": "1.2.0",
            "_view_name": "StyleView",
            "description_width": ""
          }
        }
      }
    }
  },
  "nbformat": 4,
  "nbformat_minor": 0
}