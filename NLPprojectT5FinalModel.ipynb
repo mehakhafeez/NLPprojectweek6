{
  "cells": [
    {
      "cell_type": "code",
      "execution_count": 1,
      "metadata": {
        "colab": {
          "base_uri": "https://localhost:8080/"
        },
        "id": "sVVIKqO254kR",
        "outputId": "2b4a89c3-2fba-46a4-ae59-193f0072462e"
      },
      "outputs": [
        {
          "output_type": "stream",
          "name": "stdout",
          "text": [
            "Requirement already satisfied: textblob in /usr/local/lib/python3.10/dist-packages (0.17.1)\n",
            "Requirement already satisfied: nltk in /usr/local/lib/python3.10/dist-packages (3.9.1)\n",
            "Collecting rouge-score\n",
            "  Downloading rouge_score-0.1.2.tar.gz (17 kB)\n",
            "  Preparing metadata (setup.py) ... \u001b[?25l\u001b[?25hdone\n",
            "Requirement already satisfied: click in /usr/local/lib/python3.10/dist-packages (from nltk) (8.1.8)\n",
            "Requirement already satisfied: joblib in /usr/local/lib/python3.10/dist-packages (from nltk) (1.4.2)\n",
            "Requirement already satisfied: regex>=2021.8.3 in /usr/local/lib/python3.10/dist-packages (from nltk) (2024.11.6)\n",
            "Requirement already satisfied: tqdm in /usr/local/lib/python3.10/dist-packages (from nltk) (4.67.1)\n",
            "Requirement already satisfied: absl-py in /usr/local/lib/python3.10/dist-packages (from rouge-score) (1.4.0)\n",
            "Requirement already satisfied: numpy in /usr/local/lib/python3.10/dist-packages (from rouge-score) (1.26.4)\n",
            "Requirement already satisfied: six>=1.14.0 in /usr/local/lib/python3.10/dist-packages (from rouge-score) (1.17.0)\n",
            "Building wheels for collected packages: rouge-score\n",
            "  Building wheel for rouge-score (setup.py) ... \u001b[?25l\u001b[?25hdone\n",
            "  Created wheel for rouge-score: filename=rouge_score-0.1.2-py3-none-any.whl size=24935 sha256=eedd5a733756f3a8e386d630612db58d96f7937f9ba4de02722c861e1fcd4841\n",
            "  Stored in directory: /root/.cache/pip/wheels/5f/dd/89/461065a73be61a532ff8599a28e9beef17985c9e9c31e541b4\n",
            "Successfully built rouge-score\n",
            "Installing collected packages: rouge-score\n",
            "Successfully installed rouge-score-0.1.2\n"
          ]
        }
      ],
      "source": [
        "pip install textblob nltk rouge-score\n"
      ]
    },
    {
      "cell_type": "code",
      "execution_count": 2,
      "metadata": {
        "colab": {
          "base_uri": "https://localhost:8080/"
        },
        "id": "haKB7C9U54kW",
        "outputId": "b7ca23d8-70dc-413d-e459-5817c0185619"
      },
      "outputs": [
        {
          "output_type": "stream",
          "name": "stdout",
          "text": [
            "Requirement already satisfied: rouge-score in /usr/local/lib/python3.10/dist-packages (0.1.2)\n",
            "Requirement already satisfied: absl-py in /usr/local/lib/python3.10/dist-packages (from rouge-score) (1.4.0)\n",
            "Requirement already satisfied: nltk in /usr/local/lib/python3.10/dist-packages (from rouge-score) (3.9.1)\n",
            "Requirement already satisfied: numpy in /usr/local/lib/python3.10/dist-packages (from rouge-score) (1.26.4)\n",
            "Requirement already satisfied: six>=1.14.0 in /usr/local/lib/python3.10/dist-packages (from rouge-score) (1.17.0)\n",
            "Requirement already satisfied: click in /usr/local/lib/python3.10/dist-packages (from nltk->rouge-score) (8.1.8)\n",
            "Requirement already satisfied: joblib in /usr/local/lib/python3.10/dist-packages (from nltk->rouge-score) (1.4.2)\n",
            "Requirement already satisfied: regex>=2021.8.3 in /usr/local/lib/python3.10/dist-packages (from nltk->rouge-score) (2024.11.6)\n",
            "Requirement already satisfied: tqdm in /usr/local/lib/python3.10/dist-packages (from nltk->rouge-score) (4.67.1)\n"
          ]
        }
      ],
      "source": [
        "pip install rouge-score"
      ]
    },
    {
      "cell_type": "code",
      "execution_count": 3,
      "metadata": {
        "colab": {
          "base_uri": "https://localhost:8080/"
        },
        "id": "7PmholTM54kX",
        "outputId": "437e0afa-0640-4800-d892-e1a108ceb58d"
      },
      "outputs": [
        {
          "output_type": "stream",
          "name": "stdout",
          "text": [
            "Collecting transformers==4.23.0\n",
            "  Downloading transformers-4.23.0-py3-none-any.whl.metadata (88 kB)\n",
            "\u001b[?25l     \u001b[90m━━━━━━━━━━━━━━━━━━━━━━━━━━━━━━━━━━━━━━━━\u001b[0m \u001b[32m0.0/88.7 kB\u001b[0m \u001b[31m?\u001b[0m eta \u001b[36m-:--:--\u001b[0m\r\u001b[2K     \u001b[90m━━━━━━━━━━━━━━━━━━━━━━━━━━━━━━━━━━━━━━━━\u001b[0m \u001b[32m88.7/88.7 kB\u001b[0m \u001b[31m8.1 MB/s\u001b[0m eta \u001b[36m0:00:00\u001b[0m\n",
            "\u001b[?25hRequirement already satisfied: filelock in /usr/local/lib/python3.10/dist-packages (from transformers==4.23.0) (3.16.1)\n",
            "Requirement already satisfied: huggingface-hub<1.0,>=0.10.0 in /usr/local/lib/python3.10/dist-packages (from transformers==4.23.0) (0.27.1)\n",
            "Requirement already satisfied: numpy>=1.17 in /usr/local/lib/python3.10/dist-packages (from transformers==4.23.0) (1.26.4)\n",
            "Requirement already satisfied: packaging>=20.0 in /usr/local/lib/python3.10/dist-packages (from transformers==4.23.0) (24.2)\n",
            "Requirement already satisfied: pyyaml>=5.1 in /usr/local/lib/python3.10/dist-packages (from transformers==4.23.0) (6.0.2)\n",
            "Requirement already satisfied: regex!=2019.12.17 in /usr/local/lib/python3.10/dist-packages (from transformers==4.23.0) (2024.11.6)\n",
            "Requirement already satisfied: requests in /usr/local/lib/python3.10/dist-packages (from transformers==4.23.0) (2.32.3)\n",
            "Collecting tokenizers!=0.11.3,<0.14,>=0.11.1 (from transformers==4.23.0)\n",
            "  Downloading tokenizers-0.13.3-cp310-cp310-manylinux_2_17_x86_64.manylinux2014_x86_64.whl.metadata (6.7 kB)\n",
            "Requirement already satisfied: tqdm>=4.27 in /usr/local/lib/python3.10/dist-packages (from transformers==4.23.0) (4.67.1)\n",
            "Requirement already satisfied: fsspec>=2023.5.0 in /usr/local/lib/python3.10/dist-packages (from huggingface-hub<1.0,>=0.10.0->transformers==4.23.0) (2024.10.0)\n",
            "Requirement already satisfied: typing-extensions>=3.7.4.3 in /usr/local/lib/python3.10/dist-packages (from huggingface-hub<1.0,>=0.10.0->transformers==4.23.0) (4.12.2)\n",
            "Requirement already satisfied: charset-normalizer<4,>=2 in /usr/local/lib/python3.10/dist-packages (from requests->transformers==4.23.0) (3.4.1)\n",
            "Requirement already satisfied: idna<4,>=2.5 in /usr/local/lib/python3.10/dist-packages (from requests->transformers==4.23.0) (3.10)\n",
            "Requirement already satisfied: urllib3<3,>=1.21.1 in /usr/local/lib/python3.10/dist-packages (from requests->transformers==4.23.0) (2.3.0)\n",
            "Requirement already satisfied: certifi>=2017.4.17 in /usr/local/lib/python3.10/dist-packages (from requests->transformers==4.23.0) (2024.12.14)\n",
            "Downloading transformers-4.23.0-py3-none-any.whl (5.3 MB)\n",
            "\u001b[2K   \u001b[90m━━━━━━━━━━━━━━━━━━━━━━━━━━━━━━━━━━━━━━━━\u001b[0m \u001b[32m5.3/5.3 MB\u001b[0m \u001b[31m63.6 MB/s\u001b[0m eta \u001b[36m0:00:00\u001b[0m\n",
            "\u001b[?25hDownloading tokenizers-0.13.3-cp310-cp310-manylinux_2_17_x86_64.manylinux2014_x86_64.whl (7.8 MB)\n",
            "\u001b[2K   \u001b[90m━━━━━━━━━━━━━━━━━━━━━━━━━━━━━━━━━━━━━━━━\u001b[0m \u001b[32m7.8/7.8 MB\u001b[0m \u001b[31m81.3 MB/s\u001b[0m eta \u001b[36m0:00:00\u001b[0m\n",
            "\u001b[?25hInstalling collected packages: tokenizers, transformers\n",
            "  Attempting uninstall: tokenizers\n",
            "    Found existing installation: tokenizers 0.21.0\n",
            "    Uninstalling tokenizers-0.21.0:\n",
            "      Successfully uninstalled tokenizers-0.21.0\n",
            "  Attempting uninstall: transformers\n",
            "    Found existing installation: transformers 4.47.1\n",
            "    Uninstalling transformers-4.47.1:\n",
            "      Successfully uninstalled transformers-4.47.1\n",
            "\u001b[31mERROR: pip's dependency resolver does not currently take into account all the packages that are installed. This behaviour is the source of the following dependency conflicts.\n",
            "sentence-transformers 3.3.1 requires transformers<5.0.0,>=4.41.0, but you have transformers 4.23.0 which is incompatible.\u001b[0m\u001b[31m\n",
            "\u001b[0mSuccessfully installed tokenizers-0.13.3 transformers-4.23.0\n"
          ]
        }
      ],
      "source": [
        "pip install transformers==4.23.0"
      ]
    },
    {
      "cell_type": "code",
      "execution_count": 4,
      "metadata": {
        "colab": {
          "base_uri": "https://localhost:8080/"
        },
        "id": "ZtOeYd-i54kY",
        "outputId": "9fa0027f-df01-4fac-d5e8-13e2760e31bc"
      },
      "outputs": [
        {
          "output_type": "stream",
          "name": "stdout",
          "text": [
            "Collecting sentencepiece==0.1.96\n",
            "  Downloading sentencepiece-0.1.96-cp310-cp310-manylinux_2_17_x86_64.manylinux2014_x86_64.whl.metadata (10 kB)\n",
            "Downloading sentencepiece-0.1.96-cp310-cp310-manylinux_2_17_x86_64.manylinux2014_x86_64.whl (1.2 MB)\n",
            "\u001b[?25l   \u001b[90m━━━━━━━━━━━━━━━━━━━━━━━━━━━━━━━━━━━━━━━━\u001b[0m \u001b[32m0.0/1.2 MB\u001b[0m \u001b[31m?\u001b[0m eta \u001b[36m-:--:--\u001b[0m\r\u001b[2K   \u001b[91m━━━━━━━━━━━━\u001b[0m\u001b[90m╺\u001b[0m\u001b[90m━━━━━━━━━━━━━━━━━━━━━━━━━━━\u001b[0m \u001b[32m0.4/1.2 MB\u001b[0m \u001b[31m23.1 MB/s\u001b[0m eta \u001b[36m0:00:01\u001b[0m\r\u001b[2K   \u001b[91m━━━━━━━━━━━━━━━━━━━━━━━━\u001b[0m\u001b[91m╸\u001b[0m\u001b[90m━━━━━━━━━━━━━━━\u001b[0m \u001b[32m0.8/1.2 MB\u001b[0m \u001b[31m10.7 MB/s\u001b[0m eta \u001b[36m0:00:01\u001b[0m\r\u001b[2K   \u001b[90m━━━━━━━━━━━━━━━━━━━━━━━━━━━━━━━━━━━━━━━━\u001b[0m \u001b[32m1.2/1.2 MB\u001b[0m \u001b[31m12.8 MB/s\u001b[0m eta \u001b[36m0:00:00\u001b[0m\n",
            "\u001b[?25hInstalling collected packages: sentencepiece\n",
            "  Attempting uninstall: sentencepiece\n",
            "    Found existing installation: sentencepiece 0.2.0\n",
            "    Uninstalling sentencepiece-0.2.0:\n",
            "      Successfully uninstalled sentencepiece-0.2.0\n",
            "Successfully installed sentencepiece-0.1.96\n"
          ]
        }
      ],
      "source": [
        "pip install sentencepiece==0.1.96"
      ]
    },
    {
      "cell_type": "code",
      "source": [
        "!pip install datasets"
      ],
      "metadata": {
        "colab": {
          "base_uri": "https://localhost:8080/"
        },
        "id": "_Pxu_M7JI0v3",
        "outputId": "e35c483b-7d62-432c-8fb1-d3ad8fd9ca49"
      },
      "execution_count": 5,
      "outputs": [
        {
          "output_type": "stream",
          "name": "stdout",
          "text": [
            "Collecting datasets\n",
            "  Downloading datasets-3.2.0-py3-none-any.whl.metadata (20 kB)\n",
            "Requirement already satisfied: filelock in /usr/local/lib/python3.10/dist-packages (from datasets) (3.16.1)\n",
            "Requirement already satisfied: numpy>=1.17 in /usr/local/lib/python3.10/dist-packages (from datasets) (1.26.4)\n",
            "Requirement already satisfied: pyarrow>=15.0.0 in /usr/local/lib/python3.10/dist-packages (from datasets) (17.0.0)\n",
            "Collecting dill<0.3.9,>=0.3.0 (from datasets)\n",
            "  Downloading dill-0.3.8-py3-none-any.whl.metadata (10 kB)\n",
            "Requirement already satisfied: pandas in /usr/local/lib/python3.10/dist-packages (from datasets) (2.2.2)\n",
            "Requirement already satisfied: requests>=2.32.2 in /usr/local/lib/python3.10/dist-packages (from datasets) (2.32.3)\n",
            "Requirement already satisfied: tqdm>=4.66.3 in /usr/local/lib/python3.10/dist-packages (from datasets) (4.67.1)\n",
            "Collecting xxhash (from datasets)\n",
            "  Downloading xxhash-3.5.0-cp310-cp310-manylinux_2_17_x86_64.manylinux2014_x86_64.whl.metadata (12 kB)\n",
            "Collecting multiprocess<0.70.17 (from datasets)\n",
            "  Downloading multiprocess-0.70.16-py310-none-any.whl.metadata (7.2 kB)\n",
            "Collecting fsspec<=2024.9.0,>=2023.1.0 (from fsspec[http]<=2024.9.0,>=2023.1.0->datasets)\n",
            "  Downloading fsspec-2024.9.0-py3-none-any.whl.metadata (11 kB)\n",
            "Requirement already satisfied: aiohttp in /usr/local/lib/python3.10/dist-packages (from datasets) (3.11.11)\n",
            "Requirement already satisfied: huggingface-hub>=0.23.0 in /usr/local/lib/python3.10/dist-packages (from datasets) (0.27.1)\n",
            "Requirement already satisfied: packaging in /usr/local/lib/python3.10/dist-packages (from datasets) (24.2)\n",
            "Requirement already satisfied: pyyaml>=5.1 in /usr/local/lib/python3.10/dist-packages (from datasets) (6.0.2)\n",
            "Requirement already satisfied: aiohappyeyeballs>=2.3.0 in /usr/local/lib/python3.10/dist-packages (from aiohttp->datasets) (2.4.4)\n",
            "Requirement already satisfied: aiosignal>=1.1.2 in /usr/local/lib/python3.10/dist-packages (from aiohttp->datasets) (1.3.2)\n",
            "Requirement already satisfied: async-timeout<6.0,>=4.0 in /usr/local/lib/python3.10/dist-packages (from aiohttp->datasets) (4.0.3)\n",
            "Requirement already satisfied: attrs>=17.3.0 in /usr/local/lib/python3.10/dist-packages (from aiohttp->datasets) (24.3.0)\n",
            "Requirement already satisfied: frozenlist>=1.1.1 in /usr/local/lib/python3.10/dist-packages (from aiohttp->datasets) (1.5.0)\n",
            "Requirement already satisfied: multidict<7.0,>=4.5 in /usr/local/lib/python3.10/dist-packages (from aiohttp->datasets) (6.1.0)\n",
            "Requirement already satisfied: propcache>=0.2.0 in /usr/local/lib/python3.10/dist-packages (from aiohttp->datasets) (0.2.1)\n",
            "Requirement already satisfied: yarl<2.0,>=1.17.0 in /usr/local/lib/python3.10/dist-packages (from aiohttp->datasets) (1.18.3)\n",
            "Requirement already satisfied: typing-extensions>=3.7.4.3 in /usr/local/lib/python3.10/dist-packages (from huggingface-hub>=0.23.0->datasets) (4.12.2)\n",
            "Requirement already satisfied: charset-normalizer<4,>=2 in /usr/local/lib/python3.10/dist-packages (from requests>=2.32.2->datasets) (3.4.1)\n",
            "Requirement already satisfied: idna<4,>=2.5 in /usr/local/lib/python3.10/dist-packages (from requests>=2.32.2->datasets) (3.10)\n",
            "Requirement already satisfied: urllib3<3,>=1.21.1 in /usr/local/lib/python3.10/dist-packages (from requests>=2.32.2->datasets) (2.3.0)\n",
            "Requirement already satisfied: certifi>=2017.4.17 in /usr/local/lib/python3.10/dist-packages (from requests>=2.32.2->datasets) (2024.12.14)\n",
            "Requirement already satisfied: python-dateutil>=2.8.2 in /usr/local/lib/python3.10/dist-packages (from pandas->datasets) (2.8.2)\n",
            "Requirement already satisfied: pytz>=2020.1 in /usr/local/lib/python3.10/dist-packages (from pandas->datasets) (2024.2)\n",
            "Requirement already satisfied: tzdata>=2022.7 in /usr/local/lib/python3.10/dist-packages (from pandas->datasets) (2024.2)\n",
            "Requirement already satisfied: six>=1.5 in /usr/local/lib/python3.10/dist-packages (from python-dateutil>=2.8.2->pandas->datasets) (1.17.0)\n",
            "Downloading datasets-3.2.0-py3-none-any.whl (480 kB)\n",
            "\u001b[2K   \u001b[90m━━━━━━━━━━━━━━━━━━━━━━━━━━━━━━━━━━━━━━━━\u001b[0m \u001b[32m480.6/480.6 kB\u001b[0m \u001b[31m33.8 MB/s\u001b[0m eta \u001b[36m0:00:00\u001b[0m\n",
            "\u001b[?25hDownloading dill-0.3.8-py3-none-any.whl (116 kB)\n",
            "\u001b[2K   \u001b[90m━━━━━━━━━━━━━━━━━━━━━━━━━━━━━━━━━━━━━━━━\u001b[0m \u001b[32m116.3/116.3 kB\u001b[0m \u001b[31m11.0 MB/s\u001b[0m eta \u001b[36m0:00:00\u001b[0m\n",
            "\u001b[?25hDownloading fsspec-2024.9.0-py3-none-any.whl (179 kB)\n",
            "\u001b[2K   \u001b[90m━━━━━━━━━━━━━━━━━━━━━━━━━━━━━━━━━━━━━━━━\u001b[0m \u001b[32m179.3/179.3 kB\u001b[0m \u001b[31m16.4 MB/s\u001b[0m eta \u001b[36m0:00:00\u001b[0m\n",
            "\u001b[?25hDownloading multiprocess-0.70.16-py310-none-any.whl (134 kB)\n",
            "\u001b[2K   \u001b[90m━━━━━━━━━━━━━━━━━━━━━━━━━━━━━━━━━━━━━━━━\u001b[0m \u001b[32m134.8/134.8 kB\u001b[0m \u001b[31m13.2 MB/s\u001b[0m eta \u001b[36m0:00:00\u001b[0m\n",
            "\u001b[?25hDownloading xxhash-3.5.0-cp310-cp310-manylinux_2_17_x86_64.manylinux2014_x86_64.whl (194 kB)\n",
            "\u001b[2K   \u001b[90m━━━━━━━━━━━━━━━━━━━━━━━━━━━━━━━━━━━━━━━━\u001b[0m \u001b[32m194.1/194.1 kB\u001b[0m \u001b[31m18.2 MB/s\u001b[0m eta \u001b[36m0:00:00\u001b[0m\n",
            "\u001b[?25hInstalling collected packages: xxhash, fsspec, dill, multiprocess, datasets\n",
            "  Attempting uninstall: fsspec\n",
            "    Found existing installation: fsspec 2024.10.0\n",
            "    Uninstalling fsspec-2024.10.0:\n",
            "      Successfully uninstalled fsspec-2024.10.0\n",
            "\u001b[31mERROR: pip's dependency resolver does not currently take into account all the packages that are installed. This behaviour is the source of the following dependency conflicts.\n",
            "gcsfs 2024.10.0 requires fsspec==2024.10.0, but you have fsspec 2024.9.0 which is incompatible.\n",
            "sentence-transformers 3.3.1 requires transformers<5.0.0,>=4.41.0, but you have transformers 4.23.0 which is incompatible.\u001b[0m\u001b[31m\n",
            "\u001b[0mSuccessfully installed datasets-3.2.0 dill-0.3.8 fsspec-2024.9.0 multiprocess-0.70.16 xxhash-3.5.0\n"
          ]
        }
      ]
    },
    {
      "cell_type": "code",
      "source": [
        "!pip install datasets --upgrade\n",
        "!pip install evaluate"
      ],
      "metadata": {
        "colab": {
          "base_uri": "https://localhost:8080/"
        },
        "id": "X2emT2ZsS2fT",
        "outputId": "34d4afa5-1d4c-4246-8a8e-dd9fcd43341f"
      },
      "execution_count": 6,
      "outputs": [
        {
          "output_type": "stream",
          "name": "stdout",
          "text": [
            "Requirement already satisfied: datasets in /usr/local/lib/python3.10/dist-packages (3.2.0)\n",
            "Requirement already satisfied: filelock in /usr/local/lib/python3.10/dist-packages (from datasets) (3.16.1)\n",
            "Requirement already satisfied: numpy>=1.17 in /usr/local/lib/python3.10/dist-packages (from datasets) (1.26.4)\n",
            "Requirement already satisfied: pyarrow>=15.0.0 in /usr/local/lib/python3.10/dist-packages (from datasets) (17.0.0)\n",
            "Requirement already satisfied: dill<0.3.9,>=0.3.0 in /usr/local/lib/python3.10/dist-packages (from datasets) (0.3.8)\n",
            "Requirement already satisfied: pandas in /usr/local/lib/python3.10/dist-packages (from datasets) (2.2.2)\n",
            "Requirement already satisfied: requests>=2.32.2 in /usr/local/lib/python3.10/dist-packages (from datasets) (2.32.3)\n",
            "Requirement already satisfied: tqdm>=4.66.3 in /usr/local/lib/python3.10/dist-packages (from datasets) (4.67.1)\n",
            "Requirement already satisfied: xxhash in /usr/local/lib/python3.10/dist-packages (from datasets) (3.5.0)\n",
            "Requirement already satisfied: multiprocess<0.70.17 in /usr/local/lib/python3.10/dist-packages (from datasets) (0.70.16)\n",
            "Requirement already satisfied: fsspec<=2024.9.0,>=2023.1.0 in /usr/local/lib/python3.10/dist-packages (from fsspec[http]<=2024.9.0,>=2023.1.0->datasets) (2024.9.0)\n",
            "Requirement already satisfied: aiohttp in /usr/local/lib/python3.10/dist-packages (from datasets) (3.11.11)\n",
            "Requirement already satisfied: huggingface-hub>=0.23.0 in /usr/local/lib/python3.10/dist-packages (from datasets) (0.27.1)\n",
            "Requirement already satisfied: packaging in /usr/local/lib/python3.10/dist-packages (from datasets) (24.2)\n",
            "Requirement already satisfied: pyyaml>=5.1 in /usr/local/lib/python3.10/dist-packages (from datasets) (6.0.2)\n",
            "Requirement already satisfied: aiohappyeyeballs>=2.3.0 in /usr/local/lib/python3.10/dist-packages (from aiohttp->datasets) (2.4.4)\n",
            "Requirement already satisfied: aiosignal>=1.1.2 in /usr/local/lib/python3.10/dist-packages (from aiohttp->datasets) (1.3.2)\n",
            "Requirement already satisfied: async-timeout<6.0,>=4.0 in /usr/local/lib/python3.10/dist-packages (from aiohttp->datasets) (4.0.3)\n",
            "Requirement already satisfied: attrs>=17.3.0 in /usr/local/lib/python3.10/dist-packages (from aiohttp->datasets) (24.3.0)\n",
            "Requirement already satisfied: frozenlist>=1.1.1 in /usr/local/lib/python3.10/dist-packages (from aiohttp->datasets) (1.5.0)\n",
            "Requirement already satisfied: multidict<7.0,>=4.5 in /usr/local/lib/python3.10/dist-packages (from aiohttp->datasets) (6.1.0)\n",
            "Requirement already satisfied: propcache>=0.2.0 in /usr/local/lib/python3.10/dist-packages (from aiohttp->datasets) (0.2.1)\n",
            "Requirement already satisfied: yarl<2.0,>=1.17.0 in /usr/local/lib/python3.10/dist-packages (from aiohttp->datasets) (1.18.3)\n",
            "Requirement already satisfied: typing-extensions>=3.7.4.3 in /usr/local/lib/python3.10/dist-packages (from huggingface-hub>=0.23.0->datasets) (4.12.2)\n",
            "Requirement already satisfied: charset-normalizer<4,>=2 in /usr/local/lib/python3.10/dist-packages (from requests>=2.32.2->datasets) (3.4.1)\n",
            "Requirement already satisfied: idna<4,>=2.5 in /usr/local/lib/python3.10/dist-packages (from requests>=2.32.2->datasets) (3.10)\n",
            "Requirement already satisfied: urllib3<3,>=1.21.1 in /usr/local/lib/python3.10/dist-packages (from requests>=2.32.2->datasets) (2.3.0)\n",
            "Requirement already satisfied: certifi>=2017.4.17 in /usr/local/lib/python3.10/dist-packages (from requests>=2.32.2->datasets) (2024.12.14)\n",
            "Requirement already satisfied: python-dateutil>=2.8.2 in /usr/local/lib/python3.10/dist-packages (from pandas->datasets) (2.8.2)\n",
            "Requirement already satisfied: pytz>=2020.1 in /usr/local/lib/python3.10/dist-packages (from pandas->datasets) (2024.2)\n",
            "Requirement already satisfied: tzdata>=2022.7 in /usr/local/lib/python3.10/dist-packages (from pandas->datasets) (2024.2)\n",
            "Requirement already satisfied: six>=1.5 in /usr/local/lib/python3.10/dist-packages (from python-dateutil>=2.8.2->pandas->datasets) (1.17.0)\n",
            "Collecting evaluate\n",
            "  Downloading evaluate-0.4.3-py3-none-any.whl.metadata (9.2 kB)\n",
            "Requirement already satisfied: datasets>=2.0.0 in /usr/local/lib/python3.10/dist-packages (from evaluate) (3.2.0)\n",
            "Requirement already satisfied: numpy>=1.17 in /usr/local/lib/python3.10/dist-packages (from evaluate) (1.26.4)\n",
            "Requirement already satisfied: dill in /usr/local/lib/python3.10/dist-packages (from evaluate) (0.3.8)\n",
            "Requirement already satisfied: pandas in /usr/local/lib/python3.10/dist-packages (from evaluate) (2.2.2)\n",
            "Requirement already satisfied: requests>=2.19.0 in /usr/local/lib/python3.10/dist-packages (from evaluate) (2.32.3)\n",
            "Requirement already satisfied: tqdm>=4.62.1 in /usr/local/lib/python3.10/dist-packages (from evaluate) (4.67.1)\n",
            "Requirement already satisfied: xxhash in /usr/local/lib/python3.10/dist-packages (from evaluate) (3.5.0)\n",
            "Requirement already satisfied: multiprocess in /usr/local/lib/python3.10/dist-packages (from evaluate) (0.70.16)\n",
            "Requirement already satisfied: fsspec>=2021.05.0 in /usr/local/lib/python3.10/dist-packages (from fsspec[http]>=2021.05.0->evaluate) (2024.9.0)\n",
            "Requirement already satisfied: huggingface-hub>=0.7.0 in /usr/local/lib/python3.10/dist-packages (from evaluate) (0.27.1)\n",
            "Requirement already satisfied: packaging in /usr/local/lib/python3.10/dist-packages (from evaluate) (24.2)\n",
            "Requirement already satisfied: filelock in /usr/local/lib/python3.10/dist-packages (from datasets>=2.0.0->evaluate) (3.16.1)\n",
            "Requirement already satisfied: pyarrow>=15.0.0 in /usr/local/lib/python3.10/dist-packages (from datasets>=2.0.0->evaluate) (17.0.0)\n",
            "Requirement already satisfied: aiohttp in /usr/local/lib/python3.10/dist-packages (from datasets>=2.0.0->evaluate) (3.11.11)\n",
            "Requirement already satisfied: pyyaml>=5.1 in /usr/local/lib/python3.10/dist-packages (from datasets>=2.0.0->evaluate) (6.0.2)\n",
            "Requirement already satisfied: typing-extensions>=3.7.4.3 in /usr/local/lib/python3.10/dist-packages (from huggingface-hub>=0.7.0->evaluate) (4.12.2)\n",
            "Requirement already satisfied: charset-normalizer<4,>=2 in /usr/local/lib/python3.10/dist-packages (from requests>=2.19.0->evaluate) (3.4.1)\n",
            "Requirement already satisfied: idna<4,>=2.5 in /usr/local/lib/python3.10/dist-packages (from requests>=2.19.0->evaluate) (3.10)\n",
            "Requirement already satisfied: urllib3<3,>=1.21.1 in /usr/local/lib/python3.10/dist-packages (from requests>=2.19.0->evaluate) (2.3.0)\n",
            "Requirement already satisfied: certifi>=2017.4.17 in /usr/local/lib/python3.10/dist-packages (from requests>=2.19.0->evaluate) (2024.12.14)\n",
            "Requirement already satisfied: python-dateutil>=2.8.2 in /usr/local/lib/python3.10/dist-packages (from pandas->evaluate) (2.8.2)\n",
            "Requirement already satisfied: pytz>=2020.1 in /usr/local/lib/python3.10/dist-packages (from pandas->evaluate) (2024.2)\n",
            "Requirement already satisfied: tzdata>=2022.7 in /usr/local/lib/python3.10/dist-packages (from pandas->evaluate) (2024.2)\n",
            "Requirement already satisfied: aiohappyeyeballs>=2.3.0 in /usr/local/lib/python3.10/dist-packages (from aiohttp->datasets>=2.0.0->evaluate) (2.4.4)\n",
            "Requirement already satisfied: aiosignal>=1.1.2 in /usr/local/lib/python3.10/dist-packages (from aiohttp->datasets>=2.0.0->evaluate) (1.3.2)\n",
            "Requirement already satisfied: async-timeout<6.0,>=4.0 in /usr/local/lib/python3.10/dist-packages (from aiohttp->datasets>=2.0.0->evaluate) (4.0.3)\n",
            "Requirement already satisfied: attrs>=17.3.0 in /usr/local/lib/python3.10/dist-packages (from aiohttp->datasets>=2.0.0->evaluate) (24.3.0)\n",
            "Requirement already satisfied: frozenlist>=1.1.1 in /usr/local/lib/python3.10/dist-packages (from aiohttp->datasets>=2.0.0->evaluate) (1.5.0)\n",
            "Requirement already satisfied: multidict<7.0,>=4.5 in /usr/local/lib/python3.10/dist-packages (from aiohttp->datasets>=2.0.0->evaluate) (6.1.0)\n",
            "Requirement already satisfied: propcache>=0.2.0 in /usr/local/lib/python3.10/dist-packages (from aiohttp->datasets>=2.0.0->evaluate) (0.2.1)\n",
            "Requirement already satisfied: yarl<2.0,>=1.17.0 in /usr/local/lib/python3.10/dist-packages (from aiohttp->datasets>=2.0.0->evaluate) (1.18.3)\n",
            "Requirement already satisfied: six>=1.5 in /usr/local/lib/python3.10/dist-packages (from python-dateutil>=2.8.2->pandas->evaluate) (1.17.0)\n",
            "Downloading evaluate-0.4.3-py3-none-any.whl (84 kB)\n",
            "\u001b[2K   \u001b[90m━━━━━━━━━━━━━━━━━━━━━━━━━━━━━━━━━━━━━━━━\u001b[0m \u001b[32m84.0/84.0 kB\u001b[0m \u001b[31m3.8 MB/s\u001b[0m eta \u001b[36m0:00:00\u001b[0m\n",
            "\u001b[?25hInstalling collected packages: evaluate\n",
            "Successfully installed evaluate-0.4.3\n"
          ]
        }
      ]
    },
    {
      "cell_type": "code",
      "execution_count": 7,
      "metadata": {
        "colab": {
          "base_uri": "https://localhost:8080/"
        },
        "id": "Nyw9DLOu54kY",
        "outputId": "04ee1f8f-772e-42c1-c9bb-b2924715abc8"
      },
      "outputs": [
        {
          "output_type": "stream",
          "name": "stderr",
          "text": [
            "[nltk_data] Downloading package punkt to /root/nltk_data...\n",
            "[nltk_data]   Unzipping tokenizers/punkt.zip.\n"
          ]
        }
      ],
      "source": [
        "import pandas as pd\n",
        "import numpy as np\n",
        "from sklearn.feature_extraction.text import TfidfVectorizer\n",
        "from sklearn.cluster import KMeans\n",
        "from sklearn.metrics import accuracy_score, precision_score, recall_score, f1_score, confusion_matrix, classification_report\n",
        "from sklearn.model_selection import train_test_split\n",
        "from sklearn.linear_model import LogisticRegression\n",
        "from sklearn.pipeline import make_pipeline\n",
        "from sklearn.preprocessing import StandardScaler\n",
        "from sklearn.decomposition import PCA\n",
        "from sklearn.naive_bayes import MultinomialNB\n",
        "from textblob import TextBlob\n",
        "from nltk.translate.bleu_score import sentence_bleu\n",
        "from rouge_score import rouge_scorer\n",
        "import matplotlib.pyplot as plt\n",
        "import seaborn as sns\n",
        "from transformers import T5Tokenizer, T5ForConditionalGeneration, Trainer, TrainingArguments\n",
        "import torch\n",
        "import nltk\n",
        "nltk.download('punkt')\n",
        "import seaborn as sns\n",
        "from tqdm import tqdm\n",
        "from torch.utils.data import DataLoader\n",
        "from torch.optim import AdamW\n",
        "from textblob import TextBlob\n",
        "from rouge_score import rouge_scorer\n",
        "import re\n",
        "from nltk.translate.bleu_score import sentence_bleu\n",
        "# Preprocess the text (remove stopwords, special characters, etc.)\n",
        "from nltk.corpus import stopwords\n",
        "from nltk.stem import PorterStemmer"
      ]
    },
    {
      "cell_type": "code",
      "source": [
        "# Download NLTK resources\n",
        "nltk.download('stopwords')\n",
        "nltk.download('punkt')"
      ],
      "metadata": {
        "colab": {
          "base_uri": "https://localhost:8080/"
        },
        "id": "gxbW0mML-yj8",
        "outputId": "40acb7b5-1eb1-48c7-f10b-38d6845a5bf1"
      },
      "execution_count": 8,
      "outputs": [
        {
          "output_type": "stream",
          "name": "stderr",
          "text": [
            "[nltk_data] Downloading package stopwords to /root/nltk_data...\n",
            "[nltk_data]   Unzipping corpora/stopwords.zip.\n",
            "[nltk_data] Downloading package punkt to /root/nltk_data...\n",
            "[nltk_data]   Package punkt is already up-to-date!\n"
          ]
        },
        {
          "output_type": "execute_result",
          "data": {
            "text/plain": [
              "True"
            ]
          },
          "metadata": {},
          "execution_count": 8
        }
      ]
    },
    {
      "cell_type": "code",
      "execution_count": 9,
      "metadata": {
        "id": "Tr72MGsi54kZ"
      },
      "outputs": [],
      "source": [
        "df1 = pd.read_csv('/content/1429_1.csv', quoting=3, on_bad_lines='skip')\n",
        "# quoting=3 tells pandas to use the QUOTE_NONE strategy. This means that pandas will not treat any character as a quote character. This way if there are unclosed quotes, it ignores them.\n",
        "# on_bad_lines='skip' replaces the deprecated 'error_bad_lines=False' to skip bad lines.\n",
        "df2 = pd.read_csv('/content/Datafiniti_Amazon_Consumer_Reviews_of_Amazon_Products.csv', quoting=3, on_bad_lines='skip')\n",
        "df3 = pd.read_csv('/content/Datafiniti_Amazon_Consumer_Reviews_of_Amazon_Products_May19.csv', quoting=3, on_bad_lines='skip')"
      ]
    },
    {
      "cell_type": "code",
      "execution_count": 10,
      "metadata": {
        "id": "GpAqPs0l54ka"
      },
      "outputs": [],
      "source": [
        "# Combine datasets into one\n",
        "df = pd.concat([df1, df2, df3], ignore_index=True)"
      ]
    },
    {
      "cell_type": "code",
      "source": [
        "# Preprocess the text (remove stopwords, special characters, etc.)\n",
        "\n",
        "def preprocess_text(text):\n",
        "    # Check if the text is a string before processing\n",
        "    if isinstance(text, str):\n",
        "        text = text.lower()\n",
        "        text = re.sub(r'\\d+', '', text)\n",
        "        text = re.sub(r'[^\\w\\s]', '', text)\n",
        "        text = ' '.join([word for word in text.split() if word not in stopwords.words('english')]) # Use stopwords\n",
        "        return text\n",
        "    # If not a string (e.g., float), return it as is or handle it differently\n",
        "    else:\n",
        "        return str(text)  # Or handle NaN values appropriately# --------------------------- Step 2: Data Preprocessing ---------------------------\n",
        "def clean_text(text):\n",
        "    \"\"\"Clean the review text by lowercasing, removing special characters, stopwords, and stemming.\"\"\"\n",
        "    # Check if the input is a string\n",
        "    if isinstance(text, str):\n",
        "        text = text.lower()\n",
        "        text = re.sub(r'[^a-zA-Z\\s]', '', text)  # Remove non-alphabetic characters\n",
        "        text = ' '.join(text.split())  # Remove extra spaces\n",
        "        stop_words = set(stopwords.words('english')) # Use stopwords\n",
        "        text = ' '.join([word for word in text.split() if word not in stop_words])  # Remove stopwords\n",
        "        stemmer = PorterStemmer() # Use PorterStemmer\n",
        "        text = ' '.join([stemmer.stem(word) for word in text.split()])  # Apply stemming\n",
        "        return text\n",
        "    # If not a string, convert it to an empty string or handle it as needed\n",
        "    else:\n",
        "        return ''  # or return str(text) or handle NaN values appropriately"
      ],
      "metadata": {
        "id": "9dqvG5M_AD5n"
      },
      "execution_count": 11,
      "outputs": []
    },
    {
      "cell_type": "code",
      "source": [
        "print(df.columns)"
      ],
      "metadata": {
        "colab": {
          "base_uri": "https://localhost:8080/"
        },
        "id": "RT9YGZ0C3T_i",
        "outputId": "f904077c-ca7c-49a0-9671-85c7d6784306"
      },
      "execution_count": 12,
      "outputs": [
        {
          "output_type": "stream",
          "name": "stdout",
          "text": [
            "Index(['id', 'name', 'asins', 'brand', 'categories', 'keys', 'manufacturer',\n",
            "       'reviews.date', 'reviews.dateAdded', 'reviews.dateSeen',\n",
            "       'reviews.didPurchase', 'reviews.doRecommend', 'reviews.id',\n",
            "       'reviews.numHelpful', 'reviews.rating', 'reviews.sourceURLs',\n",
            "       'reviews.text', 'reviews.title', 'reviews.userCity',\n",
            "       'reviews.userProvince', 'reviews.username', 'dateAdded', 'dateUpdated',\n",
            "       'primaryCategories', 'imageURLs', 'manufacturerNumber', 'sourceURLs'],\n",
            "      dtype='object')\n"
          ]
        }
      ]
    },
    {
      "cell_type": "code",
      "source": [
        "reviews_column = 'review'  # Default column name\n",
        "\n",
        "# Dynamically check for the correct review column name\n",
        "if 'reviewText' in df.columns:\n",
        "    reviews_column = 'reviewText'\n",
        "elif 'product_review' in df.columns:\n",
        "    reviews_column = 'product_review'\n",
        "elif 'reviews.text' in df.columns:  # Check if 'reviews.text' is present\n",
        "    reviews_column = 'reviews.text' # Assign 'reviews.text' if found\n",
        "# Add more elif conditions to check for other potential column names if needed\n",
        "\n",
        "\n",
        "# Now you can use reviews_column to access the correct column:\n",
        "df['cleaned_reviews'] = df[reviews_column].apply(clean_text)"
      ],
      "metadata": {
        "id": "tdu89KFu1FJ8"
      },
      "execution_count": 13,
      "outputs": []
    },
    {
      "cell_type": "code",
      "execution_count": 14,
      "metadata": {
        "id": "TO9zPD2a54ka"
      },
      "outputs": [],
      "source": [
        "# Data Cleaning\n",
        "df = df.drop_duplicates() # Changed 'data' to 'df'\n",
        "df = df.dropna(subset=['reviews.text']) # Changed 'data' to 'df'\n",
        "df['reviews.text'] = df['reviews.text'].str.strip() # Changed 'data' to 'df'\n",
        "df['reviews.text'] = df['reviews.text'].str.replace(r'[^a-zA-Z\\s]', '', regex=True) # Changed 'data' to 'df'"
      ]
    },
    {
      "cell_type": "code",
      "execution_count": 15,
      "metadata": {
        "id": "MsYDkHmW54kb"
      },
      "outputs": [],
      "source": [
        "# --------------------------- Step 3: Sentiment Classification with Logistic Regression and Naive Bayes ---------------------------\n",
        "def calculate_sentiment(text):\n",
        "    \"\"\"Calculate sentiment polarity using TextBlob.\"\"\"\n",
        "    sentiment = TextBlob(text).sentiment.polarity\n",
        "    return sentiment\n",
        "\n",
        "df['avg_sentiment'] = df['cleaned_reviews'].apply(calculate_sentiment)\n",
        "\n",
        "def classify_sentiment(score):\n",
        "    \"\"\"Classify sentiment as positive, neutral, or negative.\"\"\"\n",
        "    if score > 0.1:\n",
        "        return 'positive'\n",
        "    elif score < -0.1:\n",
        "        return 'negative'\n",
        "    else:\n",
        "        return 'neutral'\n",
        "\n",
        "df['sentiment'] = df['avg_sentiment'].apply(classify_sentiment)\n"
      ]
    },
    {
      "cell_type": "code",
      "execution_count": 16,
      "metadata": {
        "colab": {
          "base_uri": "https://localhost:8080/"
        },
        "id": "9SSL8lvC54kb",
        "outputId": "16a026a6-f75f-4006-fa71-53a38db64ae6"
      },
      "outputs": [
        {
          "output_type": "stream",
          "name": "stdout",
          "text": [
            "                                        reviews.text sentiment\n",
            "0  This product so far has not disappointed My ch...  positive\n",
            "1  great for beginner or experienced person Bough...  positive\n",
            "2  Ive had my Fire HD  two weeks now and I love i...  positive\n",
            "3  This amazon fire  inch tablet is the perfect s...  positive\n",
            "4  I love ordering books and reading them with th...  positive\n",
            "5  Not easy for elderly users cease of ads that p...   neutral\n",
            "6  Wanted my father to have his first tablet and ...  positive\n",
            "7  Simply does everything I need Thank youAnd sil...   neutral\n",
            "8  Got it as a present and love the size of the s...  positive\n",
            "9  nice reader almost perfect for what i wantneed...  positive\n"
          ]
        }
      ],
      "source": [
        "# Display the first few rows of the dataset with the new 'sentiment' column\n",
        "print(df[[reviews_column, 'sentiment']].head(10))"
      ]
    },
    {
      "cell_type": "code",
      "execution_count": 17,
      "metadata": {
        "id": "BgS2pg9G54kb"
      },
      "outputs": [],
      "source": [
        "# --------------------------- Step 4: Clustering with KMeans ---------------------------\n",
        "vectorizer = TfidfVectorizer(max_features=1000)\n",
        "X = vectorizer.fit_transform(df['cleaned_reviews'])\n",
        "\n",
        "kmeans = KMeans(n_clusters=5, random_state=42)\n",
        "df['cluster'] = kmeans.fit_predict(X)"
      ]
    },
    {
      "cell_type": "code",
      "execution_count": 18,
      "metadata": {
        "id": "fxe-EtH754kc",
        "colab": {
          "base_uri": "https://localhost:8080/",
          "height": 564
        },
        "outputId": "df6179b7-2085-4785-e14d-cd61f030e0df"
      },
      "outputs": [
        {
          "output_type": "display_data",
          "data": {
            "text/plain": [
              "<Figure size 800x600 with 1 Axes>"
            ],
            "image/png": "[encoded data removed]"
          },
          "metadata": {}
        }
      ],
      "source": [
        "# --------------------------- Step 5: Visualizing Clusters ---------------------------\n",
        "# Visualizing the clusters using a scatter plot (2D for simplicity)\n",
        "plt.figure(figsize=(8, 6))\n",
        "sns.scatterplot(x=df['avg_sentiment'], y=df['avg_sentiment'], hue=df['cluster'], palette='viridis', style=df['sentiment'])\n",
        "plt.title(\"Review Clustering Visualization\")\n",
        "plt.xlabel(\"Sentiment Score\")\n",
        "plt.ylabel(\"Sentiment Score\")\n",
        "plt.show()"
      ]
    },
    {
      "cell_type": "code",
      "source": [
        "from sklearn.metrics import silhouette_score\n",
        "\n",
        "X_cluster = vectorizer.fit_transform(df['cleaned_reviews'])\n",
        "kmeans = KMeans(n_clusters=5, random_state=42)\n",
        "df['cluster'] = kmeans.fit_predict(X_cluster)\n",
        "\n",
        "# Evaluate clustering\n",
        "silhouette = silhouette_score(X_cluster, df['cluster'])\n",
        "inertia = kmeans.inertia_\n",
        "print(f\"Clustering Silhouette Score: {silhouette}\")\n",
        "print(f\"Clustering Inertia: {inertia}\")"
      ],
      "metadata": {
        "colab": {
          "base_uri": "https://localhost:8080/"
        },
        "id": "mhuXHJKX7RMN",
        "outputId": "b7a63d97-1988-41fe-f237-ec63f04299a1"
      },
      "execution_count": 19,
      "outputs": [
        {
          "output_type": "stream",
          "name": "stdout",
          "text": [
            "Clustering Silhouette Score: 0.6568132285655106\n",
            "Clustering Inertia: 1533.4989771755695\n"
          ]
        }
      ]
    },
    {
      "cell_type": "code",
      "source": [
        "# Visualize clusters\n",
        "plt.figure(figsize=(10, 6))\n",
        "sns.countplot(x='cluster', data=df)\n",
        "plt.title('Cluster Distribution')\n",
        "plt.show()"
      ],
      "metadata": {
        "colab": {
          "base_uri": "https://localhost:8080/",
          "height": 564
        },
        "id": "_g4fC3qQ7SQw",
        "outputId": "7ed7fe39-e589-44a4-d896-182934c1d975"
      },
      "execution_count": 20,
      "outputs": [
        {
          "output_type": "display_data",
          "data": {
            "text/plain": [
              "<Figure size 1000x600 with 1 Axes>"
            ],
            "image/png": "[encoded data removed]"
          },
          "metadata": {}
        }
      ]
    },
    {
      "cell_type": "code",
      "source": [
        "# Check the column names in the dataframe\n",
        "print(df.columns)"
      ],
      "metadata": {
        "colab": {
          "base_uri": "https://localhost:8080/"
        },
        "id": "-Wn0gGj45PBE",
        "outputId": "a440196e-3800-4d5e-8474-efe331025423"
      },
      "execution_count": 21,
      "outputs": [
        {
          "output_type": "stream",
          "name": "stdout",
          "text": [
            "Index(['id', 'name', 'asins', 'brand', 'categories', 'keys', 'manufacturer',\n",
            "       'reviews.date', 'reviews.dateAdded', 'reviews.dateSeen',\n",
            "       'reviews.didPurchase', 'reviews.doRecommend', 'reviews.id',\n",
            "       'reviews.numHelpful', 'reviews.rating', 'reviews.sourceURLs',\n",
            "       'reviews.text', 'reviews.title', 'reviews.userCity',\n",
            "       'reviews.userProvince', 'reviews.username', 'dateAdded', 'dateUpdated',\n",
            "       'primaryCategories', 'imageURLs', 'manufacturerNumber', 'sourceURLs',\n",
            "       'cleaned_reviews', 'avg_sentiment', 'sentiment', 'cluster'],\n",
            "      dtype='object')\n"
          ]
        }
      ]
    },
    {
      "cell_type": "code",
      "source": [
        "# Check the first few rows of the dataset\n",
        "print(df.head())"
      ],
      "metadata": {
        "colab": {
          "base_uri": "https://localhost:8080/"
        },
        "id": "vXCwUEhY4t1U",
        "outputId": "dbf8b563-a869-4077-cec6-bf4daf12be25"
      },
      "execution_count": 22,
      "outputs": [
        {
          "output_type": "stream",
          "name": "stdout",
          "text": [
            "                  id           name  \\\n",
            "0  amazon/b01ahb9cn2  0841667104676   \n",
            "1  amazon/b01ahb9cn2  0841667104676   \n",
            "2  amazon/b01ahb9cn2  0841667104676   \n",
            "3  amazon/b01ahb9cn2  0841667104676   \n",
            "4  amazon/b01ahb9cn2  0841667104676   \n",
            "\n",
            "                                               asins  \\\n",
            "0  allnewfirehd8tablet8hddisplaywifi16gbincludess...   \n",
            "1  allnewfirehd8tablet8hddisplaywifi16gbincludess...   \n",
            "2  allnewfirehd8tablet8hddisplaywifi16gbincludess...   \n",
            "3  allnewfirehd8tablet8hddisplaywifi16gbincludess...   \n",
            "4  allnewfirehd8tablet8hddisplaywifi16gbincludess...   \n",
            "\n",
            "                                               brand categories  \\\n",
            "0  allnewfirehd8tablet8hddisplaywifi16gbincludess...     Amazon   \n",
            "1  allnewfirehd8tablet8hddisplaywifi16gbincludess...     Amazon   \n",
            "2  allnewfirehd8tablet8hddisplaywifi16gbincludess...     Amazon   \n",
            "3  allnewfirehd8tablet8hddisplaywifi16gbincludess...     Amazon   \n",
            "4  allnewfirehd8tablet8hddisplaywifi16gbincludess...     Amazon   \n",
            "\n",
            "                       keys          manufacturer               reviews.date  \\\n",
            "0  2017-01-13T00:00:00.000Z  2017-07-03T23:33:15Z  \"2017-06-07T09:04:00.000Z   \n",
            "1  2017-01-13T00:00:00.000Z  2017-07-03T23:33:15Z  \"2017-06-07T09:04:00.000Z   \n",
            "2  2017-01-13T00:00:00.000Z  2017-07-03T23:33:15Z  \"2017-06-07T09:04:00.000Z   \n",
            "3  2017-01-12T00:00:00.000Z  2017-07-03T23:33:15Z  \"2017-06-07T09:04:00.000Z   \n",
            "4  2017-01-23T00:00:00.000Z  2017-07-03T23:28:24Z  \"2017-06-07T09:04:00.000Z   \n",
            "\n",
            "           reviews.dateAdded reviews.dateSeen  ... dateAdded dateUpdated  \\\n",
            "0  2017-04-30T00:45:00.000Z\"              NaN  ...       NaN         NaN   \n",
            "1  2017-04-30T00:45:00.000Z\"              NaN  ...       NaN         NaN   \n",
            "2  2017-04-30T00:45:00.000Z\"              NaN  ...       NaN         NaN   \n",
            "3  2017-04-30T00:45:00.000Z\"              NaN  ...       NaN         NaN   \n",
            "4  2017-04-30T00:44:00.000Z\"              NaN  ...       NaN         NaN   \n",
            "\n",
            "  primaryCategories imageURLs manufacturerNumber sourceURLs  \\\n",
            "0               NaN       NaN                NaN        NaN   \n",
            "1               NaN       NaN                NaN        NaN   \n",
            "2               NaN       NaN                NaN        NaN   \n",
            "3               NaN       NaN                NaN        NaN   \n",
            "4               NaN       NaN                NaN        NaN   \n",
            "\n",
            "                                     cleaned_reviews avg_sentiment sentiment  \\\n",
            "0  product far disappoint children love use like ...      0.300000  positive   \n",
            "1     great beginn experienc person bought gift love      0.650000  positive   \n",
            "2  ive fire hd two week love tablet great valuew ...      0.295455  positive   \n",
            "3  amazon fire inch tablet perfect size purchas h...      0.566667  positive   \n",
            "4                        love order book read reader      0.500000  positive   \n",
            "\n",
            "  cluster  \n",
            "0       4  \n",
            "1       2  \n",
            "2       4  \n",
            "3       4  \n",
            "4       2  \n",
            "\n",
            "[5 rows x 31 columns]\n"
          ]
        }
      ]
    },
    {
      "cell_type": "code",
      "source": [
        "# Filter for tablets, ebooks, and other product types (replace these keywords as needed)\n",
        "products_of_interest = ['tablet', 'E-Book Readers', 'Smart Speakers']  # Example product types\n",
        "\n",
        "# Filter based on the 'name' column (product name)\n",
        "filtered_df = df[df['name'].str.contains('|'.join(products_of_interest), case=False, na=False)]\n",
        "\n",
        "# Aggregating reviews by product and cluster\n",
        "# Use 'name' instead of 'cluster_label' for product identification\n",
        "aggregated_reviews = filtered_df.groupby(['cluster', 'name'])['cleaned_reviews'].apply(lambda x: ' '.join(x)).reset_index()\n",
        "\n",
        "# Show aggregated reviews for these products\n",
        "print(aggregated_reviews.head())"
      ],
      "metadata": {
        "colab": {
          "base_uri": "https://localhost:8080/"
        },
        "id": "noljhdMG7zZJ",
        "outputId": "ecc54597-f3b7-4561-fcd3-5e70d661b6c8"
      },
      "execution_count": 32,
      "outputs": [
        {
          "output_type": "stream",
          "name": "stdout",
          "text": [
            "   cluster                                               name  \\\n",
            "0        1  allnewfirehd8tablet8hddisplaywifi32gbincludess...   \n",
            "1        2  allnewfirehd8tablet8hddisplaywifi32gbincludess...   \n",
            "2        3  allnewfirehd8tablet8hddisplaywifi32gbincludess...   \n",
            "3        4  allnewfirehd8tablet8hddisplaywifi32gbincludess...   \n",
            "\n",
            "                                     cleaned_reviews  \n",
            "0  good basic tablet great tablet great product a...  \n",
            "1  love love love kindl wife love student love da...  \n",
            "2  easi connect easi use clear display look ipad ...  \n",
            "3  everyth look luv nice couldnt get tablet work ...  \n"
          ]
        }
      ]
    },
    {
      "cell_type": "code",
      "execution_count": 33,
      "metadata": {
        "id": "wG_KBP3g54kc",
        "colab": {
          "base_uri": "https://localhost:8080/"
        },
        "outputId": "468a133a-a7cb-44d0-f608-b27e39887f03"
      },
      "outputs": [
        {
          "output_type": "stream",
          "name": "stdout",
          "text": [
            "   cluster                                               name  \\\n",
            "0        0                                     841710106442.0   \n",
            "1        1                                      0841667104676   \n",
            "2        1                                     0848719069587\"   \n",
            "3        1  allnewfirehd8tablet8hddisplaywifi32gbincludess...   \n",
            "4        2                                      0841667104676   \n",
            "\n",
            "                                     cleaned_reviews  \n",
            "0  httpswwwamazoncomamazonbasicsperformancealkali...  \n",
            "1  purchas last tablet die meet basic need price ...  \n",
            "2                                      great product  \n",
            "3  good basic tablet great tablet great product a...  \n",
            "4  great beginn experienc person bought gift love...  \n"
          ]
        }
      ],
      "source": [
        "# --------------------------- Step 6: Aggregating Reviews by Product and Cluster ---------------------------\n",
        "# Aggregating reviews by product and cluster using the correct column 'name' for the product identifier\n",
        "aggregated_reviews = df.groupby(['cluster', 'name'])['cleaned_reviews'].apply(lambda x: ' '.join(x)).reset_index()\n",
        "\n",
        "# Show the first few aggregated reviews to verify\n",
        "print(aggregated_reviews.head())\n"
      ]
    },
    {
      "cell_type": "code",
      "execution_count": 34,
      "metadata": {
        "id": "IkGsDggg54kc"
      },
      "outputs": [],
      "source": [
        "# --------------------------- Step 7: Ranking Products by Sentiment and Review Frequency ---------------------------\n",
        "aggregated_reviews['avg_sentiment'] = aggregated_reviews['cleaned_reviews'].apply(calculate_sentiment)\n",
        "aggregated_reviews['cluster_label'] = aggregated_reviews['cluster']\n"
      ]
    },
    {
      "cell_type": "code",
      "execution_count": 36,
      "metadata": {
        "id": "SMTw-Y9a54kc"
      },
      "outputs": [],
      "source": [
        "# Calculate average sentiment and review frequency per product\n",
        "ranked_products = aggregated_reviews.groupby(['cluster', 'cluster_label']).agg(\n",
        "    avg_sentiment=('cleaned_reviews', lambda x: aggregated_reviews[aggregated_reviews['cluster_label'] == x.name]['avg_sentiment'].mean()), # Changed df to aggregated_reviews and x.cluster_label to x.name\n",
        "    review_count=('cleaned_reviews', 'count'),\n",
        "    cleaned_reviews=('cleaned_reviews', 'first') # Include 'cleaned_reviews' in agg\n",
        ").reset_index()"
      ]
    },
    {
      "cell_type": "code",
      "source": [
        "# Rank by average sentime# Rank by average sentiment and review count\n",
        "ranked_products = ranked_products.sort_values(by=['cluster', 'avg_sentiment', 'review_count'], ascending=[True, False, False])\n",
        "\n",
        "# Show top products\n",
        "print(ranked_products.head())\n",
        "\n",
        "# Assign the top-ranked products to the top_products variable\n",
        "# Include 'cleaned_reviews' column in the selection\n",
        "top_products = ranked_products[['cluster', 'cluster_label', 'cleaned_reviews', 'avg_sentiment', 'review_count']].head() # Assuming you want the top 5 products"
      ],
      "metadata": {
        "colab": {
          "base_uri": "https://localhost:8080/"
        },
        "id": "SZcTt6Tq6VXN",
        "outputId": "30e4087d-3ea0-4545-a181-038ffd0f1e04"
      },
      "execution_count": 37,
      "outputs": [
        {
          "output_type": "stream",
          "name": "stdout",
          "text": [
            "   cluster  cluster_label  avg_sentiment  review_count  \\\n",
            "0        0              0            NaN             1   \n",
            "1        1              1            NaN             3   \n",
            "2        2              2            NaN             4   \n",
            "3        3              3            NaN             2   \n",
            "4        4              4            NaN            14   \n",
            "\n",
            "                                     cleaned_reviews  \n",
            "0  httpswwwamazoncomamazonbasicsperformancealkali...  \n",
            "1  purchas last tablet die meet basic need price ...  \n",
            "2  great beginn experienc person bought gift love...  \n",
            "3  easi elderli user ceas ad pop want father firs...  \n",
            "4  product far disappoint children love use like ...  \n"
          ]
        }
      ]
    },
    {
      "cell_type": "code",
      "execution_count": 38,
      "metadata": {
        "colab": {
          "base_uri": "https://localhost:8080/",
          "height": 304,
          "referenced_widgets": [
            "f70d2849b2b84261bb1c694fc84a030e",
            "3cb69416fd2545ffb4498d6b50617538",
            "09c458b5183045e6b4269a8857476234",
            "39df747c229642dcabc78caa20997c46",
            "34b5d17c4dec44cca1d4cab3c015c2f8",
            "1a594dfa92124f319e5ca53859880924",
            "9b4ad40eb5e54995b9ba2c19ece2d2e6",
            "bb570f975adb4064913a40832f389f48",
            "4bb7b54d393f404b807494e4fa0cc880",
            "74f9aea151bd4e1e80f03e2f21b0f741",
            "657d33e2d22c475c94e0769c49a8a3a8",
            "8306b07e03784103a9f4461da27763c0",
            "315ddc5934d44b049556deaf1bcf8652",
            "fa9ff679599044e19638b7dfad04e270",
            "c8ae526c24fe4c14827856e071c599e8",
            "29f39b4d7f694d66b82c2bc8e9dbe73e",
            "faa824e547784803a75b9ac4841c0f34",
            "d1c10194179946e09d4dbac41968e860",
            "c3ba2b41dd59400197ec539126e2a8e1",
            "4faf8107ea8a4482a128244997224b1d",
            "12a548803c884353a0d941472dc91faf",
            "fd31d7a455f448b48cbe4d15f70c4eb3",
            "580410beea7e47c1bb05c3cb7a46669b",
            "a41175f2dff64900a4f6f6c813fb9329",
            "dd9d501ef25c49adb76c395c4d6a7368",
            "395949004929427290f1165bf3765e50",
            "95105fbce98547e7a74e5c603d764048",
            "cb3f444d578e4437ab5850df137301fa",
            "cfe227065a0c4131b3470479adfd6183",
            "e85a2418c6c54cb09bd307f45f4fd72f",
            "abc9628faa7145128a2ec7252fbf15b4",
            "91d50864a6744868be1902e5c6b1c763",
            "f7d189d8b0cb43678a1dffc2ad1bc840",
            "71f0f40002114b1ea132bbeaea1448ab",
            "ebe081684dd04962920fb6a7cd91d616",
            "e1d686ff020746919e2c6c8f6e74488c",
            "57134b0544dd411889ed28de9c8bbabd",
            "4ab1e8be88154bdc9f4ef990fc26141d",
            "56fefee6c3c14261a7a3d08c7e44a05f",
            "0eea9df5162e42fd8d695f13a5a3c546",
            "7f45801580284ab4bb3928053b7bd434",
            "cebb3413122543fbb51e50f15f7351a8",
            "c0a524cecc164aeb9f30355b0d9839f4",
            "73d33d1b635d448d9a3183bc051487b4"
          ]
        },
        "id": "u7kkLwcB54kc",
        "outputId": "bd06065c-efa5-45f9-a19d-56b1adfcdb13"
      },
      "outputs": [
        {
          "output_type": "stream",
          "name": "stderr",
          "text": [
            "/usr/local/lib/python3.10/dist-packages/huggingface_hub/file_download.py:795: FutureWarning: `resume_download` is deprecated and will be removed in version 1.0.0. Downloads always resume when possible. If you want to force a new download, use `force_download=True`.\n",
            "  warnings.warn(\n",
            "/usr/local/lib/python3.10/dist-packages/huggingface_hub/utils/_auth.py:94: UserWarning: \n",
            "The secret `HF_TOKEN` does not exist in your Colab secrets.\n",
            "To authenticate with the Hugging Face Hub, create a token in your settings tab (https://huggingface.co/settings/tokens), set it as secret in your Google Colab and restart your session.\n",
            "You will be able to reuse this secret in all of your notebooks.\n",
            "Please note that authentication is recommended but still optional to access public models or datasets.\n",
            "  warnings.warn(\n"
          ]
        },
        {
          "output_type": "display_data",
          "data": {
            "text/plain": [
              "spiece.model:   0%|          | 0.00/792k [00:00<?, ?B/s]"
            ],
            "application/vnd.jupyter.widget-view+json": {
              "version_major": 2,
              "version_minor": 0,
              "model_id": "f70d2849b2b84261bb1c694fc84a030e"
            }
          },
          "metadata": {}
        },
        {
          "output_type": "display_data",
          "data": {
            "text/plain": [
              "tokenizer_config.json:   0%|          | 0.00/2.32k [00:00<?, ?B/s]"
            ],
            "application/vnd.jupyter.widget-view+json": {
              "version_major": 2,
              "version_minor": 0,
              "model_id": "8306b07e03784103a9f4461da27763c0"
            }
          },
          "metadata": {}
        },
        {
          "output_type": "display_data",
          "data": {
            "text/plain": [
              "config.json:   0%|          | 0.00/1.21k [00:00<?, ?B/s]"
            ],
            "application/vnd.jupyter.widget-view+json": {
              "version_major": 2,
              "version_minor": 0,
              "model_id": "580410beea7e47c1bb05c3cb7a46669b"
            }
          },
          "metadata": {}
        },
        {
          "output_type": "display_data",
          "data": {
            "text/plain": [
              "model.safetensors:   0%|          | 0.00/242M [00:00<?, ?B/s]"
            ],
            "application/vnd.jupyter.widget-view+json": {
              "version_major": 2,
              "version_minor": 0,
              "model_id": "71f0f40002114b1ea132bbeaea1448ab"
            }
          },
          "metadata": {}
        }
      ],
      "source": [
        "# Load the pre-trained T5 model and tokenizer\n",
        "tokenizer = T5Tokenizer.from_pretrained(\"t5-small\")\n",
        "model = T5ForConditionalGeneration.from_pretrained(\"t5-small\")\n",
        "\n",
        "# Function to summarize reviews\n",
        "def summarize_reviews(reviews):\n",
        "    input_text = f\"summarize: {reviews}\"\n",
        "    inputs = tokenizer(input_text, return_tensors=\"pt\", max_length=512, truncation=True)\n",
        "    summary_ids = model.generate(inputs['input_ids'], max_length=150, num_beams=4, early_stopping=True)\n",
        "    summary = tokenizer.decode(summary_ids[0], skip_special_tokens=True)\n",
        "    return summary\n",
        "\n",
        "# Summarize the reviews for top products\n",
        "top_products['summary'] = top_products['cleaned_reviews'].apply(lambda x: summarize_reviews(x))"
      ]
    },
    {
      "cell_type": "code",
      "source": [
        "# Convert the 'name' column to string type before creating the Dataset\n",
        "top_products['cluster_label'] = top_products['cluster_label'].astype(str)\n",
        "\n",
        "# Import the Dataset class from the datasets library\n",
        "from datasets import Dataset\n",
        "\n",
        "# Now create the Hugging Face Dataset\n",
        "train_dataset = Dataset.from_pandas(top_products)"
      ],
      "metadata": {
        "id": "6HyiIi_pKt-D"
      },
      "execution_count": 39,
      "outputs": []
    },
    {
      "cell_type": "code",
      "source": [
        "# Convert to Hugging Face dataset format\n",
        "from datasets import Dataset # Import the Dataset class\n",
        "\n",
        "# Assuming top_products is your DataFrame for training\n",
        "train_dataset = Dataset.from_pandas(top_products) # Changed train_data to top_products\n",
        "\n",
        "# Tokenization Function for Fine-Tuning\n",
        "def tokenize_function(examples):\n",
        "    model_inputs = tokenizer(examples['cleaned_reviews'], max_length=512, truncation=True, padding='max_length')  # Changed 'input_text' to 'cleaned_reviews'\n",
        "    labels = tokenizer(examples['summary'], max_length=150, truncation=True, padding='max_length')  # Changed 'target_text' to 'summary'\n",
        "    model_inputs['labels'] = labels['input_ids']\n",
        "    return model_inputs\n",
        "\n",
        "# Tokenize the data\n",
        "tokenized_datasets = train_dataset.map(tokenize_function, batched=True)\n",
        "\n",
        "# Select only the required columns for training\n",
        "tokenized_datasets = tokenized_datasets.remove_columns(['cluster', 'cluster_label', 'cleaned_reviews', 'avg_sentiment', 'review_count']) # Remove unnecessary columns\n",
        "\n",
        "\n",
        "# Define the training arguments\n",
        "training_args = TrainingArguments(\n",
        "    output_dir=\"./results\",\n",
        "    evaluation_strategy=\"epoch\",\n",
        "    learning_rate=2e-5,\n",
        "    per_device_train_batch_size=8,\n",
        "    per_device_eval_batch_size=8,\n",
        "    num_train_epochs=3,\n",
        "    weight_decay=0.01,\n",
        "    save_total_limit=2,\n",
        "    remove_unused_columns=False,\n",
        "    logging_dir=\"./logs\",\n",
        "    push_to_hub=False,\n",
        ")\n",
        "\n",
        "# Initialize the Trainer\n",
        "trainer = Trainer(\n",
        "    model=model,\n",
        "    args=training_args,\n",
        "    train_dataset=tokenized_datasets,\n",
        "    eval_dataset=tokenized_datasets,\n",
        ")\n",
        "\n",
        "# Fine-tune the model\n",
        "trainer.train()"
      ],
      "metadata": {
        "colab": {
          "base_uri": "https://localhost:8080/",
          "height": 864,
          "referenced_widgets": [
            "b525e11b89bd49e79f9731ad9baffc5b",
            "0824f3c5e0f941649ec2b72d7acc1010",
            "3d5204e9f9f946c4a86b1b77a5d5e32b",
            "c6cfb2e909ac4484b3ae69e9974bf420",
            "3e69d46d5a414dc1a66f4a4f2904c2fd",
            "e63720f98736405aafd578e6e6b2361b",
            "2aa0356a46594dc39071e202f261a678",
            "2df020716db747ae9776f3f481b56f93",
            "85037b05dc2540c0aa468b3a9a5a16f6",
            "417f2b9e87a446f79fe0c2f2ccc39a8c",
            "97fea4e4f6594b5bac661a66efae7263"
          ]
        },
        "id": "cf8OMvLmHZro",
        "outputId": "31ba1e33-baad-4ac5-ea74-707de4e894cc"
      },
      "execution_count": 40,
      "outputs": [
        {
          "output_type": "display_data",
          "data": {
            "text/plain": [
              "Map:   0%|          | 0/5 [00:00<?, ? examples/s]"
            ],
            "application/vnd.jupyter.widget-view+json": {
              "version_major": 2,
              "version_minor": 0,
              "model_id": "b525e11b89bd49e79f9731ad9baffc5b"
            }
          },
          "metadata": {}
        },
        {
          "output_type": "stream",
          "name": "stderr",
          "text": [
            "/usr/local/lib/python3.10/dist-packages/transformers/optimization.py:306: FutureWarning: This implementation of AdamW is deprecated and will be removed in a future version. Use the PyTorch implementation torch.optim.AdamW instead, or set `no_deprecation_warning=True` to disable this warning\n",
            "  warnings.warn(\n",
            "***** Running training *****\n",
            "  Num examples = 5\n",
            "  Num Epochs = 3\n",
            "  Instantaneous batch size per device = 8\n",
            "  Total train batch size (w. parallel, distributed & accumulation) = 8\n",
            "  Gradient Accumulation steps = 1\n",
            "  Total optimization steps = 3\n",
            "Automatic Weights & Biases logging enabled, to disable set os.environ[\"WANDB_DISABLED\"] = \"true\"\n",
            "\u001b[34m\u001b[1mwandb\u001b[0m: Using wandb-core as the SDK backend.  Please refer to https://wandb.me/wandb-core for more information.\n"
          ]
        },
        {
          "output_type": "display_data",
          "data": {
            "text/plain": [
              "<IPython.core.display.Javascript object>"
            ],
            "application/javascript": [
              "\n",
              "        window._wandbApiKey = new Promise((resolve, reject) => {\n",
              "            function loadScript(url) {\n",
              "            return new Promise(function(resolve, reject) {\n",
              "                let newScript = document.createElement(\"script\");\n",
              "                newScript.onerror = reject;\n",
              "                newScript.onload = resolve;\n",
              "                document.body.appendChild(newScript);\n",
              "                newScript.src = url;\n",
              "            });\n",
              "            }\n",
              "            loadScript(\"https://cdn.jsdelivr.net/npm/postmate/build/postmate.min.js\").then(() => {\n",
              "            const iframe = document.createElement('iframe')\n",
              "            iframe.style.cssText = \"width:0;height:0;border:none\"\n",
              "            document.body.appendChild(iframe)\n",
              "            const handshake = new Postmate({\n",
              "                container: iframe,\n",
              "                url: 'https://wandb.ai/authorize'\n",
              "            });\n",
              "            const timeout = setTimeout(() => reject(\"Couldn't auto authenticate\"), 5000)\n",
              "            handshake.then(function(child) {\n",
              "                child.on('authorize', data => {\n",
              "                    clearTimeout(timeout)\n",
              "                    resolve(data)\n",
              "                });\n",
              "            });\n",
              "            })\n",
              "        });\n",
              "    "
            ]
          },
          "metadata": {}
        },
        {
          "output_type": "stream",
          "name": "stderr",
          "text": [
            "\u001b[34m\u001b[1mwandb\u001b[0m: Logging into wandb.ai. (Learn how to deploy a W&B server locally: https://wandb.me/wandb-server)\n",
            "\u001b[34m\u001b[1mwandb\u001b[0m: You can find your API key in your browser here: https://wandb.ai/authorize\n",
            "wandb: Paste an API key from your profile and hit enter, or press ctrl+c to quit:"
          ]
        },
        {
          "name": "stdout",
          "output_type": "stream",
          "text": [
            " ··········\n"
          ]
        },
        {
          "output_type": "stream",
          "name": "stderr",
          "text": [
            "\u001b[34m\u001b[1mwandb\u001b[0m: Appending key for api.wandb.ai to your netrc file: /root/.netrc\n"
          ]
        },
        {
          "output_type": "display_data",
          "data": {
            "text/plain": [
              "<IPython.core.display.HTML object>"
            ],
            "text/html": [
              "Tracking run with wandb version 0.19.1"
            ]
          },
          "metadata": {}
        },
        {
          "output_type": "display_data",
          "data": {
            "text/plain": [
              "<IPython.core.display.HTML object>"
            ],
            "text/html": [
              "Run data is saved locally in <code>/content/wandb/run-20250109_150240-9r60huv6</code>"
            ]
          },
          "metadata": {}
        },
        {
          "output_type": "display_data",
          "data": {
            "text/plain": [
              "<IPython.core.display.HTML object>"
            ],
            "text/html": [
              "Syncing run <strong><a href='https://wandb.ai/mehakgam-ironhack/huggingface/runs/9r60huv6' target=\"_blank\">./results</a></strong> to <a href='https://wandb.ai/mehakgam-ironhack/huggingface' target=\"_blank\">Weights & Biases</a> (<a href='https://wandb.me/developer-guide' target=\"_blank\">docs</a>)<br>"
            ]
          },
          "metadata": {}
        },
        {
          "output_type": "display_data",
          "data": {
            "text/plain": [
              "<IPython.core.display.HTML object>"
            ],
            "text/html": [
              " View project at <a href='https://wandb.ai/mehakgam-ironhack/huggingface' target=\"_blank\">https://wandb.ai/mehakgam-ironhack/huggingface</a>"
            ]
          },
          "metadata": {}
        },
        {
          "output_type": "display_data",
          "data": {
            "text/plain": [
              "<IPython.core.display.HTML object>"
            ],
            "text/html": [
              " View run at <a href='https://wandb.ai/mehakgam-ironhack/huggingface/runs/9r60huv6' target=\"_blank\">https://wandb.ai/mehakgam-ironhack/huggingface/runs/9r60huv6</a>"
            ]
          },
          "metadata": {}
        },
        {
          "output_type": "display_data",
          "data": {
            "text/plain": [
              "<IPython.core.display.HTML object>"
            ],
            "text/html": [
              "\n",
              "    <div>\n",
              "      \n",
              "      <progress value='3' max='3' style='width:300px; height:20px; vertical-align: middle;'></progress>\n",
              "      [3/3 00:00, Epoch 3/3]\n",
              "    </div>\n",
              "    <table border=\"1\" class=\"dataframe\">\n",
              "  <thead>\n",
              " <tr style=\"text-align: left;\">\n",
              "      <th>Epoch</th>\n",
              "      <th>Training Loss</th>\n",
              "      <th>Validation Loss</th>\n",
              "    </tr>\n",
              "  </thead>\n",
              "  <tbody>\n",
              "    <tr>\n",
              "      <td>1</td>\n",
              "      <td>No log</td>\n",
              "      <td>3.981383</td>\n",
              "    </tr>\n",
              "    <tr>\n",
              "      <td>2</td>\n",
              "      <td>No log</td>\n",
              "      <td>3.867397</td>\n",
              "    </tr>\n",
              "    <tr>\n",
              "      <td>3</td>\n",
              "      <td>No log</td>\n",
              "      <td>3.815538</td>\n",
              "    </tr>\n",
              "  </tbody>\n",
              "</table><p>"
            ]
          },
          "metadata": {}
        },
        {
          "output_type": "stream",
          "name": "stderr",
          "text": [
            "***** Running Evaluation *****\n",
            "  Num examples = 5\n",
            "  Batch size = 8\n",
            "***** Running Evaluation *****\n",
            "  Num examples = 5\n",
            "  Batch size = 8\n",
            "***** Running Evaluation *****\n",
            "  Num examples = 5\n",
            "  Batch size = 8\n",
            "\n",
            "\n",
            "Training completed. Do not forget to share your model on huggingface.co/models =)\n",
            "\n",
            "\n"
          ]
        },
        {
          "output_type": "execute_result",
          "data": {
            "text/plain": [
              "TrainOutput(global_step=3, training_loss=4.455787022908528, metrics={'train_runtime': 28.1677, 'train_samples_per_second': 0.533, 'train_steps_per_second': 0.107, 'total_flos': 2030127022080.0, 'train_loss': 4.455787022908528, 'epoch': 3.0})"
            ]
          },
          "metadata": {},
          "execution_count": 40
        }
      ]
    },
    {
      "cell_type": "code",
      "execution_count": 41,
      "metadata": {
        "colab": {
          "base_uri": "https://localhost:8080/",
          "height": 981
        },
        "id": "_i9eE-or54kd",
        "outputId": "368164f5-42bb-495e-ea67-4d1d7c6da88c"
      },
      "outputs": [
        {
          "output_type": "stream",
          "name": "stdout",
          "text": [
            "Requirement already satisfied: datasets in /usr/local/lib/python3.10/dist-packages (3.2.0)\n",
            "Requirement already satisfied: filelock in /usr/local/lib/python3.10/dist-packages (from datasets) (3.16.1)\n",
            "Requirement already satisfied: numpy>=1.17 in /usr/local/lib/python3.10/dist-packages (from datasets) (1.26.4)\n",
            "Requirement already satisfied: pyarrow>=15.0.0 in /usr/local/lib/python3.10/dist-packages (from datasets) (17.0.0)\n",
            "Requirement already satisfied: dill<0.3.9,>=0.3.0 in /usr/local/lib/python3.10/dist-packages (from datasets) (0.3.8)\n",
            "Requirement already satisfied: pandas in /usr/local/lib/python3.10/dist-packages (from datasets) (2.2.2)\n",
            "Requirement already satisfied: requests>=2.32.2 in /usr/local/lib/python3.10/dist-packages (from datasets) (2.32.3)\n",
            "Requirement already satisfied: tqdm>=4.66.3 in /usr/local/lib/python3.10/dist-packages (from datasets) (4.67.1)\n",
            "Requirement already satisfied: xxhash in /usr/local/lib/python3.10/dist-packages (from datasets) (3.5.0)\n",
            "Requirement already satisfied: multiprocess<0.70.17 in /usr/local/lib/python3.10/dist-packages (from datasets) (0.70.16)\n",
            "Requirement already satisfied: fsspec<=2024.9.0,>=2023.1.0 in /usr/local/lib/python3.10/dist-packages (from fsspec[http]<=2024.9.0,>=2023.1.0->datasets) (2024.9.0)\n",
            "Requirement already satisfied: aiohttp in /usr/local/lib/python3.10/dist-packages (from datasets) (3.11.11)\n",
            "Requirement already satisfied: huggingface-hub>=0.23.0 in /usr/local/lib/python3.10/dist-packages (from datasets) (0.27.1)\n",
            "Requirement already satisfied: packaging in /usr/local/lib/python3.10/dist-packages (from datasets) (24.2)\n",
            "Requirement already satisfied: pyyaml>=5.1 in /usr/local/lib/python3.10/dist-packages (from datasets) (6.0.2)\n",
            "Requirement already satisfied: aiohappyeyeballs>=2.3.0 in /usr/local/lib/python3.10/dist-packages (from aiohttp->datasets) (2.4.4)\n",
            "Requirement already satisfied: aiosignal>=1.1.2 in /usr/local/lib/python3.10/dist-packages (from aiohttp->datasets) (1.3.2)\n",
            "Requirement already satisfied: async-timeout<6.0,>=4.0 in /usr/local/lib/python3.10/dist-packages (from aiohttp->datasets) (4.0.3)\n",
            "Requirement already satisfied: attrs>=17.3.0 in /usr/local/lib/python3.10/dist-packages (from aiohttp->datasets) (24.3.0)\n",
            "Requirement already satisfied: frozenlist>=1.1.1 in /usr/local/lib/python3.10/dist-packages (from aiohttp->datasets) (1.5.0)\n",
            "Requirement already satisfied: multidict<7.0,>=4.5 in /usr/local/lib/python3.10/dist-packages (from aiohttp->datasets) (6.1.0)\n",
            "Requirement already satisfied: propcache>=0.2.0 in /usr/local/lib/python3.10/dist-packages (from aiohttp->datasets) (0.2.1)\n",
            "Requirement already satisfied: yarl<2.0,>=1.17.0 in /usr/local/lib/python3.10/dist-packages (from aiohttp->datasets) (1.18.3)\n",
            "Requirement already satisfied: typing-extensions>=3.7.4.3 in /usr/local/lib/python3.10/dist-packages (from huggingface-hub>=0.23.0->datasets) (4.12.2)\n",
            "Requirement already satisfied: charset-normalizer<4,>=2 in /usr/local/lib/python3.10/dist-packages (from requests>=2.32.2->datasets) (3.4.1)\n",
            "Requirement already satisfied: idna<4,>=2.5 in /usr/local/lib/python3.10/dist-packages (from requests>=2.32.2->datasets) (3.10)\n",
            "Requirement already satisfied: urllib3<3,>=1.21.1 in /usr/local/lib/python3.10/dist-packages (from requests>=2.32.2->datasets) (2.3.0)\n",
            "Requirement already satisfied: certifi>=2017.4.17 in /usr/local/lib/python3.10/dist-packages (from requests>=2.32.2->datasets) (2024.12.14)\n",
            "Requirement already satisfied: python-dateutil>=2.8.2 in /usr/local/lib/python3.10/dist-packages (from pandas->datasets) (2.8.2)\n",
            "Requirement already satisfied: pytz>=2020.1 in /usr/local/lib/python3.10/dist-packages (from pandas->datasets) (2024.2)\n",
            "Requirement already satisfied: tzdata>=2022.7 in /usr/local/lib/python3.10/dist-packages (from pandas->datasets) (2024.2)\n",
            "Requirement already satisfied: six>=1.5 in /usr/local/lib/python3.10/dist-packages (from python-dateutil>=2.8.2->pandas->datasets) (1.17.0)\n"
          ]
        },
        {
          "output_type": "stream",
          "name": "stderr",
          "text": [
            "PyTorch: setting up devices\n",
            "The default value for the training argument `--report_to` will change in v5 (from all installed integrations to none). In v5, you will need to use `--report_to all` to get the same behavior as now. You should start updating your code and make this info disappear :-).\n",
            "/usr/local/lib/python3.10/dist-packages/transformers/optimization.py:306: FutureWarning: This implementation of AdamW is deprecated and will be removed in a future version. Use the PyTorch implementation torch.optim.AdamW instead, or set `no_deprecation_warning=True` to disable this warning\n",
            "  warnings.warn(\n",
            "***** Running training *****\n",
            "  Num examples = 5\n",
            "  Num Epochs = 3\n",
            "  Instantaneous batch size per device = 4\n",
            "  Total train batch size (w. parallel, distributed & accumulation) = 4\n",
            "  Gradient Accumulation steps = 1\n",
            "  Total optimization steps = 6\n",
            "Automatic Weights & Biases logging enabled, to disable set os.environ[\"WANDB_DISABLED\"] = \"true\"\n"
          ]
        },
        {
          "output_type": "display_data",
          "data": {
            "text/plain": [
              "<IPython.core.display.HTML object>"
            ],
            "text/html": [
              "\n",
              "    <div>\n",
              "      \n",
              "      <progress value='6' max='6' style='width:300px; height:20px; vertical-align: middle;'></progress>\n",
              "      [6/6 00:00, Epoch 3/3]\n",
              "    </div>\n",
              "    <table border=\"1\" class=\"dataframe\">\n",
              "  <thead>\n",
              " <tr style=\"text-align: left;\">\n",
              "      <th>Step</th>\n",
              "      <th>Training Loss</th>\n",
              "    </tr>\n",
              "  </thead>\n",
              "  <tbody>\n",
              "  </tbody>\n",
              "</table><p>"
            ]
          },
          "metadata": {}
        },
        {
          "output_type": "stream",
          "name": "stderr",
          "text": [
            "\n",
            "\n",
            "Training completed. Do not forget to share your model on huggingface.co/models =)\n",
            "\n",
            "\n"
          ]
        },
        {
          "output_type": "execute_result",
          "data": {
            "text/plain": [
              "TrainOutput(global_step=6, training_loss=0.4525771935780843, metrics={'train_runtime': 1.0374, 'train_samples_per_second': 14.459, 'train_steps_per_second': 5.784, 'total_flos': 2030127022080.0, 'train_loss': 0.4525771935780843, 'epoch': 3.0})"
            ]
          },
          "metadata": {},
          "execution_count": 41
        }
      ],
      "source": [
        "from transformers import Trainer, TrainingArguments, T5Tokenizer, T5ForConditionalGeneration\n",
        "!pip install datasets\n",
        "from datasets import Dataset\n",
        "\n",
        "# Fine-tuning T5 on your dataset\n",
        "train_dataset = [\n",
        "    {\"input_text\": row['cleaned_reviews'], \"output_text\": row['summary']}\n",
        "    for _, row in top_products.iterrows()\n",
        "]\n",
        "\n",
        "# Prepare the dataset\n",
        "train_encodings = tokenizer([example['input_text'] for example in train_dataset], truncation=True, padding=True)\n",
        "train_labels = tokenizer([example['output_text'] for example in train_dataset], truncation=True, padding=True)\n",
        "\n",
        "\n",
        "# Create a Hugging Face Dataset from your encodings and labels\n",
        "train_dataset = Dataset.from_dict({\n",
        "    'input_ids': train_encodings['input_ids'],\n",
        "    'attention_mask': train_encodings['attention_mask'],\n",
        "    'labels': train_labels['input_ids']  # Assuming 'labels' is the key for target encodings\n",
        "})\n",
        "\n",
        "# Train the T5 model\n",
        "training_args = TrainingArguments(\n",
        "    output_dir='./results',\n",
        "    num_train_epochs=3,\n",
        "    per_device_train_batch_size=4,\n",
        "    logging_dir='./logs',\n",
        ")\n",
        "\n",
        "trainer = Trainer(\n",
        "    model=model,\n",
        "    args=training_args,\n",
        "    train_dataset=train_dataset,     # Pass the Hugging Face Dataset here\n",
        ")\n",
        "\n",
        "trainer.train()"
      ]
    },
    {
      "cell_type": "code",
      "execution_count": 42,
      "metadata": {
        "id": "V3O3S5u_54kd"
      },
      "outputs": [],
      "source": [
        "# --------------------------- Step 10: Model Training and Evaluation ---------------------------\n",
        "X_train, X_test, y_train, y_test = train_test_split(df['cleaned_reviews'], df['sentiment'], test_size=0.2, random_state=42)\n",
        "vectorizer = TfidfVectorizer(max_features=1000)\n",
        "X_train_vec = vectorizer.fit_transform(X_train)\n",
        "X_test_vec = vectorizer.transform(X_test)"
      ]
    },
    {
      "cell_type": "code",
      "execution_count": 43,
      "metadata": {
        "id": "JGAnnZMo54kd"
      },
      "outputs": [],
      "source": [
        "# Logistic Regression Model\n",
        "log_reg_model = LogisticRegression(max_iter=1000)\n",
        "log_reg_model.fit(X_train_vec, y_train)\n",
        "y_pred_log_reg = log_reg_model.predict(X_test_vec)"
      ]
    },
    {
      "cell_type": "code",
      "execution_count": 44,
      "metadata": {
        "colab": {
          "base_uri": "https://localhost:8080/"
        },
        "id": "yUjEcbyC54ke",
        "outputId": "18bd4a81-7b69-415d-ac07-d5651913d7ac"
      },
      "outputs": [
        {
          "output_type": "stream",
          "name": "stdout",
          "text": [
            "Logistic Regression Classification Report\n",
            "              precision    recall  f1-score   support\n",
            "\n",
            "    negative       0.00      0.00      0.00        11\n",
            "     neutral       0.98      0.94      0.96       699\n",
            "    positive       0.86      0.98      0.91       262\n",
            "\n",
            "    accuracy                           0.94       972\n",
            "   macro avg       0.61      0.64      0.62       972\n",
            "weighted avg       0.93      0.94      0.94       972\n",
            "\n"
          ]
        },
        {
          "output_type": "stream",
          "name": "stderr",
          "text": [
            "/usr/local/lib/python3.10/dist-packages/sklearn/metrics/_classification.py:1565: UndefinedMetricWarning: Precision is ill-defined and being set to 0.0 in labels with no predicted samples. Use `zero_division` parameter to control this behavior.\n",
            "  _warn_prf(average, modifier, f\"{metric.capitalize()} is\", len(result))\n",
            "/usr/local/lib/python3.10/dist-packages/sklearn/metrics/_classification.py:1565: UndefinedMetricWarning: Precision is ill-defined and being set to 0.0 in labels with no predicted samples. Use `zero_division` parameter to control this behavior.\n",
            "  _warn_prf(average, modifier, f\"{metric.capitalize()} is\", len(result))\n",
            "/usr/local/lib/python3.10/dist-packages/sklearn/metrics/_classification.py:1565: UndefinedMetricWarning: Precision is ill-defined and being set to 0.0 in labels with no predicted samples. Use `zero_division` parameter to control this behavior.\n",
            "  _warn_prf(average, modifier, f\"{metric.capitalize()} is\", len(result))\n"
          ]
        }
      ],
      "source": [
        "# Classification Evaluation\n",
        "print(\"Logistic Regression Classification Report\")\n",
        "print(classification_report(y_test, y_pred_log_reg))"
      ]
    },
    {
      "cell_type": "code",
      "source": [
        "# Confusion Matrix for Logistic Regression\n",
        "conf_matrix_log_reg = confusion_matrix(y_test, y_pred_log_reg)\n",
        "\n",
        "# Calculate y_pred_nb before using it in the confusion matrix calculation\n",
        "# Naive Bayes Model\n",
        "nb_model = MultinomialNB()\n",
        "nb_model.fit(X_train_vec, y_train)\n",
        "y_pred_nb = nb_model.predict(X_test_vec)\n",
        "\n",
        "# Now calculate the confusion matrix for Naive Bayes\n",
        "conf_matrix_nb = confusion_matrix(y_test, y_pred_nb)\n",
        "\n",
        "# Plot Confusion Matrix\n",
        "plt.figure(figsize=(6, 4))\n",
        "sns.heatmap(conf_matrix_log_reg, annot=True, fmt='d', cmap='Blues', xticklabels=['Negative', 'Neutral', 'Positive'], yticklabels=['Negative', 'Neutral', 'Positive'])\n",
        "plt.title(\"Confusion Matrix: Logistic Regression\")\n",
        "plt.xlabel(\"Predicted\")\n",
        "plt.ylabel(\"Actual\")\n",
        "plt.show()"
      ],
      "metadata": {
        "id": "GO5zWlQOAQZx",
        "colab": {
          "base_uri": "https://localhost:8080/",
          "height": 410
        },
        "outputId": "34474732-6251-4280-c359-7269b5f5624e"
      },
      "execution_count": 45,
      "outputs": [
        {
          "output_type": "display_data",
          "data": {
            "text/plain": [
              "<Figure size 600x400 with 2 Axes>"
            ],
            "image/png": "[encoded data removed]"
          },
          "metadata": {}
        }
      ]
    },
    {
      "cell_type": "code",
      "execution_count": 46,
      "metadata": {
        "id": "fjhRxG8U54ke"
      },
      "outputs": [],
      "source": [
        "# Naive Bayes Model\n",
        "nb_model = MultinomialNB()\n",
        "nb_model.fit(X_train_vec, y_train)\n",
        "y_pred_nb = nb_model.predict(X_test_vec)"
      ]
    },
    {
      "cell_type": "code",
      "execution_count": 47,
      "metadata": {
        "id": "OG23dfWn54kf",
        "colab": {
          "base_uri": "https://localhost:8080/"
        },
        "outputId": "743725c7-b770-4fe0-9ec8-79e91b492c6b"
      },
      "outputs": [
        {
          "output_type": "stream",
          "name": "stdout",
          "text": [
            "Naive Bayes Classification Report\n",
            "              precision    recall  f1-score   support\n",
            "\n",
            "    negative       0.00      0.00      0.00        11\n",
            "     neutral       1.00      0.89      0.94       699\n",
            "    positive       0.76      1.00      0.86       262\n",
            "\n",
            "    accuracy                           0.91       972\n",
            "   macro avg       0.58      0.63      0.60       972\n",
            "weighted avg       0.92      0.91      0.91       972\n",
            "\n"
          ]
        },
        {
          "output_type": "stream",
          "name": "stderr",
          "text": [
            "/usr/local/lib/python3.10/dist-packages/sklearn/metrics/_classification.py:1565: UndefinedMetricWarning: Precision is ill-defined and being set to 0.0 in labels with no predicted samples. Use `zero_division` parameter to control this behavior.\n",
            "  _warn_prf(average, modifier, f\"{metric.capitalize()} is\", len(result))\n",
            "/usr/local/lib/python3.10/dist-packages/sklearn/metrics/_classification.py:1565: UndefinedMetricWarning: Precision is ill-defined and being set to 0.0 in labels with no predicted samples. Use `zero_division` parameter to control this behavior.\n",
            "  _warn_prf(average, modifier, f\"{metric.capitalize()} is\", len(result))\n",
            "/usr/local/lib/python3.10/dist-packages/sklearn/metrics/_classification.py:1565: UndefinedMetricWarning: Precision is ill-defined and being set to 0.0 in labels with no predicted samples. Use `zero_division` parameter to control this behavior.\n",
            "  _warn_prf(average, modifier, f\"{metric.capitalize()} is\", len(result))\n"
          ]
        }
      ],
      "source": [
        "print(\"Naive Bayes Classification Report\")\n",
        "print(classification_report(y_test, y_pred_nb))"
      ]
    },
    {
      "cell_type": "code",
      "source": [
        "# Confusion Matrix\n",
        "conf_matrix_log_reg = confusion_matrix(y_test, y_pred_log_reg)\n",
        "conf_matrix_nb = confusion_matrix(y_test, y_pred_nb)\n",
        "\n",
        "# Plot Confusion Matrix\n",
        "plt.figure(figsize=(6, 4))\n",
        "sns.heatmap(conf_matrix_log_reg, annot=True, fmt='d', cmap='Blues', xticklabels=['Negative', 'Neutral', 'Positive'], yticklabels=['Negative', 'Neutral', 'Positive'])\n",
        "plt.title(\"Confusion Matrix:Naive Bayes\")\n",
        "plt.xlabel(\"Predicted\")\n",
        "plt.ylabel(\"Actual\")\n",
        "plt.show()"
      ],
      "metadata": {
        "colab": {
          "base_uri": "https://localhost:8080/",
          "height": 410
        },
        "id": "JJzrIl3n1hz8",
        "outputId": "465329bb-4ff9-4820-c75f-f0e6e231edae"
      },
      "execution_count": 48,
      "outputs": [
        {
          "output_type": "display_data",
          "data": {
            "text/plain": [
              "<Figure size 600x400 with 2 Axes>"
            ],
            "image/png": "[encoded data removed]"
          },
          "metadata": {}
        }
      ]
    },
    {
      "cell_type": "code",
      "execution_count": 49,
      "metadata": {
        "colab": {
          "base_uri": "https://localhost:8080/"
        },
        "id": "OfFd8FUF54kf",
        "outputId": "e526d21a-9da1-4a8e-b088-fe8aa10f94b7"
      },
      "outputs": [
        {
          "output_type": "stream",
          "name": "stdout",
          "text": [
            "Silhouette Score: 0.66\n",
            "Inertia: 1533.50\n"
          ]
        }
      ],
      "source": [
        "# --------------------------- Step 11: Clustering Evaluation ---------------------------\n",
        "sil_score = silhouette_score(X, kmeans.labels_)\n",
        "inertia = kmeans.inertia_\n",
        "\n",
        "print(f\"Silhouette Score: {sil_score:.2f}\")\n",
        "print(f\"Inertia: {inertia:.2f}\")"
      ]
    },
    {
      "cell_type": "code",
      "source": [
        "# --------------------------- Step 11: Evaluation of Summarization ---------------------------\n",
        "# Load evaluation metrics\n",
        "import evaluate # Import the evaluate module\n",
        "rouge = evaluate.load(\"rouge\")\n",
        "bleu = evaluate.load(\"bleu\")\n",
        "\n",
        "# Evaluate summarization using ROUGE and BLEU\n",
        "rouge_scores = []\n",
        "bleu_scores = []\n",
        "\n",
        "for idx, row in top_products.iterrows():\n",
        "    predictions = row['summary']\n",
        "    references = [row['cleaned_reviews']]\n",
        "    rouge_score = rouge.compute(predictions=[predictions], references=[references])\n",
        "    bleu_score = bleu.compute(predictions=[predictions], references=[references])\n",
        "    rouge_scores.append(rouge_score)\n",
        "    # Print results in percentage (indented to be part of the loop)\n",
        "    print(f\"Product: {row['cluster_label']}, ROUGE: {rouge_score['rouge1']*100:.2f}%, BLEU: {bleu_score['bleu']*100:.2f}%\")"
      ],
      "metadata": {
        "colab": {
          "base_uri": "https://localhost:8080/",
          "height": 232,
          "referenced_widgets": [
            "367692a73b774380bf2f1641013a9c33",
            "e0208730e22840538bceeccb1aa142d4",
            "22049a6c05de49e7ad791b8736dedb92",
            "f0a53581aeb54934b4de4c6e40a226c9",
            "8a8f8b539d34408e994099cdc58adbba",
            "7a32ddc6e0684d13b9a1e8ad48e97539",
            "832ab9a45c5e48b784d1fa4a5789a197",
            "2458c6b1eafb4a37b9bc80b3d9552a04",
            "cb123bc432214068afd559fa389641de",
            "7383bb94092c419d93ddb1b227e07960",
            "395d434312ee46d2bb0194efecc24eac",
            "202fb208c6164986bdc3646a194abdef",
            "0d226677064b434dbb9892c05369176f",
            "4d4cb6c3a0854e1a8054454c13d7bb93",
            "a3bfab7b044d4e9f91138c22cdbebee2",
            "f1f413c4156a4aff9ae3f1c7d5597527",
            "a70feb9dd27e4d0b89ddf121f3d68923",
            "031b803e920342f4ae520e44b08c4ed5",
            "1830eb0a0fdf49fd9e743f721c422901",
            "fb2d7d4661d041deb7e621455bab99e4",
            "ebe1d0735dfb43efb3bca7ede439877b",
            "b2e73c69a1614fe88615947c414db77a",
            "603a5a85b26d4decb11f9e98bf72e600",
            "b344fc47a3754e6cba5353e802ee3050",
            "ec025b3e80f14ba8b26656f3857abdc7",
            "b345f79a9e354bf0bc69092cb577de54",
            "411ae8f1565041fe9ba61a45f618c396",
            "d820465dd7934e7290048e936e9ccf8b",
            "96707ba4894948679055466884c1e399",
            "d1cdbf6a6d4640f2a7fa0722fd028a85",
            "da8b555b6c304be9b45351afeb13a645",
            "22983d097c534e80983b576865d7e184",
            "dbc59066a2e84129bd23e60297548162",
            "bdc320063cc644d59c717653790306f7",
            "2fd50024f66e46ebb9f37ff70eddd058",
            "619834fe0866462fb7c91bf7d28a85dc",
            "a2958c9c16644e77a00c7c6a8e6bc017",
            "345e55ea24404c179a092fc5b895a15c",
            "0d5f431b01b34563a80034129ecfdb5d",
            "0c35dcf4239a4a1ebf04526c00d809b6",
            "54f7951317d649089b98f2444e438381",
            "fd97a7025545429ab1d8643a521a3e23",
            "071789e6b69e48eeb863f13127f3d218",
            "a178dbd848434127a3000b380de44caa"
          ]
        },
        "id": "fh57M6OSCbVt",
        "outputId": "4862eec7-546f-43b4-b9bf-c1f7aa8d9635"
      },
      "execution_count": 50,
      "outputs": [
        {
          "output_type": "display_data",
          "data": {
            "text/plain": [
              "Downloading builder script:   0%|          | 0.00/6.27k [00:00<?, ?B/s]"
            ],
            "application/vnd.jupyter.widget-view+json": {
              "version_major": 2,
              "version_minor": 0,
              "model_id": "367692a73b774380bf2f1641013a9c33"
            }
          },
          "metadata": {}
        },
        {
          "output_type": "display_data",
          "data": {
            "text/plain": [
              "Downloading builder script:   0%|          | 0.00/5.94k [00:00<?, ?B/s]"
            ],
            "application/vnd.jupyter.widget-view+json": {
              "version_major": 2,
              "version_minor": 0,
              "model_id": "202fb208c6164986bdc3646a194abdef"
            }
          },
          "metadata": {}
        },
        {
          "output_type": "display_data",
          "data": {
            "text/plain": [
              "Downloading extra modules:   0%|          | 0.00/1.55k [00:00<?, ?B/s]"
            ],
            "application/vnd.jupyter.widget-view+json": {
              "version_major": 2,
              "version_minor": 0,
              "model_id": "603a5a85b26d4decb11f9e98bf72e600"
            }
          },
          "metadata": {}
        },
        {
          "output_type": "display_data",
          "data": {
            "text/plain": [
              "Downloading extra modules:   0%|          | 0.00/3.34k [00:00<?, ?B/s]"
            ],
            "application/vnd.jupyter.widget-view+json": {
              "version_major": 2,
              "version_minor": 0,
              "model_id": "bdc320063cc644d59c717653790306f7"
            }
          },
          "metadata": {}
        },
        {
          "output_type": "stream",
          "name": "stdout",
          "text": [
            "Product: 0, ROUGE: 0.25%, BLEU: 0.00%\n",
            "Product: 1, ROUGE: 5.90%, BLEU: 0.00%\n",
            "Product: 2, ROUGE: 6.45%, BLEU: 0.00%\n",
            "Product: 3, ROUGE: 6.22%, BLEU: 0.00%\n",
            "Product: 4, ROUGE: 1.67%, BLEU: 0.00%\n"
          ]
        }
      ]
    },
    {
      "cell_type": "code",
      "source": [
        "# Print ROUGE and BLEU scores\n",
        "for idx, (rouge_score, bleu_score) in enumerate(zip(rouge_scores, bleu_scores)):\n",
        "    print(f\"Product {top_products.iloc[idx]['product_name']}: ROUGE: {rouge_score}, BLEU: {bleu_score}\")"
      ],
      "metadata": {
        "id": "6w5UN8HmEfnd"
      },
      "execution_count": 51,
      "outputs": []
    },
    {
      "cell_type": "code",
      "source": [
        "# --------------------------- Step 12: Show the Results ---------------------------\n",
        "# Print summarized top products with recommendations\n",
        "# Changed 'product_name' to 'name'\n",
        "print(top_products[['cluster', 'cluster_label', 'summary']])\n",
        "\n",
        "# Calculate accuracy and print results\n",
        "accuracy_log_reg = accuracy_score(y_test, y_pred_log_reg)\n",
        "accuracy_nb = accuracy_score(y_test, y_pred_nb)\n",
        "\n",
        "\n",
        "print(f\"Logistic Regression Accuracy: {accuracy_log_reg * 100:.2f}%\")\n",
        "print(f\"Naive Bayes Accuracy: {accuracy_nb * 100:.2f}%\")"
      ],
      "metadata": {
        "colab": {
          "base_uri": "https://localhost:8080/"
        },
        "id": "HD8g5IarBUkj",
        "outputId": "02408db7-6e04-4e3b-8cc4-f9f652af96b0"
      },
      "execution_count": 52,
      "outputs": [
        {
          "output_type": "stream",
          "name": "stdout",
          "text": [
            "   cluster cluster_label                                            summary\n",
            "0        0             0  httpswwwamazoncomamazonbasicsperformancealkali...\n",
            "1        1             1  purchas last tablet die meet basic need price ...\n",
            "2        2             2  great beginn experienc person bought gift love...\n",
            "3        3             3  easi elderli user ceas ad pop want father firs...\n",
            "4        4             4  amazon fire inch tablet perfect size purchas h...\n",
            "Logistic Regression Accuracy: 94.14%\n",
            "Naive Bayes Accuracy: 91.15%\n"
          ]
        }
      ]
    },
    {
      "cell_type": "code",
      "source": [
        "# --------------------------- Step 1: Extract and Summarize Top 5 Products ---------------------------\n",
        "top_5_products = top_products.head(5)\n",
        "\n",
        "# Function to extract key differences between products (based on sentiment and clusters)\n",
        "def key_differences(products):\n",
        "    differences = []\n",
        "    for i in range(len(products) - 1):\n",
        "        product_1 = products.iloc[i]\n",
        "        product_2 = products.iloc[i + 1]\n",
        "        differences.append({\n",
        "            'product_1': product_1['cluster_label'],\n",
        "            'product_2': product_2['cluster_label'],\n",
        "            'sentiment_diff': abs(product_1['avg_sentiment'] - product_2['avg_sentiment']),\n",
        "            'cluster_diff': product_1['cluster'] != product_2['cluster']\n",
        "        })\n",
        "    return differences\n",
        "\n",
        "# Key differences between the top 5 products\n",
        "differences = key_differences(top_5_products)\n",
        "\n",
        "# Function to summarize reviews\n",
        "def summarize_reviews(reviews):\n",
        "    input_text = f\"summarize: {reviews}\"\n",
        "    inputs = tokenizer(input_text, return_tensors=\"pt\", max_length=512, truncation=True)\n",
        "\n",
        "    # Move inputs to the same device as the model\n",
        "    device = next(model.parameters()).device  # Get the model's device\n",
        "    inputs = {k: v.to(device) for k, v in inputs.items()}  # Move inputs to the device\n",
        "\n",
        "    summary_ids = model.generate(inputs['input_ids'], max_length=150, num_beams=4, early_stopping=True)\n",
        "    summary = tokenizer.decode(summary_ids[0], skip_special_tokens=True)\n",
        "    return summary\n",
        "\n",
        "# --------------------------- Step 2: Extract Top Complaints ---------------------------\n",
        "def extract_complaints(reviews):\n",
        "    complaints = []\n",
        "    for review in reviews:\n",
        "        if 'bad' in review or 'worst' in review or 'not good' in review or 'disappointed' in review:\n",
        "            complaints.append(review)\n",
        "    return complaints\n",
        "\n",
        "# Get complaints for each of the top 5 products\n",
        "top_5_products['complaints'] = top_5_products['cleaned_reviews'].apply(lambda x: extract_complaints([x]))\n",
        "\n",
        "# --------------------------- Step 3: Worst Product ---------------------------\n",
        "# Calculate the product with the worst sentiment (lowest average sentiment score)\n",
        "# Changed 'product_name' to 'name'\n",
        "# Use 'aggregated_reviews' DataFrame instead of 'df'\n",
        "worst_product = aggregated_reviews.groupby('cluster_label').agg({'avg_sentiment': 'mean'}).idxmin()\n",
        "worst_product_reviews = aggregated_reviews[aggregated_reviews['cluster_label'] == worst_product[0]] # Select the first element of the idxmin result\n",
        "\n",
        "# Get the worst product's summary\n",
        "worst_product_summary = summarize_reviews(' '.join(worst_product_reviews['cleaned_reviews']))\n",
        "\n",
        "# --------------------------- Step 4: Display the Results ---------------------------\n",
        "# Output: Top 5 Products, Key Differences, Complaints, and Worst Product\n",
        "\n",
        "# Top 5 products with summary\n",
        "print(\"Top 5 Products and Their Summaries:\")\n",
        "for idx, row in top_5_products.iterrows():\n",
        "    print(f\"Product: {row['cluster_label']}\")\n",
        "    print(f\"Summary: {row['summary']}\")\n",
        "    print(f\"Complaints: {row['complaints']}\")\n",
        "    print()\n",
        "# Key Differences Between Top 5 Products\n",
        "print(\"Key Differences Between Top 5 Products:\")\n",
        "for diff in differences:\n",
        "    print(f\"Difference between {diff['product_1']} and {diff['product_2']}:\")\n",
        "    print(f\"Sentiment Difference: {diff['sentiment_diff']}\")\n",
        "    print(f\"Cluster Difference: {diff['cluster_diff']}\")\n",
        "    print()\n",
        "\n",
        "# Worst Product\n",
        "print(f\"Worst Product: {worst_product}\")\n",
        "print(f\"Summary of Worst Product: {worst_product_summary}\")"
      ],
      "metadata": {
        "colab": {
          "base_uri": "https://localhost:8080/"
        },
        "id": "btXYAhpHRo4v",
        "outputId": "b8e77b1a-f010-4551-a3a6-2a9d7830cc57"
      },
      "execution_count": 56,
      "outputs": [
        {
          "output_type": "stream",
          "name": "stderr",
          "text": [
            "<ipython-input-56-76dc4d435149>:43: SettingWithCopyWarning: \n",
            "A value is trying to be set on a copy of a slice from a DataFrame.\n",
            "Try using .loc[row_indexer,col_indexer] = value instead\n",
            "\n",
            "See the caveats in the documentation: https://pandas.pydata.org/pandas-docs/stable/user_guide/indexing.html#returning-a-view-versus-a-copy\n",
            "  top_5_products['complaints'] = top_5_products['cleaned_reviews'].apply(lambda x: extract_complaints([x]))\n",
            "<ipython-input-56-76dc4d435149>:50: FutureWarning: Series.__getitem__ treating keys as positions is deprecated. In a future version, integer keys will always be treated as labels (consistent with DataFrame behavior). To access a value by position, use `ser.iloc[pos]`\n",
            "  worst_product_reviews = aggregated_reviews[aggregated_reviews['cluster_label'] == worst_product[0]] # Select the first element of the idxmin result\n"
          ]
        },
        {
          "output_type": "stream",
          "name": "stdout",
          "text": [
            "Top 5 Products and Their Summaries:\n",
            "Product: 0\n",
            "Summary: httpswwwamazoncomamazonbasicsperformancealkalinebatteriescountdpblhdmuo httpswwwamazoncomamazonbasicsperformancealkalinebatteriescountdpblhdmuo httpswwwamazoncomamazonbasicsperformancealkalinebatteriescountdpblhdmuo httpswwwamazoncomamazonbasicsperformancealkalinebatteriescountdpblhdmuo https\n",
            "Complaints: []\n",
            "\n",
            "Product: 1\n",
            "Summary: purchas last tablet die meet basic need price great work great love portabl book overal great product great tablet fast screen good size never give problem great tablet price easi navig realli enjoy price valu tablet versu ipad amaz tablet fast processor look great got good deal got year old realli great price work like charm great tablet app limit comparison tablet tablet great kid adult littl knowledg comput handl easili plenti storag great tablet price order onlin\n",
            "Complaints: ['purchas last tablet die meet basic need price great work great love portabl book overal great product great tablet fast screen good size never give problem great tablet price easi navig realli enjoy price valu tablet versu ipad amaz tablet fast processor look great got good deal got year old realli great price work like charm great tablet app limit comparison tablet tablet great kid adult littl knowledg comput handl easili plenti storag great tablet price order onlin easi happi took long receiv though great tablet everyon plenti memori download great featur around great budget tablet web brows also use mp player ebook reader may cheap great tablet work awesom nice tablet couldnt beat black friday price good tablet basic need screen resolut pretti good mostli use read sometim watch moviesshow great featur possibl use card expand memori good product great price great inch tablet amaz storag app tablet need tablet reason rd one great gift younger person want tablet tablet great love color featur buy daughter great purchas long review decid buy fire tablet gift great frienday love perfect size featur look tablet happi birthday great tablet price father law like easi use tablet thought tablet junk surpass expect ipad killer fierc tablet convini price work great fast great read internet use graphic great price would highli recommend tablet work good want kindl fire great featur price video qualiti asstound great product great pricei like builtin filter easi youreyesprob best reader dollar great price dollar great tablet fast everyth accept game play exampl play asphalt game bare playabl graphic struggl tablet higher graphic game also amazon tablet googl play store load googl play great tube video put googl play amazon tablet screen good long sun isnt hit stereo speaker sound great loud realli like tablet price realli like play game good graphic qualiti said return tablet order nvidia shield inch tablet best buy dollar got shield week ago wow differ graphic game qualiti thing good xbox ps nvidia shield tablet simpli unbeliev price consid appl samsung tablet fast tablet least twice cost plu dubbl game consol xbox pc game k tv amazon tablet also great tablet normal usag gamer like nvidia tablet tablet choic hand period dont know bbuy kind hide nvidia tab websit doesnt sell store display store would outsel appl samsung tablet hope help thank great littl tablet great price keep work listen music lunchtim read great tablet replac kindl love featur great tablet teen love price cant beat bad product amazon offer great product tablet miss featur even basic tablet lack googl chrome compat made tablet right tablet quick good ipad use tablet specif one aspect life perform great pleasantli surpris perform bought tablet holiday sale great tablet batteri life great new model also play game everyth move smoothli sinc ram durabl tablet great thing wont break drop thing dont like fire os cant get everyth get googl store app avail great tablet go good size screen watch movi read book great tablet great featur love kindl cant beat price tablet great stream casual game great read netflix fit nice purs good price great tablet use read email great price work great everyth want daughter great littl devic almost everyth tablet use comput travel well reader price tablet beat use ipad noth cant tablet great tablet price bought replac ipad mini great eread gener brows love read tablet work great need great devic work well use throughout daykeep inform great look thing stay contact fantast tablet price great altern ipad purchas tablet year old son love nice bright screen two speaker pretti good sound tablet great game watch video purchas black friday impuls buy absolut love great price size tablet perfect work great great littl tablet someon alway go love tablet regret pic great recommend good tablet price nice display good perform great around tablet color resolut nice best price nice product good valu tablet everyth pretti well bright isnt great batteri take charg last forev decent buy would recommend realli like feel eas use great tablet price far extrem satisfi purchas great product great price work great amazon prime account brows internet play game cheap tablet well wife mom want tablet great way get technolog love ipad galaxi good start great budget tablet great price long batteri life high qualiti display great tablet great peopl dont need lot apt store lot doesnt heat light weight great light weight charg quickli great featur perform bigger name brand tablet look good video somewhat customiz tablet great price pass good tablet price econom abil carri backpack great experi best buy rep great job tablet great price exactli need quick internet access download book great tablet kid enjoy much would buy nice littl tablet great kid great littl tablet add googl play store take research awesom tablet great valu money son enjoy lot got cheap tablet great watch video tablet sound good also dont like amazon ecosystem app store wish would sell android tablet app like phone good tablet like featur great valu tablet great everyth power ipad price cant beat pleas purchas tablet great project product versatil great upgrad kindl fire reason price product great product great price love would recommend anyon look tablet good price tablet work great price cant beat screen clear tablet faster expect great color also bought year old place nabi didnt work packag great basic tablet serv need economi tablet would reccomend tablet great tool use world wide web check email quirk disconcert bur overal great product great tablet pictur super sharp easi read pick tablet year old grandchild way learn use tablet work fine gift love tablet great price work awesom need buy tablet mother christma gift function great use onlin need one best inexpens tablet market great casual user great tablet problem excel price great love read tablet alway readi go trip great tablet love featur resolut super fast lot storag great tablet anyon nice tablet low price shell feel littl cheap side ad cover finti feel much sturdi great read watch netflix amazon video tablet excel fast well worth money display great great tablet childthi tablet everyth need child good buy enjoy new tablet great buy tablet great price good connect wi kindl store breez pictur qualiti good seem perfect size nice altern compar expens tablet much better qualiti less expens tablet would recommend find anoth tablet like afford price great tablet famili love lot featur faster thought would great product second one purchas recomend great tablet well worth price deal black friday trick good tablet price great tablet easi oper great upgrad famili member great read order book use tablet perfect price great bring go like said cant beat price con plastic back care batteri great would absolut recommend product great tablet money perfect someon want shell hundr ipad great afford tablet year old grandson keep higher speed internet far tablet work great got daughter christma download game problem gb great im glad purchas larger storag capac got tablet sale best buy got webroot internet secur free purchas high end tablet work realli great mani thing price cant beat tablet great easi use great way keep kid entertain great tablet children entertain great tablet price offer great amazon prime member tablet doesnt screen resolut im use nice beginn tablet faster old fire hd tablet purchas year ago wonder valu moneyclear display great color gave gift pleas great product great price bought tablet mom struggl technolog fire hd easi setup mani great featur catch well learn new applic daili great valu kindl great reader bascial comput connect internet take pictur mani great featur great compact tablet great coclor resolutiondec batteri life good wi fi connect great size storag read onlin book great price good tablet especi black friday hd great tablet purchas two daughter tablet feel durabl touch screen pictur crisp clear great tablet love pictur everyth amaz im glad chose one great deal got black friday pick tablet black friday great deal work awesom amazon app found great tablet ageseasi usegreat content love tablet awesom way cool highli recommend anyon great price great valu pricingblack friday special bought black friday actual thursday ok price cool buy extra storag great price great altern expens ipad prefer paper white read great everyth els bought three boy christma gift great littl tablet perfect everyth want use tablet work great daughter love reason star cant access googl play without root tablet way ruin android amazon reason price great grandkid purchas cheaper tablet last year none last far look better purchas inch fire tablet black friday use sinc great deal great yr old grown nabi like take pictur trick memori extend hold pictur great tablet black friday deal great altern ipad great valu well made tablet everyth need low price purchas tablet happi great product simpl easi understand great valu great price good qualiti screen imag nice format instal gb microsd card problem impress qualiti devic fit gener tablet cover big gener tablet previous purchas wish gotten black friday sale came charger cabl great around tablet littl bit everyth along best eread around great qualiti decent price love featur fact mirror tablet tv firestick tablet well worth money descent perform good screen resolut definit great tablet beginn one dont want spend tablet realli great product pretti good need work well need purchas great price black friday fire tablet everyth nexu tablet also ad benefit expand storag great budget tablet need good size microsd card tablet everyth said would work great great tablet price fast snappi great tablet kid use play game read book isnt slow love new kindl fire hd great tablet age easi navig highli recommend tablet everyon pick black friday price great starter tablet kid wife love read tablet also great surf web nice great price love bose product highli recommend tablet great jacket much doesnt stand hate great good altern got kid great cheap tablet camera arent good usabl app load quick great tablet son live endless librari download book perfect stream eread great price pretti reliabl tablet especi price best tablet buy price add memori card great product inexpens great gift children nephew year old great starter tablet gonna excit christma morn nice tablet price wish bluetooth cant beat price fire tablet hd good display bought mine black friday awesom first tablet great amazon featur got great deal black friday best afford tablet abl get advertis amazon instal playstor wife bought cheaper cover tablet love amazon environ want buy anoth one come price great altern ipad mini great amazon prime member work well user friendli would buy great price well great tablet money thought beat screen resolut great tablet hd qualiti work good tablet excel pick black friday sale big small tablet bundl amazon prime servic great combo inexpens entertain work well light tablet use great read bought daughter cant put great nextflix work great first tablet grandson love thought would great gift kid price right excel tablet price wonderful great perform tablet work fine speaker great want good cheap tablet work price guy cannot beat great watch video stream televis inexpens tablet funtion great read blue screen make great read great graphic price compar brand great tablet great price size would highli recommend realli pleas tablet color great great tablet absolut would recommend friend would buy tablet work good good price point would buy work great need check email like batteri endur new screen great great tablet kid adult alik tablet work great far parent featur nice also bought daughter love great product great price great tablet price one purchas year ago use much laptop recent purchas two gift purchas tablet reason price end good tablet great product devic perform describ great review tablet great bought sister christma love great surf web watch video great option first tablet lightweight user friendli awesom tablet price featur got everyth need person use great valu cheap price tablet sturdi great kid game learn got gift mom read ton love read great portabl great tablet price great resolut camera qualiti good tho gave one less star camera overal great tablet great tablet price easi set app data transfer origin fire look tablet expand memori reliabl amazon tablet best choic tablet absolut surpris screen awesom batteri life great great product price got great bought year old great buy price afford compar tablet market e screen perfect anoth great buy best tablet hand bigger screen great new featur alexi also lot storag well grandson love tablet alot great game learn activ would recommend anytim great product need tablet begin explor googl kindl fire great choic look great tablet without high price tablet love inch hd tablet great color screen cheapli built like use tablet eread listen prime music time great thisstil lean featur great product price work great come ampl storag tablet great everythimg great entri level tablet look purchas tablet kid could work homework need term capabl size great tablet price best budget tablet hasnt everyth need someon use tablet tablet replac older model updat wonder handl media tablet resolut great like chang camera back kindl instead front screen see im aim easi use cant beat price great starter tablet without big cost everyth need overal great product sometim freez game app work great alexa great addit good tablet lot tablet money great kid upgrad st gener fire tablet decid go gb tablet none store order free deliveri store arriv day promis easi sync new tablet older tablet nice pictur video great valu great tablet lot money expens tablet less amazon fire hd great brows read gp system great though bought tablet caus super cheap decemb good tablet someon doesnt need powerhous bought tablet black friday dollar well worth price definit upgrad first gen tablet amazon great tablet price excel great great product usual great custom servic great altern expens tablet batteri last quit great read book everyth ipad tablet excel tablet brows internet read ebook price cant beat got year old son great read book play game cant beat price th amazon product great budget tablet bought daughter christma seem work great tablet good gift christma bought black friday cheap price tablet much better older tablet faster camera great improv older version great product surf internet read book great littl tablet especi price serv everi function need tablet price right great buy allfair price great game awesom tablet fast great pictur tablet work great nice big size good batteri power problem use great tablet price pointespeci big amazon userexpand memori great featur love tablet super bright color great gamer cant bet tablet price bought e reader love price great product nice great tablet plu cant beat price bought fire tablet christma sale season great price replac age ipad realli impress speed download qualiti video ad inexpens sd card download video show great travel purchas granddaught great invest great tablet price display clear enjoy book tablet work product price advertis great great speed function small price need tablet work expect would recommend tablet anyon need new tablet great batteri life money tablet great display allow pretti much lot expens devic capabl great tablet son realli like read also play game incred valu tablet great tablet price great valu well great tablet great product great tablet mom basic cheap tablet great tablet great tablet geart tablet perfect tablet great hd screen afford tablet great valu great tablet great screen read nice tablet great price fine tablet great devic great tablet kid']\n",
            "\n",
            "Product: 2\n",
            "Summary: great beginn experienc person bought gift love love order book read reader got present love size screen love love love kindl fire yr old granddaught said bought christmasw purchas kindl past one bestlov fact use memori card itthat help much use booksgamesmus viedosthank love everyth tablet imag sharp clear fast light weight love got wife love extra capabl app purchas tablet niec christma love got wife love bigger screen better app manag featur one earlier gener kindl\n",
            "Complaints: []\n",
            "\n",
            "Product: 3\n",
            "Summary: easi elderli user ceas ad pop want father first tablet good valu watch movi play game easi enough use fast easi use second kindl fire sleek packag easi set great anyon want e reader offer easi use beginn found pad good enjoy kindl app believ use husband recoveri foot surgeri easi setup connect wifi great view area easi read bright place eas\n",
            "Complaints: []\n",
            "\n",
            "Product: 4\n",
            "Summary: amazon fire inch tablet perfect size purchas husband bigger screen phone gotten one year ago knew would good purchas simpli everyth need thank youand silk work wonder nice reader almost perfect wantne good bargain realli like tablet would given star sometim push start sever time unlock screen littl annoy great video qualiti lot fun app fun whole famili grandchildren home school util tabl mani learn app love use make feel grown tablet great lean tool receiv mani benefit surpris learn cap\n",
            "Complaints: ['product far disappoint children love use like abil monitor control content see eas ive fire hd two week love tablet great valuew prime member tablet shine love abl easili access prime content well movi download watch laterthi screen realli nice look nice crisp bright infact brighter ipad pro cost base model build fire insan awesom run mm thick smooth glossi feel back realli amaz hold like futurist tab ur hand amazon fire inch tablet perfect size purchas husband bigger screen phone gotten one year ago knew would good purchas simpli everyth need thank youand silk work wonder nice reader almost perfect wantne good bargain realli like tablet would given star sometim push start sever time unlock screen littl annoy great video qualiti lot fun app fun whole famili grandchildren home school util tabl mani learn app love use make feel grown tablet great lean tool receiv mani benefit surpris learn capabl devic husband access desktop thing couldnt devic got son user friendli durabl look afford gift still learn thing new kindl fire much better lighter weight easier use old tablet right size read book play game overal nice product travel purpos valu money bought tablet famili disappoint exactli person want gift enjoy use basic function tablet hardcor user may want ipad flexibl kindl bigger screen like surf web download read book fire tablet long batteri life reason fast kindl need camera could better overal pretti happi purchas purchas daughter read much option want realli hope would faster inexspens tablet ive mainli use email though job bought christma gift someon bought ipad well updat use someth use look someth take along trip decent tablet access kindl pretti much googl app happi tablet worst thing steal time lol got fire friend want buy kindlethi serv kindl tab nice cheapworth paid highli recommend beginn look tablet highli portabl could run directtv app stream video electron much older version salesman recommend model base person experi still learn function far seem easi use promis wife bought birthday enjoy read biographi usual color photo regular kindl make pic black white theyr arent allow see color photo also love night featur im bed read longer need light read need hold larg book bought yr old granddaught everyth want tablet nice smaller tablet good internet surf great product kid game app parent control make sure monitor kid prevent unwant app purchas purchas tablet year old black friday special perfect app game want great product love amazon ecosystem freetim subscript must grandsonlov game book great product im satisfi recommend peopl work thought problem good buy experi love tablet work well unlik bargain tablet tri use previous cost like sound also enjoy free game download navig wev easili didnt featur look return next day may good other purchas wife read lot truli enjoy amazon fire enjoy learn use your never old learn new thing birthday present ideal travel read ebook rood teenag daughter enjoy three year old kindl recreat want larger screen word process pair bluetooth keyboard thrill bought two tablet niec christma origin bought amazon fire inch viru day purchas unabl work good thing play prior give gift said surpris well tablet held care year old play daili problem screen big enough littl hand maneuv see highlight christma still would definit recommend realli like updat product comparison first one tablet purchas grandmoth could play game read book fourth kindleupgrad time mine goe everywher use throughout day wouldnt without bought son went colleg abl upload book document amazon fire amaz pictur clariti sound excel highli recommend tablet love like great bought friend pleas abount want low cost qualiti tablet one dream easi navig excel graphic bought tablet year old daughter mani advertis would rather pay singl ad good tablet kid start awesom good size larg enough game photo purchas store credit like lot compar well expens tabletsrecommend great gift age wish bought two everyth ipad got yr old twin yr old one one better perfect way get read superb tablet price doesnt come android oper system amazon oper system batteri last good long time app run fast would recommend anyon want tablet happi new kindl highli recommend product product handi go check email find work truck bought black friday valu money tablet lag heavi task also app reload app open time price expect go budget overal good tablet best prime amazon abil watch amazon video good price good tablet limit base oper system video watch basic use good choic bought gift yr old mom stalk kid grandkid fb master fewminut minim instruct watch post santa drop th grader along expand memori use netflix youtub well minecraft app spend hundr someth basic kid need im sure last year well worth price good devic entertain entri level task think lot price also great listen music also movi screen pictur crisp bright use tablet mani thing small power great adult toy reader hope use googl launcher tablet realli lock cannot chang launcher lock screen still cheap fine watch movi screen clear batteri last long time good substitut afford ipad great valu money save instead ipad appl far good kindl fire hd still need play see maxim use bought three daughter got kid proof case ad free time low monthli fee couldnt happier much better worri break phone ipad bought one replac smaller non hd version lot faster pictur notic better would recommend anyon want spend extra big name lot thing kindl use reli comput excel resourc children video stream wifi use mobil hotspot kid best choic marketamazon best realli didnt expect go workbut goodgift friend request yr old granddaugt alway ask older sister could share due bought tablets yr earlier love securityparent control optionsstarfal favorit educ app told must realli enjoy picsvib due differ state also game time limit size resolut perfect tick box look price happi pay one caveat best buy geek squad crew unawar glitch keyboard prevent work properli kindleamazon awar glitch download thirdparti keyboard fix replac keyboard that built unit abl fix problem made geek squad awar know amazon mayday function avail unexpect servic function expect perfect tablet take anywher go lighter ipad bought gift parent arent tech savi abl use eas fire great size realli nice big clariti realli good excel tablet kid download game watch cartoon look good tablet deliveredget use amazon app lol fire excel tabl mani basic task good product short batteri life use minut enjoy use reader like idea go internet kindl good want someth inexpens minimum well found versatil enjoy benefit touch screen bought display echo turn voicecast rout inform tablet voic reapons exactli hope would price right realli beauti display great watch movi play game power price play lot game amazon free even remov microtransact lot gamesonli downsid need amazon prime get tablet pad work thought screen wasnt vibrant ipad still great deal price perfect thing need read book play game tablet perfect surf internet follow social media price amongst other felt deal perfect size respons good price product purchas middl school son think great product parent christma gift tablet good one everyday use small clear imag sure realli want one small ok like portabl take babysit granddaught previou version tablet look upgrad got sale pleas salesman good point us right direct tablet perfect triplet grandson love tablet excel qualiti speaker screen lot storag space worth money work realli well dont issu tablet good beginn like read want tablet use daili basi facebook onlin purchas couldnt ask better tablet simpl kindl doesnt glass back throughli enjoy fire tablet play game read book pleas much harder work android none wallpap app download kindl store work devic mani app look cheap display wise prettier respons cheaper tablet make look like android tablet googl play everyth harder work regular android tablet exce expect respons model fire amazon prime year new fire hd make worth watch movi fli download batteri last day use everyday improv hd thing set differ hard learn also bit heavier read bed littl harder fastest boot tablet come across speed access site realli amaz good product super qualiti best buy store rep explain product third kindl fire improv time color crisper best stay charg lot longer excel good ipad fraction price devic price right give gift year old hard time tablet year old load app sinc around year age far tablet surviv everyth except constant drain batteri use cant beat valu star even though less app play store disappoint inabl download app use phone kindl great read also like play game good perform highli recommend amazon user new fire hd improv fire hd faster larger screen make read book much easier wish screen easier read outsid car much glare place love im comput savi abl figur thing without help mother need someth sinc tablet die lot easier learn old tabl lot kindl tablet issu purchas found great cover line amazon use everi night thank servic went inch kindl realli made differ easier read clearer old one nice upgrad old kindl like much cheap tablet option come amazon latest model satisfi need like hard time figur thing outdo get talk geek squad free come store get someon help questionswil fee servic happi kindl would buy kid good tablet bad wifi connect first tablet pleas amazon name good valu excel price point basic requir featur need comfort read onlin novel articl good product price mani thing done fire dream perform much faster old one graphic much better expect happi serv purpos handi use size good light weight that import kindl great batteri last much longer old kindl bought fire hd casei use mostli classwork goodwould better bluetooth sever kindl latest version pack amazon market stuff fine use take space us new version come gb allow expand memori sd card great one problem kindl link account differ famili memberskid may end stuff kid mainli use game app youtub video seem work great sound good hd video nice overal happi price good type tablet went best buy anoth reader end buy fire good valu thing need reader got tablet grandson he happi use speak bought earlier line anoth vendor never deliv best buy great kindl fire hd larger screen vs imag crisper vibrant color lock card let kid go crazi awesom tablet perfectli watch tv littl nephew kid enjoy read book play game fire tablet ive enjoy use fire hd tablet play game use download read book perfect size purpos also light bought wife techi word like suggest buy protect screen pad case wife want ipad bought cheaper good read play game use io product compat hardli ever use next time ill get want wast money much better screen resolut inch fire year old boy year old girl year old boy crack broken yet ye drop case crack yet pretti amaz drop hard wood floor still broke new sound faster speed plu improv great perfect see tv seri dont tv around good resolut qualiti freez frequent way troubl shoot repair got tablet far love way work enlarg print chang light make easier read thing must amazon account use kindl rock ton storag awesom price love fireit work great navig fire user friendli think better buy money tablet good especi consid price also memori slot increas storag bought friend like itwould recommend good valu afford price cant beat work great preti fast oper system dosent heat perfect need go mini comput eread awesomeand repeat time blah price bargain perfect solut reader simpl brows use night bed first tablet experi awesom love abl stream movi numer app fingertip love tablet power last long short charg time hd screen realli clear con app avail like googl play satifi gb card mine plenti space download camera flash best didnt buy tablet high recommend hd tablet gb amazon fire want go wrong tablet thing realli need thought buy use featur expens computertablet happi purchas got wife birthday older model want upgrad seem happi use everi day user friendlylong last batteryveri clear display like screen size easi read book night batteri long life outer rcase could stronger concern durabl love like one better sinc alreadi kindl knew want need second one littl bigger alway love servic help get bb knew would purchas found salesman knowledg help thank much help servic new kindl replac old kindl lot book surpris book transfer work well seem work surf net music sound okay meet need plu recommend buy good stylu pen time extrem happi purchas like screen littl bigger much faster tablet best one price purchas tab kid broke ran super slow love would definit recommend anyon want save buck want qualiti would recommend product good tablet use problem recent upgrad tablet everyth want highli recommend good buy tri day fast experi good birthday gift husband realli like need realli enjoy new tablet like travel famili use play game watch movi right size purchas inch devic also purchas black coveri play ask could get set told would dollar dollar left store kindl someon els set free disappoint get someon els set kindl previou kindl die want new replac fast went amazon one back order month expect pay went best buy found price even better avail local store could pick day got son play game soi could get ipad back person think great littl tablet kid read high power game play tablet anyth keep lot storag work intend andi problem present year old grandson pleas kindl fit quick start show get thing done averag tablet bit slow good option peopl budget nice read watch video strong wi fi must slipperi hold buy cover tablet stop work own two week came back hour done like time dont send ahsn get aggrav never thought tablet price could good total recommend sixth unit featur mani newer model didnt thank perfect size older person use minim love app everyth els think perfect tablet beginn app need thing last even month went dead go tri take back surpris open bright color nice look great memori camera much money everyth good bought niec christma mostli use eread check email im happi purchas say complaint mm jack right next volum button get way think best product ive bought alreadi eight ive purchas year famili seem get better less expens price complet satisfi product qualiti graphic great download breez would definit recommend product dad first time user anyth techi realli enjoy enjoy read find better devic excel price product qualiti kid enjoy tablet one inexpens ipad avail app limit im alway use amazon tabletperfect game great price fantast gift would recommend gift age bought christma present wife read time bought son birthday gift way wear laptop work great especi video gener onlin use use time much better bring laptop nice readi amazon app built great buy far good replac broken kindl fire bought husband realli enjoy great son monitor school work app download realli enjoy kindl fit perfect purs screen good size bought christma husbandand month still happi purchas nice screen easi see view buy anoth one soon purchas wife mother like play game read need new kindl wasnt sure one choos one great product ok best get sale item fine batteri life seem littl short bottom lineso overal think kindl fire hd great product complaint far extrem happi purchas kindl fast screen clear sudden stope charg use time short time purchas get replac best help purchas bc old kindl fire final bit screen went dark happi one cost great screen resolut great user friendli favorit featur sd card add gb bought daughter work great store personnel excel job reliabl brand good product price son live unit favorit game go get samsung tablet everyth better amazon tablet great googl bloatwar everyth amazon one thing didnt like ad lock screen way turn didnt expect anyth less got kindl bought daughter replac worn ipad happier size resolut nice great buy price tablet could much better app actual work decent built amazon piec prime member great work flawlessli enough overcom terribl app behavior countless freez need take lesson two appl size tabl great im abl carri purs problem realli nice custom first servic kindl reader familiar unit nice littl tablet money ad deal use read book read lot book right size light situat got sale realli made worth get kindl well worth price seem charg way th kindll nicer old fire better screen area view perfect size read watch movi carri plane upgrad inch differ total satisfi would recommend everyon know bought kindl fire husband use neither one us abl figur use everi time open advertis pop tri button remov cannot get rotat puzzl complic use navig around return ipad much easier inexpens tablet satisfi read view pleasur fast good qualiti product recommend bought tablet kid actual good like price right enjoy bought gift daughter diabet lose vision hope larg text easier see keep read order coupl famili member say work great everyth suppos highli recommend nexu painstakingli slow want someth lag everytim tri use browser freez whilst play game get job done well batteri life also good highli recommend casual brows game better expect price work good would fulli recommend satisfi product perform extrem well area oper bought one daughter help learn mani possibl way cheaper ipad basic thing pleas purchas fire hd video qualiti great view espnnetflixyoutub tutorialsth abil easili load read save textbook within amazon kindl app fantast fraction price ipad first fire hd purchas die within week purchas go back exchang new one good sign far bought friend sinc like mine muchit great way check email read kindl ebooksi keep sd card mine store book drop purs read go make sure buy micro sd card least gb memori constantli delet old item like speed inch screen great work well come new technolog help everyon enjoy life greatli devic realli good piec electron good reader also good year old granddaught use satisfi sale price way faster expect new kindl upgrad year old kindl fire expect video qualiti better along faster perform featur still use old kindl still tick shini new toy fun purchas product whim limit purpos studi exam middl seat long flight expect hand year old exam surpris realli enjoy devic particular like amazon account integr next flight delight find unit actual download video offlin view best part upgrad memori gb sd card avail content awesom truth first unit inexplic fail best buy replac unit right away expect great thing new devic son also use long trip abl download music movi free need comput savvi wound much help came simpl basic instruct great mom isnt tech savvi luv smooth tablet lag also good batteri purchas amazon fire hd replac nd gener kindl fire work great color sharp pro hd qualiti low price work realli well amazon account access multipl amazon featur extrem eas couldnt happier ipad extrem versatil came big price tablet love excel product would definit purchas replac hd fire broke screed pleas larg screen got husband birthday like light weight speaker power one best purchas invest could make technolog bought kindl book amaz overal featur kindl featur tab huge fan product arent appl one good havent problem bought sister gift need use laptop basic internet surf watch movi travel devic speed decent although cannot compar perform laptop want avoid carri bulki laptop travel want budget make devic laptop choos amazon fire tablet pay best get best thank best buy provid product perfect tablet husband want size big small carri without clumsi drop first work fine three week stop took back got replac one last almost month took back told deal amazonfound thru amazon webpag unit simpli froze reset upset store associ knew noth product research everyth decid buy instead tradit kindl regret decis allth con evalu tablet amazon app store mani app googleplayappstor simpli avail got tablet caus want start read graphic novel manga impress run smooth even use hulu netflix flaw ad lock screen though take grade littl tablet competit price unit work well like color size realli like build qualiti lacklust perform minuscul batteri life didnt make keeper wonder littl buy tire bulki tablet one stay charg lot longer like download movi watch offlin netflix alway want tablet final decid amazon fire awesom love iti download game enjoy great internet definit worth price get lot money lot option ok price littl slow doesnt mani app googl play good ipod would recommend would recommend friend shop amazon mani preload game mani app didnt depth research particular tablet price speed good want con abl clear home screen app reloc see person home screen pictur get sale incred valu tablet perfect anyon want screen without pay premium price build qualiti fine screen isnt best definit usabl power tablet flawless util amazon program good product best price avail market place quirk come kindl better qualiti sound display excel productrelablemaximum speedfast download love tablet big enough see work prime watch movi stream music amazon fire tablet quit good provid suffici content abil basic one requir tablet inch screen bright provid variou set tablet light weight make portabl fire hd perfect size eread big enough see text small enough hold comfort bought amazon fire hd christma present wife second tablet given past year love goe wherev goe fire portabl easi use say goe happi wife mean happi life wouldnt hesit recommend fire anyon good qualiti android tablet also make nice gift purchas year old great price point like parent control featur multipl profil allow control access plu gift famili member realli enjoy option get book best b help learn read follow direct best buy product provid great custom servic grandson enjoy product use great read product love light adjust low light area adjust font size read comfort thing like download app watch movi bought amazon fire hd wife christma present old amazon fire year happi amazon fire hd cant beat price tablet gb minicomput camera perfect trip enjoy read via devic lot option also plu littl heavi hold reclin bought two day went sale christma best buy excel price match asesom perform design got sale dollar tablet afford pretti decent couldnt recommend kid price featur awesom along parent control function great although wish came color didnt actual use bought gift grandson alreadi one return pair goggl decent tablet skeptic first perform surpris batteri last decent amount time connect beauti amazon ecosystem alreadi would recommend anyon like watch videosbrows web go children best buy help tablet good read book basic serf word relationship interrupt electron devic well girl take reader everywher go use tell talk much hardli get word edgewis smaller lighter previou fire work even better everyth expect none drawback found tablet work well probabl best android tablet get money downsid cant googl playstor tablet still instal manual sinc base android os bought mom move assist live place abl use littl show mom happi seem fast easi usei like better phone didnt get chanc see camera yet gift mom first tablet issu far good product bought christma gift purchas anoth one soon want one play bejewel blitz one gift year old grandson great graphic sound size fire tablet give feel book hand read book size lightweight easi transport fit easili purs im enjoy fire tablet gift got kid gift could read book easier help ton would recommend eread other high qualiti divers eread web browser got father amazon fire he never use tablet let alon comput challeng pretti good hard time see screen travel lot perfect watch movi read flight everi version kindl sinc week introduc jump chanc kindl fire replac first one everyth want except past summer start overh got nonrespons midday heat soi got one first miss swype get rid secondli cannot put two favorit app work old one work lastli importantli everi awhil screen freez bunch code shimmer background turn andor leav awhil bring back life turn seem happen close program move new one aggrav expect product happi past granddaught love fire al game also download music app happi mani thing learn tablet weve three kindl well built cant get qualiti tablet manufactur amazon great support tablet small enough pack screen perfect size watch movi plane travel highli recommend kindl wouldnt anyth els love read best devic yet read wifi capabl would highli recommend item bought gift senior setup process could easier good product money basic job great inform servic guy help us friendli better older model bigger better realli enjoy amazon get easyer use find new app everi day nice tablet speedi thing dont like cant add googleplay app guess that expect use kindl daili basi good size read bed extrem pleas fast effici reliabl bought someon tech savvi he done great bought tablet sale look thing interest great valu best buy bought christma sale bought yr old son perfect mixtur game kid friendli readalong book make perfect kid cours there much adult well great buy bought niec realli enjoy abl watch netflix play game could surf internet need went bigger gb sinc wasnt much tablet simpl set worth price perfect beginn price get alot valuegreat watch movi amazon shop youtub product met need would recommend other would recommend right person want low cost tablet butend return item heavi wide hand hold big hold hand small use like larger tablet end use lenovo yoga sinc flexibl lb heavier bought use recent travel abl download sever movi tv show netflix seem decent storag video playback fine purchas amazon fire gb model far perform expect drawback screen somewhat reflect light sourc need constant clean smudg normal use perfect gift offic cowork close friend surpris buy light compact still strong enough need problem white page process buy ad new kindl found better unit use tine whitepag good valu money gave wife christma upgrad origin kindl thoroughli enjoy fire good tablet portabl size bought coupl gift well problem fire work well need case size conveni help friendli didnt much select look found need look cheap tablet son use saw unit sale black friday good unit basic internet plu ton amazon app standard one want use amazon excel tool pull trigger fire tablet know would instal googl play store separ work could bang buck android tablet best tablet money buy happi perform respons extern speaker much better expens samsung tab e tablet purchas devic son take full benefit prime account decent devic reason featur low cost bought year old son navig app site easili built wifi help car ride parent control block buy everi download find attract still tri figur get alexa audio respond gift granddaught seem happi far gave gift christma still cant get set go geek squad help own kindl fire hdx gamecircl year final decid goodread upgrad fire hd great realli prime larger screen new featur amazon tablet link amazon prime account watch movi listen music grandson use borrow one school nice size good processor speed happi cannot geti googl music think amazon tablet need dohandi travelingeasi oper tablet wonder young kid there way switch kid friendli christma present hasnt lot use yet far tablet work well straightforward set perfect size work great advertis long batteri life look tablet read book perfect turn fire much better expect well worth paid bring back exchang differ make beauti pictur enjoy differ app look forward hour fun brought tablet black friday sale fast forward christma year open happi set two day later crash never came back blank screen disappoint gift wife want lighter kindl happi new version truli enjoy fire last kindl fire year old work great want front rear camera camera take good pictur also like featur alexia purchas mom show app took without direct much easier travel lap top took coupl pictur camera went view cant seem find pictur bought tablet transfer app didnt transfer ill come explainedoth pleas bought gf sinc phone play game etc ive use time like got yr old main concern parent control parent control awesom featur easi set amazon plenti free app kid didnt need purchas extra thank im happi purchas purchas realli like price also bought protect case antiviru program devic good item realli recommend everyon amazon fire tab work realli wellth sync aspect nice abl pair devicesi wish googl play would definit recommend other sinc good valu money product nice easytous tablet got far good bought son read book search stuff line watch youtub said didnt hurt eye like ipad tablet far one best purchas weve made son kid featur extra nice kindl fire hd sweet tablet read app like netflix hulu everyth kid need without pay ridicul price realli crisp pictur fast good amout storag product quit durabl user friendli mani aspect year old enjoy play great select app game expect kind qualiti price paid surpris nice product first cant get much like one batteri life great screen nice clear bright would buy anyth ever happen work well lack forward control screen right left movement keyboard good foor short note could never substanti type without extern keyboard good basic websurf email version much better older version better graphic faster processor havent use product like man tell u better appl product receiv gift one best ive ever receiv gave husband tablet christma pleas product like much better last tablet purchas year ago highli recommend product year old got christma abl use well second kindl light faster previou kindl came free audio book day cool better screen seem long wider im ok got sale great deal use watch youtub phone wife decid need someth bigger seem like much buy micro sd card previous nook die tri fire hook great price lot thing bought orang fire hd black friday great price husband like lot purchas replac previou fire tablet charg issu ive heard sever other similar issu hope model last longer improv charg port bought two famili connect easili work surprisingli fast small price use fire hd download book librari easier read smartphon bought replac children age ipad theyr happi kindl fire hd impress product faster samsung tablet know enjoy use wish amazon prime music download app enjoy pad option great starter pad kid kindl fire st one mush betterwith new stuff insid ilovemi kindl howev crash coupl time sure also case made kindl clamp use hold right button turn volum better case pleas let know work well cheaper ipad work great app video easi set print easili adjust extra larg year old dad realli happi first experi technolog surf net read news onlin highli recommend horriblejust like own due warranti upgrad mother rd gener amazon kindl fire hd new one like display bigger much faster cannot get better tablet price best buy sale version realli good upgrad older fire tablet happi awesom play pokemon clash use silk awesom great present one best tablet market valu want realli like way perform let connect librari diapoint purchas wife option phone laptop brows internet handi great dont want use comput take anywher bought wife fire recharg often paper white like great gift idea nice addit kindl famili far want happi price everyth need screen nice enough price right perfect wife colleg daughter easyto learn reader pictur great quick respons go site site sound good expect tablet purchas gift im tablet far exce expect thought twice get peopl say limit app limit happi abl get googl youtub netflix main app actual care price cannot better love much end get kid one good read long hour sinc batteri last hour recommend rel frienda key own tablet amazon prime account best deal seen onlin check amazon good great batteri life pictur qualiti camera greatest often dont use camera usual phone use instead hold lot book amazon fire hd great tablet bargain price purchas christma time even better valu amazon prime account downsid use amazon appstor instead googl play store varieti greatest small tablet want someth conveni alway good price good meant excel keep coffe tabl take along trip cant beat price definit worth investmenti may get coupl daughter smaller eight gb tablet nice step better graphic extend memori sd card photo bought son enjoy play he abl download app want camera awesom use hd person entertain system peopl go bigger sofist ipad samsung good product child pass time someon want bell whistl perfect cheap devic kid grandkid nice sit around doesnt disappoint nice featur own two prior one nice tablet first tablet im excit learn use use ton yet happi experi far start origin kindl want one backlight price good pass great stuff good tool help kid go find knowledg help want knowledg still encourag first time user pleas great book download big small bought fire hd replac older model kid love eas use integr amazon prime make product worth everi moment mostli use watch movi play game work well need great price need option far product goe may want stick ipad galaxi tab great tableteread lot bad boy nice tablet media consumpt price amazon user sure purchas kindl black friday work well reader tablet good batteri life silk decent option browser also side load nook apponto kindl work well nookeread function expens ipad work great fraction cost user friendli straight forward instruct great age realli afford present kid around pick doorbust fatherinlaw amazon account watch movi like kid like much price low tablet light weight got thing around black friday paid someth buck awesom equip actual stream web glad bought cant believ inexpens good kid learn play game research school work got kindl broke fire took get use sinc screen bigger overal great purchas pretti happi far like fact add memori perfect price tablet recommend kid dont take care electron purchas ipad kid broke break tablet purchas anoth low cost best buy tablet fast work well pleas amount app amazon offer great tabl pay cheap price gift son son happi glad made choic kid love gadget thing learn play great thing custom content children amazon tablet line possibl one best function android window eas use equal ipad tmti second tablet purchas kid perfect thing kid work great easi convers age guy without much technolog experi happi product nice fanci hd cool abl see read book full format thank pretti impress littl devic easi setup work rather well also bought ipad air gb bf play around hd fire return air met need much lower price ad gb sd card download movi netflix hd display clear batteri life could littl better overal im satisfi free stuff get amazon prime account ice cake dig much better origin kindl fire replac look replac tablet exactli need realli nice great clariti like outstand replac tablet outdat overpr ipad use everyday work time want someth game read thought great deal enjoy much pass lot time easi download great beginn intermedi highli satisfi amazon fire hd super fast tablet money combin amazon prime account true valu releas purchas tablet nearli everi famili member link one amazon account becom unbeliev valu perfect gift holiday saw review immedi get bought black friday use month faster fire like due gb vs gb ram screen resolut fine though best price complain amazon add nice featur well advertis discreet fire turn problem even full price good deal need away comput go work like read amd play game itbett bulki comput need inexpens portabl alexa devic work perfectli allow read kindl lib even play game like download book fast still learn featur explor posit featur everyth tablet like share across platform read onlin review compar product price amazon like idea kindl tablet one replac nook fire tablet disappoint cannot use chromecast realiz would tie amazon good tablet far item budget friendli gift reader internet browser gift great sinc knew good present deserv person good speed compar model size weigh littl larg view area tablet hd best gift begin less price enough speed memori kid like lot work great pricebut shove amazon stuff hroat like fire tvand link amazon click buy haveit set way ook user convert kindl size great respons got one one gift replac old kindl took power failur hit new kindl updat easier download ebook learn new updat appear user friendli old one custom servic kindl avail help get review book purchas return book librari excel valu small laptop lenovo screen flash memori microsoft word year pleas aspect fire hd good perform low price exactli look old tablet stop work valu amazon fire best buy much pass bought kindl fire grandson one thought great much price cant beat use comput alreadi one bought anoth sister law christma realli enjoy far perfect mean certainli worth price work better expect abl surf net watch movi batteri life screen awesom bought buck look buy give gift amazon fire hd great much faster fire tablet troubl beg kept restart reboot return got black friday also inch fire tablet buck tablet way better inch non hd fire truli enjoy product older one superb area entertain bought one last year one cousin continu anoth year great buy imo small enough carri purs open whole new world wait appoint look pretti solid updat review soon gift open one children bought one mother amaz tablet especi price purchas mainli use travel havent realli opportun give fair road test point advertis capabl download movi book watchread travel without burn data hit data roam fee purchas wifi flight got black friday earli christma gift good buy pretti good tablet gift mom problem learn use best tablet price three children one worth purchas gift nephew he happi item complaint nd kindl happi price right could resist buy anoth kid work okay thing like youtub netflix app take longer load mani game get ipad arent avail fire tablet still say go mac bought colleg student substitut text book work great christma gift granddaught purchas one heard lot good thing price great black friday got everyth gotten primarili watch movi run basic internet program pleas date speed processor pictur qualiti kindl fire hd meet read web need great devic son game sinc alway use iphon lot good featur amazon member tablet nice fast told sale person could come back week receipt get black friday price custom servic ladi said dont misl item okay purchas tablet thanksgiv day alreadi store buy new cell phone sale pleas purchas alreadi amazon prime member link account happi purchas recommend brother bought day great gift year old nephew enjoy hour need tabl memori start fit bill kindl mine camera like one make easier captur pictur instead stop use phone item perfect onlin read internet brows con amazon doesnt app googl play like tablet thing im fan amazon app store wish googl play part like tablet got mother con use amazon app amazon fire hd great choic beginn tech savi person like low light mode extra memori great price compar other nice tablet usual item instruct get start good product recommend buy best bang buck small nano need space song come far love didnt realli need bigger one phone thing definit amaz deal amaz price black friday weekend amaz product amazon within budget get best outcom far best deal money happi bought daughter inexpens user friendli use time she school bought fire inch last year one better good product would recommend everyon thank bought black friday buck wasnt expect much price point isnt good ipad price pretti close worth everi penni bought christma gift heard good thing recommend buy awesom low price high qualiti daughter like much bought year old great parent control allow keep track monitor use would recommend other get children product sale black friday serv purpos qualiti good use chromecast buy new kindl fire hd batteri quit hold charg told noth could good product price rang afford good realli want give devic chanc end return huge upgrad though cheaper version honestli dont think anyon purchas budget handl get version heavili invest amazon ecosystem ie prime member make great tablet think intend kid though adult ipad hous tri toddler cheaper tablet interfac quirk amazon os worth hassl end seek use ipad mini instead purchas nephew christma know enjoy read review varieti thing year old two previou kindl sinc first avail realli like new upgrad screen crisp clean color great much easier look book unsur get tablet purchas amazon fire convinc made right choic happi ever sinc concern lot learn came quickli realli like screen size great buy price point good use ipad display doesnt look sharp amazon app store lack content overal good yr old love fire need howev four star cant get rid ad lock screen unless pay lot glare dont mind glare much speed great lot storag littl space outer edg would great use game real problem time kick game popular game ew otherwis great need secur overal good purchas less brought son exactli want upgrad year old kindl old doesnt seem great differ graphic interfac still suck decent read kindl fire user year new one amaz like abl store inform sd card wifi would drop often could listen spotifi servic without buffer suit exact need mobil way watch netflix one best purchas ever simpl use suggest sale associ im glad took suggest got wife use daili read realli loke job travel would recommend friend fifth kindl new one new featur use like tablet lot read normal disspoin tv automat chromecast cannot cast toshiba tv work other tv like bought mom scare even use laptop thought look user friendli sinc know year old nephew use ipad perfect gift perfect price wife bring technilog modern world live enjoy kindl read watch movi play game like would buy againstil learn featur good valu instal driver googl play store also pay amazon get rid lock screen ad worth use thing alot sound screen qualiti great like blue light cutoff featurei found toggl back forth onlin clumsi compar tabletit lightweight easier handl long period time good cheap tablet great netflix youtub screen decent size bigger phone smaller laptop also hd plu think amazon fire offer includ standcov standard enjoy mine lot sinc forc purchas standcov hold tablet would prefer instruct sheet grt everyth set use total appl famili littl hesit purchas ipad stop work glad perfect cant beat price happi recommend good thank best buy number one year old use school scan qr code onlin math batteri last long time actual like old fire good number basic task amazon underground featur realli cool feel like android limit great media consumpt screen seem sharp enough unless get unbear close wifi connect good speaker sound poor didnt expect better tablet tablet sinc novemb still go strong complaint slow charg isnt bad purchas yr old granddaught primarili use netflix work great great item teen live item offer read cannot beat valu featur product offer low price point amazonfir inexpens wifi devic use answer messag quickli shift person person well move room room ive multipl amazon fire tablet great bargain love eas use function downfal realli slow charg gecksqd help understand differ thing great tablet lag free run app good batteri life downsid lack abil screen mirror avail older version longer first tablet purchas husband prior long train trip download movi internet great travel work flawlessli good contend brother ipad much cheaper price win origin kindl fire realli enjoy new updat version larger screen easi navig purchas gift research word mouth led us purchas one user friendli gift individu thoroughli enjoy abl sign set make devic super user friendli year old curiou adult materi tablet control much content see even control much learn watch video game satisfi product look weekli good deal look forward deal smoke fire pick last year power great screen streamingcannot go wrong price bought yr old qualiti product afford price bought sale money kindl fire best tablet market wish didnt buy pad alreadi would got one pricequilti thing brainer awesom portal amazon world bought updat old one far good buy hand great updat first gen kindl worthwhil cheaper paper white abil got gift mother she satisfi got sale good pay instead pay lot money ipad good job perform basic function provid good amount entertain good watch movi play simpl game perform simpl task look good seem like well made good qualiti materi problem batteri life great price amazon sell qualiti product happi get product would also recommend friend dont use much applic work thing need alright brows internet watch video work great excel screen size cannot go wrong price unless need instal googl app amazon block although heard work around nice tablet howev could better get pay bought son first tablet impress builtin parent app good level control feel comfort son like kindl think like get use get educ featur play admittedli need explor tablet enabl custom set app first experi tablet husband like use time like old kindl work good anymor bought one black friday deal best buy price great problem time seem charg well fast took back best buy would replac would lost progress game play person tech support suggest chang plug brick said problem use plug use iphon charg fine glad easi fix one best tablet good watch youtub read well batteri life greatlast bu trip kept quiet gift son realli enjoy read well play game got mainli watch tvmovi batteri life best devic use date enjoy kindl better version well realli nice item work wonder cost bargain good pictur even take pictur awwsom even get free month amazon prime came handi around christma time seem work well screen qualiti good like size size price make best buy im pleas tablet thrill purchas afford high qualiti tri rd time new amazon fire seem nice upgrad tablet work well better ipad quicker simpler use better speed reaction prosgreat valu moneyenough power handl lot android gamesdec batteri lifeconsfeel slow use weekslowresolut screen camera almost good ipad mini love appl ipad howev great backup gave year old christma perfect gift great price point compar ipad function exactli need screen good lack googl play kinda hurt surviv issu back button multifunct button sometim dont appear need part screen kinda summon pain good tablet valu downsid there googl play store access your limit app amazon app store first android tablet use numer appl ipad thoughth thing dissatisfi isnt instagram app avail doesnt anyth amazon kindl daughter get great use tablet love read get best world get book surf web fsntastic buy got yr old daughter perfect hasnt issu game educ app use good product kid homework bought year old daughter use daili enjoy watch movi play learn game far durabl batteri life great bought husband christma happi keep hair bought one young son breath lol weve issu met expect well worth money good deal im use n ipad wasnt impress kindl found hard navig fire hd great read kindl book pretti slow surf web look great kindl would recommend surf web regret price went week purchas much easier use phone screen size capabl chose one price size screen use eread disappoint got kid xmaswa best gift great entri level tabletread hold lot expand gb amazon fire tablet get everyth would expect highend tablet less that hard beat love tablet daughter use mainli realli like good read game well web surf meet need bought father law tech savvi free may day featur best part dont get call tech support time got sale last year love iti use primarili read get email surf work flawlessli applic nice tab worth moneygot best buy thank give gift friend bought son wouldnt carri book back deploy got year old grandson realli like lot good kid learn respons use tablet bought one one daughter like amazon fire great year old play game kindl fire hd upgrad kindl fire mani featur easi navig cant beat qualiti perform tablet bought main link amazon prime use last week instead download direct tv app could use watch fb championship game work great couldnt help bama team win niec want christma enjoy everi minut use mani app look hard put everythig reach figertip simpl object tablet excel choic adult children intermedi size tablet work well design purpos price good plenti acc love oneit third kindlemi last one bit larger bit heavylov one read play gamesi check email shop line well take store photosi also listen music amazon continu offer qualiti product amazon fire hd reason price want someth small perfect size keep get better great beginn pro screen size good hd pictur clear also like camera photo better cell phone camera size pictur great would recommend fire hd eas use older kindl want space work well got last black friday look cheap decent tab couldv better mirror capabl best thing read special go want one older son want one keep good work second amazon fire purchas want one home one keep travel work negoti fit basic daili need good tablet basic use ene return go ipad met need tablet would good someon limit comput knowledgeus bought everyth advertis work great especi amazon prime member best buy good price structur kindl staff member help friend enjoy get acquaint first ever electron devic need get digit age older woman excit kindlefir gift wife truli enjoy differ light read help user friendli price best deal user friendli overal great product camera qualiti greatest intend use camera cant complain bought read tool daughter enjoy also fact download app great tool school fun bought husband replac old one use time would recommend youngest daughter pleas tablet help amazon prime member download lot thing tablet purchas gift avid reader stream media devic look bigger kindl one right compromis size portabl plan use happi purcas gift mother law ok like product much thank ok lot cheaper tablet function need nd would way rather fire day ipad love product first disappoint could download googl store app quick googl search fix issu download googl store app batteri life amaz abl watch around full movi singl charg perform great game like marvel champion modern strike onlin issu abl add sd card perfect dont worri storag download movi app speaker better samsung galaxi price point tablet singl thing complain bright screen better amount paid tablet worth sale tablet work well surf internet play music husband total enjoy own amazon fire tablet much easier eye iphon great improv old kindl fire better size hd big small fast process spead bought gift mother instead feel lock comput access web anywher hous perfect item need compact go anywher say best gift ever receiv kid got replac ipad havent miss beat bought aunt christma want book reader decid want someth could play game she happi purchas replac older kindl fire hd disappoint intend recipi thrill camera came well worth money price tablet absolut steal ive never ipad compar that ive never want spend hundr dollar tablet recent upgrad inch kindl must say huge improv say speed processor next year ram might compet ipad put memori card put play store googl use mini offic bluetooth keyboard love great size work app issu yet would buy gift yr old grandson easi maneuv around great charg life forcethem take break perfect tablet basic use upgrad kid edit amazon fire much less expens ipad durabl tween isnt alway care tech first time tablet much fun play game prefer amp unit allow buyer place amp want ever use perfect kid parent control make feel secur let child use tablet safe would recommend grandpar grandkid work great use amazon lot watch movi amazon familiar self conclus say someth expect android devic discov android like devic fault read devic hand return amazon fire bought samsung tab ei probabl would recommend tablet want devic read look inexpens tablet child got sale order screen protector child case work well set daili limit prevent use much would buy bought gift seem like price nice size great devic need someth small read book devic exactli look purchas tablet christma holiday sale got gift job christma gift parti person got happi familiar tablet bought one wife first came use read book nephew like larg size fire tablet significantli larger phone nice deal product save good customet experi grandson broke amazon fire tabl one day warranti expir disappoint bought version big smile handi littl tool read ebook bought gift wrong item want wasnt use product user friendli lightweight bought primarili photo ad card put card might littl tricki sale rep wildlif photo look brilliant tablet id recommend make geek squad appt hour plan buy tablet way learn use leav store also got one return part still plastic wrap made less henc great deal titl may pay ask return plan take free class offer like volum button side old fire better top like new that reason didnt give star rate still learn differ thing kindl fire far like bought tablet rel christma want access audiobook issu tablet need wifi connect order audio work certain app problem constant access wifi rel nice tablet otherwis devic complet meet need read access kid expens tablet die twice repair fire brand new would buy anoth one pricegood product would give star add function ipad upgrad standard kindl kindl fire lot featur price would definit recommend anyon want tablet doesnt want pay lot money great christma gift kid allow store favorit book play educ game nice also option microsd card extra storag work great read play game connect web fast respond well perfect face time famili perfect travel purchas black friday deal good buy ipad qualiti fraction price nice watch prime video normal app would purchas standard price also fun extra tablet unabl download instagram app stink nice tabket money mani nice featur durabl love kindal reader abl check book librari overdr get alert world event simpli go ond news app get latest headlin great price kindl fire hd wonder tool well devic entertain beauti kindl fire price look forward buy updat devic son enjoy complaint work great long batteri life hold charg better tablet ever rd kindl fire purchas one much faster user friendli bought grand daughter grandson kindl fire youngest yr old master alreadi great tablet good price use ipad difficult adust job fine low price good size carri around without weigh purs would buy well kid love that great bad thing say cant figur make download free game one cost money imi rd kindl devicei chose becazus haf memorystoeag tablet gift daughter she avid reader anim watcher noth excit sinc open zero complaint kindl fire hd quit upgrad old kindl camera terrif addit screen much better got unbeliev deal best part librari book fingertip easi simpl set great im travel use x faster kindl th gener ye gb ram app store made amazon best download googl play store get app mostli use use kindl fire book read watch youtub web im give rate star perfect elderli mom play game use read great product solid got gift famili got sister gift far good price right kindl way good product money hold famili one got love get kindl money time big one would tell friend purchas fire tablet christma gift husband learn use far like realli well hasnt download book yet email address soon facebook account brother sister live around countri abl keep contact littl tablet realli good read ebook watch netflix replac old origin kindl fire great upgrad thought better mother law play game facebook next time buy samsung total hour half screen went complet dark would turn batteri fineit quit work togeth great build qualitygood screen resolut moneycan instal android applic includ kodi like much bought anoth one daughter husband look around tablet daughter want someth could use easili wouldnt worri differ profil parent control avail enjoy choic tablet good tablet smooth high end tablet limit amazon dont expect much android ipad like mine continu use recommend use one buy unit work exactli describ good buy unfair rate product caus even taken box set nice realli nice go buy one grandma give real big hug would recommend other great play game read surf internetcamera work good easi upload photo need great purchas would definit recommend anyon children kindl one far best one current set everyth far good good price good item would purchas gift purchas real satisfi mani app first one alreadi returnedno power issu weeki hope second one fine awesom tablet wonder upgrad first kindl fire great buy yr old cheap end broken reason replac easili happi get toy son christma wont stop play bought line gift unit stay cannot get touch anyon get unit repair simpl use great dad want play game check weather bought new tablet user quick train session caught right perfect size speaker clariti amaz produc great pictur great tablet without steep cost ipad havent use much far pictur sound pretti good abl stream moviesshow quit nice perfect summer read movi seem like lot gadget money good pad place ipad went back bought one watch movi excel worth money excel gift perform good expens one amazon fire hd tablet gb wifi replac smaller one broke tip add child proff cover migrat execut experi amaz pick cloud good go satisfi get job done must ok differ android charger noth worthless simpl nice good qualiti graphic faster processor updat oper system plu slot extern storag great price get good perfect kindl fire hd eas use durabl plu per usual moder internet use glad made purchas perfect year old grandson got one dont need bring tablet back forth suit need well  good money great catch favorit show better watch phone afraid would break fit small purs bag space saver']\n",
            "\n",
            "Key Differences Between Top 5 Products:\n",
            "Difference between 0 and 1:\n",
            "Sentiment Difference: nan\n",
            "Cluster Difference: True\n",
            "\n",
            "Difference between 1 and 2:\n",
            "Sentiment Difference: nan\n",
            "Cluster Difference: True\n",
            "\n",
            "Difference between 2 and 3:\n",
            "Sentiment Difference: nan\n",
            "Cluster Difference: True\n",
            "\n",
            "Difference between 3 and 4:\n",
            "Sentiment Difference: nan\n",
            "Cluster Difference: True\n",
            "\n",
            "Worst Product: avg_sentiment    0\n",
            "dtype: int32\n",
            "Summary of Worst Product: httpswwwamazoncomamazonbasicsperformancealkalinebatteriescountdpblhdmuo httpswwwamazoncomamazonbasicsperformancealkalinebatteriescountdpblhdmuo httpswwwamazoncomamazonbasicsperformancealkalinebatteriescountdpblhdmuo httpswwwamazoncomamazonbasicsperformancealkalinebatteriescountdpblhdmuo https\n"
          ]
        }
      ]
    }
  ],
  "metadata": {
    "kernelspec": {
      "display_name": "Python 3",
      "name": "python3"
    },
    "language_info": {
      "codemirror_mode": {
        "name": "ipython",
        "version": 3
      },
      "file_extension": ".py",
      "mimetype": "text/x-python",
      "name": "python",
      "nbconvert_exporter": "python",
      "pygments_lexer": "ipython3",
      "version": "3.12.7"
    },
    "colab": {
      "provenance": [],
      "gpuType": "T4"
    },
    "accelerator": "GPU",
    "widgets": {
      "application/vnd.jupyter.widget-state+json": {
        "f70d2849b2b84261bb1c694fc84a030e": {
          "model_module": "@jupyter-widgets/controls",
          "model_name": "HBoxModel",
          "model_module_version": "1.5.0",
          "state": {
            "_dom_classes": [],
            "_model_module": "@jupyter-widgets/controls",
            "_model_module_version": "1.5.0",
            "_model_name": "HBoxModel",
            "_view_count": null,
            "_view_module": "@jupyter-widgets/controls",
            "_view_module_version": "1.5.0",
            "_view_name": "HBoxView",
            "box_style": "",
            "children": [
              "IPY_MODEL_3cb69416fd2545ffb4498d6b50617538",
              "IPY_MODEL_09c458b5183045e6b4269a8857476234",
              "IPY_MODEL_39df747c229642dcabc78caa20997c46"
            ],
            "layout": "IPY_MODEL_34b5d17c4dec44cca1d4cab3c015c2f8"
          }
        },
        "3cb69416fd2545ffb4498d6b50617538": {
          "model_module": "@jupyter-widgets/controls",
          "model_name": "HTMLModel",
          "model_module_version": "1.5.0",
          "state": {
            "_dom_classes": [],
            "_model_module": "@jupyter-widgets/controls",
            "_model_module_version": "1.5.0",
            "_model_name": "HTMLModel",
            "_view_count": null,
            "_view_module": "@jupyter-widgets/controls",
            "_view_module_version": "1.5.0",
            "_view_name": "HTMLView",
            "description": "",
            "description_tooltip": null,
            "layout": "IPY_MODEL_1a594dfa92124f319e5ca53859880924",
            "placeholder": "​",
            "style": "IPY_MODEL_9b4ad40eb5e54995b9ba2c19ece2d2e6",
            "value": "spiece.model: 100%"
          }
        },
        "09c458b5183045e6b4269a8857476234": {
          "model_module": "@jupyter-widgets/controls",
          "model_name": "FloatProgressModel",
          "model_module_version": "1.5.0",
          "state": {
            "_dom_classes": [],
            "_model_module": "@jupyter-widgets/controls",
            "_model_module_version": "1.5.0",
            "_model_name": "FloatProgressModel",
            "_view_count": null,
            "_view_module": "@jupyter-widgets/controls",
            "_view_module_version": "1.5.0",
            "_view_name": "ProgressView",
            "bar_style": "success",
            "description": "",
            "description_tooltip": null,
            "layout": "IPY_MODEL_bb570f975adb4064913a40832f389f48",
            "max": 791656,
            "min": 0,
            "orientation": "horizontal",
            "style": "IPY_MODEL_4bb7b54d393f404b807494e4fa0cc880",
            "value": 791656
          }
        },
        "39df747c229642dcabc78caa20997c46": {
          "model_module": "@jupyter-widgets/controls",
          "model_name": "HTMLModel",
          "model_module_version": "1.5.0",
          "state": {
            "_dom_classes": [],
            "_model_module": "@jupyter-widgets/controls",
            "_model_module_version": "1.5.0",
            "_model_name": "HTMLModel",
            "_view_count": null,
            "_view_module": "@jupyter-widgets/controls",
            "_view_module_version": "1.5.0",
            "_view_name": "HTMLView",
            "description": "",
            "description_tooltip": null,
            "layout": "IPY_MODEL_74f9aea151bd4e1e80f03e2f21b0f741",
            "placeholder": "​",
            "style": "IPY_MODEL_657d33e2d22c475c94e0769c49a8a3a8",
            "value": " 792k/792k [00:00&lt;00:00, 8.83MB/s]"
          }
        },
        "34b5d17c4dec44cca1d4cab3c015c2f8": {
          "model_module": "@jupyter-widgets/base",
          "model_name": "LayoutModel",
          "model_module_version": "1.2.0",
          "state": {
            "_model_module": "@jupyter-widgets/base",
            "_model_module_version": "1.2.0",
            "_model_name": "LayoutModel",
            "_view_count": null,
            "_view_module": "@jupyter-widgets/base",
            "_view_module_version": "1.2.0",
            "_view_name": "LayoutView",
            "align_content": null,
            "align_items": null,
            "align_self": null,
            "border": null,
            "bottom": null,
            "display": null,
            "flex": null,
            "flex_flow": null,
            "grid_area": null,
            "grid_auto_columns": null,
            "grid_auto_flow": null,
            "grid_auto_rows": null,
            "grid_column": null,
            "grid_gap": null,
            "grid_row": null,
            "grid_template_areas": null,
            "grid_template_columns": null,
            "grid_template_rows": null,
            "height": null,
            "justify_content": null,
            "justify_items": null,
            "left": null,
            "margin": null,
            "max_height": null,
            "max_width": null,
            "min_height": null,
            "min_width": null,
            "object_fit": null,
            "object_position": null,
            "order": null,
            "overflow": null,
            "overflow_x": null,
            "overflow_y": null,
            "padding": null,
            "right": null,
            "top": null,
            "visibility": null,
            "width": null
          }
        },
        "1a594dfa92124f319e5ca53859880924": {
          "model_module": "@jupyter-widgets/base",
          "model_name": "LayoutModel",
          "model_module_version": "1.2.0",
          "state": {
            "_model_module": "@jupyter-widgets/base",
            "_model_module_version": "1.2.0",
            "_model_name": "LayoutModel",
            "_view_count": null,
            "_view_module": "@jupyter-widgets/base",
            "_view_module_version": "1.2.0",
            "_view_name": "LayoutView",
            "align_content": null,
            "align_items": null,
            "align_self": null,
            "border": null,
            "bottom": null,
            "display": null,
            "flex": null,
            "flex_flow": null,
            "grid_area": null,
            "grid_auto_columns": null,
            "grid_auto_flow": null,
            "grid_auto_rows": null,
            "grid_column": null,
            "grid_gap": null,
            "grid_row": null,
            "grid_template_areas": null,
            "grid_template_columns": null,
            "grid_template_rows": null,
            "height": null,
            "justify_content": null,
            "justify_items": null,
            "left": null,
            "margin": null,
            "max_height": null,
            "max_width": null,
            "min_height": null,
            "min_width": null,
            "object_fit": null,
            "object_position": null,
            "order": null,
            "overflow": null,
            "overflow_x": null,
            "overflow_y": null,
            "padding": null,
            "right": null,
            "top": null,
            "visibility": null,
            "width": null
          }
        },
        "9b4ad40eb5e54995b9ba2c19ece2d2e6": {
          "model_module": "@jupyter-widgets/controls",
          "model_name": "DescriptionStyleModel",
          "model_module_version": "1.5.0",
          "state": {
            "_model_module": "@jupyter-widgets/controls",
            "_model_module_version": "1.5.0",
            "_model_name": "DescriptionStyleModel",
            "_view_count": null,
            "_view_module": "@jupyter-widgets/base",
            "_view_module_version": "1.2.0",
            "_view_name": "StyleView",
            "description_width": ""
          }
        },
        "bb570f975adb4064913a40832f389f48": {
          "model_module": "@jupyter-widgets/base",
          "model_name": "LayoutModel",
          "model_module_version": "1.2.0",
          "state": {
            "_model_module": "@jupyter-widgets/base",
            "_model_module_version": "1.2.0",
            "_model_name": "LayoutModel",
            "_view_count": null,
            "_view_module": "@jupyter-widgets/base",
            "_view_module_version": "1.2.0",
            "_view_name": "LayoutView",
            "align_content": null,
            "align_items": null,
            "align_self": null,
            "border": null,
            "bottom": null,
            "display": null,
            "flex": null,
            "flex_flow": null,
            "grid_area": null,
            "grid_auto_columns": null,
            "grid_auto_flow": null,
            "grid_auto_rows": null,
            "grid_column": null,
            "grid_gap": null,
            "grid_row": null,
            "grid_template_areas": null,
            "grid_template_columns": null,
            "grid_template_rows": null,
            "height": null,
            "justify_content": null,
            "justify_items": null,
            "left": null,
            "margin": null,
            "max_height": null,
            "max_width": null,
            "min_height": null,
            "min_width": null,
            "object_fit": null,
            "object_position": null,
            "order": null,
            "overflow": null,
            "overflow_x": null,
            "overflow_y": null,
            "padding": null,
            "right": null,
            "top": null,
            "visibility": null,
            "width": null
          }
        },
        "4bb7b54d393f404b807494e4fa0cc880": {
          "model_module": "@jupyter-widgets/controls",
          "model_name": "ProgressStyleModel",
          "model_module_version": "1.5.0",
          "state": {
            "_model_module": "@jupyter-widgets/controls",
            "_model_module_version": "1.5.0",
            "_model_name": "ProgressStyleModel",
            "_view_count": null,
            "_view_module": "@jupyter-widgets/base",
            "_view_module_version": "1.2.0",
            "_view_name": "StyleView",
            "bar_color": null,
            "description_width": ""
          }
        },
        "74f9aea151bd4e1e80f03e2f21b0f741": {
          "model_module": "@jupyter-widgets/base",
          "model_name": "LayoutModel",
          "model_module_version": "1.2.0",
          "state": {
            "_model_module": "@jupyter-widgets/base",
            "_model_module_version": "1.2.0",
            "_model_name": "LayoutModel",
            "_view_count": null,
            "_view_module": "@jupyter-widgets/base",
            "_view_module_version": "1.2.0",
            "_view_name": "LayoutView",
            "align_content": null,
            "align_items": null,
            "align_self": null,
            "border": null,
            "bottom": null,
            "display": null,
            "flex": null,
            "flex_flow": null,
            "grid_area": null,
            "grid_auto_columns": null,
            "grid_auto_flow": null,
            "grid_auto_rows": null,
            "grid_column": null,
            "grid_gap": null,
            "grid_row": null,
            "grid_template_areas": null,
            "grid_template_columns": null,
            "grid_template_rows": null,
            "height": null,
            "justify_content": null,
            "justify_items": null,
            "left": null,
            "margin": null,
            "max_height": null,
            "max_width": null,
            "min_height": null,
            "min_width": null,
            "object_fit": null,
            "object_position": null,
            "order": null,
            "overflow": null,
            "overflow_x": null,
            "overflow_y": null,
            "padding": null,
            "right": null,
            "top": null,
            "visibility": null,
            "width": null
          }
        },
        "657d33e2d22c475c94e0769c49a8a3a8": {
          "model_module": "@jupyter-widgets/controls",
          "model_name": "DescriptionStyleModel",
          "model_module_version": "1.5.0",
          "state": {
            "_model_module": "@jupyter-widgets/controls",
            "_model_module_version": "1.5.0",
            "_model_name": "DescriptionStyleModel",
            "_view_count": null,
            "_view_module": "@jupyter-widgets/base",
            "_view_module_version": "1.2.0",
            "_view_name": "StyleView",
            "description_width": ""
          }
        },
        "8306b07e03784103a9f4461da27763c0": {
          "model_module": "@jupyter-widgets/controls",
          "model_name": "HBoxModel",
          "model_module_version": "1.5.0",
          "state": {
            "_dom_classes": [],
            "_model_module": "@jupyter-widgets/controls",
            "_model_module_version": "1.5.0",
            "_model_name": "HBoxModel",
            "_view_count": null,
            "_view_module": "@jupyter-widgets/controls",
            "_view_module_version": "1.5.0",
            "_view_name": "HBoxView",
            "box_style": "",
            "children": [
              "IPY_MODEL_315ddc5934d44b049556deaf1bcf8652",
              "IPY_MODEL_fa9ff679599044e19638b7dfad04e270",
              "IPY_MODEL_c8ae526c24fe4c14827856e071c599e8"
            ],
            "layout": "IPY_MODEL_29f39b4d7f694d66b82c2bc8e9dbe73e"
          }
        },
        "315ddc5934d44b049556deaf1bcf8652": {
          "model_module": "@jupyter-widgets/controls",
          "model_name": "HTMLModel",
          "model_module_version": "1.5.0",
          "state": {
            "_dom_classes": [],
            "_model_module": "@jupyter-widgets/controls",
            "_model_module_version": "1.5.0",
            "_model_name": "HTMLModel",
            "_view_count": null,
            "_view_module": "@jupyter-widgets/controls",
            "_view_module_version": "1.5.0",
            "_view_name": "HTMLView",
            "description": "",
            "description_tooltip": null,
            "layout": "IPY_MODEL_faa824e547784803a75b9ac4841c0f34",
            "placeholder": "​",
            "style": "IPY_MODEL_d1c10194179946e09d4dbac41968e860",
            "value": "tokenizer_config.json: 100%"
          }
        },
        "fa9ff679599044e19638b7dfad04e270": {
          "model_module": "@jupyter-widgets/controls",
          "model_name": "FloatProgressModel",
          "model_module_version": "1.5.0",
          "state": {
            "_dom_classes": [],
            "_model_module": "@jupyter-widgets/controls",
            "_model_module_version": "1.5.0",
            "_model_name": "FloatProgressModel",
            "_view_count": null,
            "_view_module": "@jupyter-widgets/controls",
            "_view_module_version": "1.5.0",
            "_view_name": "ProgressView",
            "bar_style": "success",
            "description": "",
            "description_tooltip": null,
            "layout": "IPY_MODEL_c3ba2b41dd59400197ec539126e2a8e1",
            "max": 2324,
            "min": 0,
            "orientation": "horizontal",
            "style": "IPY_MODEL_4faf8107ea8a4482a128244997224b1d",
            "value": 2324
          }
        },
        "c8ae526c24fe4c14827856e071c599e8": {
          "model_module": "@jupyter-widgets/controls",
          "model_name": "HTMLModel",
          "model_module_version": "1.5.0",
          "state": {
            "_dom_classes": [],
            "_model_module": "@jupyter-widgets/controls",
            "_model_module_version": "1.5.0",
            "_model_name": "HTMLModel",
            "_view_count": null,
            "_view_module": "@jupyter-widgets/controls",
            "_view_module_version": "1.5.0",
            "_view_name": "HTMLView",
            "description": "",
            "description_tooltip": null,
            "layout": "IPY_MODEL_12a548803c884353a0d941472dc91faf",
            "placeholder": "​",
            "style": "IPY_MODEL_fd31d7a455f448b48cbe4d15f70c4eb3",
            "value": " 2.32k/2.32k [00:00&lt;00:00, 36.0kB/s]"
          }
        },
        "29f39b4d7f694d66b82c2bc8e9dbe73e": {
          "model_module": "@jupyter-widgets/base",
          "model_name": "LayoutModel",
          "model_module_version": "1.2.0",
          "state": {
            "_model_module": "@jupyter-widgets/base",
            "_model_module_version": "1.2.0",
            "_model_name": "LayoutModel",
            "_view_count": null,
            "_view_module": "@jupyter-widgets/base",
            "_view_module_version": "1.2.0",
            "_view_name": "LayoutView",
            "align_content": null,
            "align_items": null,
            "align_self": null,
            "border": null,
            "bottom": null,
            "display": null,
            "flex": null,
            "flex_flow": null,
            "grid_area": null,
            "grid_auto_columns": null,
            "grid_auto_flow": null,
            "grid_auto_rows": null,
            "grid_column": null,
            "grid_gap": null,
            "grid_row": null,
            "grid_template_areas": null,
            "grid_template_columns": null,
            "grid_template_rows": null,
            "height": null,
            "justify_content": null,
            "justify_items": null,
            "left": null,
            "margin": null,
            "max_height": null,
            "max_width": null,
            "min_height": null,
            "min_width": null,
            "object_fit": null,
            "object_position": null,
            "order": null,
            "overflow": null,
            "overflow_x": null,
            "overflow_y": null,
            "padding": null,
            "right": null,
            "top": null,
            "visibility": null,
            "width": null
          }
        },
        "faa824e547784803a75b9ac4841c0f34": {
          "model_module": "@jupyter-widgets/base",
          "model_name": "LayoutModel",
          "model_module_version": "1.2.0",
          "state": {
            "_model_module": "@jupyter-widgets/base",
            "_model_module_version": "1.2.0",
            "_model_name": "LayoutModel",
            "_view_count": null,
            "_view_module": "@jupyter-widgets/base",
            "_view_module_version": "1.2.0",
            "_view_name": "LayoutView",
            "align_content": null,
            "align_items": null,
            "align_self": null,
            "border": null,
            "bottom": null,
            "display": null,
            "flex": null,
            "flex_flow": null,
            "grid_area": null,
            "grid_auto_columns": null,
            "grid_auto_flow": null,
            "grid_auto_rows": null,
            "grid_column": null,
            "grid_gap": null,
            "grid_row": null,
            "grid_template_areas": null,
            "grid_template_columns": null,
            "grid_template_rows": null,
            "height": null,
            "justify_content": null,
            "justify_items": null,
            "left": null,
            "margin": null,
            "max_height": null,
            "max_width": null,
            "min_height": null,
            "min_width": null,
            "object_fit": null,
            "object_position": null,
            "order": null,
            "overflow": null,
            "overflow_x": null,
            "overflow_y": null,
            "padding": null,
            "right": null,
            "top": null,
            "visibility": null,
            "width": null
          }
        },
        "d1c10194179946e09d4dbac41968e860": {
          "model_module": "@jupyter-widgets/controls",
          "model_name": "DescriptionStyleModel",
          "model_module_version": "1.5.0",
          "state": {
            "_model_module": "@jupyter-widgets/controls",
            "_model_module_version": "1.5.0",
            "_model_name": "DescriptionStyleModel",
            "_view_count": null,
            "_view_module": "@jupyter-widgets/base",
            "_view_module_version": "1.2.0",
            "_view_name": "StyleView",
            "description_width": ""
          }
        },
        "c3ba2b41dd59400197ec539126e2a8e1": {
          "model_module": "@jupyter-widgets/base",
          "model_name": "LayoutModel",
          "model_module_version": "1.2.0",
          "state": {
            "_model_module": "@jupyter-widgets/base",
            "_model_module_version": "1.2.0",
            "_model_name": "LayoutModel",
            "_view_count": null,
            "_view_module": "@jupyter-widgets/base",
            "_view_module_version": "1.2.0",
            "_view_name": "LayoutView",
            "align_content": null,
            "align_items": null,
            "align_self": null,
            "border": null,
            "bottom": null,
            "display": null,
            "flex": null,
            "flex_flow": null,
            "grid_area": null,
            "grid_auto_columns": null,
            "grid_auto_flow": null,
            "grid_auto_rows": null,
            "grid_column": null,
            "grid_gap": null,
            "grid_row": null,
            "grid_template_areas": null,
            "grid_template_columns": null,
            "grid_template_rows": null,
            "height": null,
            "justify_content": null,
            "justify_items": null,
            "left": null,
            "margin": null,
            "max_height": null,
            "max_width": null,
            "min_height": null,
            "min_width": null,
            "object_fit": null,
            "object_position": null,
            "order": null,
            "overflow": null,
            "overflow_x": null,
            "overflow_y": null,
            "padding": null,
            "right": null,
            "top": null,
            "visibility": null,
            "width": null
          }
        },
        "4faf8107ea8a4482a128244997224b1d": {
          "model_module": "@jupyter-widgets/controls",
          "model_name": "ProgressStyleModel",
          "model_module_version": "1.5.0",
          "state": {
            "_model_module": "@jupyter-widgets/controls",
            "_model_module_version": "1.5.0",
            "_model_name": "ProgressStyleModel",
            "_view_count": null,
            "_view_module": "@jupyter-widgets/base",
            "_view_module_version": "1.2.0",
            "_view_name": "StyleView",
            "bar_color": null,
            "description_width": ""
          }
        },
        "12a548803c884353a0d941472dc91faf": {
          "model_module": "@jupyter-widgets/base",
          "model_name": "LayoutModel",
          "model_module_version": "1.2.0",
          "state": {
            "_model_module": "@jupyter-widgets/base",
            "_model_module_version": "1.2.0",
            "_model_name": "LayoutModel",
            "_view_count": null,
            "_view_module": "@jupyter-widgets/base",
            "_view_module_version": "1.2.0",
            "_view_name": "LayoutView",
            "align_content": null,
            "align_items": null,
            "align_self": null,
            "border": null,
            "bottom": null,
            "display": null,
            "flex": null,
            "flex_flow": null,
            "grid_area": null,
            "grid_auto_columns": null,
            "grid_auto_flow": null,
            "grid_auto_rows": null,
            "grid_column": null,
            "grid_gap": null,
            "grid_row": null,
            "grid_template_areas": null,
            "grid_template_columns": null,
            "grid_template_rows": null,
            "height": null,
            "justify_content": null,
            "justify_items": null,
            "left": null,
            "margin": null,
            "max_height": null,
            "max_width": null,
            "min_height": null,
            "min_width": null,
            "object_fit": null,
            "object_position": null,
            "order": null,
            "overflow": null,
            "overflow_x": null,
            "overflow_y": null,
            "padding": null,
            "right": null,
            "top": null,
            "visibility": null,
            "width": null
          }
        },
        "fd31d7a455f448b48cbe4d15f70c4eb3": {
          "model_module": "@jupyter-widgets/controls",
          "model_name": "DescriptionStyleModel",
          "model_module_version": "1.5.0",
          "state": {
            "_model_module": "@jupyter-widgets/controls",
            "_model_module_version": "1.5.0",
            "_model_name": "DescriptionStyleModel",
            "_view_count": null,
            "_view_module": "@jupyter-widgets/base",
            "_view_module_version": "1.2.0",
            "_view_name": "StyleView",
            "description_width": ""
          }
        },
        "580410beea7e47c1bb05c3cb7a46669b": {
          "model_module": "@jupyter-widgets/controls",
          "model_name": "HBoxModel",
          "model_module_version": "1.5.0",
          "state": {
            "_dom_classes": [],
            "_model_module": "@jupyter-widgets/controls",
            "_model_module_version": "1.5.0",
            "_model_name": "HBoxModel",
            "_view_count": null,
            "_view_module": "@jupyter-widgets/controls",
            "_view_module_version": "1.5.0",
            "_view_name": "HBoxView",
            "box_style": "",
            "children": [
              "IPY_MODEL_a41175f2dff64900a4f6f6c813fb9329",
              "IPY_MODEL_dd9d501ef25c49adb76c395c4d6a7368",
              "IPY_MODEL_395949004929427290f1165bf3765e50"
            ],
            "layout": "IPY_MODEL_95105fbce98547e7a74e5c603d764048"
          }
        },
        "a41175f2dff64900a4f6f6c813fb9329": {
          "model_module": "@jupyter-widgets/controls",
          "model_name": "HTMLModel",
          "model_module_version": "1.5.0",
          "state": {
            "_dom_classes": [],
            "_model_module": "@jupyter-widgets/controls",
            "_model_module_version": "1.5.0",
            "_model_name": "HTMLModel",
            "_view_count": null,
            "_view_module": "@jupyter-widgets/controls",
            "_view_module_version": "1.5.0",
            "_view_name": "HTMLView",
            "description": "",
            "description_tooltip": null,
            "layout": "IPY_MODEL_cb3f444d578e4437ab5850df137301fa",
            "placeholder": "​",
            "style": "IPY_MODEL_cfe227065a0c4131b3470479adfd6183",
            "value": "config.json: 100%"
          }
        },
        "dd9d501ef25c49adb76c395c4d6a7368": {
          "model_module": "@jupyter-widgets/controls",
          "model_name": "FloatProgressModel",
          "model_module_version": "1.5.0",
          "state": {
            "_dom_classes": [],
            "_model_module": "@jupyter-widgets/controls",
            "_model_module_version": "1.5.0",
            "_model_name": "FloatProgressModel",
            "_view_count": null,
            "_view_module": "@jupyter-widgets/controls",
            "_view_module_version": "1.5.0",
            "_view_name": "ProgressView",
            "bar_style": "success",
            "description": "",
            "description_tooltip": null,
            "layout": "IPY_MODEL_e85a2418c6c54cb09bd307f45f4fd72f",
            "max": 1206,
            "min": 0,
            "orientation": "horizontal",
            "style": "IPY_MODEL_abc9628faa7145128a2ec7252fbf15b4",
            "value": 1206
          }
        },
        "395949004929427290f1165bf3765e50": {
          "model_module": "@jupyter-widgets/controls",
          "model_name": "HTMLModel",
          "model_module_version": "1.5.0",
          "state": {
            "_dom_classes": [],
            "_model_module": "@jupyter-widgets/controls",
            "_model_module_version": "1.5.0",
            "_model_name": "HTMLModel",
            "_view_count": null,
            "_view_module": "@jupyter-widgets/controls",
            "_view_module_version": "1.5.0",
            "_view_name": "HTMLView",
            "description": "",
            "description_tooltip": null,
            "layout": "IPY_MODEL_91d50864a6744868be1902e5c6b1c763",
            "placeholder": "​",
            "style": "IPY_MODEL_f7d189d8b0cb43678a1dffc2ad1bc840",
            "value": " 1.21k/1.21k [00:00&lt;00:00, 26.0kB/s]"
          }
        },
        "95105fbce98547e7a74e5c603d764048": {
          "model_module": "@jupyter-widgets/base",
          "model_name": "LayoutModel",
          "model_module_version": "1.2.0",
          "state": {
            "_model_module": "@jupyter-widgets/base",
            "_model_module_version": "1.2.0",
            "_model_name": "LayoutModel",
            "_view_count": null,
            "_view_module": "@jupyter-widgets/base",
            "_view_module_version": "1.2.0",
            "_view_name": "LayoutView",
            "align_content": null,
            "align_items": null,
            "align_self": null,
            "border": null,
            "bottom": null,
            "display": null,
            "flex": null,
            "flex_flow": null,
            "grid_area": null,
            "grid_auto_columns": null,
            "grid_auto_flow": null,
            "grid_auto_rows": null,
            "grid_column": null,
            "grid_gap": null,
            "grid_row": null,
            "grid_template_areas": null,
            "grid_template_columns": null,
            "grid_template_rows": null,
            "height": null,
            "justify_content": null,
            "justify_items": null,
            "left": null,
            "margin": null,
            "max_height": null,
            "max_width": null,
            "min_height": null,
            "min_width": null,
            "object_fit": null,
            "object_position": null,
            "order": null,
            "overflow": null,
            "overflow_x": null,
            "overflow_y": null,
            "padding": null,
            "right": null,
            "top": null,
            "visibility": null,
            "width": null
          }
        },
        "cb3f444d578e4437ab5850df137301fa": {
          "model_module": "@jupyter-widgets/base",
          "model_name": "LayoutModel",
          "model_module_version": "1.2.0",
          "state": {
            "_model_module": "@jupyter-widgets/base",
            "_model_module_version": "1.2.0",
            "_model_name": "LayoutModel",
            "_view_count": null,
            "_view_module": "@jupyter-widgets/base",
            "_view_module_version": "1.2.0",
            "_view_name": "LayoutView",
            "align_content": null,
            "align_items": null,
            "align_self": null,
            "border": null,
            "bottom": null,
            "display": null,
            "flex": null,
            "flex_flow": null,
            "grid_area": null,
            "grid_auto_columns": null,
            "grid_auto_flow": null,
            "grid_auto_rows": null,
            "grid_column": null,
            "grid_gap": null,
            "grid_row": null,
            "grid_template_areas": null,
            "grid_template_columns": null,
            "grid_template_rows": null,
            "height": null,
            "justify_content": null,
            "justify_items": null,
            "left": null,
            "margin": null,
            "max_height": null,
            "max_width": null,
            "min_height": null,
            "min_width": null,
            "object_fit": null,
            "object_position": null,
            "order": null,
            "overflow": null,
            "overflow_x": null,
            "overflow_y": null,
            "padding": null,
            "right": null,
            "top": null,
            "visibility": null,
            "width": null
          }
        },
        "cfe227065a0c4131b3470479adfd6183": {
          "model_module": "@jupyter-widgets/controls",
          "model_name": "DescriptionStyleModel",
          "model_module_version": "1.5.0",
          "state": {
            "_model_module": "@jupyter-widgets/controls",
            "_model_module_version": "1.5.0",
            "_model_name": "DescriptionStyleModel",
            "_view_count": null,
            "_view_module": "@jupyter-widgets/base",
            "_view_module_version": "1.2.0",
            "_view_name": "StyleView",
            "description_width": ""
          }
        },
        "e85a2418c6c54cb09bd307f45f4fd72f": {
          "model_module": "@jupyter-widgets/base",
          "model_name": "LayoutModel",
          "model_module_version": "1.2.0",
          "state": {
            "_model_module": "@jupyter-widgets/base",
            "_model_module_version": "1.2.0",
            "_model_name": "LayoutModel",
            "_view_count": null,
            "_view_module": "@jupyter-widgets/base",
            "_view_module_version": "1.2.0",
            "_view_name": "LayoutView",
            "align_content": null,
            "align_items": null,
            "align_self": null,
            "border": null,
            "bottom": null,
            "display": null,
            "flex": null,
            "flex_flow": null,
            "grid_area": null,
            "grid_auto_columns": null,
            "grid_auto_flow": null,
            "grid_auto_rows": null,
            "grid_column": null,
            "grid_gap": null,
            "grid_row": null,
            "grid_template_areas": null,
            "grid_template_columns": null,
            "grid_template_rows": null,
            "height": null,
            "justify_content": null,
            "justify_items": null,
            "left": null,
            "margin": null,
            "max_height": null,
            "max_width": null,
            "min_height": null,
            "min_width": null,
            "object_fit": null,
            "object_position": null,
            "order": null,
            "overflow": null,
            "overflow_x": null,
            "overflow_y": null,
            "padding": null,
            "right": null,
            "top": null,
            "visibility": null,
            "width": null
          }
        },
        "abc9628faa7145128a2ec7252fbf15b4": {
          "model_module": "@jupyter-widgets/controls",
          "model_name": "ProgressStyleModel",
          "model_module_version": "1.5.0",
          "state": {
            "_model_module": "@jupyter-widgets/controls",
            "_model_module_version": "1.5.0",
            "_model_name": "ProgressStyleModel",
            "_view_count": null,
            "_view_module": "@jupyter-widgets/base",
            "_view_module_version": "1.2.0",
            "_view_name": "StyleView",
            "bar_color": null,
            "description_width": ""
          }
        },
        "91d50864a6744868be1902e5c6b1c763": {
          "model_module": "@jupyter-widgets/base",
          "model_name": "LayoutModel",
          "model_module_version": "1.2.0",
          "state": {
            "_model_module": "@jupyter-widgets/base",
            "_model_module_version": "1.2.0",
            "_model_name": "LayoutModel",
            "_view_count": null,
            "_view_module": "@jupyter-widgets/base",
            "_view_module_version": "1.2.0",
            "_view_name": "LayoutView",
            "align_content": null,
            "align_items": null,
            "align_self": null,
            "border": null,
            "bottom": null,
            "display": null,
            "flex": null,
            "flex_flow": null,
            "grid_area": null,
            "grid_auto_columns": null,
            "grid_auto_flow": null,
            "grid_auto_rows": null,
            "grid_column": null,
            "grid_gap": null,
            "grid_row": null,
            "grid_template_areas": null,
            "grid_template_columns": null,
            "grid_template_rows": null,
            "height": null,
            "justify_content": null,
            "justify_items": null,
            "left": null,
            "margin": null,
            "max_height": null,
            "max_width": null,
            "min_height": null,
            "min_width": null,
            "object_fit": null,
            "object_position": null,
            "order": null,
            "overflow": null,
            "overflow_x": null,
            "overflow_y": null,
            "padding": null,
            "right": null,
            "top": null,
            "visibility": null,
            "width": null
          }
        },
        "f7d189d8b0cb43678a1dffc2ad1bc840": {
          "model_module": "@jupyter-widgets/controls",
          "model_name": "DescriptionStyleModel",
          "model_module_version": "1.5.0",
          "state": {
            "_model_module": "@jupyter-widgets/controls",
            "_model_module_version": "1.5.0",
            "_model_name": "DescriptionStyleModel",
            "_view_count": null,
            "_view_module": "@jupyter-widgets/base",
            "_view_module_version": "1.2.0",
            "_view_name": "StyleView",
            "description_width": ""
          }
        },
        "71f0f40002114b1ea132bbeaea1448ab": {
          "model_module": "@jupyter-widgets/controls",
          "model_name": "HBoxModel",
          "model_module_version": "1.5.0",
          "state": {
            "_dom_classes": [],
            "_model_module": "@jupyter-widgets/controls",
            "_model_module_version": "1.5.0",
            "_model_name": "HBoxModel",
            "_view_count": null,
            "_view_module": "@jupyter-widgets/controls",
            "_view_module_version": "1.5.0",
            "_view_name": "HBoxView",
            "box_style": "",
            "children": [
              "IPY_MODEL_ebe081684dd04962920fb6a7cd91d616",
              "IPY_MODEL_e1d686ff020746919e2c6c8f6e74488c",
              "IPY_MODEL_57134b0544dd411889ed28de9c8bbabd"
            ],
            "layout": "IPY_MODEL_4ab1e8be88154bdc9f4ef990fc26141d"
          }
        },
        "ebe081684dd04962920fb6a7cd91d616": {
          "model_module": "@jupyter-widgets/controls",
          "model_name": "HTMLModel",
          "model_module_version": "1.5.0",
          "state": {
            "_dom_classes": [],
            "_model_module": "@jupyter-widgets/controls",
            "_model_module_version": "1.5.0",
            "_model_name": "HTMLModel",
            "_view_count": null,
            "_view_module": "@jupyter-widgets/controls",
            "_view_module_version": "1.5.0",
            "_view_name": "HTMLView",
            "description": "",
            "description_tooltip": null,
            "layout": "IPY_MODEL_56fefee6c3c14261a7a3d08c7e44a05f",
            "placeholder": "​",
            "style": "IPY_MODEL_0eea9df5162e42fd8d695f13a5a3c546",
            "value": "model.safetensors: 100%"
          }
        },
        "e1d686ff020746919e2c6c8f6e74488c": {
          "model_module": "@jupyter-widgets/controls",
          "model_name": "FloatProgressModel",
          "model_module_version": "1.5.0",
          "state": {
            "_dom_classes": [],
            "_model_module": "@jupyter-widgets/controls",
            "_model_module_version": "1.5.0",
            "_model_name": "FloatProgressModel",
            "_view_count": null,
            "_view_module": "@jupyter-widgets/controls",
            "_view_module_version": "1.5.0",
            "_view_name": "ProgressView",
            "bar_style": "success",
            "description": "",
            "description_tooltip": null,
            "layout": "IPY_MODEL_7f45801580284ab4bb3928053b7bd434",
            "max": 242043056,
            "min": 0,
            "orientation": "horizontal",
            "style": "IPY_MODEL_cebb3413122543fbb51e50f15f7351a8",
            "value": 242043056
          }
        },
        "57134b0544dd411889ed28de9c8bbabd": {
          "model_module": "@jupyter-widgets/controls",
          "model_name": "HTMLModel",
          "model_module_version": "1.5.0",
          "state": {
            "_dom_classes": [],
            "_model_module": "@jupyter-widgets/controls",
            "_model_module_version": "1.5.0",
            "_model_name": "HTMLModel",
            "_view_count": null,
            "_view_module": "@jupyter-widgets/controls",
            "_view_module_version": "1.5.0",
            "_view_name": "HTMLView",
            "description": "",
            "description_tooltip": null,
            "layout": "IPY_MODEL_c0a524cecc164aeb9f30355b0d9839f4",
            "placeholder": "​",
            "style": "IPY_MODEL_73d33d1b635d448d9a3183bc051487b4",
            "value": " 242M/242M [00:01&lt;00:00, 187MB/s]"
          }
        },
        "4ab1e8be88154bdc9f4ef990fc26141d": {
          "model_module": "@jupyter-widgets/base",
          "model_name": "LayoutModel",
          "model_module_version": "1.2.0",
          "state": {
            "_model_module": "@jupyter-widgets/base",
            "_model_module_version": "1.2.0",
            "_model_name": "LayoutModel",
            "_view_count": null,
            "_view_module": "@jupyter-widgets/base",
            "_view_module_version": "1.2.0",
            "_view_name": "LayoutView",
            "align_content": null,
            "align_items": null,
            "align_self": null,
            "border": null,
            "bottom": null,
            "display": null,
            "flex": null,
            "flex_flow": null,
            "grid_area": null,
            "grid_auto_columns": null,
            "grid_auto_flow": null,
            "grid_auto_rows": null,
            "grid_column": null,
            "grid_gap": null,
            "grid_row": null,
            "grid_template_areas": null,
            "grid_template_columns": null,
            "grid_template_rows": null,
            "height": null,
            "justify_content": null,
            "justify_items": null,
            "left": null,
            "margin": null,
            "max_height": null,
            "max_width": null,
            "min_height": null,
            "min_width": null,
            "object_fit": null,
            "object_position": null,
            "order": null,
            "overflow": null,
            "overflow_x": null,
            "overflow_y": null,
            "padding": null,
            "right": null,
            "top": null,
            "visibility": null,
            "width": null
          }
        },
        "56fefee6c3c14261a7a3d08c7e44a05f": {
          "model_module": "@jupyter-widgets/base",
          "model_name": "LayoutModel",
          "model_module_version": "1.2.0",
          "state": {
            "_model_module": "@jupyter-widgets/base",
            "_model_module_version": "1.2.0",
            "_model_name": "LayoutModel",
            "_view_count": null,
            "_view_module": "@jupyter-widgets/base",
            "_view_module_version": "1.2.0",
            "_view_name": "LayoutView",
            "align_content": null,
            "align_items": null,
            "align_self": null,
            "border": null,
            "bottom": null,
            "display": null,
            "flex": null,
            "flex_flow": null,
            "grid_area": null,
            "grid_auto_columns": null,
            "grid_auto_flow": null,
            "grid_auto_rows": null,
            "grid_column": null,
            "grid_gap": null,
            "grid_row": null,
            "grid_template_areas": null,
            "grid_template_columns": null,
            "grid_template_rows": null,
            "height": null,
            "justify_content": null,
            "justify_items": null,
            "left": null,
            "margin": null,
            "max_height": null,
            "max_width": null,
            "min_height": null,
            "min_width": null,
            "object_fit": null,
            "object_position": null,
            "order": null,
            "overflow": null,
            "overflow_x": null,
            "overflow_y": null,
            "padding": null,
            "right": null,
            "top": null,
            "visibility": null,
            "width": null
          }
        },
        "0eea9df5162e42fd8d695f13a5a3c546": {
          "model_module": "@jupyter-widgets/controls",
          "model_name": "DescriptionStyleModel",
          "model_module_version": "1.5.0",
          "state": {
            "_model_module": "@jupyter-widgets/controls",
            "_model_module_version": "1.5.0",
            "_model_name": "DescriptionStyleModel",
            "_view_count": null,
            "_view_module": "@jupyter-widgets/base",
            "_view_module_version": "1.2.0",
            "_view_name": "StyleView",
            "description_width": ""
          }
        },
        "7f45801580284ab4bb3928053b7bd434": {
          "model_module": "@jupyter-widgets/base",
          "model_name": "LayoutModel",
          "model_module_version": "1.2.0",
          "state": {
            "_model_module": "@jupyter-widgets/base",
            "_model_module_version": "1.2.0",
            "_model_name": "LayoutModel",
            "_view_count": null,
            "_view_module": "@jupyter-widgets/base",
            "_view_module_version": "1.2.0",
            "_view_name": "LayoutView",
            "align_content": null,
            "align_items": null,
            "align_self": null,
            "border": null,
            "bottom": null,
            "display": null,
            "flex": null,
            "flex_flow": null,
            "grid_area": null,
            "grid_auto_columns": null,
            "grid_auto_flow": null,
            "grid_auto_rows": null,
            "grid_column": null,
            "grid_gap": null,
            "grid_row": null,
            "grid_template_areas": null,
            "grid_template_columns": null,
            "grid_template_rows": null,
            "height": null,
            "justify_content": null,
            "justify_items": null,
            "left": null,
            "margin": null,
            "max_height": null,
            "max_width": null,
            "min_height": null,
            "min_width": null,
            "object_fit": null,
            "object_position": null,
            "order": null,
            "overflow": null,
            "overflow_x": null,
            "overflow_y": null,
            "padding": null,
            "right": null,
            "top": null,
            "visibility": null,
            "width": null
          }
        },
        "cebb3413122543fbb51e50f15f7351a8": {
          "model_module": "@jupyter-widgets/controls",
          "model_name": "ProgressStyleModel",
          "model_module_version": "1.5.0",
          "state": {
            "_model_module": "@jupyter-widgets/controls",
            "_model_module_version": "1.5.0",
            "_model_name": "ProgressStyleModel",
            "_view_count": null,
            "_view_module": "@jupyter-widgets/base",
            "_view_module_version": "1.2.0",
            "_view_name": "StyleView",
            "bar_color": null,
            "description_width": ""
          }
        },
        "c0a524cecc164aeb9f30355b0d9839f4": {
          "model_module": "@jupyter-widgets/base",
          "model_name": "LayoutModel",
          "model_module_version": "1.2.0",
          "state": {
            "_model_module": "@jupyter-widgets/base",
            "_model_module_version": "1.2.0",
            "_model_name": "LayoutModel",
            "_view_count": null,
            "_view_module": "@jupyter-widgets/base",
            "_view_module_version": "1.2.0",
            "_view_name": "LayoutView",
            "align_content": null,
            "align_items": null,
            "align_self": null,
            "border": null,
            "bottom": null,
            "display": null,
            "flex": null,
            "flex_flow": null,
            "grid_area": null,
            "grid_auto_columns": null,
            "grid_auto_flow": null,
            "grid_auto_rows": null,
            "grid_column": null,
            "grid_gap": null,
            "grid_row": null,
            "grid_template_areas": null,
            "grid_template_columns": null,
            "grid_template_rows": null,
            "height": null,
            "justify_content": null,
            "justify_items": null,
            "left": null,
            "margin": null,
            "max_height": null,
            "max_width": null,
            "min_height": null,
            "min_width": null,
            "object_fit": null,
            "object_position": null,
            "order": null,
            "overflow": null,
            "overflow_x": null,
            "overflow_y": null,
            "padding": null,
            "right": null,
            "top": null,
            "visibility": null,
            "width": null
          }
        },
        "73d33d1b635d448d9a3183bc051487b4": {
          "model_module": "@jupyter-widgets/controls",
          "model_name": "DescriptionStyleModel",
          "model_module_version": "1.5.0",
          "state": {
            "_model_module": "@jupyter-widgets/controls",
            "_model_module_version": "1.5.0",
            "_model_name": "DescriptionStyleModel",
            "_view_count": null,
            "_view_module": "@jupyter-widgets/base",
            "_view_module_version": "1.2.0",
            "_view_name": "StyleView",
            "description_width": ""
          }
        },
        "b525e11b89bd49e79f9731ad9baffc5b": {
          "model_module": "@jupyter-widgets/controls",
          "model_name": "HBoxModel",
          "model_module_version": "1.5.0",
          "state": {
            "_dom_classes": [],
            "_model_module": "@jupyter-widgets/controls",
            "_model_module_version": "1.5.0",
            "_model_name": "HBoxModel",
            "_view_count": null,
            "_view_module": "@jupyter-widgets/controls",
            "_view_module_version": "1.5.0",
            "_view_name": "HBoxView",
            "box_style": "",
            "children": [
              "IPY_MODEL_0824f3c5e0f941649ec2b72d7acc1010",
              "IPY_MODEL_3d5204e9f9f946c4a86b1b77a5d5e32b",
              "IPY_MODEL_c6cfb2e909ac4484b3ae69e9974bf420"
            ],
            "layout": "IPY_MODEL_3e69d46d5a414dc1a66f4a4f2904c2fd"
          }
        },
        "0824f3c5e0f941649ec2b72d7acc1010": {
          "model_module": "@jupyter-widgets/controls",
          "model_name": "HTMLModel",
          "model_module_version": "1.5.0",
          "state": {
            "_dom_classes": [],
            "_model_module": "@jupyter-widgets/controls",
            "_model_module_version": "1.5.0",
            "_model_name": "HTMLModel",
            "_view_count": null,
            "_view_module": "@jupyter-widgets/controls",
            "_view_module_version": "1.5.0",
            "_view_name": "HTMLView",
            "description": "",
            "description_tooltip": null,
            "layout": "IPY_MODEL_e63720f98736405aafd578e6e6b2361b",
            "placeholder": "​",
            "style": "IPY_MODEL_2aa0356a46594dc39071e202f261a678",
            "value": "Map: 100%"
          }
        },
        "3d5204e9f9f946c4a86b1b77a5d5e32b": {
          "model_module": "@jupyter-widgets/controls",
          "model_name": "FloatProgressModel",
          "model_module_version": "1.5.0",
          "state": {
            "_dom_classes": [],
            "_model_module": "@jupyter-widgets/controls",
            "_model_module_version": "1.5.0",
            "_model_name": "FloatProgressModel",
            "_view_count": null,
            "_view_module": "@jupyter-widgets/controls",
            "_view_module_version": "1.5.0",
            "_view_name": "ProgressView",
            "bar_style": "success",
            "description": "",
            "description_tooltip": null,
            "layout": "IPY_MODEL_2df020716db747ae9776f3f481b56f93",
            "max": 5,
            "min": 0,
            "orientation": "horizontal",
            "style": "IPY_MODEL_85037b05dc2540c0aa468b3a9a5a16f6",
            "value": 5
          }
        },
        "c6cfb2e909ac4484b3ae69e9974bf420": {
          "model_module": "@jupyter-widgets/controls",
          "model_name": "HTMLModel",
          "model_module_version": "1.5.0",
          "state": {
            "_dom_classes": [],
            "_model_module": "@jupyter-widgets/controls",
            "_model_module_version": "1.5.0",
            "_model_name": "HTMLModel",
            "_view_count": null,
            "_view_module": "@jupyter-widgets/controls",
            "_view_module_version": "1.5.0",
            "_view_name": "HTMLView",
            "description": "",
            "description_tooltip": null,
            "layout": "IPY_MODEL_417f2b9e87a446f79fe0c2f2ccc39a8c",
            "placeholder": "​",
            "style": "IPY_MODEL_97fea4e4f6594b5bac661a66efae7263",
            "value": " 5/5 [00:00&lt;00:00, 14.25 examples/s]"
          }
        },
        "3e69d46d5a414dc1a66f4a4f2904c2fd": {
          "model_module": "@jupyter-widgets/base",
          "model_name": "LayoutModel",
          "model_module_version": "1.2.0",
          "state": {
            "_model_module": "@jupyter-widgets/base",
            "_model_module_version": "1.2.0",
            "_model_name": "LayoutModel",
            "_view_count": null,
            "_view_module": "@jupyter-widgets/base",
            "_view_module_version": "1.2.0",
            "_view_name": "LayoutView",
            "align_content": null,
            "align_items": null,
            "align_self": null,
            "border": null,
            "bottom": null,
            "display": null,
            "flex": null,
            "flex_flow": null,
            "grid_area": null,
            "grid_auto_columns": null,
            "grid_auto_flow": null,
            "grid_auto_rows": null,
            "grid_column": null,
            "grid_gap": null,
            "grid_row": null,
            "grid_template_areas": null,
            "grid_template_columns": null,
            "grid_template_rows": null,
            "height": null,
            "justify_content": null,
            "justify_items": null,
            "left": null,
            "margin": null,
            "max_height": null,
            "max_width": null,
            "min_height": null,
            "min_width": null,
            "object_fit": null,
            "object_position": null,
            "order": null,
            "overflow": null,
            "overflow_x": null,
            "overflow_y": null,
            "padding": null,
            "right": null,
            "top": null,
            "visibility": null,
            "width": null
          }
        },
        "e63720f98736405aafd578e6e6b2361b": {
          "model_module": "@jupyter-widgets/base",
          "model_name": "LayoutModel",
          "model_module_version": "1.2.0",
          "state": {
            "_model_module": "@jupyter-widgets/base",
            "_model_module_version": "1.2.0",
            "_model_name": "LayoutModel",
            "_view_count": null,
            "_view_module": "@jupyter-widgets/base",
            "_view_module_version": "1.2.0",
            "_view_name": "LayoutView",
            "align_content": null,
            "align_items": null,
            "align_self": null,
            "border": null,
            "bottom": null,
            "display": null,
            "flex": null,
            "flex_flow": null,
            "grid_area": null,
            "grid_auto_columns": null,
            "grid_auto_flow": null,
            "grid_auto_rows": null,
            "grid_column": null,
            "grid_gap": null,
            "grid_row": null,
            "grid_template_areas": null,
            "grid_template_columns": null,
            "grid_template_rows": null,
            "height": null,
            "justify_content": null,
            "justify_items": null,
            "left": null,
            "margin": null,
            "max_height": null,
            "max_width": null,
            "min_height": null,
            "min_width": null,
            "object_fit": null,
            "object_position": null,
            "order": null,
            "overflow": null,
            "overflow_x": null,
            "overflow_y": null,
            "padding": null,
            "right": null,
            "top": null,
            "visibility": null,
            "width": null
          }
        },
        "2aa0356a46594dc39071e202f261a678": {
          "model_module": "@jupyter-widgets/controls",
          "model_name": "DescriptionStyleModel",
          "model_module_version": "1.5.0",
          "state": {
            "_model_module": "@jupyter-widgets/controls",
            "_model_module_version": "1.5.0",
            "_model_name": "DescriptionStyleModel",
            "_view_count": null,
            "_view_module": "@jupyter-widgets/base",
            "_view_module_version": "1.2.0",
            "_view_name": "StyleView",
            "description_width": ""
          }
        },
        "2df020716db747ae9776f3f481b56f93": {
          "model_module": "@jupyter-widgets/base",
          "model_name": "LayoutModel",
          "model_module_version": "1.2.0",
          "state": {
            "_model_module": "@jupyter-widgets/base",
            "_model_module_version": "1.2.0",
            "_model_name": "LayoutModel",
            "_view_count": null,
            "_view_module": "@jupyter-widgets/base",
            "_view_module_version": "1.2.0",
            "_view_name": "LayoutView",
            "align_content": null,
            "align_items": null,
            "align_self": null,
            "border": null,
            "bottom": null,
            "display": null,
            "flex": null,
            "flex_flow": null,
            "grid_area": null,
            "grid_auto_columns": null,
            "grid_auto_flow": null,
            "grid_auto_rows": null,
            "grid_column": null,
            "grid_gap": null,
            "grid_row": null,
            "grid_template_areas": null,
            "grid_template_columns": null,
            "grid_template_rows": null,
            "height": null,
            "justify_content": null,
            "justify_items": null,
            "left": null,
            "margin": null,
            "max_height": null,
            "max_width": null,
            "min_height": null,
            "min_width": null,
            "object_fit": null,
            "object_position": null,
            "order": null,
            "overflow": null,
            "overflow_x": null,
            "overflow_y": null,
            "padding": null,
            "right": null,
            "top": null,
            "visibility": null,
            "width": null
          }
        },
        "85037b05dc2540c0aa468b3a9a5a16f6": {
          "model_module": "@jupyter-widgets/controls",
          "model_name": "ProgressStyleModel",
          "model_module_version": "1.5.0",
          "state": {
            "_model_module": "@jupyter-widgets/controls",
            "_model_module_version": "1.5.0",
            "_model_name": "ProgressStyleModel",
            "_view_count": null,
            "_view_module": "@jupyter-widgets/base",
            "_view_module_version": "1.2.0",
            "_view_name": "StyleView",
            "bar_color": null,
            "description_width": ""
          }
        },
        "417f2b9e87a446f79fe0c2f2ccc39a8c": {
          "model_module": "@jupyter-widgets/base",
          "model_name": "LayoutModel",
          "model_module_version": "1.2.0",
          "state": {
            "_model_module": "@jupyter-widgets/base",
            "_model_module_version": "1.2.0",
            "_model_name": "LayoutModel",
            "_view_count": null,
            "_view_module": "@jupyter-widgets/base",
            "_view_module_version": "1.2.0",
            "_view_name": "LayoutView",
            "align_content": null,
            "align_items": null,
            "align_self": null,
            "border": null,
            "bottom": null,
            "display": null,
            "flex": null,
            "flex_flow": null,
            "grid_area": null,
            "grid_auto_columns": null,
            "grid_auto_flow": null,
            "grid_auto_rows": null,
            "grid_column": null,
            "grid_gap": null,
            "grid_row": null,
            "grid_template_areas": null,
            "grid_template_columns": null,
            "grid_template_rows": null,
            "height": null,
            "justify_content": null,
            "justify_items": null,
            "left": null,
            "margin": null,
            "max_height": null,
            "max_width": null,
            "min_height": null,
            "min_width": null,
            "object_fit": null,
            "object_position": null,
            "order": null,
            "overflow": null,
            "overflow_x": null,
            "overflow_y": null,
            "padding": null,
            "right": null,
            "top": null,
            "visibility": null,
            "width": null
          }
        },
        "97fea4e4f6594b5bac661a66efae7263": {
          "model_module": "@jupyter-widgets/controls",
          "model_name": "DescriptionStyleModel",
          "model_module_version": "1.5.0",
          "state": {
            "_model_module": "@jupyter-widgets/controls",
            "_model_module_version": "1.5.0",
            "_model_name": "DescriptionStyleModel",
            "_view_count": null,
            "_view_module": "@jupyter-widgets/base",
            "_view_module_version": "1.2.0",
            "_view_name": "StyleView",
            "description_width": ""
          }
        },
        "367692a73b774380bf2f1641013a9c33": {
          "model_module": "@jupyter-widgets/controls",
          "model_name": "HBoxModel",
          "model_module_version": "1.5.0",
          "state": {
            "_dom_classes": [],
            "_model_module": "@jupyter-widgets/controls",
            "_model_module_version": "1.5.0",
            "_model_name": "HBoxModel",
            "_view_count": null,
            "_view_module": "@jupyter-widgets/controls",
            "_view_module_version": "1.5.0",
            "_view_name": "HBoxView",
            "box_style": "",
            "children": [
              "IPY_MODEL_e0208730e22840538bceeccb1aa142d4",
              "IPY_MODEL_22049a6c05de49e7ad791b8736dedb92",
              "IPY_MODEL_f0a53581aeb54934b4de4c6e40a226c9"
            ],
            "layout": "IPY_MODEL_8a8f8b539d34408e994099cdc58adbba"
          }
        },
        "e0208730e22840538bceeccb1aa142d4": {
          "model_module": "@jupyter-widgets/controls",
          "model_name": "HTMLModel",
          "model_module_version": "1.5.0",
          "state": {
            "_dom_classes": [],
            "_model_module": "@jupyter-widgets/controls",
            "_model_module_version": "1.5.0",
            "_model_name": "HTMLModel",
            "_view_count": null,
            "_view_module": "@jupyter-widgets/controls",
            "_view_module_version": "1.5.0",
            "_view_name": "HTMLView",
            "description": "",
            "description_tooltip": null,
            "layout": "IPY_MODEL_7a32ddc6e0684d13b9a1e8ad48e97539",
            "placeholder": "​",
            "style": "IPY_MODEL_832ab9a45c5e48b784d1fa4a5789a197",
            "value": "Downloading builder script: 100%"
          }
        },
        "22049a6c05de49e7ad791b8736dedb92": {
          "model_module": "@jupyter-widgets/controls",
          "model_name": "FloatProgressModel",
          "model_module_version": "1.5.0",
          "state": {
            "_dom_classes": [],
            "_model_module": "@jupyter-widgets/controls",
            "_model_module_version": "1.5.0",
            "_model_name": "FloatProgressModel",
            "_view_count": null,
            "_view_module": "@jupyter-widgets/controls",
            "_view_module_version": "1.5.0",
            "_view_name": "ProgressView",
            "bar_style": "success",
            "description": "",
            "description_tooltip": null,
            "layout": "IPY_MODEL_2458c6b1eafb4a37b9bc80b3d9552a04",
            "max": 6270,
            "min": 0,
            "orientation": "horizontal",
            "style": "IPY_MODEL_cb123bc432214068afd559fa389641de",
            "value": 6270
          }
        },
        "f0a53581aeb54934b4de4c6e40a226c9": {
          "model_module": "@jupyter-widgets/controls",
          "model_name": "HTMLModel",
          "model_module_version": "1.5.0",
          "state": {
            "_dom_classes": [],
            "_model_module": "@jupyter-widgets/controls",
            "_model_module_version": "1.5.0",
            "_model_name": "HTMLModel",
            "_view_count": null,
            "_view_module": "@jupyter-widgets/controls",
            "_view_module_version": "1.5.0",
            "_view_name": "HTMLView",
            "description": "",
            "description_tooltip": null,
            "layout": "IPY_MODEL_7383bb94092c419d93ddb1b227e07960",
            "placeholder": "​",
            "style": "IPY_MODEL_395d434312ee46d2bb0194efecc24eac",
            "value": " 6.27k/6.27k [00:00&lt;00:00, 105kB/s]"
          }
        },
        "8a8f8b539d34408e994099cdc58adbba": {
          "model_module": "@jupyter-widgets/base",
          "model_name": "LayoutModel",
          "model_module_version": "1.2.0",
          "state": {
            "_model_module": "@jupyter-widgets/base",
            "_model_module_version": "1.2.0",
            "_model_name": "LayoutModel",
            "_view_count": null,
            "_view_module": "@jupyter-widgets/base",
            "_view_module_version": "1.2.0",
            "_view_name": "LayoutView",
            "align_content": null,
            "align_items": null,
            "align_self": null,
            "border": null,
            "bottom": null,
            "display": null,
            "flex": null,
            "flex_flow": null,
            "grid_area": null,
            "grid_auto_columns": null,
            "grid_auto_flow": null,
            "grid_auto_rows": null,
            "grid_column": null,
            "grid_gap": null,
            "grid_row": null,
            "grid_template_areas": null,
            "grid_template_columns": null,
            "grid_template_rows": null,
            "height": null,
            "justify_content": null,
            "justify_items": null,
            "left": null,
            "margin": null,
            "max_height": null,
            "max_width": null,
            "min_height": null,
            "min_width": null,
            "object_fit": null,
            "object_position": null,
            "order": null,
            "overflow": null,
            "overflow_x": null,
            "overflow_y": null,
            "padding": null,
            "right": null,
            "top": null,
            "visibility": null,
            "width": null
          }
        },
        "7a32ddc6e0684d13b9a1e8ad48e97539": {
          "model_module": "@jupyter-widgets/base",
          "model_name": "LayoutModel",
          "model_module_version": "1.2.0",
          "state": {
            "_model_module": "@jupyter-widgets/base",
            "_model_module_version": "1.2.0",
            "_model_name": "LayoutModel",
            "_view_count": null,
            "_view_module": "@jupyter-widgets/base",
            "_view_module_version": "1.2.0",
            "_view_name": "LayoutView",
            "align_content": null,
            "align_items": null,
            "align_self": null,
            "border": null,
            "bottom": null,
            "display": null,
            "flex": null,
            "flex_flow": null,
            "grid_area": null,
            "grid_auto_columns": null,
            "grid_auto_flow": null,
            "grid_auto_rows": null,
            "grid_column": null,
            "grid_gap": null,
            "grid_row": null,
            "grid_template_areas": null,
            "grid_template_columns": null,
            "grid_template_rows": null,
            "height": null,
            "justify_content": null,
            "justify_items": null,
            "left": null,
            "margin": null,
            "max_height": null,
            "max_width": null,
            "min_height": null,
            "min_width": null,
            "object_fit": null,
            "object_position": null,
            "order": null,
            "overflow": null,
            "overflow_x": null,
            "overflow_y": null,
            "padding": null,
            "right": null,
            "top": null,
            "visibility": null,
            "width": null
          }
        },
        "832ab9a45c5e48b784d1fa4a5789a197": {
          "model_module": "@jupyter-widgets/controls",
          "model_name": "DescriptionStyleModel",
          "model_module_version": "1.5.0",
          "state": {
            "_model_module": "@jupyter-widgets/controls",
            "_model_module_version": "1.5.0",
            "_model_name": "DescriptionStyleModel",
            "_view_count": null,
            "_view_module": "@jupyter-widgets/base",
            "_view_module_version": "1.2.0",
            "_view_name": "StyleView",
            "description_width": ""
          }
        },
        "2458c6b1eafb4a37b9bc80b3d9552a04": {
          "model_module": "@jupyter-widgets/base",
          "model_name": "LayoutModel",
          "model_module_version": "1.2.0",
          "state": {
            "_model_module": "@jupyter-widgets/base",
            "_model_module_version": "1.2.0",
            "_model_name": "LayoutModel",
            "_view_count": null,
            "_view_module": "@jupyter-widgets/base",
            "_view_module_version": "1.2.0",
            "_view_name": "LayoutView",
            "align_content": null,
            "align_items": null,
            "align_self": null,
            "border": null,
            "bottom": null,
            "display": null,
            "flex": null,
            "flex_flow": null,
            "grid_area": null,
            "grid_auto_columns": null,
            "grid_auto_flow": null,
            "grid_auto_rows": null,
            "grid_column": null,
            "grid_gap": null,
            "grid_row": null,
            "grid_template_areas": null,
            "grid_template_columns": null,
            "grid_template_rows": null,
            "height": null,
            "justify_content": null,
            "justify_items": null,
            "left": null,
            "margin": null,
            "max_height": null,
            "max_width": null,
            "min_height": null,
            "min_width": null,
            "object_fit": null,
            "object_position": null,
            "order": null,
            "overflow": null,
            "overflow_x": null,
            "overflow_y": null,
            "padding": null,
            "right": null,
            "top": null,
            "visibility": null,
            "width": null
          }
        },
        "cb123bc432214068afd559fa389641de": {
          "model_module": "@jupyter-widgets/controls",
          "model_name": "ProgressStyleModel",
          "model_module_version": "1.5.0",
          "state": {
            "_model_module": "@jupyter-widgets/controls",
            "_model_module_version": "1.5.0",
            "_model_name": "ProgressStyleModel",
            "_view_count": null,
            "_view_module": "@jupyter-widgets/base",
            "_view_module_version": "1.2.0",
            "_view_name": "StyleView",
            "bar_color": null,
            "description_width": ""
          }
        },
        "7383bb94092c419d93ddb1b227e07960": {
          "model_module": "@jupyter-widgets/base",
          "model_name": "LayoutModel",
          "model_module_version": "1.2.0",
          "state": {
            "_model_module": "@jupyter-widgets/base",
            "_model_module_version": "1.2.0",
            "_model_name": "LayoutModel",
            "_view_count": null,
            "_view_module": "@jupyter-widgets/base",
            "_view_module_version": "1.2.0",
            "_view_name": "LayoutView",
            "align_content": null,
            "align_items": null,
            "align_self": null,
            "border": null,
            "bottom": null,
            "display": null,
            "flex": null,
            "flex_flow": null,
            "grid_area": null,
            "grid_auto_columns": null,
            "grid_auto_flow": null,
            "grid_auto_rows": null,
            "grid_column": null,
            "grid_gap": null,
            "grid_row": null,
            "grid_template_areas": null,
            "grid_template_columns": null,
            "grid_template_rows": null,
            "height": null,
            "justify_content": null,
            "justify_items": null,
            "left": null,
            "margin": null,
            "max_height": null,
            "max_width": null,
            "min_height": null,
            "min_width": null,
            "object_fit": null,
            "object_position": null,
            "order": null,
            "overflow": null,
            "overflow_x": null,
            "overflow_y": null,
            "padding": null,
            "right": null,
            "top": null,
            "visibility": null,
            "width": null
          }
        },
        "395d434312ee46d2bb0194efecc24eac": {
          "model_module": "@jupyter-widgets/controls",
          "model_name": "DescriptionStyleModel",
          "model_module_version": "1.5.0",
          "state": {
            "_model_module": "@jupyter-widgets/controls",
            "_model_module_version": "1.5.0",
            "_model_name": "DescriptionStyleModel",
            "_view_count": null,
            "_view_module": "@jupyter-widgets/base",
            "_view_module_version": "1.2.0",
            "_view_name": "StyleView",
            "description_width": ""
          }
        },
        "202fb208c6164986bdc3646a194abdef": {
          "model_module": "@jupyter-widgets/controls",
          "model_name": "HBoxModel",
          "model_module_version": "1.5.0",
          "state": {
            "_dom_classes": [],
            "_model_module": "@jupyter-widgets/controls",
            "_model_module_version": "1.5.0",
            "_model_name": "HBoxModel",
            "_view_count": null,
            "_view_module": "@jupyter-widgets/controls",
            "_view_module_version": "1.5.0",
            "_view_name": "HBoxView",
            "box_style": "",
            "children": [
              "IPY_MODEL_0d226677064b434dbb9892c05369176f",
              "IPY_MODEL_4d4cb6c3a0854e1a8054454c13d7bb93",
              "IPY_MODEL_a3bfab7b044d4e9f91138c22cdbebee2"
            ],
            "layout": "IPY_MODEL_f1f413c4156a4aff9ae3f1c7d5597527"
          }
        },
        "0d226677064b434dbb9892c05369176f": {
          "model_module": "@jupyter-widgets/controls",
          "model_name": "HTMLModel",
          "model_module_version": "1.5.0",
          "state": {
            "_dom_classes": [],
            "_model_module": "@jupyter-widgets/controls",
            "_model_module_version": "1.5.0",
            "_model_name": "HTMLModel",
            "_view_count": null,
            "_view_module": "@jupyter-widgets/controls",
            "_view_module_version": "1.5.0",
            "_view_name": "HTMLView",
            "description": "",
            "description_tooltip": null,
            "layout": "IPY_MODEL_a70feb9dd27e4d0b89ddf121f3d68923",
            "placeholder": "​",
            "style": "IPY_MODEL_031b803e920342f4ae520e44b08c4ed5",
            "value": "Downloading builder script: 100%"
          }
        },
        "4d4cb6c3a0854e1a8054454c13d7bb93": {
          "model_module": "@jupyter-widgets/controls",
          "model_name": "FloatProgressModel",
          "model_module_version": "1.5.0",
          "state": {
            "_dom_classes": [],
            "_model_module": "@jupyter-widgets/controls",
            "_model_module_version": "1.5.0",
            "_model_name": "FloatProgressModel",
            "_view_count": null,
            "_view_module": "@jupyter-widgets/controls",
            "_view_module_version": "1.5.0",
            "_view_name": "ProgressView",
            "bar_style": "success",
            "description": "",
            "description_tooltip": null,
            "layout": "IPY_MODEL_1830eb0a0fdf49fd9e743f721c422901",
            "max": 5937,
            "min": 0,
            "orientation": "horizontal",
            "style": "IPY_MODEL_fb2d7d4661d041deb7e621455bab99e4",
            "value": 5937
          }
        },
        "a3bfab7b044d4e9f91138c22cdbebee2": {
          "model_module": "@jupyter-widgets/controls",
          "model_name": "HTMLModel",
          "model_module_version": "1.5.0",
          "state": {
            "_dom_classes": [],
            "_model_module": "@jupyter-widgets/controls",
            "_model_module_version": "1.5.0",
            "_model_name": "HTMLModel",
            "_view_count": null,
            "_view_module": "@jupyter-widgets/controls",
            "_view_module_version": "1.5.0",
            "_view_name": "HTMLView",
            "description": "",
            "description_tooltip": null,
            "layout": "IPY_MODEL_ebe1d0735dfb43efb3bca7ede439877b",
            "placeholder": "​",
            "style": "IPY_MODEL_b2e73c69a1614fe88615947c414db77a",
            "value": " 5.94k/5.94k [00:00&lt;00:00, 124kB/s]"
          }
        },
        "f1f413c4156a4aff9ae3f1c7d5597527": {
          "model_module": "@jupyter-widgets/base",
          "model_name": "LayoutModel",
          "model_module_version": "1.2.0",
          "state": {
            "_model_module": "@jupyter-widgets/base",
            "_model_module_version": "1.2.0",
            "_model_name": "LayoutModel",
            "_view_count": null,
            "_view_module": "@jupyter-widgets/base",
            "_view_module_version": "1.2.0",
            "_view_name": "LayoutView",
            "align_content": null,
            "align_items": null,
            "align_self": null,
            "border": null,
            "bottom": null,
            "display": null,
            "flex": null,
            "flex_flow": null,
            "grid_area": null,
            "grid_auto_columns": null,
            "grid_auto_flow": null,
            "grid_auto_rows": null,
            "grid_column": null,
            "grid_gap": null,
            "grid_row": null,
            "grid_template_areas": null,
            "grid_template_columns": null,
            "grid_template_rows": null,
            "height": null,
            "justify_content": null,
            "justify_items": null,
            "left": null,
            "margin": null,
            "max_height": null,
            "max_width": null,
            "min_height": null,
            "min_width": null,
            "object_fit": null,
            "object_position": null,
            "order": null,
            "overflow": null,
            "overflow_x": null,
            "overflow_y": null,
            "padding": null,
            "right": null,
            "top": null,
            "visibility": null,
            "width": null
          }
        },
        "a70feb9dd27e4d0b89ddf121f3d68923": {
          "model_module": "@jupyter-widgets/base",
          "model_name": "LayoutModel",
          "model_module_version": "1.2.0",
          "state": {
            "_model_module": "@jupyter-widgets/base",
            "_model_module_version": "1.2.0",
            "_model_name": "LayoutModel",
            "_view_count": null,
            "_view_module": "@jupyter-widgets/base",
            "_view_module_version": "1.2.0",
            "_view_name": "LayoutView",
            "align_content": null,
            "align_items": null,
            "align_self": null,
            "border": null,
            "bottom": null,
            "display": null,
            "flex": null,
            "flex_flow": null,
            "grid_area": null,
            "grid_auto_columns": null,
            "grid_auto_flow": null,
            "grid_auto_rows": null,
            "grid_column": null,
            "grid_gap": null,
            "grid_row": null,
            "grid_template_areas": null,
            "grid_template_columns": null,
            "grid_template_rows": null,
            "height": null,
            "justify_content": null,
            "justify_items": null,
            "left": null,
            "margin": null,
            "max_height": null,
            "max_width": null,
            "min_height": null,
            "min_width": null,
            "object_fit": null,
            "object_position": null,
            "order": null,
            "overflow": null,
            "overflow_x": null,
            "overflow_y": null,
            "padding": null,
            "right": null,
            "top": null,
            "visibility": null,
            "width": null
          }
        },
        "031b803e920342f4ae520e44b08c4ed5": {
          "model_module": "@jupyter-widgets/controls",
          "model_name": "DescriptionStyleModel",
          "model_module_version": "1.5.0",
          "state": {
            "_model_module": "@jupyter-widgets/controls",
            "_model_module_version": "1.5.0",
            "_model_name": "DescriptionStyleModel",
            "_view_count": null,
            "_view_module": "@jupyter-widgets/base",
            "_view_module_version": "1.2.0",
            "_view_name": "StyleView",
            "description_width": ""
          }
        },
        "1830eb0a0fdf49fd9e743f721c422901": {
          "model_module": "@jupyter-widgets/base",
          "model_name": "LayoutModel",
          "model_module_version": "1.2.0",
          "state": {
            "_model_module": "@jupyter-widgets/base",
            "_model_module_version": "1.2.0",
            "_model_name": "LayoutModel",
            "_view_count": null,
            "_view_module": "@jupyter-widgets/base",
            "_view_module_version": "1.2.0",
            "_view_name": "LayoutView",
            "align_content": null,
            "align_items": null,
            "align_self": null,
            "border": null,
            "bottom": null,
            "display": null,
            "flex": null,
            "flex_flow": null,
            "grid_area": null,
            "grid_auto_columns": null,
            "grid_auto_flow": null,
            "grid_auto_rows": null,
            "grid_column": null,
            "grid_gap": null,
            "grid_row": null,
            "grid_template_areas": null,
            "grid_template_columns": null,
            "grid_template_rows": null,
            "height": null,
            "justify_content": null,
            "justify_items": null,
            "left": null,
            "margin": null,
            "max_height": null,
            "max_width": null,
            "min_height": null,
            "min_width": null,
            "object_fit": null,
            "object_position": null,
            "order": null,
            "overflow": null,
            "overflow_x": null,
            "overflow_y": null,
            "padding": null,
            "right": null,
            "top": null,
            "visibility": null,
            "width": null
          }
        },
        "fb2d7d4661d041deb7e621455bab99e4": {
          "model_module": "@jupyter-widgets/controls",
          "model_name": "ProgressStyleModel",
          "model_module_version": "1.5.0",
          "state": {
            "_model_module": "@jupyter-widgets/controls",
            "_model_module_version": "1.5.0",
            "_model_name": "ProgressStyleModel",
            "_view_count": null,
            "_view_module": "@jupyter-widgets/base",
            "_view_module_version": "1.2.0",
            "_view_name": "StyleView",
            "bar_color": null,
            "description_width": ""
          }
        },
        "ebe1d0735dfb43efb3bca7ede439877b": {
          "model_module": "@jupyter-widgets/base",
          "model_name": "LayoutModel",
          "model_module_version": "1.2.0",
          "state": {
            "_model_module": "@jupyter-widgets/base",
            "_model_module_version": "1.2.0",
            "_model_name": "LayoutModel",
            "_view_count": null,
            "_view_module": "@jupyter-widgets/base",
            "_view_module_version": "1.2.0",
            "_view_name": "LayoutView",
            "align_content": null,
            "align_items": null,
            "align_self": null,
            "border": null,
            "bottom": null,
            "display": null,
            "flex": null,
            "flex_flow": null,
            "grid_area": null,
            "grid_auto_columns": null,
            "grid_auto_flow": null,
            "grid_auto_rows": null,
            "grid_column": null,
            "grid_gap": null,
            "grid_row": null,
            "grid_template_areas": null,
            "grid_template_columns": null,
            "grid_template_rows": null,
            "height": null,
            "justify_content": null,
            "justify_items": null,
            "left": null,
            "margin": null,
            "max_height": null,
            "max_width": null,
            "min_height": null,
            "min_width": null,
            "object_fit": null,
            "object_position": null,
            "order": null,
            "overflow": null,
            "overflow_x": null,
            "overflow_y": null,
            "padding": null,
            "right": null,
            "top": null,
            "visibility": null,
            "width": null
          }
        },
        "b2e73c69a1614fe88615947c414db77a": {
          "model_module": "@jupyter-widgets/controls",
          "model_name": "DescriptionStyleModel",
          "model_module_version": "1.5.0",
          "state": {
            "_model_module": "@jupyter-widgets/controls",
            "_model_module_version": "1.5.0",
            "_model_name": "DescriptionStyleModel",
            "_view_count": null,
            "_view_module": "@jupyter-widgets/base",
            "_view_module_version": "1.2.0",
            "_view_name": "StyleView",
            "description_width": ""
          }
        },
        "603a5a85b26d4decb11f9e98bf72e600": {
          "model_module": "@jupyter-widgets/controls",
          "model_name": "HBoxModel",
          "model_module_version": "1.5.0",
          "state": {
            "_dom_classes": [],
            "_model_module": "@jupyter-widgets/controls",
            "_model_module_version": "1.5.0",
            "_model_name": "HBoxModel",
            "_view_count": null,
            "_view_module": "@jupyter-widgets/controls",
            "_view_module_version": "1.5.0",
            "_view_name": "HBoxView",
            "box_style": "",
            "children": [
              "IPY_MODEL_b344fc47a3754e6cba5353e802ee3050",
              "IPY_MODEL_ec025b3e80f14ba8b26656f3857abdc7",
              "IPY_MODEL_b345f79a9e354bf0bc69092cb577de54"
            ],
            "layout": "IPY_MODEL_411ae8f1565041fe9ba61a45f618c396"
          }
        },
        "b344fc47a3754e6cba5353e802ee3050": {
          "model_module": "@jupyter-widgets/controls",
          "model_name": "HTMLModel",
          "model_module_version": "1.5.0",
          "state": {
            "_dom_classes": [],
            "_model_module": "@jupyter-widgets/controls",
            "_model_module_version": "1.5.0",
            "_model_name": "HTMLModel",
            "_view_count": null,
            "_view_module": "@jupyter-widgets/controls",
            "_view_module_version": "1.5.0",
            "_view_name": "HTMLView",
            "description": "",
            "description_tooltip": null,
            "layout": "IPY_MODEL_d820465dd7934e7290048e936e9ccf8b",
            "placeholder": "​",
            "style": "IPY_MODEL_96707ba4894948679055466884c1e399",
            "value": "Downloading extra modules: "
          }
        },
        "ec025b3e80f14ba8b26656f3857abdc7": {
          "model_module": "@jupyter-widgets/controls",
          "model_name": "FloatProgressModel",
          "model_module_version": "1.5.0",
          "state": {
            "_dom_classes": [],
            "_model_module": "@jupyter-widgets/controls",
            "_model_module_version": "1.5.0",
            "_model_name": "FloatProgressModel",
            "_view_count": null,
            "_view_module": "@jupyter-widgets/controls",
            "_view_module_version": "1.5.0",
            "_view_name": "ProgressView",
            "bar_style": "success",
            "description": "",
            "description_tooltip": null,
            "layout": "IPY_MODEL_d1cdbf6a6d4640f2a7fa0722fd028a85",
            "max": 1554,
            "min": 0,
            "orientation": "horizontal",
            "style": "IPY_MODEL_da8b555b6c304be9b45351afeb13a645",
            "value": 1554
          }
        },
        "b345f79a9e354bf0bc69092cb577de54": {
          "model_module": "@jupyter-widgets/controls",
          "model_name": "HTMLModel",
          "model_module_version": "1.5.0",
          "state": {
            "_dom_classes": [],
            "_model_module": "@jupyter-widgets/controls",
            "_model_module_version": "1.5.0",
            "_model_name": "HTMLModel",
            "_view_count": null,
            "_view_module": "@jupyter-widgets/controls",
            "_view_module_version": "1.5.0",
            "_view_name": "HTMLView",
            "description": "",
            "description_tooltip": null,
            "layout": "IPY_MODEL_22983d097c534e80983b576865d7e184",
            "placeholder": "​",
            "style": "IPY_MODEL_dbc59066a2e84129bd23e60297548162",
            "value": " 4.07k/? [00:00&lt;00:00, 69.7kB/s]"
          }
        },
        "411ae8f1565041fe9ba61a45f618c396": {
          "model_module": "@jupyter-widgets/base",
          "model_name": "LayoutModel",
          "model_module_version": "1.2.0",
          "state": {
            "_model_module": "@jupyter-widgets/base",
            "_model_module_version": "1.2.0",
            "_model_name": "LayoutModel",
            "_view_count": null,
            "_view_module": "@jupyter-widgets/base",
            "_view_module_version": "1.2.0",
            "_view_name": "LayoutView",
            "align_content": null,
            "align_items": null,
            "align_self": null,
            "border": null,
            "bottom": null,
            "display": null,
            "flex": null,
            "flex_flow": null,
            "grid_area": null,
            "grid_auto_columns": null,
            "grid_auto_flow": null,
            "grid_auto_rows": null,
            "grid_column": null,
            "grid_gap": null,
            "grid_row": null,
            "grid_template_areas": null,
            "grid_template_columns": null,
            "grid_template_rows": null,
            "height": null,
            "justify_content": null,
            "justify_items": null,
            "left": null,
            "margin": null,
            "max_height": null,
            "max_width": null,
            "min_height": null,
            "min_width": null,
            "object_fit": null,
            "object_position": null,
            "order": null,
            "overflow": null,
            "overflow_x": null,
            "overflow_y": null,
            "padding": null,
            "right": null,
            "top": null,
            "visibility": null,
            "width": null
          }
        },
        "d820465dd7934e7290048e936e9ccf8b": {
          "model_module": "@jupyter-widgets/base",
          "model_name": "LayoutModel",
          "model_module_version": "1.2.0",
          "state": {
            "_model_module": "@jupyter-widgets/base",
            "_model_module_version": "1.2.0",
            "_model_name": "LayoutModel",
            "_view_count": null,
            "_view_module": "@jupyter-widgets/base",
            "_view_module_version": "1.2.0",
            "_view_name": "LayoutView",
            "align_content": null,
            "align_items": null,
            "align_self": null,
            "border": null,
            "bottom": null,
            "display": null,
            "flex": null,
            "flex_flow": null,
            "grid_area": null,
            "grid_auto_columns": null,
            "grid_auto_flow": null,
            "grid_auto_rows": null,
            "grid_column": null,
            "grid_gap": null,
            "grid_row": null,
            "grid_template_areas": null,
            "grid_template_columns": null,
            "grid_template_rows": null,
            "height": null,
            "justify_content": null,
            "justify_items": null,
            "left": null,
            "margin": null,
            "max_height": null,
            "max_width": null,
            "min_height": null,
            "min_width": null,
            "object_fit": null,
            "object_position": null,
            "order": null,
            "overflow": null,
            "overflow_x": null,
            "overflow_y": null,
            "padding": null,
            "right": null,
            "top": null,
            "visibility": null,
            "width": null
          }
        },
        "96707ba4894948679055466884c1e399": {
          "model_module": "@jupyter-widgets/controls",
          "model_name": "DescriptionStyleModel",
          "model_module_version": "1.5.0",
          "state": {
            "_model_module": "@jupyter-widgets/controls",
            "_model_module_version": "1.5.0",
            "_model_name": "DescriptionStyleModel",
            "_view_count": null,
            "_view_module": "@jupyter-widgets/base",
            "_view_module_version": "1.2.0",
            "_view_name": "StyleView",
            "description_width": ""
          }
        },
        "d1cdbf6a6d4640f2a7fa0722fd028a85": {
          "model_module": "@jupyter-widgets/base",
          "model_name": "LayoutModel",
          "model_module_version": "1.2.0",
          "state": {
            "_model_module": "@jupyter-widgets/base",
            "_model_module_version": "1.2.0",
            "_model_name": "LayoutModel",
            "_view_count": null,
            "_view_module": "@jupyter-widgets/base",
            "_view_module_version": "1.2.0",
            "_view_name": "LayoutView",
            "align_content": null,
            "align_items": null,
            "align_self": null,
            "border": null,
            "bottom": null,
            "display": null,
            "flex": null,
            "flex_flow": null,
            "grid_area": null,
            "grid_auto_columns": null,
            "grid_auto_flow": null,
            "grid_auto_rows": null,
            "grid_column": null,
            "grid_gap": null,
            "grid_row": null,
            "grid_template_areas": null,
            "grid_template_columns": null,
            "grid_template_rows": null,
            "height": null,
            "justify_content": null,
            "justify_items": null,
            "left": null,
            "margin": null,
            "max_height": null,
            "max_width": null,
            "min_height": null,
            "min_width": null,
            "object_fit": null,
            "object_position": null,
            "order": null,
            "overflow": null,
            "overflow_x": null,
            "overflow_y": null,
            "padding": null,
            "right": null,
            "top": null,
            "visibility": null,
            "width": null
          }
        },
        "da8b555b6c304be9b45351afeb13a645": {
          "model_module": "@jupyter-widgets/controls",
          "model_name": "ProgressStyleModel",
          "model_module_version": "1.5.0",
          "state": {
            "_model_module": "@jupyter-widgets/controls",
            "_model_module_version": "1.5.0",
            "_model_name": "ProgressStyleModel",
            "_view_count": null,
            "_view_module": "@jupyter-widgets/base",
            "_view_module_version": "1.2.0",
            "_view_name": "StyleView",
            "bar_color": null,
            "description_width": ""
          }
        },
        "22983d097c534e80983b576865d7e184": {
          "model_module": "@jupyter-widgets/base",
          "model_name": "LayoutModel",
          "model_module_version": "1.2.0",
          "state": {
            "_model_module": "@jupyter-widgets/base",
            "_model_module_version": "1.2.0",
            "_model_name": "LayoutModel",
            "_view_count": null,
            "_view_module": "@jupyter-widgets/base",
            "_view_module_version": "1.2.0",
            "_view_name": "LayoutView",
            "align_content": null,
            "align_items": null,
            "align_self": null,
            "border": null,
            "bottom": null,
            "display": null,
            "flex": null,
            "flex_flow": null,
            "grid_area": null,
            "grid_auto_columns": null,
            "grid_auto_flow": null,
            "grid_auto_rows": null,
            "grid_column": null,
            "grid_gap": null,
            "grid_row": null,
            "grid_template_areas": null,
            "grid_template_columns": null,
            "grid_template_rows": null,
            "height": null,
            "justify_content": null,
            "justify_items": null,
            "left": null,
            "margin": null,
            "max_height": null,
            "max_width": null,
            "min_height": null,
            "min_width": null,
            "object_fit": null,
            "object_position": null,
            "order": null,
            "overflow": null,
            "overflow_x": null,
            "overflow_y": null,
            "padding": null,
            "right": null,
            "top": null,
            "visibility": null,
            "width": null
          }
        },
        "dbc59066a2e84129bd23e60297548162": {
          "model_module": "@jupyter-widgets/controls",
          "model_name": "DescriptionStyleModel",
          "model_module_version": "1.5.0",
          "state": {
            "_model_module": "@jupyter-widgets/controls",
            "_model_module_version": "1.5.0",
            "_model_name": "DescriptionStyleModel",
            "_view_count": null,
            "_view_module": "@jupyter-widgets/base",
            "_view_module_version": "1.2.0",
            "_view_name": "StyleView",
            "description_width": ""
          }
        },
        "bdc320063cc644d59c717653790306f7": {
          "model_module": "@jupyter-widgets/controls",
          "model_name": "HBoxModel",
          "model_module_version": "1.5.0",
          "state": {
            "_dom_classes": [],
            "_model_module": "@jupyter-widgets/controls",
            "_model_module_version": "1.5.0",
            "_model_name": "HBoxModel",
            "_view_count": null,
            "_view_module": "@jupyter-widgets/controls",
            "_view_module_version": "1.5.0",
            "_view_name": "HBoxView",
            "box_style": "",
            "children": [
              "IPY_MODEL_2fd50024f66e46ebb9f37ff70eddd058",
              "IPY_MODEL_619834fe0866462fb7c91bf7d28a85dc",
              "IPY_MODEL_a2958c9c16644e77a00c7c6a8e6bc017"
            ],
            "layout": "IPY_MODEL_345e55ea24404c179a092fc5b895a15c"
          }
        },
        "2fd50024f66e46ebb9f37ff70eddd058": {
          "model_module": "@jupyter-widgets/controls",
          "model_name": "HTMLModel",
          "model_module_version": "1.5.0",
          "state": {
            "_dom_classes": [],
            "_model_module": "@jupyter-widgets/controls",
            "_model_module_version": "1.5.0",
            "_model_name": "HTMLModel",
            "_view_count": null,
            "_view_module": "@jupyter-widgets/controls",
            "_view_module_version": "1.5.0",
            "_view_name": "HTMLView",
            "description": "",
            "description_tooltip": null,
            "layout": "IPY_MODEL_0d5f431b01b34563a80034129ecfdb5d",
            "placeholder": "​",
            "style": "IPY_MODEL_0c35dcf4239a4a1ebf04526c00d809b6",
            "value": "Downloading extra modules: 100%"
          }
        },
        "619834fe0866462fb7c91bf7d28a85dc": {
          "model_module": "@jupyter-widgets/controls",
          "model_name": "FloatProgressModel",
          "model_module_version": "1.5.0",
          "state": {
            "_dom_classes": [],
            "_model_module": "@jupyter-widgets/controls",
            "_model_module_version": "1.5.0",
            "_model_name": "FloatProgressModel",
            "_view_count": null,
            "_view_module": "@jupyter-widgets/controls",
            "_view_module_version": "1.5.0",
            "_view_name": "ProgressView",
            "bar_style": "success",
            "description": "",
            "description_tooltip": null,
            "layout": "IPY_MODEL_54f7951317d649089b98f2444e438381",
            "max": 3344,
            "min": 0,
            "orientation": "horizontal",
            "style": "IPY_MODEL_fd97a7025545429ab1d8643a521a3e23",
            "value": 3344
          }
        },
        "a2958c9c16644e77a00c7c6a8e6bc017": {
          "model_module": "@jupyter-widgets/controls",
          "model_name": "HTMLModel",
          "model_module_version": "1.5.0",
          "state": {
            "_dom_classes": [],
            "_model_module": "@jupyter-widgets/controls",
            "_model_module_version": "1.5.0",
            "_model_name": "HTMLModel",
            "_view_count": null,
            "_view_module": "@jupyter-widgets/controls",
            "_view_module_version": "1.5.0",
            "_view_name": "HTMLView",
            "description": "",
            "description_tooltip": null,
            "layout": "IPY_MODEL_071789e6b69e48eeb863f13127f3d218",
            "placeholder": "​",
            "style": "IPY_MODEL_a178dbd848434127a3000b380de44caa",
            "value": " 3.34k/3.34k [00:00&lt;00:00, 94.2kB/s]"
          }
        },
        "345e55ea24404c179a092fc5b895a15c": {
          "model_module": "@jupyter-widgets/base",
          "model_name": "LayoutModel",
          "model_module_version": "1.2.0",
          "state": {
            "_model_module": "@jupyter-widgets/base",
            "_model_module_version": "1.2.0",
            "_model_name": "LayoutModel",
            "_view_count": null,
            "_view_module": "@jupyter-widgets/base",
            "_view_module_version": "1.2.0",
            "_view_name": "LayoutView",
            "align_content": null,
            "align_items": null,
            "align_self": null,
            "border": null,
            "bottom": null,
            "display": null,
            "flex": null,
            "flex_flow": null,
            "grid_area": null,
            "grid_auto_columns": null,
            "grid_auto_flow": null,
            "grid_auto_rows": null,
            "grid_column": null,
            "grid_gap": null,
            "grid_row": null,
            "grid_template_areas": null,
            "grid_template_columns": null,
            "grid_template_rows": null,
            "height": null,
            "justify_content": null,
            "justify_items": null,
            "left": null,
            "margin": null,
            "max_height": null,
            "max_width": null,
            "min_height": null,
            "min_width": null,
            "object_fit": null,
            "object_position": null,
            "order": null,
            "overflow": null,
            "overflow_x": null,
            "overflow_y": null,
            "padding": null,
            "right": null,
            "top": null,
            "visibility": null,
            "width": null
          }
        },
        "0d5f431b01b34563a80034129ecfdb5d": {
          "model_module": "@jupyter-widgets/base",
          "model_name": "LayoutModel",
          "model_module_version": "1.2.0",
          "state": {
            "_model_module": "@jupyter-widgets/base",
            "_model_module_version": "1.2.0",
            "_model_name": "LayoutModel",
            "_view_count": null,
            "_view_module": "@jupyter-widgets/base",
            "_view_module_version": "1.2.0",
            "_view_name": "LayoutView",
            "align_content": null,
            "align_items": null,
            "align_self": null,
            "border": null,
            "bottom": null,
            "display": null,
            "flex": null,
            "flex_flow": null,
            "grid_area": null,
            "grid_auto_columns": null,
            "grid_auto_flow": null,
            "grid_auto_rows": null,
            "grid_column": null,
            "grid_gap": null,
            "grid_row": null,
            "grid_template_areas": null,
            "grid_template_columns": null,
            "grid_template_rows": null,
            "height": null,
            "justify_content": null,
            "justify_items": null,
            "left": null,
            "margin": null,
            "max_height": null,
            "max_width": null,
            "min_height": null,
            "min_width": null,
            "object_fit": null,
            "object_position": null,
            "order": null,
            "overflow": null,
            "overflow_x": null,
            "overflow_y": null,
            "padding": null,
            "right": null,
            "top": null,
            "visibility": null,
            "width": null
          }
        },
        "0c35dcf4239a4a1ebf04526c00d809b6": {
          "model_module": "@jupyter-widgets/controls",
          "model_name": "DescriptionStyleModel",
          "model_module_version": "1.5.0",
          "state": {
            "_model_module": "@jupyter-widgets/controls",
            "_model_module_version": "1.5.0",
            "_model_name": "DescriptionStyleModel",
            "_view_count": null,
            "_view_module": "@jupyter-widgets/base",
            "_view_module_version": "1.2.0",
            "_view_name": "StyleView",
            "description_width": ""
          }
        },
        "54f7951317d649089b98f2444e438381": {
          "model_module": "@jupyter-widgets/base",
          "model_name": "LayoutModel",
          "model_module_version": "1.2.0",
          "state": {
            "_model_module": "@jupyter-widgets/base",
            "_model_module_version": "1.2.0",
            "_model_name": "LayoutModel",
            "_view_count": null,
            "_view_module": "@jupyter-widgets/base",
            "_view_module_version": "1.2.0",
            "_view_name": "LayoutView",
            "align_content": null,
            "align_items": null,
            "align_self": null,
            "border": null,
            "bottom": null,
            "display": null,
            "flex": null,
            "flex_flow": null,
            "grid_area": null,
            "grid_auto_columns": null,
            "grid_auto_flow": null,
            "grid_auto_rows": null,
            "grid_column": null,
            "grid_gap": null,
            "grid_row": null,
            "grid_template_areas": null,
            "grid_template_columns": null,
            "grid_template_rows": null,
            "height": null,
            "justify_content": null,
            "justify_items": null,
            "left": null,
            "margin": null,
            "max_height": null,
            "max_width": null,
            "min_height": null,
            "min_width": null,
            "object_fit": null,
            "object_position": null,
            "order": null,
            "overflow": null,
            "overflow_x": null,
            "overflow_y": null,
            "padding": null,
            "right": null,
            "top": null,
            "visibility": null,
            "width": null
          }
        },
        "fd97a7025545429ab1d8643a521a3e23": {
          "model_module": "@jupyter-widgets/controls",
          "model_name": "ProgressStyleModel",
          "model_module_version": "1.5.0",
          "state": {
            "_model_module": "@jupyter-widgets/controls",
            "_model_module_version": "1.5.0",
            "_model_name": "ProgressStyleModel",
            "_view_count": null,
            "_view_module": "@jupyter-widgets/base",
            "_view_module_version": "1.2.0",
            "_view_name": "StyleView",
            "bar_color": null,
            "description_width": ""
          }
        },
        "071789e6b69e48eeb863f13127f3d218": {
          "model_module": "@jupyter-widgets/base",
          "model_name": "LayoutModel",
          "model_module_version": "1.2.0",
          "state": {
            "_model_module": "@jupyter-widgets/base",
            "_model_module_version": "1.2.0",
            "_model_name": "LayoutModel",
            "_view_count": null,
            "_view_module": "@jupyter-widgets/base",
            "_view_module_version": "1.2.0",
            "_view_name": "LayoutView",
            "align_content": null,
            "align_items": null,
            "align_self": null,
            "border": null,
            "bottom": null,
            "display": null,
            "flex": null,
            "flex_flow": null,
            "grid_area": null,
            "grid_auto_columns": null,
            "grid_auto_flow": null,
            "grid_auto_rows": null,
            "grid_column": null,
            "grid_gap": null,
            "grid_row": null,
            "grid_template_areas": null,
            "grid_template_columns": null,
            "grid_template_rows": null,
            "height": null,
            "justify_content": null,
            "justify_items": null,
            "left": null,
            "margin": null,
            "max_height": null,
            "max_width": null,
            "min_height": null,
            "min_width": null,
            "object_fit": null,
            "object_position": null,
            "order": null,
            "overflow": null,
            "overflow_x": null,
            "overflow_y": null,
            "padding": null,
            "right": null,
            "top": null,
            "visibility": null,
            "width": null
          }
        },
        "a178dbd848434127a3000b380de44caa": {
          "model_module": "@jupyter-widgets/controls",
          "model_name": "DescriptionStyleModel",
          "model_module_version": "1.5.0",
          "state": {
            "_model_module": "@jupyter-widgets/controls",
            "_model_module_version": "1.5.0",
            "_model_name": "DescriptionStyleModel",
            "_view_count": null,
            "_view_module": "@jupyter-widgets/base",
            "_view_module_version": "1.2.0",
            "_view_name": "StyleView",
            "description_width": ""
          }
        }
      }
    }
  },
  "nbformat": 4,
  "nbformat_minor": 0
}