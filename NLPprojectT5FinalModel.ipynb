{
  "cells": [
    {
      "cell_type": "markdown",
      "metadata": {
        "id": "view-in-github",
        "colab_type": "text"
      },
      "source": [
        "<a href=\"https://colab.research.google.com/github/mehakhafeez/NLPprojectweek6/blob/main/NLPprojectT5FinalModel.ipynb\" target=\"_parent\"><img src=\"https://colab.research.google.com/assets/colab-badge.svg\" alt=\"Open In Colab\"/></a>"
      ]
    },
    {
      "cell_type": "code",
      "execution_count": 10,
      "metadata": {
        "colab": {
          "base_uri": "https://localhost:8080/"
        },
        "id": "sVVIKqO254kR",
        "outputId": "c2a84e15-fc63-42b9-9aa3-3bdf81731fc1"
      },
      "outputs": [
        {
          "output_type": "stream",
          "name": "stdout",
          "text": [
            "Requirement already satisfied: textblob in /usr/local/lib/python3.10/dist-packages (0.17.1)\n",
            "Requirement already satisfied: nltk in /usr/local/lib/python3.10/dist-packages (3.9.1)\n",
            "Requirement already satisfied: rouge-score in /usr/local/lib/python3.10/dist-packages (0.1.2)\n",
            "Requirement already satisfied: click in /usr/local/lib/python3.10/dist-packages (from nltk) (8.1.8)\n",
            "Requirement already satisfied: joblib in /usr/local/lib/python3.10/dist-packages (from nltk) (1.4.2)\n",
            "Requirement already satisfied: regex>=2021.8.3 in /usr/local/lib/python3.10/dist-packages (from nltk) (2024.11.6)\n",
            "Requirement already satisfied: tqdm in /usr/local/lib/python3.10/dist-packages (from nltk) (4.67.1)\n",
            "Requirement already satisfied: absl-py in /usr/local/lib/python3.10/dist-packages (from rouge-score) (1.4.0)\n",
            "Requirement already satisfied: numpy in /usr/local/lib/python3.10/dist-packages (from rouge-score) (1.26.4)\n",
            "Requirement already satisfied: six>=1.14.0 in /usr/local/lib/python3.10/dist-packages (from rouge-score) (1.17.0)\n"
          ]
        }
      ],
      "source": [
        "pip install textblob nltk rouge-score\n"
      ]
    },
    {
      "cell_type": "code",
      "execution_count": 11,
      "metadata": {
        "colab": {
          "base_uri": "https://localhost:8080/"
        },
        "id": "haKB7C9U54kW",
        "outputId": "582b86ea-a4f4-4c67-96b5-968772c15282"
      },
      "outputs": [
        {
          "output_type": "stream",
          "name": "stdout",
          "text": [
            "Requirement already satisfied: rouge-score in /usr/local/lib/python3.10/dist-packages (0.1.2)\n",
            "Requirement already satisfied: absl-py in /usr/local/lib/python3.10/dist-packages (from rouge-score) (1.4.0)\n",
            "Requirement already satisfied: nltk in /usr/local/lib/python3.10/dist-packages (from rouge-score) (3.9.1)\n",
            "Requirement already satisfied: numpy in /usr/local/lib/python3.10/dist-packages (from rouge-score) (1.26.4)\n",
            "Requirement already satisfied: six>=1.14.0 in /usr/local/lib/python3.10/dist-packages (from rouge-score) (1.17.0)\n",
            "Requirement already satisfied: click in /usr/local/lib/python3.10/dist-packages (from nltk->rouge-score) (8.1.8)\n",
            "Requirement already satisfied: joblib in /usr/local/lib/python3.10/dist-packages (from nltk->rouge-score) (1.4.2)\n",
            "Requirement already satisfied: regex>=2021.8.3 in /usr/local/lib/python3.10/dist-packages (from nltk->rouge-score) (2024.11.6)\n",
            "Requirement already satisfied: tqdm in /usr/local/lib/python3.10/dist-packages (from nltk->rouge-score) (4.67.1)\n"
          ]
        }
      ],
      "source": [
        "pip install rouge-score"
      ]
    },
    {
      "cell_type": "code",
      "execution_count": 12,
      "metadata": {
        "colab": {
          "base_uri": "https://localhost:8080/"
        },
        "id": "7PmholTM54kX",
        "outputId": "dd03a159-4186-4f95-ea6b-1cf887ae4dc0"
      },
      "outputs": [
        {
          "output_type": "stream",
          "name": "stdout",
          "text": [
            "Requirement already satisfied: transformers==4.23.0 in /usr/local/lib/python3.10/dist-packages (4.23.0)\n",
            "Requirement already satisfied: filelock in /usr/local/lib/python3.10/dist-packages (from transformers==4.23.0) (3.16.1)\n",
            "Requirement already satisfied: huggingface-hub<1.0,>=0.10.0 in /usr/local/lib/python3.10/dist-packages (from transformers==4.23.0) (0.27.1)\n",
            "Requirement already satisfied: numpy>=1.17 in /usr/local/lib/python3.10/dist-packages (from transformers==4.23.0) (1.26.4)\n",
            "Requirement already satisfied: packaging>=20.0 in /usr/local/lib/python3.10/dist-packages (from transformers==4.23.0) (24.2)\n",
            "Requirement already satisfied: pyyaml>=5.1 in /usr/local/lib/python3.10/dist-packages (from transformers==4.23.0) (6.0.2)\n",
            "Requirement already satisfied: regex!=2019.12.17 in /usr/local/lib/python3.10/dist-packages (from transformers==4.23.0) (2024.11.6)\n",
            "Requirement already satisfied: requests in /usr/local/lib/python3.10/dist-packages (from transformers==4.23.0) (2.32.3)\n",
            "Requirement already satisfied: tokenizers!=0.11.3,<0.14,>=0.11.1 in /usr/local/lib/python3.10/dist-packages (from transformers==4.23.0) (0.13.3)\n",
            "Requirement already satisfied: tqdm>=4.27 in /usr/local/lib/python3.10/dist-packages (from transformers==4.23.0) (4.67.1)\n",
            "Requirement already satisfied: fsspec>=2023.5.0 in /usr/local/lib/python3.10/dist-packages (from huggingface-hub<1.0,>=0.10.0->transformers==4.23.0) (2024.9.0)\n",
            "Requirement already satisfied: typing-extensions>=3.7.4.3 in /usr/local/lib/python3.10/dist-packages (from huggingface-hub<1.0,>=0.10.0->transformers==4.23.0) (4.12.2)\n",
            "Requirement already satisfied: charset-normalizer<4,>=2 in /usr/local/lib/python3.10/dist-packages (from requests->transformers==4.23.0) (3.4.1)\n",
            "Requirement already satisfied: idna<4,>=2.5 in /usr/local/lib/python3.10/dist-packages (from requests->transformers==4.23.0) (3.10)\n",
            "Requirement already satisfied: urllib3<3,>=1.21.1 in /usr/local/lib/python3.10/dist-packages (from requests->transformers==4.23.0) (2.3.0)\n",
            "Requirement already satisfied: certifi>=2017.4.17 in /usr/local/lib/python3.10/dist-packages (from requests->transformers==4.23.0) (2024.12.14)\n"
          ]
        }
      ],
      "source": [
        "pip install transformers==4.23.0"
      ]
    },
    {
      "cell_type": "code",
      "execution_count": 13,
      "metadata": {
        "colab": {
          "base_uri": "https://localhost:8080/"
        },
        "id": "ZtOeYd-i54kY",
        "outputId": "565ca2b4-0d3e-446d-d281-2b964bb2d4b7"
      },
      "outputs": [
        {
          "output_type": "stream",
          "name": "stdout",
          "text": [
            "Requirement already satisfied: sentencepiece==0.1.96 in /usr/local/lib/python3.10/dist-packages (0.1.96)\n"
          ]
        }
      ],
      "source": [
        "pip install sentencepiece==0.1.96"
      ]
    },
    {
      "cell_type": "code",
      "source": [
        "!pip install datasets"
      ],
      "metadata": {
        "colab": {
          "base_uri": "https://localhost:8080/"
        },
        "id": "_Pxu_M7JI0v3",
        "outputId": "d2e81825-5825-46ec-9de9-a5d594fd26b1"
      },
      "execution_count": 14,
      "outputs": [
        {
          "output_type": "stream",
          "name": "stdout",
          "text": [
            "Requirement already satisfied: datasets in /usr/local/lib/python3.10/dist-packages (3.2.0)\n",
            "Requirement already satisfied: filelock in /usr/local/lib/python3.10/dist-packages (from datasets) (3.16.1)\n",
            "Requirement already satisfied: numpy>=1.17 in /usr/local/lib/python3.10/dist-packages (from datasets) (1.26.4)\n",
            "Requirement already satisfied: pyarrow>=15.0.0 in /usr/local/lib/python3.10/dist-packages (from datasets) (17.0.0)\n",
            "Requirement already satisfied: dill<0.3.9,>=0.3.0 in /usr/local/lib/python3.10/dist-packages (from datasets) (0.3.8)\n",
            "Requirement already satisfied: pandas in /usr/local/lib/python3.10/dist-packages (from datasets) (2.2.2)\n",
            "Requirement already satisfied: requests>=2.32.2 in /usr/local/lib/python3.10/dist-packages (from datasets) (2.32.3)\n",
            "Requirement already satisfied: tqdm>=4.66.3 in /usr/local/lib/python3.10/dist-packages (from datasets) (4.67.1)\n",
            "Requirement already satisfied: xxhash in /usr/local/lib/python3.10/dist-packages (from datasets) (3.5.0)\n",
            "Requirement already satisfied: multiprocess<0.70.17 in /usr/local/lib/python3.10/dist-packages (from datasets) (0.70.16)\n",
            "Requirement already satisfied: fsspec<=2024.9.0,>=2023.1.0 in /usr/local/lib/python3.10/dist-packages (from fsspec[http]<=2024.9.0,>=2023.1.0->datasets) (2024.9.0)\n",
            "Requirement already satisfied: aiohttp in /usr/local/lib/python3.10/dist-packages (from datasets) (3.11.11)\n",
            "Requirement already satisfied: huggingface-hub>=0.23.0 in /usr/local/lib/python3.10/dist-packages (from datasets) (0.27.1)\n",
            "Requirement already satisfied: packaging in /usr/local/lib/python3.10/dist-packages (from datasets) (24.2)\n",
            "Requirement already satisfied: pyyaml>=5.1 in /usr/local/lib/python3.10/dist-packages (from datasets) (6.0.2)\n",
            "Requirement already satisfied: aiohappyeyeballs>=2.3.0 in /usr/local/lib/python3.10/dist-packages (from aiohttp->datasets) (2.4.4)\n",
            "Requirement already satisfied: aiosignal>=1.1.2 in /usr/local/lib/python3.10/dist-packages (from aiohttp->datasets) (1.3.2)\n",
            "Requirement already satisfied: async-timeout<6.0,>=4.0 in /usr/local/lib/python3.10/dist-packages (from aiohttp->datasets) (4.0.3)\n",
            "Requirement already satisfied: attrs>=17.3.0 in /usr/local/lib/python3.10/dist-packages (from aiohttp->datasets) (24.3.0)\n",
            "Requirement already satisfied: frozenlist>=1.1.1 in /usr/local/lib/python3.10/dist-packages (from aiohttp->datasets) (1.5.0)\n",
            "Requirement already satisfied: multidict<7.0,>=4.5 in /usr/local/lib/python3.10/dist-packages (from aiohttp->datasets) (6.1.0)\n",
            "Requirement already satisfied: propcache>=0.2.0 in /usr/local/lib/python3.10/dist-packages (from aiohttp->datasets) (0.2.1)\n",
            "Requirement already satisfied: yarl<2.0,>=1.17.0 in /usr/local/lib/python3.10/dist-packages (from aiohttp->datasets) (1.18.3)\n",
            "Requirement already satisfied: typing-extensions>=3.7.4.3 in /usr/local/lib/python3.10/dist-packages (from huggingface-hub>=0.23.0->datasets) (4.12.2)\n",
            "Requirement already satisfied: charset-normalizer<4,>=2 in /usr/local/lib/python3.10/dist-packages (from requests>=2.32.2->datasets) (3.4.1)\n",
            "Requirement already satisfied: idna<4,>=2.5 in /usr/local/lib/python3.10/dist-packages (from requests>=2.32.2->datasets) (3.10)\n",
            "Requirement already satisfied: urllib3<3,>=1.21.1 in /usr/local/lib/python3.10/dist-packages (from requests>=2.32.2->datasets) (2.3.0)\n",
            "Requirement already satisfied: certifi>=2017.4.17 in /usr/local/lib/python3.10/dist-packages (from requests>=2.32.2->datasets) (2024.12.14)\n",
            "Requirement already satisfied: python-dateutil>=2.8.2 in /usr/local/lib/python3.10/dist-packages (from pandas->datasets) (2.8.2)\n",
            "Requirement already satisfied: pytz>=2020.1 in /usr/local/lib/python3.10/dist-packages (from pandas->datasets) (2024.2)\n",
            "Requirement already satisfied: tzdata>=2022.7 in /usr/local/lib/python3.10/dist-packages (from pandas->datasets) (2024.2)\n",
            "Requirement already satisfied: six>=1.5 in /usr/local/lib/python3.10/dist-packages (from python-dateutil>=2.8.2->pandas->datasets) (1.17.0)\n"
          ]
        }
      ]
    },
    {
      "cell_type": "code",
      "source": [
        "!pip install datasets --upgrade\n",
        "!pip install evaluate"
      ],
      "metadata": {
        "colab": {
          "base_uri": "https://localhost:8080/"
        },
        "id": "X2emT2ZsS2fT",
        "outputId": "947a8ba7-a6ee-4a14-a52a-68cff3844106"
      },
      "execution_count": 15,
      "outputs": [
        {
          "output_type": "stream",
          "name": "stdout",
          "text": [
            "Requirement already satisfied: datasets in /usr/local/lib/python3.10/dist-packages (3.2.0)\n",
            "Requirement already satisfied: filelock in /usr/local/lib/python3.10/dist-packages (from datasets) (3.16.1)\n",
            "Requirement already satisfied: numpy>=1.17 in /usr/local/lib/python3.10/dist-packages (from datasets) (1.26.4)\n",
            "Requirement already satisfied: pyarrow>=15.0.0 in /usr/local/lib/python3.10/dist-packages (from datasets) (17.0.0)\n",
            "Requirement already satisfied: dill<0.3.9,>=0.3.0 in /usr/local/lib/python3.10/dist-packages (from datasets) (0.3.8)\n",
            "Requirement already satisfied: pandas in /usr/local/lib/python3.10/dist-packages (from datasets) (2.2.2)\n",
            "Requirement already satisfied: requests>=2.32.2 in /usr/local/lib/python3.10/dist-packages (from datasets) (2.32.3)\n",
            "Requirement already satisfied: tqdm>=4.66.3 in /usr/local/lib/python3.10/dist-packages (from datasets) (4.67.1)\n",
            "Requirement already satisfied: xxhash in /usr/local/lib/python3.10/dist-packages (from datasets) (3.5.0)\n",
            "Requirement already satisfied: multiprocess<0.70.17 in /usr/local/lib/python3.10/dist-packages (from datasets) (0.70.16)\n",
            "Requirement already satisfied: fsspec<=2024.9.0,>=2023.1.0 in /usr/local/lib/python3.10/dist-packages (from fsspec[http]<=2024.9.0,>=2023.1.0->datasets) (2024.9.0)\n",
            "Requirement already satisfied: aiohttp in /usr/local/lib/python3.10/dist-packages (from datasets) (3.11.11)\n",
            "Requirement already satisfied: huggingface-hub>=0.23.0 in /usr/local/lib/python3.10/dist-packages (from datasets) (0.27.1)\n",
            "Requirement already satisfied: packaging in /usr/local/lib/python3.10/dist-packages (from datasets) (24.2)\n",
            "Requirement already satisfied: pyyaml>=5.1 in /usr/local/lib/python3.10/dist-packages (from datasets) (6.0.2)\n",
            "Requirement already satisfied: aiohappyeyeballs>=2.3.0 in /usr/local/lib/python3.10/dist-packages (from aiohttp->datasets) (2.4.4)\n",
            "Requirement already satisfied: aiosignal>=1.1.2 in /usr/local/lib/python3.10/dist-packages (from aiohttp->datasets) (1.3.2)\n",
            "Requirement already satisfied: async-timeout<6.0,>=4.0 in /usr/local/lib/python3.10/dist-packages (from aiohttp->datasets) (4.0.3)\n",
            "Requirement already satisfied: attrs>=17.3.0 in /usr/local/lib/python3.10/dist-packages (from aiohttp->datasets) (24.3.0)\n",
            "Requirement already satisfied: frozenlist>=1.1.1 in /usr/local/lib/python3.10/dist-packages (from aiohttp->datasets) (1.5.0)\n",
            "Requirement already satisfied: multidict<7.0,>=4.5 in /usr/local/lib/python3.10/dist-packages (from aiohttp->datasets) (6.1.0)\n",
            "Requirement already satisfied: propcache>=0.2.0 in /usr/local/lib/python3.10/dist-packages (from aiohttp->datasets) (0.2.1)\n",
            "Requirement already satisfied: yarl<2.0,>=1.17.0 in /usr/local/lib/python3.10/dist-packages (from aiohttp->datasets) (1.18.3)\n",
            "Requirement already satisfied: typing-extensions>=3.7.4.3 in /usr/local/lib/python3.10/dist-packages (from huggingface-hub>=0.23.0->datasets) (4.12.2)\n",
            "Requirement already satisfied: charset-normalizer<4,>=2 in /usr/local/lib/python3.10/dist-packages (from requests>=2.32.2->datasets) (3.4.1)\n",
            "Requirement already satisfied: idna<4,>=2.5 in /usr/local/lib/python3.10/dist-packages (from requests>=2.32.2->datasets) (3.10)\n",
            "Requirement already satisfied: urllib3<3,>=1.21.1 in /usr/local/lib/python3.10/dist-packages (from requests>=2.32.2->datasets) (2.3.0)\n",
            "Requirement already satisfied: certifi>=2017.4.17 in /usr/local/lib/python3.10/dist-packages (from requests>=2.32.2->datasets) (2024.12.14)\n",
            "Requirement already satisfied: python-dateutil>=2.8.2 in /usr/local/lib/python3.10/dist-packages (from pandas->datasets) (2.8.2)\n",
            "Requirement already satisfied: pytz>=2020.1 in /usr/local/lib/python3.10/dist-packages (from pandas->datasets) (2024.2)\n",
            "Requirement already satisfied: tzdata>=2022.7 in /usr/local/lib/python3.10/dist-packages (from pandas->datasets) (2024.2)\n",
            "Requirement already satisfied: six>=1.5 in /usr/local/lib/python3.10/dist-packages (from python-dateutil>=2.8.2->pandas->datasets) (1.17.0)\n",
            "Requirement already satisfied: evaluate in /usr/local/lib/python3.10/dist-packages (0.4.3)\n",
            "Requirement already satisfied: datasets>=2.0.0 in /usr/local/lib/python3.10/dist-packages (from evaluate) (3.2.0)\n",
            "Requirement already satisfied: numpy>=1.17 in /usr/local/lib/python3.10/dist-packages (from evaluate) (1.26.4)\n",
            "Requirement already satisfied: dill in /usr/local/lib/python3.10/dist-packages (from evaluate) (0.3.8)\n",
            "Requirement already satisfied: pandas in /usr/local/lib/python3.10/dist-packages (from evaluate) (2.2.2)\n",
            "Requirement already satisfied: requests>=2.19.0 in /usr/local/lib/python3.10/dist-packages (from evaluate) (2.32.3)\n",
            "Requirement already satisfied: tqdm>=4.62.1 in /usr/local/lib/python3.10/dist-packages (from evaluate) (4.67.1)\n",
            "Requirement already satisfied: xxhash in /usr/local/lib/python3.10/dist-packages (from evaluate) (3.5.0)\n",
            "Requirement already satisfied: multiprocess in /usr/local/lib/python3.10/dist-packages (from evaluate) (0.70.16)\n",
            "Requirement already satisfied: fsspec>=2021.05.0 in /usr/local/lib/python3.10/dist-packages (from fsspec[http]>=2021.05.0->evaluate) (2024.9.0)\n",
            "Requirement already satisfied: huggingface-hub>=0.7.0 in /usr/local/lib/python3.10/dist-packages (from evaluate) (0.27.1)\n",
            "Requirement already satisfied: packaging in /usr/local/lib/python3.10/dist-packages (from evaluate) (24.2)\n",
            "Requirement already satisfied: filelock in /usr/local/lib/python3.10/dist-packages (from datasets>=2.0.0->evaluate) (3.16.1)\n",
            "Requirement already satisfied: pyarrow>=15.0.0 in /usr/local/lib/python3.10/dist-packages (from datasets>=2.0.0->evaluate) (17.0.0)\n",
            "Requirement already satisfied: aiohttp in /usr/local/lib/python3.10/dist-packages (from datasets>=2.0.0->evaluate) (3.11.11)\n",
            "Requirement already satisfied: pyyaml>=5.1 in /usr/local/lib/python3.10/dist-packages (from datasets>=2.0.0->evaluate) (6.0.2)\n",
            "Requirement already satisfied: typing-extensions>=3.7.4.3 in /usr/local/lib/python3.10/dist-packages (from huggingface-hub>=0.7.0->evaluate) (4.12.2)\n",
            "Requirement already satisfied: charset-normalizer<4,>=2 in /usr/local/lib/python3.10/dist-packages (from requests>=2.19.0->evaluate) (3.4.1)\n",
            "Requirement already satisfied: idna<4,>=2.5 in /usr/local/lib/python3.10/dist-packages (from requests>=2.19.0->evaluate) (3.10)\n",
            "Requirement already satisfied: urllib3<3,>=1.21.1 in /usr/local/lib/python3.10/dist-packages (from requests>=2.19.0->evaluate) (2.3.0)\n",
            "Requirement already satisfied: certifi>=2017.4.17 in /usr/local/lib/python3.10/dist-packages (from requests>=2.19.0->evaluate) (2024.12.14)\n",
            "Requirement already satisfied: python-dateutil>=2.8.2 in /usr/local/lib/python3.10/dist-packages (from pandas->evaluate) (2.8.2)\n",
            "Requirement already satisfied: pytz>=2020.1 in /usr/local/lib/python3.10/dist-packages (from pandas->evaluate) (2024.2)\n",
            "Requirement already satisfied: tzdata>=2022.7 in /usr/local/lib/python3.10/dist-packages (from pandas->evaluate) (2024.2)\n",
            "Requirement already satisfied: aiohappyeyeballs>=2.3.0 in /usr/local/lib/python3.10/dist-packages (from aiohttp->datasets>=2.0.0->evaluate) (2.4.4)\n",
            "Requirement already satisfied: aiosignal>=1.1.2 in /usr/local/lib/python3.10/dist-packages (from aiohttp->datasets>=2.0.0->evaluate) (1.3.2)\n",
            "Requirement already satisfied: async-timeout<6.0,>=4.0 in /usr/local/lib/python3.10/dist-packages (from aiohttp->datasets>=2.0.0->evaluate) (4.0.3)\n",
            "Requirement already satisfied: attrs>=17.3.0 in /usr/local/lib/python3.10/dist-packages (from aiohttp->datasets>=2.0.0->evaluate) (24.3.0)\n",
            "Requirement already satisfied: frozenlist>=1.1.1 in /usr/local/lib/python3.10/dist-packages (from aiohttp->datasets>=2.0.0->evaluate) (1.5.0)\n",
            "Requirement already satisfied: multidict<7.0,>=4.5 in /usr/local/lib/python3.10/dist-packages (from aiohttp->datasets>=2.0.0->evaluate) (6.1.0)\n",
            "Requirement already satisfied: propcache>=0.2.0 in /usr/local/lib/python3.10/dist-packages (from aiohttp->datasets>=2.0.0->evaluate) (0.2.1)\n",
            "Requirement already satisfied: yarl<2.0,>=1.17.0 in /usr/local/lib/python3.10/dist-packages (from aiohttp->datasets>=2.0.0->evaluate) (1.18.3)\n",
            "Requirement already satisfied: six>=1.5 in /usr/local/lib/python3.10/dist-packages (from python-dateutil>=2.8.2->pandas->evaluate) (1.17.0)\n"
          ]
        }
      ]
    },
    {
      "cell_type": "code",
      "execution_count": 16,
      "metadata": {
        "colab": {
          "base_uri": "https://localhost:8080/"
        },
        "id": "Nyw9DLOu54kY",
        "outputId": "b24d57fa-b275-4b9f-c56e-d39dd6a477f8"
      },
      "outputs": [
        {
          "output_type": "stream",
          "name": "stderr",
          "text": [
            "[nltk_data] Downloading package punkt to /root/nltk_data...\n",
            "[nltk_data]   Package punkt is already up-to-date!\n"
          ]
        }
      ],
      "source": [
        "import pandas as pd\n",
        "import numpy as np\n",
        "from sklearn.feature_extraction.text import TfidfVectorizer\n",
        "from sklearn.cluster import KMeans\n",
        "from sklearn.metrics import accuracy_score, precision_score, recall_score, f1_score, confusion_matrix, classification_report\n",
        "from sklearn.model_selection import train_test_split\n",
        "from sklearn.linear_model import LogisticRegression\n",
        "from sklearn.pipeline import make_pipeline\n",
        "from sklearn.preprocessing import StandardScaler\n",
        "from sklearn.decomposition import PCA\n",
        "from sklearn.naive_bayes import MultinomialNB\n",
        "from textblob import TextBlob\n",
        "from nltk.translate.bleu_score import sentence_bleu\n",
        "from rouge_score import rouge_scorer\n",
        "import matplotlib.pyplot as plt\n",
        "import seaborn as sns\n",
        "from transformers import T5Tokenizer, T5ForConditionalGeneration, Trainer, TrainingArguments\n",
        "import torch\n",
        "import nltk\n",
        "nltk.download('punkt')\n",
        "import seaborn as sns\n",
        "from tqdm import tqdm\n",
        "from torch.utils.data import DataLoader\n",
        "from torch.optim import AdamW\n",
        "from textblob import TextBlob\n",
        "from rouge_score import rouge_scorer\n",
        "import re\n",
        "from nltk.translate.bleu_score import sentence_bleu\n",
        "# Preprocess the text (remove stopwords, special characters, etc.)\n",
        "from nltk.corpus import stopwords\n",
        "from nltk.stem import PorterStemmer"
      ]
    },
    {
      "cell_type": "code",
      "source": [
        "# Download NLTK resources\n",
        "nltk.download('stopwords')\n",
        "nltk.download('punkt')"
      ],
      "metadata": {
        "colab": {
          "base_uri": "https://localhost:8080/"
        },
        "id": "gxbW0mML-yj8",
        "outputId": "4e034120-7eb2-4138-b178-7fd492778e4c"
      },
      "execution_count": 17,
      "outputs": [
        {
          "output_type": "stream",
          "name": "stderr",
          "text": [
            "[nltk_data] Downloading package stopwords to /root/nltk_data...\n",
            "[nltk_data]   Package stopwords is already up-to-date!\n",
            "[nltk_data] Downloading package punkt to /root/nltk_data...\n",
            "[nltk_data]   Package punkt is already up-to-date!\n"
          ]
        },
        {
          "output_type": "execute_result",
          "data": {
            "text/plain": [
              "True"
            ]
          },
          "metadata": {},
          "execution_count": 17
        }
      ]
    },
    {
      "cell_type": "code",
      "execution_count": 21,
      "metadata": {
        "id": "Tr72MGsi54kZ"
      },
      "outputs": [],
      "source": [
        "df1 = pd.read_csv('/content/1429_1.csv', quoting=3, on_bad_lines='skip')\n",
        "# quoting=3 tells pandas to use the QUOTE_NONE strategy. This means that pandas will not treat any character as a quote character. This way if there are unclosed quotes, it ignores them.\n",
        "# on_bad_lines='skip' replaces the deprecated 'error_bad_lines=False' to skip bad lines.\n",
        "df2 = pd.read_csv('/content/Datafiniti_Amazon_Consumer_Reviews_of_Amazon_Products.csv', quoting=3, on_bad_lines='skip')\n",
        "df3 = pd.read_csv('/content/Datafiniti_Amazon_Consumer_Reviews_of_Amazon_Products_May19.csv', quoting=3, on_bad_lines='skip')"
      ]
    },
    {
      "cell_type": "code",
      "execution_count": 22,
      "metadata": {
        "id": "GpAqPs0l54ka"
      },
      "outputs": [],
      "source": [
        "# Combine datasets into one\n",
        "df = pd.concat([df1, df2, df3], ignore_index=True)"
      ]
    },
    {
      "cell_type": "code",
      "source": [
        "# Preprocess the text (remove stopwords, special characters, etc.)\n",
        "\n",
        "def preprocess_text(text):\n",
        "    # Check if the text is a string before processing\n",
        "    if isinstance(text, str):\n",
        "        text = text.lower()\n",
        "        text = re.sub(r'\\d+', '', text)\n",
        "        text = re.sub(r'[^\\w\\s]', '', text)\n",
        "        text = ' '.join([word for word in text.split() if word not in stopwords.words('english')]) # Use stopwords\n",
        "        return text\n",
        "    # If not a string (e.g., float), return it as is or handle it differently\n",
        "    else:\n",
        "        return str(text)  # Or handle NaN values appropriately# --------------------------- Step 2: Data Preprocessing ---------------------------\n",
        "def clean_text(text):\n",
        "    \"\"\"Clean the review text by lowercasing, removing special characters, stopwords, and stemming.\"\"\"\n",
        "    # Check if the input is a string\n",
        "    if isinstance(text, str):\n",
        "        text = text.lower()\n",
        "        text = re.sub(r'[^a-zA-Z\\s]', '', text)  # Remove non-alphabetic characters\n",
        "        text = ' '.join(text.split())  # Remove extra spaces\n",
        "        stop_words = set(stopwords.words('english')) # Use stopwords\n",
        "        text = ' '.join([word for word in text.split() if word not in stop_words])  # Remove stopwords\n",
        "        stemmer = PorterStemmer() # Use PorterStemmer\n",
        "        text = ' '.join([stemmer.stem(word) for word in text.split()])  # Apply stemming\n",
        "        return text\n",
        "    # If not a string, convert it to an empty string or handle it as needed\n",
        "    else:\n",
        "        return ''  # or return str(text) or handle NaN values appropriately"
      ],
      "metadata": {
        "id": "9dqvG5M_AD5n"
      },
      "execution_count": 23,
      "outputs": []
    },
    {
      "cell_type": "code",
      "source": [
        "print(df.columns)"
      ],
      "metadata": {
        "colab": {
          "base_uri": "https://localhost:8080/"
        },
        "id": "RT9YGZ0C3T_i",
        "outputId": "98524b37-11f2-45f5-8cce-6209ab95816b"
      },
      "execution_count": 24,
      "outputs": [
        {
          "output_type": "stream",
          "name": "stdout",
          "text": [
            "Index(['id', 'name', 'asins', 'brand', 'categories', 'keys', 'manufacturer',\n",
            "       'reviews.date', 'reviews.dateAdded', 'reviews.dateSeen',\n",
            "       'reviews.didPurchase', 'reviews.doRecommend', 'reviews.id',\n",
            "       'reviews.numHelpful', 'reviews.rating', 'reviews.sourceURLs',\n",
            "       'reviews.text', 'reviews.title', 'reviews.userCity',\n",
            "       'reviews.userProvince', 'reviews.username', 'dateAdded', 'dateUpdated',\n",
            "       'primaryCategories', 'imageURLs', 'manufacturerNumber', 'sourceURLs'],\n",
            "      dtype='object')\n"
          ]
        }
      ]
    },
    {
      "cell_type": "code",
      "source": [
        "reviews_column = 'review'  # Default column name\n",
        "\n",
        "# Dynamically check for the correct review column name\n",
        "if 'reviewText' in df.columns:\n",
        "    reviews_column = 'reviewText'\n",
        "elif 'product_review' in df.columns:\n",
        "    reviews_column = 'product_review'\n",
        "elif 'reviews.text' in df.columns:  # Check if 'reviews.text' is present\n",
        "    reviews_column = 'reviews.text' # Assign 'reviews.text' if found\n",
        "# Add more elif conditions to check for other potential column names if needed\n",
        "\n",
        "\n",
        "# Now you can use reviews_column to access the correct column:\n",
        "df['cleaned_reviews'] = df[reviews_column].apply(clean_text)"
      ],
      "metadata": {
        "id": "tdu89KFu1FJ8"
      },
      "execution_count": 25,
      "outputs": []
    },
    {
      "cell_type": "code",
      "execution_count": 26,
      "metadata": {
        "id": "TO9zPD2a54ka"
      },
      "outputs": [],
      "source": [
        "# Data Cleaning\n",
        "df = df.drop_duplicates() # Changed 'data' to 'df'\n",
        "df = df.dropna(subset=['reviews.text']) # Changed 'data' to 'df'\n",
        "df['reviews.text'] = df['reviews.text'].str.strip() # Changed 'data' to 'df'\n",
        "df['reviews.text'] = df['reviews.text'].str.replace(r'[^a-zA-Z\\s]', '', regex=True) # Changed 'data' to 'df'"
      ]
    },
    {
      "cell_type": "code",
      "execution_count": 27,
      "metadata": {
        "id": "MsYDkHmW54kb"
      },
      "outputs": [],
      "source": [
        "# --------------------------- Step 3: Sentiment Classification with Logistic Regression and Naive Bayes ---------------------------\n",
        "def calculate_sentiment(text):\n",
        "    \"\"\"Calculate sentiment polarity using TextBlob.\"\"\"\n",
        "    sentiment = TextBlob(text).sentiment.polarity\n",
        "    return sentiment\n",
        "\n",
        "df['avg_sentiment'] = df['cleaned_reviews'].apply(calculate_sentiment)\n",
        "\n",
        "def classify_sentiment(score):\n",
        "    \"\"\"Classify sentiment as positive, neutral, or negative.\"\"\"\n",
        "    if score > 0.1:\n",
        "        return 'positive'\n",
        "    elif score < -0.1:\n",
        "        return 'negative'\n",
        "    else:\n",
        "        return 'neutral'\n",
        "\n",
        "df['sentiment'] = df['avg_sentiment'].apply(classify_sentiment)\n"
      ]
    },
    {
      "cell_type": "code",
      "execution_count": 28,
      "metadata": {
        "colab": {
          "base_uri": "https://localhost:8080/"
        },
        "id": "9SSL8lvC54kb",
        "outputId": "e314c883-66b2-400b-b37a-beffec96b80f"
      },
      "outputs": [
        {
          "output_type": "stream",
          "name": "stdout",
          "text": [
            "                                        reviews.text sentiment\n",
            "0  This product so far has not disappointed My ch...  positive\n",
            "1  great for beginner or experienced person Bough...  positive\n",
            "2  Ive had my Fire HD  two weeks now and I love i...  positive\n",
            "3  This amazon fire  inch tablet is the perfect s...  positive\n",
            "4  I love ordering books and reading them with th...  positive\n",
            "5  Not easy for elderly users cease of ads that p...   neutral\n",
            "6  Wanted my father to have his first tablet and ...  positive\n",
            "7  Simply does everything I need Thank youAnd sil...   neutral\n",
            "8  Got it as a present and love the size of the s...  positive\n",
            "9  nice reader almost perfect for what i wantneed...  positive\n"
          ]
        }
      ],
      "source": [
        "# Display the first few rows of the dataset with the new 'sentiment' column\n",
        "print(df[[reviews_column, 'sentiment']].head(10))"
      ]
    },
    {
      "cell_type": "code",
      "execution_count": 29,
      "metadata": {
        "id": "BgS2pg9G54kb"
      },
      "outputs": [],
      "source": [
        "# --------------------------- Step 4: Clustering with KMeans ---------------------------\n",
        "vectorizer = TfidfVectorizer(max_features=1000)\n",
        "X = vectorizer.fit_transform(df['cleaned_reviews'])\n",
        "\n",
        "kmeans = KMeans(n_clusters=5, random_state=42)\n",
        "df['cluster'] = kmeans.fit_predict(X)"
      ]
    },
    {
      "cell_type": "code",
      "execution_count": 30,
      "metadata": {
        "id": "fxe-EtH754kc",
        "colab": {
          "base_uri": "https://localhost:8080/",
          "height": 564
        },
        "outputId": "5c9f2974-34c6-4ce1-fe9b-4c900dc135c2"
      },
      "outputs": [
        {
          "output_type": "display_data",
          "data": {
            "text/plain": [
              "<Figure size 800x600 with 1 Axes>"
            ],
            "image/png": "[encoded data removed]"
          },
          "metadata": {}
        }
      ],
      "source": [
        "# --------------------------- Step 5: Visualizing Clusters ---------------------------\n",
        "# Visualizing the clusters using a scatter plot (2D for simplicity)\n",
        "plt.figure(figsize=(8, 6))\n",
        "sns.scatterplot(x=df['avg_sentiment'], y=df['avg_sentiment'], hue=df['cluster'], palette='viridis', style=df['sentiment'])\n",
        "plt.title(\"Review Clustering Visualization\")\n",
        "plt.xlabel(\"Sentiment Score\")\n",
        "plt.ylabel(\"Sentiment Score\")\n",
        "plt.show()"
      ]
    },
    {
      "cell_type": "code",
      "source": [
        "from sklearn.metrics import silhouette_score\n",
        "\n",
        "X_cluster = vectorizer.fit_transform(df['cleaned_reviews'])\n",
        "kmeans = KMeans(n_clusters=5, random_state=42)\n",
        "df['cluster'] = kmeans.fit_predict(X_cluster)\n",
        "\n",
        "# Evaluate clustering\n",
        "silhouette = silhouette_score(X_cluster, df['cluster'])\n",
        "inertia = kmeans.inertia_\n",
        "print(f\"Clustering Silhouette Score: {silhouette}\")\n",
        "print(f\"Clustering Inertia: {inertia}\")"
      ],
      "metadata": {
        "colab": {
          "base_uri": "https://localhost:8080/"
        },
        "id": "mhuXHJKX7RMN",
        "outputId": "b96b05b8-6da4-41ed-ebc9-0764086d643a"
      },
      "execution_count": 31,
      "outputs": [
        {
          "output_type": "stream",
          "name": "stdout",
          "text": [
            "Clustering Silhouette Score: 0.36545175974536265\n",
            "Clustering Inertia: 1549.38414932829\n"
          ]
        }
      ]
    },
    {
      "cell_type": "code",
      "source": [
        "# Visualize clusters\n",
        "plt.figure(figsize=(10, 6))\n",
        "sns.countplot(x='cluster', data=df)\n",
        "plt.title('Cluster Distribution')\n",
        "plt.show()"
      ],
      "metadata": {
        "colab": {
          "base_uri": "https://localhost:8080/",
          "height": 564
        },
        "id": "_g4fC3qQ7SQw",
        "outputId": "32e13908-7038-4470-f9c4-c2aeaebc1181"
      },
      "execution_count": 32,
      "outputs": [
        {
          "output_type": "display_data",
          "data": {
            "text/plain": [
              "<Figure size 1000x600 with 1 Axes>"
            ],
            "image/png": "[encoded data removed]"
          },
          "metadata": {}
        }
      ]
    },
    {
      "cell_type": "code",
      "source": [
        "# Check the column names in the dataframe\n",
        "print(df.columns)"
      ],
      "metadata": {
        "colab": {
          "base_uri": "https://localhost:8080/"
        },
        "id": "-Wn0gGj45PBE",
        "outputId": "08c2a2e4-a465-4a58-80c4-a8ca69b52e7f"
      },
      "execution_count": 33,
      "outputs": [
        {
          "output_type": "stream",
          "name": "stdout",
          "text": [
            "Index(['id', 'name', 'asins', 'brand', 'categories', 'keys', 'manufacturer',\n",
            "       'reviews.date', 'reviews.dateAdded', 'reviews.dateSeen',\n",
            "       'reviews.didPurchase', 'reviews.doRecommend', 'reviews.id',\n",
            "       'reviews.numHelpful', 'reviews.rating', 'reviews.sourceURLs',\n",
            "       'reviews.text', 'reviews.title', 'reviews.userCity',\n",
            "       'reviews.userProvince', 'reviews.username', 'dateAdded', 'dateUpdated',\n",
            "       'primaryCategories', 'imageURLs', 'manufacturerNumber', 'sourceURLs',\n",
            "       'cleaned_reviews', 'avg_sentiment', 'sentiment', 'cluster'],\n",
            "      dtype='object')\n"
          ]
        }
      ]
    },
    {
      "cell_type": "code",
      "source": [
        "# Check the first few rows of the dataset\n",
        "print(df.head())"
      ],
      "metadata": {
        "colab": {
          "base_uri": "https://localhost:8080/"
        },
        "id": "vXCwUEhY4t1U",
        "outputId": "eb0e07de-7896-40fb-8deb-e0ce1ba9ea90"
      },
      "execution_count": 34,
      "outputs": [
        {
          "output_type": "stream",
          "name": "stdout",
          "text": [
            "                  id           name  \\\n",
            "0  amazon/b01ahb9cn2  0841667104676   \n",
            "1  amazon/b01ahb9cn2  0841667104676   \n",
            "2  amazon/b01ahb9cn2  0841667104676   \n",
            "3  amazon/b01ahb9cn2  0841667104676   \n",
            "4  amazon/b01ahb9cn2  0841667104676   \n",
            "\n",
            "                                               asins  \\\n",
            "0  allnewfirehd8tablet8hddisplaywifi16gbincludess...   \n",
            "1  allnewfirehd8tablet8hddisplaywifi16gbincludess...   \n",
            "2  allnewfirehd8tablet8hddisplaywifi16gbincludess...   \n",
            "3  allnewfirehd8tablet8hddisplaywifi16gbincludess...   \n",
            "4  allnewfirehd8tablet8hddisplaywifi16gbincludess...   \n",
            "\n",
            "                                               brand categories  \\\n",
            "0  allnewfirehd8tablet8hddisplaywifi16gbincludess...     Amazon   \n",
            "1  allnewfirehd8tablet8hddisplaywifi16gbincludess...     Amazon   \n",
            "2  allnewfirehd8tablet8hddisplaywifi16gbincludess...     Amazon   \n",
            "3  allnewfirehd8tablet8hddisplaywifi16gbincludess...     Amazon   \n",
            "4  allnewfirehd8tablet8hddisplaywifi16gbincludess...     Amazon   \n",
            "\n",
            "                       keys          manufacturer               reviews.date  \\\n",
            "0  2017-01-13T00:00:00.000Z  2017-07-03T23:33:15Z  \"2017-06-07T09:04:00.000Z   \n",
            "1  2017-01-13T00:00:00.000Z  2017-07-03T23:33:15Z  \"2017-06-07T09:04:00.000Z   \n",
            "2  2017-01-13T00:00:00.000Z  2017-07-03T23:33:15Z  \"2017-06-07T09:04:00.000Z   \n",
            "3  2017-01-12T00:00:00.000Z  2017-07-03T23:33:15Z  \"2017-06-07T09:04:00.000Z   \n",
            "4  2017-01-23T00:00:00.000Z  2017-07-03T23:28:24Z  \"2017-06-07T09:04:00.000Z   \n",
            "\n",
            "           reviews.dateAdded reviews.dateSeen  ... dateAdded dateUpdated  \\\n",
            "0  2017-04-30T00:45:00.000Z\"              NaN  ...       NaN         NaN   \n",
            "1  2017-04-30T00:45:00.000Z\"              NaN  ...       NaN         NaN   \n",
            "2  2017-04-30T00:45:00.000Z\"              NaN  ...       NaN         NaN   \n",
            "3  2017-04-30T00:45:00.000Z\"              NaN  ...       NaN         NaN   \n",
            "4  2017-04-30T00:44:00.000Z\"              NaN  ...       NaN         NaN   \n",
            "\n",
            "  primaryCategories imageURLs manufacturerNumber sourceURLs  \\\n",
            "0               NaN       NaN                NaN        NaN   \n",
            "1               NaN       NaN                NaN        NaN   \n",
            "2               NaN       NaN                NaN        NaN   \n",
            "3               NaN       NaN                NaN        NaN   \n",
            "4               NaN       NaN                NaN        NaN   \n",
            "\n",
            "                                     cleaned_reviews avg_sentiment sentiment  \\\n",
            "0  product far disappoint children love use like ...      0.300000  positive   \n",
            "1     great beginn experienc person bought gift love      0.650000  positive   \n",
            "2  ive fire hd two week love tablet great valuew ...      0.295455  positive   \n",
            "3  amazon fire inch tablet perfect size purchas h...      0.566667  positive   \n",
            "4                        love order book read reader      0.500000  positive   \n",
            "\n",
            "  cluster  \n",
            "0       2  \n",
            "1       0  \n",
            "2       2  \n",
            "3       2  \n",
            "4       2  \n",
            "\n",
            "[5 rows x 31 columns]\n"
          ]
        }
      ]
    },
    {
      "cell_type": "code",
      "source": [
        "# Filter for tablets, ebooks, and other product types (replace these keywords as needed)\n",
        "products_of_interest = ['tablet', 'ebook', 'headphones']  # Example product types\n",
        "\n",
        "filtered_df = df[df['name'].str.contains('|'.join(products_of_interest), case=False, na=False)]\n",
        "\n",
        "# Aggregating reviews by product and cluster\n",
        "aggregated_reviews = filtered_df.groupby(['cluster', 'name'])['cleaned_reviews'].apply(lambda x: ' '.join(x)).reset_index()\n",
        "\n",
        "# Show aggregated reviews for these products\n",
        "print(aggregated_reviews.head())"
      ],
      "metadata": {
        "colab": {
          "base_uri": "https://localhost:8080/"
        },
        "id": "noljhdMG7zZJ",
        "outputId": "6c910d6c-730d-48ba-cfd0-44763c357830"
      },
      "execution_count": 35,
      "outputs": [
        {
          "output_type": "stream",
          "name": "stdout",
          "text": [
            "   cluster                                               name  \\\n",
            "0        0  allnewfirehd8tablet8hddisplaywifi32gbincludess...   \n",
            "1        2  allnewfirehd8tablet8hddisplaywifi32gbincludess...   \n",
            "2        3  allnewfirehd8tablet8hddisplaywifi32gbincludess...   \n",
            "3        4  allnewfirehd8tablet8hddisplaywifi32gbincludess...   \n",
            "\n",
            "                                     cleaned_reviews  \n",
            "0  good basic tablet nice product look good good ...  \n",
            "1  everyth look luv nice couldnt get tablet work ...  \n",
            "2  great tablet great product awesom tablet great...  \n",
            "3  easi connect easi use clear display look ipad ...  \n"
          ]
        }
      ]
    },
    {
      "cell_type": "code",
      "execution_count": 36,
      "metadata": {
        "id": "wG_KBP3g54kc",
        "colab": {
          "base_uri": "https://localhost:8080/"
        },
        "outputId": "5c8ba17d-ce33-4e93-e728-07ee6ea50983"
      },
      "outputs": [
        {
          "output_type": "stream",
          "name": "stdout",
          "text": [
            "   cluster                                               name  \\\n",
            "0        0                                      0841667104676   \n",
            "1        0                                     0848719069587\"   \n",
            "2        0  allnewfirehd8tablet8hddisplaywifi32gbincludess...   \n",
            "3        1                                     841710106442.0   \n",
            "4        2                                      0841667104676   \n",
            "\n",
            "                                     cleaned_reviews  \n",
            "0  great beginn experienc person bought gift love...  \n",
            "1  bought wife upgrad origin kindl worn big step ...  \n",
            "2  good basic tablet nice product look good good ...  \n",
            "3  httpswwwamazoncomamazonbasicsperformancealkali...  \n",
            "4  product far disappoint children love use like ...  \n"
          ]
        }
      ],
      "source": [
        "# --------------------------- Step 6: Aggregating Reviews by Product and Cluster ---------------------------\n",
        "# Aggregating reviews by product and cluster using the correct column 'name' for the product identifier\n",
        "aggregated_reviews = df.groupby(['cluster', 'name'])['cleaned_reviews'].apply(lambda x: ' '.join(x)).reset_index()\n",
        "\n",
        "# Show the first few aggregated reviews to verify\n",
        "print(aggregated_reviews.head())\n"
      ]
    },
    {
      "cell_type": "code",
      "execution_count": 37,
      "metadata": {
        "id": "IkGsDggg54kc"
      },
      "outputs": [],
      "source": [
        "# --------------------------- Step 7: Ranking Products by Sentiment and Review Frequency ---------------------------\n",
        "aggregated_reviews['avg_sentiment'] = aggregated_reviews['cleaned_reviews'].apply(calculate_sentiment)\n"
      ]
    },
    {
      "cell_type": "code",
      "execution_count": 38,
      "metadata": {
        "id": "SMTw-Y9a54kc"
      },
      "outputs": [],
      "source": [
        "# Calculate average sentiment and review frequency per product\n",
        "ranked_products = aggregated_reviews.groupby(['cluster', 'name']).agg(\n",
        "    avg_sentiment=('cleaned_reviews', lambda x: df[df['name'] == x.name]['sentiment'].mean()),\n",
        "    review_count=('cleaned_reviews', 'count'),\n",
        "    cleaned_reviews=('cleaned_reviews', 'first') # Include 'cleaned_reviews' in agg\n",
        ").reset_index()"
      ]
    },
    {
      "cell_type": "code",
      "source": [
        "# Rank by average sentime# Rank by average sentiment and review count\n",
        "ranked_products = ranked_products.sort_values(by=['cluster', 'avg_sentiment', 'review_count'], ascending=[True, False, False])\n",
        "\n",
        "# Show top products\n",
        "print(ranked_products.head())\n",
        "\n",
        "# Assign the top-ranked products to the top_products variable\n",
        "# Include 'cleaned_reviews' column in the selection\n",
        "top_products = ranked_products[['cluster', 'name', 'cleaned_reviews', 'avg_sentiment', 'review_count']].head() # Assuming you want the top 5 products"
      ],
      "metadata": {
        "colab": {
          "base_uri": "https://localhost:8080/"
        },
        "id": "SZcTt6Tq6VXN",
        "outputId": "e9b9058c-e949-4f64-8567-7126e59b7938"
      },
      "execution_count": 39,
      "outputs": [
        {
          "output_type": "stream",
          "name": "stdout",
          "text": [
            "   cluster                                               name  avg_sentiment  \\\n",
            "0        0                                      0841667104676            NaN   \n",
            "1        0                                     0848719069587\"            NaN   \n",
            "2        0  allnewfirehd8tablet8hddisplaywifi32gbincludess...            NaN   \n",
            "3        1                                     841710106442.0            NaN   \n",
            "4        2                                      0841667104676            NaN   \n",
            "\n",
            "   review_count                                    cleaned_reviews  \n",
            "0             1  great beginn experienc person bought gift love...  \n",
            "1             1  bought wife upgrad origin kindl worn big step ...  \n",
            "2             1  good basic tablet nice product look good good ...  \n",
            "3             1  httpswwwamazoncomamazonbasicsperformancealkali...  \n",
            "4             1  product far disappoint children love use like ...  \n"
          ]
        }
      ]
    },
    {
      "cell_type": "code",
      "execution_count": 40,
      "metadata": {
        "colab": {
          "base_uri": "https://localhost:8080/",
          "height": 200,
          "referenced_widgets": [
            "fee6397f298742b186906b08e5ee38e7",
            "06fca87d556e465bb0399489215f7a22",
            "0aa6a4c797dd4e6d9b3c8fb75d7638a5",
            "0131bab3585b4d5fab1a6f540d434ab8",
            "349524e00255476da8ce3e69bdb1aea4",
            "967553f1735e4f99934e622b6c8da1be",
            "2981eadced4245e181214e27b87f63c9",
            "76edcf2405314f8b9f8bbd15ef9b26ea",
            "357ee08eb3d84efa813f3be90897e7ed",
            "a2c51067a6ee42a5ba07ff17b2f4b0b2",
            "292b182f92784bc8bfeb171d986d765f",
            "202801fb7ea14194bb7df17008b3b6e0",
            "b1b4b6c0d5ad4a3785a486fe5e8532b2",
            "f31c2c13ccca45d1be3ce68dc8ed3ee7",
            "b2e28047cf9844d290ecf418ba45fb23",
            "130c9da4cde84a32a168bbd403b2ae3d",
            "19c21caf0f34464f815bf598dfd61535",
            "9bcefa755354458ebbec83d806b41755",
            "25a62a9bc5b44929b1a9707f1cf07f52",
            "a1f0a331e53348deb04e58dda0fe9320",
            "b4e181d01be14ab0a2b3eff36617c1ee",
            "7fe1ca0e18684311a068edc6968ed030",
            "5a176147e180412d94fc20404d1b284f",
            "2cf8fcadec184975828c9d31bd02661a",
            "d23b877531644e60a547a6e964431ade",
            "04584b853b5a4e8db6f335f21236c717",
            "b6f31a58f6bc4563977b156d10fac18b",
            "a3dae18f47ae4640b888d5aaefd700ca",
            "97679d3456394b979f9b403ce8b9ea92",
            "bfb556dc6c6e4bf7807fecdf37ed32ad",
            "1e1b566c22284c91991e88616a1b6e21",
            "9580de96e1f74215862c05a805aaeff3",
            "095b25ba6fd2411ea4e0556440240739",
            "299cd2b968704161be1b1d419e170e92",
            "32f53cd3e3774964a9edfe184e9781b3",
            "e7e6157a5c614874a1b21a5ca4ca4b96",
            "d4a482e495df48dbb21079190ba62872",
            "1efe082dafe540c58bc9092608c43877",
            "463f75b736f343269e3522f4978e1ac5",
            "b6b7a490dc6144dcab1a4acd2d33b3bb",
            "7e26b7168d064ee18360dc8a0d8aeb63",
            "4a705e8c774a4eed866fb6de776be981",
            "6562e51df4ff4087a93b6854968bcb2c",
            "69b2cc79b7634db884d2de31f40b774a"
          ]
        },
        "id": "u7kkLwcB54kc",
        "outputId": "5ceca9fc-7485-4418-be6a-b33318aa2857"
      },
      "outputs": [
        {
          "output_type": "stream",
          "name": "stderr",
          "text": [
            "/usr/local/lib/python3.10/dist-packages/huggingface_hub/file_download.py:795: FutureWarning: `resume_download` is deprecated and will be removed in version 1.0.0. Downloads always resume when possible. If you want to force a new download, use `force_download=True`.\n",
            "  warnings.warn(\n"
          ]
        },
        {
          "output_type": "display_data",
          "data": {
            "text/plain": [
              "spiece.model:   0%|          | 0.00/792k [00:00<?, ?B/s]"
            ],
            "application/vnd.jupyter.widget-view+json": {
              "version_major": 2,
              "version_minor": 0,
              "model_id": "fee6397f298742b186906b08e5ee38e7"
            }
          },
          "metadata": {}
        },
        {
          "output_type": "display_data",
          "data": {
            "text/plain": [
              "tokenizer_config.json:   0%|          | 0.00/2.32k [00:00<?, ?B/s]"
            ],
            "application/vnd.jupyter.widget-view+json": {
              "version_major": 2,
              "version_minor": 0,
              "model_id": "202801fb7ea14194bb7df17008b3b6e0"
            }
          },
          "metadata": {}
        },
        {
          "output_type": "display_data",
          "data": {
            "text/plain": [
              "config.json:   0%|          | 0.00/1.21k [00:00<?, ?B/s]"
            ],
            "application/vnd.jupyter.widget-view+json": {
              "version_major": 2,
              "version_minor": 0,
              "model_id": "5a176147e180412d94fc20404d1b284f"
            }
          },
          "metadata": {}
        },
        {
          "output_type": "display_data",
          "data": {
            "text/plain": [
              "model.safetensors:   0%|          | 0.00/242M [00:00<?, ?B/s]"
            ],
            "application/vnd.jupyter.widget-view+json": {
              "version_major": 2,
              "version_minor": 0,
              "model_id": "299cd2b968704161be1b1d419e170e92"
            }
          },
          "metadata": {}
        }
      ],
      "source": [
        "# Load the pre-trained T5 model and tokenizer\n",
        "tokenizer = T5Tokenizer.from_pretrained(\"t5-small\")\n",
        "model = T5ForConditionalGeneration.from_pretrained(\"t5-small\")\n",
        "\n",
        "# Function to summarize reviews\n",
        "def summarize_reviews(reviews):\n",
        "    input_text = f\"summarize: {reviews}\"\n",
        "    inputs = tokenizer(input_text, return_tensors=\"pt\", max_length=512, truncation=True)\n",
        "    summary_ids = model.generate(inputs['input_ids'], max_length=150, num_beams=4, early_stopping=True)\n",
        "    summary = tokenizer.decode(summary_ids[0], skip_special_tokens=True)\n",
        "    return summary\n",
        "\n",
        "# Summarize the reviews for top products\n",
        "top_products['summary'] = top_products['cleaned_reviews'].apply(lambda x: summarize_reviews(x))"
      ]
    },
    {
      "cell_type": "code",
      "source": [
        "# Convert the 'name' column to string type before creating the Dataset\n",
        "top_products['name'] = top_products['name'].astype(str)\n",
        "\n",
        "# Import the Dataset class from the datasets library\n",
        "from datasets import Dataset\n",
        "\n",
        "# Now create the Hugging Face Dataset\n",
        "train_dataset = Dataset.from_pandas(top_products)"
      ],
      "metadata": {
        "id": "6HyiIi_pKt-D"
      },
      "execution_count": 41,
      "outputs": []
    },
    {
      "cell_type": "code",
      "source": [
        "# Convert to Hugging Face dataset format\n",
        "from datasets import Dataset # Import the Dataset class\n",
        "\n",
        "# Assuming top_products is your DataFrame for training\n",
        "train_dataset = Dataset.from_pandas(top_products) # Changed train_data to top_products\n",
        "\n",
        "# Tokenization Function for Fine-Tuning\n",
        "def tokenize_function(examples):\n",
        "    model_inputs = tokenizer(examples['cleaned_reviews'], max_length=512, truncation=True, padding='max_length')  # Changed 'input_text' to 'cleaned_reviews'\n",
        "    labels = tokenizer(examples['summary'], max_length=150, truncation=True, padding='max_length')  # Changed 'target_text' to 'summary'\n",
        "    model_inputs['labels'] = labels['input_ids']\n",
        "    return model_inputs\n",
        "\n",
        "# Tokenize the data\n",
        "tokenized_datasets = train_dataset.map(tokenize_function, batched=True)\n",
        "\n",
        "# Select only the required columns for training\n",
        "tokenized_datasets = tokenized_datasets.remove_columns(['cluster', 'name', 'cleaned_reviews', 'avg_sentiment', 'review_count']) # Remove unnecessary columns\n",
        "\n",
        "\n",
        "# Define the training arguments\n",
        "training_args = TrainingArguments(\n",
        "    output_dir=\"./results\",\n",
        "    evaluation_strategy=\"epoch\",\n",
        "    learning_rate=2e-5,\n",
        "    per_device_train_batch_size=8,\n",
        "    per_device_eval_batch_size=8,\n",
        "    num_train_epochs=3,\n",
        "    weight_decay=0.01,\n",
        "    save_total_limit=2,\n",
        "    remove_unused_columns=False,\n",
        "    logging_dir=\"./logs\",\n",
        "    push_to_hub=False,\n",
        ")\n",
        "\n",
        "# Initialize the Trainer\n",
        "trainer = Trainer(\n",
        "    model=model,\n",
        "    args=training_args,\n",
        "    train_dataset=tokenized_datasets,\n",
        "    eval_dataset=tokenized_datasets,\n",
        ")\n",
        "\n",
        "# Fine-tune the model\n",
        "trainer.train()"
      ],
      "metadata": {
        "colab": {
          "base_uri": "https://localhost:8080/",
          "height": 864,
          "referenced_widgets": [
            "d2a0e5f578c04f529d666889eaac23af",
            "08ce8e27380743528ef1114ca2706730",
            "1077cb1ee81a4146b5ce2c5b6eabb669",
            "91a7d192fba74f52a2a120fdb9af850d",
            "532e31ae21884f30a1fd2bbb9410f4a2",
            "b0a855aaba464822856739815548689a",
            "36f4cfdb39074ace96d37452a7e280c7",
            "489acd7bf0464524b39f1651220356f9",
            "41b42057ea1e45deb0f6e82aee63f9c1",
            "5f5d95789bc746ba84c08faca01641ee",
            "d8f1b31382034e7fa872faba12a7dbb5"
          ]
        },
        "id": "cf8OMvLmHZro",
        "outputId": "83218c53-9cc6-40cd-f1ad-ac20ac933121"
      },
      "execution_count": 42,
      "outputs": [
        {
          "output_type": "display_data",
          "data": {
            "text/plain": [
              "Map:   0%|          | 0/5 [00:00<?, ? examples/s]"
            ],
            "application/vnd.jupyter.widget-view+json": {
              "version_major": 2,
              "version_minor": 0,
              "model_id": "d2a0e5f578c04f529d666889eaac23af"
            }
          },
          "metadata": {}
        },
        {
          "output_type": "stream",
          "name": "stderr",
          "text": [
            "/usr/local/lib/python3.10/dist-packages/transformers/optimization.py:306: FutureWarning: This implementation of AdamW is deprecated and will be removed in a future version. Use the PyTorch implementation torch.optim.AdamW instead, or set `no_deprecation_warning=True` to disable this warning\n",
            "  warnings.warn(\n",
            "***** Running training *****\n",
            "  Num examples = 5\n",
            "  Num Epochs = 3\n",
            "  Instantaneous batch size per device = 8\n",
            "  Total train batch size (w. parallel, distributed & accumulation) = 8\n",
            "  Gradient Accumulation steps = 1\n",
            "  Total optimization steps = 3\n",
            "Automatic Weights & Biases logging enabled, to disable set os.environ[\"WANDB_DISABLED\"] = \"true\"\n",
            "\u001b[34m\u001b[1mwandb\u001b[0m: Using wandb-core as the SDK backend.  Please refer to https://wandb.me/wandb-core for more information.\n"
          ]
        },
        {
          "output_type": "display_data",
          "data": {
            "text/plain": [
              "<IPython.core.display.Javascript object>"
            ],
            "application/javascript": [
              "\n",
              "        window._wandbApiKey = new Promise((resolve, reject) => {\n",
              "            function loadScript(url) {\n",
              "            return new Promise(function(resolve, reject) {\n",
              "                let newScript = document.createElement(\"script\");\n",
              "                newScript.onerror = reject;\n",
              "                newScript.onload = resolve;\n",
              "                document.body.appendChild(newScript);\n",
              "                newScript.src = url;\n",
              "            });\n",
              "            }\n",
              "            loadScript(\"https://cdn.jsdelivr.net/npm/postmate/build/postmate.min.js\").then(() => {\n",
              "            const iframe = document.createElement('iframe')\n",
              "            iframe.style.cssText = \"width:0;height:0;border:none\"\n",
              "            document.body.appendChild(iframe)\n",
              "            const handshake = new Postmate({\n",
              "                container: iframe,\n",
              "                url: 'https://wandb.ai/authorize'\n",
              "            });\n",
              "            const timeout = setTimeout(() => reject(\"Couldn't auto authenticate\"), 5000)\n",
              "            handshake.then(function(child) {\n",
              "                child.on('authorize', data => {\n",
              "                    clearTimeout(timeout)\n",
              "                    resolve(data)\n",
              "                });\n",
              "            });\n",
              "            })\n",
              "        });\n",
              "    "
            ]
          },
          "metadata": {}
        },
        {
          "output_type": "stream",
          "name": "stderr",
          "text": [
            "\u001b[34m\u001b[1mwandb\u001b[0m: Logging into wandb.ai. (Learn how to deploy a W&B server locally: https://wandb.me/wandb-server)\n",
            "\u001b[34m\u001b[1mwandb\u001b[0m: You can find your API key in your browser here: https://wandb.ai/authorize\n",
            "wandb: Paste an API key from your profile and hit enter, or press ctrl+c to quit:"
          ]
        },
        {
          "name": "stdout",
          "output_type": "stream",
          "text": [
            " ··········\n"
          ]
        },
        {
          "output_type": "stream",
          "name": "stderr",
          "text": [
            "\u001b[34m\u001b[1mwandb\u001b[0m: Appending key for api.wandb.ai to your netrc file: /root/.netrc\n"
          ]
        },
        {
          "output_type": "display_data",
          "data": {
            "text/plain": [
              "<IPython.core.display.HTML object>"
            ],
            "text/html": [
              "Tracking run with wandb version 0.19.1"
            ]
          },
          "metadata": {}
        },
        {
          "output_type": "display_data",
          "data": {
            "text/plain": [
              "<IPython.core.display.HTML object>"
            ],
            "text/html": [
              "Run data is saved locally in <code>/content/wandb/run-20250109_141151-iz3fcce8</code>"
            ]
          },
          "metadata": {}
        },
        {
          "output_type": "display_data",
          "data": {
            "text/plain": [
              "<IPython.core.display.HTML object>"
            ],
            "text/html": [
              "Syncing run <strong><a href='https://wandb.ai/mehakgam-ironhack/huggingface/runs/iz3fcce8' target=\"_blank\">./results</a></strong> to <a href='https://wandb.ai/mehakgam-ironhack/huggingface' target=\"_blank\">Weights & Biases</a> (<a href='https://wandb.me/developer-guide' target=\"_blank\">docs</a>)<br>"
            ]
          },
          "metadata": {}
        },
        {
          "output_type": "display_data",
          "data": {
            "text/plain": [
              "<IPython.core.display.HTML object>"
            ],
            "text/html": [
              " View project at <a href='https://wandb.ai/mehakgam-ironhack/huggingface' target=\"_blank\">https://wandb.ai/mehakgam-ironhack/huggingface</a>"
            ]
          },
          "metadata": {}
        },
        {
          "output_type": "display_data",
          "data": {
            "text/plain": [
              "<IPython.core.display.HTML object>"
            ],
            "text/html": [
              " View run at <a href='https://wandb.ai/mehakgam-ironhack/huggingface/runs/iz3fcce8' target=\"_blank\">https://wandb.ai/mehakgam-ironhack/huggingface/runs/iz3fcce8</a>"
            ]
          },
          "metadata": {}
        },
        {
          "output_type": "display_data",
          "data": {
            "text/plain": [
              "<IPython.core.display.HTML object>"
            ],
            "text/html": [
              "\n",
              "    <div>\n",
              "      \n",
              "      <progress value='3' max='3' style='width:300px; height:20px; vertical-align: middle;'></progress>\n",
              "      [3/3 00:00, Epoch 3/3]\n",
              "    </div>\n",
              "    <table border=\"1\" class=\"dataframe\">\n",
              "  <thead>\n",
              " <tr style=\"text-align: left;\">\n",
              "      <th>Epoch</th>\n",
              "      <th>Training Loss</th>\n",
              "      <th>Validation Loss</th>\n",
              "    </tr>\n",
              "  </thead>\n",
              "  <tbody>\n",
              "    <tr>\n",
              "      <td>1</td>\n",
              "      <td>No log</td>\n",
              "      <td>5.305213</td>\n",
              "    </tr>\n",
              "    <tr>\n",
              "      <td>2</td>\n",
              "      <td>No log</td>\n",
              "      <td>5.053446</td>\n",
              "    </tr>\n",
              "    <tr>\n",
              "      <td>3</td>\n",
              "      <td>No log</td>\n",
              "      <td>5.051739</td>\n",
              "    </tr>\n",
              "  </tbody>\n",
              "</table><p>"
            ]
          },
          "metadata": {}
        },
        {
          "output_type": "stream",
          "name": "stderr",
          "text": [
            "***** Running Evaluation *****\n",
            "  Num examples = 5\n",
            "  Batch size = 8\n",
            "***** Running Evaluation *****\n",
            "  Num examples = 5\n",
            "  Batch size = 8\n",
            "***** Running Evaluation *****\n",
            "  Num examples = 5\n",
            "  Batch size = 8\n",
            "\n",
            "\n",
            "Training completed. Do not forget to share your model on huggingface.co/models =)\n",
            "\n",
            "\n"
          ]
        },
        {
          "output_type": "execute_result",
          "data": {
            "text/plain": [
              "TrainOutput(global_step=3, training_loss=5.624785741170247, metrics={'train_runtime': 31.0483, 'train_samples_per_second': 0.483, 'train_steps_per_second': 0.097, 'total_flos': 2030127022080.0, 'train_loss': 5.624785741170247, 'epoch': 3.0})"
            ]
          },
          "metadata": {},
          "execution_count": 42
        }
      ]
    },
    {
      "cell_type": "code",
      "execution_count": 43,
      "metadata": {
        "colab": {
          "base_uri": "https://localhost:8080/",
          "height": 981
        },
        "id": "_i9eE-or54kd",
        "outputId": "a86a3fba-d67f-4a71-814e-48ba081c1ae3"
      },
      "outputs": [
        {
          "output_type": "stream",
          "name": "stdout",
          "text": [
            "Requirement already satisfied: datasets in /usr/local/lib/python3.10/dist-packages (3.2.0)\n",
            "Requirement already satisfied: filelock in /usr/local/lib/python3.10/dist-packages (from datasets) (3.16.1)\n",
            "Requirement already satisfied: numpy>=1.17 in /usr/local/lib/python3.10/dist-packages (from datasets) (1.26.4)\n",
            "Requirement already satisfied: pyarrow>=15.0.0 in /usr/local/lib/python3.10/dist-packages (from datasets) (17.0.0)\n",
            "Requirement already satisfied: dill<0.3.9,>=0.3.0 in /usr/local/lib/python3.10/dist-packages (from datasets) (0.3.8)\n",
            "Requirement already satisfied: pandas in /usr/local/lib/python3.10/dist-packages (from datasets) (2.2.2)\n",
            "Requirement already satisfied: requests>=2.32.2 in /usr/local/lib/python3.10/dist-packages (from datasets) (2.32.3)\n",
            "Requirement already satisfied: tqdm>=4.66.3 in /usr/local/lib/python3.10/dist-packages (from datasets) (4.67.1)\n",
            "Requirement already satisfied: xxhash in /usr/local/lib/python3.10/dist-packages (from datasets) (3.5.0)\n",
            "Requirement already satisfied: multiprocess<0.70.17 in /usr/local/lib/python3.10/dist-packages (from datasets) (0.70.16)\n",
            "Requirement already satisfied: fsspec<=2024.9.0,>=2023.1.0 in /usr/local/lib/python3.10/dist-packages (from fsspec[http]<=2024.9.0,>=2023.1.0->datasets) (2024.9.0)\n",
            "Requirement already satisfied: aiohttp in /usr/local/lib/python3.10/dist-packages (from datasets) (3.11.11)\n",
            "Requirement already satisfied: huggingface-hub>=0.23.0 in /usr/local/lib/python3.10/dist-packages (from datasets) (0.27.1)\n",
            "Requirement already satisfied: packaging in /usr/local/lib/python3.10/dist-packages (from datasets) (24.2)\n",
            "Requirement already satisfied: pyyaml>=5.1 in /usr/local/lib/python3.10/dist-packages (from datasets) (6.0.2)\n",
            "Requirement already satisfied: aiohappyeyeballs>=2.3.0 in /usr/local/lib/python3.10/dist-packages (from aiohttp->datasets) (2.4.4)\n",
            "Requirement already satisfied: aiosignal>=1.1.2 in /usr/local/lib/python3.10/dist-packages (from aiohttp->datasets) (1.3.2)\n",
            "Requirement already satisfied: async-timeout<6.0,>=4.0 in /usr/local/lib/python3.10/dist-packages (from aiohttp->datasets) (4.0.3)\n",
            "Requirement already satisfied: attrs>=17.3.0 in /usr/local/lib/python3.10/dist-packages (from aiohttp->datasets) (24.3.0)\n",
            "Requirement already satisfied: frozenlist>=1.1.1 in /usr/local/lib/python3.10/dist-packages (from aiohttp->datasets) (1.5.0)\n",
            "Requirement already satisfied: multidict<7.0,>=4.5 in /usr/local/lib/python3.10/dist-packages (from aiohttp->datasets) (6.1.0)\n",
            "Requirement already satisfied: propcache>=0.2.0 in /usr/local/lib/python3.10/dist-packages (from aiohttp->datasets) (0.2.1)\n",
            "Requirement already satisfied: yarl<2.0,>=1.17.0 in /usr/local/lib/python3.10/dist-packages (from aiohttp->datasets) (1.18.3)\n",
            "Requirement already satisfied: typing-extensions>=3.7.4.3 in /usr/local/lib/python3.10/dist-packages (from huggingface-hub>=0.23.0->datasets) (4.12.2)\n",
            "Requirement already satisfied: charset-normalizer<4,>=2 in /usr/local/lib/python3.10/dist-packages (from requests>=2.32.2->datasets) (3.4.1)\n",
            "Requirement already satisfied: idna<4,>=2.5 in /usr/local/lib/python3.10/dist-packages (from requests>=2.32.2->datasets) (3.10)\n",
            "Requirement already satisfied: urllib3<3,>=1.21.1 in /usr/local/lib/python3.10/dist-packages (from requests>=2.32.2->datasets) (2.3.0)\n",
            "Requirement already satisfied: certifi>=2017.4.17 in /usr/local/lib/python3.10/dist-packages (from requests>=2.32.2->datasets) (2024.12.14)\n",
            "Requirement already satisfied: python-dateutil>=2.8.2 in /usr/local/lib/python3.10/dist-packages (from pandas->datasets) (2.8.2)\n",
            "Requirement already satisfied: pytz>=2020.1 in /usr/local/lib/python3.10/dist-packages (from pandas->datasets) (2024.2)\n",
            "Requirement already satisfied: tzdata>=2022.7 in /usr/local/lib/python3.10/dist-packages (from pandas->datasets) (2024.2)\n",
            "Requirement already satisfied: six>=1.5 in /usr/local/lib/python3.10/dist-packages (from python-dateutil>=2.8.2->pandas->datasets) (1.17.0)\n"
          ]
        },
        {
          "output_type": "stream",
          "name": "stderr",
          "text": [
            "PyTorch: setting up devices\n",
            "The default value for the training argument `--report_to` will change in v5 (from all installed integrations to none). In v5, you will need to use `--report_to all` to get the same behavior as now. You should start updating your code and make this info disappear :-).\n",
            "/usr/local/lib/python3.10/dist-packages/transformers/optimization.py:306: FutureWarning: This implementation of AdamW is deprecated and will be removed in a future version. Use the PyTorch implementation torch.optim.AdamW instead, or set `no_deprecation_warning=True` to disable this warning\n",
            "  warnings.warn(\n",
            "***** Running training *****\n",
            "  Num examples = 5\n",
            "  Num Epochs = 3\n",
            "  Instantaneous batch size per device = 4\n",
            "  Total train batch size (w. parallel, distributed & accumulation) = 4\n",
            "  Gradient Accumulation steps = 1\n",
            "  Total optimization steps = 6\n",
            "Automatic Weights & Biases logging enabled, to disable set os.environ[\"WANDB_DISABLED\"] = \"true\"\n"
          ]
        },
        {
          "output_type": "display_data",
          "data": {
            "text/plain": [
              "<IPython.core.display.HTML object>"
            ],
            "text/html": [
              "\n",
              "    <div>\n",
              "      \n",
              "      <progress value='6' max='6' style='width:300px; height:20px; vertical-align: middle;'></progress>\n",
              "      [6/6 00:00, Epoch 3/3]\n",
              "    </div>\n",
              "    <table border=\"1\" class=\"dataframe\">\n",
              "  <thead>\n",
              " <tr style=\"text-align: left;\">\n",
              "      <th>Step</th>\n",
              "      <th>Training Loss</th>\n",
              "    </tr>\n",
              "  </thead>\n",
              "  <tbody>\n",
              "  </tbody>\n",
              "</table><p>"
            ]
          },
          "metadata": {}
        },
        {
          "output_type": "stream",
          "name": "stderr",
          "text": [
            "\n",
            "\n",
            "Training completed. Do not forget to share your model on huggingface.co/models =)\n",
            "\n",
            "\n"
          ]
        },
        {
          "output_type": "execute_result",
          "data": {
            "text/plain": [
              "TrainOutput(global_step=6, training_loss=1.7436680793762207, metrics={'train_runtime': 0.8859, 'train_samples_per_second': 16.932, 'train_steps_per_second': 6.773, 'total_flos': 2030127022080.0, 'train_loss': 1.7436680793762207, 'epoch': 3.0})"
            ]
          },
          "metadata": {},
          "execution_count": 43
        }
      ],
      "source": [
        "from transformers import Trainer, TrainingArguments, T5Tokenizer, T5ForConditionalGeneration\n",
        "!pip install datasets\n",
        "from datasets import Dataset\n",
        "\n",
        "# Fine-tuning T5 on your dataset\n",
        "train_dataset = [\n",
        "    {\"input_text\": row['cleaned_reviews'], \"output_text\": row['summary']}\n",
        "    for _, row in top_products.iterrows()\n",
        "]\n",
        "\n",
        "# Prepare the dataset\n",
        "train_encodings = tokenizer([example['input_text'] for example in train_dataset], truncation=True, padding=True)\n",
        "train_labels = tokenizer([example['output_text'] for example in train_dataset], truncation=True, padding=True)\n",
        "\n",
        "\n",
        "# Create a Hugging Face Dataset from your encodings and labels\n",
        "train_dataset = Dataset.from_dict({\n",
        "    'input_ids': train_encodings['input_ids'],\n",
        "    'attention_mask': train_encodings['attention_mask'],\n",
        "    'labels': train_labels['input_ids']  # Assuming 'labels' is the key for target encodings\n",
        "})\n",
        "\n",
        "# Train the T5 model\n",
        "training_args = TrainingArguments(\n",
        "    output_dir='./results',\n",
        "    num_train_epochs=3,\n",
        "    per_device_train_batch_size=4,\n",
        "    logging_dir='./logs',\n",
        ")\n",
        "\n",
        "trainer = Trainer(\n",
        "    model=model,\n",
        "    args=training_args,\n",
        "    train_dataset=train_dataset,     # Pass the Hugging Face Dataset here\n",
        ")\n",
        "\n",
        "trainer.train()"
      ]
    },
    {
      "cell_type": "code",
      "execution_count": 44,
      "metadata": {
        "id": "V3O3S5u_54kd"
      },
      "outputs": [],
      "source": [
        "# --------------------------- Step 10: Model Training and Evaluation ---------------------------\n",
        "X_train, X_test, y_train, y_test = train_test_split(df['cleaned_reviews'], df['sentiment'], test_size=0.2, random_state=42)\n",
        "vectorizer = TfidfVectorizer(max_features=1000)\n",
        "X_train_vec = vectorizer.fit_transform(X_train)\n",
        "X_test_vec = vectorizer.transform(X_test)"
      ]
    },
    {
      "cell_type": "code",
      "execution_count": 45,
      "metadata": {
        "id": "JGAnnZMo54kd"
      },
      "outputs": [],
      "source": [
        "# Logistic Regression Model\n",
        "log_reg_model = LogisticRegression(max_iter=1000)\n",
        "log_reg_model.fit(X_train_vec, y_train)\n",
        "y_pred_log_reg = log_reg_model.predict(X_test_vec)"
      ]
    },
    {
      "cell_type": "code",
      "execution_count": 46,
      "metadata": {
        "colab": {
          "base_uri": "https://localhost:8080/"
        },
        "id": "yUjEcbyC54ke",
        "outputId": "e3a84473-21f6-4af9-f9ab-645e6518a45f"
      },
      "outputs": [
        {
          "output_type": "stream",
          "name": "stdout",
          "text": [
            "Logistic Regression Classification Report\n",
            "              precision    recall  f1-score   support\n",
            "\n",
            "    negative       0.00      0.00      0.00        10\n",
            "     neutral       0.95      0.89      0.92       257\n",
            "    positive       0.90      0.98      0.94       259\n",
            "\n",
            "    accuracy                           0.92       526\n",
            "   macro avg       0.62      0.63      0.62       526\n",
            "weighted avg       0.91      0.92      0.91       526\n",
            "\n"
          ]
        },
        {
          "output_type": "stream",
          "name": "stderr",
          "text": [
            "/usr/local/lib/python3.10/dist-packages/sklearn/metrics/_classification.py:1565: UndefinedMetricWarning: Precision is ill-defined and being set to 0.0 in labels with no predicted samples. Use `zero_division` parameter to control this behavior.\n",
            "  _warn_prf(average, modifier, f\"{metric.capitalize()} is\", len(result))\n",
            "/usr/local/lib/python3.10/dist-packages/sklearn/metrics/_classification.py:1565: UndefinedMetricWarning: Precision is ill-defined and being set to 0.0 in labels with no predicted samples. Use `zero_division` parameter to control this behavior.\n",
            "  _warn_prf(average, modifier, f\"{metric.capitalize()} is\", len(result))\n",
            "/usr/local/lib/python3.10/dist-packages/sklearn/metrics/_classification.py:1565: UndefinedMetricWarning: Precision is ill-defined and being set to 0.0 in labels with no predicted samples. Use `zero_division` parameter to control this behavior.\n",
            "  _warn_prf(average, modifier, f\"{metric.capitalize()} is\", len(result))\n"
          ]
        }
      ],
      "source": [
        "# Classification Evaluation\n",
        "print(\"Logistic Regression Classification Report\")\n",
        "print(classification_report(y_test, y_pred_log_reg))"
      ]
    },
    {
      "cell_type": "code",
      "source": [
        "# Confusion Matrix for Logistic Regression\n",
        "conf_matrix_log_reg = confusion_matrix(y_test, y_pred_log_reg)\n",
        "\n",
        "# Calculate y_pred_nb before using it in the confusion matrix calculation\n",
        "# Naive Bayes Model\n",
        "nb_model = MultinomialNB()\n",
        "nb_model.fit(X_train_vec, y_train)\n",
        "y_pred_nb = nb_model.predict(X_test_vec)\n",
        "\n",
        "# Now calculate the confusion matrix for Naive Bayes\n",
        "conf_matrix_nb = confusion_matrix(y_test, y_pred_nb)\n",
        "\n",
        "# Plot Confusion Matrix\n",
        "plt.figure(figsize=(6, 4))\n",
        "sns.heatmap(conf_matrix_log_reg, annot=True, fmt='d', cmap='Blues', xticklabels=['Negative', 'Neutral', 'Positive'], yticklabels=['Negative', 'Neutral', 'Positive'])\n",
        "plt.title(\"Confusion Matrix: Logistic Regression\")\n",
        "plt.xlabel(\"Predicted\")\n",
        "plt.ylabel(\"Actual\")\n",
        "plt.show()"
      ],
      "metadata": {
        "id": "GO5zWlQOAQZx",
        "colab": {
          "base_uri": "https://localhost:8080/",
          "height": 410
        },
        "outputId": "dc14f797-840c-4548-eae9-5b211a0f355e"
      },
      "execution_count": 47,
      "outputs": [
        {
          "output_type": "display_data",
          "data": {
            "text/plain": [
              "<Figure size 600x400 with 2 Axes>"
            ],
            "image/png": "[encoded data removed]"
          },
          "metadata": {}
        }
      ]
    },
    {
      "cell_type": "code",
      "execution_count": 48,
      "metadata": {
        "id": "fjhRxG8U54ke"
      },
      "outputs": [],
      "source": [
        "# Naive Bayes Model\n",
        "nb_model = MultinomialNB()\n",
        "nb_model.fit(X_train_vec, y_train)\n",
        "y_pred_nb = nb_model.predict(X_test_vec)"
      ]
    },
    {
      "cell_type": "code",
      "execution_count": 49,
      "metadata": {
        "id": "OG23dfWn54kf",
        "colab": {
          "base_uri": "https://localhost:8080/"
        },
        "outputId": "a6128b78-8759-4baf-b636-d53fa0ff6e1f"
      },
      "outputs": [
        {
          "output_type": "stream",
          "name": "stdout",
          "text": [
            "Naive Bayes Classification Report\n",
            "              precision    recall  f1-score   support\n",
            "\n",
            "    negative       0.00      0.00      0.00        10\n",
            "     neutral       0.99      0.77      0.86       257\n",
            "    positive       0.79      0.99      0.88       259\n",
            "\n",
            "    accuracy                           0.87       526\n",
            "   macro avg       0.59      0.59      0.58       526\n",
            "weighted avg       0.87      0.87      0.86       526\n",
            "\n"
          ]
        },
        {
          "output_type": "stream",
          "name": "stderr",
          "text": [
            "/usr/local/lib/python3.10/dist-packages/sklearn/metrics/_classification.py:1565: UndefinedMetricWarning: Precision is ill-defined and being set to 0.0 in labels with no predicted samples. Use `zero_division` parameter to control this behavior.\n",
            "  _warn_prf(average, modifier, f\"{metric.capitalize()} is\", len(result))\n",
            "/usr/local/lib/python3.10/dist-packages/sklearn/metrics/_classification.py:1565: UndefinedMetricWarning: Precision is ill-defined and being set to 0.0 in labels with no predicted samples. Use `zero_division` parameter to control this behavior.\n",
            "  _warn_prf(average, modifier, f\"{metric.capitalize()} is\", len(result))\n",
            "/usr/local/lib/python3.10/dist-packages/sklearn/metrics/_classification.py:1565: UndefinedMetricWarning: Precision is ill-defined and being set to 0.0 in labels with no predicted samples. Use `zero_division` parameter to control this behavior.\n",
            "  _warn_prf(average, modifier, f\"{metric.capitalize()} is\", len(result))\n"
          ]
        }
      ],
      "source": [
        "print(\"Naive Bayes Classification Report\")\n",
        "print(classification_report(y_test, y_pred_nb))"
      ]
    },
    {
      "cell_type": "code",
      "source": [
        "# Confusion Matrix\n",
        "conf_matrix_log_reg = confusion_matrix(y_test, y_pred_log_reg)\n",
        "conf_matrix_nb = confusion_matrix(y_test, y_pred_nb)\n",
        "\n",
        "# Plot Confusion Matrix\n",
        "plt.figure(figsize=(6, 4))\n",
        "sns.heatmap(conf_matrix_log_reg, annot=True, fmt='d', cmap='Blues', xticklabels=['Negative', 'Neutral', 'Positive'], yticklabels=['Negative', 'Neutral', 'Positive'])\n",
        "plt.title(\"Confusion Matrix:Naive Bayes\")\n",
        "plt.xlabel(\"Predicted\")\n",
        "plt.ylabel(\"Actual\")\n",
        "plt.show()"
      ],
      "metadata": {
        "colab": {
          "base_uri": "https://localhost:8080/",
          "height": 410
        },
        "id": "JJzrIl3n1hz8",
        "outputId": "1d33f739-598c-4d68-8511-0299a9c577d0"
      },
      "execution_count": 50,
      "outputs": [
        {
          "output_type": "display_data",
          "data": {
            "text/plain": [
              "<Figure size 600x400 with 2 Axes>"
            ],
            "image/png": "[encoded data removed]"
          },
          "metadata": {}
        }
      ]
    },
    {
      "cell_type": "code",
      "execution_count": 51,
      "metadata": {
        "colab": {
          "base_uri": "https://localhost:8080/"
        },
        "id": "OfFd8FUF54kf",
        "outputId": "5de8956a-e82e-47c0-d38b-4190fe788bba"
      },
      "outputs": [
        {
          "output_type": "stream",
          "name": "stdout",
          "text": [
            "Silhouette Score: 0.37\n",
            "Inertia: 1549.38\n"
          ]
        }
      ],
      "source": [
        "# --------------------------- Step 11: Clustering Evaluation ---------------------------\n",
        "sil_score = silhouette_score(X, kmeans.labels_)\n",
        "inertia = kmeans.inertia_\n",
        "\n",
        "print(f\"Silhouette Score: {sil_score:.2f}\")\n",
        "print(f\"Inertia: {inertia:.2f}\")"
      ]
    },
    {
      "cell_type": "code",
      "source": [
        "# --------------------------- Step 11: Evaluation of Summarization ---------------------------\n",
        "# Load evaluation metrics\n",
        "import evaluate # Import the evaluate module\n",
        "rouge = evaluate.load(\"rouge\")\n",
        "bleu = evaluate.load(\"bleu\")\n",
        "\n",
        "# Evaluate summarization using ROUGE and BLEU\n",
        "rouge_scores = []\n",
        "bleu_scores = []\n",
        "\n",
        "for idx, row in top_products.iterrows():\n",
        "    predictions = row['summary']\n",
        "    references = [row['cleaned_reviews']]\n",
        "    rouge_score = rouge.compute(predictions=[predictions], references=[references])\n",
        "    bleu_score = bleu.compute(predictions=[predictions], references=[references])\n",
        "    rouge_scores.append(rouge_score)\n",
        "    # Print results in percentage (indented to be part of the loop)\n",
        "    print(f\"Product: {row['name']}, ROUGE: {rouge_score['rouge1']*100:.2f}%, BLEU: {bleu_score['bleu']*100:.2f}%\")"
      ],
      "metadata": {
        "colab": {
          "base_uri": "https://localhost:8080/"
        },
        "id": "fh57M6OSCbVt",
        "outputId": "df1b8327-ba42-433d-9895-166396a2b3bd"
      },
      "execution_count": 52,
      "outputs": [
        {
          "output_type": "stream",
          "name": "stdout",
          "text": [
            "Product: 0841667104676, ROUGE: 6.30%, BLEU: 0.00%\n",
            "Product: 0848719069587\", ROUGE: 100.00%, BLEU: 91.22%\n",
            "Product: allnewfirehd8tablet8hddisplaywifi32gbincludesspecialoffersmagenta/5620408, ROUGE: 28.79%, BLEU: 15.66%\n",
            "Product: 841710106442.0, ROUGE: 0.85%, BLEU: 0.00%\n",
            "Product: 0841667104676, ROUGE: 1.65%, BLEU: 0.00%\n"
          ]
        }
      ]
    },
    {
      "cell_type": "code",
      "source": [
        "# Print ROUGE and BLEU scores\n",
        "for idx, (rouge_score, bleu_score) in enumerate(zip(rouge_scores, bleu_scores)):\n",
        "    print(f\"Product {top_products.iloc[idx]['product_name']}: ROUGE: {rouge_score}, BLEU: {bleu_score}\")"
      ],
      "metadata": {
        "id": "6w5UN8HmEfnd"
      },
      "execution_count": 53,
      "outputs": []
    },
    {
      "cell_type": "code",
      "source": [
        "# --------------------------- Step 12: Show the Results ---------------------------\n",
        "# Print summarized top products with recommendations\n",
        "# Changed 'product_name' to 'name'\n",
        "print(top_products[['cluster', 'name', 'summary']])\n",
        "\n",
        "# Calculate accuracy and print results\n",
        "accuracy_log_reg = accuracy_score(y_test, y_pred_log_reg)\n",
        "accuracy_nb = accuracy_score(y_test, y_pred_nb)\n",
        "\n",
        "\n",
        "print(f\"Logistic Regression Accuracy: {accuracy_log_reg * 100:.2f}%\")\n",
        "print(f\"Naive Bayes Accuracy: {accuracy_nb * 100:.2f}%\")"
      ],
      "metadata": {
        "colab": {
          "base_uri": "https://localhost:8080/"
        },
        "id": "HD8g5IarBUkj",
        "outputId": "a95538bc-08a8-4741-d125-de6853632698"
      },
      "execution_count": 58,
      "outputs": [
        {
          "output_type": "stream",
          "name": "stdout",
          "text": [
            "   cluster                                               name  \\\n",
            "0        0                                      0841667104676   \n",
            "1        0                                     0848719069587\"   \n",
            "2        0  allnewfirehd8tablet8hddisplaywifi32gbincludess...   \n",
            "3        1                                     841710106442.0   \n",
            "4        2                                      0841667104676   \n",
            "\n",
            "                                             summary  \n",
            "0  great beginn experienc person bought gift love...  \n",
            "1  bought wife upgrad origin kindl worn big step ...  \n",
            "2  good basic tablet nice product look good good ...  \n",
            "3  httpswwwamazoncomamazonbasicsperformancealkali...  \n",
            "4  love abl easili access prime content well movi...  \n",
            "Logistic Regression Accuracy: 92.21%\n",
            "Naive Bayes Accuracy: 86.50%\n"
          ]
        }
      ]
    },
    {
      "cell_type": "code",
      "source": [
        "# --------------------------- Step 1: Extract and Summarize Top 6 Products ---------------------------\n",
        "top_5_products = top_products.head(5)\n",
        "\n",
        "# Function to extract key differences between products (based on sentiment and clusters)\n",
        "def key_differences(products):\n",
        "    differences = []\n",
        "    for i in range(len(products) - 1):\n",
        "        product_1 = products.iloc[i]\n",
        "        product_2 = products.iloc[i + 1]\n",
        "        differences.append({\n",
        "            'product_1': product_1['name'],\n",
        "            'product_2': product_2['name'],\n",
        "            'sentiment_diff': abs(product_1['avg_sentiment'] - product_2['avg_sentiment']),\n",
        "            'cluster_diff': product_1['cluster'] != product_2['cluster']\n",
        "        })\n",
        "    return differences\n",
        "\n",
        "# Key differences between the top 5 products\n",
        "differences = key_differences(top_5_products)\n",
        "\n",
        "# Function to summarize reviews\n",
        "def summarize_reviews(reviews):\n",
        "    input_text = f\"summarize: {reviews}\"\n",
        "    inputs = tokenizer(input_text, return_tensors=\"pt\", max_length=512, truncation=True)\n",
        "\n",
        "    # Move inputs to the same device as the model\n",
        "    device = next(model.parameters()).device  # Get the model's device\n",
        "    inputs = {k: v.to(device) for k, v in inputs.items()}  # Move inputs to the device\n",
        "\n",
        "    summary_ids = model.generate(inputs['input_ids'], max_length=150, num_beams=4, early_stopping=True)\n",
        "    summary = tokenizer.decode(summary_ids[0], skip_special_tokens=True)\n",
        "    return summary\n",
        "\n",
        "# --------------------------- Step 2: Extract Top Complaints ---------------------------\n",
        "def extract_complaints(reviews):\n",
        "    complaints = []\n",
        "    for review in reviews:\n",
        "        if 'bad' in review or 'worst' in review or 'not good' in review or 'disappointed' in review:\n",
        "            complaints.append(review)\n",
        "    return complaints\n",
        "\n",
        "# Get complaints for each of the top 5 products\n",
        "top_5_products['complaints'] = top_5_products['cleaned_reviews'].apply(lambda x: extract_complaints([x]))\n",
        "\n",
        "# --------------------------- Step 3: Worst Product ---------------------------\n",
        "# Calculate the product with the worst sentiment (lowest average sentiment score)\n",
        "# Changed 'product_name' to 'name'\n",
        "worst_product = df.groupby('name').agg({'avg_sentiment': 'mean'}).idxmin()\n",
        "worst_product_reviews = df[df['name'] == worst_product[0]] # Select the first element of the idxmin result\n",
        "\n",
        "# Get the worst product's summary\n",
        "worst_product_summary = summarize_reviews(' '.join(worst_product_reviews['cleaned_reviews']))\n",
        "\n",
        "# --------------------------- Step 4: Display the Results ---------------------------\n",
        "# Output: Top 5 Products, Key Differences, Complaints, and Worst Product\n",
        "\n",
        "# Top 5 products with summary\n",
        "print(\"Top 5 Products and Their Summaries:\")\n",
        "for idx, row in top_5_products.iterrows():\n",
        "    print(f\"Product: {row['name']}\")\n",
        "    print(f\"Summary: {row['summary']}\")\n",
        "    print(f\"Complaints: {row['complaints']}\")\n",
        "    print()\n",
        "# Key Differences Between Top 5 Products\n",
        "print(\"Key Differences Between Top 5 Products:\")\n",
        "for diff in differences:\n",
        "    print(f\"Difference between {diff['product_1']} and {diff['product_2']}:\")\n",
        "    print(f\"Sentiment Difference: {diff['sentiment_diff']}\")\n",
        "    print(f\"Cluster Difference: {diff['cluster_diff']}\")\n",
        "    print()\n",
        "\n",
        "# Worst Product\n",
        "print(f\"Worst Product: {worst_product}\")\n",
        "print(f\"Summary of Worst Product: {worst_product_summary}\")"
      ],
      "metadata": {
        "colab": {
          "base_uri": "https://localhost:8080/"
        },
        "id": "btXYAhpHRo4v",
        "outputId": "af222f33-de10-4528-cdd8-85373d094bcb"
      },
      "execution_count": 56,
      "outputs": [
        {
          "output_type": "stream",
          "name": "stderr",
          "text": [
            "<ipython-input-56-857bfa823c7c>:43: SettingWithCopyWarning: \n",
            "A value is trying to be set on a copy of a slice from a DataFrame.\n",
            "Try using .loc[row_indexer,col_indexer] = value instead\n",
            "\n",
            "See the caveats in the documentation: https://pandas.pydata.org/pandas-docs/stable/user_guide/indexing.html#returning-a-view-versus-a-copy\n",
            "  top_5_products['complaints'] = top_5_products['cleaned_reviews'].apply(lambda x: extract_complaints([x]))\n",
            "<ipython-input-56-857bfa823c7c>:49: FutureWarning: Series.__getitem__ treating keys as positions is deprecated. In a future version, integer keys will always be treated as labels (consistent with DataFrame behavior). To access a value by position, use `ser.iloc[pos]`\n",
            "  worst_product_reviews = df[df['name'] == worst_product[0]] # Select the first element of the idxmin result\n"
          ]
        },
        {
          "output_type": "stream",
          "name": "stdout",
          "text": [
            "Top 5 Products and Their Summaries:\n",
            "Product: 0841667104676\n",
            "Summary: great beginn experienc person bought gift love nice reader almost perfect wantne good bargain look afford gift exactli person want gift enjoy use bought christma gift someon bought ipad well updat use nice smaller tablet good internet surf purchas tablet niec christma love work thought problem good buy experi didnt featur look return next day may good other peopl purchas christma holiday love bought two tablet niec christma origin bought amazon fire inch viru\n",
            "Complaints: ['great beginn experienc person bought gift love nice reader almost perfect wantne good bargain look afford gift exactli person want gift enjoy use bought christma gift someon bought ipad well updat use nice smaller tablet good internet surf purchas tablet niec christma love work thought problem good buy experi didnt featur look return next day may good other peopl purchas christma holiday love bought two tablet niec christma origin bought amazon fire inch viru day purchas unabl work good thing play prior give gift said surpris well tablet held care year old play daili problem screen big enough littl hand maneuv see highlight christma still would definit recommend good tablet wife love would recommend good tablet kid start awesom good size larg enough game photo great gift age wish bought two everyth ipad wife absolut love tablet wad earli christma present bought year old son absolut love overal good tablet best prime amazon abil watch amazon video good price good tablet limit base oper system video watch basic use good choic good tablet basic need screen resolut pretti good mostli use read sometim watch moviesshow great featur possibl use card expand memori good product great price bought gift yr old mom stalk kid grandkid fb master fewminut minim instruct watch post good devic entertain entri level task think lot price screen clear batteri last long time good substitut afford ipad perfect gift godson love definit would recommend product bought gift mom replac origin kindl fire she month love problem bought gift parent arent tech savi abl use eas fire great size realli nice big clariti realli good look good tablet deliveredget use amazon app lol good product short batteri life use minut good want someth inexpens minimum well bought gift son know love old kindl fire like lot good price product purchas middl school son think great product parent christma gift tablet work good want bought gift love great amazon prime salesman good point us right direct tablet perfect triplet grandson tablet good beginn like read good product super qualiti best buy store rep explain product excel good ipad fraction price devic price right give gift year old good perform highli recommend amazon user love tablet purchas gift glad good tablet bad wifi connect first tablet pleas amazon name good valu good product price mani thing done fire dream handi use size good light weight that import went best buy anoth reader end buy fire good valu thing need reader great buy bought year old niec love perfect see tv seri dont tv around good resolut qualiti bought gift mother love tablet good especi consid price also memori slot increas storag great read netflix fit nice purs good price good valu afford price cant beat meet need plu recommend buy good stylu pen time would recommend product good tablet use problem good buy tri day fast experi good birthday gift husband realli like need averag tablet bit slow good option peopl budget never thought tablet price could good total recommend nice look great memori camera much money everyth good bought niec christma mostli use eread check email good tablet price nice display good perform bought christma gift year old son love great price fantast gift would recommend gift age bought christma present wife read time bought son birthday gift way wear laptop work great especi video gener onlin use far good replac broken kindl fire bought christma husbandand month still happi purchas nice screen easi see view buy anoth one soon wife mom want tablet great way get technolog love ipad galaxi good start reliabl brand good product price inexpens tablet satisfi read view pleasur fast good qualiti product recommend bought tablet kid actual good better expect price work good would fulli recommend good tablet price econom abil carri backpack devic realli good piec electron good reader also good year old granddaught use gift son love help homework could also play game smooth tablet lag also good batteri birthday gift littl one love wife love gift made right purchas purchas gift receiv love said work nice huge fan product arent appl one good havent problem good tablet like featur good ipod would recommend gave gift friend senior citizen amazon paperwhit thought would love upgrad love cant say enough good year old love gift friend far love good product best price avail market place need buy tablet mother christma gift function great use onlin need gave daughter christma love use everi day good buy good qualiti android tablet also make nice gift thank perfect littl kid love tablet good qualiti fast enough bought gift love great price bought year old mother love bought two day went sale christma best buy excel price match didnt actual use bought gift grandson alreadi one return pair goggl best buy help tablet good read book basic serf far love tablet especi read batteri life also good bought gift christma love gift mom first tablet issu far good product bought christma gift purchas anoth one soon gift year old grandson great graphic sound great product got gift famili member love bought gift senior setup process could easier good product money basic job great valu best buy bought christma sale trick good tablet price perfect gift offic cowork close friend good valu money fire good tablet portabl size bought coupl gift well look cheap tablet son use saw unit sale black friday good unit purchas niec christma gift love complaint bought christma gift wife avid reader previous bn nook stop work much nicer love would recommend someon like read travel simpli home gift granddaught seem happi far gave gift christma still cant get set go geek squad help nice size good processor speed happi cannot geti googl music devic good item realli recommend everyon realli good gadget love everyth would definit recommend other sinc good valu money product nice easytous tablet got far good realli crisp pictur fast good amout storag work well lack forward control screen right left movement keyboard good foor short note could never substanti type without extern keyboard good basic websurf email receiv gift one best ive ever receiv gave husband tablet christma pleas product like much better last tablet purchas year ago highli recommend product year old got christma abl use well gift daughter love open far know great purchas purchas gift father he love version realli good upgrad older fire tablet happi bought christma gift year old love work great packag arriv earli issu bought six year old son christma present love couldnt happier keep entertain tablet good deal definit complaint best buy greatest deal love store great gift idea nice addit kindl famili purchas gift im tablet far exce expect good read long hour sinc batteri last hour recommend rel frienda best deal seen onlin check amazon good bought gift someon travel often love said qualiti expect bought three boy christma gift great littl tablet perfect everyth want use alway good price good meant christma gift granddaught love first one time updat peopl go bigger sofist ipad samsung good product child pass time someon want bell whistl start origin kindl want one backlight price good pass realli great product pretti good need good kid learn play game research school work great tabl pay cheap price gift son son happi bought year old christma look like he go love bought niec christma im sure love great good altern love kindl gift great valu one gift mom absolut love exactli want perfect gift holiday saw review immedi get im love kindl earli gift happi replac nook fire tablet disappoint cannot use chromecast realiz would tie amazon good tablet far item budget friendli gift reader internet browser gift great sinc knew good present deserv person good speed compar model size weigh littl larg view area tablet hd best gift begin less price enough speed memori kid like lot pleas aspect fire hd good perform low price gift wife love use everyday hold great charg cant beat price fire tablet hd good display bought gift daughter love alreadi one bought anoth sister law christma look pretti solid updat review soon gift open got black friday earli christma gift good buy pretti good tablet gift mom problem learn use purchas gift nephew he happi item complaint christma gift granddaught purchas one heard lot good thing price great black friday lot good featur amazon member tablet nice fast great gift year old nephew enjoy hour purchas daughter christma one well love good product recommend buy good product would recommend everyon thank thought would great gift kid price right bought black friday buck wasnt expect much price point isnt good ipad price pretti close worth everi penni bought christma gift heard good thing recommend buy product sale black friday serv purpos qualiti good use chromecast make great gift children love never put good product price rang afford good price point good use ipad display doesnt look sharp amazon app store lack content overal good yr old tablet work good good price point would buy gave amazon fire hd retir gift friend absolut love great tablet price one purchas year ago use much laptop recent purchas two gift bought husband christma love fit need perfectli would recommend product perfect gift perfect price wife bring technilog modern world live like would buy againstil learn featur good valu bought dad food christma love happi recommend good thank best buy number one got mom decent tablet heavi good pirc love work flawlessli good contend brother ipad much cheaper price win purchas mom christma love bought christma gift year old big hit love screen price perfect budget purchas gift research word mouth led us purchas one user friendli purchas christma gift girlfriend absolut love use everi day she picki electron love tablet must good gift individu thoroughli enjoy satisfi product look weekli good deal look forward deal bought tabl year old christma love bought yr old qualiti product afford price bought sale bought updat old one far good buy bought christma year old love impress tablet faster ipad use gave gift motherinlaw love thank got gift mother she satisfi got sale good pay instead pay lot money ipad good job perform basic function provid good amount entertain good watch movi play simpl game perform simpl task look good seem like well made good qualiti materi problem batteri life great price amazon sell qualiti product bought niec christma giftsh year old love old kindl work good anymor bought one black friday deal best buy price great problem time seem charg well fast took back best buy would replac would lost progress game play person tech support suggest chang plug brick said problem use plug use iphon charg fine glad easi fix one best tablet good watch youtub read well seem work well screen qualiti good like size almost good ipad mini love appl ipad howev great backup gave year old christma perfect gift great price point compar ipad function exactli need good product kid homework bought husband christma happi keep hair bought one young son breath lol weve issu met expect well worth money good deal bought kindl dad christma love bought son absolut love got kid xmaswa best gift nice tab worth moneygot best buy thank give gift friend got year old grandson realli like lot good kid learn respons use tablet brought gift wife love intermedi size tablet work well design purpos price good plenti acc want one older son want one keep good work bought tablet caus super cheap decemb good tablet someon doesnt need powerhous good tablet basic use ene return go ipad met need tablet would good someon limit comput knowledgeus purchas christma gift adopt famili teenag absolut love best buy good price structur kindl staff member help happi purcas gift mother law bought gift mother instead feel lock comput access web anywher hous say best gift ever receiv bought daughter christma seem work great tablet good gift christma bought black friday cheap price gift yr old grandson easi maneuv around great charg life forcethem take break bought gift aunt love easi get connect set total nontechni abl great buy bought sale christma gift well worth money everyth need good function easi use tech savvi bought gift seem like price nice size purchas tablet christma holiday sale got gift job christma gift parti person got happi familiar tablet bought one wife first came use read book nice deal product save good customet experi bought kindl fire hd christma gift mom never comput kindl love best gift gave play lot game keep mind work love size screen bought gift wrong item want wasnt use bought gift recipi love process speed fact camera devic purchas black friday deal good buy ipad qualiti fraction price nice watch prime video normal app would purchas standard price also fun extra tablet use ipad difficult adust job fine low price good size carri around without weigh purs would buy tablet gift daughter she avid reader anim watcher noth excit sinc open zero complaint great product solid got gift famili got sister gift far good price right littl tablet realli good read ebook watch netflix good tablet smooth high end tablet limit amazon dont expect much android ipad like mine continu use recommend use one buy unit work exactli describ good buy would recommend other great play game read surf internetcamera work good easi upload photo need current set everyth far good good price good item would purchas gift bought daughter christma absolut love sinc open great tablet without steep cost ipad havent use much far pictur sound pretti good abl stream moviesshow quit nice good pad place ipad excel gift perform good expens one good qualiti graphic good good money']\n",
            "\n",
            "Product: 0848719069587\"\n",
            "Summary: bought wife upgrad origin kindl worn big step origin good anoth year.\n",
            "Complaints: []\n",
            "\n",
            "Product: allnewfirehd8tablet8hddisplaywifi32gbincludesspecialoffersmagenta/5620408\n",
            "Summary: good basic tablet nice product look good good could much better good product fire good price good good good product fire good price good good good product fire good price good good good product fire good price good good good product fire good price good good good product fire good price good good product fire good price good good good product fire good price good good product fire good price good good product fire good price good good product fire good price good good product fire good price good good product fire good price good good product fire good product fire good product fire good product fire good product fire good product fire\n",
            "Complaints: []\n",
            "\n",
            "Product: 841710106442.0\n",
            "Summary: httpswwwamazoncomamazonbasicsperformancealkalinebatteriescountdpblhdmuo httpswwwamazoncomamazonbasicsperformancealkalinebatteriescountdpblhdmuo httpswwwamazoncomamazonbasicsperformancealkalinebatteriescountdpblhdmuo httpswwwamazoncomamazonbasicsperformancealkalinebatteriescountdpblhdmuo https\n",
            "Complaints: []\n",
            "\n",
            "Product: 0841667104676\n",
            "Summary: love abl easili access prime content well movi download watch laterthi screen realli nice look nice crisp bright infact brighter ipad pro cost base model build fire insanawesom run mm thick smooth glossi feel back realli amaz hold like futurist tab ur hand amazon fire inch tablet perfect size purchas husband bigger screen phone gotten one year ago knew would good purchas love order book read reader simpli everyth need thank youand silk work wonder got present love size screen\n",
            "Complaints: ['product far disappoint children love use like abil monitor control content see eas ive fire hd two week love tablet great valuew prime member tablet shine love abl easili access prime content well movi download watch laterthi screen realli nice look nice crisp bright infact brighter ipad pro cost base model build fire insan awesom run mm thick smooth glossi feel back realli amaz hold like futurist tab ur hand amazon fire inch tablet perfect size purchas husband bigger screen phone gotten one year ago knew would good purchas love order book read reader simpli everyth need thank youand silk work wonder got present love size screen realli like tablet would given star sometim push start sever time unlock screen littl annoy great video qualiti lot fun app fun whole famili love love love kindl fire yr old granddaught said bought christmasw purchas kindl past one bestlov fact use memori card itthat help much use booksgamesmus viedosthank grandchildren home school util tabl mani learn app love use make feel grown tablet great lean tool receiv mani benefit surpris learn capabl devic husband access desktop thing couldnt devic got son user friendli durabl still learn thing new kindl fire much better lighter weight easier use old tablet right size read book play game love everyth tablet imag sharp clear fast light weight love overal nice product travel purpos valu money bought tablet famili disappoint basic function tablet hardcor user may want ipad flexibl kindl bigger screen like surf web download read book fire tablet long batteri life reason fast got wife love previou gener one giant keep forward year old grandson love kindl one sister got one kindl need camera could better overal pretti happi purchas purchas daughter read much option want realli hope would faster inexspens tablet ive mainli use email though job believ use husband recoveri foot surgeri someth use look someth take along trip wonder devic love extra capabl app decent tablet access kindl pretti much googl app happi tablet worst thing steal time lol got fire friend want buy kindlethi serv kindl tab nice cheapworth paid highli recommend beginn look tablet highli portabl could run directtv app stream video electron much older version salesman recommend model base person experi still learn function far seem easi use promis wife bought birthday enjoy read biographi usual color photo regular kindl make pic black white theyr arent allow see color photo also love night featur im bed read longer need light read need hold larg book bought yr old granddaught everyth want tablet great product kid game app parent control make sure monitor kid prevent unwant app purchas purchas tablet year old black friday special perfect app game want great product love amazon ecosystem freetim subscript must grandsonlov game book got wife love bigger screen better app manag featur one earlier gener kindl definit worth love tablet work well unlik bargain tablet tri use previous cost like sound also enjoy free game download navig wev easili bought daughter love speedi load book purchas wife read lot truli enjoy amazon fire enjoy learn use your never old learn new thing birthday present ideal travel read ebook rood teenag daughter enjoy three year old kindl recreat want larger screen word process pair bluetooth keyboard thrill kid enjoy fire hd love pictur qualiti realli like updat product comparison first one tablet purchas grandmoth could play game read book bought wife replac old kindl love much easier read ipad updat featur make great purchas fourth kindleupgrad time mine goe everywher use throughout day wouldnt without bought son went colleg abl upload book document purchas motherinlaw love easier use understand amazon fire amaz pictur clariti sound excel highli recommend tablet love want low cost qualiti tablet one dream easi navig excel graphic bought tablet year old daughter mani advertis would rather pay singl ad purchas store credit like lot compar well expens tabletsrecommend got yr old twin yr old one one better perfect way get read superb tablet price doesnt come android oper system amazon oper system batteri last good long time app run fast would recommend anyon want tablet happi new kindl highli recommend product product handi go check email find work truck bought black friday valu money tablet lag heavi task also app reload app open time price expect go budget love size portabl keep touch fun cheaper price kindl love tablet smaller version love bigger screen use product comput bought kindl grandson love charg set right away issu point santa drop th grader along expand memori use netflix youtub well minecraft app spend hundr someth basic kid need im sure last year well worth price got tablet year old son put much mani learn game love product also great listen music also movi screen pictur crisp bright use tablet mani thing small power great adult toy reader hope use googl launcher tablet realli lock cannot chang launcher lock screen still cheap fine watch movi got tablet sale wife love far good kindl fire hd still need play see maxim use bought three daughter got kid proof case ad free time low monthli fee couldnt happier much better worri break phone ipad bought one replac smaller non hd version lot faster pictur notic better would recommend anyon want spend extra big name lot thing kindl use reli comput excel resourc children video stream wifi use mobil hotspot kid best choic marketamazon best realli didnt expect go workbut goodgift friend request yr old granddaugt alway ask older sister could share due bought tablets yr earlier love securityparent control optionsstarfal favorit educ app told must realli enjoy picsvib due differ state also game time limit size resolut perfect tick box look price happi pay one caveat best buy geek squad crew unawar glitch keyboard prevent work properli kindleamazon awar glitch download thirdparti keyboard fix replac keyboard that built unit abl fix problem made geek squad awar know amazon mayday function avail unexpect servic function expect perfect tablet take anywher go lighter ipad excel tablet kid download game watch cartoon love everyth kindl im longterm amazon prime member fire excel tabl mani basic task enjoy use reader like idea go internet kindl thought tablet junk surpass expect found versatil enjoy benefit touch screen bought display echo turn voicecast rout inform tablet voic reapons exactli hope would price right love fire tablet use everyday home work break order amazon fire two granddaught love nana much realli beauti display great watch movi play game power price play lot game amazon free even remov microtransact lot gamesonli downsid need amazon prime get tablet perfect thing need read book play game tablet perfect surf internet follow social media price amongst other felt deal perfect size respons tablet good one everyday use small clear imag sure realli want one small ok like portabl take babysit granddaught previou version tablet look upgrad got sale pleas excel valu price super easi use set wonder display love fact add sd card memori unlik old kindl plu im realli impress fact amazon great offer love tablet excel qualiti speaker screen lot storag space worth money bought husband love perfect want work realli well dont issu want tablet use daili basi facebook onlin purchas couldnt ask better tablet bought replac samsung galaxi tab absolut love kindl hd easi set easi find way around reason took star found app avail kindl far info read onlin way resolv issu simpl kindl doesnt glass back throughli enjoy fire tablet play game read book pleas much harder work android none wallpap app download kindl store work devic mani app look cheap display wise prettier respons cheaper tablet make look like android tablet googl play everyth harder work regular android tablet exce expect respons model fire amazon prime year new fire hd make worth watch movi fli download batteri last day use everyday improv hd thing set differ hard learn also bit heavier read bed littl harder fastest boot tablet come across speed access site realli amaz third kindl fire improv time color crisper best stay charg lot longer realli love new shape size kindl hd daughter use control great love kindl love fact use sd card storag great job hard time tablet year old load app sinc around year age far tablet surviv everyth except constant drain batteri use cant beat valu star even though less app play store disappoint inabl download app use phone kindl great read also like play game love amazon tablet much love use new fire hd improv fire hd faster larger screen make read book much easier wish screen easier read outsid car much glare place love im comput savi abl figur thing without help mother need someth sinc tablet die lot easier learn old tabl lot kindl tablet issu purchas found great cover line amazon use everi night thank servic went inch kindl realli made differ easier read clearer old one nice upgrad old kindl like much cheap tablet option come amazon latest model satisfi need like hard time figur thing outdo get talk geek squad free come store get someon help questionswil fee servic happi kindl would buy kid husband love tablet screen big enough view read excel price point basic requir featur need comfort read onlin novel articl perfect niec love go get anoth one son perform much faster old one graphic much better love kindl everyth want expect happi serv purpos got husband birthday love kindl great batteri last much longer old kindl bought fire hd casei use mostli classwork goodwould better bluetooth sever kindl latest version pack amazon market stuff fine use take space us new version come gb allow expand memori sd card great one problem kindl link account differ famili memberskid may end stuff kid mainli use game app youtub video seem work great sound good hd video nice overal happi price good type tablet got tablet grandson he happi use speak bought earlier line anoth vendor never deliv best buy great kindl fire hd larger screen vs imag crisper vibrant color lock card let kid go crazi awesom tablet perfectli watch tv littl nephew kid enjoy read book play game fire tablet purchas tablet autist child love ive enjoy use fire hd tablet play game use download read book perfect size purpos also light bought wife techi word like suggest buy protect screen pad case wife want ipad bought cheaper good read play game use io product compat hardli ever use next time ill get want wast money much better screen resolut inch fire year old boy year old girl year old boy crack broken yet ye drop case crack yet pretti amaz drop hard wood floor still broke wow ive quit differ kindl year ive love kindl fire hd far favorit glad husband bought best purchas ever new sound faster speed plu improv great bought replac old love bigger screen freez frequent way troubl shoot repair got tablet far love way work enlarg print chang light make easier read thing must amazon account use kindl rock ton storag awesom price love fireit work great navig fire user friendli think better buy money kindl past noth new love one screen big read book lot easier first kindl screen mostli use read abl navig internet great want look someth book real quick want search review book purchas love bought friend like itwould recommend love much home bought super tough case let two six year old use love watch movi play differ app realli good valu daughter love tablet make sure brought case thin problem see everyth download perfect need go mini comput eread awesomeand repeat time blah issu tablet love itti price bargain perfect solut reader simpl brows use night bed first tablet experi awesom love abl stream movi numer app fingertip bought wife love third kindl period mani yearscant go wrong price love tablet power last long short charg time hd screen realli clear con app avail like googl play satifi gb card mine plenti space download camera flash best didnt buy tablet high recommend hd tablet gb amazon fire want go wrong tablet thing realli need thought buy use featur expens computertablet happi purchas got wife birthday older model want upgrad seem happi use everi day user friendlylong last batteryveri clear display like screen size easi read book night batteri long life outer rcase could stronger concern durabl love like one better sinc alreadi kindl knew want need second one littl bigger alway love servic help get bb knew would purchas found salesman knowledg help thank much help servic new kindl replac old kindl lot book surpris book transfer work well seem work surf net music sound okay fit right hand light weight love extrem happi purchas like screen littl bigger much faster tablet best one price purchas tab kid broke ran super slow love would definit recommend anyon want save buck want qualiti love kindl fire kindl disappear enjoy go librari book get great select book everi day recent upgrad tablet everyth want highli recommend kindl want option love bigger screen find easi read reflect light much realli enjoy new tablet like travel famili use play game watch movi right size purchas inch devic also purchas black coveri play ask could get set told would dollar dollar left store kindl someon els set free disappoint get someon els set kindl previou kindl die want new replac fast went amazon one back order month expect pay went best buy found price even better avail local store could pick day kindl larger old one book read much easier featur dont use cant comment love itth drawback store cover fit kindl present year old grandson pleas kindl fit quick start show get thing done bought wife anniversari love nice read watch video strong wi fi must slipperi hold buy cover tablet stop work own two week came back hour done like time dont send ahsn get aggrav love size hd qualiti look fordownload app realli fast sixth unit featur mani newer model didnt thank perfect size older person use minim love app everyth els think perfect tablet beginn app need love tablet gb memori expans slot bought gb micro sd card love featur thing last even month went dead go tri take back origin kindl replac newer one love year old love much enjoy read play game surpris open bright color im happi purchas say complaint mm jack right next volum button get way love first kindl upgrad new one practic seamless think best product ive bought alreadi eight ive purchas year famili seem get better less expens price complet satisfi product qualiti graphic great download breez would definit recommend product dad first time user anyth techi realli enjoy enjoy read find better devic excel price product qualiti kid enjoy tablet one inexpens ipad avail app limit im alway use amazon tabletperfect game love read kindl fire like hundr book fingertip use time much better bring laptop bought husband realli enjoy realli enjoy kindl fit perfect purs screen good size purchas wife mother like play game read need new kindl wasnt sure one choos one great product ok best get sale item fine batteri life seem littl short bottom lineso overal think kindl fire hd great product complaint far extrem happi purchas kindl fast screen clear sudden stope charg use time short time purchas get replac best help purchas bc old kindl fire final bit screen went dark happi one cost great screen resolut great user friendli favorit featur sd card add gb son live unit favorit game go get samsung tablet everyth better amazon tablet great googl bloatwar everyth amazon one thing didnt like ad lock screen way turn didnt expect anyth less got kindl tablet could much better app actual work decent built amazon piec prime member great work flawlessli enough overcom terribl app behavior countless freez need take lesson two appl size tabl great im abl carri purs problem realli nice custom first servic kindl reader familiar unit love best thing could ever brought use read book read lot book right size light situat bought comput love yearold dad check email chair rather go comput room got sale realli made worth get bought replac kindl mother law love perfect size kindl well worth price wife love tabletmuch easier use previou tablet purchas seem charg way th kindll nicer old fire better screen area view husband use realli love got kindl unlimit book also great play game surf web perfect size read watch movi carri plane upgrad inch differ total satisfi would recommend everyon know bought kindl fire husband use neither one us abl figur use everi time open advertis pop tri button remov cannot get rotat puzzl complic use navig around return ipad much easier like price right enjoy bought gift daughter diabet lose vision hope larg text easier see keep read nexu painstakingli slow want someth lag everytim tri use browser freez whilst play game get job done well batteri life also good highli recommend casual brows game satisfi product perform extrem well area oper bought one daughter help learn mani possibl way cheaper ipad basic thing pleas purchas fire hd video qualiti great view espnnetflixyoutub tutorialsth abil easili load read save textbook within amazon kindl app fantast fraction price ipad first fire hd purchas die within week purchas go back exchang new one good sign far bought friend sinc like mine muchit great way check email read kindl ebooksi keep sd card mine store book drop purs read go love custom servic knowledg help realli love product let read book surf net make sure buy micro sd card least gb memori constantli delet old item come new technolog help everyon enjoy life greatli satisfi sale price way faster expect new kindl upgrad year old kindl fire expect video qualiti better along faster perform featur still use old kindl still tick shini new toy fun purchas product whim limit purpos studi exam middl seat long flight expect hand year old exam surpris realli enjoy devic particular like amazon account integr next flight delight find unit actual download video offlin view best part upgrad memori gb sd card avail content awesom truth first unit inexplic fail best buy replac unit right away expect great thing new devic son also use long trip abl download music movi free need comput savvi wound much help came simpl basic instruct great mom isnt tech savvi luv love kindl continu buy famili purchas amazon fire hd replac nd gener kindl fire work great color sharp bigger lighter weight old batteri life longer also storag camera love pro hd qualiti low price work realli well amazon account access multipl amazon featur extrem eas couldnt happier ipad extrem versatil came big price tablet love excel product would definit purchas bought tablet son colleg love replac hd fire broke screed pleas larg screen love sent one famili mexico love third kindl love still first kindl use wore kindl fire year use happi everyth new one disappoint got husband birthday like light weight speaker power one best purchas invest could make technolog bought kindl book amaz overal featur kindl featur tab bought sister gift need use laptop basic internet surf watch movi travel devic speed decent although cannot compar perform laptop want avoid carri bulki laptop travel want budget make devic laptop choos amazon fire tablet pay best get best thank best buy provid product perfect tablet husband want size big small carri without clumsi drop love kindleit user friendli there much thought first work fine three week stop took back got replac one last almost month took back told deal amazonfound thru amazon webpag unit simpli froze reset upset store associ knew noth product research everyth decid buy instead tradit kindl regret decis allth con evalu tablet amazon app store mani app googleplayappstor simpli avail old fire upgrad fire hd love everyth far got tablet caus want start read graphic novel manga impress run smooth even use hulu netflix flaw ad lock screen though take grade littl tablet wife want got total happi love size read onlin book competit price unit work well like color size realli like build qualiti lacklust perform minuscul batteri life didnt make keeper wonder littl buy tire bulki tablet one stay charg lot longer like download movi watch offlin netflix bought tablet mom birthday recent love use time alway want tablet final decid amazon fire awesom love iti download game enjoy great internet definit worth price get lot money lot option ok price littl slow doesnt mani app googl play wife love said open much faster like auto updat app would recommend friend shop amazon mani preload game mani app didnt depth research particular tablet price speed good want con abl clear home screen app reloc see person home screen pictur get sale incred valu tablet perfect anyon want screen without pay premium price build qualiti fine screen isnt best definit usabl power tablet flawless util amazon program serv need economi tablet would reccomend quirk come kindl better qualiti sound display excel productrelablemaximum speedfast download love tablet big enough see work prime watch movi stream music purchas kindl year ago love flexibl give brows internet without move desk get person comput love fact continu read book travel doctor offic visit seem roll calmli ignor offic chatter tv select rather watch encourag other make purchas sever done second purchas love amazon fire tablet quit good provid suffici content abil basic one requir tablet inch screen bright provid variou set tablet light weight make portabl fire hd perfect size eread big enough see text small enough hold comfort bought amazon fire hd christma present wife second tablet given past year love goe wherev goe fire portabl easi use say goe happi wife mean happi life wouldnt hesit recommend fire anyon purchas year old great price point like parent control featur multipl profil allow control access plu gift famili member realli enjoy option get book best b help learn read follow direct best buy product provid great custom servic grandson enjoy product use kindl fire last xma work raffl gladli got kindl fire bigger screen better batteri life love great read product love light adjust low light area adjust font size read comfort thing like download app watch movi realli love love whole lotthank guy bought amazon fire hd wife christma present old amazon fire year happi amazon fire hd cant beat price tablet gb minicomput camera perfect trip enjoy read via devic lot option also plu littl heavi hold reclin asesom perform design got sale dollar tablet afford pretti decent couldnt recommend kid price featur awesom along parent control function great although wish came color kid love batteri life longer other decent tablet skeptic first perform surpris batteri last decent amount time connect beauti amazon ecosystem alreadi would recommend anyon like watch videosbrows web go children word relationship interrupt electron devic well girl take reader everywher go use tell talk much hardli get word edgewis smaller lighter previou fire work even better everyth expect none drawback found tablet work well probabl best android tablet get money downsid cant googl playstor tablet still instal manual sinc base android os bought mom move assist live place abl use littl show mom happi seem fast easi usei like better phone didnt get chanc see camera yet love everyth new kindl except fact charg cord alreadi loos want one play bejewel blitz one size fire tablet give feel book hand read book size lightweight easi transport fit easili purs im enjoy fire tablet gift got kid gift could read book easier help ton bought four kid love would recommend eread other high qualiti divers eread web browser got father amazon fire he never use tablet let alon comput challeng pretti good hard time see screen love new kindl fire even old one lost travel lot perfect watch movi read flight bought two kindl fire year old twin grandson past christma download lot educ program absolut love need buy ipad far costli everi version kindl sinc week introduc jump chanc kindl fire replac first one everyth want except past summer start overh got nonrespons midday heat soi got one first miss swype get rid secondli cannot put two favorit app work old one work lastli importantli everi awhil screen freez bunch code shimmer background turn andor leav awhil bring back life turn seem happen close program move new one aggrav expect product happi past granddaught love fire al game also download music app happi mani thing learn tablet weve three kindl well built cant get qualiti tablet manufactur amazon great support gift grandpa internet search chair play game love simpl use inexpens love kindl fire good watch movi read anyth need tablet replac amazon fire tablet grade daughter broke screen old one absolut love old one say new one even better tablet small enough pack screen perfect size watch movi plane travel highli recommend kindl wouldnt anyth els love read best devic yet read wifi capabl would highli recommend item recent upgrad model kindl like much bought one daughter love much nicer older model earli gener kindl love unwil updat kindl great new one got wife made look like old one stand still much faster love great inform servic guy help us friendli better older model bigger better realli enjoy amazon get easyer use find new app everi day nice tablet speedi thing dont like cant add googleplay app guess that expect use kindl daili basi good size read bed extrem pleas fast effici reliabl son love kindl fire use everi day bought someon tech savvi he done great bought tablet sale look thing interest love alexa featur love listen music read ebook bought grandchildren love user friendli bought yr old son perfect mixtur game kid friendli readalong book make perfect kid cours there much adult well great buy bought niec realli enjoy abl watch netflix play game could surf internet need went bigger gb sinc wasnt much gave door prize offic parti love tablet simpl set worth price perfect beginn price get alot valuegreat watch movi amazon shop youtub product met need would recommend other would recommend right person want low cost tablet butend return item heavi wide hand hold big hold hand small use like larger tablet end use lenovo yoga sinc flexibl lb heavier bought use recent travel abl download sever movi tv show netflix seem decent storag video playback fine purchas amazon fire gb model far perform expect drawback screen somewhat reflect light sourc need constant clean smudg normal use love first new one everyth fingertip surpris buy light compact still strong enough need problem white page process buy ad new kindl found better unit use tine whitepag gave wife christma upgrad origin kindl thoroughli enjoy problem fire work well need case size conveni help friendli didnt much select look found need basic internet plu ton amazon app standard one want use amazon excel tool realli enjoy product love watch movi play game fire hd pull trigger fire tablet know would instal googl play store separ work could bang buck android tablet best tablet money buy happi perform respons extern speaker much better expens samsung tab e tablet purchas devic son take full benefit prime account decent devic reason featur low cost bought year old son navig app site easili built wifi help car ride parent control block buy everi download find attract still tri figur get alexa audio respond replac fire kindl love hd qualiti own kindl fire hdx gamecircl year final decid goodread upgrad fire hd great realli prime larger screen new featur amazon tablet link amazon prime account watch movi listen music grandson use borrow one school think amazon tablet need dohandi travelingeasi oper tablet wonder young kid there way switch kid friendli christma present hasnt lot use yet far tablet work well straightforward set still kindl sinc year ago still work love grandkid love kindl look tablet read book perfect turn fire much better expect well worth paid bring back exchang differ make beauti pictur enjoy differ app look forward hour fun brought tablet black friday sale fast forward christma year open happi set two day later crash never came back blank screen disappoint gift wife want lighter kindl happi new version truli enjoy fire last kindl fire year old work great want front rear camera camera take good pictur also like featur alexia got wife christma love thing read kindl book surf web like regular tablet purchas mom show app took without direct much easier travel lap top took coupl pictur camera went view cant seem find pictur bought tablet transfer app didnt transfer ill come explainedoth pleas bought gf sinc phone play game etc ive use time like got yr old main concern parent control parent control awesom featur easi set amazon plenti free app kid didnt need purchas extra thank im happi purchas purchas realli like price also bought protect case antiviru program amazon fire tab work realli wellth sync aspect nice abl pair devicesi wish googl play bought son read book search stuff line watch youtub said didnt hurt eye like ipad tablet far one best purchas weve made son kid featur extra nice purchas kindl fire hd best buy fianc download first book alreadi start read said realli cool use said easi see navig kindl fire hd sweet tablet read app like netflix hulu everyth kid need without pay ridicul price realli enjoy use tablet run well got kindl fire hd daughter christma love much product quit durabl user friendli mani aspect th kindl love beginn tablet kid worri data overag sd card slot memori longer issu year old enjoy play great select app game expect kind qualiti price paid surpris nice product first cant get much like one batteri life great screen nice clear bright would buy anyth ever happen love tablet perfect size everyth afford im love kindl fire everyth need version much better older version better graphic faster processor havent use product like man tell u better appl product grandson love smaller one want larger one second kindl light faster previou kindl came free audio book day cool better screen seem long wider im ok got sale great deal use watch youtub phone wife decid need someth bigger seem like much buy micro sd card previous nook die tri fire hook great price lot thing bought orang fire hd black friday great price husband like lot purchas replac previou fire tablet charg issu ive heard sever other similar issu hope model last longer improv charg port bought dad love tech life easier alexa integr fantast bought two famili connect easili work surprisingli fast small price use fire hd download book librari easier read smartphon bought replac children age ipad theyr happi kindl fire hd impress product faster samsung tablet know enjoy use wish amazon prime music download app enjoy pad option great starter pad kid kindl fire st one mush betterwith new stuff insid ilovemi kindl howev crash coupl time sure also case made kindl clamp use hold right button turn volum better case pleas let know easi set print easili adjust extra larg year old dad realli happi first experi technolog surf net read news onlin highli recommend horriblejust like own due warranti got year old daughter love love abl make specif profil children upgrad mother rd gener amazon kindl fire hd new one like display bigger much faster cannot get better tablet price best buy sale daughter love everyth transfer kindl fire said unbeliev fast awesom play pokemon clash use silk awesom great present one best tablet market valu want realli like way perform let connect librari diapoint purchas wife option phone laptop brows internet handi great dont want use comput take anywher bought wife fire recharg often paper white like far want happi price everyth need screen nice enough price right perfect wife colleg daughter easyto learn reader pleas tablet love hd user friendli thought twice get peopl say limit app limit happi abl get googl youtub netflix main app actual care price cannot better love much end get kid one key own tablet amazon prime account bought two kid christma love level control give supervis monitor usag great batteri life pictur qualiti camera greatest often dont use camera usual phone use instead hold lot book amazon fire hd great tablet bargain price purchas christma time even better valu amazon prime account downsid use amazon appstor instead googl play store varieti greatest small tablet want someth conveni wife love fire hd one older model grade new model feel love right away excel keep coffe tabl take along trip cant beat price definit worth investmenti may get coupl daughter smaller eight gb tablet nice step better graphic extend memori sd card photo bought son enjoy play he abl download app want camera awesom love kindl fourth kindl best one yet use hd person entertain system perfect cheap devic kid grandkid nice sit around doesnt disappoint nice featur own two prior one nice tablet first tablet im excit learn use use ton yet happi experi far great stuff good tool help kid go find knowledg help want knowledg still encourag first time user pleas great book download big small kindl fire amaz love kindl fieri bought fire hd replac older model kid love eas use integr amazon prime make product worth everi moment mostli use watch movi play game work well need great price need option far product goe may want stick ipad galaxi tab love tablet pretti much everi thing ipad fire tablet everyth nexu tablet also ad benefit expand storag nice tablet media consumpt price amazon user sure purchas kindl black friday work well reader tablet good batteri life silk decent option browser also side load nook apponto kindl work well nookeread user friendli straight forward instruct great age realli afford present kid around pick doorbust fatherinlaw amazon account watch movi like kid like much price low tablet light weight love kendal cannot find case screen saver got thing around black friday paid someth buck awesom equip actual stream web glad bought cant believ inexpens gift one granddaught love kindl second one ive bought bigger newer gener lot option purchas grandkidsand absolut love play play game heart content ar ed realli fast got kindl broke fire took get use sinc screen bigger overal great purchas pretti happi far like fact add memori perfect price tablet recommend kid dont take care electron purchas ipad kid broke break tablet purchas anoth low cost best buy tablet fast work well pleas amount app amazon offer daughter love tablet use netflix glad made choic kid love gadget thing learn play great thing custom content children amazon tablet line possibl one best function android window eas use equal ipad tmti second tablet purchas kid perfect thing kid love keep social media watch movi onlin fantast happi product nice fanci hd cool abl see read book full format thank pretti impress littl devic easi setup work rather well also bought ipad air gb bf play around hd fire return air met need much lower price ad gb sd card download movi netflix hd display clear batteri life could littl better overal im satisfi free stuff get amazon prime account ice cake dig much better origin kindl fire replac look replac tablet exactli need outstand replac tablet outdat overpr ipad use everyday work time brought grandmoth realli love want someth game read thought great deal enjoy much pass lot time easi download amazon fire hd super fast tablet money combin amazon prime account true valu releas purchas tablet nearli everi famili member link one amazon account becom unbeliev valu bought black friday use month faster fire like due gb vs gb ram screen resolut fine though best price complain amazon add nice featur well advertis discreet fire turn problem even full price good deal need away comput go work got great deal fire hd kid love play like read amd play game itbett bulki comput need inexpens portabl alexa devic work perfectli allow read kindl lib even play game like download book fast still learn featur explor posit featur everyth tablet like share across platform read onlin review compar product price amazon like idea kindl tablet one work great pricebut shove amazon stuff hroat like fire tvand link amazon click buy haveit set way ook user convert kindl size great respons got one one gift replac old kindl took power failur hit new kindl updat easier download ebook learn new updat appear user friendli old one custom servic kindl avail help get review book purchas return book librari excel valu small laptop lenovo screen flash memori microsoft word year new tab upgrad previou kindl year love exactli look old tablet stop work valu amazon fire best buy much pass reluct replac previou kindl fire wasnt sure would like well pleas say im love bought kindl fire grandson one thought great much price cant beat use comput realli enjoy far perfect mean certainli worth price work better expect abl surf net watch movi batteri life screen awesom bought buck look buy give gift amazon fire hd great much faster fire tablet troubl beg kept restart reboot return got black friday also inch fire tablet buck tablet way better inch non hd fire truli enjoy product older one superb area entertain bought one last year one cousin continu anoth year great buy imo small enough carri purs open whole new world wait appoint one children bought one mother amaz tablet especi price purchas mainli use travel havent realli opportun give fair road test point advertis capabl download movi book watchread travel without burn data hit data roam fee purchas wifi flight best tablet price three children one worth nd kindl happi price right could resist buy anoth bought someon gift big amazon kindl huge plu featur amazon store improv love iti know tablet kindl app awesom price kid work okay thing like youtub netflix app take longer load mani game get ipad arent avail fire tablet still say go mac bought colleg student substitut text book work great two oldest almost love tablet love freetim subscript amazon aunt never use comput internet hous love read love learn challeng learn use new kindl whole famili use tablet love prime awesom work right husband love well kid got everyth gotten primarili watch movi run basic internet program pleas date speed processor pictur qualiti kindl fire hd meet read web need great devic son game sinc alway use iphon told sale person could come back week receipt get black friday price custom servic ladi said dont misl item okay purchas tablet thanksgiv day alreadi store buy new cell phone sale pleas purchas alreadi amazon prime member link account happi purchas recommend brother bought day need tabl memori start fit bill kindl mine camera like one make easier captur pictur instead stop use phone item perfect onlin read internet brows con amazon doesnt app googl play love new kindl bought replac inch love love kindl taken place laptop complet ad benefit like tablet thing im fan amazon app store wish googl play know granddaught love older one given part like tablet got mother con use amazon app amazon fire hd great choic beginn tech savi person nice tablet usual item instruct get start best bang buck small nano need space song come far love didnt realli need bigger one phone thing bought item nephew love old version fire hd love well way cheaper buy appl tablet havent problem well worth money definit amaz deal amaz price black friday weekend amaz product amazon within budget get best outcom far best deal money happi purchas kindl fire own sever year love bigger screen ad featur version bought daughter inexpens user friendli use time she school bought fire inch last year one better awesom low price high qualiti daughter like much bought year old great parent control allow keep track monitor use would recommend other get children buy new kindl fire hd batteri quit hold charg told noth could love light weight size fun tablet realli want give devic chanc end return huge upgrad though cheaper version honestli dont think anyon purchas budget handl get version heavili invest amazon ecosystem ie prime member make great tablet think intend kid though adult ipad hous tri toddler cheaper tablet interfac quirk amazon os worth hassl end seek use ipad mini instead purchas nephew christma know enjoy read review varieti thing year old bought two grandson grand daughter love like parent control app two previou kindl sinc first avail realli like new upgrad screen crisp clean color great much easier look book unsur get tablet purchas amazon fire convinc made right choic happi ever sinc concern lot learn came quickli realli like screen size great buy love fire need howev four star cant get rid ad lock screen unless pay lot glare dont mind glare much speed great lot storag brought son exactli want love got kid durabl appl tabl upgrad year old kindl old doesnt seem great differ graphic interfac still suck decent read kindl fire user year new one amaz like abl store inform sd card wifi would drop often could listen spotifi servic without buffer got year old year old love educ app book read read along would recommend get case littl one keep protect suit exact need mobil way watch netflix one best purchas ever simpl use suggest sale associ im glad took suggest got wife use daili read realli loke job travel would recommend friend fifth kindl new one new featur use like tablet lot read normal disspoin tv automat chromecast cannot cast toshiba tv work other tv like perfect tablet year old without spend fortun love parent control limit time play bought mom scare even use laptop thought look user friendli sinc know year old nephew use ipad enjoy kindl read watch movi play game instal driver googl play store also pay amazon get rid lock screen ad worth use thing alot sound screen qualiti great like blue light cutoff featurei found toggl back forth onlin clumsi compar tabletit lightweight easier handl long period time good cheap tablet great netflix youtub screen decent size bigger phone smaller laptop also hd plu love tablet wait recommend friend think amazon fire offer includ standcov standard enjoy mine lot sinc forc purchas standcov hold tablet would prefer instruct sheet grt everyth set use total appl famili littl hesit purchas ipad stop work glad perfect cant beat price year old use school scan qr code onlin math alway ipad user love kindl fire everyth need much less expens batteri last long time actual like old fire love read magazin check email love kindl fire hold librari book read anywher chang kindl fire phone dont kindl start right book finish kindl fire play game listen book devic love good number basic task amazon underground featur realli cool feel like android limit great media consumpt screen seem sharp enough unless get unbear close wifi connect good speaker sound poor didnt expect better tablet tablet sinc novemb still go strong complaint slow charg isnt bad granddaught love tablet learn play educ recreat game help futur purchas yr old granddaught primarili use netflix work great great item teen live item offer read look tablet expand memori reliabl amazon tablet best choic cannot beat valu featur product offer low price point amazonfir inexpens wifi devic use answer messag quickli shift person person well move room room love fire hd went back bought fire wife afternoon ive multipl amazon fire tablet great bargain love eas use function downfal realli slow charg gecksqd help understand differ thing great tablet lag free run app good batteri life downsid lack abil screen mirror avail older version longer first tablet purchas husband prior long train trip download movi internet great travel origin kindl fire realli enjoy new updat version larger screen easi navig love read book search internet abl sign set make devic super user friendli year old curiou adult materi tablet control much content see even control much learn watch video game love tablet size fit perfectli one hand display wonder load app read absolut best money kindl fire best tablet market wish didnt buy pad alreadi would got one son love lot kid friendli app avail left airlin flight bought replac love love speed video glad bought worth download speed improv much pricequilti thing brainer awesom portal amazon world wife use play line game love need tablet begin explor googl kindl fire great choic got tablet mom isnt tech savvi love cant beat price hand great updat first gen kindl worthwhil cheaper paper white abil happi get product would also recommend friend dont use much applic work thing need alright brows internet watch video work great excel screen size cannot go wrong price unless need instal googl app amazon block although heard work around nice tablet howev could better get pay grandbabi love kindl th kindl buy bought son first tablet impress builtin parent app good level control feel comfort son like kindl think like get use get educ featur play admittedli need explor tablet enabl custom set app first experi tablet husband like use time like batteri life greatlast bu trip kept quiet got wife love great speed display gift son realli enjoy read well play game got mainli watch tvmovi batteri life best devic use date enjoy kindl better version well realli nice item work wonder cost bargain tablet excel use couch inth bedroom car simplti love good pictur even take pictur awwsom even get free month amazon prime came handi around christma time thrill purchas afford high qualiti tri rd time new amazon fire seem nice upgrad tablet work well better ipad quicker simpler use better speed reaction prosgreat valu moneyenough power handl lot android gamesdec batteri lifeconsfeel slow use weekslowresolut screen camera screen good lack googl play kinda hurt surviv issu back button multifunct button sometim dont appear need part screen kinda summon pain good tablet valu downsid there googl play store access your limit app amazon app store first android tablet use numer appl ipad thoughth thing dissatisfi isnt instagram app avail doesnt anyth amazon kindl daughter get great use tablet love read get best world get book surf web fsntastic buy bought mom love convinc read book got yr old daughter perfect hasnt issu game educ app use bought year old daughter use daili enjoy watch movi play learn game far durabl batteri life great im use n ipad wasnt impress kindl found hard navig fire hd great read kindl book pretti slow surf web look great kindl would recommend surf web regret price went week purchas much easier use phone screen size capabl love kindl price excel would recommend chose one price size screen use eread disappoint great entri level tabletread hold lot expand gb amazon fire tablet get everyth would expect highend tablet less that hard beat love tablet daughter use mainli realli like good read game well web surf meet need year old daughter receiv christma seem love fay enough keep entertain love fact easili access book want bought father law tech savvi free may day featur best part dont get call tech support time got sale last year love iti use primarili read get email surf work flawlessli applic bought son wouldnt carri book back deploy bought one one daughter like got kindl christma present mother absolut love enjoy read night hate dim light read book perfect compromis amazon fire great year old play game kindl fire hd upgrad kindl fire mani featur easi navig cant beat qualiti perform tablet bought main link amazon prime use last week instead download direct tv app could use watch fb championship game work great couldnt help bama team win niec want christma enjoy everi minut use th kindl use tablet travel mani app look hard put everythig reach figertip simpl object tablet excel choic adult children love oneit third kindlemi last one bit larger bit heavylov one read play gamesi check email shop line well take store photosi also listen music amazon continu offer qualiti product amazon fire hd reason price want someth small perfect size keep get better great beginn pro wife love make life better els need know past screen size good hd pictur clear also like camera photo better cell phone camera size pictur great would recommend fire hd eas use bought wife absolut love devic older kindl want space work well got last black friday look cheap decent tab couldv better mirror capabl best thing read special go second amazon fire purchas want one home one keep travel work negoti fit basic daili need bought replac wife previou kindl love larger screen fact camera friend enjoy get acquaint first ever electron devic need get digit age older woman excit kindlefir gift wife truli enjoy differ light read help user friendli price best deal bought wife read lot book love user friendli overal great product camera qualiti greatest intend use camera cant complain bought read tool daughter enjoy also fact download app great tool school fun bought husband replac old one use time would recommend daughter love use everi day like everyth youngest daughter pleas tablet help amazon prime member download lot thing tablet purchas gift avid reader stream media devic look bigger kindl one right compromis size portabl plan use love love love kindl fire origin bought ipad bought kindl wonder even bought ipad switch stick kindl ok like product much thank ok lot cheaper tablet function need nd would way rather fire day ipad love product first disappoint could download googl store app quick googl search fix issu download googl store app batteri life amaz abl watch around full movi singl charg perform great game like marvel champion modern strike onlin issu abl add sd card perfect dont worri storag download movi app speaker better samsung galaxi price point tablet singl thing complain bright screen better amount paid tablet worth sale grandson love happi tablet work well surf internet play music husband total enjoy own amazon fire tablet much easier eye iphon great improv old kindl fire better size hd big small fast process spead bought wife love took get use though well perfect item need compact go anywher kid got replac ipad havent miss beat bought aunt christma want book reader decid want someth could play game she happi purchas replac older kindl fire hd disappoint intend recipi thrill camera came well worth money price tablet absolut steal ive never ipad compar that ive never want spend hundr dollar tablet recent upgrad inch kindl must say huge improv say speed processor next year ram might compet ipad put memori card put play store googl use mini offic bluetooth keyboard love perfect tablet basic use upgrad kid edit amazon fire much less expens ipad durabl tween isnt alway care tech first time tablet much fun play game prefer amp unit allow buyer place amp want ever use perfect kid parent control make feel secur let child use tablet safe would recommend grandpar grandkid work great use amazon lot watch movi amazon familiar self conclus say someth expect android devic discov android like devic fault read devic hand return amazon fire bought samsung tab ei probabl would recommend tablet want devic read love kindl bought upgrad replac origin kindl fire would give excel rate camera better pictur come graini clear great watch show video clear love play game cours read latest book look inexpens tablet child got sale order screen protector child case work well set daili limit prevent use much would buy great devic need someth small read book devic exactli look nephew like larg size fire tablet significantli larger phone purchas nephew christma love realli enjoy play game read book purchas nephew love cant stop play grandson broke amazon fire tabl one day warranti expir disappoint bought version big smile serv everi function need tablet price right handi littl tool read ebook product user friendli lightweight bought primarili photo ad card put card might littl tricki sale rep wildlif photo look brilliant tablet id recommend make geek squad appt hour plan buy tablet way learn use leav store also got one return part still plastic wrap made less henc great deal titl may pay ask return plan take free class offer like volum button side old fire better top like new that reason didnt give star rate still learn differ thing kindl fire far like bought tablet rel christma want access audiobook issu tablet need wifi connect order audio work certain app problem constant access wifi rel nice tablet otherwis devic complet meet need read access kid expens tablet die twice repair fire brand new would buy anoth one pricegood product teenag love read purchas great purchas would give star add function ipad upgrad standard kindl kindl fire lot featur price would definit recommend anyon want tablet doesnt want pay lot money great christma gift kid allow store favorit book play educ game nice also option microsd card extra storag perfect face time famili perfect travel love use daili love fact add ad card memori love would recommend young old unabl download instagram app stink bought husband nurs home abl listen music love use everi day music thing nice tabket money mani nice featur durabl love kindal reader abl check book librari overdr get alert world event simpli go ond news app get latest headlin great price kindl fire hd wonder tool well devic entertain beauti kindl fire price look forward buy updat devic hold charg better tablet ever rd kindl fire purchas one much faster user friendli bought grand daughter grandson kindl fire youngest yr old master alreadi great tablet good price awesom product love flexibl book read app well second kindl love size screen super light great camera daughter love nd love leav phone alon got black friday kindl never fire love love fact practic didnt spend lot money well kid love that great bad thing say cant figur make download free game one cost money imi rd kindl devicei chose becazus haf memorystoeag kindl fire hd quit upgrad old kindl camera terrif addit screen much better got unbeliev deal best part librari book fingertip easi simpl set great im travel use x faster kindl th gener ye gb ram app store made amazon best download googl play store get app mostli use use kindl fire book read watch youtub web im give rate star ive kindl sinc first came love perfect elderli mom play game use read daughter love tabletsh take everywher kindl way good product money hold famili one got love get kindl money time big one would tell friend purchas fire tablet christma gift husband learn use far like realli well hasnt download book yet email address soon facebook account brother sister live around countri abl keep contact replac old origin kindl fire great upgrad thought better mother law play game facebook next time buy samsung total hour half screen went complet dark would turn batteri fineit quit work togeth bought year old godson love would play hour end parent would let mostli play game also use watch video read book granddaught love cant put great build qualitygood screen resolut moneycan instal android applic includ kodi like much bought anoth one daughter husband look around tablet daughter want someth could use easili wouldnt worri differ profil parent control avail enjoy choic tablet love unfair rate product caus even taken box set nice realli nice go buy one grandma give real big hug deliv advertis fast perform kid love absolut love tablet wife love much enjoy play phone children kindl one far best one purchas real satisfi mani app first one alreadi returnedno power issu weeki hope second one fine awesom tablet wonder upgrad first kindl fire grandkid got one love step origin kindl great buy yr old cheap end broken reason replac easili happi get toy son christma wont stop play bought daughter love great invest watch movi purchas two fire tablet children son love read book librari daughter love listen audio booksthey sure would like tablet realli love love hd extra inch make huge differ hd bought line gift unit stay cannot get touch anyon get unit repair simpl use great dad want play game check weather bought new tablet user quick train session caught right perfect size speaker clariti amaz produc great pictur perfect summer read movi love seem like lot gadget money went back bought one watch movi love excel worth money amazon fire hd tablet gb wifi replac smaller one broke tip add child proff cover migrat execut experi amaz pick cloud good go satisfi get job done kid love must ok differ android charger noth worthless simpl nice faster processor updat oper system plu slot extern storag great price get wife love perfect kindl fire hd eas use durabl plu per usual moder internet use glad made purchas perfect year old grandson got one dont need bring tablet back forth suit need well  great catch favorit show better watch phone afraid would break fit small purs bag space saver']\n",
            "\n",
            "Key Differences Between Top 5 Products:\n",
            "Difference between 0841667104676 and 0848719069587\":\n",
            "Sentiment Difference: nan\n",
            "Cluster Difference: False\n",
            "\n",
            "Difference between 0848719069587\" and allnewfirehd8tablet8hddisplaywifi32gbincludesspecialoffersmagenta/5620408:\n",
            "Sentiment Difference: nan\n",
            "Cluster Difference: False\n",
            "\n",
            "Difference between allnewfirehd8tablet8hddisplaywifi32gbincludesspecialoffersmagenta/5620408 and 841710106442.0:\n",
            "Sentiment Difference: nan\n",
            "Cluster Difference: True\n",
            "\n",
            "Difference between 841710106442.0 and 0841667104676:\n",
            "Sentiment Difference: nan\n",
            "Cluster Difference: True\n",
            "\n",
            "Worst Product: avg_sentiment    841710106442.0\n",
            "dtype: object\n",
            "Summary of Worst Product: httpswwwamazoncomamazonbasicsperformancealkalinebatteriescountdpblhdmuo httpswwwamazoncomamazonbasicsperformancealkalinebatteriescountdpblhdmuo httpswwwamazoncomamazonbasicsperformancealkalinebatteriescountdpblhdmuo httpswwwamazoncomamazonbasicsperformancealkalinebatteriescountdpblhdmuo https\n"
          ]
        }
      ]
    }
  ],
  "metadata": {
    "kernelspec": {
      "display_name": "Python 3",
      "name": "python3"
    },
    "language_info": {
      "codemirror_mode": {
        "name": "ipython",
        "version": 3
      },
      "file_extension": ".py",
      "mimetype": "text/x-python",
      "name": "python",
      "nbconvert_exporter": "python",
      "pygments_lexer": "ipython3",
      "version": "3.12.7"
    },
    "colab": {
      "provenance": [],
      "gpuType": "T4",
      "include_colab_link": true
    },
    "accelerator": "GPU",
    "widgets": {
      "application/vnd.jupyter.widget-state+json": {
        "fee6397f298742b186906b08e5ee38e7": {
          "model_module": "@jupyter-widgets/controls",
          "model_name": "HBoxModel",
          "model_module_version": "1.5.0",
          "state": {
            "_dom_classes": [],
            "_model_module": "@jupyter-widgets/controls",
            "_model_module_version": "1.5.0",
            "_model_name": "HBoxModel",
            "_view_count": null,
            "_view_module": "@jupyter-widgets/controls",
            "_view_module_version": "1.5.0",
            "_view_name": "HBoxView",
            "box_style": "",
            "children": [
              "IPY_MODEL_06fca87d556e465bb0399489215f7a22",
              "IPY_MODEL_0aa6a4c797dd4e6d9b3c8fb75d7638a5",
              "IPY_MODEL_0131bab3585b4d5fab1a6f540d434ab8"
            ],
            "layout": "IPY_MODEL_349524e00255476da8ce3e69bdb1aea4"
          }
        },
        "06fca87d556e465bb0399489215f7a22": {
          "model_module": "@jupyter-widgets/controls",
          "model_name": "HTMLModel",
          "model_module_version": "1.5.0",
          "state": {
            "_dom_classes": [],
            "_model_module": "@jupyter-widgets/controls",
            "_model_module_version": "1.5.0",
            "_model_name": "HTMLModel",
            "_view_count": null,
            "_view_module": "@jupyter-widgets/controls",
            "_view_module_version": "1.5.0",
            "_view_name": "HTMLView",
            "description": "",
            "description_tooltip": null,
            "layout": "IPY_MODEL_967553f1735e4f99934e622b6c8da1be",
            "placeholder": "​",
            "style": "IPY_MODEL_2981eadced4245e181214e27b87f63c9",
            "value": "spiece.model: 100%"
          }
        },
        "0aa6a4c797dd4e6d9b3c8fb75d7638a5": {
          "model_module": "@jupyter-widgets/controls",
          "model_name": "FloatProgressModel",
          "model_module_version": "1.5.0",
          "state": {
            "_dom_classes": [],
            "_model_module": "@jupyter-widgets/controls",
            "_model_module_version": "1.5.0",
            "_model_name": "FloatProgressModel",
            "_view_count": null,
            "_view_module": "@jupyter-widgets/controls",
            "_view_module_version": "1.5.0",
            "_view_name": "ProgressView",
            "bar_style": "success",
            "description": "",
            "description_tooltip": null,
            "layout": "IPY_MODEL_76edcf2405314f8b9f8bbd15ef9b26ea",
            "max": 791656,
            "min": 0,
            "orientation": "horizontal",
            "style": "IPY_MODEL_357ee08eb3d84efa813f3be90897e7ed",
            "value": 791656
          }
        },
        "0131bab3585b4d5fab1a6f540d434ab8": {
          "model_module": "@jupyter-widgets/controls",
          "model_name": "HTMLModel",
          "model_module_version": "1.5.0",
          "state": {
            "_dom_classes": [],
            "_model_module": "@jupyter-widgets/controls",
            "_model_module_version": "1.5.0",
            "_model_name": "HTMLModel",
            "_view_count": null,
            "_view_module": "@jupyter-widgets/controls",
            "_view_module_version": "1.5.0",
            "_view_name": "HTMLView",
            "description": "",
            "description_tooltip": null,
            "layout": "IPY_MODEL_a2c51067a6ee42a5ba07ff17b2f4b0b2",
            "placeholder": "​",
            "style": "IPY_MODEL_292b182f92784bc8bfeb171d986d765f",
            "value": " 792k/792k [00:00&lt;00:00, 1.85MB/s]"
          }
        },
        "349524e00255476da8ce3e69bdb1aea4": {
          "model_module": "@jupyter-widgets/base",
          "model_name": "LayoutModel",
          "model_module_version": "1.2.0",
          "state": {
            "_model_module": "@jupyter-widgets/base",
            "_model_module_version": "1.2.0",
            "_model_name": "LayoutModel",
            "_view_count": null,
            "_view_module": "@jupyter-widgets/base",
            "_view_module_version": "1.2.0",
            "_view_name": "LayoutView",
            "align_content": null,
            "align_items": null,
            "align_self": null,
            "border": null,
            "bottom": null,
            "display": null,
            "flex": null,
            "flex_flow": null,
            "grid_area": null,
            "grid_auto_columns": null,
            "grid_auto_flow": null,
            "grid_auto_rows": null,
            "grid_column": null,
            "grid_gap": null,
            "grid_row": null,
            "grid_template_areas": null,
            "grid_template_columns": null,
            "grid_template_rows": null,
            "height": null,
            "justify_content": null,
            "justify_items": null,
            "left": null,
            "margin": null,
            "max_height": null,
            "max_width": null,
            "min_height": null,
            "min_width": null,
            "object_fit": null,
            "object_position": null,
            "order": null,
            "overflow": null,
            "overflow_x": null,
            "overflow_y": null,
            "padding": null,
            "right": null,
            "top": null,
            "visibility": null,
            "width": null
          }
        },
        "967553f1735e4f99934e622b6c8da1be": {
          "model_module": "@jupyter-widgets/base",
          "model_name": "LayoutModel",
          "model_module_version": "1.2.0",
          "state": {
            "_model_module": "@jupyter-widgets/base",
            "_model_module_version": "1.2.0",
            "_model_name": "LayoutModel",
            "_view_count": null,
            "_view_module": "@jupyter-widgets/base",
            "_view_module_version": "1.2.0",
            "_view_name": "LayoutView",
            "align_content": null,
            "align_items": null,
            "align_self": null,
            "border": null,
            "bottom": null,
            "display": null,
            "flex": null,
            "flex_flow": null,
            "grid_area": null,
            "grid_auto_columns": null,
            "grid_auto_flow": null,
            "grid_auto_rows": null,
            "grid_column": null,
            "grid_gap": null,
            "grid_row": null,
            "grid_template_areas": null,
            "grid_template_columns": null,
            "grid_template_rows": null,
            "height": null,
            "justify_content": null,
            "justify_items": null,
            "left": null,
            "margin": null,
            "max_height": null,
            "max_width": null,
            "min_height": null,
            "min_width": null,
            "object_fit": null,
            "object_position": null,
            "order": null,
            "overflow": null,
            "overflow_x": null,
            "overflow_y": null,
            "padding": null,
            "right": null,
            "top": null,
            "visibility": null,
            "width": null
          }
        },
        "2981eadced4245e181214e27b87f63c9": {
          "model_module": "@jupyter-widgets/controls",
          "model_name": "DescriptionStyleModel",
          "model_module_version": "1.5.0",
          "state": {
            "_model_module": "@jupyter-widgets/controls",
            "_model_module_version": "1.5.0",
            "_model_name": "DescriptionStyleModel",
            "_view_count": null,
            "_view_module": "@jupyter-widgets/base",
            "_view_module_version": "1.2.0",
            "_view_name": "StyleView",
            "description_width": ""
          }
        },
        "76edcf2405314f8b9f8bbd15ef9b26ea": {
          "model_module": "@jupyter-widgets/base",
          "model_name": "LayoutModel",
          "model_module_version": "1.2.0",
          "state": {
            "_model_module": "@jupyter-widgets/base",
            "_model_module_version": "1.2.0",
            "_model_name": "LayoutModel",
            "_view_count": null,
            "_view_module": "@jupyter-widgets/base",
            "_view_module_version": "1.2.0",
            "_view_name": "LayoutView",
            "align_content": null,
            "align_items": null,
            "align_self": null,
            "border": null,
            "bottom": null,
            "display": null,
            "flex": null,
            "flex_flow": null,
            "grid_area": null,
            "grid_auto_columns": null,
            "grid_auto_flow": null,
            "grid_auto_rows": null,
            "grid_column": null,
            "grid_gap": null,
            "grid_row": null,
            "grid_template_areas": null,
            "grid_template_columns": null,
            "grid_template_rows": null,
            "height": null,
            "justify_content": null,
            "justify_items": null,
            "left": null,
            "margin": null,
            "max_height": null,
            "max_width": null,
            "min_height": null,
            "min_width": null,
            "object_fit": null,
            "object_position": null,
            "order": null,
            "overflow": null,
            "overflow_x": null,
            "overflow_y": null,
            "padding": null,
            "right": null,
            "top": null,
            "visibility": null,
            "width": null
          }
        },
        "357ee08eb3d84efa813f3be90897e7ed": {
          "model_module": "@jupyter-widgets/controls",
          "model_name": "ProgressStyleModel",
          "model_module_version": "1.5.0",
          "state": {
            "_model_module": "@jupyter-widgets/controls",
            "_model_module_version": "1.5.0",
            "_model_name": "ProgressStyleModel",
            "_view_count": null,
            "_view_module": "@jupyter-widgets/base",
            "_view_module_version": "1.2.0",
            "_view_name": "StyleView",
            "bar_color": null,
            "description_width": ""
          }
        },
        "a2c51067a6ee42a5ba07ff17b2f4b0b2": {
          "model_module": "@jupyter-widgets/base",
          "model_name": "LayoutModel",
          "model_module_version": "1.2.0",
          "state": {
            "_model_module": "@jupyter-widgets/base",
            "_model_module_version": "1.2.0",
            "_model_name": "LayoutModel",
            "_view_count": null,
            "_view_module": "@jupyter-widgets/base",
            "_view_module_version": "1.2.0",
            "_view_name": "LayoutView",
            "align_content": null,
            "align_items": null,
            "align_self": null,
            "border": null,
            "bottom": null,
            "display": null,
            "flex": null,
            "flex_flow": null,
            "grid_area": null,
            "grid_auto_columns": null,
            "grid_auto_flow": null,
            "grid_auto_rows": null,
            "grid_column": null,
            "grid_gap": null,
            "grid_row": null,
            "grid_template_areas": null,
            "grid_template_columns": null,
            "grid_template_rows": null,
            "height": null,
            "justify_content": null,
            "justify_items": null,
            "left": null,
            "margin": null,
            "max_height": null,
            "max_width": null,
            "min_height": null,
            "min_width": null,
            "object_fit": null,
            "object_position": null,
            "order": null,
            "overflow": null,
            "overflow_x": null,
            "overflow_y": null,
            "padding": null,
            "right": null,
            "top": null,
            "visibility": null,
            "width": null
          }
        },
        "292b182f92784bc8bfeb171d986d765f": {
          "model_module": "@jupyter-widgets/controls",
          "model_name": "DescriptionStyleModel",
          "model_module_version": "1.5.0",
          "state": {
            "_model_module": "@jupyter-widgets/controls",
            "_model_module_version": "1.5.0",
            "_model_name": "DescriptionStyleModel",
            "_view_count": null,
            "_view_module": "@jupyter-widgets/base",
            "_view_module_version": "1.2.0",
            "_view_name": "StyleView",
            "description_width": ""
          }
        },
        "202801fb7ea14194bb7df17008b3b6e0": {
          "model_module": "@jupyter-widgets/controls",
          "model_name": "HBoxModel",
          "model_module_version": "1.5.0",
          "state": {
            "_dom_classes": [],
            "_model_module": "@jupyter-widgets/controls",
            "_model_module_version": "1.5.0",
            "_model_name": "HBoxModel",
            "_view_count": null,
            "_view_module": "@jupyter-widgets/controls",
            "_view_module_version": "1.5.0",
            "_view_name": "HBoxView",
            "box_style": "",
            "children": [
              "IPY_MODEL_b1b4b6c0d5ad4a3785a486fe5e8532b2",
              "IPY_MODEL_f31c2c13ccca45d1be3ce68dc8ed3ee7",
              "IPY_MODEL_b2e28047cf9844d290ecf418ba45fb23"
            ],
            "layout": "IPY_MODEL_130c9da4cde84a32a168bbd403b2ae3d"
          }
        },
        "b1b4b6c0d5ad4a3785a486fe5e8532b2": {
          "model_module": "@jupyter-widgets/controls",
          "model_name": "HTMLModel",
          "model_module_version": "1.5.0",
          "state": {
            "_dom_classes": [],
            "_model_module": "@jupyter-widgets/controls",
            "_model_module_version": "1.5.0",
            "_model_name": "HTMLModel",
            "_view_count": null,
            "_view_module": "@jupyter-widgets/controls",
            "_view_module_version": "1.5.0",
            "_view_name": "HTMLView",
            "description": "",
            "description_tooltip": null,
            "layout": "IPY_MODEL_19c21caf0f34464f815bf598dfd61535",
            "placeholder": "​",
            "style": "IPY_MODEL_9bcefa755354458ebbec83d806b41755",
            "value": "tokenizer_config.json: 100%"
          }
        },
        "f31c2c13ccca45d1be3ce68dc8ed3ee7": {
          "model_module": "@jupyter-widgets/controls",
          "model_name": "FloatProgressModel",
          "model_module_version": "1.5.0",
          "state": {
            "_dom_classes": [],
            "_model_module": "@jupyter-widgets/controls",
            "_model_module_version": "1.5.0",
            "_model_name": "FloatProgressModel",
            "_view_count": null,
            "_view_module": "@jupyter-widgets/controls",
            "_view_module_version": "1.5.0",
            "_view_name": "ProgressView",
            "bar_style": "success",
            "description": "",
            "description_tooltip": null,
            "layout": "IPY_MODEL_25a62a9bc5b44929b1a9707f1cf07f52",
            "max": 2324,
            "min": 0,
            "orientation": "horizontal",
            "style": "IPY_MODEL_a1f0a331e53348deb04e58dda0fe9320",
            "value": 2324
          }
        },
        "b2e28047cf9844d290ecf418ba45fb23": {
          "model_module": "@jupyter-widgets/controls",
          "model_name": "HTMLModel",
          "model_module_version": "1.5.0",
          "state": {
            "_dom_classes": [],
            "_model_module": "@jupyter-widgets/controls",
            "_model_module_version": "1.5.0",
            "_model_name": "HTMLModel",
            "_view_count": null,
            "_view_module": "@jupyter-widgets/controls",
            "_view_module_version": "1.5.0",
            "_view_name": "HTMLView",
            "description": "",
            "description_tooltip": null,
            "layout": "IPY_MODEL_b4e181d01be14ab0a2b3eff36617c1ee",
            "placeholder": "​",
            "style": "IPY_MODEL_7fe1ca0e18684311a068edc6968ed030",
            "value": " 2.32k/2.32k [00:00&lt;00:00, 165kB/s]"
          }
        },
        "130c9da4cde84a32a168bbd403b2ae3d": {
          "model_module": "@jupyter-widgets/base",
          "model_name": "LayoutModel",
          "model_module_version": "1.2.0",
          "state": {
            "_model_module": "@jupyter-widgets/base",
            "_model_module_version": "1.2.0",
            "_model_name": "LayoutModel",
            "_view_count": null,
            "_view_module": "@jupyter-widgets/base",
            "_view_module_version": "1.2.0",
            "_view_name": "LayoutView",
            "align_content": null,
            "align_items": null,
            "align_self": null,
            "border": null,
            "bottom": null,
            "display": null,
            "flex": null,
            "flex_flow": null,
            "grid_area": null,
            "grid_auto_columns": null,
            "grid_auto_flow": null,
            "grid_auto_rows": null,
            "grid_column": null,
            "grid_gap": null,
            "grid_row": null,
            "grid_template_areas": null,
            "grid_template_columns": null,
            "grid_template_rows": null,
            "height": null,
            "justify_content": null,
            "justify_items": null,
            "left": null,
            "margin": null,
            "max_height": null,
            "max_width": null,
            "min_height": null,
            "min_width": null,
            "object_fit": null,
            "object_position": null,
            "order": null,
            "overflow": null,
            "overflow_x": null,
            "overflow_y": null,
            "padding": null,
            "right": null,
            "top": null,
            "visibility": null,
            "width": null
          }
        },
        "19c21caf0f34464f815bf598dfd61535": {
          "model_module": "@jupyter-widgets/base",
          "model_name": "LayoutModel",
          "model_module_version": "1.2.0",
          "state": {
            "_model_module": "@jupyter-widgets/base",
            "_model_module_version": "1.2.0",
            "_model_name": "LayoutModel",
            "_view_count": null,
            "_view_module": "@jupyter-widgets/base",
            "_view_module_version": "1.2.0",
            "_view_name": "LayoutView",
            "align_content": null,
            "align_items": null,
            "align_self": null,
            "border": null,
            "bottom": null,
            "display": null,
            "flex": null,
            "flex_flow": null,
            "grid_area": null,
            "grid_auto_columns": null,
            "grid_auto_flow": null,
            "grid_auto_rows": null,
            "grid_column": null,
            "grid_gap": null,
            "grid_row": null,
            "grid_template_areas": null,
            "grid_template_columns": null,
            "grid_template_rows": null,
            "height": null,
            "justify_content": null,
            "justify_items": null,
            "left": null,
            "margin": null,
            "max_height": null,
            "max_width": null,
            "min_height": null,
            "min_width": null,
            "object_fit": null,
            "object_position": null,
            "order": null,
            "overflow": null,
            "overflow_x": null,
            "overflow_y": null,
            "padding": null,
            "right": null,
            "top": null,
            "visibility": null,
            "width": null
          }
        },
        "9bcefa755354458ebbec83d806b41755": {
          "model_module": "@jupyter-widgets/controls",
          "model_name": "DescriptionStyleModel",
          "model_module_version": "1.5.0",
          "state": {
            "_model_module": "@jupyter-widgets/controls",
            "_model_module_version": "1.5.0",
            "_model_name": "DescriptionStyleModel",
            "_view_count": null,
            "_view_module": "@jupyter-widgets/base",
            "_view_module_version": "1.2.0",
            "_view_name": "StyleView",
            "description_width": ""
          }
        },
        "25a62a9bc5b44929b1a9707f1cf07f52": {
          "model_module": "@jupyter-widgets/base",
          "model_name": "LayoutModel",
          "model_module_version": "1.2.0",
          "state": {
            "_model_module": "@jupyter-widgets/base",
            "_model_module_version": "1.2.0",
            "_model_name": "LayoutModel",
            "_view_count": null,
            "_view_module": "@jupyter-widgets/base",
            "_view_module_version": "1.2.0",
            "_view_name": "LayoutView",
            "align_content": null,
            "align_items": null,
            "align_self": null,
            "border": null,
            "bottom": null,
            "display": null,
            "flex": null,
            "flex_flow": null,
            "grid_area": null,
            "grid_auto_columns": null,
            "grid_auto_flow": null,
            "grid_auto_rows": null,
            "grid_column": null,
            "grid_gap": null,
            "grid_row": null,
            "grid_template_areas": null,
            "grid_template_columns": null,
            "grid_template_rows": null,
            "height": null,
            "justify_content": null,
            "justify_items": null,
            "left": null,
            "margin": null,
            "max_height": null,
            "max_width": null,
            "min_height": null,
            "min_width": null,
            "object_fit": null,
            "object_position": null,
            "order": null,
            "overflow": null,
            "overflow_x": null,
            "overflow_y": null,
            "padding": null,
            "right": null,
            "top": null,
            "visibility": null,
            "width": null
          }
        },
        "a1f0a331e53348deb04e58dda0fe9320": {
          "model_module": "@jupyter-widgets/controls",
          "model_name": "ProgressStyleModel",
          "model_module_version": "1.5.0",
          "state": {
            "_model_module": "@jupyter-widgets/controls",
            "_model_module_version": "1.5.0",
            "_model_name": "ProgressStyleModel",
            "_view_count": null,
            "_view_module": "@jupyter-widgets/base",
            "_view_module_version": "1.2.0",
            "_view_name": "StyleView",
            "bar_color": null,
            "description_width": ""
          }
        },
        "b4e181d01be14ab0a2b3eff36617c1ee": {
          "model_module": "@jupyter-widgets/base",
          "model_name": "LayoutModel",
          "model_module_version": "1.2.0",
          "state": {
            "_model_module": "@jupyter-widgets/base",
            "_model_module_version": "1.2.0",
            "_model_name": "LayoutModel",
            "_view_count": null,
            "_view_module": "@jupyter-widgets/base",
            "_view_module_version": "1.2.0",
            "_view_name": "LayoutView",
            "align_content": null,
            "align_items": null,
            "align_self": null,
            "border": null,
            "bottom": null,
            "display": null,
            "flex": null,
            "flex_flow": null,
            "grid_area": null,
            "grid_auto_columns": null,
            "grid_auto_flow": null,
            "grid_auto_rows": null,
            "grid_column": null,
            "grid_gap": null,
            "grid_row": null,
            "grid_template_areas": null,
            "grid_template_columns": null,
            "grid_template_rows": null,
            "height": null,
            "justify_content": null,
            "justify_items": null,
            "left": null,
            "margin": null,
            "max_height": null,
            "max_width": null,
            "min_height": null,
            "min_width": null,
            "object_fit": null,
            "object_position": null,
            "order": null,
            "overflow": null,
            "overflow_x": null,
            "overflow_y": null,
            "padding": null,
            "right": null,
            "top": null,
            "visibility": null,
            "width": null
          }
        },
        "7fe1ca0e18684311a068edc6968ed030": {
          "model_module": "@jupyter-widgets/controls",
          "model_name": "DescriptionStyleModel",
          "model_module_version": "1.5.0",
          "state": {
            "_model_module": "@jupyter-widgets/controls",
            "_model_module_version": "1.5.0",
            "_model_name": "DescriptionStyleModel",
            "_view_count": null,
            "_view_module": "@jupyter-widgets/base",
            "_view_module_version": "1.2.0",
            "_view_name": "StyleView",
            "description_width": ""
          }
        },
        "5a176147e180412d94fc20404d1b284f": {
          "model_module": "@jupyter-widgets/controls",
          "model_name": "HBoxModel",
          "model_module_version": "1.5.0",
          "state": {
            "_dom_classes": [],
            "_model_module": "@jupyter-widgets/controls",
            "_model_module_version": "1.5.0",
            "_model_name": "HBoxModel",
            "_view_count": null,
            "_view_module": "@jupyter-widgets/controls",
            "_view_module_version": "1.5.0",
            "_view_name": "HBoxView",
            "box_style": "",
            "children": [
              "IPY_MODEL_2cf8fcadec184975828c9d31bd02661a",
              "IPY_MODEL_d23b877531644e60a547a6e964431ade",
              "IPY_MODEL_04584b853b5a4e8db6f335f21236c717"
            ],
            "layout": "IPY_MODEL_b6f31a58f6bc4563977b156d10fac18b"
          }
        },
        "2cf8fcadec184975828c9d31bd02661a": {
          "model_module": "@jupyter-widgets/controls",
          "model_name": "HTMLModel",
          "model_module_version": "1.5.0",
          "state": {
            "_dom_classes": [],
            "_model_module": "@jupyter-widgets/controls",
            "_model_module_version": "1.5.0",
            "_model_name": "HTMLModel",
            "_view_count": null,
            "_view_module": "@jupyter-widgets/controls",
            "_view_module_version": "1.5.0",
            "_view_name": "HTMLView",
            "description": "",
            "description_tooltip": null,
            "layout": "IPY_MODEL_a3dae18f47ae4640b888d5aaefd700ca",
            "placeholder": "​",
            "style": "IPY_MODEL_97679d3456394b979f9b403ce8b9ea92",
            "value": "config.json: 100%"
          }
        },
        "d23b877531644e60a547a6e964431ade": {
          "model_module": "@jupyter-widgets/controls",
          "model_name": "FloatProgressModel",
          "model_module_version": "1.5.0",
          "state": {
            "_dom_classes": [],
            "_model_module": "@jupyter-widgets/controls",
            "_model_module_version": "1.5.0",
            "_model_name": "FloatProgressModel",
            "_view_count": null,
            "_view_module": "@jupyter-widgets/controls",
            "_view_module_version": "1.5.0",
            "_view_name": "ProgressView",
            "bar_style": "success",
            "description": "",
            "description_tooltip": null,
            "layout": "IPY_MODEL_bfb556dc6c6e4bf7807fecdf37ed32ad",
            "max": 1206,
            "min": 0,
            "orientation": "horizontal",
            "style": "IPY_MODEL_1e1b566c22284c91991e88616a1b6e21",
            "value": 1206
          }
        },
        "04584b853b5a4e8db6f335f21236c717": {
          "model_module": "@jupyter-widgets/controls",
          "model_name": "HTMLModel",
          "model_module_version": "1.5.0",
          "state": {
            "_dom_classes": [],
            "_model_module": "@jupyter-widgets/controls",
            "_model_module_version": "1.5.0",
            "_model_name": "HTMLModel",
            "_view_count": null,
            "_view_module": "@jupyter-widgets/controls",
            "_view_module_version": "1.5.0",
            "_view_name": "HTMLView",
            "description": "",
            "description_tooltip": null,
            "layout": "IPY_MODEL_9580de96e1f74215862c05a805aaeff3",
            "placeholder": "​",
            "style": "IPY_MODEL_095b25ba6fd2411ea4e0556440240739",
            "value": " 1.21k/1.21k [00:00&lt;00:00, 78.3kB/s]"
          }
        },
        "b6f31a58f6bc4563977b156d10fac18b": {
          "model_module": "@jupyter-widgets/base",
          "model_name": "LayoutModel",
          "model_module_version": "1.2.0",
          "state": {
            "_model_module": "@jupyter-widgets/base",
            "_model_module_version": "1.2.0",
            "_model_name": "LayoutModel",
            "_view_count": null,
            "_view_module": "@jupyter-widgets/base",
            "_view_module_version": "1.2.0",
            "_view_name": "LayoutView",
            "align_content": null,
            "align_items": null,
            "align_self": null,
            "border": null,
            "bottom": null,
            "display": null,
            "flex": null,
            "flex_flow": null,
            "grid_area": null,
            "grid_auto_columns": null,
            "grid_auto_flow": null,
            "grid_auto_rows": null,
            "grid_column": null,
            "grid_gap": null,
            "grid_row": null,
            "grid_template_areas": null,
            "grid_template_columns": null,
            "grid_template_rows": null,
            "height": null,
            "justify_content": null,
            "justify_items": null,
            "left": null,
            "margin": null,
            "max_height": null,
            "max_width": null,
            "min_height": null,
            "min_width": null,
            "object_fit": null,
            "object_position": null,
            "order": null,
            "overflow": null,
            "overflow_x": null,
            "overflow_y": null,
            "padding": null,
            "right": null,
            "top": null,
            "visibility": null,
            "width": null
          }
        },
        "a3dae18f47ae4640b888d5aaefd700ca": {
          "model_module": "@jupyter-widgets/base",
          "model_name": "LayoutModel",
          "model_module_version": "1.2.0",
          "state": {
            "_model_module": "@jupyter-widgets/base",
            "_model_module_version": "1.2.0",
            "_model_name": "LayoutModel",
            "_view_count": null,
            "_view_module": "@jupyter-widgets/base",
            "_view_module_version": "1.2.0",
            "_view_name": "LayoutView",
            "align_content": null,
            "align_items": null,
            "align_self": null,
            "border": null,
            "bottom": null,
            "display": null,
            "flex": null,
            "flex_flow": null,
            "grid_area": null,
            "grid_auto_columns": null,
            "grid_auto_flow": null,
            "grid_auto_rows": null,
            "grid_column": null,
            "grid_gap": null,
            "grid_row": null,
            "grid_template_areas": null,
            "grid_template_columns": null,
            "grid_template_rows": null,
            "height": null,
            "justify_content": null,
            "justify_items": null,
            "left": null,
            "margin": null,
            "max_height": null,
            "max_width": null,
            "min_height": null,
            "min_width": null,
            "object_fit": null,
            "object_position": null,
            "order": null,
            "overflow": null,
            "overflow_x": null,
            "overflow_y": null,
            "padding": null,
            "right": null,
            "top": null,
            "visibility": null,
            "width": null
          }
        },
        "97679d3456394b979f9b403ce8b9ea92": {
          "model_module": "@jupyter-widgets/controls",
          "model_name": "DescriptionStyleModel",
          "model_module_version": "1.5.0",
          "state": {
            "_model_module": "@jupyter-widgets/controls",
            "_model_module_version": "1.5.0",
            "_model_name": "DescriptionStyleModel",
            "_view_count": null,
            "_view_module": "@jupyter-widgets/base",
            "_view_module_version": "1.2.0",
            "_view_name": "StyleView",
            "description_width": ""
          }
        },
        "bfb556dc6c6e4bf7807fecdf37ed32ad": {
          "model_module": "@jupyter-widgets/base",
          "model_name": "LayoutModel",
          "model_module_version": "1.2.0",
          "state": {
            "_model_module": "@jupyter-widgets/base",
            "_model_module_version": "1.2.0",
            "_model_name": "LayoutModel",
            "_view_count": null,
            "_view_module": "@jupyter-widgets/base",
            "_view_module_version": "1.2.0",
            "_view_name": "LayoutView",
            "align_content": null,
            "align_items": null,
            "align_self": null,
            "border": null,
            "bottom": null,
            "display": null,
            "flex": null,
            "flex_flow": null,
            "grid_area": null,
            "grid_auto_columns": null,
            "grid_auto_flow": null,
            "grid_auto_rows": null,
            "grid_column": null,
            "grid_gap": null,
            "grid_row": null,
            "grid_template_areas": null,
            "grid_template_columns": null,
            "grid_template_rows": null,
            "height": null,
            "justify_content": null,
            "justify_items": null,
            "left": null,
            "margin": null,
            "max_height": null,
            "max_width": null,
            "min_height": null,
            "min_width": null,
            "object_fit": null,
            "object_position": null,
            "order": null,
            "overflow": null,
            "overflow_x": null,
            "overflow_y": null,
            "padding": null,
            "right": null,
            "top": null,
            "visibility": null,
            "width": null
          }
        },
        "1e1b566c22284c91991e88616a1b6e21": {
          "model_module": "@jupyter-widgets/controls",
          "model_name": "ProgressStyleModel",
          "model_module_version": "1.5.0",
          "state": {
            "_model_module": "@jupyter-widgets/controls",
            "_model_module_version": "1.5.0",
            "_model_name": "ProgressStyleModel",
            "_view_count": null,
            "_view_module": "@jupyter-widgets/base",
            "_view_module_version": "1.2.0",
            "_view_name": "StyleView",
            "bar_color": null,
            "description_width": ""
          }
        },
        "9580de96e1f74215862c05a805aaeff3": {
          "model_module": "@jupyter-widgets/base",
          "model_name": "LayoutModel",
          "model_module_version": "1.2.0",
          "state": {
            "_model_module": "@jupyter-widgets/base",
            "_model_module_version": "1.2.0",
            "_model_name": "LayoutModel",
            "_view_count": null,
            "_view_module": "@jupyter-widgets/base",
            "_view_module_version": "1.2.0",
            "_view_name": "LayoutView",
            "align_content": null,
            "align_items": null,
            "align_self": null,
            "border": null,
            "bottom": null,
            "display": null,
            "flex": null,
            "flex_flow": null,
            "grid_area": null,
            "grid_auto_columns": null,
            "grid_auto_flow": null,
            "grid_auto_rows": null,
            "grid_column": null,
            "grid_gap": null,
            "grid_row": null,
            "grid_template_areas": null,
            "grid_template_columns": null,
            "grid_template_rows": null,
            "height": null,
            "justify_content": null,
            "justify_items": null,
            "left": null,
            "margin": null,
            "max_height": null,
            "max_width": null,
            "min_height": null,
            "min_width": null,
            "object_fit": null,
            "object_position": null,
            "order": null,
            "overflow": null,
            "overflow_x": null,
            "overflow_y": null,
            "padding": null,
            "right": null,
            "top": null,
            "visibility": null,
            "width": null
          }
        },
        "095b25ba6fd2411ea4e0556440240739": {
          "model_module": "@jupyter-widgets/controls",
          "model_name": "DescriptionStyleModel",
          "model_module_version": "1.5.0",
          "state": {
            "_model_module": "@jupyter-widgets/controls",
            "_model_module_version": "1.5.0",
            "_model_name": "DescriptionStyleModel",
            "_view_count": null,
            "_view_module": "@jupyter-widgets/base",
            "_view_module_version": "1.2.0",
            "_view_name": "StyleView",
            "description_width": ""
          }
        },
        "299cd2b968704161be1b1d419e170e92": {
          "model_module": "@jupyter-widgets/controls",
          "model_name": "HBoxModel",
          "model_module_version": "1.5.0",
          "state": {
            "_dom_classes": [],
            "_model_module": "@jupyter-widgets/controls",
            "_model_module_version": "1.5.0",
            "_model_name": "HBoxModel",
            "_view_count": null,
            "_view_module": "@jupyter-widgets/controls",
            "_view_module_version": "1.5.0",
            "_view_name": "HBoxView",
            "box_style": "",
            "children": [
              "IPY_MODEL_32f53cd3e3774964a9edfe184e9781b3",
              "IPY_MODEL_e7e6157a5c614874a1b21a5ca4ca4b96",
              "IPY_MODEL_d4a482e495df48dbb21079190ba62872"
            ],
            "layout": "IPY_MODEL_1efe082dafe540c58bc9092608c43877"
          }
        },
        "32f53cd3e3774964a9edfe184e9781b3": {
          "model_module": "@jupyter-widgets/controls",
          "model_name": "HTMLModel",
          "model_module_version": "1.5.0",
          "state": {
            "_dom_classes": [],
            "_model_module": "@jupyter-widgets/controls",
            "_model_module_version": "1.5.0",
            "_model_name": "HTMLModel",
            "_view_count": null,
            "_view_module": "@jupyter-widgets/controls",
            "_view_module_version": "1.5.0",
            "_view_name": "HTMLView",
            "description": "",
            "description_tooltip": null,
            "layout": "IPY_MODEL_463f75b736f343269e3522f4978e1ac5",
            "placeholder": "​",
            "style": "IPY_MODEL_b6b7a490dc6144dcab1a4acd2d33b3bb",
            "value": "model.safetensors: 100%"
          }
        },
        "e7e6157a5c614874a1b21a5ca4ca4b96": {
          "model_module": "@jupyter-widgets/controls",
          "model_name": "FloatProgressModel",
          "model_module_version": "1.5.0",
          "state": {
            "_dom_classes": [],
            "_model_module": "@jupyter-widgets/controls",
            "_model_module_version": "1.5.0",
            "_model_name": "FloatProgressModel",
            "_view_count": null,
            "_view_module": "@jupyter-widgets/controls",
            "_view_module_version": "1.5.0",
            "_view_name": "ProgressView",
            "bar_style": "success",
            "description": "",
            "description_tooltip": null,
            "layout": "IPY_MODEL_7e26b7168d064ee18360dc8a0d8aeb63",
            "max": 242043056,
            "min": 0,
            "orientation": "horizontal",
            "style": "IPY_MODEL_4a705e8c774a4eed866fb6de776be981",
            "value": 242043056
          }
        },
        "d4a482e495df48dbb21079190ba62872": {
          "model_module": "@jupyter-widgets/controls",
          "model_name": "HTMLModel",
          "model_module_version": "1.5.0",
          "state": {
            "_dom_classes": [],
            "_model_module": "@jupyter-widgets/controls",
            "_model_module_version": "1.5.0",
            "_model_name": "HTMLModel",
            "_view_count": null,
            "_view_module": "@jupyter-widgets/controls",
            "_view_module_version": "1.5.0",
            "_view_name": "HTMLView",
            "description": "",
            "description_tooltip": null,
            "layout": "IPY_MODEL_6562e51df4ff4087a93b6854968bcb2c",
            "placeholder": "​",
            "style": "IPY_MODEL_69b2cc79b7634db884d2de31f40b774a",
            "value": " 242M/242M [00:01&lt;00:00, 202MB/s]"
          }
        },
        "1efe082dafe540c58bc9092608c43877": {
          "model_module": "@jupyter-widgets/base",
          "model_name": "LayoutModel",
          "model_module_version": "1.2.0",
          "state": {
            "_model_module": "@jupyter-widgets/base",
            "_model_module_version": "1.2.0",
            "_model_name": "LayoutModel",
            "_view_count": null,
            "_view_module": "@jupyter-widgets/base",
            "_view_module_version": "1.2.0",
            "_view_name": "LayoutView",
            "align_content": null,
            "align_items": null,
            "align_self": null,
            "border": null,
            "bottom": null,
            "display": null,
            "flex": null,
            "flex_flow": null,
            "grid_area": null,
            "grid_auto_columns": null,
            "grid_auto_flow": null,
            "grid_auto_rows": null,
            "grid_column": null,
            "grid_gap": null,
            "grid_row": null,
            "grid_template_areas": null,
            "grid_template_columns": null,
            "grid_template_rows": null,
            "height": null,
            "justify_content": null,
            "justify_items": null,
            "left": null,
            "margin": null,
            "max_height": null,
            "max_width": null,
            "min_height": null,
            "min_width": null,
            "object_fit": null,
            "object_position": null,
            "order": null,
            "overflow": null,
            "overflow_x": null,
            "overflow_y": null,
            "padding": null,
            "right": null,
            "top": null,
            "visibility": null,
            "width": null
          }
        },
        "463f75b736f343269e3522f4978e1ac5": {
          "model_module": "@jupyter-widgets/base",
          "model_name": "LayoutModel",
          "model_module_version": "1.2.0",
          "state": {
            "_model_module": "@jupyter-widgets/base",
            "_model_module_version": "1.2.0",
            "_model_name": "LayoutModel",
            "_view_count": null,
            "_view_module": "@jupyter-widgets/base",
            "_view_module_version": "1.2.0",
            "_view_name": "LayoutView",
            "align_content": null,
            "align_items": null,
            "align_self": null,
            "border": null,
            "bottom": null,
            "display": null,
            "flex": null,
            "flex_flow": null,
            "grid_area": null,
            "grid_auto_columns": null,
            "grid_auto_flow": null,
            "grid_auto_rows": null,
            "grid_column": null,
            "grid_gap": null,
            "grid_row": null,
            "grid_template_areas": null,
            "grid_template_columns": null,
            "grid_template_rows": null,
            "height": null,
            "justify_content": null,
            "justify_items": null,
            "left": null,
            "margin": null,
            "max_height": null,
            "max_width": null,
            "min_height": null,
            "min_width": null,
            "object_fit": null,
            "object_position": null,
            "order": null,
            "overflow": null,
            "overflow_x": null,
            "overflow_y": null,
            "padding": null,
            "right": null,
            "top": null,
            "visibility": null,
            "width": null
          }
        },
        "b6b7a490dc6144dcab1a4acd2d33b3bb": {
          "model_module": "@jupyter-widgets/controls",
          "model_name": "DescriptionStyleModel",
          "model_module_version": "1.5.0",
          "state": {
            "_model_module": "@jupyter-widgets/controls",
            "_model_module_version": "1.5.0",
            "_model_name": "DescriptionStyleModel",
            "_view_count": null,
            "_view_module": "@jupyter-widgets/base",
            "_view_module_version": "1.2.0",
            "_view_name": "StyleView",
            "description_width": ""
          }
        },
        "7e26b7168d064ee18360dc8a0d8aeb63": {
          "model_module": "@jupyter-widgets/base",
          "model_name": "LayoutModel",
          "model_module_version": "1.2.0",
          "state": {
            "_model_module": "@jupyter-widgets/base",
            "_model_module_version": "1.2.0",
            "_model_name": "LayoutModel",
            "_view_count": null,
            "_view_module": "@jupyter-widgets/base",
            "_view_module_version": "1.2.0",
            "_view_name": "LayoutView",
            "align_content": null,
            "align_items": null,
            "align_self": null,
            "border": null,
            "bottom": null,
            "display": null,
            "flex": null,
            "flex_flow": null,
            "grid_area": null,
            "grid_auto_columns": null,
            "grid_auto_flow": null,
            "grid_auto_rows": null,
            "grid_column": null,
            "grid_gap": null,
            "grid_row": null,
            "grid_template_areas": null,
            "grid_template_columns": null,
            "grid_template_rows": null,
            "height": null,
            "justify_content": null,
            "justify_items": null,
            "left": null,
            "margin": null,
            "max_height": null,
            "max_width": null,
            "min_height": null,
            "min_width": null,
            "object_fit": null,
            "object_position": null,
            "order": null,
            "overflow": null,
            "overflow_x": null,
            "overflow_y": null,
            "padding": null,
            "right": null,
            "top": null,
            "visibility": null,
            "width": null
          }
        },
        "4a705e8c774a4eed866fb6de776be981": {
          "model_module": "@jupyter-widgets/controls",
          "model_name": "ProgressStyleModel",
          "model_module_version": "1.5.0",
          "state": {
            "_model_module": "@jupyter-widgets/controls",
            "_model_module_version": "1.5.0",
            "_model_name": "ProgressStyleModel",
            "_view_count": null,
            "_view_module": "@jupyter-widgets/base",
            "_view_module_version": "1.2.0",
            "_view_name": "StyleView",
            "bar_color": null,
            "description_width": ""
          }
        },
        "6562e51df4ff4087a93b6854968bcb2c": {
          "model_module": "@jupyter-widgets/base",
          "model_name": "LayoutModel",
          "model_module_version": "1.2.0",
          "state": {
            "_model_module": "@jupyter-widgets/base",
            "_model_module_version": "1.2.0",
            "_model_name": "LayoutModel",
            "_view_count": null,
            "_view_module": "@jupyter-widgets/base",
            "_view_module_version": "1.2.0",
            "_view_name": "LayoutView",
            "align_content": null,
            "align_items": null,
            "align_self": null,
            "border": null,
            "bottom": null,
            "display": null,
            "flex": null,
            "flex_flow": null,
            "grid_area": null,
            "grid_auto_columns": null,
            "grid_auto_flow": null,
            "grid_auto_rows": null,
            "grid_column": null,
            "grid_gap": null,
            "grid_row": null,
            "grid_template_areas": null,
            "grid_template_columns": null,
            "grid_template_rows": null,
            "height": null,
            "justify_content": null,
            "justify_items": null,
            "left": null,
            "margin": null,
            "max_height": null,
            "max_width": null,
            "min_height": null,
            "min_width": null,
            "object_fit": null,
            "object_position": null,
            "order": null,
            "overflow": null,
            "overflow_x": null,
            "overflow_y": null,
            "padding": null,
            "right": null,
            "top": null,
            "visibility": null,
            "width": null
          }
        },
        "69b2cc79b7634db884d2de31f40b774a": {
          "model_module": "@jupyter-widgets/controls",
          "model_name": "DescriptionStyleModel",
          "model_module_version": "1.5.0",
          "state": {
            "_model_module": "@jupyter-widgets/controls",
            "_model_module_version": "1.5.0",
            "_model_name": "DescriptionStyleModel",
            "_view_count": null,
            "_view_module": "@jupyter-widgets/base",
            "_view_module_version": "1.2.0",
            "_view_name": "StyleView",
            "description_width": ""
          }
        },
        "d2a0e5f578c04f529d666889eaac23af": {
          "model_module": "@jupyter-widgets/controls",
          "model_name": "HBoxModel",
          "model_module_version": "1.5.0",
          "state": {
            "_dom_classes": [],
            "_model_module": "@jupyter-widgets/controls",
            "_model_module_version": "1.5.0",
            "_model_name": "HBoxModel",
            "_view_count": null,
            "_view_module": "@jupyter-widgets/controls",
            "_view_module_version": "1.5.0",
            "_view_name": "HBoxView",
            "box_style": "",
            "children": [
              "IPY_MODEL_08ce8e27380743528ef1114ca2706730",
              "IPY_MODEL_1077cb1ee81a4146b5ce2c5b6eabb669",
              "IPY_MODEL_91a7d192fba74f52a2a120fdb9af850d"
            ],
            "layout": "IPY_MODEL_532e31ae21884f30a1fd2bbb9410f4a2"
          }
        },
        "08ce8e27380743528ef1114ca2706730": {
          "model_module": "@jupyter-widgets/controls",
          "model_name": "HTMLModel",
          "model_module_version": "1.5.0",
          "state": {
            "_dom_classes": [],
            "_model_module": "@jupyter-widgets/controls",
            "_model_module_version": "1.5.0",
            "_model_name": "HTMLModel",
            "_view_count": null,
            "_view_module": "@jupyter-widgets/controls",
            "_view_module_version": "1.5.0",
            "_view_name": "HTMLView",
            "description": "",
            "description_tooltip": null,
            "layout": "IPY_MODEL_b0a855aaba464822856739815548689a",
            "placeholder": "​",
            "style": "IPY_MODEL_36f4cfdb39074ace96d37452a7e280c7",
            "value": "Map: 100%"
          }
        },
        "1077cb1ee81a4146b5ce2c5b6eabb669": {
          "model_module": "@jupyter-widgets/controls",
          "model_name": "FloatProgressModel",
          "model_module_version": "1.5.0",
          "state": {
            "_dom_classes": [],
            "_model_module": "@jupyter-widgets/controls",
            "_model_module_version": "1.5.0",
            "_model_name": "FloatProgressModel",
            "_view_count": null,
            "_view_module": "@jupyter-widgets/controls",
            "_view_module_version": "1.5.0",
            "_view_name": "ProgressView",
            "bar_style": "success",
            "description": "",
            "description_tooltip": null,
            "layout": "IPY_MODEL_489acd7bf0464524b39f1651220356f9",
            "max": 5,
            "min": 0,
            "orientation": "horizontal",
            "style": "IPY_MODEL_41b42057ea1e45deb0f6e82aee63f9c1",
            "value": 5
          }
        },
        "91a7d192fba74f52a2a120fdb9af850d": {
          "model_module": "@jupyter-widgets/controls",
          "model_name": "HTMLModel",
          "model_module_version": "1.5.0",
          "state": {
            "_dom_classes": [],
            "_model_module": "@jupyter-widgets/controls",
            "_model_module_version": "1.5.0",
            "_model_name": "HTMLModel",
            "_view_count": null,
            "_view_module": "@jupyter-widgets/controls",
            "_view_module_version": "1.5.0",
            "_view_name": "HTMLView",
            "description": "",
            "description_tooltip": null,
            "layout": "IPY_MODEL_5f5d95789bc746ba84c08faca01641ee",
            "placeholder": "​",
            "style": "IPY_MODEL_d8f1b31382034e7fa872faba12a7dbb5",
            "value": " 5/5 [00:00&lt;00:00, 27.91 examples/s]"
          }
        },
        "532e31ae21884f30a1fd2bbb9410f4a2": {
          "model_module": "@jupyter-widgets/base",
          "model_name": "LayoutModel",
          "model_module_version": "1.2.0",
          "state": {
            "_model_module": "@jupyter-widgets/base",
            "_model_module_version": "1.2.0",
            "_model_name": "LayoutModel",
            "_view_count": null,
            "_view_module": "@jupyter-widgets/base",
            "_view_module_version": "1.2.0",
            "_view_name": "LayoutView",
            "align_content": null,
            "align_items": null,
            "align_self": null,
            "border": null,
            "bottom": null,
            "display": null,
            "flex": null,
            "flex_flow": null,
            "grid_area": null,
            "grid_auto_columns": null,
            "grid_auto_flow": null,
            "grid_auto_rows": null,
            "grid_column": null,
            "grid_gap": null,
            "grid_row": null,
            "grid_template_areas": null,
            "grid_template_columns": null,
            "grid_template_rows": null,
            "height": null,
            "justify_content": null,
            "justify_items": null,
            "left": null,
            "margin": null,
            "max_height": null,
            "max_width": null,
            "min_height": null,
            "min_width": null,
            "object_fit": null,
            "object_position": null,
            "order": null,
            "overflow": null,
            "overflow_x": null,
            "overflow_y": null,
            "padding": null,
            "right": null,
            "top": null,
            "visibility": null,
            "width": null
          }
        },
        "b0a855aaba464822856739815548689a": {
          "model_module": "@jupyter-widgets/base",
          "model_name": "LayoutModel",
          "model_module_version": "1.2.0",
          "state": {
            "_model_module": "@jupyter-widgets/base",
            "_model_module_version": "1.2.0",
            "_model_name": "LayoutModel",
            "_view_count": null,
            "_view_module": "@jupyter-widgets/base",
            "_view_module_version": "1.2.0",
            "_view_name": "LayoutView",
            "align_content": null,
            "align_items": null,
            "align_self": null,
            "border": null,
            "bottom": null,
            "display": null,
            "flex": null,
            "flex_flow": null,
            "grid_area": null,
            "grid_auto_columns": null,
            "grid_auto_flow": null,
            "grid_auto_rows": null,
            "grid_column": null,
            "grid_gap": null,
            "grid_row": null,
            "grid_template_areas": null,
            "grid_template_columns": null,
            "grid_template_rows": null,
            "height": null,
            "justify_content": null,
            "justify_items": null,
            "left": null,
            "margin": null,
            "max_height": null,
            "max_width": null,
            "min_height": null,
            "min_width": null,
            "object_fit": null,
            "object_position": null,
            "order": null,
            "overflow": null,
            "overflow_x": null,
            "overflow_y": null,
            "padding": null,
            "right": null,
            "top": null,
            "visibility": null,
            "width": null
          }
        },
        "36f4cfdb39074ace96d37452a7e280c7": {
          "model_module": "@jupyter-widgets/controls",
          "model_name": "DescriptionStyleModel",
          "model_module_version": "1.5.0",
          "state": {
            "_model_module": "@jupyter-widgets/controls",
            "_model_module_version": "1.5.0",
            "_model_name": "DescriptionStyleModel",
            "_view_count": null,
            "_view_module": "@jupyter-widgets/base",
            "_view_module_version": "1.2.0",
            "_view_name": "StyleView",
            "description_width": ""
          }
        },
        "489acd7bf0464524b39f1651220356f9": {
          "model_module": "@jupyter-widgets/base",
          "model_name": "LayoutModel",
          "model_module_version": "1.2.0",
          "state": {
            "_model_module": "@jupyter-widgets/base",
            "_model_module_version": "1.2.0",
            "_model_name": "LayoutModel",
            "_view_count": null,
            "_view_module": "@jupyter-widgets/base",
            "_view_module_version": "1.2.0",
            "_view_name": "LayoutView",
            "align_content": null,
            "align_items": null,
            "align_self": null,
            "border": null,
            "bottom": null,
            "display": null,
            "flex": null,
            "flex_flow": null,
            "grid_area": null,
            "grid_auto_columns": null,
            "grid_auto_flow": null,
            "grid_auto_rows": null,
            "grid_column": null,
            "grid_gap": null,
            "grid_row": null,
            "grid_template_areas": null,
            "grid_template_columns": null,
            "grid_template_rows": null,
            "height": null,
            "justify_content": null,
            "justify_items": null,
            "left": null,
            "margin": null,
            "max_height": null,
            "max_width": null,
            "min_height": null,
            "min_width": null,
            "object_fit": null,
            "object_position": null,
            "order": null,
            "overflow": null,
            "overflow_x": null,
            "overflow_y": null,
            "padding": null,
            "right": null,
            "top": null,
            "visibility": null,
            "width": null
          }
        },
        "41b42057ea1e45deb0f6e82aee63f9c1": {
          "model_module": "@jupyter-widgets/controls",
          "model_name": "ProgressStyleModel",
          "model_module_version": "1.5.0",
          "state": {
            "_model_module": "@jupyter-widgets/controls",
            "_model_module_version": "1.5.0",
            "_model_name": "ProgressStyleModel",
            "_view_count": null,
            "_view_module": "@jupyter-widgets/base",
            "_view_module_version": "1.2.0",
            "_view_name": "StyleView",
            "bar_color": null,
            "description_width": ""
          }
        },
        "5f5d95789bc746ba84c08faca01641ee": {
          "model_module": "@jupyter-widgets/base",
          "model_name": "LayoutModel",
          "model_module_version": "1.2.0",
          "state": {
            "_model_module": "@jupyter-widgets/base",
            "_model_module_version": "1.2.0",
            "_model_name": "LayoutModel",
            "_view_count": null,
            "_view_module": "@jupyter-widgets/base",
            "_view_module_version": "1.2.0",
            "_view_name": "LayoutView",
            "align_content": null,
            "align_items": null,
            "align_self": null,
            "border": null,
            "bottom": null,
            "display": null,
            "flex": null,
            "flex_flow": null,
            "grid_area": null,
            "grid_auto_columns": null,
            "grid_auto_flow": null,
            "grid_auto_rows": null,
            "grid_column": null,
            "grid_gap": null,
            "grid_row": null,
            "grid_template_areas": null,
            "grid_template_columns": null,
            "grid_template_rows": null,
            "height": null,
            "justify_content": null,
            "justify_items": null,
            "left": null,
            "margin": null,
            "max_height": null,
            "max_width": null,
            "min_height": null,
            "min_width": null,
            "object_fit": null,
            "object_position": null,
            "order": null,
            "overflow": null,
            "overflow_x": null,
            "overflow_y": null,
            "padding": null,
            "right": null,
            "top": null,
            "visibility": null,
            "width": null
          }
        },
        "d8f1b31382034e7fa872faba12a7dbb5": {
          "model_module": "@jupyter-widgets/controls",
          "model_name": "DescriptionStyleModel",
          "model_module_version": "1.5.0",
          "state": {
            "_model_module": "@jupyter-widgets/controls",
            "_model_module_version": "1.5.0",
            "_model_name": "DescriptionStyleModel",
            "_view_count": null,
            "_view_module": "@jupyter-widgets/base",
            "_view_module_version": "1.2.0",
            "_view_name": "StyleView",
            "description_width": ""
          }
        }
      }
    }
  },
  "nbformat": 4,
  "nbformat_minor": 0
}