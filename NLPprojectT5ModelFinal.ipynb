{
  "cells": [
    {
      "cell_type": "markdown",
      "metadata": {
        "id": "view-in-github",
        "colab_type": "text"
      },
      "source": [
        "<a href=\"https://colab.research.google.com/github/mehakhafeez/NLPprojectweek6/blob/main/NLPprojectT5ModelFinal.ipynb\" target=\"_parent\"><img src=\"https://colab.research.google.com/assets/colab-badge.svg\" alt=\"Open In Colab\"/></a>"
      ]
    },
    {
      "cell_type": "code",
      "execution_count": 11,
      "metadata": {
        "colab": {
          "base_uri": "https://localhost:8080/"
        },
        "id": "sVVIKqO254kR",
        "outputId": "d23429e7-5e1f-42fb-98f4-985c531704af"
      },
      "outputs": [
        {
          "output_type": "stream",
          "name": "stdout",
          "text": [
            "Requirement already satisfied: textblob in /usr/local/lib/python3.10/dist-packages (0.17.1)\n",
            "Requirement already satisfied: nltk in /usr/local/lib/python3.10/dist-packages (3.9.1)\n",
            "Requirement already satisfied: rouge-score in /usr/local/lib/python3.10/dist-packages (0.1.2)\n",
            "Requirement already satisfied: click in /usr/local/lib/python3.10/dist-packages (from nltk) (8.1.8)\n",
            "Requirement already satisfied: joblib in /usr/local/lib/python3.10/dist-packages (from nltk) (1.4.2)\n",
            "Requirement already satisfied: regex>=2021.8.3 in /usr/local/lib/python3.10/dist-packages (from nltk) (2024.11.6)\n",
            "Requirement already satisfied: tqdm in /usr/local/lib/python3.10/dist-packages (from nltk) (4.67.1)\n",
            "Requirement already satisfied: absl-py in /usr/local/lib/python3.10/dist-packages (from rouge-score) (1.4.0)\n",
            "Requirement already satisfied: numpy in /usr/local/lib/python3.10/dist-packages (from rouge-score) (1.26.4)\n",
            "Requirement already satisfied: six>=1.14.0 in /usr/local/lib/python3.10/dist-packages (from rouge-score) (1.17.0)\n"
          ]
        }
      ],
      "source": [
        "pip install textblob nltk rouge-score\n"
      ]
    },
    {
      "cell_type": "code",
      "execution_count": 12,
      "metadata": {
        "colab": {
          "base_uri": "https://localhost:8080/"
        },
        "id": "haKB7C9U54kW",
        "outputId": "726f5541-5782-44f4-b883-ecc3cb8454b2"
      },
      "outputs": [
        {
          "output_type": "stream",
          "name": "stdout",
          "text": [
            "Requirement already satisfied: rouge-score in /usr/local/lib/python3.10/dist-packages (0.1.2)\n",
            "Requirement already satisfied: absl-py in /usr/local/lib/python3.10/dist-packages (from rouge-score) (1.4.0)\n",
            "Requirement already satisfied: nltk in /usr/local/lib/python3.10/dist-packages (from rouge-score) (3.9.1)\n",
            "Requirement already satisfied: numpy in /usr/local/lib/python3.10/dist-packages (from rouge-score) (1.26.4)\n",
            "Requirement already satisfied: six>=1.14.0 in /usr/local/lib/python3.10/dist-packages (from rouge-score) (1.17.0)\n",
            "Requirement already satisfied: click in /usr/local/lib/python3.10/dist-packages (from nltk->rouge-score) (8.1.8)\n",
            "Requirement already satisfied: joblib in /usr/local/lib/python3.10/dist-packages (from nltk->rouge-score) (1.4.2)\n",
            "Requirement already satisfied: regex>=2021.8.3 in /usr/local/lib/python3.10/dist-packages (from nltk->rouge-score) (2024.11.6)\n",
            "Requirement already satisfied: tqdm in /usr/local/lib/python3.10/dist-packages (from nltk->rouge-score) (4.67.1)\n"
          ]
        }
      ],
      "source": [
        "pip install rouge-score"
      ]
    },
    {
      "cell_type": "code",
      "execution_count": 13,
      "metadata": {
        "colab": {
          "base_uri": "https://localhost:8080/"
        },
        "id": "7PmholTM54kX",
        "outputId": "ccd3593f-9da2-4e76-9dad-3d97e8dbc9e8"
      },
      "outputs": [
        {
          "output_type": "stream",
          "name": "stdout",
          "text": [
            "Requirement already satisfied: transformers==4.23.0 in /usr/local/lib/python3.10/dist-packages (4.23.0)\n",
            "Requirement already satisfied: filelock in /usr/local/lib/python3.10/dist-packages (from transformers==4.23.0) (3.16.1)\n",
            "Requirement already satisfied: huggingface-hub<1.0,>=0.10.0 in /usr/local/lib/python3.10/dist-packages (from transformers==4.23.0) (0.27.1)\n",
            "Requirement already satisfied: numpy>=1.17 in /usr/local/lib/python3.10/dist-packages (from transformers==4.23.0) (1.26.4)\n",
            "Requirement already satisfied: packaging>=20.0 in /usr/local/lib/python3.10/dist-packages (from transformers==4.23.0) (24.2)\n",
            "Requirement already satisfied: pyyaml>=5.1 in /usr/local/lib/python3.10/dist-packages (from transformers==4.23.0) (6.0.2)\n",
            "Requirement already satisfied: regex!=2019.12.17 in /usr/local/lib/python3.10/dist-packages (from transformers==4.23.0) (2024.11.6)\n",
            "Requirement already satisfied: requests in /usr/local/lib/python3.10/dist-packages (from transformers==4.23.0) (2.32.3)\n",
            "Requirement already satisfied: tokenizers!=0.11.3,<0.14,>=0.11.1 in /usr/local/lib/python3.10/dist-packages (from transformers==4.23.0) (0.13.3)\n",
            "Requirement already satisfied: tqdm>=4.27 in /usr/local/lib/python3.10/dist-packages (from transformers==4.23.0) (4.67.1)\n",
            "Requirement already satisfied: fsspec>=2023.5.0 in /usr/local/lib/python3.10/dist-packages (from huggingface-hub<1.0,>=0.10.0->transformers==4.23.0) (2024.10.0)\n",
            "Requirement already satisfied: typing-extensions>=3.7.4.3 in /usr/local/lib/python3.10/dist-packages (from huggingface-hub<1.0,>=0.10.0->transformers==4.23.0) (4.12.2)\n",
            "Requirement already satisfied: charset-normalizer<4,>=2 in /usr/local/lib/python3.10/dist-packages (from requests->transformers==4.23.0) (3.4.1)\n",
            "Requirement already satisfied: idna<4,>=2.5 in /usr/local/lib/python3.10/dist-packages (from requests->transformers==4.23.0) (3.10)\n",
            "Requirement already satisfied: urllib3<3,>=1.21.1 in /usr/local/lib/python3.10/dist-packages (from requests->transformers==4.23.0) (2.3.0)\n",
            "Requirement already satisfied: certifi>=2017.4.17 in /usr/local/lib/python3.10/dist-packages (from requests->transformers==4.23.0) (2024.12.14)\n"
          ]
        }
      ],
      "source": [
        "pip install transformers==4.23.0"
      ]
    },
    {
      "cell_type": "code",
      "execution_count": 14,
      "metadata": {
        "colab": {
          "base_uri": "https://localhost:8080/"
        },
        "id": "ZtOeYd-i54kY",
        "outputId": "e4517e63-3a2d-4307-c136-0506e398e217"
      },
      "outputs": [
        {
          "output_type": "stream",
          "name": "stdout",
          "text": [
            "Requirement already satisfied: sentencepiece==0.1.96 in /usr/local/lib/python3.10/dist-packages (0.1.96)\n"
          ]
        }
      ],
      "source": [
        "pip install sentencepiece==0.1.96"
      ]
    },
    {
      "cell_type": "code",
      "execution_count": 15,
      "metadata": {
        "colab": {
          "base_uri": "https://localhost:8080/"
        },
        "id": "Nyw9DLOu54kY",
        "outputId": "dfb7b4c2-2bcf-4827-d82f-5306db671909"
      },
      "outputs": [
        {
          "output_type": "stream",
          "name": "stderr",
          "text": [
            "[nltk_data] Downloading package punkt to /root/nltk_data...\n",
            "[nltk_data]   Package punkt is already up-to-date!\n"
          ]
        }
      ],
      "source": [
        "import pandas as pd\n",
        "import numpy as np\n",
        "from sklearn.feature_extraction.text import TfidfVectorizer\n",
        "from sklearn.cluster import KMeans\n",
        "from sklearn.metrics import accuracy_score, precision_score, recall_score, f1_score, confusion_matrix, classification_report\n",
        "from sklearn.model_selection import train_test_split\n",
        "from sklearn.linear_model import LogisticRegression\n",
        "from sklearn.pipeline import make_pipeline\n",
        "from sklearn.preprocessing import StandardScaler\n",
        "from sklearn.decomposition import PCA\n",
        "from sklearn.naive_bayes import MultinomialNB\n",
        "from textblob import TextBlob\n",
        "from nltk.translate.bleu_score import sentence_bleu\n",
        "from rouge_score import rouge_scorer\n",
        "import matplotlib.pyplot as plt\n",
        "import seaborn as sns\n",
        "from transformers import T5Tokenizer, T5ForConditionalGeneration, Trainer, TrainingArguments\n",
        "import torch\n",
        "import nltk\n",
        "nltk.download('punkt')\n",
        "import seaborn as sns\n",
        "from tqdm import tqdm\n",
        "from torch.utils.data import DataLoader\n",
        "from torch.optim import AdamW\n",
        "from textblob import TextBlob\n",
        "from rouge_score import rouge_scorer\n",
        "import re\n",
        "from nltk.translate.bleu_score import sentence_bleu"
      ]
    },
    {
      "cell_type": "code",
      "source": [
        "# Download NLTK resources\n",
        "nltk.download('stopwords')\n",
        "nltk.download('punkt')"
      ],
      "metadata": {
        "colab": {
          "base_uri": "https://localhost:8080/"
        },
        "id": "gxbW0mML-yj8",
        "outputId": "85a15719-8616-4b98-8613-e56f10f9940d"
      },
      "execution_count": 16,
      "outputs": [
        {
          "output_type": "stream",
          "name": "stderr",
          "text": [
            "[nltk_data] Downloading package stopwords to /root/nltk_data...\n",
            "[nltk_data]   Package stopwords is already up-to-date!\n",
            "[nltk_data] Downloading package punkt to /root/nltk_data...\n",
            "[nltk_data]   Package punkt is already up-to-date!\n"
          ]
        },
        {
          "output_type": "execute_result",
          "data": {
            "text/plain": [
              "True"
            ]
          },
          "metadata": {},
          "execution_count": 16
        }
      ]
    },
    {
      "cell_type": "code",
      "execution_count": 17,
      "metadata": {
        "id": "Tr72MGsi54kZ"
      },
      "outputs": [],
      "source": [
        "df1 = pd.read_csv('/content/1429_1.csv', quoting=3, on_bad_lines='skip')\n",
        "# quoting=3 tells pandas to use the QUOTE_NONE strategy. This means that pandas will not treat any character as a quote character. This way if there are unclosed quotes, it ignores them.\n",
        "# on_bad_lines='skip' replaces the deprecated 'error_bad_lines=False' to skip bad lines.\n",
        "df2 = pd.read_csv('/content/Datafiniti_Amazon_Consumer_Reviews_of_Amazon_Products.csv', quoting=3, on_bad_lines='skip')\n",
        "df3 = pd.read_csv('/content/Datafiniti_Amazon_Consumer_Reviews_of_Amazon_Products_May19.csv', quoting=3, on_bad_lines='skip')"
      ]
    },
    {
      "cell_type": "code",
      "execution_count": 18,
      "metadata": {
        "id": "GpAqPs0l54ka"
      },
      "outputs": [],
      "source": [
        "# Combine datasets into one\n",
        "df = pd.concat([df1, df2, df3], ignore_index=True)"
      ]
    },
    {
      "cell_type": "code",
      "source": [
        "# Preprocess the text (remove stopwords, special characters, etc.)\n",
        "def preprocess_text(text):\n",
        "    # Check if the text is a string before processing\n",
        "    if isinstance(text, str):\n",
        "        text = text.lower()\n",
        "        text = re.sub(r'\\d+', '', text)\n",
        "        text = re.sub(r'[^\\w\\s]', '', text)\n",
        "        text = ' '.join([word for word in text.split() if word not in nltk.corpus.stopwords.words('english')])\n",
        "        return text\n",
        "    # If not a string (e.g., float), return it as is or handle it differently\n",
        "    else:\n",
        "        return str(text)  # Or handle NaN values appropriately"
      ],
      "metadata": {
        "id": "9dqvG5M_AD5n"
      },
      "execution_count": 19,
      "outputs": []
    },
    {
      "cell_type": "code",
      "source": [
        "# Assuming the correct column name for reviews is 'reviews.text' based on later usage\n",
        "df['review_clean'] = df['reviews.text'].apply(preprocess_text)"
      ],
      "metadata": {
        "id": "W9ez83lPAHxP"
      },
      "execution_count": 20,
      "outputs": []
    },
    {
      "cell_type": "code",
      "execution_count": 21,
      "metadata": {
        "id": "TO9zPD2a54ka"
      },
      "outputs": [],
      "source": [
        "# Data Cleaning\n",
        "df = df.drop_duplicates() # Changed 'data' to 'df'\n",
        "df = df.dropna(subset=['reviews.text']) # Changed 'data' to 'df'\n",
        "df['reviews.text'] = df['reviews.text'].str.strip() # Changed 'data' to 'df'\n",
        "df['reviews.text'] = df['reviews.text'].str.replace(r'[^a-zA-Z\\s]', '', regex=True) # Changed 'data' to 'df'"
      ]
    },
    {
      "cell_type": "code",
      "execution_count": 22,
      "metadata": {
        "id": "MsYDkHmW54kb"
      },
      "outputs": [],
      "source": [
        "# Sentiment Analysis\n",
        "def get_sentiment(text):\n",
        "    analysis = TextBlob(text)\n",
        "    if analysis.sentiment.polarity > 0:\n",
        "        return 'positive'\n",
        "    elif analysis.sentiment.polarity == 0:\n",
        "        return 'neutral'\n",
        "    else:\n",
        "        return 'negative'\n",
        "\n",
        "df['sentiment'] = df['reviews.text'].apply(get_sentiment)\n"
      ]
    },
    {
      "cell_type": "code",
      "execution_count": 23,
      "metadata": {
        "colab": {
          "base_uri": "https://localhost:8080/"
        },
        "id": "9SSL8lvC54kb",
        "outputId": "7241f4c5-3c26-4342-8d73-0e85909e4cae"
      },
      "outputs": [
        {
          "output_type": "stream",
          "name": "stdout",
          "text": [
            "                                        reviews.text sentiment\n",
            "0  This product so far has not disappointed My ch...  positive\n",
            "1  great for beginner or experienced person Bough...  positive\n",
            "2  Ive had my Fire HD  two weeks now and I love i...  positive\n",
            "3  This amazon fire  inch tablet is the perfect s...  positive\n",
            "4  I love ordering books and reading them with th...  positive\n",
            "5  Not easy for elderly users cease of ads that p...  negative\n",
            "6  Wanted my father to have his first tablet and ...  positive\n",
            "7  Simply does everything I need Thank youAnd sil...   neutral\n",
            "8  Got it as a present and love the size of the s...  positive\n",
            "9  nice reader almost perfect for what i wantneed...  positive\n"
          ]
        }
      ],
      "source": [
        "# Display the first few rows of the dataset with the new 'sentiment' column\n",
        "print(df[['reviews.text', 'sentiment']].head(10))"
      ]
    },
    {
      "cell_type": "code",
      "execution_count": 24,
      "metadata": {
        "id": "BgS2pg9G54kb"
      },
      "outputs": [],
      "source": [
        "# Sentiment Evaluation\n",
        "X = df['reviews.text']\n",
        "y = df['sentiment']"
      ]
    },
    {
      "cell_type": "code",
      "execution_count": 25,
      "metadata": {
        "id": "fxe-EtH754kc"
      },
      "outputs": [],
      "source": [
        "# Encode sentiments\n",
        "y = y.map({'positive': 2, 'neutral': 1, 'negative': 0})"
      ]
    },
    {
      "cell_type": "code",
      "execution_count": 26,
      "metadata": {
        "id": "wG_KBP3g54kc"
      },
      "outputs": [],
      "source": [
        "# Train-test split\n",
        "X_train, X_test, y_train, y_test = train_test_split(X, y, test_size=0.3, random_state=42)\n"
      ]
    },
    {
      "cell_type": "code",
      "execution_count": 27,
      "metadata": {
        "id": "IkGsDggg54kc"
      },
      "outputs": [],
      "source": [
        "# Feature extraction\n",
        "vectorizer = TfidfVectorizer(max_features=5000)\n",
        "X_train_vec = vectorizer.fit_transform(X_train)\n",
        "X_test_vec = vectorizer.transform(X_test)"
      ]
    },
    {
      "cell_type": "code",
      "execution_count": 28,
      "metadata": {
        "id": "SMTw-Y9a54kc"
      },
      "outputs": [],
      "source": [
        "# Logistic Regression Model\n",
        "lr_model = LogisticRegression()\n",
        "lr_model.fit(X_train_vec, y_train)\n",
        "\n",
        "y_pred_lr = lr_model.predict(X_test_vec)"
      ]
    },
    {
      "cell_type": "code",
      "execution_count": 29,
      "metadata": {
        "colab": {
          "base_uri": "https://localhost:8080/"
        },
        "id": "u7kkLwcB54kc",
        "outputId": "afd3b2c9-f15c-49e9-eecc-404803c8a6b1"
      },
      "outputs": [
        {
          "output_type": "stream",
          "name": "stdout",
          "text": [
            "Logistic Regression Evaluation:\n",
            "Accuracy: 0.9701834862385321\n",
            "Precision: 0.962951871837882\n",
            "Recall: 0.9701834862385321\n",
            "F1-Score: 0.9662897730433871\n"
          ]
        },
        {
          "output_type": "stream",
          "name": "stderr",
          "text": [
            "/usr/local/lib/python3.10/dist-packages/sklearn/metrics/_classification.py:1565: UndefinedMetricWarning: Precision is ill-defined and being set to 0.0 in labels with no predicted samples. Use `zero_division` parameter to control this behavior.\n",
            "  _warn_prf(average, modifier, f\"{metric.capitalize()} is\", len(result))\n"
          ]
        },
        {
          "output_type": "stream",
          "name": "stdout",
          "text": [
            "Confusion Matrix:\n",
            " [[   0    4   19]\n",
            " [   0 2059   38]\n",
            " [   0   17  479]]\n",
            "Classification Report:\n",
            "               precision    recall  f1-score   support\n",
            "\n",
            "           0       0.00      0.00      0.00        23\n",
            "           1       0.99      0.98      0.99      2097\n",
            "           2       0.89      0.97      0.93       496\n",
            "\n",
            "    accuracy                           0.97      2616\n",
            "   macro avg       0.63      0.65      0.64      2616\n",
            "weighted avg       0.96      0.97      0.97      2616\n",
            "\n"
          ]
        },
        {
          "output_type": "stream",
          "name": "stderr",
          "text": [
            "/usr/local/lib/python3.10/dist-packages/sklearn/metrics/_classification.py:1565: UndefinedMetricWarning: Precision is ill-defined and being set to 0.0 in labels with no predicted samples. Use `zero_division` parameter to control this behavior.\n",
            "  _warn_prf(average, modifier, f\"{metric.capitalize()} is\", len(result))\n",
            "/usr/local/lib/python3.10/dist-packages/sklearn/metrics/_classification.py:1565: UndefinedMetricWarning: Precision is ill-defined and being set to 0.0 in labels with no predicted samples. Use `zero_division` parameter to control this behavior.\n",
            "  _warn_prf(average, modifier, f\"{metric.capitalize()} is\", len(result))\n",
            "/usr/local/lib/python3.10/dist-packages/sklearn/metrics/_classification.py:1565: UndefinedMetricWarning: Precision is ill-defined and being set to 0.0 in labels with no predicted samples. Use `zero_division` parameter to control this behavior.\n",
            "  _warn_prf(average, modifier, f\"{metric.capitalize()} is\", len(result))\n"
          ]
        }
      ],
      "source": [
        "# Evaluation Metrics for Logistic Regression\n",
        "print(\"Logistic Regression Evaluation:\")\n",
        "print(\"Accuracy:\", accuracy_score(y_test, y_pred_lr))\n",
        "print(\"Precision:\", precision_score(y_test, y_pred_lr, average='weighted'))\n",
        "print(\"Recall:\", recall_score(y_test, y_pred_lr, average='weighted'))\n",
        "print(\"F1-Score:\", f1_score(y_test, y_pred_lr, average='weighted'))\n",
        "print(\"Confusion Matrix:\\n\", confusion_matrix(y_test, y_pred_lr))\n",
        "print(\"Classification Report:\\n\", classification_report(y_test, y_pred_lr))"
      ]
    },
    {
      "cell_type": "code",
      "execution_count": 30,
      "metadata": {
        "colab": {
          "base_uri": "https://localhost:8080/",
          "height": 564
        },
        "id": "_i9eE-or54kd",
        "outputId": "869df587-3ce9-4166-fd36-6bf3f3a5b00f"
      },
      "outputs": [
        {
          "output_type": "display_data",
          "data": {
            "text/plain": [
              "<Figure size 800x600 with 1 Axes>"
            ],
            "image/png": "[encoded data removed]"
          },
          "metadata": {}
        }
      ],
      "source": [
        "# Confusion Matrix Plot for Logistic Regression\n",
        "plt.figure(figsize=(8, 6))\n",
        "sns.heatmap(confusion_matrix(y_test, y_pred_lr), annot=True, fmt='d', cmap='Blues', cbar=False)\n",
        "plt.title(\"Confusion Matrix - Logistic Regression\")\n",
        "plt.xlabel('Predicted')\n",
        "plt.ylabel('Actual')\n",
        "plt.show()\n"
      ]
    },
    {
      "cell_type": "code",
      "execution_count": 31,
      "metadata": {
        "id": "V3O3S5u_54kd"
      },
      "outputs": [],
      "source": [
        "# Naive Bayes Model\n",
        "nb_model = MultinomialNB()\n",
        "nb_model.fit(X_train_vec, y_train)\n",
        "\n",
        "y_pred_nb = nb_model.predict(X_test_vec)"
      ]
    },
    {
      "cell_type": "code",
      "execution_count": 32,
      "metadata": {
        "colab": {
          "base_uri": "https://localhost:8080/"
        },
        "id": "JGAnnZMo54kd",
        "outputId": "602ee29f-9e18-4d3f-fb04-ea374bd0c193"
      },
      "outputs": [
        {
          "output_type": "stream",
          "name": "stdout",
          "text": [
            "Naive Bayes Evaluation:\n",
            "Accuracy: 0.9694189602446484\n",
            "Precision: 0.9645080200997946\n",
            "Recall: 0.9694189602446484\n",
            "F1-Score: 0.9659394935372765\n",
            "Confusion Matrix:\n",
            " [[   0    2   21]\n",
            " [   0 2041   56]\n",
            " [   0    1  495]]\n",
            "Classification Report:\n",
            "               precision    recall  f1-score   support\n",
            "\n",
            "           0       0.00      0.00      0.00        23\n",
            "           1       1.00      0.97      0.99      2097\n",
            "           2       0.87      1.00      0.93       496\n",
            "\n",
            "    accuracy                           0.97      2616\n",
            "   macro avg       0.62      0.66      0.64      2616\n",
            "weighted avg       0.96      0.97      0.97      2616\n",
            "\n"
          ]
        },
        {
          "output_type": "stream",
          "name": "stderr",
          "text": [
            "/usr/local/lib/python3.10/dist-packages/sklearn/metrics/_classification.py:1565: UndefinedMetricWarning: Precision is ill-defined and being set to 0.0 in labels with no predicted samples. Use `zero_division` parameter to control this behavior.\n",
            "  _warn_prf(average, modifier, f\"{metric.capitalize()} is\", len(result))\n",
            "/usr/local/lib/python3.10/dist-packages/sklearn/metrics/_classification.py:1565: UndefinedMetricWarning: Precision is ill-defined and being set to 0.0 in labels with no predicted samples. Use `zero_division` parameter to control this behavior.\n",
            "  _warn_prf(average, modifier, f\"{metric.capitalize()} is\", len(result))\n",
            "/usr/local/lib/python3.10/dist-packages/sklearn/metrics/_classification.py:1565: UndefinedMetricWarning: Precision is ill-defined and being set to 0.0 in labels with no predicted samples. Use `zero_division` parameter to control this behavior.\n",
            "  _warn_prf(average, modifier, f\"{metric.capitalize()} is\", len(result))\n",
            "/usr/local/lib/python3.10/dist-packages/sklearn/metrics/_classification.py:1565: UndefinedMetricWarning: Precision is ill-defined and being set to 0.0 in labels with no predicted samples. Use `zero_division` parameter to control this behavior.\n",
            "  _warn_prf(average, modifier, f\"{metric.capitalize()} is\", len(result))\n"
          ]
        }
      ],
      "source": [
        "# Evaluation Metrics for Naive Bayes\n",
        "print(\"Naive Bayes Evaluation:\")\n",
        "print(\"Accuracy:\", accuracy_score(y_test, y_pred_nb))\n",
        "print(\"Precision:\", precision_score(y_test, y_pred_nb, average='weighted'))\n",
        "print(\"Recall:\", recall_score(y_test, y_pred_nb, average='weighted'))\n",
        "print(\"F1-Score:\", f1_score(y_test, y_pred_nb, average='weighted'))\n",
        "print(\"Confusion Matrix:\\n\", confusion_matrix(y_test, y_pred_nb))\n",
        "print(\"Classification Report:\\n\", classification_report(y_test, y_pred_nb))"
      ]
    },
    {
      "cell_type": "code",
      "execution_count": 33,
      "metadata": {
        "colab": {
          "base_uri": "https://localhost:8080/",
          "height": 564
        },
        "id": "yUjEcbyC54ke",
        "outputId": "fef5db36-bf71-475b-a03a-8e319b80955f"
      },
      "outputs": [
        {
          "output_type": "display_data",
          "data": {
            "text/plain": [
              "<Figure size 800x600 with 1 Axes>"
            ],
            "image/png": "[encoded data removed]"
          },
          "metadata": {}
        }
      ],
      "source": [
        "# Confusion Matrix Plot for Naive Bayes\n",
        "plt.figure(figsize=(8, 6))\n",
        "sns.heatmap(confusion_matrix(y_test, y_pred_nb), annot=True, fmt='d', cmap='Blues', cbar=False)\n",
        "plt.title(\"Confusion Matrix - Naive Bayes\")\n",
        "plt.xlabel('Predicted')\n",
        "plt.ylabel('Actual')\n",
        "plt.show()"
      ]
    },
    {
      "cell_type": "code",
      "source": [
        "# Task 2: Product Category Clustering using KMeans (Updated to 5 clusters)\n",
        "vectorizer = TfidfVectorizer(max_features=5000)\n",
        "X_tfidf = vectorizer.fit_transform(df['review_clean'])"
      ],
      "metadata": {
        "id": "GO5zWlQOAQZx"
      },
      "execution_count": 34,
      "outputs": []
    },
    {
      "cell_type": "code",
      "execution_count": 35,
      "metadata": {
        "colab": {
          "base_uri": "https://localhost:8080/",
          "height": 80
        },
        "id": "fjhRxG8U54ke",
        "outputId": "8ccf33d5-40fc-486a-ab70-1281fbd8a93f"
      },
      "outputs": [
        {
          "output_type": "execute_result",
          "data": {
            "text/plain": [
              "KMeans(n_clusters=6, random_state=42)"
            ],
            "text/html": [
              "<style>#sk-container-id-1 {\n",
              "  /* Definition of color scheme common for light and dark mode */\n",
              "  --sklearn-color-text: #000;\n",
              "  --sklearn-color-text-muted: #666;\n",
              "  --sklearn-color-line: gray;\n",
              "  /* Definition of color scheme for unfitted estimators */\n",
              "  --sklearn-color-unfitted-level-0: #fff5e6;\n",
              "  --sklearn-color-unfitted-level-1: #f6e4d2;\n",
              "  --sklearn-color-unfitted-level-2: #ffe0b3;\n",
              "  --sklearn-color-unfitted-level-3: chocolate;\n",
              "  /* Definition of color scheme for fitted estimators */\n",
              "  --sklearn-color-fitted-level-0: #f0f8ff;\n",
              "  --sklearn-color-fitted-level-1: #d4ebff;\n",
              "  --sklearn-color-fitted-level-2: #b3dbfd;\n",
              "  --sklearn-color-fitted-level-3: cornflowerblue;\n",
              "\n",
              "  /* Specific color for light theme */\n",
              "  --sklearn-color-text-on-default-background: var(--sg-text-color, var(--theme-code-foreground, var(--jp-content-font-color1, black)));\n",
              "  --sklearn-color-background: var(--sg-background-color, var(--theme-background, var(--jp-layout-color0, white)));\n",
              "  --sklearn-color-border-box: var(--sg-text-color, var(--theme-code-foreground, var(--jp-content-font-color1, black)));\n",
              "  --sklearn-color-icon: #696969;\n",
              "\n",
              "  @media (prefers-color-scheme: dark) {\n",
              "    /* Redefinition of color scheme for dark theme */\n",
              "    --sklearn-color-text-on-default-background: var(--sg-text-color, var(--theme-code-foreground, var(--jp-content-font-color1, white)));\n",
              "    --sklearn-color-background: var(--sg-background-color, var(--theme-background, var(--jp-layout-color0, #111)));\n",
              "    --sklearn-color-border-box: var(--sg-text-color, var(--theme-code-foreground, var(--jp-content-font-color1, white)));\n",
              "    --sklearn-color-icon: #878787;\n",
              "  }\n",
              "}\n",
              "\n",
              "#sk-container-id-1 {\n",
              "  color: var(--sklearn-color-text);\n",
              "}\n",
              "\n",
              "#sk-container-id-1 pre {\n",
              "  padding: 0;\n",
              "}\n",
              "\n",
              "#sk-container-id-1 input.sk-hidden--visually {\n",
              "  border: 0;\n",
              "  clip: rect(1px 1px 1px 1px);\n",
              "  clip: rect(1px, 1px, 1px, 1px);\n",
              "  height: 1px;\n",
              "  margin: -1px;\n",
              "  overflow: hidden;\n",
              "  padding: 0;\n",
              "  position: absolute;\n",
              "  width: 1px;\n",
              "}\n",
              "\n",
              "#sk-container-id-1 div.sk-dashed-wrapped {\n",
              "  border: 1px dashed var(--sklearn-color-line);\n",
              "  margin: 0 0.4em 0.5em 0.4em;\n",
              "  box-sizing: border-box;\n",
              "  padding-bottom: 0.4em;\n",
              "  background-color: var(--sklearn-color-background);\n",
              "}\n",
              "\n",
              "#sk-container-id-1 div.sk-container {\n",
              "  /* jupyter's `normalize.less` sets `[hidden] { display: none; }`\n",
              "     but bootstrap.min.css set `[hidden] { display: none !important; }`\n",
              "     so we also need the `!important` here to be able to override the\n",
              "     default hidden behavior on the sphinx rendered scikit-learn.org.\n",
              "     See: https://github.com/scikit-learn/scikit-learn/issues/21755 */\n",
              "  display: inline-block !important;\n",
              "  position: relative;\n",
              "}\n",
              "\n",
              "#sk-container-id-1 div.sk-text-repr-fallback {\n",
              "  display: none;\n",
              "}\n",
              "\n",
              "div.sk-parallel-item,\n",
              "div.sk-serial,\n",
              "div.sk-item {\n",
              "  /* draw centered vertical line to link estimators */\n",
              "  background-image: linear-gradient(var(--sklearn-color-text-on-default-background), var(--sklearn-color-text-on-default-background));\n",
              "  background-size: 2px 100%;\n",
              "  background-repeat: no-repeat;\n",
              "  background-position: center center;\n",
              "}\n",
              "\n",
              "/* Parallel-specific style estimator block */\n",
              "\n",
              "#sk-container-id-1 div.sk-parallel-item::after {\n",
              "  content: \"\";\n",
              "  width: 100%;\n",
              "  border-bottom: 2px solid var(--sklearn-color-text-on-default-background);\n",
              "  flex-grow: 1;\n",
              "}\n",
              "\n",
              "#sk-container-id-1 div.sk-parallel {\n",
              "  display: flex;\n",
              "  align-items: stretch;\n",
              "  justify-content: center;\n",
              "  background-color: var(--sklearn-color-background);\n",
              "  position: relative;\n",
              "}\n",
              "\n",
              "#sk-container-id-1 div.sk-parallel-item {\n",
              "  display: flex;\n",
              "  flex-direction: column;\n",
              "}\n",
              "\n",
              "#sk-container-id-1 div.sk-parallel-item:first-child::after {\n",
              "  align-self: flex-end;\n",
              "  width: 50%;\n",
              "}\n",
              "\n",
              "#sk-container-id-1 div.sk-parallel-item:last-child::after {\n",
              "  align-self: flex-start;\n",
              "  width: 50%;\n",
              "}\n",
              "\n",
              "#sk-container-id-1 div.sk-parallel-item:only-child::after {\n",
              "  width: 0;\n",
              "}\n",
              "\n",
              "/* Serial-specific style estimator block */\n",
              "\n",
              "#sk-container-id-1 div.sk-serial {\n",
              "  display: flex;\n",
              "  flex-direction: column;\n",
              "  align-items: center;\n",
              "  background-color: var(--sklearn-color-background);\n",
              "  padding-right: 1em;\n",
              "  padding-left: 1em;\n",
              "}\n",
              "\n",
              "\n",
              "/* Toggleable style: style used for estimator/Pipeline/ColumnTransformer box that is\n",
              "clickable and can be expanded/collapsed.\n",
              "- Pipeline and ColumnTransformer use this feature and define the default style\n",
              "- Estimators will overwrite some part of the style using the `sk-estimator` class\n",
              "*/\n",
              "\n",
              "/* Pipeline and ColumnTransformer style (default) */\n",
              "\n",
              "#sk-container-id-1 div.sk-toggleable {\n",
              "  /* Default theme specific background. It is overwritten whether we have a\n",
              "  specific estimator or a Pipeline/ColumnTransformer */\n",
              "  background-color: var(--sklearn-color-background);\n",
              "}\n",
              "\n",
              "/* Toggleable label */\n",
              "#sk-container-id-1 label.sk-toggleable__label {\n",
              "  cursor: pointer;\n",
              "  display: flex;\n",
              "  width: 100%;\n",
              "  margin-bottom: 0;\n",
              "  padding: 0.5em;\n",
              "  box-sizing: border-box;\n",
              "  text-align: center;\n",
              "  align-items: start;\n",
              "  justify-content: space-between;\n",
              "  gap: 0.5em;\n",
              "}\n",
              "\n",
              "#sk-container-id-1 label.sk-toggleable__label .caption {\n",
              "  font-size: 0.6rem;\n",
              "  font-weight: lighter;\n",
              "  color: var(--sklearn-color-text-muted);\n",
              "}\n",
              "\n",
              "#sk-container-id-1 label.sk-toggleable__label-arrow:before {\n",
              "  /* Arrow on the left of the label */\n",
              "  content: \"▸\";\n",
              "  float: left;\n",
              "  margin-right: 0.25em;\n",
              "  color: var(--sklearn-color-icon);\n",
              "}\n",
              "\n",
              "#sk-container-id-1 label.sk-toggleable__label-arrow:hover:before {\n",
              "  color: var(--sklearn-color-text);\n",
              "}\n",
              "\n",
              "/* Toggleable content - dropdown */\n",
              "\n",
              "#sk-container-id-1 div.sk-toggleable__content {\n",
              "  max-height: 0;\n",
              "  max-width: 0;\n",
              "  overflow: hidden;\n",
              "  text-align: left;\n",
              "  /* unfitted */\n",
              "  background-color: var(--sklearn-color-unfitted-level-0);\n",
              "}\n",
              "\n",
              "#sk-container-id-1 div.sk-toggleable__content.fitted {\n",
              "  /* fitted */\n",
              "  background-color: var(--sklearn-color-fitted-level-0);\n",
              "}\n",
              "\n",
              "#sk-container-id-1 div.sk-toggleable__content pre {\n",
              "  margin: 0.2em;\n",
              "  border-radius: 0.25em;\n",
              "  color: var(--sklearn-color-text);\n",
              "  /* unfitted */\n",
              "  background-color: var(--sklearn-color-unfitted-level-0);\n",
              "}\n",
              "\n",
              "#sk-container-id-1 div.sk-toggleable__content.fitted pre {\n",
              "  /* unfitted */\n",
              "  background-color: var(--sklearn-color-fitted-level-0);\n",
              "}\n",
              "\n",
              "#sk-container-id-1 input.sk-toggleable__control:checked~div.sk-toggleable__content {\n",
              "  /* Expand drop-down */\n",
              "  max-height: 200px;\n",
              "  max-width: 100%;\n",
              "  overflow: auto;\n",
              "}\n",
              "\n",
              "#sk-container-id-1 input.sk-toggleable__control:checked~label.sk-toggleable__label-arrow:before {\n",
              "  content: \"▾\";\n",
              "}\n",
              "\n",
              "/* Pipeline/ColumnTransformer-specific style */\n",
              "\n",
              "#sk-container-id-1 div.sk-label input.sk-toggleable__control:checked~label.sk-toggleable__label {\n",
              "  color: var(--sklearn-color-text);\n",
              "  background-color: var(--sklearn-color-unfitted-level-2);\n",
              "}\n",
              "\n",
              "#sk-container-id-1 div.sk-label.fitted input.sk-toggleable__control:checked~label.sk-toggleable__label {\n",
              "  background-color: var(--sklearn-color-fitted-level-2);\n",
              "}\n",
              "\n",
              "/* Estimator-specific style */\n",
              "\n",
              "/* Colorize estimator box */\n",
              "#sk-container-id-1 div.sk-estimator input.sk-toggleable__control:checked~label.sk-toggleable__label {\n",
              "  /* unfitted */\n",
              "  background-color: var(--sklearn-color-unfitted-level-2);\n",
              "}\n",
              "\n",
              "#sk-container-id-1 div.sk-estimator.fitted input.sk-toggleable__control:checked~label.sk-toggleable__label {\n",
              "  /* fitted */\n",
              "  background-color: var(--sklearn-color-fitted-level-2);\n",
              "}\n",
              "\n",
              "#sk-container-id-1 div.sk-label label.sk-toggleable__label,\n",
              "#sk-container-id-1 div.sk-label label {\n",
              "  /* The background is the default theme color */\n",
              "  color: var(--sklearn-color-text-on-default-background);\n",
              "}\n",
              "\n",
              "/* On hover, darken the color of the background */\n",
              "#sk-container-id-1 div.sk-label:hover label.sk-toggleable__label {\n",
              "  color: var(--sklearn-color-text);\n",
              "  background-color: var(--sklearn-color-unfitted-level-2);\n",
              "}\n",
              "\n",
              "/* Label box, darken color on hover, fitted */\n",
              "#sk-container-id-1 div.sk-label.fitted:hover label.sk-toggleable__label.fitted {\n",
              "  color: var(--sklearn-color-text);\n",
              "  background-color: var(--sklearn-color-fitted-level-2);\n",
              "}\n",
              "\n",
              "/* Estimator label */\n",
              "\n",
              "#sk-container-id-1 div.sk-label label {\n",
              "  font-family: monospace;\n",
              "  font-weight: bold;\n",
              "  display: inline-block;\n",
              "  line-height: 1.2em;\n",
              "}\n",
              "\n",
              "#sk-container-id-1 div.sk-label-container {\n",
              "  text-align: center;\n",
              "}\n",
              "\n",
              "/* Estimator-specific */\n",
              "#sk-container-id-1 div.sk-estimator {\n",
              "  font-family: monospace;\n",
              "  border: 1px dotted var(--sklearn-color-border-box);\n",
              "  border-radius: 0.25em;\n",
              "  box-sizing: border-box;\n",
              "  margin-bottom: 0.5em;\n",
              "  /* unfitted */\n",
              "  background-color: var(--sklearn-color-unfitted-level-0);\n",
              "}\n",
              "\n",
              "#sk-container-id-1 div.sk-estimator.fitted {\n",
              "  /* fitted */\n",
              "  background-color: var(--sklearn-color-fitted-level-0);\n",
              "}\n",
              "\n",
              "/* on hover */\n",
              "#sk-container-id-1 div.sk-estimator:hover {\n",
              "  /* unfitted */\n",
              "  background-color: var(--sklearn-color-unfitted-level-2);\n",
              "}\n",
              "\n",
              "#sk-container-id-1 div.sk-estimator.fitted:hover {\n",
              "  /* fitted */\n",
              "  background-color: var(--sklearn-color-fitted-level-2);\n",
              "}\n",
              "\n",
              "/* Specification for estimator info (e.g. \"i\" and \"?\") */\n",
              "\n",
              "/* Common style for \"i\" and \"?\" */\n",
              "\n",
              ".sk-estimator-doc-link,\n",
              "a:link.sk-estimator-doc-link,\n",
              "a:visited.sk-estimator-doc-link {\n",
              "  float: right;\n",
              "  font-size: smaller;\n",
              "  line-height: 1em;\n",
              "  font-family: monospace;\n",
              "  background-color: var(--sklearn-color-background);\n",
              "  border-radius: 1em;\n",
              "  height: 1em;\n",
              "  width: 1em;\n",
              "  text-decoration: none !important;\n",
              "  margin-left: 0.5em;\n",
              "  text-align: center;\n",
              "  /* unfitted */\n",
              "  border: var(--sklearn-color-unfitted-level-1) 1pt solid;\n",
              "  color: var(--sklearn-color-unfitted-level-1);\n",
              "}\n",
              "\n",
              ".sk-estimator-doc-link.fitted,\n",
              "a:link.sk-estimator-doc-link.fitted,\n",
              "a:visited.sk-estimator-doc-link.fitted {\n",
              "  /* fitted */\n",
              "  border: var(--sklearn-color-fitted-level-1) 1pt solid;\n",
              "  color: var(--sklearn-color-fitted-level-1);\n",
              "}\n",
              "\n",
              "/* On hover */\n",
              "div.sk-estimator:hover .sk-estimator-doc-link:hover,\n",
              ".sk-estimator-doc-link:hover,\n",
              "div.sk-label-container:hover .sk-estimator-doc-link:hover,\n",
              ".sk-estimator-doc-link:hover {\n",
              "  /* unfitted */\n",
              "  background-color: var(--sklearn-color-unfitted-level-3);\n",
              "  color: var(--sklearn-color-background);\n",
              "  text-decoration: none;\n",
              "}\n",
              "\n",
              "div.sk-estimator.fitted:hover .sk-estimator-doc-link.fitted:hover,\n",
              ".sk-estimator-doc-link.fitted:hover,\n",
              "div.sk-label-container:hover .sk-estimator-doc-link.fitted:hover,\n",
              ".sk-estimator-doc-link.fitted:hover {\n",
              "  /* fitted */\n",
              "  background-color: var(--sklearn-color-fitted-level-3);\n",
              "  color: var(--sklearn-color-background);\n",
              "  text-decoration: none;\n",
              "}\n",
              "\n",
              "/* Span, style for the box shown on hovering the info icon */\n",
              ".sk-estimator-doc-link span {\n",
              "  display: none;\n",
              "  z-index: 9999;\n",
              "  position: relative;\n",
              "  font-weight: normal;\n",
              "  right: .2ex;\n",
              "  padding: .5ex;\n",
              "  margin: .5ex;\n",
              "  width: min-content;\n",
              "  min-width: 20ex;\n",
              "  max-width: 50ex;\n",
              "  color: var(--sklearn-color-text);\n",
              "  box-shadow: 2pt 2pt 4pt #999;\n",
              "  /* unfitted */\n",
              "  background: var(--sklearn-color-unfitted-level-0);\n",
              "  border: .5pt solid var(--sklearn-color-unfitted-level-3);\n",
              "}\n",
              "\n",
              ".sk-estimator-doc-link.fitted span {\n",
              "  /* fitted */\n",
              "  background: var(--sklearn-color-fitted-level-0);\n",
              "  border: var(--sklearn-color-fitted-level-3);\n",
              "}\n",
              "\n",
              ".sk-estimator-doc-link:hover span {\n",
              "  display: block;\n",
              "}\n",
              "\n",
              "/* \"?\"-specific style due to the `<a>` HTML tag */\n",
              "\n",
              "#sk-container-id-1 a.estimator_doc_link {\n",
              "  float: right;\n",
              "  font-size: 1rem;\n",
              "  line-height: 1em;\n",
              "  font-family: monospace;\n",
              "  background-color: var(--sklearn-color-background);\n",
              "  border-radius: 1rem;\n",
              "  height: 1rem;\n",
              "  width: 1rem;\n",
              "  text-decoration: none;\n",
              "  /* unfitted */\n",
              "  color: var(--sklearn-color-unfitted-level-1);\n",
              "  border: var(--sklearn-color-unfitted-level-1) 1pt solid;\n",
              "}\n",
              "\n",
              "#sk-container-id-1 a.estimator_doc_link.fitted {\n",
              "  /* fitted */\n",
              "  border: var(--sklearn-color-fitted-level-1) 1pt solid;\n",
              "  color: var(--sklearn-color-fitted-level-1);\n",
              "}\n",
              "\n",
              "/* On hover */\n",
              "#sk-container-id-1 a.estimator_doc_link:hover {\n",
              "  /* unfitted */\n",
              "  background-color: var(--sklearn-color-unfitted-level-3);\n",
              "  color: var(--sklearn-color-background);\n",
              "  text-decoration: none;\n",
              "}\n",
              "\n",
              "#sk-container-id-1 a.estimator_doc_link.fitted:hover {\n",
              "  /* fitted */\n",
              "  background-color: var(--sklearn-color-fitted-level-3);\n",
              "}\n",
              "</style><div id=\"sk-container-id-1\" class=\"sk-top-container\"><div class=\"sk-text-repr-fallback\"><pre>KMeans(n_clusters=6, random_state=42)</pre><b>In a Jupyter environment, please rerun this cell to show the HTML representation or trust the notebook. <br />On GitHub, the HTML representation is unable to render, please try loading this page with nbviewer.org.</b></div><div class=\"sk-container\" hidden><div class=\"sk-item\"><div class=\"sk-estimator fitted sk-toggleable\"><input class=\"sk-toggleable__control sk-hidden--visually\" id=\"sk-estimator-id-1\" type=\"checkbox\" checked><label for=\"sk-estimator-id-1\" class=\"sk-toggleable__label fitted sk-toggleable__label-arrow\"><div><div>KMeans</div></div><div><a class=\"sk-estimator-doc-link fitted\" rel=\"noreferrer\" target=\"_blank\" href=\"https://scikit-learn.org/1.6/modules/generated/sklearn.cluster.KMeans.html\">?<span>Documentation for KMeans</span></a><span class=\"sk-estimator-doc-link fitted\">i<span>Fitted</span></span></div></label><div class=\"sk-toggleable__content fitted\"><pre>KMeans(n_clusters=6, random_state=42)</pre></div> </div></div></div></div>"
            ]
          },
          "metadata": {},
          "execution_count": 35
        }
      ],
      "source": [
        "# KMeans Clustering\n",
        "pca = PCA(n_components=2)\n",
        "# Fit PCA on the same data used for KMeans\n",
        "X_pca = pca.fit_transform(X_tfidf.toarray())\n",
        "\n",
        "kmeans = KMeans(n_clusters=6, random_state=42)\n",
        "kmeans.fit(X_pca)"
      ]
    },
    {
      "cell_type": "code",
      "execution_count": 36,
      "metadata": {
        "id": "OG23dfWn54kf"
      },
      "outputs": [],
      "source": [
        "# Assign clusters to data\n",
        "df['cluster'] = kmeans.predict(pca.transform(X_tfidf.toarray()))"
      ]
    },
    {
      "cell_type": "code",
      "source": [
        "# Print unique clusters and their corresponding data\n",
        "num_clusters = 6  # Define num_clusters with the desired number of clusters\n",
        "for cluster_id in range(num_clusters):\n",
        "    print(f\"\\nCluster {cluster_id}:\")\n",
        "    cluster_data = df[df['cluster'] == cluster_id] # Changed 'data' to 'df'\n",
        "# Print unique clusters and their corresponding data\n",
        "num_clusters = 6  # Define num_clusters with the desired number of clusters\n",
        "for cluster_id in range(num_clusters):\n",
        "    print(f\"\\nCluster {cluster_id}:\")\n",
        "    cluster_data = df[df['cluster'] == cluster_id] # Changed 'data' to 'df'\n",
        "    print(cluster_data[['reviews.text', 'cluster']].head(10))  # Print first 10 reviews in each cluster\n",
        "    print(f\"Total reviews in Cluster {cluster_id}: {len(cluster_data)}\")"
      ],
      "metadata": {
        "colab": {
          "base_uri": "https://localhost:8080/"
        },
        "id": "JJzrIl3n1hz8",
        "outputId": "3e5d9d9f-6abb-40e9-a2f0-5971c818d8aa"
      },
      "execution_count": 37,
      "outputs": [
        {
          "output_type": "stream",
          "name": "stdout",
          "text": [
            "\n",
            "Cluster 0:\n",
            "\n",
            "Cluster 1:\n",
            "\n",
            "Cluster 2:\n",
            "\n",
            "Cluster 3:\n",
            "\n",
            "Cluster 4:\n",
            "\n",
            "Cluster 5:\n",
            "\n",
            "Cluster 0:\n",
            "                                           reviews.text  cluster\n",
            "5039  httpswwwamazoncomAmazonBasicsPerformanceAlkali...        0\n",
            "5040  httpswwwamazoncomAmazonBasicsPerformanceAlkali...        0\n",
            "5041  httpswwwamazoncomAmazonBasicsPerformanceAlkali...        0\n",
            "5042  httpswwwamazoncomAmazonBasicsPerformanceAlkali...        0\n",
            "5043  httpswwwamazoncomAmazonBasicsPerformanceAlkali...        0\n",
            "5044  httpswwwamazoncomAmazonBasicsPerformanceAlkali...        0\n",
            "5045  httpswwwamazoncomAmazonBasicsPerformanceAlkali...        0\n",
            "5046  httpswwwamazoncomAmazonBasicsPerformanceAlkali...        0\n",
            "5047  httpswwwamazoncomAmazonBasicsPerformanceAlkali...        0\n",
            "5048  httpswwwamazoncomAmazonBasicsPerformanceAlkali...        0\n",
            "Total reviews in Cluster 0: 6011\n",
            "\n",
            "Cluster 1:\n",
            "                                         reviews.text  cluster\n",
            "0   This product so far has not disappointed My ch...        1\n",
            "4   I love ordering books and reading them with th...        1\n",
            "5   Not easy for elderly users cease of ads that p...        1\n",
            "7   Simply does everything I need Thank youAnd sil...        1\n",
            "8   Got it as a present and love the size of the s...        1\n",
            "9   nice reader almost perfect for what i wantneed...        1\n",
            "12  Love love love my kindle fire this is what my ...        1\n",
            "15  I was surprised when I learned of the capabili...        1\n",
            "16  I got it for my son Its user friendly and durable        1\n",
            "17   If your looking for a affordable gift this is it        1\n",
            "Total reviews in Cluster 1: 1790\n",
            "\n",
            "Cluster 2:\n",
            "                                          reviews.text  cluster\n",
            "18   Works great Love the portability of books Over...        2\n",
            "38   Great tablet for the price It is easy to navigate        2\n",
            "89   This a great tablet for everyone Plenty of mem...        2\n",
            "101  It may be cheap but this is a great tablet and...        2\n",
            "148  This tablet is great I loved the color and all...        2\n",
            "154  Great tablet for the price My father in law li...        2\n",
            "165  Works great and is fast Great for reading and ...        2\n",
            "214  Great price of  dollars on a great tablet It i...        2\n",
            "217  Great little tablet for a great price I keep i...        2\n",
            "219   great tablet to replace kindle Love the features        2\n",
            "Total reviews in Cluster 2: 120\n",
            "\n",
            "Cluster 3:\n",
            "                                         reviews.text  cluster\n",
            "1   great for beginner or experienced person Bough...        3\n",
            "2   Ive had my Fire HD  two weeks now and I love i...        3\n",
            "3   This amazon fire  inch tablet is the perfect s...        3\n",
            "6   Wanted my father to have his first tablet and ...        3\n",
            "10  I really like this tablet I would have given  ...        3\n",
            "11  Great video quality lots of fun apps fun for t...        3\n",
            "13  My grandchildren are home schooled and utilize...        3\n",
            "19  I am still learning all the things I can do wi...        3\n",
            "21  I love everything about this tablet The imagin...        3\n",
            "26  Does all basic functions of a tablet Hardcore ...        3\n",
            "Total reviews in Cluster 3: 477\n",
            "\n",
            "Cluster 4:\n",
            "                                           reviews.text  cluster\n",
            "289   This is a great tablet with great features I l...        4\n",
            "297   Great tablet use it for reading and email Grea...        4\n",
            "1305  Amazon is great tablet and the price is excell...        4\n",
            "1499                         Great tablet for the price        4\n",
            "1536                                       Great Tablet        4\n",
            "1583                                       Great Tablet        4\n",
            "1593                                       great tablet        4\n",
            "1642                                       Great Tablet        4\n",
            "1646                      Nice Tablet For a Great Price        4\n",
            "1674                              Great tablet for kids        4\n",
            "Total reviews in Cluster 4: 24\n",
            "\n",
            "Cluster 5:\n",
            "                                         reviews.text  cluster\n",
            "14  I purchased this when my last tablet died It m...        5\n",
            "24  Great tablet fast screen good size never gives...        5\n",
            "46  Really enjoyed the price value of this tablet ...        5\n",
            "47  Amazing tablet with fast processor It looks gr...        5\n",
            "48  We got this for our  year old and this is real...        5\n",
            "58  Great product and Im very satisfied with it I ...        5\n",
            "60  Great tablet but apps limited comparison of ot...        5\n",
            "75  This tablet is great for kids and adults who h...        5\n",
            "77      Good tablet Wife loves it and would recommend        5\n",
            "78  Easy to use Good size Great eReader Not so exp...        5\n",
            "Total reviews in Cluster 5: 295\n"
          ]
        }
      ]
    },
    {
      "cell_type": "code",
      "execution_count": 38,
      "metadata": {
        "colab": {
          "base_uri": "https://localhost:8080/",
          "height": 564
        },
        "id": "OfFd8FUF54kf",
        "outputId": "3baa4b94-4dd7-4c02-ff8c-d1dfdb04cd35"
      },
      "outputs": [
        {
          "output_type": "display_data",
          "data": {
            "text/plain": [
              "<Figure size 1000x600 with 1 Axes>"
            ],
            "image/png": "[encoded data removed]"
          },
          "metadata": {}
        }
      ],
      "source": [
        "# Visualize Clusters\n",
        "plt.figure(figsize=(10, 6))\n",
        "sns.scatterplot(x=X_pca[:, 0], y=X_pca[:, 1], hue=kmeans.labels_, palette='viridis')\n",
        "plt.title(\"KMeans Clustering of Reviews\")\n",
        "plt.xlabel(\"PCA Component 1\")\n",
        "plt.ylabel(\"PCA Component 2\")\n",
        "plt.legend(title=\"Cluster\")\n",
        "plt.show()"
      ]
    },
    {
      "cell_type": "code",
      "source": [
        "# Label the clusters based on manual inspection\n",
        "cluster_labels = {0: \"Tablets\", 1: \"Smart Speakers\", 2: \"E-Book Readers\"}\n",
        "df['cluster_label'] = df['cluster'].map(cluster_labels)\n",
        "\n",
        "# Print unique clusters and some example reviews for each cluster\n",
        "for cluster_id, label in cluster_labels.items():\n",
        "    print(f\"\\nCluster {cluster_id} - {label}:\")\n",
        "    cluster_data = df[df['cluster'] == cluster_id] # Changed 'data' to 'df'\n",
        "    print(cluster_data[['reviews.text', 'cluster_label']].head(10))  # Display first 10 reviews\n",
        "    print(f\"Total reviews in '{label}': {len(cluster_data)}\")\n",
        "\n",
        "# Optional: Save the clustered data for further inspection\n",
        "df[['reviews.text', 'cluster_label']].to_csv(\"clustered_reviews.csv\", index=False)"
      ],
      "metadata": {
        "colab": {
          "base_uri": "https://localhost:8080/"
        },
        "id": "rQ2MFQMaK02V",
        "outputId": "6eefa528-658c-4a1e-b0d9-b72067654f5a"
      },
      "execution_count": 39,
      "outputs": [
        {
          "output_type": "stream",
          "name": "stdout",
          "text": [
            "\n",
            "Cluster 0 - Tablets:\n",
            "                                           reviews.text cluster_label\n",
            "5039  httpswwwamazoncomAmazonBasicsPerformanceAlkali...       Tablets\n",
            "5040  httpswwwamazoncomAmazonBasicsPerformanceAlkali...       Tablets\n",
            "5041  httpswwwamazoncomAmazonBasicsPerformanceAlkali...       Tablets\n",
            "5042  httpswwwamazoncomAmazonBasicsPerformanceAlkali...       Tablets\n",
            "5043  httpswwwamazoncomAmazonBasicsPerformanceAlkali...       Tablets\n",
            "5044  httpswwwamazoncomAmazonBasicsPerformanceAlkali...       Tablets\n",
            "5045  httpswwwamazoncomAmazonBasicsPerformanceAlkali...       Tablets\n",
            "5046  httpswwwamazoncomAmazonBasicsPerformanceAlkali...       Tablets\n",
            "5047  httpswwwamazoncomAmazonBasicsPerformanceAlkali...       Tablets\n",
            "5048  httpswwwamazoncomAmazonBasicsPerformanceAlkali...       Tablets\n",
            "Total reviews in 'Tablets': 6011\n",
            "\n",
            "Cluster 1 - Smart Speakers:\n",
            "                                         reviews.text   cluster_label\n",
            "0   This product so far has not disappointed My ch...  Smart Speakers\n",
            "4   I love ordering books and reading them with th...  Smart Speakers\n",
            "5   Not easy for elderly users cease of ads that p...  Smart Speakers\n",
            "7   Simply does everything I need Thank youAnd sil...  Smart Speakers\n",
            "8   Got it as a present and love the size of the s...  Smart Speakers\n",
            "9   nice reader almost perfect for what i wantneed...  Smart Speakers\n",
            "12  Love love love my kindle fire this is what my ...  Smart Speakers\n",
            "15  I was surprised when I learned of the capabili...  Smart Speakers\n",
            "16  I got it for my son Its user friendly and durable  Smart Speakers\n",
            "17   If your looking for a affordable gift this is it  Smart Speakers\n",
            "Total reviews in 'Smart Speakers': 1790\n",
            "\n",
            "Cluster 2 - E-Book Readers:\n",
            "                                          reviews.text   cluster_label\n",
            "18   Works great Love the portability of books Over...  E-Book Readers\n",
            "38   Great tablet for the price It is easy to navigate  E-Book Readers\n",
            "89   This a great tablet for everyone Plenty of mem...  E-Book Readers\n",
            "101  It may be cheap but this is a great tablet and...  E-Book Readers\n",
            "148  This tablet is great I loved the color and all...  E-Book Readers\n",
            "154  Great tablet for the price My father in law li...  E-Book Readers\n",
            "165  Works great and is fast Great for reading and ...  E-Book Readers\n",
            "214  Great price of  dollars on a great tablet It i...  E-Book Readers\n",
            "217  Great little tablet for a great price I keep i...  E-Book Readers\n",
            "219   great tablet to replace kindle Love the features  E-Book Readers\n",
            "Total reviews in 'E-Book Readers': 120\n"
          ]
        }
      ]
    },
    {
      "cell_type": "code",
      "source": [
        "# Annotate the cluster with product categories\n",
        "# Increase the number of category labels to match the number of clusters (6 in this case)\n",
        "category_labels = ['Books', 'Electronics', 'Others', 'Category 4', 'Category 5', 'Category 6']  # Customize with meaningful labels\n",
        "df['cluster_label'] = df['cluster'].apply(lambda x: category_labels[x])\n",
        "\n",
        "# Check the clustered data\n",
        "print(df[['reviews.text', 'cluster_label']].head())"
      ],
      "metadata": {
        "colab": {
          "base_uri": "https://localhost:8080/"
        },
        "id": "g5Ff55LqQwK3",
        "outputId": "1c62c13c-1881-43c5-88cc-036b3240bdba"
      },
      "execution_count": 43,
      "outputs": [
        {
          "output_type": "stream",
          "name": "stdout",
          "text": [
            "                                        reviews.text cluster_label\n",
            "0  This product so far has not disappointed My ch...   Electronics\n",
            "1  great for beginner or experienced person Bough...    Category 4\n",
            "2  Ive had my Fire HD  two weeks now and I love i...    Category 4\n",
            "3  This amazon fire  inch tablet is the perfect s...    Category 4\n",
            "4  I love ordering books and reading them with th...   Electronics\n"
          ]
        }
      ]
    },
    {
      "cell_type": "code",
      "source": [
        "# Task 3: Generative AI for Review Summarization and Product Recommendation (using T5)\n",
        "# Fine-tune T5 for generating product reviews or summarizing\n",
        "tokenizer = T5Tokenizer.from_pretrained('t5-small')\n",
        "model = T5ForConditionalGeneration.from_pretrained('t5-small')\n",
        "\n",
        "def generate_summary(text, max_length=150):\n",
        "    input_text = f\"summarize: {text}\"\n",
        "    inputs = tokenizer(input_text, return_tensors=\"pt\", max_length=512, truncation=True)\n",
        "    summary_ids = model.generate(inputs['input_ids'], max_length=max_length, num_beams=4, length_penalty=2.0, early_stopping=True)\n",
        "    summary = tokenizer.decode(summary_ids[0], skip_special_tokens=True)\n",
        "    return summary"
      ],
      "metadata": {
        "colab": {
          "base_uri": "https://localhost:8080/",
          "height": 304,
          "referenced_widgets": [
            "13ecacacbcc14f76a7193dcf123fe350",
            "4015c7b766c7449480a2e13832082b0e",
            "ddf358ea86b44559a70225d4fae530c1",
            "a52c5e3820624a8b97c7695dc2de5612",
            "868220dd344d414f8fcbbc6a213daf76",
            "8826b43acc2f4e4f9db62313ab064021",
            "6862d3f8e600477a918d1199ed171542",
            "8f4b2245d77c4dfb803e9824fcfe4ce8",
            "be0e4b32f4944884af60a21cda983bf3",
            "631b4adf383549f483aaa131515b60fc",
            "520a5a105fac4d7fac0cf5822e36f611",
            "8743926d864347c8835e0b5e07ed79e6",
            "8b01bdd11da749a4b48e57687a2f6745",
            "7fdb0565170c4825842a6224282748a5",
            "4219e44d819d454686a02434f58d5145",
            "108e3871ed0f410da04011e1b6f3955a",
            "09d8c1aa45a54c69a28a46e46ccd3339",
            "1b87cc06a6c84a8badfc80886d5217a0",
            "bd5d7ca5d65245d9ac5854b11453e2fd",
            "3bcd5784ea5b4593828a5d883e633361",
            "b3d65c1397b44ccb92bdfdea47bab824",
            "e82f44f882a84ece8f8621cb70dcf1d3",
            "bae2f43224434cc8aad7e9d91c6e097a",
            "f2291250c02344eb99c0dffc3f6586ff",
            "e4305f34edc94ca0b122295477328c01",
            "65cde176893447fe976fbd88d9236ab1",
            "242aaecfb91d435789f090bb25b83ee7",
            "40999fae96a7491ab2cbe50c4a818c40",
            "b506eba5d26c4a0e98a6b5e85a1f3d89",
            "b93b084de7b0435295f5ffb32f63e1e4",
            "a22f9de5a34645d5be597e5eecda948f",
            "2674701592604b788c32d2a89585220a",
            "61902d173fc046ab9f682934c79f8dd3",
            "890ee5d5a574454783dc592470f464d8",
            "5acac4e8e4fc48738a48dae6c78f2d30",
            "509a0c299bf247d782829657492c17c1",
            "64be218561a5479d8d0a139f746d3ea3",
            "a87ae141ff734af290a415208943d83e",
            "71512abcbe8f4d27ac3d7926c2d97a67",
            "7a09f91a649a4397bc7f36c71202aec4",
            "006d2cf8baa64b00966d37f745d92884",
            "408d627fad23473cb77291dd07a7da5e",
            "34d0788d552c42a6b7b626d53d86649a",
            "90e98097ad164d9298c18973a2c226b4"
          ]
        },
        "id": "ymHJSqs3AhTi",
        "outputId": "8c0db5d9-cfa9-46f9-acdd-20c65e5cf772"
      },
      "execution_count": 44,
      "outputs": [
        {
          "output_type": "stream",
          "name": "stderr",
          "text": [
            "/usr/local/lib/python3.10/dist-packages/huggingface_hub/file_download.py:795: FutureWarning: `resume_download` is deprecated and will be removed in version 1.0.0. Downloads always resume when possible. If you want to force a new download, use `force_download=True`.\n",
            "  warnings.warn(\n",
            "/usr/local/lib/python3.10/dist-packages/huggingface_hub/utils/_auth.py:94: UserWarning: \n",
            "The secret `HF_TOKEN` does not exist in your Colab secrets.\n",
            "To authenticate with the Hugging Face Hub, create a token in your settings tab (https://huggingface.co/settings/tokens), set it as secret in your Google Colab and restart your session.\n",
            "You will be able to reuse this secret in all of your notebooks.\n",
            "Please note that authentication is recommended but still optional to access public models or datasets.\n",
            "  warnings.warn(\n"
          ]
        },
        {
          "output_type": "display_data",
          "data": {
            "text/plain": [
              "spiece.model:   0%|          | 0.00/792k [00:00<?, ?B/s]"
            ],
            "application/vnd.jupyter.widget-view+json": {
              "version_major": 2,
              "version_minor": 0,
              "model_id": "13ecacacbcc14f76a7193dcf123fe350"
            }
          },
          "metadata": {}
        },
        {
          "output_type": "display_data",
          "data": {
            "text/plain": [
              "tokenizer_config.json:   0%|          | 0.00/2.32k [00:00<?, ?B/s]"
            ],
            "application/vnd.jupyter.widget-view+json": {
              "version_major": 2,
              "version_minor": 0,
              "model_id": "8743926d864347c8835e0b5e07ed79e6"
            }
          },
          "metadata": {}
        },
        {
          "output_type": "display_data",
          "data": {
            "text/plain": [
              "config.json:   0%|          | 0.00/1.21k [00:00<?, ?B/s]"
            ],
            "application/vnd.jupyter.widget-view+json": {
              "version_major": 2,
              "version_minor": 0,
              "model_id": "bae2f43224434cc8aad7e9d91c6e097a"
            }
          },
          "metadata": {}
        },
        {
          "output_type": "display_data",
          "data": {
            "text/plain": [
              "model.safetensors:   0%|          | 0.00/242M [00:00<?, ?B/s]"
            ],
            "application/vnd.jupyter.widget-view+json": {
              "version_major": 2,
              "version_minor": 0,
              "model_id": "890ee5d5a574454783dc592470f464d8"
            }
          },
          "metadata": {}
        }
      ]
    },
    {
      "cell_type": "code",
      "source": [
        "# Generate summary for a product category\n",
        "sample_reviews = df[df['cluster'] == 1]['review_clean'].iloc[:5]  # Example reviews from cluster 1\n",
        "summaries = [generate_summary(review) for review in sample_reviews]\n",
        "for i, summary in enumerate(summaries):\n",
        "    print(f\"Summary {i+1}:\\n{summary}\\n\")"
      ],
      "metadata": {
        "colab": {
          "base_uri": "https://localhost:8080/"
        },
        "id": "HD8g5IarBUkj",
        "outputId": "f87417a8-1a75-4aa6-851c-83934c185cd0"
      },
      "execution_count": 45,
      "outputs": [
        {
          "output_type": "stream",
          "name": "stdout",
          "text": [
            "Summary 1:\n",
            "product far disappointed children love use like ability monitor control content see ease.\n",
            "\n",
            "Summary 2:\n",
            "love ordering books reading reader. love ordering books reading reader.\n",
            "\n",
            "Summary 3:\n",
            "easy elderly users cease ads pop. easy elderly users cease ads pop.\n",
            "\n",
            "Summary 4:\n",
            "simply everything need thank youand silk works wonders. just everything need thank youand silk works wonders.\n",
            "\n",
            "Summary 5:\n",
            "got present love size screen. got present love size.\n",
            "\n"
          ]
        }
      ]
    },
    {
      "cell_type": "code",
      "source": [
        "def evaluate_generative_model(generated_summary, reference_summary):\n",
        "    \"\"\"\n",
        "    Evaluates a generated summary against a reference summary using ROUGE and BLEU scores.\n",
        "\n",
        "    Args:\n",
        "        generated_summary (str): The generated summary.\n",
        "        reference_summary (str): The reference summary.\n",
        "\n",
        "    Returns:\n",
        "        None: Prints the ROUGE and BLEU scores.\n",
        "    \"\"\"\n",
        "\n",
        "    scorer = rouge_scorer.RougeScorer(['rouge1', 'rouge2', 'rougeL'], use_stemmer=True)\n",
        "    scores = scorer.score(reference_summary, generated_summary)\n",
        "\n",
        "    print(\"ROUGE Scores:\")\n",
        "    print(f\"ROUGE-1: {scores['rouge1']}\")\n",
        "    print(f\"ROUGE-2: {scores['rouge2']}\")\n",
        "    print(f\"ROUGE-L: {scores['rougeL']}\")\n",
        "\n",
        "    bleu_score = sentence_bleu([reference_summary.split()], generated_summary.split())\n",
        "    print(f\"BLEU Score: {bleu_score}\")"
      ],
      "metadata": {
        "id": "fx5kVNaSBae9"
      },
      "execution_count": 46,
      "outputs": []
    },
    {
      "cell_type": "code",
      "execution_count": 47,
      "metadata": {
        "id": "pRfisdDF54kf"
      },
      "outputs": [],
      "source": [
        "# Summarize Reviews into Articles using T5 Model\n",
        "def generate_summary(texts, model, tokenizer, max_input_length=512, max_output_length=150):\n",
        "    inputs = tokenizer.encode(\"summarize: \" + ' '.join(texts), return_tensors=\"pt\", max_length=max_input_length, truncation=True)\n",
        "    summary_ids = model.generate(inputs, max_length=max_output_length, min_length=30, length_penalty=2.0, num_beams=4, early_stopping=True)\n",
        "    return tokenizer.decode(summary_ids[0], skip_special_tokens=True)"
      ]
    },
    {
      "cell_type": "code",
      "execution_count": 48,
      "metadata": {
        "colab": {
          "base_uri": "https://localhost:8080/"
        },
        "id": "rRXG9Wuw54kf",
        "outputId": "73ed76fd-3ccd-40bc-d7fa-5fefc99bc1bb"
      },
      "outputs": [
        {
          "output_type": "stream",
          "name": "stdout",
          "text": [
            "T5 and tokenizer loaded successfully!\n"
          ]
        }
      ],
      "source": [
        "from transformers import T5Tokenizer, T5ForConditionalGeneration\n",
        "\n",
        "# Load T5 model and tokenizer\n",
        "tokenizer = T5Tokenizer.from_pretrained(\"t5-small\")\n",
        "model = T5ForConditionalGeneration.from_pretrained(\"t5-small\")\n",
        "\n",
        "print(\"T5 and tokenizer loaded successfully!\")"
      ]
    },
    {
      "cell_type": "code",
      "source": [
        "# To view the first 5 elements of the summaries list:\n",
        "print(summaries[:5])"
      ],
      "metadata": {
        "colab": {
          "base_uri": "https://localhost:8080/"
        },
        "id": "YqALUYPI5TWZ",
        "outputId": "165e4c9a-3733-4333-b6a1-67ed33976ac5"
      },
      "execution_count": 49,
      "outputs": [
        {
          "output_type": "stream",
          "name": "stdout",
          "text": [
            "['product far disappointed children love use like ability monitor control content see ease.', 'love ordering books reading reader. love ordering books reading reader.', 'easy elderly users cease ads pop. easy elderly users cease ads pop.', 'simply everything need thank youand silk works wonders. just everything need thank youand silk works wonders.', 'got present love size screen. got present love size.']\n"
          ]
        }
      ]
    },
    {
      "cell_type": "code",
      "execution_count": 50,
      "metadata": {
        "colab": {
          "base_uri": "https://localhost:8080/"
        },
        "id": "jwHSZ4vL54kf",
        "outputId": "e495dfc4-8c28-4223-9631-9212e3613c58"
      },
      "outputs": [
        {
          "output_type": "stream",
          "name": "stdout",
          "text": [
            "Cluster 0 Summary:\n",
            "httpswwwamazoncomAmazonBasicsPerformanceAlkalineBatteriesCountdpBLHDMUO httpswwwamazoncomAmazonBasicsPerformanceAlkalineBatteriesCountdpBLHDMUO httpswwwamazoncomAmazonBasicsPerformanceAlkalineBatteriesCountdpBLHDMUO httpswwwamazoncomAmazonBasicsPerformanceAlkalineBatteriesCountdpBL\n",
            "\n",
            "\n",
            "Cluster 1 Summary:\n",
            "this is my second kindle fire More flexibility than a Kindle and bigger screen Like it because I can surf the web and download and read books Got this for my wife and she loves it She had the previous generation and this one is a giant keep forward I found this pad very good.\n",
            "\n",
            "\n",
            "Cluster 2 Summary:\n",
            "this is a great tablet for the price I bought it to replace my iPad mini Great for streaming or casual games This is a great tablet for the price I keep it at work for listening to music or some lunchtime reading great tablet to replace kindle Love the features.\n",
            "\n",
            "\n",
            "Cluster 3 Summary:\n",
            "amazon fire inch is the perfect size I bought it for my husband so that he can watch movies and play a few games Easy enough for him to use I really like this tablet I would have given stars but sometimes you have to push start several times after you unlock the screen and it is a little annoying.\n",
            "\n",
            "\n",
            "Cluster 4 Summary:\n",
            "great tablet with great features I love my kindle Great tablet use it for reading and email Great price amazon is great tablet and the price is excellent great Great tablet for the price Great tablet Great tablet Great tablet Great tablet Great tablet Great tablet Great tablet for price Great tablet Great tablet Great tablet for price Great tablet Great tablet Great tablet for price Great tablet Great tablet Great tablet for price Great tablet for price Great tablet Great tablet Great tablet for price Great tablet Great tablet for price Great tablet Great tablet for price Great tablet Great tablet Great tablet for price Great tablet for price Great tablet\n",
            "\n",
            "\n",
            "Cluster 5 Summary:\n",
            "this is a great gift for a great frienday she loves it Its the perfect size and has all the features she was looking for in a tablet Happy birthday Graphics are great for the price. the price is great and the video quality is asstounding great product.\n",
            "\n",
            "\n"
          ]
        }
      ],
      "source": [
        "# Generate summaries for each cluster\n",
        "for i in range(6):\n",
        "    cluster_data = df[df['cluster'] == i]\n",
        "    reviews = cluster_data['reviews.text'].tolist()\n",
        "    print(f\"Cluster {i} Summary:\")\n",
        "    print(generate_summary(reviews, model, tokenizer))\n",
        "    print(\"\\n\")"
      ]
    },
    {
      "cell_type": "code",
      "execution_count": 51,
      "metadata": {
        "colab": {
          "base_uri": "https://localhost:8080/"
        },
        "id": "bo8E5eUs54kf",
        "outputId": "6551dd2c-453d-46d5-8501-62608b3da719"
      },
      "outputs": [
        {
          "output_type": "stream",
          "name": "stdout",
          "text": [
            "Cluster 0 ROUGE Scores:\n",
            "ROUGE-1: Score(precision=0.0, recall=0.0, fmeasure=0.0)\n",
            "ROUGE-2: Score(precision=0.0, recall=0.0, fmeasure=0.0)\n",
            "ROUGE-L: Score(precision=0.0, recall=0.0, fmeasure=0.0)\n",
            "Cluster 0 BLEU Score: 0\n",
            "\n",
            "\n",
            "Cluster 1 ROUGE Scores:\n",
            "ROUGE-1: Score(precision=0.01818181818181818, recall=0.1111111111111111, fmeasure=0.03125)\n",
            "ROUGE-2: Score(precision=0.0, recall=0.0, fmeasure=0.0)\n",
            "ROUGE-L: Score(precision=0.01818181818181818, recall=0.1111111111111111, fmeasure=0.03125)\n",
            "Cluster 1 BLEU Score: 6.689869579535845e-232\n",
            "\n",
            "\n"
          ]
        },
        {
          "output_type": "stream",
          "name": "stderr",
          "text": [
            "/usr/local/lib/python3.10/dist-packages/nltk/translate/bleu_score.py:577: UserWarning: \n",
            "The hypothesis contains 0 counts of 2-gram overlaps.\n",
            "Therefore the BLEU score evaluates to 0, independently of\n",
            "how many N-gram overlaps of lower order it contains.\n",
            "Consider using lower n-gram order or use SmoothingFunction()\n",
            "  warnings.warn(_msg)\n",
            "/usr/local/lib/python3.10/dist-packages/nltk/translate/bleu_score.py:577: UserWarning: \n",
            "The hypothesis contains 0 counts of 3-gram overlaps.\n",
            "Therefore the BLEU score evaluates to 0, independently of\n",
            "how many N-gram overlaps of lower order it contains.\n",
            "Consider using lower n-gram order or use SmoothingFunction()\n",
            "  warnings.warn(_msg)\n",
            "/usr/local/lib/python3.10/dist-packages/nltk/translate/bleu_score.py:577: UserWarning: \n",
            "The hypothesis contains 0 counts of 4-gram overlaps.\n",
            "Therefore the BLEU score evaluates to 0, independently of\n",
            "how many N-gram overlaps of lower order it contains.\n",
            "Consider using lower n-gram order or use SmoothingFunction()\n",
            "  warnings.warn(_msg)\n"
          ]
        },
        {
          "output_type": "stream",
          "name": "stdout",
          "text": [
            "Cluster 2 ROUGE Scores:\n",
            "ROUGE-1: Score(precision=0.0196078431372549, recall=0.1111111111111111, fmeasure=0.03333333333333333)\n",
            "ROUGE-2: Score(precision=0.0, recall=0.0, fmeasure=0.0)\n",
            "ROUGE-L: Score(precision=0.0196078431372549, recall=0.1111111111111111, fmeasure=0.03333333333333333)\n",
            "Cluster 2 BLEU Score: 6.817352958349419e-232\n",
            "\n",
            "\n"
          ]
        }
      ],
      "source": [
        "# Install rouge-score if not already installed\n",
        "# !pip install rouge-score\n",
        "\n",
        "from rouge_score import rouge_scorer\n",
        "\n",
        "# Rouge and BLEU Evaluation for Summaries\n",
        "scorer = rouge_scorer.RougeScorer(['rouge1', 'rouge2', 'rougeL'], use_stemmer=True)\n",
        "reference_summary = \"Overall, the products are well-received with minor complaints.\"\n",
        "\n",
        "for i in range(3):\n",
        "    cluster_data = df[df['cluster'] == i] # Changed 'data' to 'df'\n",
        "    reviews = cluster_data['reviews.text'].tolist()\n",
        "    generated_summary = generate_summary(reviews, model, tokenizer)\n",
        "\n",
        "    # Calculate ROUGE scores\n",
        "    scores = scorer.score(reference_summary, generated_summary)\n",
        "    print(f\"Cluster {i} ROUGE Scores:\")\n",
        "    print(f\"ROUGE-1: {scores['rouge1']}\")\n",
        "    print(f\"ROUGE-2: {scores['rouge2']}\")\n",
        "    print(f\"ROUGE-L: {scores['rougeL']}\")\n",
        "\n",
        "    # Calculate BLEU score\n",
        "    print(f\"Cluster {i} BLEU Score:\", sentence_bleu([reference_summary.split()], generated_summary.split()))\n",
        "    print(\"\\n\")"
      ]
    },
    {
      "cell_type": "code",
      "execution_count": 52,
      "metadata": {
        "id": "ULtG4dkX54kg"
      },
      "outputs": [],
      "source": [
        "# Fine-tune T5 Model for Product Review Generation\n",
        "class ReviewsDataset(torch.utils.data.Dataset):\n",
        "    def __init__(self, reviews, summaries, tokenizer, max_length=512):\n",
        "        self.reviews = reviews\n",
        "        self.summaries = summaries\n",
        "        self.tokenizer = tokenizer\n",
        "        self.max_length = max_length\n",
        "\n",
        "    def __len__(self):\n",
        "        return len(self.reviews)\n",
        "\n",
        "    def __getitem__(self, index):\n",
        "        review = self.reviews[index]\n",
        "        summary = self.summaries[index]\n",
        "\n",
        "        inputs = self.tokenizer(\"summarize: \" + review, max_length=self.max_length, truncation=True, return_tensors=\"pt\")\n",
        "        labels = self.tokenizer(summary, max_length=150, truncation=True, return_tensors=\"pt\")\n",
        "\n",
        "        return {\n",
        "            'input_ids': inputs['input_ids'].squeeze(),\n",
        "            'attention_mask': inputs['attention_mask'].squeeze(),\n",
        "            'labels': labels['input_ids'].squeeze()\n",
        "        }"
      ]
    },
    {
      "cell_type": "code",
      "execution_count": 53,
      "metadata": {
        "colab": {
          "base_uri": "https://localhost:8080/",
          "height": 1000
        },
        "id": "mw4GsHmv54kg",
        "outputId": "6819017c-2b87-434c-a8aa-8a35d666aa92"
      },
      "outputs": [
        {
          "output_type": "stream",
          "name": "stderr",
          "text": [
            "loading configuration file config.json from cache at /root/.cache/huggingface/hub/models--t5-small/snapshots/df1b051c49625cf57a3d0d8d3863ed4d13564fe4/config.json\n",
            "Model config T5Config {\n",
            "  \"architectures\": [\n",
            "    \"T5ForConditionalGeneration\"\n",
            "  ],\n",
            "  \"d_ff\": 2048,\n",
            "  \"d_kv\": 64,\n",
            "  \"d_model\": 512,\n",
            "  \"decoder_start_token_id\": 0,\n",
            "  \"dense_act_fn\": \"relu\",\n",
            "  \"dropout_rate\": 0.1,\n",
            "  \"eos_token_id\": 1,\n",
            "  \"feed_forward_proj\": \"relu\",\n",
            "  \"initializer_factor\": 1.0,\n",
            "  \"is_encoder_decoder\": true,\n",
            "  \"is_gated_act\": false,\n",
            "  \"layer_norm_epsilon\": 1e-06,\n",
            "  \"model_type\": \"t5\",\n",
            "  \"n_positions\": 512,\n",
            "  \"num_decoder_layers\": 6,\n",
            "  \"num_heads\": 8,\n",
            "  \"num_layers\": 6,\n",
            "  \"output_past\": true,\n",
            "  \"pad_token_id\": 0,\n",
            "  \"relative_attention_max_distance\": 128,\n",
            "  \"relative_attention_num_buckets\": 32,\n",
            "  \"task_specific_params\": {\n",
            "    \"summarization\": {\n",
            "      \"early_stopping\": true,\n",
            "      \"length_penalty\": 2.0,\n",
            "      \"max_length\": 200,\n",
            "      \"min_length\": 30,\n",
            "      \"no_repeat_ngram_size\": 3,\n",
            "      \"num_beams\": 4,\n",
            "      \"prefix\": \"summarize: \"\n",
            "    },\n",
            "    \"translation_en_to_de\": {\n",
            "      \"early_stopping\": true,\n",
            "      \"max_length\": 300,\n",
            "      \"num_beams\": 4,\n",
            "      \"prefix\": \"translate English to German: \"\n",
            "    },\n",
            "    \"translation_en_to_fr\": {\n",
            "      \"early_stopping\": true,\n",
            "      \"max_length\": 300,\n",
            "      \"num_beams\": 4,\n",
            "      \"prefix\": \"translate English to French: \"\n",
            "    },\n",
            "    \"translation_en_to_ro\": {\n",
            "      \"early_stopping\": true,\n",
            "      \"max_length\": 300,\n",
            "      \"num_beams\": 4,\n",
            "      \"prefix\": \"translate English to Romanian: \"\n",
            "    }\n",
            "  },\n",
            "  \"transformers_version\": \"4.23.0\",\n",
            "  \"use_cache\": true,\n",
            "  \"vocab_size\": 32128\n",
            "}\n",
            "\n",
            "loading weights file model.safetensors from cache at /root/.cache/huggingface/hub/models--t5-small/snapshots/df1b051c49625cf57a3d0d8d3863ed4d13564fe4/model.safetensors\n",
            "All model checkpoint weights were used when initializing T5ForConditionalGeneration.\n",
            "\n",
            "All the weights of T5ForConditionalGeneration were initialized from the model checkpoint at t5-small.\n",
            "If your task is similar to the task the model of the checkpoint was trained on, you can already use T5ForConditionalGeneration for predictions without further training.\n",
            "/usr/local/lib/python3.10/dist-packages/huggingface_hub/file_download.py:795: FutureWarning: `resume_download` is deprecated and will be removed in version 1.0.0. Downloads always resume when possible. If you want to force a new download, use `force_download=True`.\n",
            "  warnings.warn(\n",
            "loading configuration file config.json from cache at /root/.cache/huggingface/hub/models--t5-small/snapshots/df1b051c49625cf57a3d0d8d3863ed4d13564fe4/config.json\n",
            "Model config T5Config {\n",
            "  \"architectures\": [\n",
            "    \"T5ForConditionalGeneration\"\n",
            "  ],\n",
            "  \"d_ff\": 2048,\n",
            "  \"d_kv\": 64,\n",
            "  \"d_model\": 512,\n",
            "  \"decoder_start_token_id\": 0,\n",
            "  \"dense_act_fn\": \"relu\",\n",
            "  \"dropout_rate\": 0.1,\n",
            "  \"eos_token_id\": 1,\n",
            "  \"feed_forward_proj\": \"relu\",\n",
            "  \"initializer_factor\": 1.0,\n",
            "  \"is_encoder_decoder\": true,\n",
            "  \"is_gated_act\": false,\n",
            "  \"layer_norm_epsilon\": 1e-06,\n",
            "  \"model_type\": \"t5\",\n",
            "  \"n_positions\": 512,\n",
            "  \"num_decoder_layers\": 6,\n",
            "  \"num_heads\": 8,\n",
            "  \"num_layers\": 6,\n",
            "  \"output_past\": true,\n",
            "  \"pad_token_id\": 0,\n",
            "  \"relative_attention_max_distance\": 128,\n",
            "  \"relative_attention_num_buckets\": 32,\n",
            "  \"task_specific_params\": {\n",
            "    \"summarization\": {\n",
            "      \"early_stopping\": true,\n",
            "      \"length_penalty\": 2.0,\n",
            "      \"max_length\": 200,\n",
            "      \"min_length\": 30,\n",
            "      \"no_repeat_ngram_size\": 3,\n",
            "      \"num_beams\": 4,\n",
            "      \"prefix\": \"summarize: \"\n",
            "    },\n",
            "    \"translation_en_to_de\": {\n",
            "      \"early_stopping\": true,\n",
            "      \"max_length\": 300,\n",
            "      \"num_beams\": 4,\n",
            "      \"prefix\": \"translate English to German: \"\n",
            "    },\n",
            "    \"translation_en_to_fr\": {\n",
            "      \"early_stopping\": true,\n",
            "      \"max_length\": 300,\n",
            "      \"num_beams\": 4,\n",
            "      \"prefix\": \"translate English to French: \"\n",
            "    },\n",
            "    \"translation_en_to_ro\": {\n",
            "      \"early_stopping\": true,\n",
            "      \"max_length\": 300,\n",
            "      \"num_beams\": 4,\n",
            "      \"prefix\": \"translate English to Romanian: \"\n",
            "    }\n",
            "  },\n",
            "  \"transformers_version\": \"4.23.0\",\n",
            "  \"use_cache\": true,\n",
            "  \"vocab_size\": 32128\n",
            "}\n",
            "\n",
            "loading weights file model.safetensors from cache at /root/.cache/huggingface/hub/models--t5-small/snapshots/df1b051c49625cf57a3d0d8d3863ed4d13564fe4/model.safetensors\n",
            "All model checkpoint weights were used when initializing T5ForConditionalGeneration.\n",
            "\n",
            "All the weights of T5ForConditionalGeneration were initialized from the model checkpoint at t5-small.\n",
            "If your task is similar to the task the model of the checkpoint was trained on, you can already use T5ForConditionalGeneration for predictions without further training.\n",
            "/usr/local/lib/python3.10/dist-packages/transformers/optimization.py:306: FutureWarning: This implementation of AdamW is deprecated and will be removed in a future version. Use the PyTorch implementation torch.optim.AdamW instead, or set `no_deprecation_warning=True` to disable this warning\n",
            "  warnings.warn(\n",
            "***** Running training *****\n",
            "  Num examples = 8717\n",
            "  Num Epochs = 1\n",
            "  Instantaneous batch size per device = 8\n",
            "  Total train batch size (w. parallel, distributed & accumulation) = 8\n",
            "  Gradient Accumulation steps = 1\n",
            "  Total optimization steps = 1090\n",
            "Automatic Weights & Biases logging enabled, to disable set os.environ[\"WANDB_DISABLED\"] = \"true\"\n",
            "\u001b[34m\u001b[1mwandb\u001b[0m: Using wandb-core as the SDK backend.  Please refer to https://wandb.me/wandb-core for more information.\n"
          ]
        },
        {
          "output_type": "display_data",
          "data": {
            "text/plain": [
              "<IPython.core.display.Javascript object>"
            ],
            "application/javascript": [
              "\n",
              "        window._wandbApiKey = new Promise((resolve, reject) => {\n",
              "            function loadScript(url) {\n",
              "            return new Promise(function(resolve, reject) {\n",
              "                let newScript = document.createElement(\"script\");\n",
              "                newScript.onerror = reject;\n",
              "                newScript.onload = resolve;\n",
              "                document.body.appendChild(newScript);\n",
              "                newScript.src = url;\n",
              "            });\n",
              "            }\n",
              "            loadScript(\"https://cdn.jsdelivr.net/npm/postmate/build/postmate.min.js\").then(() => {\n",
              "            const iframe = document.createElement('iframe')\n",
              "            iframe.style.cssText = \"width:0;height:0;border:none\"\n",
              "            document.body.appendChild(iframe)\n",
              "            const handshake = new Postmate({\n",
              "                container: iframe,\n",
              "                url: 'https://wandb.ai/authorize'\n",
              "            });\n",
              "            const timeout = setTimeout(() => reject(\"Couldn't auto authenticate\"), 5000)\n",
              "            handshake.then(function(child) {\n",
              "                child.on('authorize', data => {\n",
              "                    clearTimeout(timeout)\n",
              "                    resolve(data)\n",
              "                });\n",
              "            });\n",
              "            })\n",
              "        });\n",
              "    "
            ]
          },
          "metadata": {}
        },
        {
          "output_type": "stream",
          "name": "stderr",
          "text": [
            "\u001b[34m\u001b[1mwandb\u001b[0m: Logging into wandb.ai. (Learn how to deploy a W&B server locally: https://wandb.me/wandb-server)\n",
            "\u001b[34m\u001b[1mwandb\u001b[0m: You can find your API key in your browser here: https://wandb.ai/authorize\n",
            "wandb: Paste an API key from your profile and hit enter, or press ctrl+c to quit:"
          ]
        },
        {
          "name": "stdout",
          "output_type": "stream",
          "text": [
            " ··········\n"
          ]
        },
        {
          "output_type": "stream",
          "name": "stderr",
          "text": [
            "\u001b[34m\u001b[1mwandb\u001b[0m: Appending key for api.wandb.ai to your netrc file: /root/.netrc\n"
          ]
        },
        {
          "output_type": "display_data",
          "data": {
            "text/plain": [
              "<IPython.core.display.HTML object>"
            ],
            "text/html": [
              "Tracking run with wandb version 0.19.1"
            ]
          },
          "metadata": {}
        },
        {
          "output_type": "display_data",
          "data": {
            "text/plain": [
              "<IPython.core.display.HTML object>"
            ],
            "text/html": [
              "Run data is saved locally in <code>/content/wandb/run-20250109_090642-p49m613i</code>"
            ]
          },
          "metadata": {}
        },
        {
          "output_type": "display_data",
          "data": {
            "text/plain": [
              "<IPython.core.display.HTML object>"
            ],
            "text/html": [
              "Syncing run <strong><a href='https://wandb.ai/mehakgam-ironhack/huggingface/runs/p49m613i' target=\"_blank\">./results</a></strong> to <a href='https://wandb.ai/mehakgam-ironhack/huggingface' target=\"_blank\">Weights & Biases</a> (<a href='https://wandb.me/developer-guide' target=\"_blank\">docs</a>)<br>"
            ]
          },
          "metadata": {}
        },
        {
          "output_type": "display_data",
          "data": {
            "text/plain": [
              "<IPython.core.display.HTML object>"
            ],
            "text/html": [
              " View project at <a href='https://wandb.ai/mehakgam-ironhack/huggingface' target=\"_blank\">https://wandb.ai/mehakgam-ironhack/huggingface</a>"
            ]
          },
          "metadata": {}
        },
        {
          "output_type": "display_data",
          "data": {
            "text/plain": [
              "<IPython.core.display.HTML object>"
            ],
            "text/html": [
              " View run at <a href='https://wandb.ai/mehakgam-ironhack/huggingface/runs/p49m613i' target=\"_blank\">https://wandb.ai/mehakgam-ironhack/huggingface/runs/p49m613i</a>"
            ]
          },
          "metadata": {}
        },
        {
          "output_type": "display_data",
          "data": {
            "text/plain": [
              "<IPython.core.display.HTML object>"
            ],
            "text/html": [
              "\n",
              "    <div>\n",
              "      \n",
              "      <progress value='1090' max='1090' style='width:300px; height:20px; vertical-align: middle;'></progress>\n",
              "      [1090/1090 01:54, Epoch 1/1]\n",
              "    </div>\n",
              "    <table border=\"1\" class=\"dataframe\">\n",
              "  <thead>\n",
              " <tr style=\"text-align: left;\">\n",
              "      <th>Step</th>\n",
              "      <th>Training Loss</th>\n",
              "    </tr>\n",
              "  </thead>\n",
              "  <tbody>\n",
              "    <tr>\n",
              "      <td>500</td>\n",
              "      <td>0.193100</td>\n",
              "    </tr>\n",
              "    <tr>\n",
              "      <td>1000</td>\n",
              "      <td>0.000800</td>\n",
              "    </tr>\n",
              "  </tbody>\n",
              "</table><p>"
            ]
          },
          "metadata": {}
        },
        {
          "output_type": "stream",
          "name": "stderr",
          "text": [
            "\n",
            "\n",
            "Training completed. Do not forget to share your model on huggingface.co/models =)\n",
            "\n",
            "\n"
          ]
        },
        {
          "output_type": "execute_result",
          "data": {
            "text/plain": [
              "TrainOutput(global_step=1090, training_loss=0.08901920798790017, metrics={'train_runtime': 375.8338, 'train_samples_per_second': 23.194, 'train_steps_per_second': 2.9, 'total_flos': 87536539533312.0, 'train_loss': 0.08901920798790017, 'epoch': 1.0})"
            ]
          },
          "metadata": {},
          "execution_count": 53
        }
      ],
      "source": [
        "# Prepare dataset for fine-tuning\n",
        "summaries = [\"Excellent product with high quality.\" for _ in range(len(df))]\n",
        "dataset = ReviewsDataset(df['reviews.text'].tolist(), summaries, tokenizer)\n",
        "def collate_fn(batch):\n",
        "    return {\n",
        "        'input_ids': torch.nn.utils.rnn.pad_sequence([x['input_ids'] for x in batch], batch_first=True),\n",
        "        'attention_mask': torch.nn.utils.rnn.pad_sequence([x['attention_mask'] for x in batch], batch_first=True),\n",
        "        'labels': torch.nn.utils.rnn.pad_sequence([x['labels'] for x in batch], batch_first=True)\n",
        "    }\n",
        "\n",
        "train_dataloader = torch.utils.data.DataLoader(dataset, batch_size=8, shuffle=True, collate_fn=collate_fn)\n",
        "\n",
        "training_args = TrainingArguments(\n",
        "    output_dir=\"./results\",\n",
        "    num_train_epochs=1,\n",
        "    per_device_train_batch_size=8,\n",
        "    save_steps=10_000,\n",
        "    save_total_limit=2,\n",
        "    logging_dir=\"./logs\",\n",
        "    logging_steps=500\n",
        ")\n",
        "\n",
        "def model_init():\n",
        "    return T5ForConditionalGeneration.from_pretrained(\"t5-small\")\n",
        "\n",
        "trainer = Trainer(\n",
        "    model_init=model_init,\n",
        "    args=training_args,\n",
        "    train_dataset=dataset,\n",
        "    data_collator=collate_fn\n",
        ")\n",
        "\n",
        "trainer.train()\n"
      ]
    },
    {
      "cell_type": "code",
      "execution_count": 54,
      "metadata": {
        "colab": {
          "base_uri": "https://localhost:8080/"
        },
        "id": "5zxI3oHK54kg",
        "outputId": "15c47f43-79b7-4a83-d187-fd2128b60e4a"
      },
      "outputs": [
        {
          "output_type": "stream",
          "name": "stdout",
          "text": [
            "Generated Review: Excellent product with high quality.\n"
          ]
        }
      ],
      "source": [
        "# Test fine-tuned model on a sample\n",
        "sample_input = \"This product is amazing and exceeded all my expectations.\"\n",
        "inputs = tokenizer.encode(\"summarize: \" + sample_input, return_tensors=\"pt\")\n",
        "\n",
        "# Move inputs to the same device as the model\n",
        "if torch.cuda.is_available():\n",
        "    inputs = inputs.to(trainer.model.device)  # Move inputs to GPU\n",
        "\n",
        "predicted_summary_ids = trainer.model.generate(inputs, max_length=150, num_beams=4, early_stopping=True)\n",
        "predicted_summary = tokenizer.decode(predicted_summary_ids[0], skip_special_tokens=True)\n",
        "print(\"Generated Review:\", predicted_summary)\n"
      ]
    },
    {
      "cell_type": "code",
      "source": [
        "# Generate summaries for the fine-tuned model and evaluate using ROUGE and BLEU\n",
        "scorer = rouge_scorer.RougeScorer(['rouge1', 'rouge2', 'rougeL'], use_stemmer=True)\n",
        "reference_summary = \"Excellent product with high quality.\"\n",
        "\n",
        "# Sample input for testing the fine-tuned model\n",
        "sample_input = \"This product is amazing and exceeded all my expectations.\"\n",
        "inputs = tokenizer.encode(\"summarize: \" + sample_input, return_tensors=\"pt\")\n",
        "\n",
        "# Move inputs to the same device as the model\n",
        "if torch.cuda.is_available():\n",
        "    inputs = inputs.to(trainer.model.device)  # Move inputs to GPU if available\n",
        "\n",
        "# Generate summary from the fine-tuned model\n",
        "generated_summary_ids = trainer.model.generate(inputs, max_length=150, num_beams=4, early_stopping=True)\n",
        "generated_summary = tokenizer.decode(generated_summary_ids[0], skip_special_tokens=True)\n",
        "\n",
        "# Calculate ROUGE scores\n",
        "scores = scorer.score(reference_summary, generated_summary)\n",
        "print(\"ROUGE Scores for Fine-Tuned Model:\")\n",
        "print(f\"ROUGE-1: {scores['rouge1']}\")\n",
        "print(f\"ROUGE-2: {scores['rouge2']}\")\n",
        "print(f\"ROUGE-L: {scores['rougeL']}\")\n",
        "\n",
        "# Calculate BLEU score\n",
        "print(f\"BLEU Score for Fine-Tuned Model:\", sentence_bleu([reference_summary.split()], generated_summary.split()))"
      ],
      "metadata": {
        "colab": {
          "base_uri": "https://localhost:8080/"
        },
        "id": "af5axvpt7rt-",
        "outputId": "b5b102c3-7719-4013-a303-4cf468cf9d11"
      },
      "execution_count": 55,
      "outputs": [
        {
          "output_type": "stream",
          "name": "stdout",
          "text": [
            "ROUGE Scores for Fine-Tuned Model:\n",
            "ROUGE-1: Score(precision=1.0, recall=1.0, fmeasure=1.0)\n",
            "ROUGE-2: Score(precision=1.0, recall=1.0, fmeasure=1.0)\n",
            "ROUGE-L: Score(precision=1.0, recall=1.0, fmeasure=1.0)\n",
            "BLEU Score for Fine-Tuned Model: 1.0\n"
          ]
        }
      ]
    },
    {
      "cell_type": "code",
      "source": [
        "# Results\n",
        "# Create the missing columns in the DataFrame\n",
        "df['reviews.text_clean'] = df['reviews.text'].apply(preprocess_text) # Applying preprocess_text to 'reviews.text' to create 'reviews.text_clean'\n",
        "df['generated_summary'] = generated_summary  # Assigning the generated summary to a new column\n",
        "df['bleu_score'] = sentence_bleu([reference_summary.split()], generated_summary.split())  # Calculating and assigning BLEU score\n",
        "\n",
        "# Display the results\n",
        "print(df[['cluster', 'reviews.text_clean', 'generated_summary', 'bleu_score']])"
      ],
      "metadata": {
        "id": "0DxbYzCmV56n",
        "outputId": "a054e2f5-af22-400c-c83d-891da7d6a040",
        "colab": {
          "base_uri": "https://localhost:8080/"
        }
      },
      "execution_count": 58,
      "outputs": [
        {
          "output_type": "stream",
          "name": "stdout",
          "text": [
            "       cluster                                 reviews.text_clean  \\\n",
            "0            1  product far disappointed children love use lik...   \n",
            "1            3  great beginner experienced person bought gift ...   \n",
            "2            3  ive fire hd two weeks love tablet great valuew...   \n",
            "3            3  amazon fire inch tablet perfect size purchased...   \n",
            "4            1                 love ordering books reading reader   \n",
            "...        ...                                                ...   \n",
            "11045        0  httpswwwamazoncomamazonbasicsperformancealkali...   \n",
            "11046        0  httpswwwamazoncomamazonbasicsperformancealkali...   \n",
            "11047        0  httpswwwamazoncomamazonbasicsperformancealkali...   \n",
            "11048        0  httpswwwamazoncomamazonbasicsperformancealkali...   \n",
            "11049        0  httpswwwamazoncomamazonbasicsperformancealkali...   \n",
            "\n",
            "                          generated_summary  bleu_score  \n",
            "0      Excellent product with high quality.         1.0  \n",
            "1      Excellent product with high quality.         1.0  \n",
            "2      Excellent product with high quality.         1.0  \n",
            "3      Excellent product with high quality.         1.0  \n",
            "4      Excellent product with high quality.         1.0  \n",
            "...                                     ...         ...  \n",
            "11045  Excellent product with high quality.         1.0  \n",
            "11046  Excellent product with high quality.         1.0  \n",
            "11047  Excellent product with high quality.         1.0  \n",
            "11048  Excellent product with high quality.         1.0  \n",
            "11049  Excellent product with high quality.         1.0  \n",
            "\n",
            "[8717 rows x 4 columns]\n"
          ]
        }
      ]
    }
  ],
  "metadata": {
    "kernelspec": {
      "display_name": "Python 3",
      "name": "python3"
    },
    "language_info": {
      "codemirror_mode": {
        "name": "ipython",
        "version": 3
      },
      "file_extension": ".py",
      "mimetype": "text/x-python",
      "name": "python",
      "nbconvert_exporter": "python",
      "pygments_lexer": "ipython3",
      "version": "3.12.7"
    },
    "colab": {
      "provenance": [],
      "gpuType": "T4",
      "include_colab_link": true
    },
    "accelerator": "GPU",
    "widgets": {
      "application/vnd.jupyter.widget-state+json": {
        "13ecacacbcc14f76a7193dcf123fe350": {
          "model_module": "@jupyter-widgets/controls",
          "model_name": "HBoxModel",
          "model_module_version": "1.5.0",
          "state": {
            "_dom_classes": [],
            "_model_module": "@jupyter-widgets/controls",
            "_model_module_version": "1.5.0",
            "_model_name": "HBoxModel",
            "_view_count": null,
            "_view_module": "@jupyter-widgets/controls",
            "_view_module_version": "1.5.0",
            "_view_name": "HBoxView",
            "box_style": "",
            "children": [
              "IPY_MODEL_4015c7b766c7449480a2e13832082b0e",
              "IPY_MODEL_ddf358ea86b44559a70225d4fae530c1",
              "IPY_MODEL_a52c5e3820624a8b97c7695dc2de5612"
            ],
            "layout": "IPY_MODEL_868220dd344d414f8fcbbc6a213daf76"
          }
        },
        "4015c7b766c7449480a2e13832082b0e": {
          "model_module": "@jupyter-widgets/controls",
          "model_name": "HTMLModel",
          "model_module_version": "1.5.0",
          "state": {
            "_dom_classes": [],
            "_model_module": "@jupyter-widgets/controls",
            "_model_module_version": "1.5.0",
            "_model_name": "HTMLModel",
            "_view_count": null,
            "_view_module": "@jupyter-widgets/controls",
            "_view_module_version": "1.5.0",
            "_view_name": "HTMLView",
            "description": "",
            "description_tooltip": null,
            "layout": "IPY_MODEL_8826b43acc2f4e4f9db62313ab064021",
            "placeholder": "​",
            "style": "IPY_MODEL_6862d3f8e600477a918d1199ed171542",
            "value": "spiece.model: 100%"
          }
        },
        "ddf358ea86b44559a70225d4fae530c1": {
          "model_module": "@jupyter-widgets/controls",
          "model_name": "FloatProgressModel",
          "model_module_version": "1.5.0",
          "state": {
            "_dom_classes": [],
            "_model_module": "@jupyter-widgets/controls",
            "_model_module_version": "1.5.0",
            "_model_name": "FloatProgressModel",
            "_view_count": null,
            "_view_module": "@jupyter-widgets/controls",
            "_view_module_version": "1.5.0",
            "_view_name": "ProgressView",
            "bar_style": "success",
            "description": "",
            "description_tooltip": null,
            "layout": "IPY_MODEL_8f4b2245d77c4dfb803e9824fcfe4ce8",
            "max": 791656,
            "min": 0,
            "orientation": "horizontal",
            "style": "IPY_MODEL_be0e4b32f4944884af60a21cda983bf3",
            "value": 791656
          }
        },
        "a52c5e3820624a8b97c7695dc2de5612": {
          "model_module": "@jupyter-widgets/controls",
          "model_name": "HTMLModel",
          "model_module_version": "1.5.0",
          "state": {
            "_dom_classes": [],
            "_model_module": "@jupyter-widgets/controls",
            "_model_module_version": "1.5.0",
            "_model_name": "HTMLModel",
            "_view_count": null,
            "_view_module": "@jupyter-widgets/controls",
            "_view_module_version": "1.5.0",
            "_view_name": "HTMLView",
            "description": "",
            "description_tooltip": null,
            "layout": "IPY_MODEL_631b4adf383549f483aaa131515b60fc",
            "placeholder": "​",
            "style": "IPY_MODEL_520a5a105fac4d7fac0cf5822e36f611",
            "value": " 792k/792k [00:00&lt;00:00, 3.69MB/s]"
          }
        },
        "868220dd344d414f8fcbbc6a213daf76": {
          "model_module": "@jupyter-widgets/base",
          "model_name": "LayoutModel",
          "model_module_version": "1.2.0",
          "state": {
            "_model_module": "@jupyter-widgets/base",
            "_model_module_version": "1.2.0",
            "_model_name": "LayoutModel",
            "_view_count": null,
            "_view_module": "@jupyter-widgets/base",
            "_view_module_version": "1.2.0",
            "_view_name": "LayoutView",
            "align_content": null,
            "align_items": null,
            "align_self": null,
            "border": null,
            "bottom": null,
            "display": null,
            "flex": null,
            "flex_flow": null,
            "grid_area": null,
            "grid_auto_columns": null,
            "grid_auto_flow": null,
            "grid_auto_rows": null,
            "grid_column": null,
            "grid_gap": null,
            "grid_row": null,
            "grid_template_areas": null,
            "grid_template_columns": null,
            "grid_template_rows": null,
            "height": null,
            "justify_content": null,
            "justify_items": null,
            "left": null,
            "margin": null,
            "max_height": null,
            "max_width": null,
            "min_height": null,
            "min_width": null,
            "object_fit": null,
            "object_position": null,
            "order": null,
            "overflow": null,
            "overflow_x": null,
            "overflow_y": null,
            "padding": null,
            "right": null,
            "top": null,
            "visibility": null,
            "width": null
          }
        },
        "8826b43acc2f4e4f9db62313ab064021": {
          "model_module": "@jupyter-widgets/base",
          "model_name": "LayoutModel",
          "model_module_version": "1.2.0",
          "state": {
            "_model_module": "@jupyter-widgets/base",
            "_model_module_version": "1.2.0",
            "_model_name": "LayoutModel",
            "_view_count": null,
            "_view_module": "@jupyter-widgets/base",
            "_view_module_version": "1.2.0",
            "_view_name": "LayoutView",
            "align_content": null,
            "align_items": null,
            "align_self": null,
            "border": null,
            "bottom": null,
            "display": null,
            "flex": null,
            "flex_flow": null,
            "grid_area": null,
            "grid_auto_columns": null,
            "grid_auto_flow": null,
            "grid_auto_rows": null,
            "grid_column": null,
            "grid_gap": null,
            "grid_row": null,
            "grid_template_areas": null,
            "grid_template_columns": null,
            "grid_template_rows": null,
            "height": null,
            "justify_content": null,
            "justify_items": null,
            "left": null,
            "margin": null,
            "max_height": null,
            "max_width": null,
            "min_height": null,
            "min_width": null,
            "object_fit": null,
            "object_position": null,
            "order": null,
            "overflow": null,
            "overflow_x": null,
            "overflow_y": null,
            "padding": null,
            "right": null,
            "top": null,
            "visibility": null,
            "width": null
          }
        },
        "6862d3f8e600477a918d1199ed171542": {
          "model_module": "@jupyter-widgets/controls",
          "model_name": "DescriptionStyleModel",
          "model_module_version": "1.5.0",
          "state": {
            "_model_module": "@jupyter-widgets/controls",
            "_model_module_version": "1.5.0",
            "_model_name": "DescriptionStyleModel",
            "_view_count": null,
            "_view_module": "@jupyter-widgets/base",
            "_view_module_version": "1.2.0",
            "_view_name": "StyleView",
            "description_width": ""
          }
        },
        "8f4b2245d77c4dfb803e9824fcfe4ce8": {
          "model_module": "@jupyter-widgets/base",
          "model_name": "LayoutModel",
          "model_module_version": "1.2.0",
          "state": {
            "_model_module": "@jupyter-widgets/base",
            "_model_module_version": "1.2.0",
            "_model_name": "LayoutModel",
            "_view_count": null,
            "_view_module": "@jupyter-widgets/base",
            "_view_module_version": "1.2.0",
            "_view_name": "LayoutView",
            "align_content": null,
            "align_items": null,
            "align_self": null,
            "border": null,
            "bottom": null,
            "display": null,
            "flex": null,
            "flex_flow": null,
            "grid_area": null,
            "grid_auto_columns": null,
            "grid_auto_flow": null,
            "grid_auto_rows": null,
            "grid_column": null,
            "grid_gap": null,
            "grid_row": null,
            "grid_template_areas": null,
            "grid_template_columns": null,
            "grid_template_rows": null,
            "height": null,
            "justify_content": null,
            "justify_items": null,
            "left": null,
            "margin": null,
            "max_height": null,
            "max_width": null,
            "min_height": null,
            "min_width": null,
            "object_fit": null,
            "object_position": null,
            "order": null,
            "overflow": null,
            "overflow_x": null,
            "overflow_y": null,
            "padding": null,
            "right": null,
            "top": null,
            "visibility": null,
            "width": null
          }
        },
        "be0e4b32f4944884af60a21cda983bf3": {
          "model_module": "@jupyter-widgets/controls",
          "model_name": "ProgressStyleModel",
          "model_module_version": "1.5.0",
          "state": {
            "_model_module": "@jupyter-widgets/controls",
            "_model_module_version": "1.5.0",
            "_model_name": "ProgressStyleModel",
            "_view_count": null,
            "_view_module": "@jupyter-widgets/base",
            "_view_module_version": "1.2.0",
            "_view_name": "StyleView",
            "bar_color": null,
            "description_width": ""
          }
        },
        "631b4adf383549f483aaa131515b60fc": {
          "model_module": "@jupyter-widgets/base",
          "model_name": "LayoutModel",
          "model_module_version": "1.2.0",
          "state": {
            "_model_module": "@jupyter-widgets/base",
            "_model_module_version": "1.2.0",
            "_model_name": "LayoutModel",
            "_view_count": null,
            "_view_module": "@jupyter-widgets/base",
            "_view_module_version": "1.2.0",
            "_view_name": "LayoutView",
            "align_content": null,
            "align_items": null,
            "align_self": null,
            "border": null,
            "bottom": null,
            "display": null,
            "flex": null,
            "flex_flow": null,
            "grid_area": null,
            "grid_auto_columns": null,
            "grid_auto_flow": null,
            "grid_auto_rows": null,
            "grid_column": null,
            "grid_gap": null,
            "grid_row": null,
            "grid_template_areas": null,
            "grid_template_columns": null,
            "grid_template_rows": null,
            "height": null,
            "justify_content": null,
            "justify_items": null,
            "left": null,
            "margin": null,
            "max_height": null,
            "max_width": null,
            "min_height": null,
            "min_width": null,
            "object_fit": null,
            "object_position": null,
            "order": null,
            "overflow": null,
            "overflow_x": null,
            "overflow_y": null,
            "padding": null,
            "right": null,
            "top": null,
            "visibility": null,
            "width": null
          }
        },
        "520a5a105fac4d7fac0cf5822e36f611": {
          "model_module": "@jupyter-widgets/controls",
          "model_name": "DescriptionStyleModel",
          "model_module_version": "1.5.0",
          "state": {
            "_model_module": "@jupyter-widgets/controls",
            "_model_module_version": "1.5.0",
            "_model_name": "DescriptionStyleModel",
            "_view_count": null,
            "_view_module": "@jupyter-widgets/base",
            "_view_module_version": "1.2.0",
            "_view_name": "StyleView",
            "description_width": ""
          }
        },
        "8743926d864347c8835e0b5e07ed79e6": {
          "model_module": "@jupyter-widgets/controls",
          "model_name": "HBoxModel",
          "model_module_version": "1.5.0",
          "state": {
            "_dom_classes": [],
            "_model_module": "@jupyter-widgets/controls",
            "_model_module_version": "1.5.0",
            "_model_name": "HBoxModel",
            "_view_count": null,
            "_view_module": "@jupyter-widgets/controls",
            "_view_module_version": "1.5.0",
            "_view_name": "HBoxView",
            "box_style": "",
            "children": [
              "IPY_MODEL_8b01bdd11da749a4b48e57687a2f6745",
              "IPY_MODEL_7fdb0565170c4825842a6224282748a5",
              "IPY_MODEL_4219e44d819d454686a02434f58d5145"
            ],
            "layout": "IPY_MODEL_108e3871ed0f410da04011e1b6f3955a"
          }
        },
        "8b01bdd11da749a4b48e57687a2f6745": {
          "model_module": "@jupyter-widgets/controls",
          "model_name": "HTMLModel",
          "model_module_version": "1.5.0",
          "state": {
            "_dom_classes": [],
            "_model_module": "@jupyter-widgets/controls",
            "_model_module_version": "1.5.0",
            "_model_name": "HTMLModel",
            "_view_count": null,
            "_view_module": "@jupyter-widgets/controls",
            "_view_module_version": "1.5.0",
            "_view_name": "HTMLView",
            "description": "",
            "description_tooltip": null,
            "layout": "IPY_MODEL_09d8c1aa45a54c69a28a46e46ccd3339",
            "placeholder": "​",
            "style": "IPY_MODEL_1b87cc06a6c84a8badfc80886d5217a0",
            "value": "tokenizer_config.json: 100%"
          }
        },
        "7fdb0565170c4825842a6224282748a5": {
          "model_module": "@jupyter-widgets/controls",
          "model_name": "FloatProgressModel",
          "model_module_version": "1.5.0",
          "state": {
            "_dom_classes": [],
            "_model_module": "@jupyter-widgets/controls",
            "_model_module_version": "1.5.0",
            "_model_name": "FloatProgressModel",
            "_view_count": null,
            "_view_module": "@jupyter-widgets/controls",
            "_view_module_version": "1.5.0",
            "_view_name": "ProgressView",
            "bar_style": "success",
            "description": "",
            "description_tooltip": null,
            "layout": "IPY_MODEL_bd5d7ca5d65245d9ac5854b11453e2fd",
            "max": 2324,
            "min": 0,
            "orientation": "horizontal",
            "style": "IPY_MODEL_3bcd5784ea5b4593828a5d883e633361",
            "value": 2324
          }
        },
        "4219e44d819d454686a02434f58d5145": {
          "model_module": "@jupyter-widgets/controls",
          "model_name": "HTMLModel",
          "model_module_version": "1.5.0",
          "state": {
            "_dom_classes": [],
            "_model_module": "@jupyter-widgets/controls",
            "_model_module_version": "1.5.0",
            "_model_name": "HTMLModel",
            "_view_count": null,
            "_view_module": "@jupyter-widgets/controls",
            "_view_module_version": "1.5.0",
            "_view_name": "HTMLView",
            "description": "",
            "description_tooltip": null,
            "layout": "IPY_MODEL_b3d65c1397b44ccb92bdfdea47bab824",
            "placeholder": "​",
            "style": "IPY_MODEL_e82f44f882a84ece8f8621cb70dcf1d3",
            "value": " 2.32k/2.32k [00:00&lt;00:00, 80.5kB/s]"
          }
        },
        "108e3871ed0f410da04011e1b6f3955a": {
          "model_module": "@jupyter-widgets/base",
          "model_name": "LayoutModel",
          "model_module_version": "1.2.0",
          "state": {
            "_model_module": "@jupyter-widgets/base",
            "_model_module_version": "1.2.0",
            "_model_name": "LayoutModel",
            "_view_count": null,
            "_view_module": "@jupyter-widgets/base",
            "_view_module_version": "1.2.0",
            "_view_name": "LayoutView",
            "align_content": null,
            "align_items": null,
            "align_self": null,
            "border": null,
            "bottom": null,
            "display": null,
            "flex": null,
            "flex_flow": null,
            "grid_area": null,
            "grid_auto_columns": null,
            "grid_auto_flow": null,
            "grid_auto_rows": null,
            "grid_column": null,
            "grid_gap": null,
            "grid_row": null,
            "grid_template_areas": null,
            "grid_template_columns": null,
            "grid_template_rows": null,
            "height": null,
            "justify_content": null,
            "justify_items": null,
            "left": null,
            "margin": null,
            "max_height": null,
            "max_width": null,
            "min_height": null,
            "min_width": null,
            "object_fit": null,
            "object_position": null,
            "order": null,
            "overflow": null,
            "overflow_x": null,
            "overflow_y": null,
            "padding": null,
            "right": null,
            "top": null,
            "visibility": null,
            "width": null
          }
        },
        "09d8c1aa45a54c69a28a46e46ccd3339": {
          "model_module": "@jupyter-widgets/base",
          "model_name": "LayoutModel",
          "model_module_version": "1.2.0",
          "state": {
            "_model_module": "@jupyter-widgets/base",
            "_model_module_version": "1.2.0",
            "_model_name": "LayoutModel",
            "_view_count": null,
            "_view_module": "@jupyter-widgets/base",
            "_view_module_version": "1.2.0",
            "_view_name": "LayoutView",
            "align_content": null,
            "align_items": null,
            "align_self": null,
            "border": null,
            "bottom": null,
            "display": null,
            "flex": null,
            "flex_flow": null,
            "grid_area": null,
            "grid_auto_columns": null,
            "grid_auto_flow": null,
            "grid_auto_rows": null,
            "grid_column": null,
            "grid_gap": null,
            "grid_row": null,
            "grid_template_areas": null,
            "grid_template_columns": null,
            "grid_template_rows": null,
            "height": null,
            "justify_content": null,
            "justify_items": null,
            "left": null,
            "margin": null,
            "max_height": null,
            "max_width": null,
            "min_height": null,
            "min_width": null,
            "object_fit": null,
            "object_position": null,
            "order": null,
            "overflow": null,
            "overflow_x": null,
            "overflow_y": null,
            "padding": null,
            "right": null,
            "top": null,
            "visibility": null,
            "width": null
          }
        },
        "1b87cc06a6c84a8badfc80886d5217a0": {
          "model_module": "@jupyter-widgets/controls",
          "model_name": "DescriptionStyleModel",
          "model_module_version": "1.5.0",
          "state": {
            "_model_module": "@jupyter-widgets/controls",
            "_model_module_version": "1.5.0",
            "_model_name": "DescriptionStyleModel",
            "_view_count": null,
            "_view_module": "@jupyter-widgets/base",
            "_view_module_version": "1.2.0",
            "_view_name": "StyleView",
            "description_width": ""
          }
        },
        "bd5d7ca5d65245d9ac5854b11453e2fd": {
          "model_module": "@jupyter-widgets/base",
          "model_name": "LayoutModel",
          "model_module_version": "1.2.0",
          "state": {
            "_model_module": "@jupyter-widgets/base",
            "_model_module_version": "1.2.0",
            "_model_name": "LayoutModel",
            "_view_count": null,
            "_view_module": "@jupyter-widgets/base",
            "_view_module_version": "1.2.0",
            "_view_name": "LayoutView",
            "align_content": null,
            "align_items": null,
            "align_self": null,
            "border": null,
            "bottom": null,
            "display": null,
            "flex": null,
            "flex_flow": null,
            "grid_area": null,
            "grid_auto_columns": null,
            "grid_auto_flow": null,
            "grid_auto_rows": null,
            "grid_column": null,
            "grid_gap": null,
            "grid_row": null,
            "grid_template_areas": null,
            "grid_template_columns": null,
            "grid_template_rows": null,
            "height": null,
            "justify_content": null,
            "justify_items": null,
            "left": null,
            "margin": null,
            "max_height": null,
            "max_width": null,
            "min_height": null,
            "min_width": null,
            "object_fit": null,
            "object_position": null,
            "order": null,
            "overflow": null,
            "overflow_x": null,
            "overflow_y": null,
            "padding": null,
            "right": null,
            "top": null,
            "visibility": null,
            "width": null
          }
        },
        "3bcd5784ea5b4593828a5d883e633361": {
          "model_module": "@jupyter-widgets/controls",
          "model_name": "ProgressStyleModel",
          "model_module_version": "1.5.0",
          "state": {
            "_model_module": "@jupyter-widgets/controls",
            "_model_module_version": "1.5.0",
            "_model_name": "ProgressStyleModel",
            "_view_count": null,
            "_view_module": "@jupyter-widgets/base",
            "_view_module_version": "1.2.0",
            "_view_name": "StyleView",
            "bar_color": null,
            "description_width": ""
          }
        },
        "b3d65c1397b44ccb92bdfdea47bab824": {
          "model_module": "@jupyter-widgets/base",
          "model_name": "LayoutModel",
          "model_module_version": "1.2.0",
          "state": {
            "_model_module": "@jupyter-widgets/base",
            "_model_module_version": "1.2.0",
            "_model_name": "LayoutModel",
            "_view_count": null,
            "_view_module": "@jupyter-widgets/base",
            "_view_module_version": "1.2.0",
            "_view_name": "LayoutView",
            "align_content": null,
            "align_items": null,
            "align_self": null,
            "border": null,
            "bottom": null,
            "display": null,
            "flex": null,
            "flex_flow": null,
            "grid_area": null,
            "grid_auto_columns": null,
            "grid_auto_flow": null,
            "grid_auto_rows": null,
            "grid_column": null,
            "grid_gap": null,
            "grid_row": null,
            "grid_template_areas": null,
            "grid_template_columns": null,
            "grid_template_rows": null,
            "height": null,
            "justify_content": null,
            "justify_items": null,
            "left": null,
            "margin": null,
            "max_height": null,
            "max_width": null,
            "min_height": null,
            "min_width": null,
            "object_fit": null,
            "object_position": null,
            "order": null,
            "overflow": null,
            "overflow_x": null,
            "overflow_y": null,
            "padding": null,
            "right": null,
            "top": null,
            "visibility": null,
            "width": null
          }
        },
        "e82f44f882a84ece8f8621cb70dcf1d3": {
          "model_module": "@jupyter-widgets/controls",
          "model_name": "DescriptionStyleModel",
          "model_module_version": "1.5.0",
          "state": {
            "_model_module": "@jupyter-widgets/controls",
            "_model_module_version": "1.5.0",
            "_model_name": "DescriptionStyleModel",
            "_view_count": null,
            "_view_module": "@jupyter-widgets/base",
            "_view_module_version": "1.2.0",
            "_view_name": "StyleView",
            "description_width": ""
          }
        },
        "bae2f43224434cc8aad7e9d91c6e097a": {
          "model_module": "@jupyter-widgets/controls",
          "model_name": "HBoxModel",
          "model_module_version": "1.5.0",
          "state": {
            "_dom_classes": [],
            "_model_module": "@jupyter-widgets/controls",
            "_model_module_version": "1.5.0",
            "_model_name": "HBoxModel",
            "_view_count": null,
            "_view_module": "@jupyter-widgets/controls",
            "_view_module_version": "1.5.0",
            "_view_name": "HBoxView",
            "box_style": "",
            "children": [
              "IPY_MODEL_f2291250c02344eb99c0dffc3f6586ff",
              "IPY_MODEL_e4305f34edc94ca0b122295477328c01",
              "IPY_MODEL_65cde176893447fe976fbd88d9236ab1"
            ],
            "layout": "IPY_MODEL_242aaecfb91d435789f090bb25b83ee7"
          }
        },
        "f2291250c02344eb99c0dffc3f6586ff": {
          "model_module": "@jupyter-widgets/controls",
          "model_name": "HTMLModel",
          "model_module_version": "1.5.0",
          "state": {
            "_dom_classes": [],
            "_model_module": "@jupyter-widgets/controls",
            "_model_module_version": "1.5.0",
            "_model_name": "HTMLModel",
            "_view_count": null,
            "_view_module": "@jupyter-widgets/controls",
            "_view_module_version": "1.5.0",
            "_view_name": "HTMLView",
            "description": "",
            "description_tooltip": null,
            "layout": "IPY_MODEL_40999fae96a7491ab2cbe50c4a818c40",
            "placeholder": "​",
            "style": "IPY_MODEL_b506eba5d26c4a0e98a6b5e85a1f3d89",
            "value": "config.json: 100%"
          }
        },
        "e4305f34edc94ca0b122295477328c01": {
          "model_module": "@jupyter-widgets/controls",
          "model_name": "FloatProgressModel",
          "model_module_version": "1.5.0",
          "state": {
            "_dom_classes": [],
            "_model_module": "@jupyter-widgets/controls",
            "_model_module_version": "1.5.0",
            "_model_name": "FloatProgressModel",
            "_view_count": null,
            "_view_module": "@jupyter-widgets/controls",
            "_view_module_version": "1.5.0",
            "_view_name": "ProgressView",
            "bar_style": "success",
            "description": "",
            "description_tooltip": null,
            "layout": "IPY_MODEL_b93b084de7b0435295f5ffb32f63e1e4",
            "max": 1206,
            "min": 0,
            "orientation": "horizontal",
            "style": "IPY_MODEL_a22f9de5a34645d5be597e5eecda948f",
            "value": 1206
          }
        },
        "65cde176893447fe976fbd88d9236ab1": {
          "model_module": "@jupyter-widgets/controls",
          "model_name": "HTMLModel",
          "model_module_version": "1.5.0",
          "state": {
            "_dom_classes": [],
            "_model_module": "@jupyter-widgets/controls",
            "_model_module_version": "1.5.0",
            "_model_name": "HTMLModel",
            "_view_count": null,
            "_view_module": "@jupyter-widgets/controls",
            "_view_module_version": "1.5.0",
            "_view_name": "HTMLView",
            "description": "",
            "description_tooltip": null,
            "layout": "IPY_MODEL_2674701592604b788c32d2a89585220a",
            "placeholder": "​",
            "style": "IPY_MODEL_61902d173fc046ab9f682934c79f8dd3",
            "value": " 1.21k/1.21k [00:00&lt;00:00, 43.6kB/s]"
          }
        },
        "242aaecfb91d435789f090bb25b83ee7": {
          "model_module": "@jupyter-widgets/base",
          "model_name": "LayoutModel",
          "model_module_version": "1.2.0",
          "state": {
            "_model_module": "@jupyter-widgets/base",
            "_model_module_version": "1.2.0",
            "_model_name": "LayoutModel",
            "_view_count": null,
            "_view_module": "@jupyter-widgets/base",
            "_view_module_version": "1.2.0",
            "_view_name": "LayoutView",
            "align_content": null,
            "align_items": null,
            "align_self": null,
            "border": null,
            "bottom": null,
            "display": null,
            "flex": null,
            "flex_flow": null,
            "grid_area": null,
            "grid_auto_columns": null,
            "grid_auto_flow": null,
            "grid_auto_rows": null,
            "grid_column": null,
            "grid_gap": null,
            "grid_row": null,
            "grid_template_areas": null,
            "grid_template_columns": null,
            "grid_template_rows": null,
            "height": null,
            "justify_content": null,
            "justify_items": null,
            "left": null,
            "margin": null,
            "max_height": null,
            "max_width": null,
            "min_height": null,
            "min_width": null,
            "object_fit": null,
            "object_position": null,
            "order": null,
            "overflow": null,
            "overflow_x": null,
            "overflow_y": null,
            "padding": null,
            "right": null,
            "top": null,
            "visibility": null,
            "width": null
          }
        },
        "40999fae96a7491ab2cbe50c4a818c40": {
          "model_module": "@jupyter-widgets/base",
          "model_name": "LayoutModel",
          "model_module_version": "1.2.0",
          "state": {
            "_model_module": "@jupyter-widgets/base",
            "_model_module_version": "1.2.0",
            "_model_name": "LayoutModel",
            "_view_count": null,
            "_view_module": "@jupyter-widgets/base",
            "_view_module_version": "1.2.0",
            "_view_name": "LayoutView",
            "align_content": null,
            "align_items": null,
            "align_self": null,
            "border": null,
            "bottom": null,
            "display": null,
            "flex": null,
            "flex_flow": null,
            "grid_area": null,
            "grid_auto_columns": null,
            "grid_auto_flow": null,
            "grid_auto_rows": null,
            "grid_column": null,
            "grid_gap": null,
            "grid_row": null,
            "grid_template_areas": null,
            "grid_template_columns": null,
            "grid_template_rows": null,
            "height": null,
            "justify_content": null,
            "justify_items": null,
            "left": null,
            "margin": null,
            "max_height": null,
            "max_width": null,
            "min_height": null,
            "min_width": null,
            "object_fit": null,
            "object_position": null,
            "order": null,
            "overflow": null,
            "overflow_x": null,
            "overflow_y": null,
            "padding": null,
            "right": null,
            "top": null,
            "visibility": null,
            "width": null
          }
        },
        "b506eba5d26c4a0e98a6b5e85a1f3d89": {
          "model_module": "@jupyter-widgets/controls",
          "model_name": "DescriptionStyleModel",
          "model_module_version": "1.5.0",
          "state": {
            "_model_module": "@jupyter-widgets/controls",
            "_model_module_version": "1.5.0",
            "_model_name": "DescriptionStyleModel",
            "_view_count": null,
            "_view_module": "@jupyter-widgets/base",
            "_view_module_version": "1.2.0",
            "_view_name": "StyleView",
            "description_width": ""
          }
        },
        "b93b084de7b0435295f5ffb32f63e1e4": {
          "model_module": "@jupyter-widgets/base",
          "model_name": "LayoutModel",
          "model_module_version": "1.2.0",
          "state": {
            "_model_module": "@jupyter-widgets/base",
            "_model_module_version": "1.2.0",
            "_model_name": "LayoutModel",
            "_view_count": null,
            "_view_module": "@jupyter-widgets/base",
            "_view_module_version": "1.2.0",
            "_view_name": "LayoutView",
            "align_content": null,
            "align_items": null,
            "align_self": null,
            "border": null,
            "bottom": null,
            "display": null,
            "flex": null,
            "flex_flow": null,
            "grid_area": null,
            "grid_auto_columns": null,
            "grid_auto_flow": null,
            "grid_auto_rows": null,
            "grid_column": null,
            "grid_gap": null,
            "grid_row": null,
            "grid_template_areas": null,
            "grid_template_columns": null,
            "grid_template_rows": null,
            "height": null,
            "justify_content": null,
            "justify_items": null,
            "left": null,
            "margin": null,
            "max_height": null,
            "max_width": null,
            "min_height": null,
            "min_width": null,
            "object_fit": null,
            "object_position": null,
            "order": null,
            "overflow": null,
            "overflow_x": null,
            "overflow_y": null,
            "padding": null,
            "right": null,
            "top": null,
            "visibility": null,
            "width": null
          }
        },
        "a22f9de5a34645d5be597e5eecda948f": {
          "model_module": "@jupyter-widgets/controls",
          "model_name": "ProgressStyleModel",
          "model_module_version": "1.5.0",
          "state": {
            "_model_module": "@jupyter-widgets/controls",
            "_model_module_version": "1.5.0",
            "_model_name": "ProgressStyleModel",
            "_view_count": null,
            "_view_module": "@jupyter-widgets/base",
            "_view_module_version": "1.2.0",
            "_view_name": "StyleView",
            "bar_color": null,
            "description_width": ""
          }
        },
        "2674701592604b788c32d2a89585220a": {
          "model_module": "@jupyter-widgets/base",
          "model_name": "LayoutModel",
          "model_module_version": "1.2.0",
          "state": {
            "_model_module": "@jupyter-widgets/base",
            "_model_module_version": "1.2.0",
            "_model_name": "LayoutModel",
            "_view_count": null,
            "_view_module": "@jupyter-widgets/base",
            "_view_module_version": "1.2.0",
            "_view_name": "LayoutView",
            "align_content": null,
            "align_items": null,
            "align_self": null,
            "border": null,
            "bottom": null,
            "display": null,
            "flex": null,
            "flex_flow": null,
            "grid_area": null,
            "grid_auto_columns": null,
            "grid_auto_flow": null,
            "grid_auto_rows": null,
            "grid_column": null,
            "grid_gap": null,
            "grid_row": null,
            "grid_template_areas": null,
            "grid_template_columns": null,
            "grid_template_rows": null,
            "height": null,
            "justify_content": null,
            "justify_items": null,
            "left": null,
            "margin": null,
            "max_height": null,
            "max_width": null,
            "min_height": null,
            "min_width": null,
            "object_fit": null,
            "object_position": null,
            "order": null,
            "overflow": null,
            "overflow_x": null,
            "overflow_y": null,
            "padding": null,
            "right": null,
            "top": null,
            "visibility": null,
            "width": null
          }
        },
        "61902d173fc046ab9f682934c79f8dd3": {
          "model_module": "@jupyter-widgets/controls",
          "model_name": "DescriptionStyleModel",
          "model_module_version": "1.5.0",
          "state": {
            "_model_module": "@jupyter-widgets/controls",
            "_model_module_version": "1.5.0",
            "_model_name": "DescriptionStyleModel",
            "_view_count": null,
            "_view_module": "@jupyter-widgets/base",
            "_view_module_version": "1.2.0",
            "_view_name": "StyleView",
            "description_width": ""
          }
        },
        "890ee5d5a574454783dc592470f464d8": {
          "model_module": "@jupyter-widgets/controls",
          "model_name": "HBoxModel",
          "model_module_version": "1.5.0",
          "state": {
            "_dom_classes": [],
            "_model_module": "@jupyter-widgets/controls",
            "_model_module_version": "1.5.0",
            "_model_name": "HBoxModel",
            "_view_count": null,
            "_view_module": "@jupyter-widgets/controls",
            "_view_module_version": "1.5.0",
            "_view_name": "HBoxView",
            "box_style": "",
            "children": [
              "IPY_MODEL_5acac4e8e4fc48738a48dae6c78f2d30",
              "IPY_MODEL_509a0c299bf247d782829657492c17c1",
              "IPY_MODEL_64be218561a5479d8d0a139f746d3ea3"
            ],
            "layout": "IPY_MODEL_a87ae141ff734af290a415208943d83e"
          }
        },
        "5acac4e8e4fc48738a48dae6c78f2d30": {
          "model_module": "@jupyter-widgets/controls",
          "model_name": "HTMLModel",
          "model_module_version": "1.5.0",
          "state": {
            "_dom_classes": [],
            "_model_module": "@jupyter-widgets/controls",
            "_model_module_version": "1.5.0",
            "_model_name": "HTMLModel",
            "_view_count": null,
            "_view_module": "@jupyter-widgets/controls",
            "_view_module_version": "1.5.0",
            "_view_name": "HTMLView",
            "description": "",
            "description_tooltip": null,
            "layout": "IPY_MODEL_71512abcbe8f4d27ac3d7926c2d97a67",
            "placeholder": "​",
            "style": "IPY_MODEL_7a09f91a649a4397bc7f36c71202aec4",
            "value": "model.safetensors: 100%"
          }
        },
        "509a0c299bf247d782829657492c17c1": {
          "model_module": "@jupyter-widgets/controls",
          "model_name": "FloatProgressModel",
          "model_module_version": "1.5.0",
          "state": {
            "_dom_classes": [],
            "_model_module": "@jupyter-widgets/controls",
            "_model_module_version": "1.5.0",
            "_model_name": "FloatProgressModel",
            "_view_count": null,
            "_view_module": "@jupyter-widgets/controls",
            "_view_module_version": "1.5.0",
            "_view_name": "ProgressView",
            "bar_style": "success",
            "description": "",
            "description_tooltip": null,
            "layout": "IPY_MODEL_006d2cf8baa64b00966d37f745d92884",
            "max": 242043056,
            "min": 0,
            "orientation": "horizontal",
            "style": "IPY_MODEL_408d627fad23473cb77291dd07a7da5e",
            "value": 242043056
          }
        },
        "64be218561a5479d8d0a139f746d3ea3": {
          "model_module": "@jupyter-widgets/controls",
          "model_name": "HTMLModel",
          "model_module_version": "1.5.0",
          "state": {
            "_dom_classes": [],
            "_model_module": "@jupyter-widgets/controls",
            "_model_module_version": "1.5.0",
            "_model_name": "HTMLModel",
            "_view_count": null,
            "_view_module": "@jupyter-widgets/controls",
            "_view_module_version": "1.5.0",
            "_view_name": "HTMLView",
            "description": "",
            "description_tooltip": null,
            "layout": "IPY_MODEL_34d0788d552c42a6b7b626d53d86649a",
            "placeholder": "​",
            "style": "IPY_MODEL_90e98097ad164d9298c18973a2c226b4",
            "value": " 242M/242M [00:01&lt;00:00, 131MB/s]"
          }
        },
        "a87ae141ff734af290a415208943d83e": {
          "model_module": "@jupyter-widgets/base",
          "model_name": "LayoutModel",
          "model_module_version": "1.2.0",
          "state": {
            "_model_module": "@jupyter-widgets/base",
            "_model_module_version": "1.2.0",
            "_model_name": "LayoutModel",
            "_view_count": null,
            "_view_module": "@jupyter-widgets/base",
            "_view_module_version": "1.2.0",
            "_view_name": "LayoutView",
            "align_content": null,
            "align_items": null,
            "align_self": null,
            "border": null,
            "bottom": null,
            "display": null,
            "flex": null,
            "flex_flow": null,
            "grid_area": null,
            "grid_auto_columns": null,
            "grid_auto_flow": null,
            "grid_auto_rows": null,
            "grid_column": null,
            "grid_gap": null,
            "grid_row": null,
            "grid_template_areas": null,
            "grid_template_columns": null,
            "grid_template_rows": null,
            "height": null,
            "justify_content": null,
            "justify_items": null,
            "left": null,
            "margin": null,
            "max_height": null,
            "max_width": null,
            "min_height": null,
            "min_width": null,
            "object_fit": null,
            "object_position": null,
            "order": null,
            "overflow": null,
            "overflow_x": null,
            "overflow_y": null,
            "padding": null,
            "right": null,
            "top": null,
            "visibility": null,
            "width": null
          }
        },
        "71512abcbe8f4d27ac3d7926c2d97a67": {
          "model_module": "@jupyter-widgets/base",
          "model_name": "LayoutModel",
          "model_module_version": "1.2.0",
          "state": {
            "_model_module": "@jupyter-widgets/base",
            "_model_module_version": "1.2.0",
            "_model_name": "LayoutModel",
            "_view_count": null,
            "_view_module": "@jupyter-widgets/base",
            "_view_module_version": "1.2.0",
            "_view_name": "LayoutView",
            "align_content": null,
            "align_items": null,
            "align_self": null,
            "border": null,
            "bottom": null,
            "display": null,
            "flex": null,
            "flex_flow": null,
            "grid_area": null,
            "grid_auto_columns": null,
            "grid_auto_flow": null,
            "grid_auto_rows": null,
            "grid_column": null,
            "grid_gap": null,
            "grid_row": null,
            "grid_template_areas": null,
            "grid_template_columns": null,
            "grid_template_rows": null,
            "height": null,
            "justify_content": null,
            "justify_items": null,
            "left": null,
            "margin": null,
            "max_height": null,
            "max_width": null,
            "min_height": null,
            "min_width": null,
            "object_fit": null,
            "object_position": null,
            "order": null,
            "overflow": null,
            "overflow_x": null,
            "overflow_y": null,
            "padding": null,
            "right": null,
            "top": null,
            "visibility": null,
            "width": null
          }
        },
        "7a09f91a649a4397bc7f36c71202aec4": {
          "model_module": "@jupyter-widgets/controls",
          "model_name": "DescriptionStyleModel",
          "model_module_version": "1.5.0",
          "state": {
            "_model_module": "@jupyter-widgets/controls",
            "_model_module_version": "1.5.0",
            "_model_name": "DescriptionStyleModel",
            "_view_count": null,
            "_view_module": "@jupyter-widgets/base",
            "_view_module_version": "1.2.0",
            "_view_name": "StyleView",
            "description_width": ""
          }
        },
        "006d2cf8baa64b00966d37f745d92884": {
          "model_module": "@jupyter-widgets/base",
          "model_name": "LayoutModel",
          "model_module_version": "1.2.0",
          "state": {
            "_model_module": "@jupyter-widgets/base",
            "_model_module_version": "1.2.0",
            "_model_name": "LayoutModel",
            "_view_count": null,
            "_view_module": "@jupyter-widgets/base",
            "_view_module_version": "1.2.0",
            "_view_name": "LayoutView",
            "align_content": null,
            "align_items": null,
            "align_self": null,
            "border": null,
            "bottom": null,
            "display": null,
            "flex": null,
            "flex_flow": null,
            "grid_area": null,
            "grid_auto_columns": null,
            "grid_auto_flow": null,
            "grid_auto_rows": null,
            "grid_column": null,
            "grid_gap": null,
            "grid_row": null,
            "grid_template_areas": null,
            "grid_template_columns": null,
            "grid_template_rows": null,
            "height": null,
            "justify_content": null,
            "justify_items": null,
            "left": null,
            "margin": null,
            "max_height": null,
            "max_width": null,
            "min_height": null,
            "min_width": null,
            "object_fit": null,
            "object_position": null,
            "order": null,
            "overflow": null,
            "overflow_x": null,
            "overflow_y": null,
            "padding": null,
            "right": null,
            "top": null,
            "visibility": null,
            "width": null
          }
        },
        "408d627fad23473cb77291dd07a7da5e": {
          "model_module": "@jupyter-widgets/controls",
          "model_name": "ProgressStyleModel",
          "model_module_version": "1.5.0",
          "state": {
            "_model_module": "@jupyter-widgets/controls",
            "_model_module_version": "1.5.0",
            "_model_name": "ProgressStyleModel",
            "_view_count": null,
            "_view_module": "@jupyter-widgets/base",
            "_view_module_version": "1.2.0",
            "_view_name": "StyleView",
            "bar_color": null,
            "description_width": ""
          }
        },
        "34d0788d552c42a6b7b626d53d86649a": {
          "model_module": "@jupyter-widgets/base",
          "model_name": "LayoutModel",
          "model_module_version": "1.2.0",
          "state": {
            "_model_module": "@jupyter-widgets/base",
            "_model_module_version": "1.2.0",
            "_model_name": "LayoutModel",
            "_view_count": null,
            "_view_module": "@jupyter-widgets/base",
            "_view_module_version": "1.2.0",
            "_view_name": "LayoutView",
            "align_content": null,
            "align_items": null,
            "align_self": null,
            "border": null,
            "bottom": null,
            "display": null,
            "flex": null,
            "flex_flow": null,
            "grid_area": null,
            "grid_auto_columns": null,
            "grid_auto_flow": null,
            "grid_auto_rows": null,
            "grid_column": null,
            "grid_gap": null,
            "grid_row": null,
            "grid_template_areas": null,
            "grid_template_columns": null,
            "grid_template_rows": null,
            "height": null,
            "justify_content": null,
            "justify_items": null,
            "left": null,
            "margin": null,
            "max_height": null,
            "max_width": null,
            "min_height": null,
            "min_width": null,
            "object_fit": null,
            "object_position": null,
            "order": null,
            "overflow": null,
            "overflow_x": null,
            "overflow_y": null,
            "padding": null,
            "right": null,
            "top": null,
            "visibility": null,
            "width": null
          }
        },
        "90e98097ad164d9298c18973a2c226b4": {
          "model_module": "@jupyter-widgets/controls",
          "model_name": "DescriptionStyleModel",
          "model_module_version": "1.5.0",
          "state": {
            "_model_module": "@jupyter-widgets/controls",
            "_model_module_version": "1.5.0",
            "_model_name": "DescriptionStyleModel",
            "_view_count": null,
            "_view_module": "@jupyter-widgets/base",
            "_view_module_version": "1.2.0",
            "_view_name": "StyleView",
            "description_width": ""
          }
        }
      }
    }
  },
  "nbformat": 4,
  "nbformat_minor": 0
}